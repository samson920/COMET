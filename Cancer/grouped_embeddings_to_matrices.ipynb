{
 "cells": [
  {
   "cell_type": "code",
   "execution_count": null,
   "metadata": {
    "tags": []
   },
   "outputs": [],
   "source": [
    "import pandas as pd\n",
    "import numpy as np\n",
    "from tqdm.notebook import tqdm\n",
    "import os\n",
    "from datetime import timedelta\n",
    "import pyspark\n",
    "import dxpy\n",
    "import dxdata\n",
    "import pandas as pd\n",
    "import random\n",
    "from pyspark.sql import functions as F\n",
    "from pyspark.sql import SparkSession\n",
    "from pyspark.ml.feature import Word2Vec\n",
    "from pyspark.sql.functions import col, udf, to_date, mean, expr\n",
    "from pyspark.sql.types import StringType, ArrayType, IntegerType, DoubleType\n",
    "from pyspark.ml.feature import Word2Vec\n",
    "from pyspark.sql.window import Window\n",
    "import ast\n"
   ]
  },
  {
   "cell_type": "code",
   "execution_count": null,
   "metadata": {
    "tags": []
   },
   "outputs": [],
   "source": [
    "sc = pyspark.SparkContext()\n",
    "spark = pyspark.sql.SparkSession(sc)\n",
    "dispensed_database_name = dxpy.find_one_data_object(classname=\"database\", name=\"app*\", folder=\"/\", name_mode=\"glob\", describe=True)[\"describe\"][\"name\"]\n",
    "dispensed_dataset_id = dxpy.find_one_data_object(typename=\"Dataset\", name=\"app*.dataset\", folder=\"/\", name_mode=\"glob\")[\"id\"]\n",
    "spark.sql(\"USE \" + dispensed_database_name)"
   ]
  },
  {
   "cell_type": "markdown",
   "metadata": {},
   "source": [
    "### Omics Data"
   ]
  },
  {
   "cell_type": "code",
   "execution_count": null,
   "metadata": {
    "tags": []
   },
   "outputs": [],
   "source": [
    "#contains death records\n",
    "death = pd.read_csv('/mnt/project/death.csv').drop('Unnamed: 0',axis=1).drop_duplicates()\n",
    "death['death_date'] = pd.to_datetime(death['death_date'], yearfirst=True)"
   ]
  },
  {
   "cell_type": "code",
   "execution_count": null,
   "metadata": {
    "tags": []
   },
   "outputs": [],
   "source": [
    "#contains all cancer diagnoses for omics patients\n",
    "prot_date = pd.read_csv('/mnt/project/cancer_conds.csv', usecols=['eid','proteomics_date']).drop_duplicates()\n",
    "prot_date['proteomics_date'] = pd.to_datetime(prot_date['proteomics_date'], yearfirst=True)"
   ]
  },
  {
   "cell_type": "code",
   "execution_count": null,
   "metadata": {
    "tags": []
   },
   "outputs": [],
   "source": [
    "pdf = prot_date.merge(death, how='inner', on='eid')"
   ]
  },
  {
   "cell_type": "code",
   "execution_count": null,
   "metadata": {
    "tags": []
   },
   "outputs": [],
   "source": [
    "pdf = pdf[pdf['death_date'] <= (pdf['proteomics_date'] + pd.DateOffset(years=3))]\n",
    "pdf['indicator'] = 1"
   ]
  },
  {
   "cell_type": "code",
   "execution_count": null,
   "metadata": {
    "tags": []
   },
   "outputs": [],
   "source": [
    "patient_day_embeddings = pd.read_csv('/mnt/project/patient_day_embeddings_omics_omicsword2vec_lc.csv').drop('Unnamed: 0',axis=1)\n",
    "max_dates = 32"
   ]
  },
  {
   "cell_type": "code",
   "execution_count": null,
   "metadata": {
    "tags": []
   },
   "outputs": [],
   "source": [
    "patient_day_embeddings = patient_day_embeddings.sort_values(['eid','record_date'])"
   ]
  },
  {
   "cell_type": "code",
   "execution_count": null,
   "metadata": {
    "tags": []
   },
   "outputs": [],
   "source": [
    "unique_patients = patient_day_embeddings['eid'].nunique()"
   ]
  },
  {
   "cell_type": "code",
   "execution_count": null,
   "metadata": {
    "tags": []
   },
   "outputs": [],
   "source": [
    "#create np matrix to store input data, assign each patient to an index\n",
    "patient_id_to_index = {patient_id: index for index, patient_id in enumerate(patient_day_embeddings['eid'].unique())}\n",
    "RNN_data = np.full((400, max_dates, unique_patients), np.nan)"
   ]
  },
  {
   "cell_type": "code",
   "execution_count": null,
   "metadata": {
    "tags": []
   },
   "outputs": [],
   "source": [
    "%%time\n",
    "#populate np matrix with data\n",
    "date_position = {}\n",
    "for index, row in tqdm(patient_day_embeddings.iterrows(), total=patient_day_embeddings.shape[0]):\n",
    "    patient_id = row['eid']\n",
    "    patient_index = patient_id_to_index[patient_id]\n",
    "    \n",
    "    if patient_id not in date_position:\n",
    "        date_position[patient_id] = 0\n",
    "    else:\n",
    "        date_position[patient_id] += 1\n",
    "        \n",
    "    date_index = date_position[patient_id]\n",
    "    \n",
    "    for feature_index, feature_value in enumerate(row.drop(['eid', 'record_date'])):\n",
    "        if date_index < max_dates:\n",
    "            RNN_data[feature_index, date_index, patient_index] = feature_value\n"
   ]
  },
  {
   "cell_type": "code",
   "execution_count": null,
   "metadata": {
    "tags": []
   },
   "outputs": [],
   "source": [
    "RNN_data = RNN_data.transpose(2,1,0)\n"
   ]
  },
  {
   "cell_type": "code",
   "execution_count": null,
   "metadata": {
    "tags": []
   },
   "outputs": [],
   "source": [
    "np.save('RNN_data_omics_omicsw2v_lc.npy', RNN_data)"
   ]
  },
  {
   "cell_type": "code",
   "execution_count": null,
   "metadata": {
    "tags": []
   },
   "outputs": [],
   "source": [
    "%%bash\n",
    "dx upload RNN_data_omics_omicsw2v_lc.npy --path /"
   ]
  },
  {
   "cell_type": "code",
   "execution_count": null,
   "metadata": {
    "tags": []
   },
   "outputs": [],
   "source": [
    "pd.DataFrame([list(patient_id_to_index.keys()),list(patient_id_to_index.values())]).T.to_csv('eid_indices_omics_omicsw2v_lc.csv')\n"
   ]
  },
  {
   "cell_type": "code",
   "execution_count": null,
   "metadata": {
    "tags": []
   },
   "outputs": [],
   "source": [
    "%%bash\n",
    "dx upload eid_indices_omics_omicsw2v_lc.csv --path /"
   ]
  },
  {
   "cell_type": "code",
   "execution_count": null,
   "metadata": {
    "tags": []
   },
   "outputs": [],
   "source": [
    "np.save('./visit_count_omics_omicsw2v_lc.npy',patient_day_embeddings.groupby('eid').count().sort_values('eid')['record_date'].values)"
   ]
  },
  {
   "cell_type": "code",
   "execution_count": null,
   "metadata": {
    "tags": []
   },
   "outputs": [],
   "source": [
    "%%bash\n",
    "dx upload visit_count_omics_omicsw2v_lc.npy --path /"
   ]
  },
  {
   "cell_type": "code",
   "execution_count": null,
   "metadata": {
    "tags": []
   },
   "outputs": [],
   "source": [
    "idx_df = pd.DataFrame([list(patient_id_to_index.keys()),list(patient_id_to_index.values())]).T"
   ]
  },
  {
   "cell_type": "code",
   "execution_count": null,
   "metadata": {
    "tags": []
   },
   "outputs": [],
   "source": [
    "pdf['eid'] = pdf['eid'].astype(int)\n",
    "outcomes = idx_df.merge(pdf[['eid','indicator']], how='left', left_on=0, right_on='eid').fillna(0).sort_values(1)['indicator'].astype(int).values"
   ]
  },
  {
   "cell_type": "code",
   "execution_count": null,
   "metadata": {
    "tags": []
   },
   "outputs": [],
   "source": [
    "np.save('./outcomes_omics_omicsw2v_lc_3yr.npy', outcomes)"
   ]
  },
  {
   "cell_type": "code",
   "execution_count": null,
   "metadata": {
    "tags": []
   },
   "outputs": [],
   "source": [
    "%%bash\n",
    "dx upload outcomes_omics_omicsw2v_lc_3yr.npy --path /"
   ]
  },
  {
   "cell_type": "markdown",
   "metadata": {},
   "source": [
    "### PT Data"
   ]
  },
  {
   "cell_type": "code",
   "execution_count": null,
   "metadata": {
    "tags": []
   },
   "outputs": [],
   "source": [
    "patient_day_embeddings = pd.read_csv('/mnt/project/patient_day_embeddings_PT_lc_LARGER.csv').drop('Unnamed: 0',axis=1)\n",
    "max_dates = 32"
   ]
  },
  {
   "cell_type": "code",
   "execution_count": null,
   "metadata": {
    "tags": []
   },
   "outputs": [],
   "source": [
    "patient_day_embeddings = patient_day_embeddings.drop_duplicates(['eid','record_date'])"
   ]
  },
  {
   "cell_type": "code",
   "execution_count": null,
   "metadata": {
    "tags": []
   },
   "outputs": [],
   "source": [
    "eids_omics = pd.read_csv('/mnt/project/eid_indices_omics_omicsw2v_lc.csv')['0']"
   ]
  },
  {
   "cell_type": "code",
   "execution_count": null,
   "metadata": {
    "tags": []
   },
   "outputs": [],
   "source": [
    "patient_day_embeddings = patient_day_embeddings[~patient_day_embeddings['eid'].isin(eids_omics)]"
   ]
  },
  {
   "cell_type": "code",
   "execution_count": null,
   "metadata": {
    "tags": []
   },
   "outputs": [],
   "source": [
    "patient_day_embeddings.shape"
   ]
  },
  {
   "cell_type": "code",
   "execution_count": null,
   "metadata": {
    "tags": []
   },
   "outputs": [],
   "source": [
    "patient_day_embeddings['eid'].nunique()"
   ]
  },
  {
   "cell_type": "code",
   "execution_count": null,
   "metadata": {
    "tags": []
   },
   "outputs": [],
   "source": [
    "combined_query = spark.sql(\"\"\"\n",
    "WITH EarliestCConds AS (\n",
    "    SELECT \n",
    "        c.eid,\n",
    "        MIN(TO_DATE(c.condition_start_date, 'dd/MM/yyyy')) as earliest_cond_date\n",
    "    FROM \n",
    "        omop_condition_occurrence c\n",
    "    WHERE \n",
    "        c.condition_source_value LIKE 'C%'\n",
    "    GROUP BY \n",
    "        c.eid\n",
    "),\n",
    "FilteredPatients AS (\n",
    "    SELECT \n",
    "        ecc.eid,\n",
    "        ecc.earliest_cond_date,\n",
    "        TO_DATE(p.p53_i0, 'yyyy-MM-dd') AS proteomics_date \n",
    "    FROM \n",
    "        EarliestCConds ecc\n",
    "    INNER JOIN \n",
    "        participant_0001 p ON ecc.eid = p.eid\n",
    "    WHERE \n",
    "        ecc.earliest_cond_date <= ADD_MONTHS(TO_DATE(p.p53_i0, 'yyyy-MM-dd'), 60) AND\n",
    "        ecc.earliest_cond_date >= ADD_MONTHS(TO_DATE(p.p53_i0, 'yyyy-MM-dd'), -12)\n",
    ")\n",
    "\n",
    "SELECT DISTINCT\n",
    "    fp.eid, \n",
    "    d.death_date,\n",
    "    fp.earliest_cond_date AS proteomics_date\n",
    "FROM \n",
    "    FilteredPatients fp\n",
    "JOIN\n",
    "    omop_death d ON d.eid=fp.eid\n",
    "\n",
    "\"\"\")"
   ]
  },
  {
   "cell_type": "code",
   "execution_count": null,
   "metadata": {
    "tags": []
   },
   "outputs": [],
   "source": [
    "%%time\n",
    "#query for death data and cancer diagnosis date\n",
    "combined_query_results = combined_query.collect()"
   ]
  },
  {
   "cell_type": "code",
   "execution_count": null,
   "metadata": {
    "tags": []
   },
   "outputs": [],
   "source": [
    "%%time\n",
    "pdf = pd.DataFrame(combined_query_results, columns=[field.name for field in combined_query.schema.fields])"
   ]
  },
  {
   "cell_type": "code",
   "execution_count": null,
   "metadata": {
    "tags": []
   },
   "outputs": [],
   "source": [
    "pdf['proteomics_date'] = pd.to_datetime(pdf['proteomics_date'], yearfirst=True)\n",
    "pdf['death_date'] = pd.to_datetime(pdf['death_date'], dayfirst=True)\n",
    "pdf = pdf.drop_duplicates()\n",
    "pdf = pdf[pdf['death_date'] <= (pdf['proteomics_date'] + pd.DateOffset(years=3))]\n",
    "pdf['indicator'] = 1"
   ]
  },
  {
   "cell_type": "code",
   "execution_count": null,
   "metadata": {
    "tags": []
   },
   "outputs": [],
   "source": [
    "patient_day_embeddings = patient_day_embeddings.sort_values(['eid','record_date'])"
   ]
  },
  {
   "cell_type": "code",
   "execution_count": null,
   "metadata": {
    "tags": []
   },
   "outputs": [],
   "source": [
    "unique_patients = patient_day_embeddings['eid'].nunique()"
   ]
  },
  {
   "cell_type": "code",
   "execution_count": null,
   "metadata": {
    "tags": []
   },
   "outputs": [],
   "source": [
    "patient_id_to_index = {patient_id: index for index, patient_id in enumerate(patient_day_embeddings['eid'].unique())}\n",
    "RNN_data = np.full((400, max_dates, unique_patients), np.nan)"
   ]
  },
  {
   "cell_type": "code",
   "execution_count": null,
   "metadata": {
    "tags": []
   },
   "outputs": [],
   "source": [
    "%%time\n",
    "date_position = {}\n",
    "for index, row in tqdm(patient_day_embeddings.iterrows(), total=patient_day_embeddings.shape[0]):\n",
    "    patient_id = row['eid']\n",
    "    patient_index = patient_id_to_index[patient_id]\n",
    "    \n",
    "    if patient_id not in date_position:\n",
    "        date_position[patient_id] = 0\n",
    "    else:\n",
    "        date_position[patient_id] += 1\n",
    "        \n",
    "    date_index = date_position[patient_id]\n",
    "    \n",
    "    for feature_index, feature_value in enumerate(row.drop(['eid', 'record_date'])):\n",
    "        if date_index < max_dates:\n",
    "            RNN_data[feature_index, date_index, patient_index] = feature_value\n"
   ]
  },
  {
   "cell_type": "code",
   "execution_count": null,
   "metadata": {
    "tags": []
   },
   "outputs": [],
   "source": [
    "RNN_data = RNN_data.transpose(2,1,0)\n"
   ]
  },
  {
   "cell_type": "code",
   "execution_count": null,
   "metadata": {
    "tags": []
   },
   "outputs": [],
   "source": [
    "np.save('RNN_data_PT_lc_LARGER.npy', RNN_data)"
   ]
  },
  {
   "cell_type": "code",
   "execution_count": null,
   "metadata": {
    "tags": []
   },
   "outputs": [],
   "source": [
    "%%bash\n",
    "dx upload RNN_data_PT_lc_LARGER.npy --path /"
   ]
  },
  {
   "cell_type": "code",
   "execution_count": null,
   "metadata": {
    "tags": []
   },
   "outputs": [],
   "source": [
    "pd.DataFrame([list(patient_id_to_index.keys()),list(patient_id_to_index.values())]).T.to_csv('eid_indices_PT_lc_LARGER.csv')\n"
   ]
  },
  {
   "cell_type": "code",
   "execution_count": null,
   "metadata": {
    "tags": []
   },
   "outputs": [],
   "source": [
    "%%bash\n",
    "dx upload eid_indices_PT_lc_LARGER.csv --path /"
   ]
  },
  {
   "cell_type": "code",
   "execution_count": null,
   "metadata": {
    "tags": []
   },
   "outputs": [],
   "source": [
    "np.save('./visit_count_PT_lc_LARGER.npy',patient_day_embeddings.groupby('eid').count().sort_values('eid')['record_date'].values)"
   ]
  },
  {
   "cell_type": "code",
   "execution_count": null,
   "metadata": {
    "tags": []
   },
   "outputs": [],
   "source": [
    "%%bash\n",
    "dx upload visit_count_PT_lc_LARGER.npy --path /"
   ]
  },
  {
   "cell_type": "code",
   "execution_count": null,
   "metadata": {
    "tags": []
   },
   "outputs": [],
   "source": [
    "patient_day_embeddings['eid'].nunique()"
   ]
  },
  {
   "cell_type": "code",
   "execution_count": null,
   "metadata": {
    "tags": []
   },
   "outputs": [],
   "source": [
    "patient_day_embeddings.groupby('eid').count().sort_values('eid')['record_date'].values"
   ]
  },
  {
   "cell_type": "code",
   "execution_count": null,
   "metadata": {
    "tags": []
   },
   "outputs": [],
   "source": [
    "idx_df = pd.DataFrame([list(patient_id_to_index.keys()),list(patient_id_to_index.values())]).T"
   ]
  },
  {
   "cell_type": "code",
   "execution_count": null,
   "metadata": {
    "tags": []
   },
   "outputs": [],
   "source": [
    "#one patient has duplicated death but the two records are a day apart and doesn't affect labeling\n",
    "pdf = pdf.drop_duplicates('eid')\n"
   ]
  },
  {
   "cell_type": "code",
   "execution_count": null,
   "metadata": {
    "tags": []
   },
   "outputs": [],
   "source": [
    "pdf['eid'] = pdf['eid'].astype(int)\n",
    "outcomes = idx_df.merge(pdf[['eid','indicator']], how='left', left_on=0, right_on='eid').fillna(0).sort_values(1)['indicator'].astype(int).values"
   ]
  },
  {
   "cell_type": "code",
   "execution_count": null,
   "metadata": {
    "tags": []
   },
   "outputs": [],
   "source": [
    "outcomes.mean()"
   ]
  },
  {
   "cell_type": "code",
   "execution_count": null,
   "metadata": {
    "tags": []
   },
   "outputs": [],
   "source": [
    "np.save('./outcomes_PT_lc_LARGER.npy', outcomes)"
   ]
  },
  {
   "cell_type": "code",
   "execution_count": null,
   "metadata": {
    "tags": []
   },
   "outputs": [],
   "source": [
    "%%bash\n",
    "dx upload outcomes_PT_lc_LARGER.npy --path /"
   ]
  },
  {
   "cell_type": "code",
   "execution_count": null,
   "metadata": {
    "tags": []
   },
   "outputs": [],
   "source": [
    "len(outcomes)"
   ]
  },
  {
   "cell_type": "markdown",
   "metadata": {},
   "source": [
    "### Pull Proteomics"
   ]
  },
  {
   "cell_type": "code",
   "execution_count": null,
   "metadata": {
    "tags": []
   },
   "outputs": [],
   "source": [
    "%%time\n",
    "# Initialize Spark session\n",
    "spark = SparkSession.builder.appName(\"Proteomics Data Aggregation\").getOrCreate()\n",
    "\n",
    "# List of table names\n",
    "table_names = [f\"olink_instance_0_{str(i).zfill(4)}\" for i in range(1, 13)]\n",
    "\n",
    "# Create DataFrame for the first table\n",
    "combined_df = spark.table(table_names[0])\n",
    "\n",
    "# Join the rest of the tables\n",
    "for table_name in table_names[1:]:\n",
    "    # Join each table on 'eid'\n",
    "    next_table_df = spark.table(table_name)\n",
    "    combined_df = combined_df.join(next_table_df, \"eid\", \"left\")\n",
    "\n",
    "# Write the result to a CSV file\n",
    "combined_df.write.csv(\"all_proteomics\", header=True)\n"
   ]
  },
  {
   "cell_type": "code",
   "execution_count": null,
   "metadata": {
    "tags": []
   },
   "outputs": [],
   "source": [
    "%%bash\n",
    "hdfs dfs -ls ./all_proteomics"
   ]
  },
  {
   "cell_type": "code",
   "execution_count": null,
   "metadata": {
    "tags": []
   },
   "outputs": [],
   "source": [
    "%%bash\n",
    "hdfs dfs -get ./all_proteomics ./\n"
   ]
  },
  {
   "cell_type": "code",
   "execution_count": null,
   "metadata": {
    "tags": []
   },
   "outputs": [],
   "source": [
    "%%time\n",
    "# Directory containing your CSV files\n",
    "directory = './all_proteomics/'\n",
    "\n",
    "# Read and combine all CSV files in the directory\n",
    "all_csvs = [pd.read_csv(os.path.join(directory, file)) for file in os.listdir(directory) if file.endswith('.csv')]\n",
    "combined_df = pd.concat(all_csvs, ignore_index=True)\n",
    "\n",
    "# Write the combined DataFrame to a new CSV file\n",
    "combined_df.to_csv('./all_proteomics_lc.csv', index=False)\n"
   ]
  },
  {
   "cell_type": "code",
   "execution_count": null,
   "metadata": {
    "tags": []
   },
   "outputs": [],
   "source": [
    "%%bash\n",
    "dx upload all_proteomics_lc.csv --path /"
   ]
  },
  {
   "cell_type": "code",
   "execution_count": null,
   "metadata": {},
   "outputs": [],
   "source": []
  }
 ],
 "metadata": {
  "kernelspec": {
   "display_name": "Python 3",
   "language": "python",
   "name": "python3"
  },
  "language_info": {
   "codemirror_mode": {
    "name": "ipython",
    "version": 3
   },
   "file_extension": ".py",
   "mimetype": "text/x-python",
   "name": "python",
   "nbconvert_exporter": "python",
   "pygments_lexer": "ipython3",
   "version": "3.8.5"
  }
 },
 "nbformat": 4,
 "nbformat_minor": 4
}
