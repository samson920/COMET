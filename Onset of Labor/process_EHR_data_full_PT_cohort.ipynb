{
 "cells": [
  {
   "cell_type": "code",
   "execution_count": 1,
   "id": "87e061dd",
   "metadata": {},
   "outputs": [],
   "source": [
    "import pandas as pd\n",
    "import numpy as np\n",
    "from tqdm.notebook import tqdm\n",
    "from scipy.stats import pearsonr\n",
    "import gensim\n",
    "from gensim.models import Word2Vec\n",
    "from gensim.models.callbacks import CallbackAny2Vec\n",
    "import random\n",
    "import pickle\n",
    "import matplotlib.pyplot as plt\n",
    "import seaborn as sns\n",
    "import dask\n",
    "import dask.dataframe as dd"
   ]
  },
  {
   "cell_type": "code",
   "execution_count": 2,
   "id": "e9d808da",
   "metadata": {},
   "outputs": [
    {
     "name": "stdout",
     "output_type": "stream",
     "text": [
      "CPU times: user 19.3 ms, sys: 4.52 ms, total: 23.8 ms\n",
      "Wall time: 22.1 ms\n"
     ]
    }
   ],
   "source": [
    "%%time\n",
    "#load data\n",
    "#the person_id, concept_id, and date columns are extracted from OMOP tables for people who delivered babies at Stanford\n",
    "conds = pd.read_csv('./data/raw_data/EHR/full_EHR_cohort_conditions.csv')\n",
    "conds = conds[conds['condition_concept_id'] != 0]\n",
    "drugs = pd.read_csv('./data/raw_data/EHR/full_EHR_cohort_drugs.csv')\n",
    "drugs = drugs[drugs['drug_concept_id'] != 0]\n",
    "procs = pd.read_csv('./data/raw_data/EHR/full_EHR_cohort_procedures.csv')\n",
    "procs = procs[procs['procedure_concept_id'] != 0]\n",
    "obs = pd.read_csv('./data/raw_data/EHR/full_EHR_cohort_observations.csv')\n",
    "obs = obs[obs['observation_concept_id'] != 0]\n",
    "\n",
    "conds['condition_start_DATETIME'] = pd.to_datetime(conds['condition_start_DATETIME'])\n",
    "procs['procedure_DATETIME'] = pd.to_datetime(procs['procedure_DATETIME'])\n",
    "drugs['drug_exposure_start_DATETIME'] = pd.to_datetime(drugs['drug_exposure_start_DATETIME'])\n",
    "obs['observation_DATETIME'] = pd.to_datetime(obs['observation_DATETIME'])\n",
    "\n",
    "conds['child_birth_date'] = pd.to_datetime(conds['child_birth_date'])\n",
    "procs['child_birth_date'] = pd.to_datetime(procs['child_birth_date'])\n",
    "drugs['child_birth_date'] = pd.to_datetime(drugs['child_birth_date'])\n",
    "obs['child_birth_date'] = pd.to_datetime(obs['child_birth_date'])"
   ]
  },
  {
   "cell_type": "code",
   "execution_count": 3,
   "id": "48776334",
   "metadata": {},
   "outputs": [
    {
     "name": "stdout",
     "output_type": "stream",
     "text": [
      "CPU times: user 8.55 ms, sys: 0 ns, total: 8.55 ms\n",
      "Wall time: 6.78 ms\n"
     ]
    }
   ],
   "source": [
    "%%time\n",
    "measurements = pd.read_csv('./data/raw_data/EHR/full_EHR_cohort_measurements.csv')\n",
    "measurements = measurements[~pd.isnull(measurements['value_as_number'])]\n",
    "measurements = measurements[measurements['measurement_concept_id'] != 0]\n",
    "measurements['measurement_DATETIME'] = pd.to_datetime(measurements['measurement_DATETIME'])\n",
    "measurements['child_birth_date'] = pd.to_datetime(measurements['child_birth_date'])"
   ]
  },
  {
   "cell_type": "code",
   "execution_count": 4,
   "id": "3cbd4572",
   "metadata": {},
   "outputs": [],
   "source": [
    "#identify ppl who have omics data so they can be EXCLUDED from the pre-training cohort\n",
    "OOL_cohort_omop = pd.read_csv('./data/ool_EHR_features.csv')['mom_person_id'].values"
   ]
  },
  {
   "cell_type": "code",
   "execution_count": 5,
   "id": "348331a6",
   "metadata": {},
   "outputs": [],
   "source": [
    "#remove EHR data from ppl who are in the omics cohort\n",
    "conds = conds[~conds['mom_person_id'].isin(OOL_cohort_omop)]\n",
    "procs = procs[~procs['mom_person_id'].isin(OOL_cohort_omop)]\n",
    "drugs = drugs[~drugs['mom_person_id'].isin(OOL_cohort_omop)]\n",
    "measurements = measurements[~measurements['mom_person_id'].isin(OOL_cohort_omop)]\n",
    "obs = obs[~obs['mom_person_id'].isin(OOL_cohort_omop)]"
   ]
  },
  {
   "cell_type": "code",
   "execution_count": 6,
   "id": "5926effc",
   "metadata": {},
   "outputs": [
    {
     "data": {
      "text/plain": [
       "230"
      ]
     },
     "execution_count": 6,
     "metadata": {},
     "output_type": "execute_result"
    }
   ],
   "source": [
    "conds['mom_person_id'].nunique()"
   ]
  },
  {
   "cell_type": "code",
   "execution_count": 7,
   "id": "a1cf6ad5",
   "metadata": {},
   "outputs": [],
   "source": [
    "\n",
    "def filter_df(df, birth_time, time_col, time_range_days=280):\n",
    "    \"\"\"\n",
    "    A function to remove entries in a dataframe prior to time of birth. \n",
    "    \n",
    "    df: The dataframe to filter. Must contain a column called person_id with the OMOP ID of the mother\n",
    "    birth_time: A dataframe that contains two columns: maternal_OMOP and birth_DATETIME\n",
    "    time_col: The index of the column with the date of the event in df\n",
    "    time_range_days: keeps data from delivery up to time_range_days prior \n",
    "    \n",
    "    \"\"\"\n",
    "    print('There were {} patients before filtering.'.format(len(df['person_id'].unique())))\n",
    "    df = df.merge(birth_time, how='inner', left_on='person_id', right_on='maternal_OMOP')\n",
    "    df['diff'] = df['birth_DATETIME']-df[time_col]\n",
    "    new_df = df[(df['diff'].dt.days > 0) & (df['diff'].dt.days <= time_range_days)].drop('maternal_OMOP', axis=1)\n",
    "    print('There were {} patients after filtering.'.format(len(new_df['person_id'].unique())))\n",
    "    return new_df\n",
    "\n",
    "#function to help with appropriate sample / patient labeling \n",
    "def generate_features_EHR_cohort(proteomics, input_df, time_col_name, concept_id_col, indicator, binary=True):\n",
    "    df = proteomics[['DOS','mom_person_id','child_person_id']].merge(input_df, how='left', on=['mom_person_id','child_person_id'])\n",
    "    df['delta'] = (df[time_col_name]-df['child_birth_date']).dt.days\n",
    "    df = df[df['delta'] < df['DOS']]\n",
    "    df['sample_ID'] = df['mom_person_id'].astype(str)+'_'+df['child_person_id'].astype(str)\n",
    "    return df\n",
    "    "
   ]
  },
  {
   "cell_type": "code",
   "execution_count": 8,
   "id": "9def4745",
   "metadata": {},
   "outputs": [],
   "source": [
    "#pick a random date during pregnancy for the women so we can create an artificial sampling time\n",
    "#we will use EHR data from beginning of pregnancy up until this sampling time for features\n",
    "#and number of days from this sampling time to birth as the \"time to onset of labor\" pre-training problem\n",
    "time_col_name = 'condition_start_DATETIME'\n",
    "df = conds\n",
    "df['delta'] = (df[time_col_name]-df['child_birth_date']).dt.days\n",
    "min_ool = df[['mom_person_id','child_person_id','delta']].groupby(['mom_person_id','child_person_id']).min()\n",
    "min_ool.columns = ['min_delta']\n",
    "max_ool = df[['mom_person_id','child_person_id','delta']].groupby(['mom_person_id','child_person_id']).max()\n",
    "max_ool.columns = ['max_delta']\n",
    "sampling_df = pd.concat([min_ool, max_ool],axis=1)\n",
    "\n",
    "np.random.seed(3)\n",
    "sampling_df = sampling_df[((sampling_df['max_delta'] - sampling_df['min_delta']) >= 7) == True]\n",
    "sampling_df['DOS'] = ((sampling_df['max_delta'] - sampling_df['min_delta'] - 7) * np.random.rand(sampling_df.shape[0]) + sampling_df['min_delta']).astype(int)\n",
    "sampling_df = sampling_df[sampling_df['max_delta'] > -100]\n",
    "#sample from last 100 days of pregnancy to mirror design of omics study\n",
    "sampling_df['DOS'] = sampling_df.apply(lambda row: int(np.random.uniform(-100, row['max_delta'])), axis=1)\n",
    "sampling_df = sampling_df.reset_index()"
   ]
  },
  {
   "cell_type": "code",
   "execution_count": 9,
   "id": "c260a873",
   "metadata": {},
   "outputs": [
    {
     "name": "stdout",
     "output_type": "stream",
     "text": [
      "CPU times: user 30 ms, sys: 341 µs, total: 30.3 ms\n",
      "Wall time: 28.5 ms\n"
     ]
    }
   ],
   "source": [
    "%%time\n",
    "condition_features_EHR = generate_features_EHR_cohort(sampling_df, conds, 'condition_start_DATETIME','condition_concept_id','C')\n",
    "procedure_features_EHR = generate_features_EHR_cohort(sampling_df, procs, 'procedure_DATETIME','procedure_concept_id','P')\n",
    "drug_features_EHR = generate_features_EHR_cohort(sampling_df, drugs, 'drug_exposure_start_DATETIME','drug_concept_id','D')\n",
    "measurement_features_EHR = generate_features_EHR_cohort(sampling_df, measurements, 'measurement_DATETIME','measurement_concept_id','M')\n",
    "observation_features_EHR = generate_features_EHR_cohort(sampling_df, obs, 'observation_DATETIME','observation_concept_id','O')\n"
   ]
  },
  {
   "cell_type": "code",
   "execution_count": 10,
   "id": "7422c01b",
   "metadata": {},
   "outputs": [],
   "source": [
    "class EpochLogger(CallbackAny2Vec):\n",
    "    def __init__(self):\n",
    "        self.epoch = 0\n",
    "        self.losses = []\n",
    "\n",
    "    def on_epoch_begin(self, model):\n",
    "        print(f\"Starting epoch #{self.epoch}\")\n",
    "\n",
    "    def on_epoch_end(self, model):\n",
    "        print(f\"Finished epoch #{self.epoch}\")\n",
    "        loss = model.get_latest_training_loss()\n",
    "        self.losses.append(loss)\n",
    "        print(self.losses)\n",
    "        print(f'  Loss: {loss}')\n",
    "        self.epoch += 1"
   ]
  },
  {
   "cell_type": "code",
   "execution_count": 11,
   "id": "7d6a36dd",
   "metadata": {},
   "outputs": [
    {
     "name": "stdout",
     "output_type": "stream",
     "text": [
      "CPU times: user 530 µs, sys: 3.41 ms, total: 3.94 ms\n",
      "Wall time: 2.19 ms\n"
     ]
    }
   ],
   "source": [
    "%%time\n",
    "#learn word2vec embeddings\n",
    "try:\n",
    "    model = Word2Vec.load(\"./models/word2vec_full_pregnancy_cohort_measurements_observations_full_pregnancy_sampling_400dim.model\")\n",
    "except:\n",
    "    print('training new model!')\n",
    "    epoch_logger = EpochLogger()\n",
    "\n",
    "    word2vec_conds = condition_features_EHR[['sample_ID','condition_concept_id','condition_start_DATETIME']]\n",
    "    word2vec_conds.columns = ['sample_ID','concept_id','ts']\n",
    "\n",
    "    word2vec_procs = procedure_features_EHR[['sample_ID','procedure_concept_id','procedure_DATETIME']]\n",
    "    word2vec_procs.columns = ['sample_ID','concept_id','ts']\n",
    "\n",
    "    word2vec_drug = drug_features_EHR[['sample_ID','drug_concept_id','drug_exposure_start_DATETIME']]\n",
    "    word2vec_drug.columns = ['sample_ID','concept_id','ts']\n",
    "    \n",
    "    word2vec_mea = measurement_features_EHR[['sample_ID','measurement_concept_id','measurement_DATETIME']]\n",
    "    word2vec_mea.columns = ['sample_ID','concept_id','ts']\n",
    "    \n",
    "    word2vec_obs = observation_features_EHR[['sample_ID','observation_concept_id','observation_DATETIME']]\n",
    "    word2vec_obs.columns = ['sample_ID','concept_id','ts']\n",
    "    \n",
    "    word2vec_data = pd.concat([word2vec_conds, word2vec_procs, word2vec_drug,word2vec_mea, word2vec_obs],axis=0)\n",
    "    word2vec_data['date'] = pd.to_datetime(word2vec_data['ts'])\n",
    "    word2vec_data['date'] = word2vec_data['date'].dt.date\n",
    "    word2vec_data = word2vec_data.drop('ts',axis=1)\n",
    "    word2vec_data = word2vec_data[~pd.isnull(word2vec_data['concept_id'])]\n",
    "    word2vec_data['concept_id'] = word2vec_data['concept_id'].astype(int)\n",
    "    \n",
    "    grouped_data = word2vec_data.groupby(['sample_ID', 'date'])\n",
    "    sentences = []\n",
    "    for _, group in tqdm(grouped_data):\n",
    "        codes = group['concept_id'].tolist()\n",
    "        random.shuffle(codes)\n",
    "        sentences.append(codes)\n",
    "        \n",
    "    print('starting training')\n",
    "    model = Word2Vec(sentences, vector_size=400, window=100, min_count=5, workers=64)\n",
    "    model.train(sentences, total_examples=len(sentences), epochs=5, callbacks=[epoch_logger])\n",
    "    model.save(\"./models/word2vec_full_pregnancy_cohort_measurements_observations_full_pregnancy_sampling_400dim.model\")\n"
   ]
  },
  {
   "cell_type": "code",
   "execution_count": 12,
   "id": "32b51bd1",
   "metadata": {},
   "outputs": [],
   "source": [
    "code_to_embedding = {code: model.wv[code] for code in model.wv.index_to_key}"
   ]
  },
  {
   "cell_type": "code",
   "execution_count": 13,
   "id": "92deadf0",
   "metadata": {},
   "outputs": [],
   "source": [
    "#replace EHR data with learned embeddings\n",
    "embedded_conds = condition_features_EHR[(condition_features_EHR['condition_concept_id'] != 0)]\n",
    "embedded_conds = embedded_conds[~pd.isnull(embedded_conds['condition_concept_id'])]\n",
    "embedded_conds['embedding'] = [code_to_embedding.get(code) for code in embedded_conds['condition_concept_id']]\n"
   ]
  },
  {
   "cell_type": "code",
   "execution_count": 14,
   "id": "422a0471",
   "metadata": {},
   "outputs": [],
   "source": [
    "embedded_procs = procedure_features_EHR[(procedure_features_EHR['procedure_concept_id'] != 0)]\n",
    "embedded_procs = embedded_procs[~pd.isnull(embedded_procs['procedure_concept_id'])]\n",
    "embedded_procs['embedding'] = [code_to_embedding.get(code) for code in embedded_procs['procedure_concept_id']]\n"
   ]
  },
  {
   "cell_type": "code",
   "execution_count": 15,
   "id": "47d16d21",
   "metadata": {},
   "outputs": [],
   "source": [
    "embedded_drugs = drug_features_EHR[(drug_features_EHR['drug_concept_id'] != 0)]\n",
    "embedded_drugs = embedded_drugs[~pd.isnull(embedded_drugs['drug_concept_id'])]\n",
    "embedded_drugs['embedding'] = [code_to_embedding.get(code) for code in embedded_drugs['drug_concept_id']]\n"
   ]
  },
  {
   "cell_type": "code",
   "execution_count": 16,
   "id": "7942c2ef",
   "metadata": {},
   "outputs": [],
   "source": [
    "embedded_measurements = measurement_features_EHR[(measurement_features_EHR['measurement_concept_id'] != 0)]\n",
    "embedded_measurements = embedded_measurements[~pd.isnull(embedded_measurements['measurement_concept_id'])]\n",
    "embedded_measurements['embedding'] = [code_to_embedding.get(code) for code in embedded_measurements['measurement_concept_id']]\n"
   ]
  },
  {
   "cell_type": "code",
   "execution_count": 17,
   "id": "08c61942",
   "metadata": {},
   "outputs": [],
   "source": [
    "embedded_obs = observation_features_EHR[(observation_features_EHR['observation_concept_id'] != 0)]\n",
    "embedded_obs = embedded_obs[~pd.isnull(embedded_obs['observation_concept_id'])]\n",
    "embedded_obs['embedding'] = [code_to_embedding.get(code) for code in embedded_obs['observation_concept_id']]\n"
   ]
  },
  {
   "cell_type": "code",
   "execution_count": 18,
   "id": "39441058",
   "metadata": {},
   "outputs": [],
   "source": [
    "embedded_procs['date'] = pd.to_datetime(embedded_procs['procedure_DATETIME'].dt.date)\n",
    "embedded_conds['date'] = pd.to_datetime(embedded_conds['condition_start_DATETIME'].dt.date)\n",
    "embedded_drugs['date'] = pd.to_datetime(embedded_drugs['drug_exposure_start_DATETIME'].dt.date)\n",
    "embedded_measurements['date'] = pd.to_datetime(embedded_measurements['measurement_DATETIME'].dt.date)\n",
    "embedded_obs['date'] = pd.to_datetime(embedded_obs['observation_DATETIME'].dt.date)\n"
   ]
  },
  {
   "cell_type": "code",
   "execution_count": 19,
   "id": "5efd7c59",
   "metadata": {},
   "outputs": [
    {
     "name": "stdout",
     "output_type": "stream",
     "text": [
      "CPU times: user 1.65 s, sys: 221 ms, total: 1.88 s\n",
      "Wall time: 1.68 s\n"
     ]
    }
   ],
   "source": [
    "%%time\n",
    "# Convert pandas dataframes to dask dataframes\n",
    "embedded_conds_dsk = dd.from_pandas(embedded_conds, npartitions=120)\n",
    "embedded_procs_dsk = dd.from_pandas(embedded_procs, npartitions=120)\n",
    "embedded_drugs_dsk = dd.from_pandas(embedded_drugs, npartitions=120)\n",
    "embedded_measurements_dsk = dd.from_pandas(embedded_measurements, npartitions=120)\n",
    "embedded_obs_dsk = dd.from_pandas(embedded_obs, npartitions=120)\n",
    "\n",
    "# Filter null embeddings\n",
    "embedded_conds_dsk = embedded_conds_dsk[embedded_conds_dsk['embedding'].notnull()]\n",
    "embedded_procs_dsk = embedded_procs_dsk[embedded_procs_dsk['embedding'].notnull()]\n",
    "embedded_drugs_dsk = embedded_drugs_dsk[embedded_drugs_dsk['embedding'].notnull()]\n",
    "embedded_measurements_dsk = embedded_measurements_dsk[embedded_measurements_dsk['embedding'].notnull()]\n",
    "embedded_obs_dsk = embedded_obs_dsk[embedded_obs_dsk['embedding'].notnull()]\n",
    "\n",
    "# Concatenate different EHR tables\n",
    "all_data = dd.concat([\n",
    "    embedded_conds_dsk.drop(['DOS','mom_person_id','child_person_id', 'condition_concept_id',\n",
    "                      'condition_start_DATETIME','child_birth_date','delta'], axis=1),\n",
    "    embedded_procs_dsk.drop(['DOS','mom_person_id','child_person_id', 'procedure_concept_id',\n",
    "                        'procedure_DATETIME','child_birth_date','delta'], axis=1),\n",
    "    embedded_drugs_dsk.drop(['DOS','mom_person_id','child_person_id', 'drug_concept_id',\n",
    "                        'drug_exposure_start_DATETIME','child_birth_date','delta'], axis=1),\n",
    "    embedded_measurements_dsk.drop(['DOS','mom_person_id','child_person_id', 'measurement_concept_id',\n",
    "                        'measurement_DATETIME','value_as_number','child_birth_date','delta'], axis=1),\n",
    "    embedded_obs_dsk.drop(['DOS','mom_person_id','child_person_id', 'observation_concept_id',\n",
    "                        'observation_DATETIME','child_birth_date','delta'], axis=1)\n",
    "], ignore_index=True)[['sample_ID','date','embedding']].compute()\n",
    "\n",
    "all_data.sort_values('date', ascending=False, inplace=True)\n",
    "\n",
    "\n",
    "max_dates = 32\n",
    "\n",
    "all_data.sort_values(by=['sample_ID', 'date'], ascending=[True, False], inplace=True)\n",
    "\n",
    "# Create a helper column to rank the unique dates for each person_id\n",
    "all_data['date_rank'] = all_data.groupby('sample_ID')['date'].transform(lambda x: x.rank(method='dense', ascending=False))\n",
    "\n",
    "# Filter the rows where date_rank is within the range of 1 to max_dates\n",
    "filtered_data = all_data[all_data['date_rank'].between(1, max_dates)]\n",
    "filtered_data = filtered_data.drop(columns='date_rank')\n"
   ]
  },
  {
   "cell_type": "code",
   "execution_count": 20,
   "id": "585d6bf3",
   "metadata": {},
   "outputs": [
    {
     "name": "stdout",
     "output_type": "stream",
     "text": [
      "CPU times: user 156 ms, sys: 95 µs, total: 156 ms\n",
      "Wall time: 154 ms\n"
     ]
    }
   ],
   "source": [
    "%%time\n",
    "#create patient-day embeddings\n",
    "patient_day_embeddings = filtered_data.groupby(['sample_ID','date']).mean()"
   ]
  },
  {
   "cell_type": "code",
   "execution_count": 21,
   "id": "fb177a6c",
   "metadata": {},
   "outputs": [],
   "source": [
    "patient_day_embeddings = patient_day_embeddings.reset_index()"
   ]
  },
  {
   "cell_type": "code",
   "execution_count": 22,
   "id": "52b92faa",
   "metadata": {},
   "outputs": [],
   "source": [
    "patient_day_embeddings['date'] = pd.to_datetime(patient_day_embeddings['date'])\n",
    "patient_day_embeddings = patient_day_embeddings.sort_values(['sample_ID', 'date'])"
   ]
  },
  {
   "cell_type": "code",
   "execution_count": 23,
   "id": "247db58c",
   "metadata": {},
   "outputs": [],
   "source": [
    "unique_patients = patient_day_embeddings['sample_ID'].nunique()\n",
    "num_features = len(patient_day_embeddings['embedding'].iloc[0])\n"
   ]
  },
  {
   "cell_type": "code",
   "execution_count": 24,
   "id": "c8f56448",
   "metadata": {},
   "outputs": [],
   "source": [
    "max_dates = patient_day_embeddings.groupby('sample_ID')['date'].count().max()\n",
    "max_dates = 32"
   ]
  },
  {
   "cell_type": "code",
   "execution_count": 25,
   "id": "81eb984e",
   "metadata": {},
   "outputs": [],
   "source": [
    "#assign each patient to an index in the data matrix\n",
    "patient_id_to_index = {patient_id: index for index, patient_id in enumerate(patient_day_embeddings['sample_ID'].unique())}\n"
   ]
  },
  {
   "cell_type": "code",
   "execution_count": 26,
   "id": "eb9a7d30",
   "metadata": {},
   "outputs": [],
   "source": [
    "#create numpy matrix for data\n",
    "RNN_data = np.full((num_features, max_dates, unique_patients), np.nan)\n"
   ]
  },
  {
   "cell_type": "code",
   "execution_count": 27,
   "id": "86ccbe67",
   "metadata": {},
   "outputs": [
    {
     "data": {
      "application/vnd.jupyter.widget-view+json": {
       "model_id": "9b6c1e45999c496b8b95a203b42c5e66",
       "version_major": 2,
       "version_minor": 0
      },
      "text/plain": [
       "0it [00:00, ?it/s]"
      ]
     },
     "metadata": {},
     "output_type": "display_data"
    },
    {
     "name": "stdout",
     "output_type": "stream",
     "text": [
      "CPU times: user 103 ms, sys: 17 ms, total: 120 ms\n",
      "Wall time: 103 ms\n"
     ]
    }
   ],
   "source": [
    "%%time\n",
    "#populate data matrix with input data\n",
    "date_position = {}\n",
    "for index, row in tqdm(patient_day_embeddings.iterrows()):\n",
    "    patient_id = row['sample_ID']\n",
    "    patient_index = patient_id_to_index[patient_id]\n",
    "    \n",
    "    if patient_id not in date_position:\n",
    "        date_position[patient_id] = 0\n",
    "    else:\n",
    "        date_position[patient_id] += 1\n",
    "        \n",
    "    date_index = date_position[patient_id]\n",
    "    \n",
    "    RNN_data[:,date_index, patient_index] = row['embedding']\n"
   ]
  },
  {
   "cell_type": "code",
   "execution_count": 28,
   "id": "95f0c2cf",
   "metadata": {},
   "outputs": [],
   "source": [
    "RNN_data = RNN_data.transpose(2,1,0)"
   ]
  },
  {
   "cell_type": "code",
   "execution_count": 29,
   "id": "25c6a751",
   "metadata": {},
   "outputs": [
    {
     "data": {
      "text/plain": [
       "(113, 32, 400)"
      ]
     },
     "execution_count": 29,
     "metadata": {},
     "output_type": "execute_result"
    }
   ],
   "source": [
    "RNN_data.shape"
   ]
  },
  {
   "cell_type": "code",
   "execution_count": 30,
   "id": "c389e1f4",
   "metadata": {},
   "outputs": [],
   "source": [
    "sampling_df['sample_ID'] = sampling_df['mom_person_id'].astype(str)+'_'+sampling_df['child_person_id'].astype(str)"
   ]
  },
  {
   "cell_type": "code",
   "execution_count": 31,
   "id": "38a4b841",
   "metadata": {},
   "outputs": [],
   "source": [
    "sampling_df = sampling_df.merge(pd.DataFrame([patient_id_to_index.keys(), patient_id_to_index.values()]).T, how='right', left_on='sample_ID', right_on=0)\n"
   ]
  },
  {
   "cell_type": "code",
   "execution_count": 32,
   "id": "56dfc054",
   "metadata": {},
   "outputs": [],
   "source": [
    "#align outcome data with feature matrix\n",
    "sampling_df = sampling_df.merge(patient_day_embeddings.groupby('sample_ID').count()[['date']], how='left', on='sample_ID')"
   ]
  },
  {
   "cell_type": "code",
   "execution_count": 33,
   "id": "e64bdd52",
   "metadata": {},
   "outputs": [],
   "source": [
    "DOS_outcomes = np.array(sampling_df[['DOS',1]].sort_values(1)['DOS'])"
   ]
  },
  {
   "cell_type": "code",
   "execution_count": 34,
   "id": "51e0d166",
   "metadata": {},
   "outputs": [],
   "source": [
    "#save processed data\n",
    "np.save('./data/processed_data/RNN_data_full_EHR_cohort_with_obs_fixed.npy', RNN_data)\n",
    "np.save('./data/processed_data/RNN_data_outcomes_full_EHR_cohort_with_obs_fixed.npy', DOS_outcomes)\n"
   ]
  },
  {
   "cell_type": "code",
   "execution_count": 35,
   "id": "0b8aaa6c",
   "metadata": {},
   "outputs": [],
   "source": [
    "num_patient_visits = np.minimum(np.array(sampling_df['date']), 32)"
   ]
  },
  {
   "cell_type": "code",
   "execution_count": 36,
   "id": "baba0b97",
   "metadata": {},
   "outputs": [],
   "source": [
    "np.save('./data/processed_data/RNN_data_lengths_full_EHR_cohort_with_obs_fixed.npy', num_patient_visits)"
   ]
  },
  {
   "cell_type": "code",
   "execution_count": 37,
   "id": "7f0cffbc",
   "metadata": {},
   "outputs": [],
   "source": [
    "df = pd.DataFrame([patient_id_to_index.keys(), patient_id_to_index.values()]).T\n",
    "df.to_csv('./data/processed_data/sampleID_indices_full_cohort_with_obs_fixed.csv')"
   ]
  },
  {
   "cell_type": "code",
   "execution_count": null,
   "id": "da8cbeee",
   "metadata": {},
   "outputs": [],
   "source": []
  }
 ],
 "metadata": {
  "kernelspec": {
   "display_name": "Python 3 (ipykernel)",
   "language": "python",
   "name": "python3"
  },
  "language_info": {
   "codemirror_mode": {
    "name": "ipython",
    "version": 3
   },
   "file_extension": ".py",
   "mimetype": "text/x-python",
   "name": "python",
   "nbconvert_exporter": "python",
   "pygments_lexer": "ipython3",
   "version": "3.10.6"
  }
 },
 "nbformat": 4,
 "nbformat_minor": 5
}
