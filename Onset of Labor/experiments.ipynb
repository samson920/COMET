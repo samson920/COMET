{
 "cells": [
  {
   "cell_type": "code",
   "execution_count": 55,
   "id": "c7f02e7f",
   "metadata": {},
   "outputs": [],
   "source": [
    "import numpy as np\n",
    "import pandas as pd\n",
    "from sklearn.model_selection import StratifiedKFold, cross_val_score, GridSearchCV, cross_val_predict, train_test_split, KFold\n",
    "from sklearn.metrics import roc_auc_score, average_precision_score, precision_recall_curve, roc_curve, balanced_accuracy_score, accuracy_score, mean_squared_error\n",
    "from scipy.stats import pearsonr, ttest_rel\n",
    "from sklearn import preprocessing\n",
    "from sklearn.preprocessing import StandardScaler\n",
    "from sklearn.manifold import TSNE, Isomap\n",
    "import torch\n",
    "import torch.nn.functional as F\n",
    "from torch.utils.data import Dataset, DataLoader\n",
    "from tqdm.notebook import trange, tqdm\n",
    "import matplotlib.pyplot as plt\n",
    "import xgboost as xgb\n",
    "import pickle\n",
    "import torch.nn as nn\n",
    "import torch.optim as optim\n",
    "from torch.nn.utils.rnn import pad_sequence, pack_padded_sequence, pad_packed_sequence\n",
    "import matplotlib.pyplot as plt\n",
    "import matplotlib.colors as mcolors\n",
    "from matplotlib.colors import LinearSegmentedColormap, ListedColormap\n",
    "import matplotlib.patches as mpatches\n",
    "from matplotlib.lines import Line2D\n",
    "import seaborn as sns\n",
    "import loralib as lora\n",
    "import random\n",
    "import umap\n",
    "import re\n",
    "from itertools import product\n",
    "import os\n",
    "\n",
    "torch.backends.cudnn.deterministic = True\n",
    "torch.backends.cudnn.benchmark = False"
   ]
  },
  {
   "cell_type": "markdown",
   "id": "0571fbb7",
   "metadata": {},
   "source": [
    "### Initial Data Processing"
   ]
  },
  {
   "cell_type": "code",
   "execution_count": 56,
   "id": "b3fa18b6",
   "metadata": {},
   "outputs": [],
   "source": [
    "#load proteomics data\n",
    "OOL_proteomics = pd.read_csv('./data/processed_data/ool_proteomics_omop_id.csv')\n",
    "OOL_proteomics['sample_ID'] = OOL_proteomics['maternal_person_id'].astype(str)+'_'+OOL_proteomics['Timepoint'].astype(str)\n",
    "OOL_proteomics = OOL_proteomics.drop(['Timepoint','maternal_person_id'],axis=1)\n",
    "OOL_proteomics.columns = [str(i)+'_protein' for i in OOL_proteomics.columns]\n",
    "OOL_proteomics = OOL_proteomics.rename(columns={'DOS_protein':'DOS', 'sample_ID_protein':'sample_ID'})\n",
    "OOL_proteomics = OOL_proteomics.drop(['child_person_id_protein','sample_date_protein','child_birth_date_protein'],axis=1)"
   ]
  },
  {
   "cell_type": "code",
   "execution_count": 57,
   "id": "34fbf087",
   "metadata": {},
   "outputs": [],
   "source": [
    "#load outcomes\n",
    "OOL_outcomes = OOL_proteomics[['sample_ID','DOS']]\n"
   ]
  },
  {
   "cell_type": "code",
   "execution_count": 58,
   "id": "e55ff2b8",
   "metadata": {},
   "outputs": [],
   "source": [
    "#omics only architecture \n",
    "class proteomics_net(nn.Module):\n",
    "    def __init__(self, input_size, var_not_used, output_size, dropout=0.1):\n",
    "        super(proteomics_net, self).__init__()\n",
    "        \n",
    "        self.proteomics_layers = nn.Sequential(\n",
    "            nn.Linear(input_size, output_size)\n",
    "        )\n",
    "\n",
    "    def forward(self, x):\n",
    "        x = self.proteomics_layers(x)\n",
    "        return x\n",
    "\n",
    "    def save_model(self, path):\n",
    "        torch.save(self.state_dict(), path)\n",
    "\n",
    "    def load_model(self, path):\n",
    "        pretrained_dict = torch.load(path, map_location=lambda storage, loc: storage)\n",
    "        model_dict = self.state_dict()\n",
    "        pretrained_dict = {k: v for k, v in pretrained_dict.items() if k in model_dict}\n",
    "        model_dict.update(pretrained_dict)\n",
    "        self.load_state_dict(model_dict)\n",
    "        "
   ]
  },
  {
   "cell_type": "code",
   "execution_count": 59,
   "id": "2e93b969",
   "metadata": {},
   "outputs": [],
   "source": [
    "#EHR architecture\n",
    "class GRUNet(nn.Module):\n",
    "    def __init__(self, input_size_codes, hidden_size, prediction_module_hidden_sizes, num_layers, output_size, dropout=0.1):\n",
    "        super(GRUNet, self).__init__()\n",
    "        self.hidden_size = hidden_size\n",
    "        self.num_layers = num_layers\n",
    "        self.gru = nn.GRU(input_size_codes, hidden_size, num_layers, batch_first=True, dropout=dropout)\n",
    "        \n",
    "        self.prediction_module = nn.Sequential(\n",
    "            nn.Linear(prediction_module_hidden_sizes[0], output_size)\n",
    "        )\n",
    "\n",
    "\n",
    "\n",
    "    def forward(self, x, lengths, interpretability=False):\n",
    "        device = x.device\n",
    "        h0 = torch.zeros(self.num_layers, x.size(0), self.hidden_size).to(device)\n",
    "        x_packed = pack_padded_sequence(x, lengths, batch_first=True, enforce_sorted=False)\n",
    "        out_packed, _ = self.gru(x_packed, h0)\n",
    "        out, _ = pad_packed_sequence(out_packed, batch_first=True)\n",
    "        \n",
    "        out = out[torch.arange(x.size(0)), lengths-1, :]\n",
    "        out_final = self.prediction_module(out)\n",
    "        if interpretability == False:\n",
    "            return out_final\n",
    "        else:\n",
    "            return out_final, out\n",
    "\n",
    "# Prepare the dataset\n",
    "class PatientDataset(Dataset):\n",
    "    def __init__(self, data, labels, lengths):\n",
    "        self.data = data\n",
    "        self.labels = labels\n",
    "        self.lengths = lengths\n",
    "\n",
    "    def __len__(self):\n",
    "        return len(self.data)\n",
    "\n",
    "    def __getitem__(self, idx):\n",
    "        return self.data[idx], self.labels[idx], self.lengths[idx]\n",
    "\n",
    "# Custom collate function for DataLoader\n",
    "def collate_fn(batch):\n",
    "    data, labels, lengths = zip(*batch)\n",
    "    data = pad_sequence(data, batch_first=True, padding_value=0)\n",
    "    labels = torch.tensor(labels, dtype=torch.float32)\n",
    "    lengths = torch.tensor(lengths, dtype=torch.long)\n",
    "    return data, labels, lengths\n",
    "\n",
    "\n",
    "def normalize_dataset(dataset):\n",
    "    for i, sequence in enumerate(dataset):\n",
    "        dataset[i] = (sequence - sequence.mean(dim=0, keepdim=True)) / (sequence.std(dim=0, keepdim=True) + 1e-8)\n",
    "    return dataset\n",
    "\n",
    "def impute_missing_values(dataset):\n",
    "    # Stack all tensors in the dataset along a new dimension, creating a tensor of shape (num_samples, max_seq_length, num_features)\n",
    "    stacked_data = torch.stack(dataset)\n",
    "\n",
    "    # Calculate the mean of each feature across all samples and sequences, ignoring NaN values\n",
    "    feature_means = torch.nanmean(stacked_data, dim=(0, 1))\n",
    "\n",
    "    # Iterate through the dataset (list of tensors)\n",
    "    for i, sequence in enumerate(dataset):\n",
    "        # Create a boolean mask indicating the positions of NaN values in the sequence\n",
    "        mask = torch.isnan(sequence)\n",
    "\n",
    "        # Replace NaN values in the sequence with the corresponding feature means\n",
    "        # 'expand_as' is used to match the dimensions of the mask and the sequence\n",
    "        dataset[i][mask] = feature_means.expand_as(sequence)[mask]\n",
    "\n",
    "    return dataset\n",
    "\n",
    "# Create DataLoaders\n",
    "def create_dataloaders(patient_data, patient_outcomes, lengths, batch_size=64, normalize=False):\n",
    "    \n",
    "    X_train = impute_missing_values(patient_data)\n",
    "    y_train = patient_outcomes\n",
    "    \n",
    "    if normalize:\n",
    "        X_train = normalize_dataset(X_train)\n",
    "    \n",
    "    y_train = (y_train-y_train.mean()) / y_train.std()\n",
    "    \n",
    "    train_dataset = PatientDataset(X_train, y_train, lengths)\n",
    "    train_loader = DataLoader(train_dataset, batch_size=batch_size, shuffle=False, collate_fn=collate_fn, worker_init_fn=worker_init_fn)\n",
    "    return train_loader\n",
    "\n",
    "def set_seed(seed):\n",
    "    random.seed(seed)\n",
    "    np.random.seed(seed)\n",
    "    torch.manual_seed(seed)\n",
    "    if torch.cuda.is_available():\n",
    "        torch.cuda.manual_seed_all(seed)\n",
    "        \n",
    "def worker_init_fn(worker_id):\n",
    "    np.random.seed(np.random.get_state()[1][0] + worker_id)\n"
   ]
  },
  {
   "cell_type": "code",
   "execution_count": 60,
   "id": "60e9793e",
   "metadata": {},
   "outputs": [],
   "source": [
    "# Full COMET framework architecture\n",
    "class joint_model(nn.Module):\n",
    "    def __init__(self, input_size_codes, hidden_size, prediction_module_hidden_sizes, num_layers, output_size, input_size_proteomics, var_not_used, combined_hidden_layers, dropout=0.1):\n",
    "        super(joint_model, self).__init__()\n",
    "        self.hidden_size = hidden_size\n",
    "        self.num_layers = num_layers\n",
    "        self.gru = nn.GRU(input_size_codes, hidden_size, num_layers, batch_first=True, dropout=dropout)\n",
    "    \n",
    "        self.prediction_module = nn.Sequential(\n",
    "            nn.Linear(prediction_module_hidden_sizes[0], output_size)\n",
    "        )\n",
    "\n",
    "        self.skip_connect_prot = nn.Linear(input_size_proteomics, output_size)\n",
    "        \n",
    "        self.combined_layers = nn.Sequential(\n",
    "            nn.Linear(input_size_proteomics + hidden_size, output_size)\n",
    "        )\n",
    "        \n",
    "        self.final_combine = nn.Linear(3, 1, bias=False)\n",
    "\n",
    "\n",
    "\n",
    "    def forward(self, x, x_proteomics, lengths, interpretability=False, better_latent=None, better_ratio=0.5):\n",
    "        device = x.device\n",
    "        h0 = torch.zeros(self.num_layers, x.size(0), self.hidden_size).to(device)\n",
    "        x_packed = pack_padded_sequence(x, lengths, batch_first=True, enforce_sorted=False)\n",
    "        out_packed, _ = self.gru(x_packed, h0)\n",
    "        out, _ = pad_packed_sequence(out_packed, batch_first=True)\n",
    "        \n",
    "        out_ehr = out[torch.arange(x.size(0)), lengths-1, :]\n",
    "        \n",
    "        if x_proteomics == None:\n",
    "            return out_ehr\n",
    "\n",
    "        if better_latent is not None:\n",
    "            out_ehr = better_ratio * better_latent + (1-better_ratio) * out_ehr\n",
    "                \n",
    "        out_combined = torch.cat((out_ehr, x_proteomics), 1)\n",
    "        \n",
    "        out_combined = self.combined_layers(out_combined)\n",
    "        \n",
    "        pred_proteomics = self.skip_connect_prot(x_proteomics)\n",
    "        pred_ehr = self.prediction_module(out_ehr)\n",
    "        \n",
    "        final_pred = self.final_combine(torch.cat((pred_proteomics, pred_ehr, out_combined), 1))\n",
    "        \n",
    "        if interpretability == False:\n",
    "            return final_pred\n",
    "        else:\n",
    "            return final_pred, (out_ehr, pred_proteomics, pred_ehr, out_combined, final_pred, self.final_combine.weight)\n",
    "    \n",
    "    def save_model(self, path):\n",
    "        torch.save(self.state_dict(), path)\n",
    "\n",
    "    def load_model(self, path):\n",
    "        pretrained_dict = torch.load(path, map_location=lambda storage, loc: storage)\n",
    "        model_dict = self.state_dict()\n",
    "        pretrained_dict = {k: v for k, v in pretrained_dict.items() if k in model_dict}\n",
    "        model_dict.update(pretrained_dict)\n",
    "        self.load_state_dict(model_dict)"
   ]
  },
  {
   "cell_type": "code",
   "execution_count": 61,
   "id": "a73712b9",
   "metadata": {},
   "outputs": [],
   "source": [
    "class DataBuilder(Dataset):\n",
    "    def __init__(self, x, y, standardizer):\n",
    "        self.x, self.y, self.standardizer = x, y, standardizer\n",
    "        self.len=self.x.shape[0]\n",
    "    def __getitem__(self,index):      \n",
    "        return (self.x[index], self.y[index])\n",
    "    def __len__(self):\n",
    "        return self.len"
   ]
  },
  {
   "cell_type": "code",
   "execution_count": 62,
   "id": "a8372fd1",
   "metadata": {},
   "outputs": [],
   "source": [
    "def run_experiment(EHR_codes, proteomics, patient_indices, outcomes, lengths, experiment_name, lr, lr_decay,\n",
    "                   bs, train_indices=None, val_indices=None, test_indices=None, feature_types='EHR', model_path='', fine_tune=False, seed=42, num_layers=2,hidden_dim=400,\n",
    "                   dropout=0.4, return_preds=False, return_interpretability=False, return_grads=False,\n",
    "                   hyperparam_tuning=False):\n",
    "    \"\"\"\n",
    "    EHR_codes: pre-processed data for codes of shape (num_patients, max_length, embedding_dim)v\n",
    "    EHR_vitals: pre-processed data for codes of shape (num_patients, max_length, embedding_dim)\n",
    "    proteomics: dataframe with proteomics data\n",
    "    patient_indices: dataframe with sample IDs and row numbers in pre-processed matrices\n",
    "    outcomes: array with DOS\n",
    "    lengths: array with lengths (i.e. number of visits) to help with padding\n",
    "    experiment_name: string for file name for models\n",
    "    lr: float for learning rate\n",
    "    lr_decay: float for learning rate decay\n",
    "    bs: int for batch size\n",
    "    feature_types: string either 'EHR', 'metab', 'both'\n",
    "    model_path: string for file path to model if loading a pre-trained model\n",
    "    fine_tune: boolean for whether or not EHR weight should be learned, can only be true if model != ''\n",
    "    seed: int, random_seed for train/test/val split and seeding model \n",
    "    num_layers: number of GRU layers in RNN\n",
    "    hidden_dim: hidden_dim of GRU output\n",
    "    dropout: dropout weight in model\n",
    "    return_preds: setting to control output of function, if True we return the predictions\n",
    "    return_interpretability: setting to control output of function, if True we return some additional data to help with interpretability analysis\n",
    "    return_grads: setting to control output of function, if True we return the gradient\n",
    "    hyperparam_tuning: setting to control whether or not we save the model at each epoch (if True, we do not)\n",
    "    \"\"\"\n",
    "    set_seed(seed)\n",
    "    prediction_module_hidden_sizes = [hidden_dim,hidden_dim//2, hidden_dim//4, hidden_dim//8]\n",
    "    \n",
    "    assert feature_types in ['EHR','metab','both']   \n",
    "    if feature_types == 'metab': assert model_path == ''\n",
    "    if (model_path != '') & (feature_types == 'both'): assert fine_tune==True\n",
    "    if hyperparam_tuning == False: assert train_indices == None\n",
    "\n",
    "    if hyperparam_tuning == False:\n",
    "        maternal_IDs = patient_indices['sample_ID'].str[0:7].unique()\n",
    "\n",
    "        train_ratio = 0.70\n",
    "        test_ratio = 0.15\n",
    "        val_ratio = 0.15\n",
    "\n",
    "        # First, split the unique_ids into train and temp (test + validation) sets\n",
    "        train_ids, temp_ids = train_test_split(maternal_IDs, test_size=(test_ratio + val_ratio),random_state=seed)\n",
    "\n",
    "        # Next, split the temp_ids into test and validation sets\n",
    "        test_ids, val_ids = train_test_split(temp_ids, test_size=(val_ratio / (test_ratio + val_ratio)), random_state=seed)\n",
    "        patient_indices['maternal_ID'] = patient_indices['sample_ID'].str[0:7]\n",
    "        patient_indices['maternal_ID_ts'] = patient_indices['maternal_ID'].astype(str)+'_'+patient_indices['sample_ID'].str[-2:]\n",
    "        proteomics = proteomics.merge(patient_indices[['maternal_ID_ts','array_index']], how='left', left_on='sample_ID', right_on='maternal_ID_ts').drop(['sample_ID','maternal_ID_ts','DOS'],axis=1).sort_values('array_index').drop('array_index',axis=1).values\n",
    "\n",
    "\n",
    "        train_indices = patient_indices[patient_indices['maternal_ID'].isin(train_ids)]['array_index'].values\n",
    "        np.random.shuffle(train_indices)\n",
    "        test_indices = patient_indices[patient_indices['maternal_ID'].isin(test_ids)]['array_index'].values\n",
    "        val_indices = patient_indices[patient_indices['maternal_ID'].isin(val_ids)]['array_index'].values\n",
    "    \n",
    "    #data processing for train data to prepare for input to ML model\n",
    "    train_EHR_codes = EHR_codes[train_indices,:,:]\n",
    "    if feature_types != 'EHR':\n",
    "        train_proteomics = proteomics[train_indices,:]\n",
    "        scaler = StandardScaler()\n",
    "        train_proteomics = scaler.fit_transform(train_proteomics)\n",
    "    train_outcomes = outcomes[train_indices]\n",
    "    mean_train_outcomes = np.mean(train_outcomes)\n",
    "    sd_train_outcomes = np.std(train_outcomes)\n",
    "    train_outcomes = (train_outcomes - np.mean(train_outcomes))/np.std(train_outcomes)\n",
    "    train_lengths = lengths[train_indices]\n",
    "    \n",
    "    #data processing for test data to prepare for input to ML model\n",
    "    test_EHR_codes = EHR_codes[test_indices, :, :]\n",
    "    if feature_types != 'EHR':\n",
    "        test_proteomics = proteomics[test_indices, :]\n",
    "        scaler = StandardScaler()\n",
    "        test_proteomics = scaler.fit_transform(test_proteomics)\n",
    "    test_outcomes = outcomes[test_indices]\n",
    "    mean_test_outcomes = np.mean(test_outcomes)\n",
    "    sd_test_outcomes = np.std(test_outcomes)\n",
    "    test_outcomes = (test_outcomes - np.mean(test_outcomes))/np.std(test_outcomes)\n",
    "    test_lengths = lengths[test_indices]\n",
    "    \n",
    "    #data processing for val data to prepare for input to ML model\n",
    "    val_EHR_codes = EHR_codes[val_indices, :, :]\n",
    "    if feature_types != 'EHR':\n",
    "        val_proteomics = proteomics[val_indices, :]\n",
    "        scaler = StandardScaler()\n",
    "        val_proteomics = scaler.fit_transform(val_proteomics)\n",
    "    val_outcomes = outcomes[val_indices]\n",
    "    mean_val_outcomes = np.mean(val_outcomes)\n",
    "    sd_val_outcomes = np.std(val_outcomes)\n",
    "    val_outcomes = (val_outcomes - np.mean(val_outcomes))/np.std(val_outcomes)\n",
    "    val_lengths = lengths[val_indices]\n",
    "    \n",
    "    #data processing for all data to prepare for input to ML model\n",
    "    all_EHR_codes = EHR_codes\n",
    "    scaler = StandardScaler()\n",
    "    all_outcomes = outcomes\n",
    "    all_outcomes = (all_outcomes - np.mean(all_outcomes))/np.std(all_outcomes)\n",
    "    all_lengths = lengths\n",
    "\n",
    "    #additional training data processesing\n",
    "    train_EHR_codes = [torch.tensor(data).float() for data in train_EHR_codes]  \n",
    "    train_EHR_codes = [torch.nan_to_num(x) for x in train_EHR_codes]\n",
    "    if feature_types != 'EHR':\n",
    "        train_proteomics = torch.tensor(train_proteomics).float()\n",
    "        train_proteomics = torch.nan_to_num(train_proteomics)\n",
    "    train_outcomes = torch.tensor(train_outcomes).float()\n",
    "    \n",
    "    #additional test data processesing\n",
    "    test_EHR_codes = [torch.tensor(data).float() for data in test_EHR_codes]\n",
    "    test_EHR_codes = [torch.nan_to_num(x) for x in test_EHR_codes]\n",
    "    if feature_types != 'EHR':\n",
    "        test_proteomics = torch.tensor(test_proteomics).float()\n",
    "        test_proteomics = torch.nan_to_num(test_proteomics)\n",
    "    test_outcomes = torch.tensor(test_outcomes).float()\n",
    "\n",
    "    #additional validation data processesing\n",
    "    val_EHR_codes = [torch.tensor(data).float() for data in val_EHR_codes]\n",
    "    val_EHR_codes = [torch.nan_to_num(x) for x in val_EHR_codes]\n",
    "    if feature_types != 'EHR':\n",
    "        val_proteomics = torch.tensor(val_proteomics).float()\n",
    "        val_proteomics = torch.nan_to_num(val_proteomics)\n",
    "    val_outcomes = torch.tensor(val_outcomes).float()\n",
    "\n",
    "    #additional all data processesing\n",
    "    all_EHR_codes = [torch.tensor(data).float() for data in all_EHR_codes]\n",
    "    all_EHR_codes = [torch.nan_to_num(x) for x in all_EHR_codes]\n",
    "    all_outcomes = torch.tensor(all_outcomes).float()\n",
    "\n",
    "    #If omics data is used, create a dataloader for omics data\n",
    "    if feature_types != 'EHR':\n",
    "        data_set_train = DataBuilder(train_proteomics, train_outcomes, scaler)\n",
    "        train_loader_proteomics = DataLoader(dataset=data_set_train,batch_size=bs, worker_init_fn=worker_init_fn)\n",
    "    \n",
    "    #Create a dataloader for EHR data\n",
    "    train_loader_codes = create_dataloaders(train_EHR_codes, train_outcomes, train_lengths, bs)\n",
    "\n",
    "    if feature_types != 'EHR':\n",
    "        data_set_test = DataBuilder(test_proteomics, test_outcomes, scaler)\n",
    "        test_loader_proteomics = DataLoader(dataset=data_set_test,batch_size=bs, worker_init_fn=worker_init_fn)\n",
    "    test_loader_codes = create_dataloaders(test_EHR_codes, test_outcomes, test_lengths, bs)\n",
    "\n",
    "    if feature_types != 'EHR':\n",
    "        data_set_val = DataBuilder(val_proteomics, val_outcomes, scaler)\n",
    "        val_loader_proteomics = DataLoader(dataset=data_set_val,batch_size=100*bs, worker_init_fn=worker_init_fn)\n",
    "    val_loader_codes = create_dataloaders(val_EHR_codes, val_outcomes, val_lengths, 100*bs)\n",
    "            \n",
    "    all_loader_codes = create_dataloaders(all_EHR_codes, all_outcomes, all_lengths, 1000)   \n",
    "    \n",
    "    device = torch.device('cuda:0' if torch.cuda.is_available() else 'cpu')\n",
    "    \n",
    "    #For baseline experiments, initialize the correct type of model based on the features used\n",
    "    if model_path == '':\n",
    "        if feature_types == 'EHR':\n",
    "            model = GRUNet(EHR_codes.shape[2], hidden_dim, prediction_module_hidden_sizes, num_layers, 1, dropout).to(device)\n",
    "        elif feature_types == 'metab':\n",
    "            model = proteomics_net(proteomics.shape[1], None, 1, dropout).to(device)\n",
    "        elif feature_types == 'both':\n",
    "            model = joint_model(EHR_codes.shape[2], hidden_dim, prediction_module_hidden_sizes, num_layers, 1, proteomics.shape[1], [1024, 512, 256, 128], [64, 32, 16, 8], dropout).to(device)\n",
    "    #For COMET experiments\n",
    "    else:\n",
    "        #Load correct model architecture based on whether or not we use omics data\n",
    "        if feature_types == 'EHR':\n",
    "            model = GRUNet(EHR_codes.shape[2], hidden_dim, prediction_module_hidden_sizes, num_layers, 1, dropout)\n",
    "            model_state_dict = torch.load(model_path)\n",
    "            model.load_state_dict(model_state_dict)\n",
    "            model.to(device)\n",
    "            #If no fine tuning, that means we are assessing the pre-trained model on the omics data with no additional training\n",
    "            if fine_tune == False:\n",
    "                model.eval()\n",
    "                criterion = nn.MSELoss()\n",
    "                val_predictions = []\n",
    "                val_true_labels = []\n",
    "                running_loss_val, num_samples_val = 0, 0\n",
    "                with torch.no_grad():\n",
    "                    for (inputs_codes, labels_codes, lengths_codes) in (val_loader_codes):\n",
    "                            inputs_codes, labels = inputs_codes.to(device), labels_codes.to(device)\n",
    "                            outputs = model(inputs_codes, lengths_codes)\n",
    "                            \n",
    "                            mean_tensor = torch.tensor(mean_val_outcomes, dtype=torch.float32, device=device)\n",
    "                            std_tensor = torch.tensor(sd_val_outcomes, dtype=torch.float32, device=device)\n",
    "\n",
    "                            denormalized_outputs = outputs.squeeze() * std_tensor + mean_tensor\n",
    "                            denormalized_labels = labels * std_tensor + mean_tensor\n",
    "                \n",
    "                            loss = criterion(denormalized_outputs, denormalized_labels)\n",
    "#                             loss = criterion(outputs.squeeze(), labels)\n",
    "                            running_loss_val += (loss.item()*lengths_codes.shape[0])\n",
    "                            num_samples_val += lengths_codes.shape[0]\n",
    "                            val_predictions.extend(outputs.squeeze().tolist())\n",
    "                            val_true_labels.extend(labels.tolist())\n",
    "                    \n",
    "                val_loss = running_loss_val / (num_samples_val)\n",
    "                pearson_corr, _ = pearsonr(val_predictions, val_true_labels)\n",
    "                original_val_outcomes = outcomes[val_indices]\n",
    "                val_outcome_mean, val_outcome_sd = np.mean(original_val_outcomes), np.std(original_val_outcomes)\n",
    "                val_rmse = np.sqrt(mean_squared_error(original_val_outcomes, np.array(val_predictions)*val_outcome_sd+val_outcome_mean))\n",
    "\n",
    "                print(f'Total Loss: {val_loss:.4f}, Pearson R: {pearson_corr:.4f}, RMSE: {val_rmse:.4f}')\n",
    "                if return_preds == True:\n",
    "                    return pearson_corr, val_loss, val_rmse, val_true_labels, val_predictions, val_indices\n",
    "                else:\n",
    "                    return pearson_corr, val_loss, val_rmse\n",
    "            #if we are fine-tuning, freeze the GRU weights\n",
    "            elif fine_tune == True:\n",
    "                model = GRUNet(EHR_codes.shape[2], hidden_dim, prediction_module_hidden_sizes, num_layers, 1, dropout)\n",
    "                model_state_dict = torch.load(model_path)\n",
    "                model.load_state_dict(model_state_dict, strict=False)\n",
    "                model.to(device)\n",
    "                for name, param in model.named_parameters():\n",
    "                    if ('gru' in name):\n",
    "                        param.requires_grad = False\n",
    "        #use the correct model if we include omics data along with the transferred weights from the EHR model\n",
    "        elif feature_types == 'both':\n",
    "            model = joint_model(EHR_codes.shape[2], hidden_dim, prediction_module_hidden_sizes, num_layers, 1, proteomics.shape[1], [1024, 512, 256, 128], [64, 32, 16, 8], dropout).to(device)\n",
    "            model_state_dict = torch.load(model_path)\n",
    "            gru_weights = {}\n",
    "            for k,v in zip(model_state_dict.keys(), model_state_dict.values()):\n",
    "                if ('gru' in k) | ('pred' in k):\n",
    "                    gru_weights[k] = v\n",
    "            model.load_state_dict(gru_weights, strict=False)\n",
    "            model.to(device)\n",
    "            \n",
    "            for name, param in model.named_parameters():\n",
    "                if ('gru' in name):\n",
    "                    param.requires_grad = False\n",
    "    \n",
    "\n",
    "    #prepare to track relevant info during training\n",
    "    epoch_arr = []\n",
    "    num_samples_in_batch = []\n",
    "    gradient_arr = []\n",
    "    criterion = nn.MSELoss()\n",
    "    optimizer = optim.Adam(model.parameters(), lr=lr, weight_decay=lr_decay)\n",
    "    num_epochs = 100\n",
    "    train_losses = []\n",
    "    test_losses = []\n",
    "    val_losses = []\n",
    "    best_loss = np.inf\n",
    "    #training loop\n",
    "    for epoch in (range(num_epochs)):\n",
    "        model.train()\n",
    "        #if we're not doing hyperparameter tuning, save the model at each epoch for downstream analysis\n",
    "        if hyperparam_tuning == False:\n",
    "            torch.save(model.state_dict(), './models/predictive_models/{}_epoch{}.pth'.format(experiment_name, epoch))\n",
    "        running_loss_train, num_train_samples = 0, 0\n",
    "        if feature_types == 'EHR':\n",
    "            for (inputs_codes, labels_codes, lengths_codes)in train_loader_codes:\n",
    "                if feature_types != 'metab':\n",
    "                    inputs_codes, labels = inputs_codes.to(device), labels_codes.to(device)\n",
    "\n",
    "                optimizer.zero_grad()\n",
    "                \n",
    "\n",
    "                outputs = model(inputs_codes, lengths_codes)\n",
    "\n",
    "\n",
    "                mean_tensor = torch.tensor(mean_train_outcomes, dtype=torch.float32, device=device)\n",
    "                std_tensor = torch.tensor(sd_train_outcomes, dtype=torch.float32, device=device)\n",
    "\n",
    "                denormalized_outputs = outputs.squeeze() * std_tensor + mean_tensor\n",
    "                denormalized_labels = labels * std_tensor + mean_tensor\n",
    "\n",
    "                loss = criterion(denormalized_outputs, denormalized_labels)\n",
    "                loss.backward()\n",
    "                optimizer.step()\n",
    "                running_loss_train += (loss.item()*lengths_codes.shape[0])\n",
    "                num_train_samples += lengths_codes.shape[0]\n",
    "        else:\n",
    "            for (inputs_codes, labels_codes, lengths_codes), (inputs_proteomics, labels_proteomics) in (zip(train_loader_codes, train_loader_proteomics)):\n",
    "                if feature_types != 'metab':\n",
    "                    inputs_codes, labels = inputs_codes.to(device), labels_codes.to(device)\n",
    "                if feature_types != 'EHR':\n",
    "                    inputs_proteomics, labels = inputs_proteomics.to(device), labels_proteomics.to(device)\n",
    "\n",
    "                optimizer.zero_grad()\n",
    "                if feature_types == 'metab':\n",
    "                    outputs = model(inputs_proteomics)\n",
    "                elif feature_types == 'EHR':\n",
    "                    outputs = model(inputs_codes, lengths_codes)\n",
    "                elif feature_types == 'both':\n",
    "                    outputs, interpretability_outputs = model(inputs_codes, inputs_proteomics, lengths_codes, interpretability=True)\n",
    "\n",
    "\n",
    "                mean_tensor = torch.tensor(mean_train_outcomes, dtype=torch.float32, device=device)\n",
    "                std_tensor = torch.tensor(sd_train_outcomes, dtype=torch.float32, device=device)\n",
    "\n",
    "                denormalized_outputs = outputs.squeeze() * std_tensor + mean_tensor\n",
    "                denormalized_labels = labels * std_tensor + mean_tensor\n",
    "\n",
    "                loss = criterion(denormalized_outputs, denormalized_labels)\n",
    "                loss.backward()\n",
    "                optimizer.step()\n",
    "                if return_grads:\n",
    "                    epoch_arr.append(epoch)\n",
    "                    num_samples_in_batch.append(outputs.shape[0])\n",
    "                    gradient_arr.append(model.skip_connect_prot.weight.grad.cpu().numpy()[0])\n",
    "                running_loss_train += (loss.item()*lengths_codes.shape[0])\n",
    "                num_train_samples += lengths_codes.shape[0]\n",
    "\n",
    "        train_loss = running_loss_train / num_train_samples\n",
    "        train_losses.append(train_loss)\n",
    "\n",
    "        model.eval()\n",
    "        running_loss_test, num_samples_test = 0, 0\n",
    "        predictions = []\n",
    "        true_labels = []\n",
    "        if feature_types == 'EHR':\n",
    "            with torch.no_grad():\n",
    "                for (inputs_codes, labels_codes, lengths_codes)in test_loader_codes:\n",
    "                    inputs_codes, labels = inputs_codes.to(device), labels_codes.to(device)\n",
    "\n",
    "                    outputs = model(inputs_codes, lengths_codes)\n",
    "                    \n",
    "                    mean_tensor = torch.tensor(mean_test_outcomes, dtype=torch.float32, device=device)\n",
    "                    std_tensor = torch.tensor(sd_test_outcomes, dtype=torch.float32, device=device)\n",
    "\n",
    "                    denormalized_outputs = outputs.squeeze() * std_tensor + mean_tensor\n",
    "                    denormalized_labels = labels * std_tensor + mean_tensor\n",
    "                   \n",
    "                    loss = criterion(denormalized_outputs, denormalized_labels)\n",
    "                    running_loss_test += (loss.item()*lengths_codes.shape[0])\n",
    "                    num_samples_test += lengths_codes.shape[0]\n",
    "                    predictions.extend(outputs.squeeze().tolist())\n",
    "                    true_labels.extend(labels.tolist())\n",
    "        else:\n",
    "            with torch.no_grad():\n",
    "                for (inputs_codes, labels_codes, lengths_codes), (inputs_proteomics, labels_proteomics) in (zip(test_loader_codes, test_loader_proteomics)):\n",
    "                    if feature_types != 'metab':\n",
    "                        inputs_codes, labels = inputs_codes.to(device), labels_codes.to(device)\n",
    "                    if feature_types != 'EHR':\n",
    "                        inputs_proteomics, labels = inputs_proteomics.to(device), labels_proteomics.to(device)\n",
    "\n",
    "                    if feature_types == 'metab':\n",
    "                        outputs = model(inputs_proteomics)\n",
    "                    elif feature_types == 'EHR':\n",
    "                        outputs = model(inputs_codes, lengths_codes)\n",
    "                    elif feature_types == 'both':\n",
    "                        outputs = model(inputs_codes, inputs_proteomics, lengths_codes)\n",
    "                    \n",
    "                    mean_tensor = torch.tensor(mean_test_outcomes, dtype=torch.float32, device=device)\n",
    "                    std_tensor = torch.tensor(sd_test_outcomes, dtype=torch.float32, device=device)\n",
    "\n",
    "                    denormalized_outputs = outputs.squeeze() * std_tensor + mean_tensor\n",
    "                    denormalized_labels = labels * std_tensor + mean_tensor\n",
    "                    \n",
    "                    loss = criterion(denormalized_outputs, denormalized_labels)\n",
    "                    running_loss_test += (loss.item()*lengths_codes.shape[0])\n",
    "                    num_samples_test += lengths_codes.shape[0]\n",
    "                    predictions.extend(outputs.squeeze().tolist())\n",
    "                    true_labels.extend(labels.tolist())\n",
    "        test_loss = running_loss_test / (num_samples_test)\n",
    "        test_losses.append(test_loss)\n",
    "        \n",
    "        patience = 5\n",
    "        pearson_corr, _ = pearsonr(predictions, true_labels)\n",
    "\n",
    "#         print(f'Epoch: {epoch+1}/{num_epochs}, Train Loss: {train_loss:.4f}, Test Loss: {test_loss:.4f}, Pearson R: {pearson_corr:.4f}')\n",
    "        #check early stopping criteria\n",
    "        if test_loss < best_loss:\n",
    "            best_loss = test_loss\n",
    "            counter = 0\n",
    "            torch.save(model.state_dict(), './models/predictive_models/{}.pth'.format(experiment_name))\n",
    "        else:\n",
    "            counter += 1\n",
    "            if counter >= patience:\n",
    "                break\n",
    "\n",
    "    #when training stops (either due to max epochs or early stopping), load most recent best model per test loss\n",
    "    model.load_state_dict(torch.load('./models/predictive_models/{}.pth'.format(experiment_name)))\n",
    "    running_loss_val, num_samples_val = 0, 0\n",
    "    val_predictions = []\n",
    "    val_true_labels = []\n",
    "    #evaluate model on validation data\n",
    "    with torch.no_grad():\n",
    "        model.eval()\n",
    "        if feature_types == 'EHR':\n",
    "            for (inputs_codes, labels_codes, lengths_codes) in val_loader_codes:\n",
    "                if feature_types != 'metab':\n",
    "                    inputs_codes, labels = inputs_codes.to(device), labels_codes.to(device)\n",
    "                if feature_types != 'EHR':\n",
    "                    inputs_proteomics, labels = inputs_proteomics.to(device), labels_proteomics.to(device)\n",
    "\n",
    "                if feature_types == 'metab':\n",
    "                    outputs = model(inputs_proteomics)\n",
    "                elif feature_types == 'EHR':\n",
    "                    outputs = model(inputs_codes, lengths_codes)\n",
    "                elif feature_types == 'both':\n",
    "                    outputs, interpretability_outputs = model(inputs_codes, inputs_proteomics, lengths_codes, interpretability=True)\n",
    "                    \n",
    "                mean_tensor = torch.tensor(mean_val_outcomes, dtype=torch.float32, device=device)\n",
    "                std_tensor = torch.tensor(sd_val_outcomes, dtype=torch.float32, device=device)\n",
    "\n",
    "                denormalized_outputs = outputs.squeeze() * std_tensor + mean_tensor\n",
    "                denormalized_labels = labels * std_tensor + mean_tensor\n",
    "\n",
    "                loss = criterion(denormalized_outputs, denormalized_labels)\n",
    "                running_loss_val += (loss.item()*lengths_codes.shape[0])\n",
    "                num_samples_val += lengths_codes.shape[0]\n",
    "                val_predictions.extend(outputs.squeeze().tolist())\n",
    "                val_true_labels.extend(labels.tolist())\n",
    "        else:\n",
    "            for (inputs_codes, labels_codes, lengths_codes), (inputs_proteomics, labels_proteomics) in (zip(val_loader_codes, val_loader_proteomics)):\n",
    "                if feature_types != 'metab':\n",
    "                    inputs_codes, labels = inputs_codes.to(device), labels_codes.to(device)\n",
    "                if feature_types != 'EHR':\n",
    "                    inputs_proteomics, labels = inputs_proteomics.to(device), labels_proteomics.to(device)\n",
    "\n",
    "                if feature_types == 'metab':\n",
    "                    outputs = model(inputs_proteomics)\n",
    "                elif feature_types == 'EHR':\n",
    "                    outputs = model(inputs_codes, lengths_codes)\n",
    "                elif feature_types == 'both':\n",
    "                    outputs, interpretability_outputs = model(inputs_codes, inputs_proteomics, lengths_codes, interpretability=True)\n",
    "\n",
    "                mean_tensor = torch.tensor(mean_val_outcomes, dtype=torch.float32, device=device)\n",
    "                std_tensor = torch.tensor(sd_val_outcomes, dtype=torch.float32, device=device)\n",
    "\n",
    "                denormalized_outputs = outputs.squeeze() * std_tensor + mean_tensor\n",
    "                denormalized_labels = labels * std_tensor + mean_tensor\n",
    "\n",
    "                loss = criterion(denormalized_outputs, denormalized_labels)\n",
    "                running_loss_val += (loss.item()*lengths_codes.shape[0])\n",
    "                num_samples_val += lengths_codes.shape[0]\n",
    "                val_predictions.extend(outputs.squeeze().tolist())\n",
    "                val_true_labels.extend(labels.tolist())\n",
    "    val_loss = running_loss_val / (num_samples_val)\n",
    "    val_losses.append(val_loss)\n",
    "    pearson_corr, _ = pearsonr(val_predictions, val_true_labels)\n",
    "    original_val_outcomes = outcomes[val_indices]\n",
    "    val_outcome_mean, val_outcome_sd = np.mean(original_val_outcomes), np.std(original_val_outcomes)\n",
    "    val_rmse = np.sqrt(mean_squared_error(original_val_outcomes, np.array(val_predictions)*val_outcome_sd+val_outcome_mean))\n",
    "\n",
    "    print(f'Epoch: {epoch+1}/{num_epochs}, Val Loss: {val_loss:.4f}, Pearson R: {pearson_corr:.4f}, RMSE: {val_rmse:.4f}')\n",
    "    \n",
    "    if hyperparam_tuning == True:\n",
    "        os.remove('./models/predictive_models/{}.pth'.format(experiment_name))\n",
    "    if return_preds == True:\n",
    "        if return_interpretability == False:\n",
    "            if return_grads:\n",
    "                df = pd.DataFrame([epoch_arr, num_samples_in_batch, gradient_arr]).T\n",
    "                df.columns = ['epoch', 'num_samples_in_batch','gradient']\n",
    "                return pearson_corr, val_loss, val_rmse, original_val_outcomes, np.array(val_predictions)*val_outcome_sd+val_outcome_mean, val_indices, df, train_losses, test_losses, val_losses, train_indices, test_indices\n",
    "            else:\n",
    "                return pearson_corr, val_loss, val_rmse, original_val_outcomes, np.array(val_predictions)*val_outcome_sd+val_outcome_mean, val_indices\n",
    "        else:\n",
    "            if return_grads:\n",
    "                df = pd.DataFrame([epoch_arr, num_samples_in_batch, gradient_arr]).T\n",
    "                df.columns = ['epoch', 'num_samples_in_batch','gradient']\n",
    "                return pearson_corr, val_loss, val_rmse, original_val_outcomes, np.array(val_predictions)*val_outcome_sd+val_outcome_mean, val_indices, interpretability_outputs, val_outcome_mean, val_outcome_sd, df, train_losses, test_losses, val_losses, train_indices, test_indices\n",
    "            else:\n",
    "                return pearson_corr, val_loss, val_rmse, original_val_outcomes, np.array(val_predictions)*val_outcome_sd+val_outcome_mean, val_indices, interpretability_outputs, val_outcome_mean, val_outcome_sd\n",
    "    else:\n",
    "        return pearson_corr, val_loss, val_rmse\n",
    "\n"
   ]
  },
  {
   "cell_type": "code",
   "execution_count": 63,
   "id": "ea5e72ba",
   "metadata": {},
   "outputs": [
    {
     "data": {
      "text/plain": [
       "((42, 32, 400), (42,), (42,), (42, 2))"
      ]
     },
     "execution_count": 63,
     "metadata": {},
     "output_type": "execute_result"
    }
   ],
   "source": [
    "#load omics data with the omics word2vec model\n",
    "RNN_data_codes_OOL = np.load('./data/processed_data/RNN_data_codes_with_obs_word2vec_from_ool.npy')\n",
    "RNN_data_outcomes_OOL = np.load('./data/processed_data/RNN_data_outcomes_with_obs_word2vec_from_ool.npy')\n",
    "RNN_data_lengths_OOL = np.load('./data/processed_data/RNN_data_lengths_with_obs_word2vec_from_ool.npy')\n",
    "patient_indices_OOL = pd.read_csv('./data/processed_data/sampleID_indices_with_obs_word2vec_from_ool.csv').drop('Unnamed: 0',axis=1)\n",
    "patient_indices_OOL.columns = ['sample_ID','array_index']\n",
    "RNN_data_codes_OOL.shape, RNN_data_outcomes_OOL.shape, RNN_data_lengths_OOL.shape, patient_indices_OOL.shape"
   ]
  },
  {
   "cell_type": "code",
   "execution_count": 64,
   "id": "c40bbad1",
   "metadata": {},
   "outputs": [
    {
     "data": {
      "text/plain": [
       "((42, 32, 400), (42,), (42,), (42, 2))"
      ]
     },
     "execution_count": 64,
     "metadata": {},
     "output_type": "execute_result"
    }
   ],
   "source": [
    "#load omics data with the pre-trained word2vec model\n",
    "RNN_data_codes = np.load('./data/processed_data/RNN_data_codes_with_obs.npy')\n",
    "RNN_data_outcomes = np.load('./data/processed_data/RNN_data_outcomes_with_obs.npy')\n",
    "RNN_data_lengths = np.load('./data/processed_data/RNN_data_lengths_with_obs.npy')\n",
    "patient_indices = pd.read_csv('./data/processed_data/sampleID_indices_with_obs.csv').drop('Unnamed: 0',axis=1)\n",
    "patient_indices.columns = ['sample_ID','array_index']\n",
    "RNN_data_codes.shape, RNN_data_outcomes.shape, RNN_data_lengths.shape, patient_indices.shape"
   ]
  },
  {
   "cell_type": "code",
   "execution_count": 65,
   "id": "db45d270",
   "metadata": {},
   "outputs": [
    {
     "data": {
      "text/plain": [
       "((113, 32, 400), (113,), (113,), (113, 2))"
      ]
     },
     "execution_count": 65,
     "metadata": {},
     "output_type": "execute_result"
    }
   ],
   "source": [
    "#load pre-training cohort data\n",
    "RNN_data_codes_PTMODEL = np.load('./data/processed_data/RNN_data_full_EHR_cohort_with_obs_fixed.npy')\n",
    "RNN_data_outcomes_PTMODEL = np.load('./data/processed_data/RNN_data_outcomes_full_EHR_cohort_with_obs_fixed.npy')\n",
    "RNN_data_lengths_PTMODEL = np.load('./data/processed_data/RNN_data_lengths_full_EHR_cohort_with_obs_fixed.npy')\n",
    "patient_indices_PTMODEL = pd.read_csv('./data/processed_data/sampleID_indices_full_cohort_with_obs_fixed.csv').drop('Unnamed: 0',axis=1)\n",
    "patient_indices_PTMODEL.columns = ['sample_ID','array_index']\n",
    "RNN_data_codes_PTMODEL.shape, RNN_data_outcomes_PTMODEL.shape, RNN_data_lengths_PTMODEL.shape, patient_indices_PTMODEL.shape"
   ]
  },
  {
   "cell_type": "code",
   "execution_count": 66,
   "id": "d7af171a",
   "metadata": {},
   "outputs": [],
   "source": [
    "overall_best_params = {}"
   ]
  },
  {
   "cell_type": "code",
   "execution_count": 67,
   "id": "f6dc316f",
   "metadata": {},
   "outputs": [],
   "source": [
    "outcome_list = ['DOS']"
   ]
  },
  {
   "cell_type": "code",
   "execution_count": 68,
   "id": "7a28a8dc",
   "metadata": {},
   "outputs": [],
   "source": [
    "NUM_TRIALS = 25"
   ]
  },
  {
   "cell_type": "code",
   "execution_count": 69,
   "id": "467b6e3d",
   "metadata": {},
   "outputs": [],
   "source": [
    "#our proteomics data has 12 proteins which are used for QC, all labeled with \"HCE\"\n",
    "#we exclude these proteins from our analysis\n",
    "columns_to_drop = [col for col in OOL_proteomics.columns if \"HCE\" in col]\n",
    "OOL_proteomics = OOL_proteomics.drop(columns=columns_to_drop)\n"
   ]
  },
  {
   "cell_type": "code",
   "execution_count": 70,
   "id": "a164efdc",
   "metadata": {},
   "outputs": [
    {
     "data": {
      "application/vnd.jupyter.widget-view+json": {
       "model_id": "92c849860ac64af098a4113e6dc3cc48",
       "version_major": 2,
       "version_minor": 0
      },
      "text/plain": [
       "  0%|          | 0/1 [00:00<?, ?it/s]"
      ]
     },
     "metadata": {},
     "output_type": "display_data"
    },
    {
     "data": {
      "application/vnd.jupyter.widget-view+json": {
       "model_id": "4ba98c3abef648aebdd4f6d4de4adb3a",
       "version_major": 2,
       "version_minor": 0
      },
      "text/plain": [
       "  0%|          | 0/320 [00:00<?, ?it/s]"
      ]
     },
     "metadata": {},
     "output_type": "display_data"
    },
    {
     "name": "stdout",
     "output_type": "stream",
     "text": [
      "{'batch_size': 512, 'lr': 0.1, 'dropout': 0.1, 'lr_decay': 0.1, 'layers': 2, 'hidden_dim': 400}\n",
      "Epoch: 6/100, Val Loss: 8437.8896, Pearson R: -0.5368, RMSE: 92.0400\n",
      "{'batch_size': 512, 'lr': 0.1, 'dropout': 0.1, 'lr_decay': 0.1, 'layers': 2, 'hidden_dim': 800}\n",
      "Epoch: 6/100, Val Loss: 50250.7617, Pearson R: 0.4055, RMSE: 224.2142\n",
      "{'batch_size': 512, 'lr': 0.1, 'dropout': 0.1, 'lr_decay': 0.1, 'layers': 4, 'hidden_dim': 400}\n",
      "Epoch: 18/100, Val Loss: 825.4804, Pearson R: -0.5524, RMSE: 29.4382\n",
      "{'batch_size': 512, 'lr': 0.1, 'dropout': 0.1, 'lr_decay': 0.1, 'layers': 4, 'hidden_dim': 800}\n"
     ]
    },
    {
     "name": "stderr",
     "output_type": "stream",
     "text": [
      "/home/samsonm/miniconda3/envs/multi_modal_DL/lib/python3.10/site-packages/scipy/stats/_stats_py.py:4424: ConstantInputWarning: An input array is constant; the correlation coefficient is not defined.\n",
      "  warnings.warn(stats.ConstantInputWarning(msg))\n"
     ]
    },
    {
     "name": "stdout",
     "output_type": "stream",
     "text": [
      "Epoch: 9/100, Val Loss: 970.9093, Pearson R: -0.2926, RMSE: 31.6785\n",
      "{'batch_size': 512, 'lr': 0.1, 'dropout': 0.1, 'lr_decay': 0.01, 'layers': 2, 'hidden_dim': 400}\n",
      "Epoch: 6/100, Val Loss: 4169.0571, Pearson R: -0.1962, RMSE: 64.8280\n",
      "{'batch_size': 512, 'lr': 0.1, 'dropout': 0.1, 'lr_decay': 0.01, 'layers': 2, 'hidden_dim': 800}\n",
      "Epoch: 6/100, Val Loss: 11136.9336, Pearson R: 0.1466, RMSE: 105.6407\n",
      "{'batch_size': 512, 'lr': 0.1, 'dropout': 0.1, 'lr_decay': 0.01, 'layers': 4, 'hidden_dim': 400}\n"
     ]
    },
    {
     "name": "stderr",
     "output_type": "stream",
     "text": [
      "/home/samsonm/miniconda3/envs/multi_modal_DL/lib/python3.10/site-packages/scipy/stats/_stats_py.py:4424: ConstantInputWarning: An input array is constant; the correlation coefficient is not defined.\n",
      "  warnings.warn(stats.ConstantInputWarning(msg))\n"
     ]
    },
    {
     "name": "stdout",
     "output_type": "stream",
     "text": [
      "Epoch: 11/100, Val Loss: 1045.8884, Pearson R: 0.3546, RMSE: 32.8365\n",
      "{'batch_size': 512, 'lr': 0.1, 'dropout': 0.1, 'lr_decay': 0.01, 'layers': 4, 'hidden_dim': 800}\n",
      "Epoch: 14/100, Val Loss: 504.4065, Pearson R: -0.5875, RMSE: 23.1685\n",
      "{'batch_size': 512, 'lr': 0.1, 'dropout': 0.1, 'lr_decay': 0.001, 'layers': 2, 'hidden_dim': 400}\n",
      "Epoch: 15/100, Val Loss: 445.0491, Pearson R: 0.1512, RMSE: 21.8307\n",
      "{'batch_size': 512, 'lr': 0.1, 'dropout': 0.1, 'lr_decay': 0.001, 'layers': 2, 'hidden_dim': 800}\n",
      "Epoch: 12/100, Val Loss: 658.5264, Pearson R: -0.0644, RMSE: 26.3042\n",
      "{'batch_size': 512, 'lr': 0.1, 'dropout': 0.1, 'lr_decay': 0.001, 'layers': 4, 'hidden_dim': 400}\n",
      "Epoch: 11/100, Val Loss: 3239.6821, Pearson R: -0.3264, RMSE: 57.2695\n",
      "{'batch_size': 512, 'lr': 0.1, 'dropout': 0.1, 'lr_decay': 0.001, 'layers': 4, 'hidden_dim': 800}\n",
      "Epoch: 22/100, Val Loss: 433.0971, Pearson R: 0.3658, RMSE: 21.5565\n",
      "{'batch_size': 512, 'lr': 0.1, 'dropout': 0.1, 'lr_decay': 0.0001, 'layers': 2, 'hidden_dim': 400}\n",
      "Epoch: 11/100, Val Loss: 488.7037, Pearson R: -0.1223, RMSE: 22.8348\n",
      "{'batch_size': 512, 'lr': 0.1, 'dropout': 0.1, 'lr_decay': 0.0001, 'layers': 2, 'hidden_dim': 800}\n",
      "Epoch: 14/100, Val Loss: 617.3350, Pearson R: -0.0750, RMSE: 25.5055\n",
      "{'batch_size': 512, 'lr': 0.1, 'dropout': 0.1, 'lr_decay': 0.0001, 'layers': 4, 'hidden_dim': 400}\n",
      "Epoch: 33/100, Val Loss: 453.2528, Pearson R: 0.3332, RMSE: 22.0369\n",
      "{'batch_size': 512, 'lr': 0.1, 'dropout': 0.1, 'lr_decay': 0.0001, 'layers': 4, 'hidden_dim': 800}\n",
      "Epoch: 30/100, Val Loss: 488.9949, Pearson R: -0.5232, RMSE: 22.8458\n",
      "{'batch_size': 512, 'lr': 0.1, 'dropout': 0.2, 'lr_decay': 0.1, 'layers': 2, 'hidden_dim': 400}\n"
     ]
    },
    {
     "name": "stderr",
     "output_type": "stream",
     "text": [
      "/home/samsonm/miniconda3/envs/multi_modal_DL/lib/python3.10/site-packages/scipy/stats/_stats_py.py:4424: ConstantInputWarning: An input array is constant; the correlation coefficient is not defined.\n",
      "  warnings.warn(stats.ConstantInputWarning(msg))\n"
     ]
    },
    {
     "name": "stdout",
     "output_type": "stream",
     "text": [
      "Epoch: 24/100, Val Loss: 541.1212, Pearson R: -0.2062, RMSE: 23.9477\n",
      "{'batch_size': 512, 'lr': 0.1, 'dropout': 0.2, 'lr_decay': 0.1, 'layers': 2, 'hidden_dim': 800}\n",
      "Epoch: 16/100, Val Loss: 1613.7904, Pearson R: -0.1247, RMSE: 40.5738\n",
      "{'batch_size': 512, 'lr': 0.1, 'dropout': 0.2, 'lr_decay': 0.1, 'layers': 4, 'hidden_dim': 400}\n",
      "Epoch: 6/100, Val Loss: 9530.4902, Pearson R: 0.6312, RMSE: 97.7827\n",
      "{'batch_size': 512, 'lr': 0.1, 'dropout': 0.2, 'lr_decay': 0.1, 'layers': 4, 'hidden_dim': 800}\n",
      "Epoch: 6/100, Val Loss: 20875.3027, Pearson R: -0.4230, RMSE: 144.6472\n",
      "{'batch_size': 512, 'lr': 0.1, 'dropout': 0.2, 'lr_decay': 0.01, 'layers': 2, 'hidden_dim': 400}\n",
      "Epoch: 7/100, Val Loss: 835.0297, Pearson R: 0.6385, RMSE: 29.2610\n",
      "{'batch_size': 512, 'lr': 0.1, 'dropout': 0.2, 'lr_decay': 0.01, 'layers': 2, 'hidden_dim': 800}\n",
      "Epoch: 6/100, Val Loss: 45087.6523, Pearson R: -0.2300, RMSE: 212.4171\n",
      "{'batch_size': 512, 'lr': 0.1, 'dropout': 0.2, 'lr_decay': 0.01, 'layers': 4, 'hidden_dim': 400}\n"
     ]
    },
    {
     "name": "stderr",
     "output_type": "stream",
     "text": [
      "/home/samsonm/miniconda3/envs/multi_modal_DL/lib/python3.10/site-packages/scipy/stats/_stats_py.py:4424: ConstantInputWarning: An input array is constant; the correlation coefficient is not defined.\n",
      "  warnings.warn(stats.ConstantInputWarning(msg))\n"
     ]
    },
    {
     "name": "stdout",
     "output_type": "stream",
     "text": [
      "Epoch: 21/100, Val Loss: 453.2511, Pearson R: 0.2547, RMSE: 22.0369\n",
      "{'batch_size': 512, 'lr': 0.1, 'dropout': 0.2, 'lr_decay': 0.01, 'layers': 4, 'hidden_dim': 800}\n",
      "Epoch: 17/100, Val Loss: 469.8111, Pearson R: -0.6274, RMSE: 22.4222\n",
      "{'batch_size': 512, 'lr': 0.1, 'dropout': 0.2, 'lr_decay': 0.001, 'layers': 2, 'hidden_dim': 400}\n",
      "Epoch: 16/100, Val Loss: 535.4394, Pearson R: -0.0307, RMSE: 23.8289\n",
      "{'batch_size': 512, 'lr': 0.1, 'dropout': 0.2, 'lr_decay': 0.001, 'layers': 2, 'hidden_dim': 800}\n",
      "Epoch: 6/100, Val Loss: 23572.7559, Pearson R: 0.0392, RMSE: 153.6300\n",
      "{'batch_size': 512, 'lr': 0.1, 'dropout': 0.2, 'lr_decay': 0.001, 'layers': 4, 'hidden_dim': 400}\n",
      "Epoch: 7/100, Val Loss: 486.9024, Pearson R: -0.2458, RMSE: 22.8044\n",
      "{'batch_size': 512, 'lr': 0.1, 'dropout': 0.2, 'lr_decay': 0.001, 'layers': 4, 'hidden_dim': 800}\n",
      "Epoch: 17/100, Val Loss: 547.9350, Pearson R: -0.0564, RMSE: 24.0896\n",
      "{'batch_size': 512, 'lr': 0.1, 'dropout': 0.2, 'lr_decay': 0.0001, 'layers': 2, 'hidden_dim': 400}\n",
      "Epoch: 19/100, Val Loss: 623.9905, Pearson R: 0.4035, RMSE: 25.5933\n",
      "{'batch_size': 512, 'lr': 0.1, 'dropout': 0.2, 'lr_decay': 0.0001, 'layers': 2, 'hidden_dim': 800}\n",
      "Epoch: 24/100, Val Loss: 474.5541, Pearson R: 0.2543, RMSE: 22.4910\n",
      "{'batch_size': 512, 'lr': 0.1, 'dropout': 0.2, 'lr_decay': 0.0001, 'layers': 4, 'hidden_dim': 400}\n",
      "Epoch: 6/100, Val Loss: 1443.8679, Pearson R: 0.1833, RMSE: 38.3010\n",
      "{'batch_size': 512, 'lr': 0.1, 'dropout': 0.2, 'lr_decay': 0.0001, 'layers': 4, 'hidden_dim': 800}\n",
      "Epoch: 20/100, Val Loss: 451.9588, Pearson R: 0.0922, RMSE: 22.0042\n",
      "{'batch_size': 512, 'lr': 0.1, 'dropout': 0.3, 'lr_decay': 0.1, 'layers': 2, 'hidden_dim': 400}\n",
      "Epoch: 15/100, Val Loss: 458.1228, Pearson R: -0.0406, RMSE: 22.1492\n",
      "{'batch_size': 512, 'lr': 0.1, 'dropout': 0.3, 'lr_decay': 0.1, 'layers': 2, 'hidden_dim': 800}\n",
      "Epoch: 6/100, Val Loss: 18934.9551, Pearson R: 0.3817, RMSE: 137.7173\n",
      "{'batch_size': 512, 'lr': 0.1, 'dropout': 0.3, 'lr_decay': 0.1, 'layers': 4, 'hidden_dim': 400}\n",
      "Epoch: 10/100, Val Loss: 538.5724, Pearson R: -0.0886, RMSE: 23.8960\n",
      "{'batch_size': 512, 'lr': 0.1, 'dropout': 0.3, 'lr_decay': 0.1, 'layers': 4, 'hidden_dim': 800}\n",
      "Epoch: 6/100, Val Loss: 3615.7026, Pearson R: -0.0504, RMSE: 60.4014\n",
      "{'batch_size': 512, 'lr': 0.1, 'dropout': 0.3, 'lr_decay': 0.01, 'layers': 2, 'hidden_dim': 400}\n",
      "Epoch: 6/100, Val Loss: 6550.0264, Pearson R: 0.3416, RMSE: 81.1076\n",
      "{'batch_size': 512, 'lr': 0.1, 'dropout': 0.3, 'lr_decay': 0.01, 'layers': 2, 'hidden_dim': 800}\n"
     ]
    },
    {
     "name": "stderr",
     "output_type": "stream",
     "text": [
      "/home/samsonm/miniconda3/envs/multi_modal_DL/lib/python3.10/site-packages/scipy/stats/_stats_py.py:4424: ConstantInputWarning: An input array is constant; the correlation coefficient is not defined.\n",
      "  warnings.warn(stats.ConstantInputWarning(msg))\n"
     ]
    },
    {
     "name": "stdout",
     "output_type": "stream",
     "text": [
      "Epoch: 13/100, Val Loss: 1205.5797, Pearson R: nan, RMSE: 35.1846\n",
      "{'batch_size': 512, 'lr': 0.1, 'dropout': 0.3, 'lr_decay': 0.01, 'layers': 4, 'hidden_dim': 400}\n",
      "Epoch: 15/100, Val Loss: 462.4360, Pearson R: 0.2569, RMSE: 22.2424\n",
      "{'batch_size': 512, 'lr': 0.1, 'dropout': 0.3, 'lr_decay': 0.01, 'layers': 4, 'hidden_dim': 800}\n",
      "Epoch: 9/100, Val Loss: 455.4230, Pearson R: 0.2501, RMSE: 22.0799\n",
      "{'batch_size': 512, 'lr': 0.1, 'dropout': 0.3, 'lr_decay': 0.001, 'layers': 2, 'hidden_dim': 400}\n",
      "Epoch: 10/100, Val Loss: 413.9368, Pearson R: 0.3292, RMSE: 21.0779\n",
      "{'batch_size': 512, 'lr': 0.1, 'dropout': 0.3, 'lr_decay': 0.001, 'layers': 2, 'hidden_dim': 800}\n",
      "Epoch: 19/100, Val Loss: 444.4659, Pearson R: 0.2149, RMSE: 21.8217\n",
      "{'batch_size': 512, 'lr': 0.1, 'dropout': 0.3, 'lr_decay': 0.001, 'layers': 4, 'hidden_dim': 400}\n",
      "Epoch: 22/100, Val Loss: 626.9938, Pearson R: 0.5613, RMSE: 25.6776\n",
      "{'batch_size': 512, 'lr': 0.1, 'dropout': 0.3, 'lr_decay': 0.001, 'layers': 4, 'hidden_dim': 800}\n",
      "Epoch: 6/100, Val Loss: 2938.8289, Pearson R: 0.4238, RMSE: 54.4889\n",
      "{'batch_size': 512, 'lr': 0.1, 'dropout': 0.3, 'lr_decay': 0.0001, 'layers': 2, 'hidden_dim': 400}\n",
      "Epoch: 11/100, Val Loss: 968.0900, Pearson R: -0.1629, RMSE: 31.6303\n",
      "{'batch_size': 512, 'lr': 0.1, 'dropout': 0.3, 'lr_decay': 0.0001, 'layers': 2, 'hidden_dim': 800}\n",
      "Epoch: 11/100, Val Loss: 3852.7939, Pearson R: -0.2089, RMSE: 62.4120\n",
      "{'batch_size': 512, 'lr': 0.1, 'dropout': 0.3, 'lr_decay': 0.0001, 'layers': 4, 'hidden_dim': 400}\n",
      "Epoch: 10/100, Val Loss: 446.1160, Pearson R: 0.3260, RMSE: 21.8676\n",
      "{'batch_size': 512, 'lr': 0.1, 'dropout': 0.3, 'lr_decay': 0.0001, 'layers': 4, 'hidden_dim': 800}\n",
      "Epoch: 12/100, Val Loss: 481.6989, Pearson R: -0.1111, RMSE: 22.6769\n",
      "{'batch_size': 512, 'lr': 0.1, 'dropout': 0.4, 'lr_decay': 0.1, 'layers': 2, 'hidden_dim': 400}\n",
      "Epoch: 15/100, Val Loss: 1651.4202, Pearson R: 0.3366, RMSE: 41.0331\n",
      "{'batch_size': 512, 'lr': 0.1, 'dropout': 0.4, 'lr_decay': 0.1, 'layers': 2, 'hidden_dim': 800}\n",
      "Epoch: 6/100, Val Loss: 5780.3013, Pearson R: 0.1581, RMSE: 76.1924\n",
      "{'batch_size': 512, 'lr': 0.1, 'dropout': 0.4, 'lr_decay': 0.1, 'layers': 4, 'hidden_dim': 400}\n",
      "Epoch: 9/100, Val Loss: 655.4220, Pearson R: -0.1147, RMSE: 26.2278\n",
      "{'batch_size': 512, 'lr': 0.1, 'dropout': 0.4, 'lr_decay': 0.1, 'layers': 4, 'hidden_dim': 800}\n",
      "Epoch: 11/100, Val Loss: 699.4504, Pearson R: 0.1920, RMSE: 27.0522\n",
      "{'batch_size': 512, 'lr': 0.1, 'dropout': 0.4, 'lr_decay': 0.01, 'layers': 2, 'hidden_dim': 400}\n",
      "Epoch: 15/100, Val Loss: 454.6987, Pearson R: 0.0275, RMSE: 22.0688\n",
      "{'batch_size': 512, 'lr': 0.1, 'dropout': 0.4, 'lr_decay': 0.01, 'layers': 2, 'hidden_dim': 800}\n"
     ]
    },
    {
     "name": "stderr",
     "output_type": "stream",
     "text": [
      "/home/samsonm/miniconda3/envs/multi_modal_DL/lib/python3.10/site-packages/scipy/stats/_stats_py.py:4424: ConstantInputWarning: An input array is constant; the correlation coefficient is not defined.\n",
      "  warnings.warn(stats.ConstantInputWarning(msg))\n"
     ]
    },
    {
     "name": "stdout",
     "output_type": "stream",
     "text": [
      "Epoch: 14/100, Val Loss: 3270.6379, Pearson R: -0.3088, RMSE: 57.4718\n",
      "{'batch_size': 512, 'lr': 0.1, 'dropout': 0.4, 'lr_decay': 0.01, 'layers': 4, 'hidden_dim': 400}\n",
      "Epoch: 11/100, Val Loss: 494.3636, Pearson R: 0.1717, RMSE: 22.9502\n",
      "{'batch_size': 512, 'lr': 0.1, 'dropout': 0.4, 'lr_decay': 0.01, 'layers': 4, 'hidden_dim': 800}\n",
      "Epoch: 23/100, Val Loss: 457.1763, Pearson R: -0.4293, RMSE: 22.1281\n",
      "{'batch_size': 512, 'lr': 0.1, 'dropout': 0.4, 'lr_decay': 0.001, 'layers': 2, 'hidden_dim': 400}\n",
      "Epoch: 9/100, Val Loss: 478.1115, Pearson R: 0.5628, RMSE: 22.1810\n",
      "{'batch_size': 512, 'lr': 0.1, 'dropout': 0.4, 'lr_decay': 0.001, 'layers': 2, 'hidden_dim': 800}\n",
      "Epoch: 28/100, Val Loss: 560.9001, Pearson R: 0.0909, RMSE: 24.3505\n",
      "{'batch_size': 512, 'lr': 0.1, 'dropout': 0.4, 'lr_decay': 0.001, 'layers': 4, 'hidden_dim': 400}\n",
      "Epoch: 32/100, Val Loss: 457.0846, Pearson R: -0.4923, RMSE: 22.1254\n",
      "{'batch_size': 512, 'lr': 0.1, 'dropout': 0.4, 'lr_decay': 0.001, 'layers': 4, 'hidden_dim': 800}\n",
      "Epoch: 16/100, Val Loss: 468.9607, Pearson R: 0.5579, RMSE: 22.3895\n",
      "{'batch_size': 512, 'lr': 0.1, 'dropout': 0.4, 'lr_decay': 0.0001, 'layers': 2, 'hidden_dim': 400}\n",
      "Epoch: 7/100, Val Loss: 5315.3389, Pearson R: 0.0818, RMSE: 73.0937\n",
      "{'batch_size': 512, 'lr': 0.1, 'dropout': 0.4, 'lr_decay': 0.0001, 'layers': 2, 'hidden_dim': 800}\n",
      "Epoch: 17/100, Val Loss: 625.9097, Pearson R: -0.2884, RMSE: 25.7247\n",
      "{'batch_size': 512, 'lr': 0.1, 'dropout': 0.4, 'lr_decay': 0.0001, 'layers': 4, 'hidden_dim': 400}\n",
      "Epoch: 15/100, Val Loss: 478.5926, Pearson R: -0.6105, RMSE: 22.6051\n",
      "{'batch_size': 512, 'lr': 0.1, 'dropout': 0.4, 'lr_decay': 0.0001, 'layers': 4, 'hidden_dim': 800}\n",
      "Epoch: 11/100, Val Loss: 522.9255, Pearson R: 0.1553, RMSE: 23.5628\n",
      "{'batch_size': 512, 'lr': 0.1, 'dropout': 0.5, 'lr_decay': 0.1, 'layers': 2, 'hidden_dim': 400}\n",
      "Epoch: 6/100, Val Loss: 705.0984, Pearson R: -0.1339, RMSE: 27.1845\n",
      "{'batch_size': 512, 'lr': 0.1, 'dropout': 0.5, 'lr_decay': 0.1, 'layers': 2, 'hidden_dim': 800}\n",
      "Epoch: 6/100, Val Loss: 12559.2559, Pearson R: 0.5134, RMSE: 112.1770\n",
      "{'batch_size': 512, 'lr': 0.1, 'dropout': 0.5, 'lr_decay': 0.1, 'layers': 4, 'hidden_dim': 400}\n",
      "Epoch: 6/100, Val Loss: 948.2303, Pearson R: -0.3960, RMSE: 31.3409\n",
      "{'batch_size': 512, 'lr': 0.1, 'dropout': 0.5, 'lr_decay': 0.1, 'layers': 4, 'hidden_dim': 800}\n",
      "Epoch: 9/100, Val Loss: 4393.1348, Pearson R: -0.3409, RMSE: 66.5329\n",
      "{'batch_size': 512, 'lr': 0.1, 'dropout': 0.5, 'lr_decay': 0.01, 'layers': 2, 'hidden_dim': 400}\n",
      "Epoch: 15/100, Val Loss: 456.1021, Pearson R: -0.1224, RMSE: 22.1019\n",
      "{'batch_size': 512, 'lr': 0.1, 'dropout': 0.5, 'lr_decay': 0.01, 'layers': 2, 'hidden_dim': 800}\n"
     ]
    },
    {
     "name": "stderr",
     "output_type": "stream",
     "text": [
      "/home/samsonm/miniconda3/envs/multi_modal_DL/lib/python3.10/site-packages/scipy/stats/_stats_py.py:4424: ConstantInputWarning: An input array is constant; the correlation coefficient is not defined.\n",
      "  warnings.warn(stats.ConstantInputWarning(msg))\n"
     ]
    },
    {
     "name": "stdout",
     "output_type": "stream",
     "text": [
      "Epoch: 11/100, Val Loss: 455.9653, Pearson R: -0.3116, RMSE: 22.0984\n",
      "{'batch_size': 512, 'lr': 0.1, 'dropout': 0.5, 'lr_decay': 0.01, 'layers': 4, 'hidden_dim': 400}\n",
      "Epoch: 13/100, Val Loss: 558.6435, Pearson R: 0.4477, RMSE: 24.3080\n",
      "{'batch_size': 512, 'lr': 0.1, 'dropout': 0.5, 'lr_decay': 0.01, 'layers': 4, 'hidden_dim': 800}\n",
      "Epoch: 13/100, Val Loss: 460.7817, Pearson R: -0.2577, RMSE: 22.2124\n",
      "{'batch_size': 512, 'lr': 0.1, 'dropout': 0.5, 'lr_decay': 0.001, 'layers': 2, 'hidden_dim': 400}\n",
      "Epoch: 16/100, Val Loss: 494.5883, Pearson R: -0.3159, RMSE: 22.9561\n",
      "{'batch_size': 512, 'lr': 0.1, 'dropout': 0.5, 'lr_decay': 0.001, 'layers': 2, 'hidden_dim': 800}\n",
      "Epoch: 7/100, Val Loss: 5347.6138, Pearson R: -0.2098, RMSE: 73.3659\n",
      "{'batch_size': 512, 'lr': 0.1, 'dropout': 0.5, 'lr_decay': 0.001, 'layers': 4, 'hidden_dim': 400}\n",
      "Epoch: 12/100, Val Loss: 524.7698, Pearson R: -0.3036, RMSE: 23.6048\n",
      "{'batch_size': 512, 'lr': 0.1, 'dropout': 0.5, 'lr_decay': 0.001, 'layers': 4, 'hidden_dim': 800}\n",
      "Epoch: 6/100, Val Loss: 24563.3496, Pearson R: 0.3506, RMSE: 156.8111\n",
      "{'batch_size': 512, 'lr': 0.1, 'dropout': 0.5, 'lr_decay': 0.0001, 'layers': 2, 'hidden_dim': 400}\n",
      "Epoch: 6/100, Val Loss: 2200.5710, Pearson R: 0.0798, RMSE: 47.2376\n",
      "{'batch_size': 512, 'lr': 0.1, 'dropout': 0.5, 'lr_decay': 0.0001, 'layers': 2, 'hidden_dim': 800}\n",
      "Epoch: 17/100, Val Loss: 1114.0594, Pearson R: 0.2348, RMSE: 33.8529\n",
      "{'batch_size': 512, 'lr': 0.1, 'dropout': 0.5, 'lr_decay': 0.0001, 'layers': 4, 'hidden_dim': 400}\n",
      "Epoch: 16/100, Val Loss: 485.9595, Pearson R: -0.6531, RMSE: 22.7791\n",
      "{'batch_size': 512, 'lr': 0.1, 'dropout': 0.5, 'lr_decay': 0.0001, 'layers': 4, 'hidden_dim': 800}\n",
      "Epoch: 20/100, Val Loss: 546.5632, Pearson R: 0.2908, RMSE: 24.0457\n",
      "{'batch_size': 512, 'lr': 0.01, 'dropout': 0.1, 'lr_decay': 0.1, 'layers': 2, 'hidden_dim': 400}\n",
      "Epoch: 15/100, Val Loss: 507.3078, Pearson R: -0.2017, RMSE: 23.2463\n",
      "{'batch_size': 512, 'lr': 0.01, 'dropout': 0.1, 'lr_decay': 0.1, 'layers': 2, 'hidden_dim': 800}\n",
      "Epoch: 29/100, Val Loss: 478.8866, Pearson R: 0.0276, RMSE: 22.6059\n",
      "{'batch_size': 512, 'lr': 0.01, 'dropout': 0.1, 'lr_decay': 0.1, 'layers': 4, 'hidden_dim': 400}\n",
      "Epoch: 57/100, Val Loss: 417.3208, Pearson R: 0.3827, RMSE: 21.1517\n",
      "{'batch_size': 512, 'lr': 0.01, 'dropout': 0.1, 'lr_decay': 0.1, 'layers': 4, 'hidden_dim': 800}\n",
      "Epoch: 11/100, Val Loss: 480.9476, Pearson R: 0.1462, RMSE: 22.6550\n",
      "{'batch_size': 512, 'lr': 0.01, 'dropout': 0.1, 'lr_decay': 0.01, 'layers': 2, 'hidden_dim': 400}\n",
      "Epoch: 19/100, Val Loss: 501.7510, Pearson R: 0.1096, RMSE: 23.0769\n",
      "{'batch_size': 512, 'lr': 0.01, 'dropout': 0.1, 'lr_decay': 0.01, 'layers': 2, 'hidden_dim': 800}\n",
      "Epoch: 14/100, Val Loss: 547.9496, Pearson R: -0.4152, RMSE: 24.0942\n",
      "{'batch_size': 512, 'lr': 0.01, 'dropout': 0.1, 'lr_decay': 0.01, 'layers': 4, 'hidden_dim': 400}\n",
      "Epoch: 37/100, Val Loss: 310.9099, Pearson R: 0.6514, RMSE: 18.3363\n",
      "{'batch_size': 512, 'lr': 0.01, 'dropout': 0.1, 'lr_decay': 0.01, 'layers': 4, 'hidden_dim': 800}\n",
      "Epoch: 12/100, Val Loss: 735.4048, Pearson R: 0.4288, RMSE: 27.6999\n",
      "{'batch_size': 512, 'lr': 0.01, 'dropout': 0.1, 'lr_decay': 0.001, 'layers': 2, 'hidden_dim': 400}\n",
      "Epoch: 14/100, Val Loss: 505.8985, Pearson R: -0.3640, RMSE: 23.2270\n",
      "{'batch_size': 512, 'lr': 0.01, 'dropout': 0.1, 'lr_decay': 0.001, 'layers': 2, 'hidden_dim': 800}\n",
      "Epoch: 10/100, Val Loss: 611.2922, Pearson R: 0.4612, RMSE: 25.0365\n",
      "{'batch_size': 512, 'lr': 0.01, 'dropout': 0.1, 'lr_decay': 0.001, 'layers': 4, 'hidden_dim': 400}\n",
      "Epoch: 21/100, Val Loss: 361.2506, Pearson R: 0.5325, RMSE: 19.7320\n",
      "{'batch_size': 512, 'lr': 0.01, 'dropout': 0.1, 'lr_decay': 0.001, 'layers': 4, 'hidden_dim': 800}\n",
      "Epoch: 13/100, Val Loss: 447.2134, Pearson R: 0.3523, RMSE: 21.8882\n",
      "{'batch_size': 512, 'lr': 0.01, 'dropout': 0.1, 'lr_decay': 0.0001, 'layers': 2, 'hidden_dim': 400}\n",
      "Epoch: 20/100, Val Loss: 441.4227, Pearson R: 0.1895, RMSE: 21.7268\n",
      "{'batch_size': 512, 'lr': 0.01, 'dropout': 0.1, 'lr_decay': 0.0001, 'layers': 2, 'hidden_dim': 800}\n",
      "Epoch: 10/100, Val Loss: 481.5425, Pearson R: 0.1545, RMSE: 22.6358\n",
      "{'batch_size': 512, 'lr': 0.01, 'dropout': 0.1, 'lr_decay': 0.0001, 'layers': 4, 'hidden_dim': 400}\n",
      "Epoch: 14/100, Val Loss: 426.6466, Pearson R: 0.3207, RMSE: 21.3973\n",
      "{'batch_size': 512, 'lr': 0.01, 'dropout': 0.1, 'lr_decay': 0.0001, 'layers': 4, 'hidden_dim': 800}\n",
      "Epoch: 50/100, Val Loss: 427.1958, Pearson R: 0.3042, RMSE: 21.4089\n",
      "{'batch_size': 512, 'lr': 0.01, 'dropout': 0.2, 'lr_decay': 0.1, 'layers': 2, 'hidden_dim': 400}\n",
      "Epoch: 8/100, Val Loss: 441.5809, Pearson R: 0.2679, RMSE: 21.7565\n",
      "{'batch_size': 512, 'lr': 0.01, 'dropout': 0.2, 'lr_decay': 0.1, 'layers': 2, 'hidden_dim': 800}\n",
      "Epoch: 11/100, Val Loss: 577.5809, Pearson R: 0.4309, RMSE: 24.4569\n",
      "{'batch_size': 512, 'lr': 0.01, 'dropout': 0.2, 'lr_decay': 0.1, 'layers': 4, 'hidden_dim': 400}\n",
      "Epoch: 24/100, Val Loss: 395.1213, Pearson R: 0.4601, RMSE: 20.5950\n",
      "{'batch_size': 512, 'lr': 0.01, 'dropout': 0.2, 'lr_decay': 0.1, 'layers': 4, 'hidden_dim': 800}\n",
      "Epoch: 14/100, Val Loss: 434.3658, Pearson R: 0.2733, RMSE: 21.5832\n",
      "{'batch_size': 512, 'lr': 0.01, 'dropout': 0.2, 'lr_decay': 0.01, 'layers': 2, 'hidden_dim': 400}\n",
      "Epoch: 6/100, Val Loss: 453.3806, Pearson R: 0.3880, RMSE: 22.0136\n",
      "{'batch_size': 512, 'lr': 0.01, 'dropout': 0.2, 'lr_decay': 0.01, 'layers': 2, 'hidden_dim': 800}\n",
      "Epoch: 11/100, Val Loss: 493.6397, Pearson R: 0.3293, RMSE: 22.8465\n",
      "{'batch_size': 512, 'lr': 0.01, 'dropout': 0.2, 'lr_decay': 0.01, 'layers': 4, 'hidden_dim': 400}\n",
      "Epoch: 6/100, Val Loss: 550.3218, Pearson R: 0.3846, RMSE: 24.1162\n",
      "{'batch_size': 512, 'lr': 0.01, 'dropout': 0.2, 'lr_decay': 0.01, 'layers': 4, 'hidden_dim': 800}\n",
      "Epoch: 14/100, Val Loss: 494.6412, Pearson R: 0.4338, RMSE: 22.9560\n",
      "{'batch_size': 512, 'lr': 0.01, 'dropout': 0.2, 'lr_decay': 0.001, 'layers': 2, 'hidden_dim': 400}\n",
      "Epoch: 6/100, Val Loss: 437.5366, Pearson R: 0.3795, RMSE: 21.6609\n",
      "{'batch_size': 512, 'lr': 0.01, 'dropout': 0.2, 'lr_decay': 0.001, 'layers': 2, 'hidden_dim': 800}\n",
      "Epoch: 26/100, Val Loss: 432.0705, Pearson R: 0.2472, RMSE: 21.5222\n",
      "{'batch_size': 512, 'lr': 0.01, 'dropout': 0.2, 'lr_decay': 0.001, 'layers': 4, 'hidden_dim': 400}\n",
      "Epoch: 19/100, Val Loss: 434.1255, Pearson R: 0.7596, RMSE: 21.5824\n",
      "{'batch_size': 512, 'lr': 0.01, 'dropout': 0.2, 'lr_decay': 0.001, 'layers': 4, 'hidden_dim': 800}\n",
      "Epoch: 27/100, Val Loss: 454.8749, Pearson R: 0.4289, RMSE: 22.0732\n",
      "{'batch_size': 512, 'lr': 0.01, 'dropout': 0.2, 'lr_decay': 0.0001, 'layers': 2, 'hidden_dim': 400}\n",
      "Epoch: 6/100, Val Loss: 442.2250, Pearson R: 0.3756, RMSE: 21.7704\n",
      "{'batch_size': 512, 'lr': 0.01, 'dropout': 0.2, 'lr_decay': 0.0001, 'layers': 2, 'hidden_dim': 800}\n",
      "Epoch: 10/100, Val Loss: 617.2469, Pearson R: 0.4745, RMSE: 25.4461\n",
      "{'batch_size': 512, 'lr': 0.01, 'dropout': 0.2, 'lr_decay': 0.0001, 'layers': 4, 'hidden_dim': 400}\n",
      "Epoch: 18/100, Val Loss: 451.4891, Pearson R: 0.2520, RMSE: 21.9927\n",
      "{'batch_size': 512, 'lr': 0.01, 'dropout': 0.2, 'lr_decay': 0.0001, 'layers': 4, 'hidden_dim': 800}\n",
      "Epoch: 13/100, Val Loss: 452.1400, Pearson R: 0.1514, RMSE: 22.0107\n",
      "{'batch_size': 512, 'lr': 0.01, 'dropout': 0.3, 'lr_decay': 0.1, 'layers': 2, 'hidden_dim': 400}\n",
      "Epoch: 11/100, Val Loss: 624.9808, Pearson R: -0.5765, RMSE: 25.7283\n",
      "{'batch_size': 512, 'lr': 0.01, 'dropout': 0.3, 'lr_decay': 0.1, 'layers': 2, 'hidden_dim': 800}\n",
      "Epoch: 13/100, Val Loss: 467.0503, Pearson R: -0.0022, RMSE: 22.3479\n",
      "{'batch_size': 512, 'lr': 0.01, 'dropout': 0.3, 'lr_decay': 0.1, 'layers': 4, 'hidden_dim': 400}\n",
      "Epoch: 6/100, Val Loss: 445.6729, Pearson R: 0.4429, RMSE: 21.8549\n",
      "{'batch_size': 512, 'lr': 0.01, 'dropout': 0.3, 'lr_decay': 0.1, 'layers': 4, 'hidden_dim': 800}\n",
      "Epoch: 23/100, Val Loss: 457.2502, Pearson R: 0.1344, RMSE: 22.1253\n",
      "{'batch_size': 512, 'lr': 0.01, 'dropout': 0.3, 'lr_decay': 0.01, 'layers': 2, 'hidden_dim': 400}\n",
      "Epoch: 11/100, Val Loss: 675.6477, Pearson R: -0.4689, RMSE: 26.6987\n",
      "{'batch_size': 512, 'lr': 0.01, 'dropout': 0.3, 'lr_decay': 0.01, 'layers': 2, 'hidden_dim': 800}\n",
      "Epoch: 10/100, Val Loss: 378.5576, Pearson R: 0.4216, RMSE: 20.1615\n",
      "{'batch_size': 512, 'lr': 0.01, 'dropout': 0.3, 'lr_decay': 0.01, 'layers': 4, 'hidden_dim': 400}\n",
      "Epoch: 16/100, Val Loss: 447.8228, Pearson R: 0.1604, RMSE: 21.8879\n",
      "{'batch_size': 512, 'lr': 0.01, 'dropout': 0.3, 'lr_decay': 0.01, 'layers': 4, 'hidden_dim': 800}\n"
     ]
    },
    {
     "name": "stdout",
     "output_type": "stream",
     "text": [
      "Epoch: 10/100, Val Loss: 467.9374, Pearson R: -0.3775, RMSE: 22.3768\n",
      "{'batch_size': 512, 'lr': 0.01, 'dropout': 0.3, 'lr_decay': 0.001, 'layers': 2, 'hidden_dim': 400}\n",
      "Epoch: 6/100, Val Loss: 467.5665, Pearson R: 0.3629, RMSE: 22.3330\n",
      "{'batch_size': 512, 'lr': 0.01, 'dropout': 0.3, 'lr_decay': 0.001, 'layers': 2, 'hidden_dim': 800}\n",
      "Epoch: 12/100, Val Loss: 462.9291, Pearson R: -0.5490, RMSE: 22.2616\n",
      "{'batch_size': 512, 'lr': 0.01, 'dropout': 0.3, 'lr_decay': 0.001, 'layers': 4, 'hidden_dim': 400}\n",
      "Epoch: 17/100, Val Loss: 448.3062, Pearson R: 0.3705, RMSE: 21.9202\n",
      "{'batch_size': 512, 'lr': 0.01, 'dropout': 0.3, 'lr_decay': 0.001, 'layers': 4, 'hidden_dim': 800}\n",
      "Epoch: 13/100, Val Loss: 441.2811, Pearson R: 0.3340, RMSE: 21.7497\n",
      "{'batch_size': 512, 'lr': 0.01, 'dropout': 0.3, 'lr_decay': 0.0001, 'layers': 2, 'hidden_dim': 400}\n",
      "Epoch: 11/100, Val Loss: 573.2796, Pearson R: -0.3308, RMSE: 24.6590\n",
      "{'batch_size': 512, 'lr': 0.01, 'dropout': 0.3, 'lr_decay': 0.0001, 'layers': 2, 'hidden_dim': 800}\n",
      "Epoch: 16/100, Val Loss: 391.7516, Pearson R: 0.5484, RMSE: 20.5339\n",
      "{'batch_size': 512, 'lr': 0.01, 'dropout': 0.3, 'lr_decay': 0.0001, 'layers': 4, 'hidden_dim': 400}\n",
      "Epoch: 25/100, Val Loss: 396.8260, Pearson R: 0.6320, RMSE: 20.6637\n",
      "{'batch_size': 512, 'lr': 0.01, 'dropout': 0.3, 'lr_decay': 0.0001, 'layers': 4, 'hidden_dim': 800}\n",
      "Epoch: 9/100, Val Loss: 468.6651, Pearson R: -0.4770, RMSE: 22.3864\n",
      "{'batch_size': 512, 'lr': 0.01, 'dropout': 0.4, 'lr_decay': 0.1, 'layers': 2, 'hidden_dim': 400}\n",
      "Epoch: 11/100, Val Loss: 515.7698, Pearson R: -0.5997, RMSE: 23.4543\n",
      "{'batch_size': 512, 'lr': 0.01, 'dropout': 0.4, 'lr_decay': 0.1, 'layers': 2, 'hidden_dim': 800}\n",
      "Epoch: 15/100, Val Loss: 479.0605, Pearson R: -0.6107, RMSE: 22.6323\n",
      "{'batch_size': 512, 'lr': 0.01, 'dropout': 0.4, 'lr_decay': 0.1, 'layers': 4, 'hidden_dim': 400}\n",
      "Epoch: 29/100, Val Loss: 409.4035, Pearson R: 0.3408, RMSE: 20.9483\n",
      "{'batch_size': 512, 'lr': 0.01, 'dropout': 0.4, 'lr_decay': 0.1, 'layers': 4, 'hidden_dim': 800}\n",
      "Epoch: 22/100, Val Loss: 448.4927, Pearson R: 0.1099, RMSE: 21.9220\n",
      "{'batch_size': 512, 'lr': 0.01, 'dropout': 0.4, 'lr_decay': 0.01, 'layers': 2, 'hidden_dim': 400}\n",
      "Epoch: 8/100, Val Loss: 445.7796, Pearson R: 0.1913, RMSE: 21.8565\n",
      "{'batch_size': 512, 'lr': 0.01, 'dropout': 0.4, 'lr_decay': 0.01, 'layers': 2, 'hidden_dim': 800}\n",
      "Epoch: 20/100, Val Loss: 453.5392, Pearson R: -0.0801, RMSE: 22.0435\n",
      "{'batch_size': 512, 'lr': 0.01, 'dropout': 0.4, 'lr_decay': 0.01, 'layers': 4, 'hidden_dim': 400}\n",
      "Epoch: 13/100, Val Loss: 482.8039, Pearson R: -0.6199, RMSE: 22.7180\n",
      "{'batch_size': 512, 'lr': 0.01, 'dropout': 0.4, 'lr_decay': 0.01, 'layers': 4, 'hidden_dim': 800}\n",
      "Epoch: 9/100, Val Loss: 468.4345, Pearson R: 0.0491, RMSE: 22.3755\n",
      "{'batch_size': 512, 'lr': 0.01, 'dropout': 0.4, 'lr_decay': 0.001, 'layers': 2, 'hidden_dim': 400}\n",
      "Epoch: 11/100, Val Loss: 599.9887, Pearson R: -0.4961, RMSE: 25.2210\n",
      "{'batch_size': 512, 'lr': 0.01, 'dropout': 0.4, 'lr_decay': 0.001, 'layers': 2, 'hidden_dim': 800}\n",
      "Epoch: 15/100, Val Loss: 492.3723, Pearson R: 0.2740, RMSE: 22.9034\n",
      "{'batch_size': 512, 'lr': 0.01, 'dropout': 0.4, 'lr_decay': 0.001, 'layers': 4, 'hidden_dim': 400}\n",
      "Epoch: 6/100, Val Loss: 453.6612, Pearson R: 0.4246, RMSE: 22.0379\n",
      "{'batch_size': 512, 'lr': 0.01, 'dropout': 0.4, 'lr_decay': 0.001, 'layers': 4, 'hidden_dim': 800}\n",
      "Epoch: 28/100, Val Loss: 453.8103, Pearson R: -0.0589, RMSE: 22.0497\n",
      "{'batch_size': 512, 'lr': 0.01, 'dropout': 0.4, 'lr_decay': 0.0001, 'layers': 2, 'hidden_dim': 400}\n",
      "Epoch: 6/100, Val Loss: 439.9579, Pearson R: 0.3760, RMSE: 21.7216\n",
      "{'batch_size': 512, 'lr': 0.01, 'dropout': 0.4, 'lr_decay': 0.0001, 'layers': 2, 'hidden_dim': 800}\n",
      "Epoch: 14/100, Val Loss: 410.6882, Pearson R: 0.3653, RMSE: 21.0028\n",
      "{'batch_size': 512, 'lr': 0.01, 'dropout': 0.4, 'lr_decay': 0.0001, 'layers': 4, 'hidden_dim': 400}\n",
      "Epoch: 6/100, Val Loss: 450.6638, Pearson R: 0.5864, RMSE: 21.9730\n",
      "{'batch_size': 512, 'lr': 0.01, 'dropout': 0.4, 'lr_decay': 0.0001, 'layers': 4, 'hidden_dim': 800}\n",
      "Epoch: 12/100, Val Loss: 449.0631, Pearson R: 0.4490, RMSE: 21.9372\n",
      "{'batch_size': 512, 'lr': 0.01, 'dropout': 0.5, 'lr_decay': 0.1, 'layers': 2, 'hidden_dim': 400}\n",
      "Epoch: 11/100, Val Loss: 521.0464, Pearson R: -0.5624, RMSE: 23.5685\n",
      "{'batch_size': 512, 'lr': 0.01, 'dropout': 0.5, 'lr_decay': 0.1, 'layers': 2, 'hidden_dim': 800}\n",
      "Epoch: 33/100, Val Loss: 432.7451, Pearson R: 0.4139, RMSE: 21.5479\n",
      "{'batch_size': 512, 'lr': 0.01, 'dropout': 0.5, 'lr_decay': 0.1, 'layers': 4, 'hidden_dim': 400}\n",
      "Epoch: 6/100, Val Loss: 588.1490, Pearson R: 0.3664, RMSE: 24.8774\n",
      "{'batch_size': 512, 'lr': 0.01, 'dropout': 0.5, 'lr_decay': 0.1, 'layers': 4, 'hidden_dim': 800}\n",
      "Epoch: 12/100, Val Loss: 533.8743, Pearson R: 0.2926, RMSE: 23.7944\n",
      "{'batch_size': 512, 'lr': 0.01, 'dropout': 0.5, 'lr_decay': 0.01, 'layers': 2, 'hidden_dim': 400}\n",
      "Epoch: 11/100, Val Loss: 682.5433, Pearson R: -0.4643, RMSE: 26.8370\n",
      "{'batch_size': 512, 'lr': 0.01, 'dropout': 0.5, 'lr_decay': 0.01, 'layers': 2, 'hidden_dim': 800}\n",
      "Epoch: 10/100, Val Loss: 442.8418, Pearson R: 0.4473, RMSE: 21.7727\n",
      "{'batch_size': 512, 'lr': 0.01, 'dropout': 0.5, 'lr_decay': 0.01, 'layers': 4, 'hidden_dim': 400}\n",
      "Epoch: 6/100, Val Loss: 464.5417, Pearson R: 0.3526, RMSE: 22.2651\n",
      "{'batch_size': 512, 'lr': 0.01, 'dropout': 0.5, 'lr_decay': 0.01, 'layers': 4, 'hidden_dim': 800}\n",
      "Epoch: 38/100, Val Loss: 440.3669, Pearson R: 0.3189, RMSE: 21.7314\n",
      "{'batch_size': 512, 'lr': 0.01, 'dropout': 0.5, 'lr_decay': 0.001, 'layers': 2, 'hidden_dim': 400}\n",
      "Epoch: 11/100, Val Loss: 584.3869, Pearson R: -0.2841, RMSE: 24.8880\n",
      "{'batch_size': 512, 'lr': 0.01, 'dropout': 0.5, 'lr_decay': 0.001, 'layers': 2, 'hidden_dim': 800}\n",
      "Epoch: 12/100, Val Loss: 456.6927, Pearson R: 0.1424, RMSE: 22.0972\n",
      "{'batch_size': 512, 'lr': 0.01, 'dropout': 0.5, 'lr_decay': 0.001, 'layers': 4, 'hidden_dim': 400}\n",
      "Epoch: 9/100, Val Loss: 478.2014, Pearson R: -0.2599, RMSE: 22.6042\n",
      "{'batch_size': 512, 'lr': 0.01, 'dropout': 0.5, 'lr_decay': 0.001, 'layers': 4, 'hidden_dim': 800}\n",
      "Epoch: 11/100, Val Loss: 740.1166, Pearson R: -0.4117, RMSE: 27.8837\n",
      "{'batch_size': 512, 'lr': 0.01, 'dropout': 0.5, 'lr_decay': 0.0001, 'layers': 2, 'hidden_dim': 400}\n",
      "Epoch: 11/100, Val Loss: 624.1237, Pearson R: -0.3997, RMSE: 25.6960\n",
      "{'batch_size': 512, 'lr': 0.01, 'dropout': 0.5, 'lr_decay': 0.0001, 'layers': 2, 'hidden_dim': 800}\n",
      "Epoch: 31/100, Val Loss: 445.2784, Pearson R: 0.1774, RMSE: 21.8340\n",
      "{'batch_size': 512, 'lr': 0.01, 'dropout': 0.5, 'lr_decay': 0.0001, 'layers': 4, 'hidden_dim': 400}\n",
      "Epoch: 9/100, Val Loss: 460.8936, Pearson R: -0.2944, RMSE: 22.2152\n",
      "{'batch_size': 512, 'lr': 0.01, 'dropout': 0.5, 'lr_decay': 0.0001, 'layers': 4, 'hidden_dim': 800}\n",
      "Epoch: 18/100, Val Loss: 468.0260, Pearson R: -0.3108, RMSE: 22.3723\n",
      "{'batch_size': 512, 'lr': 0.001, 'dropout': 0.1, 'lr_decay': 0.1, 'layers': 2, 'hidden_dim': 400}\n",
      "Epoch: 13/100, Val Loss: 449.9231, Pearson R: 0.1549, RMSE: 21.9322\n",
      "{'batch_size': 512, 'lr': 0.001, 'dropout': 0.1, 'lr_decay': 0.1, 'layers': 2, 'hidden_dim': 800}\n",
      "Epoch: 23/100, Val Loss: 469.6683, Pearson R: -0.0114, RMSE: 22.4074\n",
      "{'batch_size': 512, 'lr': 0.001, 'dropout': 0.1, 'lr_decay': 0.1, 'layers': 4, 'hidden_dim': 400}\n",
      "Epoch: 20/100, Val Loss: 460.4019, Pearson R: 0.1310, RMSE: 22.1821\n",
      "{'batch_size': 512, 'lr': 0.001, 'dropout': 0.1, 'lr_decay': 0.1, 'layers': 4, 'hidden_dim': 800}\n",
      "Epoch: 22/100, Val Loss: 463.0651, Pearson R: 0.1309, RMSE: 22.2365\n",
      "{'batch_size': 512, 'lr': 0.001, 'dropout': 0.1, 'lr_decay': 0.01, 'layers': 2, 'hidden_dim': 400}\n",
      "Epoch: 13/100, Val Loss: 481.1867, Pearson R: 0.1067, RMSE: 22.6433\n",
      "{'batch_size': 512, 'lr': 0.001, 'dropout': 0.1, 'lr_decay': 0.01, 'layers': 2, 'hidden_dim': 800}\n",
      "Epoch: 23/100, Val Loss: 485.2473, Pearson R: -0.0991, RMSE: 22.7599\n",
      "{'batch_size': 512, 'lr': 0.001, 'dropout': 0.1, 'lr_decay': 0.01, 'layers': 4, 'hidden_dim': 400}\n",
      "Epoch: 24/100, Val Loss: 474.9226, Pearson R: 0.0906, RMSE: 22.5065\n",
      "{'batch_size': 512, 'lr': 0.001, 'dropout': 0.1, 'lr_decay': 0.01, 'layers': 4, 'hidden_dim': 800}\n",
      "Epoch: 21/100, Val Loss: 461.7668, Pearson R: 0.1222, RMSE: 22.2115\n",
      "{'batch_size': 512, 'lr': 0.001, 'dropout': 0.1, 'lr_decay': 0.001, 'layers': 2, 'hidden_dim': 400}\n",
      "Epoch: 11/100, Val Loss: 437.5050, Pearson R: 0.1876, RMSE: 21.6490\n",
      "{'batch_size': 512, 'lr': 0.001, 'dropout': 0.1, 'lr_decay': 0.001, 'layers': 2, 'hidden_dim': 800}\n"
     ]
    },
    {
     "name": "stdout",
     "output_type": "stream",
     "text": [
      "Epoch: 36/100, Val Loss: 471.5922, Pearson R: -0.0132, RMSE: 22.4505\n",
      "{'batch_size': 512, 'lr': 0.001, 'dropout': 0.1, 'lr_decay': 0.001, 'layers': 4, 'hidden_dim': 400}\n",
      "Epoch: 27/100, Val Loss: 468.6995, Pearson R: 0.0900, RMSE: 22.3704\n",
      "{'batch_size': 512, 'lr': 0.001, 'dropout': 0.1, 'lr_decay': 0.001, 'layers': 4, 'hidden_dim': 800}\n",
      "Epoch: 21/100, Val Loss: 460.8708, Pearson R: 0.1365, RMSE: 22.1915\n",
      "{'batch_size': 512, 'lr': 0.001, 'dropout': 0.1, 'lr_decay': 0.0001, 'layers': 2, 'hidden_dim': 400}\n",
      "Epoch: 11/100, Val Loss: 438.4577, Pearson R: 0.1923, RMSE: 21.6763\n",
      "{'batch_size': 512, 'lr': 0.001, 'dropout': 0.1, 'lr_decay': 0.0001, 'layers': 2, 'hidden_dim': 800}\n",
      "Epoch: 37/100, Val Loss: 479.6605, Pearson R: -0.0194, RMSE: 22.6309\n",
      "{'batch_size': 512, 'lr': 0.001, 'dropout': 0.1, 'lr_decay': 0.0001, 'layers': 4, 'hidden_dim': 400}\n",
      "Epoch: 13/100, Val Loss: 441.6904, Pearson R: 0.1685, RMSE: 21.7579\n",
      "{'batch_size': 512, 'lr': 0.001, 'dropout': 0.1, 'lr_decay': 0.0001, 'layers': 4, 'hidden_dim': 800}\n",
      "Epoch: 21/100, Val Loss: 462.5048, Pearson R: 0.1244, RMSE: 22.2289\n",
      "{'batch_size': 512, 'lr': 0.001, 'dropout': 0.2, 'lr_decay': 0.1, 'layers': 2, 'hidden_dim': 400}\n",
      "Epoch: 13/100, Val Loss: 486.4361, Pearson R: 0.1271, RMSE: 22.7575\n",
      "{'batch_size': 512, 'lr': 0.001, 'dropout': 0.2, 'lr_decay': 0.1, 'layers': 2, 'hidden_dim': 800}\n",
      "Epoch: 22/100, Val Loss: 474.1781, Pearson R: -0.0173, RMSE: 22.5080\n",
      "{'batch_size': 512, 'lr': 0.001, 'dropout': 0.2, 'lr_decay': 0.1, 'layers': 4, 'hidden_dim': 400}\n",
      "Epoch: 19/100, Val Loss: 458.9015, Pearson R: 0.1351, RMSE: 22.1416\n",
      "{'batch_size': 512, 'lr': 0.001, 'dropout': 0.2, 'lr_decay': 0.1, 'layers': 4, 'hidden_dim': 800}\n",
      "Epoch: 18/100, Val Loss: 437.0344, Pearson R: 0.2187, RMSE: 21.6436\n",
      "{'batch_size': 512, 'lr': 0.001, 'dropout': 0.2, 'lr_decay': 0.01, 'layers': 2, 'hidden_dim': 400}\n",
      "Epoch: 11/100, Val Loss: 445.3130, Pearson R: 0.1682, RMSE: 21.8295\n",
      "{'batch_size': 512, 'lr': 0.001, 'dropout': 0.2, 'lr_decay': 0.01, 'layers': 2, 'hidden_dim': 800}\n",
      "Epoch: 21/100, Val Loss: 464.6183, Pearson R: -0.0054, RMSE: 22.2938\n",
      "{'batch_size': 512, 'lr': 0.001, 'dropout': 0.2, 'lr_decay': 0.01, 'layers': 4, 'hidden_dim': 400}\n",
      "Epoch: 14/100, Val Loss: 448.2953, Pearson R: 0.1496, RMSE: 21.9040\n",
      "{'batch_size': 512, 'lr': 0.001, 'dropout': 0.2, 'lr_decay': 0.01, 'layers': 4, 'hidden_dim': 800}\n",
      "Epoch: 18/100, Val Loss: 440.0151, Pearson R: 0.2115, RMSE: 21.7154\n",
      "{'batch_size': 512, 'lr': 0.001, 'dropout': 0.2, 'lr_decay': 0.001, 'layers': 2, 'hidden_dim': 400}\n",
      "Epoch: 11/100, Val Loss: 437.1097, Pearson R: 0.1900, RMSE: 21.6410\n",
      "{'batch_size': 512, 'lr': 0.001, 'dropout': 0.2, 'lr_decay': 0.001, 'layers': 2, 'hidden_dim': 800}\n",
      "Epoch: 34/100, Val Loss: 477.9234, Pearson R: -0.0167, RMSE: 22.5916\n",
      "{'batch_size': 512, 'lr': 0.001, 'dropout': 0.2, 'lr_decay': 0.001, 'layers': 4, 'hidden_dim': 400}\n",
      "Epoch: 19/100, Val Loss: 468.2729, Pearson R: 0.1107, RMSE: 22.3578\n",
      "{'batch_size': 512, 'lr': 0.001, 'dropout': 0.2, 'lr_decay': 0.001, 'layers': 4, 'hidden_dim': 800}\n",
      "Epoch: 18/100, Val Loss: 439.6617, Pearson R: 0.2134, RMSE: 21.7078\n",
      "{'batch_size': 512, 'lr': 0.001, 'dropout': 0.2, 'lr_decay': 0.0001, 'layers': 2, 'hidden_dim': 400}\n",
      "Epoch: 11/100, Val Loss: 438.9782, Pearson R: 0.1830, RMSE: 21.6829\n",
      "{'batch_size': 512, 'lr': 0.001, 'dropout': 0.2, 'lr_decay': 0.0001, 'layers': 2, 'hidden_dim': 800}\n",
      "Epoch: 22/100, Val Loss: 478.8795, Pearson R: -0.0532, RMSE: 22.6165\n",
      "{'batch_size': 512, 'lr': 0.001, 'dropout': 0.2, 'lr_decay': 0.0001, 'layers': 4, 'hidden_dim': 400}\n",
      "Epoch: 14/100, Val Loss: 448.3076, Pearson R: 0.1452, RMSE: 21.9041\n",
      "{'batch_size': 512, 'lr': 0.001, 'dropout': 0.2, 'lr_decay': 0.0001, 'layers': 4, 'hidden_dim': 800}\n",
      "Epoch: 18/100, Val Loss: 442.8479, Pearson R: 0.1815, RMSE: 21.7795\n",
      "{'batch_size': 512, 'lr': 0.001, 'dropout': 0.3, 'lr_decay': 0.1, 'layers': 2, 'hidden_dim': 400}\n",
      "Epoch: 26/100, Val Loss: 449.4439, Pearson R: 0.1582, RMSE: 21.9254\n",
      "{'batch_size': 512, 'lr': 0.001, 'dropout': 0.3, 'lr_decay': 0.1, 'layers': 2, 'hidden_dim': 800}\n",
      "Epoch: 22/100, Val Loss: 475.9967, Pearson R: -0.0052, RMSE: 22.5476\n",
      "{'batch_size': 512, 'lr': 0.001, 'dropout': 0.3, 'lr_decay': 0.1, 'layers': 4, 'hidden_dim': 400}\n",
      "Epoch: 15/100, Val Loss: 441.9386, Pearson R: 0.1832, RMSE: 21.7513\n",
      "{'batch_size': 512, 'lr': 0.001, 'dropout': 0.3, 'lr_decay': 0.1, 'layers': 4, 'hidden_dim': 800}\n",
      "Epoch: 19/100, Val Loss: 439.7666, Pearson R: 0.1788, RMSE: 21.7000\n",
      "{'batch_size': 512, 'lr': 0.001, 'dropout': 0.3, 'lr_decay': 0.01, 'layers': 2, 'hidden_dim': 400}\n",
      "Epoch: 11/100, Val Loss: 438.2379, Pearson R: 0.1918, RMSE: 21.6700\n",
      "{'batch_size': 512, 'lr': 0.001, 'dropout': 0.3, 'lr_decay': 0.01, 'layers': 2, 'hidden_dim': 800}\n",
      "Epoch: 20/100, Val Loss: 467.3439, Pearson R: -0.0017, RMSE: 22.3545\n",
      "{'batch_size': 512, 'lr': 0.001, 'dropout': 0.3, 'lr_decay': 0.01, 'layers': 4, 'hidden_dim': 400}\n",
      "Epoch: 21/100, Val Loss: 454.3557, Pearson R: 0.1618, RMSE: 22.0385\n",
      "{'batch_size': 512, 'lr': 0.001, 'dropout': 0.3, 'lr_decay': 0.01, 'layers': 4, 'hidden_dim': 800}\n",
      "Epoch: 18/100, Val Loss: 442.7256, Pearson R: 0.1960, RMSE: 21.7795\n",
      "{'batch_size': 512, 'lr': 0.001, 'dropout': 0.3, 'lr_decay': 0.001, 'layers': 2, 'hidden_dim': 400}\n",
      "Epoch: 25/100, Val Loss: 466.6139, Pearson R: 0.1186, RMSE: 22.3190\n",
      "{'batch_size': 512, 'lr': 0.001, 'dropout': 0.3, 'lr_decay': 0.001, 'layers': 2, 'hidden_dim': 800}\n",
      "Epoch: 26/100, Val Loss: 473.9059, Pearson R: -0.0235, RMSE: 22.5033\n",
      "{'batch_size': 512, 'lr': 0.001, 'dropout': 0.3, 'lr_decay': 0.001, 'layers': 4, 'hidden_dim': 400}\n",
      "Epoch: 24/100, Val Loss: 462.9895, Pearson R: 0.1385, RMSE: 22.2355\n",
      "{'batch_size': 512, 'lr': 0.001, 'dropout': 0.3, 'lr_decay': 0.001, 'layers': 4, 'hidden_dim': 800}\n",
      "Epoch: 19/100, Val Loss: 443.3194, Pearson R: 0.1622, RMSE: 21.7886\n",
      "{'batch_size': 512, 'lr': 0.001, 'dropout': 0.3, 'lr_decay': 0.0001, 'layers': 2, 'hidden_dim': 400}\n",
      "Epoch: 11/100, Val Loss: 439.9531, Pearson R: 0.1778, RMSE: 21.7064\n",
      "{'batch_size': 512, 'lr': 0.001, 'dropout': 0.3, 'lr_decay': 0.0001, 'layers': 2, 'hidden_dim': 800}\n",
      "Epoch: 20/100, Val Loss: 463.3359, Pearson R: 0.0178, RMSE: 22.2627\n",
      "{'batch_size': 512, 'lr': 0.001, 'dropout': 0.3, 'lr_decay': 0.0001, 'layers': 4, 'hidden_dim': 400}\n",
      "Epoch: 13/100, Val Loss: 458.8888, Pearson R: 0.1412, RMSE: 22.1442\n",
      "{'batch_size': 512, 'lr': 0.001, 'dropout': 0.3, 'lr_decay': 0.0001, 'layers': 4, 'hidden_dim': 800}\n",
      "Epoch: 21/100, Val Loss: 459.7790, Pearson R: 0.1311, RMSE: 22.1682\n",
      "{'batch_size': 512, 'lr': 0.001, 'dropout': 0.4, 'lr_decay': 0.1, 'layers': 2, 'hidden_dim': 400}\n",
      "Epoch: 12/100, Val Loss: 435.9393, Pearson R: 0.1980, RMSE: 21.6122\n",
      "{'batch_size': 512, 'lr': 0.001, 'dropout': 0.4, 'lr_decay': 0.1, 'layers': 2, 'hidden_dim': 800}\n",
      "Epoch: 25/100, Val Loss: 462.2136, Pearson R: 0.0574, RMSE: 22.2338\n",
      "{'batch_size': 512, 'lr': 0.001, 'dropout': 0.4, 'lr_decay': 0.1, 'layers': 4, 'hidden_dim': 400}\n",
      "Epoch: 24/100, Val Loss: 465.4574, Pearson R: 0.1470, RMSE: 22.2866\n",
      "{'batch_size': 512, 'lr': 0.001, 'dropout': 0.4, 'lr_decay': 0.1, 'layers': 4, 'hidden_dim': 800}\n",
      "Epoch: 19/100, Val Loss: 440.7401, Pearson R: 0.1905, RMSE: 21.7304\n",
      "{'batch_size': 512, 'lr': 0.001, 'dropout': 0.4, 'lr_decay': 0.01, 'layers': 2, 'hidden_dim': 400}\n",
      "Epoch: 12/100, Val Loss: 453.1115, Pearson R: 0.1424, RMSE: 22.0085\n",
      "{'batch_size': 512, 'lr': 0.001, 'dropout': 0.4, 'lr_decay': 0.01, 'layers': 2, 'hidden_dim': 800}\n",
      "Epoch: 19/100, Val Loss: 467.9661, Pearson R: 0.0200, RMSE: 22.3655\n",
      "{'batch_size': 512, 'lr': 0.001, 'dropout': 0.4, 'lr_decay': 0.01, 'layers': 4, 'hidden_dim': 400}\n",
      "Epoch: 18/100, Val Loss: 455.3513, Pearson R: 0.1628, RMSE: 22.0591\n",
      "{'batch_size': 512, 'lr': 0.001, 'dropout': 0.4, 'lr_decay': 0.01, 'layers': 4, 'hidden_dim': 800}\n",
      "Epoch: 23/100, Val Loss: 454.1260, Pearson R: 0.1397, RMSE: 22.0382\n",
      "{'batch_size': 512, 'lr': 0.001, 'dropout': 0.4, 'lr_decay': 0.001, 'layers': 2, 'hidden_dim': 400}\n",
      "Epoch: 12/100, Val Loss: 458.4911, Pearson R: 0.1343, RMSE: 22.1316\n",
      "{'batch_size': 512, 'lr': 0.001, 'dropout': 0.4, 'lr_decay': 0.001, 'layers': 2, 'hidden_dim': 800}\n",
      "Epoch: 29/100, Val Loss: 513.3322, Pearson R: -0.0683, RMSE: 23.3707\n",
      "{'batch_size': 512, 'lr': 0.001, 'dropout': 0.4, 'lr_decay': 0.001, 'layers': 4, 'hidden_dim': 400}\n"
     ]
    },
    {
     "name": "stdout",
     "output_type": "stream",
     "text": [
      "Epoch: 11/100, Val Loss: 436.3838, Pearson R: 0.1994, RMSE: 21.6271\n",
      "{'batch_size': 512, 'lr': 0.001, 'dropout': 0.4, 'lr_decay': 0.001, 'layers': 4, 'hidden_dim': 800}\n",
      "Epoch: 19/100, Val Loss: 443.3569, Pearson R: 0.1759, RMSE: 21.7929\n",
      "{'batch_size': 512, 'lr': 0.001, 'dropout': 0.4, 'lr_decay': 0.0001, 'layers': 2, 'hidden_dim': 400}\n",
      "Epoch: 11/100, Val Loss: 436.1730, Pearson R: 0.2017, RMSE: 21.6234\n",
      "{'batch_size': 512, 'lr': 0.001, 'dropout': 0.4, 'lr_decay': 0.0001, 'layers': 2, 'hidden_dim': 800}\n",
      "Epoch: 22/100, Val Loss: 500.2692, Pearson R: -0.0379, RMSE: 23.0840\n",
      "{'batch_size': 512, 'lr': 0.001, 'dropout': 0.4, 'lr_decay': 0.0001, 'layers': 4, 'hidden_dim': 400}\n",
      "Epoch: 15/100, Val Loss: 436.1657, Pearson R: 0.1960, RMSE: 21.6155\n",
      "{'batch_size': 512, 'lr': 0.001, 'dropout': 0.4, 'lr_decay': 0.0001, 'layers': 4, 'hidden_dim': 800}\n",
      "Epoch: 22/100, Val Loss: 479.3839, Pearson R: 0.1073, RMSE: 22.6080\n",
      "{'batch_size': 512, 'lr': 0.001, 'dropout': 0.5, 'lr_decay': 0.1, 'layers': 2, 'hidden_dim': 400}\n",
      "Epoch: 12/100, Val Loss: 435.0700, Pearson R: 0.2059, RMSE: 21.5947\n",
      "{'batch_size': 512, 'lr': 0.001, 'dropout': 0.5, 'lr_decay': 0.1, 'layers': 2, 'hidden_dim': 800}\n",
      "Epoch: 17/100, Val Loss: 443.0395, Pearson R: 0.1645, RMSE: 21.7866\n",
      "{'batch_size': 512, 'lr': 0.001, 'dropout': 0.5, 'lr_decay': 0.1, 'layers': 4, 'hidden_dim': 400}\n",
      "Epoch: 12/100, Val Loss: 453.2697, Pearson R: 0.1840, RMSE: 22.0112\n",
      "{'batch_size': 512, 'lr': 0.001, 'dropout': 0.5, 'lr_decay': 0.1, 'layers': 4, 'hidden_dim': 800}\n",
      "Epoch: 19/100, Val Loss: 449.0905, Pearson R: 0.1509, RMSE: 21.9268\n",
      "{'batch_size': 512, 'lr': 0.001, 'dropout': 0.5, 'lr_decay': 0.01, 'layers': 2, 'hidden_dim': 400}\n",
      "Epoch: 12/100, Val Loss: 446.6180, Pearson R: 0.1595, RMSE: 21.8638\n",
      "{'batch_size': 512, 'lr': 0.001, 'dropout': 0.5, 'lr_decay': 0.01, 'layers': 2, 'hidden_dim': 800}\n",
      "Epoch: 16/100, Val Loss: 443.6842, Pearson R: 0.1738, RMSE: 21.8087\n",
      "{'batch_size': 512, 'lr': 0.001, 'dropout': 0.5, 'lr_decay': 0.01, 'layers': 4, 'hidden_dim': 400}\n",
      "Epoch: 13/100, Val Loss: 468.7534, Pearson R: 0.1461, RMSE: 22.3588\n",
      "{'batch_size': 512, 'lr': 0.001, 'dropout': 0.5, 'lr_decay': 0.01, 'layers': 4, 'hidden_dim': 800}\n",
      "Epoch: 19/100, Val Loss: 441.3452, Pearson R: 0.1725, RMSE: 21.7487\n",
      "{'batch_size': 512, 'lr': 0.001, 'dropout': 0.5, 'lr_decay': 0.001, 'layers': 2, 'hidden_dim': 400}\n",
      "Epoch: 12/100, Val Loss: 440.3901, Pearson R: 0.1758, RMSE: 21.7178\n",
      "{'batch_size': 512, 'lr': 0.001, 'dropout': 0.5, 'lr_decay': 0.001, 'layers': 2, 'hidden_dim': 800}\n",
      "Epoch: 18/100, Val Loss: 475.0055, Pearson R: 0.0272, RMSE: 22.5213\n",
      "{'batch_size': 512, 'lr': 0.001, 'dropout': 0.5, 'lr_decay': 0.001, 'layers': 4, 'hidden_dim': 400}\n",
      "Epoch: 11/100, Val Loss: 443.2854, Pearson R: 0.1721, RMSE: 21.7798\n",
      "{'batch_size': 512, 'lr': 0.001, 'dropout': 0.5, 'lr_decay': 0.001, 'layers': 4, 'hidden_dim': 800}\n",
      "Epoch: 18/100, Val Loss: 440.4485, Pearson R: 0.1848, RMSE: 21.7289\n",
      "{'batch_size': 512, 'lr': 0.001, 'dropout': 0.5, 'lr_decay': 0.0001, 'layers': 2, 'hidden_dim': 400}\n",
      "Epoch: 12/100, Val Loss: 441.6545, Pearson R: 0.1671, RMSE: 21.7471\n",
      "{'batch_size': 512, 'lr': 0.001, 'dropout': 0.5, 'lr_decay': 0.0001, 'layers': 2, 'hidden_dim': 800}\n",
      "Epoch: 21/100, Val Loss: 479.0104, Pearson R: 0.0306, RMSE: 22.6089\n",
      "{'batch_size': 512, 'lr': 0.001, 'dropout': 0.5, 'lr_decay': 0.0001, 'layers': 4, 'hidden_dim': 400}\n",
      "Epoch: 17/100, Val Loss: 463.2407, Pearson R: 0.1573, RMSE: 22.2368\n",
      "{'batch_size': 512, 'lr': 0.001, 'dropout': 0.5, 'lr_decay': 0.0001, 'layers': 4, 'hidden_dim': 800}\n",
      "Epoch: 19/100, Val Loss: 461.5655, Pearson R: 0.1031, RMSE: 22.2109\n",
      "{'batch_size': 512, 'lr': 0.0001, 'dropout': 0.1, 'lr_decay': 0.1, 'layers': 2, 'hidden_dim': 400}\n",
      "Epoch: 46/100, Val Loss: 441.7535, Pearson R: 0.1743, RMSE: 21.7475\n",
      "{'batch_size': 512, 'lr': 0.0001, 'dropout': 0.1, 'lr_decay': 0.1, 'layers': 2, 'hidden_dim': 800}\n",
      "Epoch: 32/100, Val Loss: 448.8642, Pearson R: 0.1525, RMSE: 21.9113\n",
      "{'batch_size': 512, 'lr': 0.0001, 'dropout': 0.1, 'lr_decay': 0.1, 'layers': 4, 'hidden_dim': 400}\n",
      "Epoch: 32/100, Val Loss: 449.1782, Pearson R: 0.1598, RMSE: 21.9163\n",
      "{'batch_size': 512, 'lr': 0.0001, 'dropout': 0.1, 'lr_decay': 0.1, 'layers': 4, 'hidden_dim': 800}\n",
      "Epoch: 20/100, Val Loss: 438.4108, Pearson R: 0.1868, RMSE: 21.6701\n",
      "{'batch_size': 512, 'lr': 0.0001, 'dropout': 0.1, 'lr_decay': 0.01, 'layers': 2, 'hidden_dim': 400}\n",
      "Epoch: 44/100, Val Loss: 445.1861, Pearson R: 0.1587, RMSE: 21.8278\n",
      "{'batch_size': 512, 'lr': 0.0001, 'dropout': 0.1, 'lr_decay': 0.01, 'layers': 2, 'hidden_dim': 800}\n",
      "Epoch: 30/100, Val Loss: 448.4549, Pearson R: 0.1456, RMSE: 21.9037\n",
      "{'batch_size': 512, 'lr': 0.0001, 'dropout': 0.1, 'lr_decay': 0.01, 'layers': 4, 'hidden_dim': 400}\n",
      "Epoch: 30/100, Val Loss: 443.6926, Pearson R: 0.1653, RMSE: 21.7923\n",
      "{'batch_size': 512, 'lr': 0.0001, 'dropout': 0.1, 'lr_decay': 0.01, 'layers': 4, 'hidden_dim': 800}\n",
      "Epoch: 19/100, Val Loss: 439.3701, Pearson R: 0.1810, RMSE: 21.6949\n",
      "{'batch_size': 512, 'lr': 0.0001, 'dropout': 0.1, 'lr_decay': 0.001, 'layers': 2, 'hidden_dim': 400}\n",
      "Epoch: 44/100, Val Loss: 447.9914, Pearson R: 0.1503, RMSE: 21.8925\n",
      "{'batch_size': 512, 'lr': 0.0001, 'dropout': 0.1, 'lr_decay': 0.001, 'layers': 2, 'hidden_dim': 800}\n",
      "Epoch: 29/100, Val Loss: 442.3071, Pearson R: 0.1629, RMSE: 21.7631\n",
      "{'batch_size': 512, 'lr': 0.0001, 'dropout': 0.1, 'lr_decay': 0.001, 'layers': 4, 'hidden_dim': 400}\n",
      "Epoch: 30/100, Val Loss: 445.4616, Pearson R: 0.1610, RMSE: 21.8330\n",
      "{'batch_size': 512, 'lr': 0.0001, 'dropout': 0.1, 'lr_decay': 0.001, 'layers': 4, 'hidden_dim': 800}\n",
      "Epoch: 19/100, Val Loss: 439.9938, Pearson R: 0.1779, RMSE: 21.7100\n",
      "{'batch_size': 512, 'lr': 0.0001, 'dropout': 0.1, 'lr_decay': 0.0001, 'layers': 2, 'hidden_dim': 400}\n",
      "Epoch: 44/100, Val Loss: 447.7915, Pearson R: 0.1508, RMSE: 21.8881\n",
      "{'batch_size': 512, 'lr': 0.0001, 'dropout': 0.1, 'lr_decay': 0.0001, 'layers': 2, 'hidden_dim': 800}\n",
      "Epoch: 29/100, Val Loss: 443.1434, Pearson R: 0.1600, RMSE: 21.7823\n",
      "{'batch_size': 512, 'lr': 0.0001, 'dropout': 0.1, 'lr_decay': 0.0001, 'layers': 4, 'hidden_dim': 400}\n",
      "Epoch: 30/100, Val Loss: 445.9761, Pearson R: 0.1595, RMSE: 21.8449\n",
      "{'batch_size': 512, 'lr': 0.0001, 'dropout': 0.1, 'lr_decay': 0.0001, 'layers': 4, 'hidden_dim': 800}\n",
      "Epoch: 19/100, Val Loss: 440.6866, Pearson R: 0.1751, RMSE: 21.7256\n",
      "{'batch_size': 512, 'lr': 0.0001, 'dropout': 0.2, 'lr_decay': 0.1, 'layers': 2, 'hidden_dim': 400}\n",
      "Epoch: 49/100, Val Loss: 443.3737, Pearson R: 0.1659, RMSE: 21.7858\n",
      "{'batch_size': 512, 'lr': 0.0001, 'dropout': 0.2, 'lr_decay': 0.1, 'layers': 2, 'hidden_dim': 800}\n",
      "Epoch: 33/100, Val Loss: 446.2912, Pearson R: 0.1554, RMSE: 21.8533\n",
      "{'batch_size': 512, 'lr': 0.0001, 'dropout': 0.2, 'lr_decay': 0.1, 'layers': 4, 'hidden_dim': 400}\n",
      "Epoch: 34/100, Val Loss: 444.0489, Pearson R: 0.1672, RMSE: 21.8006\n",
      "{'batch_size': 512, 'lr': 0.0001, 'dropout': 0.2, 'lr_decay': 0.1, 'layers': 4, 'hidden_dim': 800}\n",
      "Epoch: 22/100, Val Loss: 441.9426, Pearson R: 0.1723, RMSE: 21.7514\n",
      "{'batch_size': 512, 'lr': 0.0001, 'dropout': 0.2, 'lr_decay': 0.01, 'layers': 2, 'hidden_dim': 400}\n",
      "Epoch: 47/100, Val Loss: 448.2443, Pearson R: 0.1466, RMSE: 21.8993\n",
      "{'batch_size': 512, 'lr': 0.0001, 'dropout': 0.2, 'lr_decay': 0.01, 'layers': 2, 'hidden_dim': 800}\n",
      "Epoch: 31/100, Val Loss: 446.9941, Pearson R: 0.1468, RMSE: 21.8711\n",
      "{'batch_size': 512, 'lr': 0.0001, 'dropout': 0.2, 'lr_decay': 0.01, 'layers': 4, 'hidden_dim': 400}\n",
      "Epoch: 33/100, Val Loss: 449.4213, Pearson R: 0.1488, RMSE: 21.9246\n",
      "{'batch_size': 512, 'lr': 0.0001, 'dropout': 0.2, 'lr_decay': 0.01, 'layers': 4, 'hidden_dim': 800}\n",
      "Epoch: 21/100, Val Loss: 443.1299, Pearson R: 0.1658, RMSE: 21.7806\n",
      "{'batch_size': 512, 'lr': 0.0001, 'dropout': 0.2, 'lr_decay': 0.001, 'layers': 2, 'hidden_dim': 400}\n",
      "Epoch: 46/100, Val Loss: 444.4847, Pearson R: 0.1563, RMSE: 21.8136\n",
      "{'batch_size': 512, 'lr': 0.0001, 'dropout': 0.2, 'lr_decay': 0.001, 'layers': 2, 'hidden_dim': 800}\n",
      "Epoch: 30/100, Val Loss: 441.9802, Pearson R: 0.1627, RMSE: 21.7567\n",
      "{'batch_size': 512, 'lr': 0.0001, 'dropout': 0.2, 'lr_decay': 0.001, 'layers': 4, 'hidden_dim': 400}\n",
      "Epoch: 33/100, Val Loss: 446.9554, Pearson R: 0.1534, RMSE: 21.8683\n",
      "{'batch_size': 512, 'lr': 0.0001, 'dropout': 0.2, 'lr_decay': 0.001, 'layers': 4, 'hidden_dim': 800}\n"
     ]
    },
    {
     "name": "stdout",
     "output_type": "stream",
     "text": [
      "Epoch: 20/100, Val Loss: 440.4622, Pearson R: 0.1749, RMSE: 21.7215\n",
      "{'batch_size': 512, 'lr': 0.0001, 'dropout': 0.2, 'lr_decay': 0.0001, 'layers': 2, 'hidden_dim': 400}\n",
      "Epoch: 46/100, Val Loss: 444.9764, Pearson R: 0.1549, RMSE: 21.8247\n",
      "{'batch_size': 512, 'lr': 0.0001, 'dropout': 0.2, 'lr_decay': 0.0001, 'layers': 2, 'hidden_dim': 800}\n",
      "Epoch: 30/100, Val Loss: 442.9865, Pearson R: 0.1587, RMSE: 21.7797\n",
      "{'batch_size': 512, 'lr': 0.0001, 'dropout': 0.2, 'lr_decay': 0.0001, 'layers': 4, 'hidden_dim': 400}\n",
      "Epoch: 33/100, Val Loss: 449.5898, Pearson R: 0.1478, RMSE: 21.9284\n",
      "{'batch_size': 512, 'lr': 0.0001, 'dropout': 0.2, 'lr_decay': 0.0001, 'layers': 4, 'hidden_dim': 800}\n",
      "Epoch: 21/100, Val Loss: 444.7280, Pearson R: 0.1598, RMSE: 21.8179\n",
      "{'batch_size': 512, 'lr': 0.0001, 'dropout': 0.3, 'lr_decay': 0.1, 'layers': 2, 'hidden_dim': 400}\n",
      "Epoch: 52/100, Val Loss: 444.8956, Pearson R: 0.1585, RMSE: 21.8218\n",
      "{'batch_size': 512, 'lr': 0.0001, 'dropout': 0.3, 'lr_decay': 0.1, 'layers': 2, 'hidden_dim': 800}\n",
      "Epoch: 35/100, Val Loss: 451.2454, Pearson R: 0.1417, RMSE: 21.9674\n",
      "{'batch_size': 512, 'lr': 0.0001, 'dropout': 0.3, 'lr_decay': 0.1, 'layers': 4, 'hidden_dim': 400}\n",
      "Epoch: 38/100, Val Loss: 449.9972, Pearson R: 0.1517, RMSE: 21.9369\n",
      "{'batch_size': 512, 'lr': 0.0001, 'dropout': 0.3, 'lr_decay': 0.1, 'layers': 4, 'hidden_dim': 800}\n",
      "Epoch: 23/100, Val Loss: 440.6258, Pearson R: 0.1766, RMSE: 21.7224\n",
      "{'batch_size': 512, 'lr': 0.0001, 'dropout': 0.3, 'lr_decay': 0.01, 'layers': 2, 'hidden_dim': 400}\n",
      "Epoch: 50/100, Val Loss: 448.3438, Pearson R: 0.1431, RMSE: 21.9024\n",
      "{'batch_size': 512, 'lr': 0.0001, 'dropout': 0.3, 'lr_decay': 0.01, 'layers': 2, 'hidden_dim': 800}\n",
      "Epoch: 32/100, Val Loss: 443.7319, Pearson R: 0.1556, RMSE: 21.7970\n",
      "{'batch_size': 512, 'lr': 0.0001, 'dropout': 0.3, 'lr_decay': 0.01, 'layers': 4, 'hidden_dim': 400}\n",
      "Epoch: 36/100, Val Loss: 444.6989, Pearson R: 0.1583, RMSE: 21.8170\n",
      "{'batch_size': 512, 'lr': 0.0001, 'dropout': 0.3, 'lr_decay': 0.01, 'layers': 4, 'hidden_dim': 800}\n",
      "Epoch: 22/100, Val Loss: 440.3387, Pearson R: 0.1737, RMSE: 21.7178\n",
      "{'batch_size': 512, 'lr': 0.0001, 'dropout': 0.3, 'lr_decay': 0.001, 'layers': 2, 'hidden_dim': 400}\n",
      "Epoch: 49/100, Val Loss: 447.8151, Pearson R: 0.1440, RMSE: 21.8906\n",
      "{'batch_size': 512, 'lr': 0.0001, 'dropout': 0.3, 'lr_decay': 0.001, 'layers': 2, 'hidden_dim': 800}\n",
      "Epoch: 31/100, Val Loss: 441.8185, Pearson R: 0.1626, RMSE: 21.7536\n",
      "{'batch_size': 512, 'lr': 0.0001, 'dropout': 0.3, 'lr_decay': 0.001, 'layers': 4, 'hidden_dim': 400}\n",
      "Epoch: 35/100, Val Loss: 445.0598, Pearson R: 0.1564, RMSE: 21.8262\n",
      "{'batch_size': 512, 'lr': 0.0001, 'dropout': 0.3, 'lr_decay': 0.001, 'layers': 4, 'hidden_dim': 800}\n",
      "Epoch: 22/100, Val Loss: 443.6010, Pearson R: 0.1633, RMSE: 21.7931\n",
      "{'batch_size': 512, 'lr': 0.0001, 'dropout': 0.3, 'lr_decay': 0.0001, 'layers': 2, 'hidden_dim': 400}\n",
      "Epoch: 49/100, Val Loss: 447.6827, Pearson R: 0.1442, RMSE: 21.8876\n",
      "{'batch_size': 512, 'lr': 0.0001, 'dropout': 0.3, 'lr_decay': 0.0001, 'layers': 2, 'hidden_dim': 800}\n",
      "Epoch: 31/100, Val Loss: 441.9427, Pearson R: 0.1617, RMSE: 21.7565\n",
      "{'batch_size': 512, 'lr': 0.0001, 'dropout': 0.3, 'lr_decay': 0.0001, 'layers': 4, 'hidden_dim': 400}\n",
      "Epoch: 35/100, Val Loss: 444.6562, Pearson R: 0.1577, RMSE: 21.8166\n",
      "{'batch_size': 512, 'lr': 0.0001, 'dropout': 0.3, 'lr_decay': 0.0001, 'layers': 4, 'hidden_dim': 800}\n",
      "Epoch: 22/100, Val Loss: 442.1384, Pearson R: 0.1670, RMSE: 21.7594\n",
      "{'batch_size': 512, 'lr': 0.0001, 'dropout': 0.4, 'lr_decay': 0.1, 'layers': 2, 'hidden_dim': 400}\n",
      "Epoch: 54/100, Val Loss: 443.5598, Pearson R: 0.1609, RMSE: 21.7918\n",
      "{'batch_size': 512, 'lr': 0.0001, 'dropout': 0.4, 'lr_decay': 0.1, 'layers': 2, 'hidden_dim': 800}\n",
      "Epoch: 36/100, Val Loss: 446.3278, Pearson R: 0.1507, RMSE: 21.8554\n",
      "{'batch_size': 512, 'lr': 0.0001, 'dropout': 0.4, 'lr_decay': 0.1, 'layers': 4, 'hidden_dim': 400}\n",
      "Epoch: 40/100, Val Loss: 444.2279, Pearson R: 0.1636, RMSE: 21.8055\n",
      "{'batch_size': 512, 'lr': 0.0001, 'dropout': 0.4, 'lr_decay': 0.1, 'layers': 4, 'hidden_dim': 800}\n",
      "Epoch: 25/100, Val Loss: 443.0752, Pearson R: 0.1665, RMSE: 21.7800\n",
      "{'batch_size': 512, 'lr': 0.0001, 'dropout': 0.4, 'lr_decay': 0.01, 'layers': 2, 'hidden_dim': 400}\n",
      "Epoch: 52/100, Val Loss: 447.1565, Pearson R: 0.1442, RMSE: 21.8762\n",
      "{'batch_size': 512, 'lr': 0.0001, 'dropout': 0.4, 'lr_decay': 0.01, 'layers': 2, 'hidden_dim': 800}\n",
      "Epoch: 33/100, Val Loss: 443.2308, Pearson R: 0.1564, RMSE: 21.7865\n",
      "{'batch_size': 512, 'lr': 0.0001, 'dropout': 0.4, 'lr_decay': 0.01, 'layers': 4, 'hidden_dim': 400}\n",
      "Epoch: 38/100, Val Loss: 443.4809, Pearson R: 0.1599, RMSE: 21.7906\n",
      "{'batch_size': 512, 'lr': 0.0001, 'dropout': 0.4, 'lr_decay': 0.01, 'layers': 4, 'hidden_dim': 800}\n",
      "Epoch: 24/100, Val Loss: 444.3938, Pearson R: 0.1588, RMSE: 21.8105\n",
      "{'batch_size': 512, 'lr': 0.0001, 'dropout': 0.4, 'lr_decay': 0.001, 'layers': 2, 'hidden_dim': 400}\n",
      "Epoch: 51/100, Val Loss: 445.6043, Pearson R: 0.1482, RMSE: 21.8411\n",
      "{'batch_size': 512, 'lr': 0.0001, 'dropout': 0.4, 'lr_decay': 0.001, 'layers': 2, 'hidden_dim': 800}\n",
      "Epoch: 32/100, Val Loss: 441.1275, Pearson R: 0.1652, RMSE: 21.7388\n",
      "{'batch_size': 512, 'lr': 0.0001, 'dropout': 0.4, 'lr_decay': 0.001, 'layers': 4, 'hidden_dim': 400}\n",
      "Epoch: 40/100, Val Loss: 451.2995, Pearson R: 0.1399, RMSE: 21.9687\n",
      "{'batch_size': 512, 'lr': 0.0001, 'dropout': 0.4, 'lr_decay': 0.001, 'layers': 4, 'hidden_dim': 800}\n",
      "Epoch: 24/100, Val Loss: 445.6164, Pearson R: 0.1557, RMSE: 21.8388\n",
      "{'batch_size': 512, 'lr': 0.0001, 'dropout': 0.4, 'lr_decay': 0.0001, 'layers': 2, 'hidden_dim': 400}\n",
      "Epoch: 51/100, Val Loss: 444.4095, Pearson R: 0.1521, RMSE: 21.8136\n",
      "{'batch_size': 512, 'lr': 0.0001, 'dropout': 0.4, 'lr_decay': 0.0001, 'layers': 2, 'hidden_dim': 800}\n",
      "Epoch: 33/100, Val Loss: 445.2282, Pearson R: 0.1476, RMSE: 21.8325\n",
      "{'batch_size': 512, 'lr': 0.0001, 'dropout': 0.4, 'lr_decay': 0.0001, 'layers': 4, 'hidden_dim': 400}\n",
      "Epoch: 40/100, Val Loss: 453.7405, Pearson R: 0.1339, RMSE: 22.0251\n",
      "{'batch_size': 512, 'lr': 0.0001, 'dropout': 0.4, 'lr_decay': 0.0001, 'layers': 4, 'hidden_dim': 800}\n",
      "Epoch: 24/100, Val Loss: 441.7861, Pearson R: 0.1667, RMSE: 21.7512\n",
      "{'batch_size': 512, 'lr': 0.0001, 'dropout': 0.5, 'lr_decay': 0.1, 'layers': 2, 'hidden_dim': 400}\n",
      "Epoch: 58/100, Val Loss: 445.7869, Pearson R: 0.1517, RMSE: 21.8438\n",
      "{'batch_size': 512, 'lr': 0.0001, 'dropout': 0.5, 'lr_decay': 0.1, 'layers': 2, 'hidden_dim': 800}\n",
      "Epoch: 37/100, Val Loss: 443.1486, Pearson R: 0.1601, RMSE: 21.7831\n",
      "{'batch_size': 512, 'lr': 0.0001, 'dropout': 0.5, 'lr_decay': 0.1, 'layers': 4, 'hidden_dim': 400}\n",
      "Epoch: 42/100, Val Loss: 439.2771, Pearson R: 0.1782, RMSE: 21.6930\n",
      "{'batch_size': 512, 'lr': 0.0001, 'dropout': 0.5, 'lr_decay': 0.1, 'layers': 4, 'hidden_dim': 800}\n",
      "Epoch: 28/100, Val Loss: 446.5687, Pearson R: 0.1562, RMSE: 21.8591\n",
      "{'batch_size': 512, 'lr': 0.0001, 'dropout': 0.5, 'lr_decay': 0.01, 'layers': 2, 'hidden_dim': 400}\n",
      "Epoch: 55/100, Val Loss: 445.6927, Pearson R: 0.1475, RMSE: 21.8425\n",
      "{'batch_size': 512, 'lr': 0.0001, 'dropout': 0.5, 'lr_decay': 0.01, 'layers': 2, 'hidden_dim': 800}\n",
      "Epoch: 35/100, Val Loss: 445.0667, Pearson R: 0.1478, RMSE: 21.8290\n",
      "{'batch_size': 512, 'lr': 0.0001, 'dropout': 0.5, 'lr_decay': 0.01, 'layers': 4, 'hidden_dim': 400}\n",
      "Epoch: 43/100, Val Loss: 444.4511, Pearson R: 0.1557, RMSE: 21.8124\n",
      "{'batch_size': 512, 'lr': 0.0001, 'dropout': 0.5, 'lr_decay': 0.01, 'layers': 4, 'hidden_dim': 800}\n",
      "Epoch: 27/100, Val Loss: 447.0998, Pearson R: 0.1491, RMSE: 21.8730\n",
      "{'batch_size': 512, 'lr': 0.0001, 'dropout': 0.5, 'lr_decay': 0.001, 'layers': 2, 'hidden_dim': 400}\n",
      "Epoch: 55/100, Val Loss: 447.1718, Pearson R: 0.1408, RMSE: 21.8771\n",
      "{'batch_size': 512, 'lr': 0.0001, 'dropout': 0.5, 'lr_decay': 0.001, 'layers': 2, 'hidden_dim': 800}\n",
      "Epoch: 34/100, Val Loss: 442.8000, Pearson R: 0.1560, RMSE: 21.7773\n",
      "{'batch_size': 512, 'lr': 0.0001, 'dropout': 0.5, 'lr_decay': 0.001, 'layers': 4, 'hidden_dim': 400}\n",
      "Epoch: 43/100, Val Loss: 451.2818, Pearson R: 0.1380, RMSE: 21.9698\n",
      "{'batch_size': 512, 'lr': 0.0001, 'dropout': 0.5, 'lr_decay': 0.001, 'layers': 4, 'hidden_dim': 800}\n",
      "Epoch: 26/100, Val Loss: 443.0492, Pearson R: 0.1613, RMSE: 21.7805\n",
      "{'batch_size': 512, 'lr': 0.0001, 'dropout': 0.5, 'lr_decay': 0.0001, 'layers': 2, 'hidden_dim': 400}\n"
     ]
    },
    {
     "name": "stdout",
     "output_type": "stream",
     "text": [
      "Epoch: 55/100, Val Loss: 447.9550, Pearson R: 0.1393, RMSE: 21.8952\n",
      "{'batch_size': 512, 'lr': 0.0001, 'dropout': 0.5, 'lr_decay': 0.0001, 'layers': 2, 'hidden_dim': 800}\n",
      "Epoch: 35/100, Val Loss: 445.6165, Pearson R: 0.1447, RMSE: 21.8418\n",
      "{'batch_size': 512, 'lr': 0.0001, 'dropout': 0.5, 'lr_decay': 0.0001, 'layers': 4, 'hidden_dim': 400}\n",
      "Epoch: 41/100, Val Loss: 442.0065, Pearson R: 0.1639, RMSE: 21.7572\n",
      "{'batch_size': 512, 'lr': 0.0001, 'dropout': 0.5, 'lr_decay': 0.0001, 'layers': 4, 'hidden_dim': 800}\n",
      "Epoch: 26/100, Val Loss: 443.2164, Pearson R: 0.1607, RMSE: 21.7846\n",
      "PT\n",
      "outcome DOS\n"
     ]
    },
    {
     "data": {
      "application/vnd.jupyter.widget-view+json": {
       "model_id": "783f5feb1ea44459a5227b24df451a2e",
       "version_major": 2,
       "version_minor": 0
      },
      "text/plain": [
       "  0%|          | 0/320 [00:00<?, ?it/s]"
      ]
     },
     "metadata": {},
     "output_type": "display_data"
    },
    {
     "name": "stdout",
     "output_type": "stream",
     "text": [
      "{'batch_size': 512, 'lr': 0.1, 'dropout': 0.1, 'lr_decay': 0.1, 'layers': 2, 'hidden_dim': 400}\n",
      "Epoch: 6/100, Val Loss: 281.4726, Pearson R: 0.4128, RMSE: 17.2939\n",
      "{'batch_size': 512, 'lr': 0.1, 'dropout': 0.1, 'lr_decay': 0.1, 'layers': 2, 'hidden_dim': 800}\n",
      "Epoch: 6/100, Val Loss: 39546.5664, Pearson R: 0.3473, RMSE: 198.9062\n",
      "{'batch_size': 512, 'lr': 0.1, 'dropout': 0.1, 'lr_decay': 0.1, 'layers': 4, 'hidden_dim': 400}\n",
      "Epoch: 10/100, Val Loss: 314.9005, Pearson R: 0.3374, RMSE: 18.3686\n",
      "{'batch_size': 512, 'lr': 0.1, 'dropout': 0.1, 'lr_decay': 0.1, 'layers': 4, 'hidden_dim': 800}\n",
      "Epoch: 15/100, Val Loss: 315.3676, Pearson R: 0.1822, RMSE: 18.3817\n",
      "{'batch_size': 512, 'lr': 0.1, 'dropout': 0.1, 'lr_decay': 0.01, 'layers': 2, 'hidden_dim': 400}\n",
      "Epoch: 6/100, Val Loss: 363.5270, Pearson R: 0.4267, RMSE: 19.6052\n",
      "{'batch_size': 512, 'lr': 0.1, 'dropout': 0.1, 'lr_decay': 0.01, 'layers': 2, 'hidden_dim': 800}\n",
      "Epoch: 24/100, Val Loss: 321.4516, Pearson R: -0.0877, RMSE: 18.5466\n",
      "{'batch_size': 512, 'lr': 0.1, 'dropout': 0.1, 'lr_decay': 0.01, 'layers': 4, 'hidden_dim': 400}\n",
      "Epoch: 11/100, Val Loss: 324.2560, Pearson R: -0.4282, RMSE: 18.6301\n",
      "{'batch_size': 512, 'lr': 0.1, 'dropout': 0.1, 'lr_decay': 0.01, 'layers': 4, 'hidden_dim': 800}\n",
      "Epoch: 8/100, Val Loss: 410.8380, Pearson R: -0.1082, RMSE: 20.8284\n",
      "{'batch_size': 512, 'lr': 0.1, 'dropout': 0.1, 'lr_decay': 0.001, 'layers': 2, 'hidden_dim': 400}\n",
      "Epoch: 11/100, Val Loss: 326.7079, Pearson R: -0.0112, RMSE: 18.6878\n",
      "{'batch_size': 512, 'lr': 0.1, 'dropout': 0.1, 'lr_decay': 0.001, 'layers': 2, 'hidden_dim': 800}\n",
      "Epoch: 16/100, Val Loss: 5937.0649, Pearson R: -0.1878, RMSE: 77.3037\n",
      "{'batch_size': 512, 'lr': 0.1, 'dropout': 0.1, 'lr_decay': 0.001, 'layers': 4, 'hidden_dim': 400}\n",
      "Epoch: 9/100, Val Loss: 336.6242, Pearson R: 0.2426, RMSE: 18.8817\n",
      "{'batch_size': 512, 'lr': 0.1, 'dropout': 0.1, 'lr_decay': 0.001, 'layers': 4, 'hidden_dim': 800}\n",
      "Epoch: 18/100, Val Loss: 343.4288, Pearson R: -0.3794, RMSE: 19.1509\n",
      "{'batch_size': 512, 'lr': 0.1, 'dropout': 0.1, 'lr_decay': 0.0001, 'layers': 2, 'hidden_dim': 400}\n",
      "Epoch: 22/100, Val Loss: 308.5335, Pearson R: 0.1953, RMSE: 18.1837\n",
      "{'batch_size': 512, 'lr': 0.1, 'dropout': 0.1, 'lr_decay': 0.0001, 'layers': 2, 'hidden_dim': 800}\n",
      "Epoch: 24/100, Val Loss: 267.2839, Pearson R: 0.4822, RMSE: 16.8232\n",
      "{'batch_size': 512, 'lr': 0.1, 'dropout': 0.1, 'lr_decay': 0.0001, 'layers': 4, 'hidden_dim': 400}\n",
      "Epoch: 21/100, Val Loss: 335.3217, Pearson R: 0.3442, RMSE: 18.9168\n",
      "{'batch_size': 512, 'lr': 0.1, 'dropout': 0.1, 'lr_decay': 0.0001, 'layers': 4, 'hidden_dim': 800}\n",
      "Epoch: 14/100, Val Loss: 334.7935, Pearson R: 0.0763, RMSE: 18.9022\n",
      "{'batch_size': 512, 'lr': 0.1, 'dropout': 0.2, 'lr_decay': 0.1, 'layers': 2, 'hidden_dim': 400}\n",
      "Epoch: 15/100, Val Loss: 777.0424, Pearson R: -0.0923, RMSE: 28.2766\n",
      "{'batch_size': 512, 'lr': 0.1, 'dropout': 0.2, 'lr_decay': 0.1, 'layers': 2, 'hidden_dim': 800}\n"
     ]
    },
    {
     "name": "stderr",
     "output_type": "stream",
     "text": [
      "/home/samsonm/miniconda3/envs/multi_modal_DL/lib/python3.10/site-packages/scipy/stats/_stats_py.py:4424: ConstantInputWarning: An input array is constant; the correlation coefficient is not defined.\n",
      "  warnings.warn(stats.ConstantInputWarning(msg))\n"
     ]
    },
    {
     "name": "stdout",
     "output_type": "stream",
     "text": [
      "Epoch: 14/100, Val Loss: 393.0155, Pearson R: 0.2590, RMSE: 20.3811\n",
      "{'batch_size': 512, 'lr': 0.1, 'dropout': 0.2, 'lr_decay': 0.1, 'layers': 4, 'hidden_dim': 400}\n",
      "Epoch: 15/100, Val Loss: 315.3691, Pearson R: 0.4051, RMSE: 18.3818\n",
      "{'batch_size': 512, 'lr': 0.1, 'dropout': 0.2, 'lr_decay': 0.1, 'layers': 4, 'hidden_dim': 800}\n",
      "Epoch: 6/100, Val Loss: 2693.9883, Pearson R: -0.4781, RMSE: 52.2673\n",
      "{'batch_size': 512, 'lr': 0.1, 'dropout': 0.2, 'lr_decay': 0.01, 'layers': 2, 'hidden_dim': 400}\n",
      "Epoch: 9/100, Val Loss: 738.7805, Pearson R: -0.1162, RMSE: 27.6128\n",
      "{'batch_size': 512, 'lr': 0.1, 'dropout': 0.2, 'lr_decay': 0.01, 'layers': 2, 'hidden_dim': 800}\n",
      "Epoch: 14/100, Val Loss: 336.9508, Pearson R: 0.1172, RMSE: 18.9568\n",
      "{'batch_size': 512, 'lr': 0.1, 'dropout': 0.2, 'lr_decay': 0.01, 'layers': 4, 'hidden_dim': 400}\n",
      "Epoch: 6/100, Val Loss: 687.6359, Pearson R: 0.2710, RMSE: 26.5661\n",
      "{'batch_size': 512, 'lr': 0.1, 'dropout': 0.2, 'lr_decay': 0.01, 'layers': 4, 'hidden_dim': 800}\n",
      "Epoch: 14/100, Val Loss: 532.1388, Pearson R: -0.1359, RMSE: 23.5513\n",
      "{'batch_size': 512, 'lr': 0.1, 'dropout': 0.2, 'lr_decay': 0.001, 'layers': 2, 'hidden_dim': 400}\n",
      "Epoch: 7/100, Val Loss: 304.9281, Pearson R: 0.3662, RMSE: 17.9896\n",
      "{'batch_size': 512, 'lr': 0.1, 'dropout': 0.2, 'lr_decay': 0.001, 'layers': 2, 'hidden_dim': 800}\n",
      "Epoch: 9/100, Val Loss: 24782.4375, Pearson R: 0.1693, RMSE: 157.3927\n",
      "{'batch_size': 512, 'lr': 0.1, 'dropout': 0.2, 'lr_decay': 0.001, 'layers': 4, 'hidden_dim': 400}\n",
      "Epoch: 7/100, Val Loss: 387.8672, Pearson R: -0.0042, RMSE: 20.2592\n",
      "{'batch_size': 512, 'lr': 0.1, 'dropout': 0.2, 'lr_decay': 0.001, 'layers': 4, 'hidden_dim': 800}\n",
      "Epoch: 21/100, Val Loss: 306.5547, Pearson R: 0.3250, RMSE: 18.1313\n",
      "{'batch_size': 512, 'lr': 0.1, 'dropout': 0.2, 'lr_decay': 0.0001, 'layers': 2, 'hidden_dim': 400}\n",
      "Epoch: 8/100, Val Loss: 398.1434, Pearson R: -0.1995, RMSE: 20.5420\n",
      "{'batch_size': 512, 'lr': 0.1, 'dropout': 0.2, 'lr_decay': 0.0001, 'layers': 2, 'hidden_dim': 800}\n",
      "Epoch: 26/100, Val Loss: 1047.1355, Pearson R: 0.0446, RMSE: 32.6820\n",
      "{'batch_size': 512, 'lr': 0.1, 'dropout': 0.2, 'lr_decay': 0.0001, 'layers': 4, 'hidden_dim': 400}\n",
      "Epoch: 23/100, Val Loss: 316.7159, Pearson R: 0.1113, RMSE: 18.4154\n",
      "{'batch_size': 512, 'lr': 0.1, 'dropout': 0.2, 'lr_decay': 0.0001, 'layers': 4, 'hidden_dim': 800}\n",
      "Epoch: 12/100, Val Loss: 576.1236, Pearson R: -0.1510, RMSE: 24.4682\n",
      "{'batch_size': 512, 'lr': 0.1, 'dropout': 0.3, 'lr_decay': 0.1, 'layers': 2, 'hidden_dim': 400}\n",
      "Epoch: 6/100, Val Loss: 8252.8223, Pearson R: -0.2916, RMSE: 90.9761\n",
      "{'batch_size': 512, 'lr': 0.1, 'dropout': 0.3, 'lr_decay': 0.1, 'layers': 2, 'hidden_dim': 800}\n",
      "Epoch: 13/100, Val Loss: 376.6084, Pearson R: 0.4363, RMSE: 19.9776\n",
      "{'batch_size': 512, 'lr': 0.1, 'dropout': 0.3, 'lr_decay': 0.1, 'layers': 4, 'hidden_dim': 400}\n",
      "Epoch: 13/100, Val Loss: 322.7702, Pearson R: -0.1341, RMSE: 18.5836\n",
      "{'batch_size': 512, 'lr': 0.1, 'dropout': 0.3, 'lr_decay': 0.1, 'layers': 4, 'hidden_dim': 800}\n"
     ]
    },
    {
     "name": "stderr",
     "output_type": "stream",
     "text": [
      "/home/samsonm/miniconda3/envs/multi_modal_DL/lib/python3.10/site-packages/scipy/stats/_stats_py.py:4424: ConstantInputWarning: An input array is constant; the correlation coefficient is not defined.\n",
      "  warnings.warn(stats.ConstantInputWarning(msg))\n"
     ]
    },
    {
     "name": "stdout",
     "output_type": "stream",
     "text": [
      "Epoch: 33/100, Val Loss: 382.4832, Pearson R: nan, RMSE: 20.1248\n",
      "{'batch_size': 512, 'lr': 0.1, 'dropout': 0.3, 'lr_decay': 0.01, 'layers': 2, 'hidden_dim': 400}\n",
      "Epoch: 18/100, Val Loss: 416.4019, Pearson R: -0.3233, RMSE: 21.0066\n",
      "{'batch_size': 512, 'lr': 0.1, 'dropout': 0.3, 'lr_decay': 0.01, 'layers': 2, 'hidden_dim': 800}\n",
      "Epoch: 8/100, Val Loss: 465.1404, Pearson R: -0.0684, RMSE: 22.1003\n",
      "{'batch_size': 512, 'lr': 0.1, 'dropout': 0.3, 'lr_decay': 0.01, 'layers': 4, 'hidden_dim': 400}\n",
      "Epoch: 22/100, Val Loss: 318.1547, Pearson R: 0.3723, RMSE: 18.4575\n",
      "{'batch_size': 512, 'lr': 0.1, 'dropout': 0.3, 'lr_decay': 0.01, 'layers': 4, 'hidden_dim': 800}\n"
     ]
    },
    {
     "name": "stderr",
     "output_type": "stream",
     "text": [
      "/home/samsonm/miniconda3/envs/multi_modal_DL/lib/python3.10/site-packages/scipy/stats/_stats_py.py:4424: ConstantInputWarning: An input array is constant; the correlation coefficient is not defined.\n",
      "  warnings.warn(stats.ConstantInputWarning(msg))\n"
     ]
    },
    {
     "name": "stdout",
     "output_type": "stream",
     "text": [
      "Epoch: 14/100, Val Loss: 407.4049, Pearson R: -0.3957, RMSE: 20.7485\n",
      "{'batch_size': 512, 'lr': 0.1, 'dropout': 0.3, 'lr_decay': 0.001, 'layers': 2, 'hidden_dim': 400}\n",
      "Epoch: 6/100, Val Loss: 13188.4863, Pearson R: -0.2110, RMSE: 114.9865\n",
      "{'batch_size': 512, 'lr': 0.1, 'dropout': 0.3, 'lr_decay': 0.001, 'layers': 2, 'hidden_dim': 800}\n",
      "Epoch: 7/100, Val Loss: 9756.0879, Pearson R: 0.3496, RMSE: 98.8746\n",
      "{'batch_size': 512, 'lr': 0.1, 'dropout': 0.3, 'lr_decay': 0.001, 'layers': 4, 'hidden_dim': 400}\n",
      "Epoch: 15/100, Val Loss: 322.3967, Pearson R: -0.0645, RMSE: 18.5730\n",
      "{'batch_size': 512, 'lr': 0.1, 'dropout': 0.3, 'lr_decay': 0.001, 'layers': 4, 'hidden_dim': 800}\n",
      "Epoch: 29/100, Val Loss: 315.6788, Pearson R: 0.4913, RMSE: 18.3900\n",
      "{'batch_size': 512, 'lr': 0.1, 'dropout': 0.3, 'lr_decay': 0.0001, 'layers': 2, 'hidden_dim': 400}\n",
      "Epoch: 20/100, Val Loss: 315.5017, Pearson R: -0.0018, RMSE: 18.3855\n",
      "{'batch_size': 512, 'lr': 0.1, 'dropout': 0.3, 'lr_decay': 0.0001, 'layers': 2, 'hidden_dim': 800}\n",
      "Epoch: 12/100, Val Loss: 537.1265, Pearson R: -0.0822, RMSE: 23.6737\n",
      "{'batch_size': 512, 'lr': 0.1, 'dropout': 0.3, 'lr_decay': 0.0001, 'layers': 4, 'hidden_dim': 400}\n",
      "Epoch: 6/100, Val Loss: 2586.9060, Pearson R: -0.2119, RMSE: 51.1117\n",
      "{'batch_size': 512, 'lr': 0.1, 'dropout': 0.3, 'lr_decay': 0.0001, 'layers': 4, 'hidden_dim': 800}\n",
      "Epoch: 17/100, Val Loss: 315.7733, Pearson R: -0.0323, RMSE: 18.3930\n",
      "{'batch_size': 512, 'lr': 0.1, 'dropout': 0.4, 'lr_decay': 0.1, 'layers': 2, 'hidden_dim': 400}\n",
      "Epoch: 9/100, Val Loss: 3485.8750, Pearson R: -0.0206, RMSE: 59.2324\n",
      "{'batch_size': 512, 'lr': 0.1, 'dropout': 0.4, 'lr_decay': 0.1, 'layers': 2, 'hidden_dim': 800}\n",
      "Epoch: 16/100, Val Loss: 336.3928, Pearson R: 0.4352, RMSE: 18.9451\n",
      "{'batch_size': 512, 'lr': 0.1, 'dropout': 0.4, 'lr_decay': 0.1, 'layers': 4, 'hidden_dim': 400}\n",
      "Epoch: 9/100, Val Loss: 4471.0640, Pearson R: 0.1432, RMSE: 67.0337\n",
      "{'batch_size': 512, 'lr': 0.1, 'dropout': 0.4, 'lr_decay': 0.1, 'layers': 4, 'hidden_dim': 800}\n",
      "Epoch: 6/100, Val Loss: 8249.9766, Pearson R: -0.3492, RMSE: 90.9715\n",
      "{'batch_size': 512, 'lr': 0.1, 'dropout': 0.4, 'lr_decay': 0.01, 'layers': 2, 'hidden_dim': 400}\n",
      "Epoch: 6/100, Val Loss: 2084.0889, Pearson R: -0.4733, RMSE: 46.0163\n",
      "{'batch_size': 512, 'lr': 0.1, 'dropout': 0.4, 'lr_decay': 0.01, 'layers': 2, 'hidden_dim': 800}\n",
      "Epoch: 28/100, Val Loss: 314.8175, Pearson R: 0.1891, RMSE: 18.3663\n",
      "{'batch_size': 512, 'lr': 0.1, 'dropout': 0.4, 'lr_decay': 0.01, 'layers': 4, 'hidden_dim': 400}\n",
      "Epoch: 7/100, Val Loss: 855.9916, Pearson R: -0.0865, RMSE: 29.6792\n",
      "{'batch_size': 512, 'lr': 0.1, 'dropout': 0.4, 'lr_decay': 0.01, 'layers': 4, 'hidden_dim': 800}\n",
      "Epoch: 12/100, Val Loss: 513.1821, Pearson R: 0.2247, RMSE: 23.1376\n",
      "{'batch_size': 512, 'lr': 0.1, 'dropout': 0.4, 'lr_decay': 0.001, 'layers': 2, 'hidden_dim': 400}\n",
      "Epoch: 6/100, Val Loss: 5535.3345, Pearson R: -0.2562, RMSE: 74.5863\n",
      "{'batch_size': 512, 'lr': 0.1, 'dropout': 0.4, 'lr_decay': 0.001, 'layers': 2, 'hidden_dim': 800}\n",
      "Epoch: 15/100, Val Loss: 341.6703, Pearson R: 0.1885, RMSE: 19.0838\n",
      "{'batch_size': 512, 'lr': 0.1, 'dropout': 0.4, 'lr_decay': 0.001, 'layers': 4, 'hidden_dim': 400}\n",
      "Epoch: 6/100, Val Loss: 471.9688, Pearson R: 0.0979, RMSE: 22.2273\n",
      "{'batch_size': 512, 'lr': 0.1, 'dropout': 0.4, 'lr_decay': 0.001, 'layers': 4, 'hidden_dim': 800}\n",
      "Epoch: 7/100, Val Loss: 558.8867, Pearson R: 0.4332, RMSE: 24.0704\n",
      "{'batch_size': 512, 'lr': 0.1, 'dropout': 0.4, 'lr_decay': 0.0001, 'layers': 2, 'hidden_dim': 400}\n",
      "Epoch: 6/100, Val Loss: 394.5997, Pearson R: -0.2798, RMSE: 20.4551\n",
      "{'batch_size': 512, 'lr': 0.1, 'dropout': 0.4, 'lr_decay': 0.0001, 'layers': 2, 'hidden_dim': 800}\n",
      "Epoch: 14/100, Val Loss: 451.3677, Pearson R: -0.0421, RMSE: 21.7755\n",
      "{'batch_size': 512, 'lr': 0.1, 'dropout': 0.4, 'lr_decay': 0.0001, 'layers': 4, 'hidden_dim': 400}\n",
      "Epoch: 13/100, Val Loss: 316.7605, Pearson R: 0.2055, RMSE: 18.4190\n",
      "{'batch_size': 512, 'lr': 0.1, 'dropout': 0.4, 'lr_decay': 0.0001, 'layers': 4, 'hidden_dim': 800}\n",
      "Epoch: 6/100, Val Loss: 2336.1516, Pearson R: 0.3535, RMSE: 48.3889\n",
      "{'batch_size': 512, 'lr': 0.1, 'dropout': 0.5, 'lr_decay': 0.1, 'layers': 2, 'hidden_dim': 400}\n",
      "Epoch: 19/100, Val Loss: 420.0957, Pearson R: 0.1545, RMSE: 21.0360\n",
      "{'batch_size': 512, 'lr': 0.1, 'dropout': 0.5, 'lr_decay': 0.1, 'layers': 2, 'hidden_dim': 800}\n",
      "Epoch: 9/100, Val Loss: 320.7839, Pearson R: 0.3411, RMSE: 18.5220\n",
      "{'batch_size': 512, 'lr': 0.1, 'dropout': 0.5, 'lr_decay': 0.1, 'layers': 4, 'hidden_dim': 400}\n",
      "Epoch: 14/100, Val Loss: 303.7565, Pearson R: 0.2717, RMSE: 18.0501\n",
      "{'batch_size': 512, 'lr': 0.1, 'dropout': 0.5, 'lr_decay': 0.1, 'layers': 4, 'hidden_dim': 800}\n",
      "Epoch: 7/100, Val Loss: 308.2883, Pearson R: 0.2197, RMSE: 18.1441\n",
      "{'batch_size': 512, 'lr': 0.1, 'dropout': 0.5, 'lr_decay': 0.01, 'layers': 2, 'hidden_dim': 400}\n",
      "Epoch: 13/100, Val Loss: 315.9436, Pearson R: 0.3961, RMSE: 18.3964\n",
      "{'batch_size': 512, 'lr': 0.1, 'dropout': 0.5, 'lr_decay': 0.01, 'layers': 2, 'hidden_dim': 800}\n",
      "Epoch: 14/100, Val Loss: 1019.0883, Pearson R: -0.1048, RMSE: 32.2740\n",
      "{'batch_size': 512, 'lr': 0.1, 'dropout': 0.5, 'lr_decay': 0.01, 'layers': 4, 'hidden_dim': 400}\n",
      "Epoch: 10/100, Val Loss: 338.9219, Pearson R: -0.2493, RMSE: 19.0278\n",
      "{'batch_size': 512, 'lr': 0.1, 'dropout': 0.5, 'lr_decay': 0.01, 'layers': 4, 'hidden_dim': 800}\n",
      "Epoch: 14/100, Val Loss: 327.9269, Pearson R: -0.3487, RMSE: 18.7311\n",
      "{'batch_size': 512, 'lr': 0.1, 'dropout': 0.5, 'lr_decay': 0.001, 'layers': 2, 'hidden_dim': 400}\n",
      "Epoch: 21/100, Val Loss: 319.8631, Pearson R: -0.1289, RMSE: 18.5037\n",
      "{'batch_size': 512, 'lr': 0.1, 'dropout': 0.5, 'lr_decay': 0.001, 'layers': 2, 'hidden_dim': 800}\n",
      "Epoch: 9/100, Val Loss: 3113.4514, Pearson R: 0.4889, RMSE: 55.9857\n",
      "{'batch_size': 512, 'lr': 0.1, 'dropout': 0.5, 'lr_decay': 0.001, 'layers': 4, 'hidden_dim': 400}\n",
      "Epoch: 20/100, Val Loss: 300.6584, Pearson R: 0.4059, RMSE: 17.9605\n",
      "{'batch_size': 512, 'lr': 0.1, 'dropout': 0.5, 'lr_decay': 0.001, 'layers': 4, 'hidden_dim': 800}\n",
      "Epoch: 6/100, Val Loss: 51264.4961, Pearson R: 0.0800, RMSE: 226.4657\n",
      "{'batch_size': 512, 'lr': 0.1, 'dropout': 0.5, 'lr_decay': 0.0001, 'layers': 2, 'hidden_dim': 400}\n",
      "Epoch: 16/100, Val Loss: 388.7024, Pearson R: -0.1274, RMSE: 20.2789\n",
      "{'batch_size': 512, 'lr': 0.1, 'dropout': 0.5, 'lr_decay': 0.0001, 'layers': 2, 'hidden_dim': 800}\n",
      "Epoch: 10/100, Val Loss: 863.6423, Pearson R: 0.3649, RMSE: 29.7618\n",
      "{'batch_size': 512, 'lr': 0.1, 'dropout': 0.5, 'lr_decay': 0.0001, 'layers': 4, 'hidden_dim': 400}\n",
      "Epoch: 9/100, Val Loss: 384.0560, Pearson R: -0.4000, RMSE: 20.2060\n",
      "{'batch_size': 512, 'lr': 0.1, 'dropout': 0.5, 'lr_decay': 0.0001, 'layers': 4, 'hidden_dim': 800}\n",
      "Epoch: 12/100, Val Loss: 315.3361, Pearson R: 0.1447, RMSE: 18.3809\n",
      "{'batch_size': 512, 'lr': 0.01, 'dropout': 0.1, 'lr_decay': 0.1, 'layers': 2, 'hidden_dim': 400}\n",
      "Epoch: 13/100, Val Loss: 278.2048, Pearson R: 0.4195, RMSE: 17.2627\n",
      "{'batch_size': 512, 'lr': 0.01, 'dropout': 0.1, 'lr_decay': 0.1, 'layers': 2, 'hidden_dim': 800}\n",
      "Epoch: 11/100, Val Loss: 769.2916, Pearson R: -0.3299, RMSE: 28.1648\n",
      "{'batch_size': 512, 'lr': 0.01, 'dropout': 0.1, 'lr_decay': 0.1, 'layers': 4, 'hidden_dim': 400}\n",
      "Epoch: 14/100, Val Loss: 378.5645, Pearson R: -0.2943, RMSE: 20.0592\n",
      "{'batch_size': 512, 'lr': 0.01, 'dropout': 0.1, 'lr_decay': 0.1, 'layers': 4, 'hidden_dim': 800}\n",
      "Epoch: 16/100, Val Loss: 316.7076, Pearson R: -0.2022, RMSE: 18.4191\n",
      "{'batch_size': 512, 'lr': 0.01, 'dropout': 0.1, 'lr_decay': 0.01, 'layers': 2, 'hidden_dim': 400}\n",
      "Epoch: 6/100, Val Loss: 318.5279, Pearson R: 0.3728, RMSE: 18.4457\n",
      "{'batch_size': 512, 'lr': 0.01, 'dropout': 0.1, 'lr_decay': 0.01, 'layers': 2, 'hidden_dim': 800}\n",
      "Epoch: 11/100, Val Loss: 385.3233, Pearson R: 0.2955, RMSE: 20.1904\n",
      "{'batch_size': 512, 'lr': 0.01, 'dropout': 0.1, 'lr_decay': 0.01, 'layers': 4, 'hidden_dim': 400}\n",
      "Epoch: 14/100, Val Loss: 323.2191, Pearson R: -0.3927, RMSE: 18.5976\n",
      "{'batch_size': 512, 'lr': 0.01, 'dropout': 0.1, 'lr_decay': 0.01, 'layers': 4, 'hidden_dim': 800}\n",
      "Epoch: 13/100, Val Loss: 537.1253, Pearson R: 0.3155, RMSE: 23.6526\n",
      "{'batch_size': 512, 'lr': 0.01, 'dropout': 0.1, 'lr_decay': 0.001, 'layers': 2, 'hidden_dim': 400}\n",
      "Epoch: 10/100, Val Loss: 483.7061, Pearson R: -0.1826, RMSE: 22.5468\n",
      "{'batch_size': 512, 'lr': 0.01, 'dropout': 0.1, 'lr_decay': 0.001, 'layers': 2, 'hidden_dim': 800}\n"
     ]
    },
    {
     "name": "stdout",
     "output_type": "stream",
     "text": [
      "Epoch: 13/100, Val Loss: 396.9817, Pearson R: -0.3126, RMSE: 20.5078\n",
      "{'batch_size': 512, 'lr': 0.01, 'dropout': 0.1, 'lr_decay': 0.001, 'layers': 4, 'hidden_dim': 400}\n",
      "Epoch: 19/100, Val Loss: 321.2773, Pearson R: -0.0850, RMSE: 18.5437\n",
      "{'batch_size': 512, 'lr': 0.01, 'dropout': 0.1, 'lr_decay': 0.001, 'layers': 4, 'hidden_dim': 800}\n",
      "Epoch: 12/100, Val Loss: 422.0460, Pearson R: -0.2404, RMSE: 21.0858\n",
      "{'batch_size': 512, 'lr': 0.01, 'dropout': 0.1, 'lr_decay': 0.0001, 'layers': 2, 'hidden_dim': 400}\n",
      "Epoch: 10/100, Val Loss: 384.2600, Pearson R: -0.1896, RMSE: 20.2000\n",
      "{'batch_size': 512, 'lr': 0.01, 'dropout': 0.1, 'lr_decay': 0.0001, 'layers': 2, 'hidden_dim': 800}\n",
      "Epoch: 9/100, Val Loss: 534.0505, Pearson R: -0.1709, RMSE: 23.6462\n",
      "{'batch_size': 512, 'lr': 0.01, 'dropout': 0.1, 'lr_decay': 0.0001, 'layers': 4, 'hidden_dim': 400}\n",
      "Epoch: 6/100, Val Loss: 302.5802, Pearson R: 0.4067, RMSE: 18.0171\n",
      "{'batch_size': 512, 'lr': 0.01, 'dropout': 0.1, 'lr_decay': 0.0001, 'layers': 4, 'hidden_dim': 800}\n",
      "Epoch: 13/100, Val Loss: 325.8644, Pearson R: 0.3536, RMSE: 18.6536\n",
      "{'batch_size': 512, 'lr': 0.01, 'dropout': 0.2, 'lr_decay': 0.1, 'layers': 2, 'hidden_dim': 400}\n",
      "Epoch: 10/100, Val Loss: 434.0511, Pearson R: -0.1849, RMSE: 21.4077\n",
      "{'batch_size': 512, 'lr': 0.01, 'dropout': 0.2, 'lr_decay': 0.1, 'layers': 2, 'hidden_dim': 800}\n",
      "Epoch: 22/100, Val Loss: 525.9633, Pearson R: -0.0189, RMSE: 23.4269\n",
      "{'batch_size': 512, 'lr': 0.01, 'dropout': 0.2, 'lr_decay': 0.1, 'layers': 4, 'hidden_dim': 400}\n",
      "Epoch: 25/100, Val Loss: 351.4719, Pearson R: 0.1602, RMSE: 19.2982\n",
      "{'batch_size': 512, 'lr': 0.01, 'dropout': 0.2, 'lr_decay': 0.1, 'layers': 4, 'hidden_dim': 800}\n",
      "Epoch: 25/100, Val Loss: 300.4094, Pearson R: 0.2372, RMSE: 17.9391\n",
      "{'batch_size': 512, 'lr': 0.01, 'dropout': 0.2, 'lr_decay': 0.01, 'layers': 2, 'hidden_dim': 400}\n",
      "Epoch: 13/100, Val Loss: 283.5003, Pearson R: 0.3754, RMSE: 17.4177\n",
      "{'batch_size': 512, 'lr': 0.01, 'dropout': 0.2, 'lr_decay': 0.01, 'layers': 2, 'hidden_dim': 800}\n",
      "Epoch: 15/100, Val Loss: 319.9576, Pearson R: 0.2962, RMSE: 18.4953\n",
      "{'batch_size': 512, 'lr': 0.01, 'dropout': 0.2, 'lr_decay': 0.01, 'layers': 4, 'hidden_dim': 400}\n",
      "Epoch: 17/100, Val Loss: 316.4568, Pearson R: -0.0013, RMSE: 18.4114\n",
      "{'batch_size': 512, 'lr': 0.01, 'dropout': 0.2, 'lr_decay': 0.01, 'layers': 4, 'hidden_dim': 800}\n",
      "Epoch: 12/100, Val Loss: 322.9755, Pearson R: -0.2969, RMSE: 18.5909\n",
      "{'batch_size': 512, 'lr': 0.01, 'dropout': 0.2, 'lr_decay': 0.001, 'layers': 2, 'hidden_dim': 400}\n",
      "Epoch: 10/100, Val Loss: 500.1708, Pearson R: -0.1888, RMSE: 22.9133\n",
      "{'batch_size': 512, 'lr': 0.01, 'dropout': 0.2, 'lr_decay': 0.001, 'layers': 2, 'hidden_dim': 800}\n",
      "Epoch: 16/100, Val Loss: 294.4304, Pearson R: 0.4896, RMSE: 17.7664\n",
      "{'batch_size': 512, 'lr': 0.01, 'dropout': 0.2, 'lr_decay': 0.001, 'layers': 4, 'hidden_dim': 400}\n",
      "Epoch: 19/100, Val Loss: 333.8978, Pearson R: -0.0658, RMSE: 18.8859\n",
      "{'batch_size': 512, 'lr': 0.01, 'dropout': 0.2, 'lr_decay': 0.001, 'layers': 4, 'hidden_dim': 800}\n",
      "Epoch: 12/100, Val Loss: 331.1210, Pearson R: 0.0606, RMSE: 18.8046\n",
      "{'batch_size': 512, 'lr': 0.01, 'dropout': 0.2, 'lr_decay': 0.0001, 'layers': 2, 'hidden_dim': 400}\n",
      "Epoch: 6/100, Val Loss: 327.6665, Pearson R: 0.3876, RMSE: 18.6877\n",
      "{'batch_size': 512, 'lr': 0.01, 'dropout': 0.2, 'lr_decay': 0.0001, 'layers': 2, 'hidden_dim': 800}\n",
      "Epoch: 22/100, Val Loss: 448.3972, Pearson R: -0.2073, RMSE: 21.7470\n",
      "{'batch_size': 512, 'lr': 0.01, 'dropout': 0.2, 'lr_decay': 0.0001, 'layers': 4, 'hidden_dim': 400}\n",
      "Epoch: 6/100, Val Loss: 409.7052, Pearson R: 0.3465, RMSE: 20.7706\n",
      "{'batch_size': 512, 'lr': 0.01, 'dropout': 0.2, 'lr_decay': 0.0001, 'layers': 4, 'hidden_dim': 800}\n",
      "Epoch: 12/100, Val Loss: 367.9672, Pearson R: 0.0377, RMSE: 19.7607\n",
      "{'batch_size': 512, 'lr': 0.01, 'dropout': 0.3, 'lr_decay': 0.1, 'layers': 2, 'hidden_dim': 400}\n",
      "Epoch: 14/100, Val Loss: 403.9131, Pearson R: 0.1998, RMSE: 20.5897\n",
      "{'batch_size': 512, 'lr': 0.01, 'dropout': 0.3, 'lr_decay': 0.1, 'layers': 2, 'hidden_dim': 800}\n",
      "Epoch: 10/100, Val Loss: 345.1942, Pearson R: 0.0901, RMSE: 19.1590\n",
      "{'batch_size': 512, 'lr': 0.01, 'dropout': 0.3, 'lr_decay': 0.1, 'layers': 4, 'hidden_dim': 400}\n",
      "Epoch: 17/100, Val Loss: 320.3770, Pearson R: 0.1853, RMSE: 18.5139\n",
      "{'batch_size': 512, 'lr': 0.01, 'dropout': 0.3, 'lr_decay': 0.1, 'layers': 4, 'hidden_dim': 800}\n",
      "Epoch: 11/100, Val Loss: 359.8985, Pearson R: 0.1372, RMSE: 19.5492\n",
      "{'batch_size': 512, 'lr': 0.01, 'dropout': 0.3, 'lr_decay': 0.01, 'layers': 2, 'hidden_dim': 400}\n",
      "Epoch: 13/100, Val Loss: 516.4149, Pearson R: 0.1651, RMSE: 23.1518\n",
      "{'batch_size': 512, 'lr': 0.01, 'dropout': 0.3, 'lr_decay': 0.01, 'layers': 2, 'hidden_dim': 800}\n",
      "Epoch: 10/100, Val Loss: 317.8388, Pearson R: 0.1038, RMSE: 18.4455\n",
      "{'batch_size': 512, 'lr': 0.01, 'dropout': 0.3, 'lr_decay': 0.01, 'layers': 4, 'hidden_dim': 400}\n",
      "Epoch: 17/100, Val Loss: 274.4288, Pearson R: 0.5099, RMSE: 17.1823\n",
      "{'batch_size': 512, 'lr': 0.01, 'dropout': 0.3, 'lr_decay': 0.01, 'layers': 4, 'hidden_dim': 800}\n",
      "Epoch: 28/100, Val Loss: 287.5150, Pearson R: 0.3989, RMSE: 17.5736\n",
      "{'batch_size': 512, 'lr': 0.01, 'dropout': 0.3, 'lr_decay': 0.001, 'layers': 2, 'hidden_dim': 400}\n",
      "Epoch: 13/100, Val Loss: 335.2832, Pearson R: -0.0041, RMSE: 18.9164\n",
      "{'batch_size': 512, 'lr': 0.01, 'dropout': 0.3, 'lr_decay': 0.001, 'layers': 2, 'hidden_dim': 800}\n",
      "Epoch: 10/100, Val Loss: 307.6522, Pearson R: 0.2131, RMSE: 18.1551\n",
      "{'batch_size': 512, 'lr': 0.01, 'dropout': 0.3, 'lr_decay': 0.001, 'layers': 4, 'hidden_dim': 400}\n",
      "Epoch: 26/100, Val Loss: 363.1011, Pearson R: -0.3970, RMSE: 19.6686\n",
      "{'batch_size': 512, 'lr': 0.01, 'dropout': 0.3, 'lr_decay': 0.001, 'layers': 4, 'hidden_dim': 800}\n",
      "Epoch: 13/100, Val Loss: 414.1842, Pearson R: 0.5676, RMSE: 20.8824\n",
      "{'batch_size': 512, 'lr': 0.01, 'dropout': 0.3, 'lr_decay': 0.0001, 'layers': 2, 'hidden_dim': 400}\n",
      "Epoch: 10/100, Val Loss: 415.3325, Pearson R: -0.1711, RMSE: 20.9595\n",
      "{'batch_size': 512, 'lr': 0.01, 'dropout': 0.3, 'lr_decay': 0.0001, 'layers': 2, 'hidden_dim': 800}\n",
      "Epoch: 33/100, Val Loss: 261.8215, Pearson R: 0.4202, RMSE: 16.7670\n",
      "{'batch_size': 512, 'lr': 0.01, 'dropout': 0.3, 'lr_decay': 0.0001, 'layers': 4, 'hidden_dim': 400}\n",
      "Epoch: 9/100, Val Loss: 320.3928, Pearson R: 0.4624, RMSE: 18.4735\n",
      "{'batch_size': 512, 'lr': 0.01, 'dropout': 0.3, 'lr_decay': 0.0001, 'layers': 4, 'hidden_dim': 800}\n",
      "Epoch: 16/100, Val Loss: 325.1678, Pearson R: -0.1316, RMSE: 18.6465\n",
      "{'batch_size': 512, 'lr': 0.01, 'dropout': 0.4, 'lr_decay': 0.1, 'layers': 2, 'hidden_dim': 400}\n",
      "Epoch: 10/100, Val Loss: 426.5025, Pearson R: -0.1066, RMSE: 21.2150\n",
      "{'batch_size': 512, 'lr': 0.01, 'dropout': 0.4, 'lr_decay': 0.1, 'layers': 2, 'hidden_dim': 800}\n",
      "Epoch: 13/100, Val Loss: 343.2921, Pearson R: 0.2601, RMSE: 19.1173\n",
      "{'batch_size': 512, 'lr': 0.01, 'dropout': 0.4, 'lr_decay': 0.1, 'layers': 4, 'hidden_dim': 400}\n",
      "Epoch: 25/100, Val Loss: 235.7095, Pearson R: 0.5392, RMSE: 15.9222\n",
      "{'batch_size': 512, 'lr': 0.01, 'dropout': 0.4, 'lr_decay': 0.1, 'layers': 4, 'hidden_dim': 800}\n",
      "Epoch: 12/100, Val Loss: 315.1303, Pearson R: 0.2198, RMSE: 18.3751\n",
      "{'batch_size': 512, 'lr': 0.01, 'dropout': 0.4, 'lr_decay': 0.01, 'layers': 2, 'hidden_dim': 400}\n",
      "Epoch: 15/100, Val Loss: 368.3389, Pearson R: 0.2476, RMSE: 19.6722\n",
      "{'batch_size': 512, 'lr': 0.01, 'dropout': 0.4, 'lr_decay': 0.01, 'layers': 2, 'hidden_dim': 800}\n",
      "Epoch: 16/100, Val Loss: 323.3122, Pearson R: -0.1142, RMSE: 18.6021\n",
      "{'batch_size': 512, 'lr': 0.01, 'dropout': 0.4, 'lr_decay': 0.01, 'layers': 4, 'hidden_dim': 400}\n",
      "Epoch: 11/100, Val Loss: 527.2744, Pearson R: -0.3478, RMSE: 23.5269\n",
      "{'batch_size': 512, 'lr': 0.01, 'dropout': 0.4, 'lr_decay': 0.01, 'layers': 4, 'hidden_dim': 800}\n",
      "Epoch: 14/100, Val Loss: 341.1091, Pearson R: -0.2843, RMSE: 19.0887\n",
      "{'batch_size': 512, 'lr': 0.01, 'dropout': 0.4, 'lr_decay': 0.001, 'layers': 2, 'hidden_dim': 400}\n",
      "Epoch: 13/100, Val Loss: 404.7034, Pearson R: 0.1511, RMSE: 20.6194\n",
      "{'batch_size': 512, 'lr': 0.01, 'dropout': 0.4, 'lr_decay': 0.001, 'layers': 2, 'hidden_dim': 800}\n",
      "Epoch: 13/100, Val Loss: 353.1983, Pearson R: -0.1755, RMSE: 19.4027\n",
      "{'batch_size': 512, 'lr': 0.01, 'dropout': 0.4, 'lr_decay': 0.001, 'layers': 4, 'hidden_dim': 400}\n",
      "Epoch: 8/100, Val Loss: 292.5168, Pearson R: 0.4066, RMSE: 17.6582\n",
      "{'batch_size': 512, 'lr': 0.01, 'dropout': 0.4, 'lr_decay': 0.001, 'layers': 4, 'hidden_dim': 800}\n"
     ]
    },
    {
     "name": "stdout",
     "output_type": "stream",
     "text": [
      "Epoch: 21/100, Val Loss: 332.8034, Pearson R: -0.1315, RMSE: 18.8501\n",
      "{'batch_size': 512, 'lr': 0.01, 'dropout': 0.4, 'lr_decay': 0.0001, 'layers': 2, 'hidden_dim': 400}\n",
      "Epoch: 13/100, Val Loss: 302.7122, Pearson R: 0.2782, RMSE: 17.9803\n",
      "{'batch_size': 512, 'lr': 0.01, 'dropout': 0.4, 'lr_decay': 0.0001, 'layers': 2, 'hidden_dim': 800}\n",
      "Epoch: 18/100, Val Loss: 343.0262, Pearson R: 0.2540, RMSE: 19.0383\n",
      "{'batch_size': 512, 'lr': 0.01, 'dropout': 0.4, 'lr_decay': 0.0001, 'layers': 4, 'hidden_dim': 400}\n",
      "Epoch: 6/100, Val Loss: 448.2290, Pearson R: 0.3426, RMSE: 21.6768\n",
      "{'batch_size': 512, 'lr': 0.01, 'dropout': 0.4, 'lr_decay': 0.0001, 'layers': 4, 'hidden_dim': 800}\n",
      "Epoch: 15/100, Val Loss: 329.9649, Pearson R: 0.0329, RMSE: 18.7747\n",
      "{'batch_size': 512, 'lr': 0.01, 'dropout': 0.5, 'lr_decay': 0.1, 'layers': 2, 'hidden_dim': 400}\n",
      "Epoch: 15/100, Val Loss: 332.6356, Pearson R: -0.0117, RMSE: 18.8467\n",
      "{'batch_size': 512, 'lr': 0.01, 'dropout': 0.5, 'lr_decay': 0.1, 'layers': 2, 'hidden_dim': 800}\n",
      "Epoch: 27/100, Val Loss: 304.5054, Pearson R: 0.2613, RMSE: 18.0703\n",
      "{'batch_size': 512, 'lr': 0.01, 'dropout': 0.5, 'lr_decay': 0.1, 'layers': 4, 'hidden_dim': 400}\n",
      "Epoch: 11/100, Val Loss: 304.1892, Pearson R: 0.3275, RMSE: 18.0466\n",
      "{'batch_size': 512, 'lr': 0.01, 'dropout': 0.5, 'lr_decay': 0.1, 'layers': 4, 'hidden_dim': 800}\n",
      "Epoch: 14/100, Val Loss: 318.8460, Pearson R: 0.1109, RMSE: 18.4735\n",
      "{'batch_size': 512, 'lr': 0.01, 'dropout': 0.5, 'lr_decay': 0.01, 'layers': 2, 'hidden_dim': 400}\n",
      "Epoch: 10/100, Val Loss: 516.4483, Pearson R: -0.2668, RMSE: 23.2827\n",
      "{'batch_size': 512, 'lr': 0.01, 'dropout': 0.5, 'lr_decay': 0.01, 'layers': 2, 'hidden_dim': 800}\n",
      "Epoch: 16/100, Val Loss: 296.3168, Pearson R: 0.2584, RMSE: 17.8270\n",
      "{'batch_size': 512, 'lr': 0.01, 'dropout': 0.5, 'lr_decay': 0.01, 'layers': 4, 'hidden_dim': 400}\n",
      "Epoch: 44/100, Val Loss: 324.7170, Pearson R: 0.2461, RMSE: 18.5552\n",
      "{'batch_size': 512, 'lr': 0.01, 'dropout': 0.5, 'lr_decay': 0.01, 'layers': 4, 'hidden_dim': 800}\n",
      "Epoch: 18/100, Val Loss: 312.3279, Pearson R: 0.4878, RMSE: 18.2952\n",
      "{'batch_size': 512, 'lr': 0.01, 'dropout': 0.5, 'lr_decay': 0.001, 'layers': 2, 'hidden_dim': 400}\n",
      "Epoch: 10/100, Val Loss: 402.2213, Pearson R: -0.2203, RMSE: 20.6473\n",
      "{'batch_size': 512, 'lr': 0.01, 'dropout': 0.5, 'lr_decay': 0.001, 'layers': 2, 'hidden_dim': 800}\n",
      "Epoch: 16/100, Val Loss: 291.9301, Pearson R: 0.3376, RMSE: 17.7035\n",
      "{'batch_size': 512, 'lr': 0.01, 'dropout': 0.5, 'lr_decay': 0.001, 'layers': 4, 'hidden_dim': 400}\n",
      "Epoch: 6/100, Val Loss: 306.2142, Pearson R: 0.3530, RMSE: 18.1194\n",
      "{'batch_size': 512, 'lr': 0.01, 'dropout': 0.5, 'lr_decay': 0.001, 'layers': 4, 'hidden_dim': 800}\n",
      "Epoch: 12/100, Val Loss: 289.0052, Pearson R: 0.4337, RMSE: 17.6172\n",
      "{'batch_size': 512, 'lr': 0.01, 'dropout': 0.5, 'lr_decay': 0.0001, 'layers': 2, 'hidden_dim': 400}\n",
      "Epoch: 10/100, Val Loss: 365.9958, Pearson R: -0.2697, RMSE: 19.7431\n",
      "{'batch_size': 512, 'lr': 0.01, 'dropout': 0.5, 'lr_decay': 0.0001, 'layers': 2, 'hidden_dim': 800}\n",
      "Epoch: 19/100, Val Loss: 316.0031, Pearson R: 0.1902, RMSE: 18.3582\n",
      "{'batch_size': 512, 'lr': 0.01, 'dropout': 0.5, 'lr_decay': 0.0001, 'layers': 4, 'hidden_dim': 400}\n",
      "Epoch: 6/100, Val Loss: 407.3502, Pearson R: 0.3980, RMSE: 20.6974\n",
      "{'batch_size': 512, 'lr': 0.01, 'dropout': 0.5, 'lr_decay': 0.0001, 'layers': 4, 'hidden_dim': 800}\n",
      "Epoch: 12/100, Val Loss: 371.5270, Pearson R: 0.4298, RMSE: 19.8331\n",
      "{'batch_size': 512, 'lr': 0.001, 'dropout': 0.1, 'lr_decay': 0.1, 'layers': 2, 'hidden_dim': 400}\n",
      "Epoch: 11/100, Val Loss: 278.2170, Pearson R: 0.4281, RMSE: 17.2771\n",
      "{'batch_size': 512, 'lr': 0.001, 'dropout': 0.1, 'lr_decay': 0.1, 'layers': 2, 'hidden_dim': 800}\n",
      "Epoch: 24/100, Val Loss: 277.3124, Pearson R: 0.3896, RMSE: 17.2433\n",
      "{'batch_size': 512, 'lr': 0.001, 'dropout': 0.1, 'lr_decay': 0.1, 'layers': 4, 'hidden_dim': 400}\n",
      "Epoch: 24/100, Val Loss: 272.3378, Pearson R: 0.4234, RMSE: 17.0748\n",
      "{'batch_size': 512, 'lr': 0.001, 'dropout': 0.1, 'lr_decay': 0.1, 'layers': 4, 'hidden_dim': 800}\n",
      "Epoch: 18/100, Val Loss: 286.8599, Pearson R: 0.4180, RMSE: 17.5048\n",
      "{'batch_size': 512, 'lr': 0.001, 'dropout': 0.1, 'lr_decay': 0.01, 'layers': 2, 'hidden_dim': 400}\n",
      "Epoch: 12/100, Val Loss: 283.6033, Pearson R: 0.4230, RMSE: 17.4178\n",
      "{'batch_size': 512, 'lr': 0.001, 'dropout': 0.1, 'lr_decay': 0.01, 'layers': 2, 'hidden_dim': 800}\n",
      "Epoch: 25/100, Val Loss: 287.1207, Pearson R: 0.3991, RMSE: 17.4987\n",
      "{'batch_size': 512, 'lr': 0.001, 'dropout': 0.1, 'lr_decay': 0.01, 'layers': 4, 'hidden_dim': 400}\n",
      "Epoch: 14/100, Val Loss: 282.3149, Pearson R: 0.4193, RMSE: 17.3942\n",
      "{'batch_size': 512, 'lr': 0.001, 'dropout': 0.1, 'lr_decay': 0.01, 'layers': 4, 'hidden_dim': 800}\n",
      "Epoch: 18/100, Val Loss: 275.9947, Pearson R: 0.4176, RMSE: 17.2246\n",
      "{'batch_size': 512, 'lr': 0.001, 'dropout': 0.1, 'lr_decay': 0.001, 'layers': 2, 'hidden_dim': 400}\n",
      "Epoch: 11/100, Val Loss: 279.6442, Pearson R: 0.4289, RMSE: 17.3369\n",
      "{'batch_size': 512, 'lr': 0.001, 'dropout': 0.1, 'lr_decay': 0.001, 'layers': 2, 'hidden_dim': 800}\n",
      "Epoch: 25/100, Val Loss: 287.7126, Pearson R: 0.4019, RMSE: 17.5129\n",
      "{'batch_size': 512, 'lr': 0.001, 'dropout': 0.1, 'lr_decay': 0.001, 'layers': 4, 'hidden_dim': 400}\n",
      "Epoch: 13/100, Val Loss: 287.9817, Pearson R: 0.4258, RMSE: 17.5887\n",
      "{'batch_size': 512, 'lr': 0.001, 'dropout': 0.1, 'lr_decay': 0.001, 'layers': 4, 'hidden_dim': 800}\n",
      "Epoch: 18/100, Val Loss: 273.8746, Pearson R: 0.4155, RMSE: 17.1511\n",
      "{'batch_size': 512, 'lr': 0.001, 'dropout': 0.1, 'lr_decay': 0.0001, 'layers': 2, 'hidden_dim': 400}\n",
      "Epoch: 11/100, Val Loss: 276.7355, Pearson R: 0.4266, RMSE: 17.2447\n",
      "{'batch_size': 512, 'lr': 0.001, 'dropout': 0.1, 'lr_decay': 0.0001, 'layers': 2, 'hidden_dim': 800}\n",
      "Epoch: 21/100, Val Loss: 284.4774, Pearson R: 0.4071, RMSE: 17.4583\n",
      "{'batch_size': 512, 'lr': 0.001, 'dropout': 0.1, 'lr_decay': 0.0001, 'layers': 4, 'hidden_dim': 400}\n",
      "Epoch: 13/100, Val Loss: 283.9212, Pearson R: 0.4222, RMSE: 17.4628\n",
      "{'batch_size': 512, 'lr': 0.001, 'dropout': 0.1, 'lr_decay': 0.0001, 'layers': 4, 'hidden_dim': 800}\n",
      "Epoch: 18/100, Val Loss: 275.3919, Pearson R: 0.4156, RMSE: 17.1961\n",
      "{'batch_size': 512, 'lr': 0.001, 'dropout': 0.2, 'lr_decay': 0.1, 'layers': 2, 'hidden_dim': 400}\n",
      "Epoch: 11/100, Val Loss: 278.3102, Pearson R: 0.4287, RMSE: 17.2897\n",
      "{'batch_size': 512, 'lr': 0.001, 'dropout': 0.2, 'lr_decay': 0.1, 'layers': 2, 'hidden_dim': 800}\n",
      "Epoch: 23/100, Val Loss: 282.2218, Pearson R: 0.3910, RMSE: 17.3684\n",
      "{'batch_size': 512, 'lr': 0.001, 'dropout': 0.2, 'lr_decay': 0.1, 'layers': 4, 'hidden_dim': 400}\n",
      "Epoch: 21/100, Val Loss: 275.2460, Pearson R: 0.4250, RMSE: 17.1804\n",
      "{'batch_size': 512, 'lr': 0.001, 'dropout': 0.2, 'lr_decay': 0.1, 'layers': 4, 'hidden_dim': 800}\n",
      "Epoch: 23/100, Val Loss: 281.5213, Pearson R: 0.4083, RMSE: 17.3895\n",
      "{'batch_size': 512, 'lr': 0.001, 'dropout': 0.2, 'lr_decay': 0.01, 'layers': 2, 'hidden_dim': 400}\n",
      "Epoch: 11/100, Val Loss: 278.6342, Pearson R: 0.4238, RMSE: 17.2711\n",
      "{'batch_size': 512, 'lr': 0.001, 'dropout': 0.2, 'lr_decay': 0.01, 'layers': 2, 'hidden_dim': 800}\n",
      "Epoch: 21/100, Val Loss: 280.9067, Pearson R: 0.4118, RMSE: 17.3724\n",
      "{'batch_size': 512, 'lr': 0.001, 'dropout': 0.2, 'lr_decay': 0.01, 'layers': 4, 'hidden_dim': 400}\n",
      "Epoch: 14/100, Val Loss: 279.9471, Pearson R: 0.4156, RMSE: 17.3132\n",
      "{'batch_size': 512, 'lr': 0.001, 'dropout': 0.2, 'lr_decay': 0.01, 'layers': 4, 'hidden_dim': 800}\n",
      "Epoch: 23/100, Val Loss: 284.9468, Pearson R: 0.4032, RMSE: 17.4964\n",
      "{'batch_size': 512, 'lr': 0.001, 'dropout': 0.2, 'lr_decay': 0.001, 'layers': 2, 'hidden_dim': 400}\n",
      "Epoch: 11/100, Val Loss: 275.7356, Pearson R: 0.4274, RMSE: 17.2120\n",
      "{'batch_size': 512, 'lr': 0.001, 'dropout': 0.2, 'lr_decay': 0.001, 'layers': 2, 'hidden_dim': 800}\n",
      "Epoch: 23/100, Val Loss: 274.1876, Pearson R: 0.3978, RMSE: 17.1556\n",
      "{'batch_size': 512, 'lr': 0.001, 'dropout': 0.2, 'lr_decay': 0.001, 'layers': 4, 'hidden_dim': 400}\n",
      "Epoch: 23/100, Val Loss: 272.2020, Pearson R: 0.4190, RMSE: 17.0924\n",
      "{'batch_size': 512, 'lr': 0.001, 'dropout': 0.2, 'lr_decay': 0.001, 'layers': 4, 'hidden_dim': 800}\n",
      "Epoch: 18/100, Val Loss: 280.2643, Pearson R: 0.4169, RMSE: 17.3565\n",
      "{'batch_size': 512, 'lr': 0.001, 'dropout': 0.2, 'lr_decay': 0.0001, 'layers': 2, 'hidden_dim': 400}\n",
      "Epoch: 11/100, Val Loss: 276.1505, Pearson R: 0.4265, RMSE: 17.2205\n",
      "{'batch_size': 512, 'lr': 0.001, 'dropout': 0.2, 'lr_decay': 0.0001, 'layers': 2, 'hidden_dim': 800}\n"
     ]
    },
    {
     "name": "stdout",
     "output_type": "stream",
     "text": [
      "Epoch: 23/100, Val Loss: 273.2960, Pearson R: 0.3998, RMSE: 17.1303\n",
      "{'batch_size': 512, 'lr': 0.001, 'dropout': 0.2, 'lr_decay': 0.0001, 'layers': 4, 'hidden_dim': 400}\n",
      "Epoch: 14/100, Val Loss: 269.2851, Pearson R: 0.4128, RMSE: 17.0093\n",
      "{'batch_size': 512, 'lr': 0.001, 'dropout': 0.2, 'lr_decay': 0.0001, 'layers': 4, 'hidden_dim': 800}\n",
      "Epoch: 21/100, Val Loss: 274.1030, Pearson R: 0.4098, RMSE: 17.1429\n",
      "{'batch_size': 512, 'lr': 0.001, 'dropout': 0.3, 'lr_decay': 0.1, 'layers': 2, 'hidden_dim': 400}\n",
      "Epoch: 12/100, Val Loss: 277.7704, Pearson R: 0.4238, RMSE: 17.2457\n",
      "{'batch_size': 512, 'lr': 0.001, 'dropout': 0.3, 'lr_decay': 0.1, 'layers': 2, 'hidden_dim': 800}\n",
      "Epoch: 20/100, Val Loss: 278.5379, Pearson R: 0.4073, RMSE: 17.3004\n",
      "{'batch_size': 512, 'lr': 0.001, 'dropout': 0.3, 'lr_decay': 0.1, 'layers': 4, 'hidden_dim': 400}\n",
      "Epoch: 22/100, Val Loss: 272.1257, Pearson R: 0.4261, RMSE: 17.0914\n",
      "{'batch_size': 512, 'lr': 0.001, 'dropout': 0.3, 'lr_decay': 0.1, 'layers': 4, 'hidden_dim': 800}\n",
      "Epoch: 19/100, Val Loss: 278.4856, Pearson R: 0.4179, RMSE: 17.2789\n",
      "{'batch_size': 512, 'lr': 0.001, 'dropout': 0.3, 'lr_decay': 0.01, 'layers': 2, 'hidden_dim': 400}\n",
      "Epoch: 11/100, Val Loss: 281.0443, Pearson R: 0.4289, RMSE: 17.3753\n",
      "{'batch_size': 512, 'lr': 0.001, 'dropout': 0.3, 'lr_decay': 0.01, 'layers': 2, 'hidden_dim': 800}\n",
      "Epoch: 24/100, Val Loss: 276.3028, Pearson R: 0.4055, RMSE: 17.2060\n",
      "{'batch_size': 512, 'lr': 0.001, 'dropout': 0.3, 'lr_decay': 0.01, 'layers': 4, 'hidden_dim': 400}\n",
      "Epoch: 11/100, Val Loss: 283.4103, Pearson R: 0.4310, RMSE: 17.4525\n",
      "{'batch_size': 512, 'lr': 0.001, 'dropout': 0.3, 'lr_decay': 0.01, 'layers': 4, 'hidden_dim': 800}\n",
      "Epoch: 19/100, Val Loss: 276.5965, Pearson R: 0.4143, RMSE: 17.2428\n",
      "{'batch_size': 512, 'lr': 0.001, 'dropout': 0.3, 'lr_decay': 0.001, 'layers': 2, 'hidden_dim': 400}\n",
      "Epoch: 11/100, Val Loss: 276.4832, Pearson R: 0.4244, RMSE: 17.2180\n",
      "{'batch_size': 512, 'lr': 0.001, 'dropout': 0.3, 'lr_decay': 0.001, 'layers': 2, 'hidden_dim': 800}\n",
      "Epoch: 22/100, Val Loss: 273.0374, Pearson R: 0.4031, RMSE: 17.1184\n",
      "{'batch_size': 512, 'lr': 0.001, 'dropout': 0.3, 'lr_decay': 0.001, 'layers': 4, 'hidden_dim': 400}\n",
      "Epoch: 12/100, Val Loss: 284.1558, Pearson R: 0.4278, RMSE: 17.4569\n",
      "{'batch_size': 512, 'lr': 0.001, 'dropout': 0.3, 'lr_decay': 0.001, 'layers': 4, 'hidden_dim': 800}\n",
      "Epoch: 18/100, Val Loss: 273.6084, Pearson R: 0.4110, RMSE: 17.1442\n",
      "{'batch_size': 512, 'lr': 0.001, 'dropout': 0.3, 'lr_decay': 0.0001, 'layers': 2, 'hidden_dim': 400}\n",
      "Epoch: 12/100, Val Loss: 280.7053, Pearson R: 0.4218, RMSE: 17.3287\n",
      "{'batch_size': 512, 'lr': 0.001, 'dropout': 0.3, 'lr_decay': 0.0001, 'layers': 2, 'hidden_dim': 800}\n",
      "Epoch: 20/100, Val Loss: 284.4779, Pearson R: 0.4069, RMSE: 17.4511\n",
      "{'batch_size': 512, 'lr': 0.001, 'dropout': 0.3, 'lr_decay': 0.0001, 'layers': 4, 'hidden_dim': 400}\n",
      "Epoch: 16/100, Val Loss: 275.8196, Pearson R: 0.4237, RMSE: 17.1872\n",
      "{'batch_size': 512, 'lr': 0.001, 'dropout': 0.3, 'lr_decay': 0.0001, 'layers': 4, 'hidden_dim': 800}\n",
      "Epoch: 18/100, Val Loss: 277.0380, Pearson R: 0.4162, RMSE: 17.2570\n",
      "{'batch_size': 512, 'lr': 0.001, 'dropout': 0.4, 'lr_decay': 0.1, 'layers': 2, 'hidden_dim': 400}\n",
      "Epoch: 12/100, Val Loss: 277.5394, Pearson R: 0.4244, RMSE: 17.2507\n",
      "{'batch_size': 512, 'lr': 0.001, 'dropout': 0.4, 'lr_decay': 0.1, 'layers': 2, 'hidden_dim': 800}\n",
      "Epoch: 22/100, Val Loss: 273.6376, Pearson R: 0.3980, RMSE: 17.1198\n",
      "{'batch_size': 512, 'lr': 0.001, 'dropout': 0.4, 'lr_decay': 0.1, 'layers': 4, 'hidden_dim': 400}\n",
      "Epoch: 13/100, Val Loss: 271.2555, Pearson R: 0.4298, RMSE: 17.0718\n",
      "{'batch_size': 512, 'lr': 0.001, 'dropout': 0.4, 'lr_decay': 0.1, 'layers': 4, 'hidden_dim': 800}\n",
      "Epoch: 19/100, Val Loss: 274.1805, Pearson R: 0.4182, RMSE: 17.1633\n",
      "{'batch_size': 512, 'lr': 0.001, 'dropout': 0.4, 'lr_decay': 0.01, 'layers': 2, 'hidden_dim': 400}\n",
      "Epoch: 12/100, Val Loss: 281.6341, Pearson R: 0.4206, RMSE: 17.3516\n",
      "{'batch_size': 512, 'lr': 0.001, 'dropout': 0.4, 'lr_decay': 0.01, 'layers': 2, 'hidden_dim': 800}\n",
      "Epoch: 24/100, Val Loss: 272.8881, Pearson R: 0.4069, RMSE: 17.1225\n",
      "{'batch_size': 512, 'lr': 0.001, 'dropout': 0.4, 'lr_decay': 0.01, 'layers': 4, 'hidden_dim': 400}\n",
      "Epoch: 11/100, Val Loss: 292.6282, Pearson R: 0.4276, RMSE: 17.6786\n",
      "{'batch_size': 512, 'lr': 0.001, 'dropout': 0.4, 'lr_decay': 0.01, 'layers': 4, 'hidden_dim': 800}\n",
      "Epoch: 21/100, Val Loss: 272.3481, Pearson R: 0.4126, RMSE: 17.1039\n",
      "{'batch_size': 512, 'lr': 0.001, 'dropout': 0.4, 'lr_decay': 0.001, 'layers': 2, 'hidden_dim': 400}\n",
      "Epoch: 12/100, Val Loss: 275.4328, Pearson R: 0.4173, RMSE: 17.1683\n",
      "{'batch_size': 512, 'lr': 0.001, 'dropout': 0.4, 'lr_decay': 0.001, 'layers': 2, 'hidden_dim': 800}\n",
      "Epoch: 22/100, Val Loss: 277.9579, Pearson R: 0.3971, RMSE: 17.2485\n",
      "{'batch_size': 512, 'lr': 0.001, 'dropout': 0.4, 'lr_decay': 0.001, 'layers': 4, 'hidden_dim': 400}\n",
      "Epoch: 11/100, Val Loss: 282.8362, Pearson R: 0.4294, RMSE: 17.4138\n",
      "{'batch_size': 512, 'lr': 0.001, 'dropout': 0.4, 'lr_decay': 0.001, 'layers': 4, 'hidden_dim': 800}\n",
      "Epoch: 18/100, Val Loss: 274.8883, Pearson R: 0.4135, RMSE: 17.1878\n",
      "{'batch_size': 512, 'lr': 0.001, 'dropout': 0.4, 'lr_decay': 0.0001, 'layers': 2, 'hidden_dim': 400}\n",
      "Epoch: 11/100, Val Loss: 279.3534, Pearson R: 0.4284, RMSE: 17.3209\n",
      "{'batch_size': 512, 'lr': 0.001, 'dropout': 0.4, 'lr_decay': 0.0001, 'layers': 2, 'hidden_dim': 800}\n",
      "Epoch: 23/100, Val Loss: 271.6404, Pearson R: 0.4085, RMSE: 17.0775\n",
      "{'batch_size': 512, 'lr': 0.001, 'dropout': 0.4, 'lr_decay': 0.0001, 'layers': 4, 'hidden_dim': 400}\n",
      "Epoch: 16/100, Val Loss: 273.0074, Pearson R: 0.4250, RMSE: 17.1171\n",
      "{'batch_size': 512, 'lr': 0.001, 'dropout': 0.4, 'lr_decay': 0.0001, 'layers': 4, 'hidden_dim': 800}\n",
      "Epoch: 18/100, Val Loss: 274.7725, Pearson R: 0.4155, RMSE: 17.1820\n",
      "{'batch_size': 512, 'lr': 0.001, 'dropout': 0.5, 'lr_decay': 0.1, 'layers': 2, 'hidden_dim': 400}\n",
      "Epoch: 12/100, Val Loss: 276.3791, Pearson R: 0.4274, RMSE: 17.2317\n",
      "{'batch_size': 512, 'lr': 0.001, 'dropout': 0.5, 'lr_decay': 0.1, 'layers': 2, 'hidden_dim': 800}\n",
      "Epoch: 17/100, Val Loss: 280.8063, Pearson R: 0.4082, RMSE: 17.3306\n",
      "{'batch_size': 512, 'lr': 0.001, 'dropout': 0.5, 'lr_decay': 0.1, 'layers': 4, 'hidden_dim': 400}\n",
      "Epoch: 12/100, Val Loss: 270.9454, Pearson R: 0.4284, RMSE: 17.0545\n",
      "{'batch_size': 512, 'lr': 0.001, 'dropout': 0.5, 'lr_decay': 0.1, 'layers': 4, 'hidden_dim': 800}\n",
      "Epoch: 19/100, Val Loss: 285.3300, Pearson R: 0.4152, RMSE: 17.4714\n",
      "{'batch_size': 512, 'lr': 0.001, 'dropout': 0.5, 'lr_decay': 0.01, 'layers': 2, 'hidden_dim': 400}\n",
      "Epoch: 12/100, Val Loss: 276.3613, Pearson R: 0.4175, RMSE: 17.1994\n",
      "{'batch_size': 512, 'lr': 0.001, 'dropout': 0.5, 'lr_decay': 0.01, 'layers': 2, 'hidden_dim': 800}\n",
      "Epoch: 22/100, Val Loss: 279.7837, Pearson R: 0.4045, RMSE: 17.2846\n",
      "{'batch_size': 512, 'lr': 0.001, 'dropout': 0.5, 'lr_decay': 0.01, 'layers': 4, 'hidden_dim': 400}\n",
      "Epoch: 9/100, Val Loss: 287.0070, Pearson R: 0.4319, RMSE: 17.5525\n",
      "{'batch_size': 512, 'lr': 0.001, 'dropout': 0.5, 'lr_decay': 0.01, 'layers': 4, 'hidden_dim': 800}\n",
      "Epoch: 27/100, Val Loss: 277.2557, Pearson R: 0.4014, RMSE: 17.2527\n",
      "{'batch_size': 512, 'lr': 0.001, 'dropout': 0.5, 'lr_decay': 0.001, 'layers': 2, 'hidden_dim': 400}\n",
      "Epoch: 12/100, Val Loss: 274.8828, Pearson R: 0.4234, RMSE: 17.1760\n",
      "{'batch_size': 512, 'lr': 0.001, 'dropout': 0.5, 'lr_decay': 0.001, 'layers': 2, 'hidden_dim': 800}\n",
      "Epoch: 21/100, Val Loss: 280.3961, Pearson R: 0.4046, RMSE: 17.3083\n",
      "{'batch_size': 512, 'lr': 0.001, 'dropout': 0.5, 'lr_decay': 0.001, 'layers': 4, 'hidden_dim': 400}\n",
      "Epoch: 19/100, Val Loss: 276.0481, Pearson R: 0.4246, RMSE: 17.1992\n",
      "{'batch_size': 512, 'lr': 0.001, 'dropout': 0.5, 'lr_decay': 0.001, 'layers': 4, 'hidden_dim': 800}\n",
      "Epoch: 22/100, Val Loss: 287.3777, Pearson R: 0.4135, RMSE: 17.5342\n",
      "{'batch_size': 512, 'lr': 0.001, 'dropout': 0.5, 'lr_decay': 0.0001, 'layers': 2, 'hidden_dim': 400}\n",
      "Epoch: 12/100, Val Loss: 276.4808, Pearson R: 0.4264, RMSE: 17.2330\n",
      "{'batch_size': 512, 'lr': 0.001, 'dropout': 0.5, 'lr_decay': 0.0001, 'layers': 2, 'hidden_dim': 800}\n",
      "Epoch: 23/100, Val Loss: 271.1775, Pearson R: 0.4078, RMSE: 17.0611\n",
      "{'batch_size': 512, 'lr': 0.001, 'dropout': 0.5, 'lr_decay': 0.0001, 'layers': 4, 'hidden_dim': 400}\n"
     ]
    },
    {
     "name": "stdout",
     "output_type": "stream",
     "text": [
      "Epoch: 11/100, Val Loss: 286.7818, Pearson R: 0.4290, RMSE: 17.5190\n",
      "{'batch_size': 512, 'lr': 0.001, 'dropout': 0.5, 'lr_decay': 0.0001, 'layers': 4, 'hidden_dim': 800}\n",
      "Epoch: 21/100, Val Loss: 273.1457, Pearson R: 0.4130, RMSE: 17.1218\n",
      "{'batch_size': 512, 'lr': 0.0001, 'dropout': 0.1, 'lr_decay': 0.1, 'layers': 2, 'hidden_dim': 400}\n",
      "Epoch: 45/100, Val Loss: 274.1297, Pearson R: 0.4230, RMSE: 17.1520\n",
      "{'batch_size': 512, 'lr': 0.0001, 'dropout': 0.1, 'lr_decay': 0.1, 'layers': 2, 'hidden_dim': 800}\n",
      "Epoch: 31/100, Val Loss: 273.2817, Pearson R: 0.4193, RMSE: 17.1215\n",
      "{'batch_size': 512, 'lr': 0.0001, 'dropout': 0.1, 'lr_decay': 0.1, 'layers': 4, 'hidden_dim': 400}\n",
      "Epoch: 30/100, Val Loss: 274.4193, Pearson R: 0.4272, RMSE: 17.1618\n",
      "{'batch_size': 512, 'lr': 0.0001, 'dropout': 0.1, 'lr_decay': 0.1, 'layers': 4, 'hidden_dim': 800}\n",
      "Epoch: 20/100, Val Loss: 274.7588, Pearson R: 0.4275, RMSE: 17.1714\n",
      "{'batch_size': 512, 'lr': 0.0001, 'dropout': 0.1, 'lr_decay': 0.01, 'layers': 2, 'hidden_dim': 400}\n",
      "Epoch: 43/100, Val Loss: 275.1967, Pearson R: 0.4223, RMSE: 17.1862\n",
      "{'batch_size': 512, 'lr': 0.0001, 'dropout': 0.1, 'lr_decay': 0.01, 'layers': 2, 'hidden_dim': 800}\n",
      "Epoch: 29/100, Val Loss: 276.3490, Pearson R: 0.4199, RMSE: 17.2170\n",
      "{'batch_size': 512, 'lr': 0.0001, 'dropout': 0.1, 'lr_decay': 0.01, 'layers': 4, 'hidden_dim': 400}\n",
      "Epoch: 29/100, Val Loss: 275.4708, Pearson R: 0.4256, RMSE: 17.1939\n",
      "{'batch_size': 512, 'lr': 0.0001, 'dropout': 0.1, 'lr_decay': 0.01, 'layers': 4, 'hidden_dim': 800}\n",
      "Epoch: 20/100, Val Loss: 274.2613, Pearson R: 0.4230, RMSE: 17.1471\n",
      "{'batch_size': 512, 'lr': 0.0001, 'dropout': 0.1, 'lr_decay': 0.001, 'layers': 2, 'hidden_dim': 400}\n",
      "Epoch: 43/100, Val Loss: 274.4471, Pearson R: 0.4210, RMSE: 17.1614\n",
      "{'batch_size': 512, 'lr': 0.0001, 'dropout': 0.1, 'lr_decay': 0.001, 'layers': 2, 'hidden_dim': 800}\n",
      "Epoch: 29/100, Val Loss: 275.7987, Pearson R: 0.4184, RMSE: 17.1992\n",
      "{'batch_size': 512, 'lr': 0.0001, 'dropout': 0.1, 'lr_decay': 0.001, 'layers': 4, 'hidden_dim': 400}\n",
      "Epoch: 29/100, Val Loss: 275.3846, Pearson R: 0.4246, RMSE: 17.1901\n",
      "{'batch_size': 512, 'lr': 0.0001, 'dropout': 0.1, 'lr_decay': 0.001, 'layers': 4, 'hidden_dim': 800}\n",
      "Epoch: 19/100, Val Loss: 275.5209, Pearson R: 0.4254, RMSE: 17.1974\n",
      "{'batch_size': 512, 'lr': 0.0001, 'dropout': 0.1, 'lr_decay': 0.0001, 'layers': 2, 'hidden_dim': 400}\n",
      "Epoch: 43/100, Val Loss: 274.7795, Pearson R: 0.4212, RMSE: 17.1728\n",
      "{'batch_size': 512, 'lr': 0.0001, 'dropout': 0.1, 'lr_decay': 0.0001, 'layers': 2, 'hidden_dim': 800}\n",
      "Epoch: 29/100, Val Loss: 275.7538, Pearson R: 0.4181, RMSE: 17.1976\n",
      "{'batch_size': 512, 'lr': 0.0001, 'dropout': 0.1, 'lr_decay': 0.0001, 'layers': 4, 'hidden_dim': 400}\n",
      "Epoch: 29/100, Val Loss: 275.0935, Pearson R: 0.4243, RMSE: 17.1806\n",
      "{'batch_size': 512, 'lr': 0.0001, 'dropout': 0.1, 'lr_decay': 0.0001, 'layers': 4, 'hidden_dim': 800}\n",
      "Epoch: 19/100, Val Loss: 274.7384, Pearson R: 0.4256, RMSE: 17.1756\n",
      "{'batch_size': 512, 'lr': 0.0001, 'dropout': 0.2, 'lr_decay': 0.1, 'layers': 2, 'hidden_dim': 400}\n",
      "Epoch: 48/100, Val Loss: 274.1610, Pearson R: 0.4212, RMSE: 17.1514\n",
      "{'batch_size': 512, 'lr': 0.0001, 'dropout': 0.2, 'lr_decay': 0.1, 'layers': 2, 'hidden_dim': 800}\n",
      "Epoch: 32/100, Val Loss: 274.6435, Pearson R: 0.4193, RMSE: 17.1640\n",
      "{'batch_size': 512, 'lr': 0.0001, 'dropout': 0.2, 'lr_decay': 0.1, 'layers': 4, 'hidden_dim': 400}\n",
      "Epoch: 33/100, Val Loss: 275.4324, Pearson R: 0.4256, RMSE: 17.1889\n",
      "{'batch_size': 512, 'lr': 0.0001, 'dropout': 0.2, 'lr_decay': 0.1, 'layers': 4, 'hidden_dim': 800}\n",
      "Epoch: 21/100, Val Loss: 274.3520, Pearson R: 0.4271, RMSE: 17.1633\n",
      "{'batch_size': 512, 'lr': 0.0001, 'dropout': 0.2, 'lr_decay': 0.01, 'layers': 2, 'hidden_dim': 400}\n",
      "Epoch: 46/100, Val Loss: 274.9213, Pearson R: 0.4197, RMSE: 17.1759\n",
      "{'batch_size': 512, 'lr': 0.0001, 'dropout': 0.2, 'lr_decay': 0.01, 'layers': 2, 'hidden_dim': 800}\n",
      "Epoch: 31/100, Val Loss: 275.0074, Pearson R: 0.4155, RMSE: 17.1705\n",
      "{'batch_size': 512, 'lr': 0.0001, 'dropout': 0.2, 'lr_decay': 0.01, 'layers': 4, 'hidden_dim': 400}\n",
      "Epoch: 32/100, Val Loss: 275.4124, Pearson R: 0.4233, RMSE: 17.1879\n",
      "{'batch_size': 512, 'lr': 0.0001, 'dropout': 0.2, 'lr_decay': 0.01, 'layers': 4, 'hidden_dim': 800}\n",
      "Epoch: 21/100, Val Loss: 273.6271, Pearson R: 0.4231, RMSE: 17.1351\n",
      "{'batch_size': 512, 'lr': 0.0001, 'dropout': 0.2, 'lr_decay': 0.001, 'layers': 2, 'hidden_dim': 400}\n",
      "Epoch: 46/100, Val Loss: 274.1868, Pearson R: 0.4181, RMSE: 17.1514\n",
      "{'batch_size': 512, 'lr': 0.0001, 'dropout': 0.2, 'lr_decay': 0.001, 'layers': 2, 'hidden_dim': 800}\n",
      "Epoch: 30/100, Val Loss: 276.4763, Pearson R: 0.4179, RMSE: 17.2203\n",
      "{'batch_size': 512, 'lr': 0.0001, 'dropout': 0.2, 'lr_decay': 0.001, 'layers': 4, 'hidden_dim': 400}\n",
      "Epoch: 32/100, Val Loss: 274.8569, Pearson R: 0.4226, RMSE: 17.1720\n",
      "{'batch_size': 512, 'lr': 0.0001, 'dropout': 0.2, 'lr_decay': 0.001, 'layers': 4, 'hidden_dim': 800}\n",
      "Epoch: 21/100, Val Loss: 273.9728, Pearson R: 0.4220, RMSE: 17.1428\n",
      "{'batch_size': 512, 'lr': 0.0001, 'dropout': 0.2, 'lr_decay': 0.0001, 'layers': 2, 'hidden_dim': 400}\n",
      "Epoch: 46/100, Val Loss: 274.8864, Pearson R: 0.4183, RMSE: 17.1729\n",
      "{'batch_size': 512, 'lr': 0.0001, 'dropout': 0.2, 'lr_decay': 0.0001, 'layers': 2, 'hidden_dim': 800}\n",
      "Epoch: 30/100, Val Loss: 276.5520, Pearson R: 0.4188, RMSE: 17.2248\n",
      "{'batch_size': 512, 'lr': 0.0001, 'dropout': 0.2, 'lr_decay': 0.0001, 'layers': 4, 'hidden_dim': 400}\n",
      "Epoch: 32/100, Val Loss: 275.0814, Pearson R: 0.4224, RMSE: 17.1765\n",
      "{'batch_size': 512, 'lr': 0.0001, 'dropout': 0.2, 'lr_decay': 0.0001, 'layers': 4, 'hidden_dim': 800}\n",
      "Epoch: 21/100, Val Loss: 273.8388, Pearson R: 0.4224, RMSE: 17.1415\n",
      "{'batch_size': 512, 'lr': 0.0001, 'dropout': 0.3, 'lr_decay': 0.1, 'layers': 2, 'hidden_dim': 400}\n",
      "Epoch: 51/100, Val Loss: 274.0492, Pearson R: 0.4191, RMSE: 17.1468\n",
      "{'batch_size': 512, 'lr': 0.0001, 'dropout': 0.3, 'lr_decay': 0.1, 'layers': 2, 'hidden_dim': 800}\n",
      "Epoch: 33/100, Val Loss: 275.6357, Pearson R: 0.4195, RMSE: 17.1939\n",
      "{'batch_size': 512, 'lr': 0.0001, 'dropout': 0.3, 'lr_decay': 0.1, 'layers': 4, 'hidden_dim': 400}\n",
      "Epoch: 36/100, Val Loss: 274.9018, Pearson R: 0.4246, RMSE: 17.1748\n",
      "{'batch_size': 512, 'lr': 0.0001, 'dropout': 0.3, 'lr_decay': 0.1, 'layers': 4, 'hidden_dim': 800}\n",
      "Epoch: 23/100, Val Loss: 274.3187, Pearson R: 0.4254, RMSE: 17.1586\n",
      "{'batch_size': 512, 'lr': 0.0001, 'dropout': 0.3, 'lr_decay': 0.01, 'layers': 2, 'hidden_dim': 400}\n",
      "Epoch: 49/100, Val Loss: 275.1703, Pearson R: 0.4174, RMSE: 17.1815\n",
      "{'batch_size': 512, 'lr': 0.0001, 'dropout': 0.3, 'lr_decay': 0.01, 'layers': 2, 'hidden_dim': 800}\n",
      "Epoch: 32/100, Val Loss: 276.3835, Pearson R: 0.4167, RMSE: 17.2157\n",
      "{'batch_size': 512, 'lr': 0.0001, 'dropout': 0.3, 'lr_decay': 0.01, 'layers': 4, 'hidden_dim': 400}\n",
      "Epoch: 34/100, Val Loss: 276.1950, Pearson R: 0.4237, RMSE: 17.2160\n",
      "{'batch_size': 512, 'lr': 0.0001, 'dropout': 0.3, 'lr_decay': 0.01, 'layers': 4, 'hidden_dim': 800}\n",
      "Epoch: 22/100, Val Loss: 275.7328, Pearson R: 0.4248, RMSE: 17.2020\n",
      "{'batch_size': 512, 'lr': 0.0001, 'dropout': 0.3, 'lr_decay': 0.001, 'layers': 2, 'hidden_dim': 400}\n",
      "Epoch: 48/100, Val Loss: 276.1130, Pearson R: 0.4186, RMSE: 17.2118\n",
      "{'batch_size': 512, 'lr': 0.0001, 'dropout': 0.3, 'lr_decay': 0.001, 'layers': 2, 'hidden_dim': 800}\n",
      "Epoch: 32/100, Val Loss: 275.7520, Pearson R: 0.4147, RMSE: 17.1949\n",
      "{'batch_size': 512, 'lr': 0.0001, 'dropout': 0.3, 'lr_decay': 0.001, 'layers': 4, 'hidden_dim': 400}\n",
      "Epoch: 35/100, Val Loss: 275.0309, Pearson R: 0.4221, RMSE: 17.1799\n",
      "{'batch_size': 512, 'lr': 0.0001, 'dropout': 0.3, 'lr_decay': 0.001, 'layers': 4, 'hidden_dim': 800}\n",
      "Epoch: 22/100, Val Loss: 276.3317, Pearson R: 0.4246, RMSE: 17.2217\n",
      "{'batch_size': 512, 'lr': 0.0001, 'dropout': 0.3, 'lr_decay': 0.0001, 'layers': 2, 'hidden_dim': 400}\n",
      "Epoch: 48/100, Val Loss: 275.2765, Pearson R: 0.4186, RMSE: 17.1875\n",
      "{'batch_size': 512, 'lr': 0.0001, 'dropout': 0.3, 'lr_decay': 0.0001, 'layers': 2, 'hidden_dim': 800}\n",
      "Epoch: 32/100, Val Loss: 275.4596, Pearson R: 0.4140, RMSE: 17.1849\n",
      "{'batch_size': 512, 'lr': 0.0001, 'dropout': 0.3, 'lr_decay': 0.0001, 'layers': 4, 'hidden_dim': 400}\n",
      "Epoch: 35/100, Val Loss: 275.2048, Pearson R: 0.4214, RMSE: 17.1823\n",
      "{'batch_size': 512, 'lr': 0.0001, 'dropout': 0.3, 'lr_decay': 0.0001, 'layers': 4, 'hidden_dim': 800}\n"
     ]
    },
    {
     "name": "stdout",
     "output_type": "stream",
     "text": [
      "Epoch: 22/100, Val Loss: 275.2436, Pearson R: 0.4238, RMSE: 17.1888\n",
      "{'batch_size': 512, 'lr': 0.0001, 'dropout': 0.4, 'lr_decay': 0.1, 'layers': 2, 'hidden_dim': 400}\n",
      "Epoch: 54/100, Val Loss: 274.0506, Pearson R: 0.4183, RMSE: 17.1476\n",
      "{'batch_size': 512, 'lr': 0.0001, 'dropout': 0.4, 'lr_decay': 0.1, 'layers': 2, 'hidden_dim': 800}\n",
      "Epoch: 35/100, Val Loss: 274.6746, Pearson R: 0.4177, RMSE: 17.1633\n",
      "{'batch_size': 512, 'lr': 0.0001, 'dropout': 0.4, 'lr_decay': 0.1, 'layers': 4, 'hidden_dim': 400}\n",
      "Epoch: 40/100, Val Loss: 274.3119, Pearson R: 0.4230, RMSE: 17.1564\n",
      "{'batch_size': 512, 'lr': 0.0001, 'dropout': 0.4, 'lr_decay': 0.1, 'layers': 4, 'hidden_dim': 800}\n",
      "Epoch: 25/100, Val Loss: 274.9648, Pearson R: 0.4239, RMSE: 17.1719\n",
      "{'batch_size': 512, 'lr': 0.0001, 'dropout': 0.4, 'lr_decay': 0.01, 'layers': 2, 'hidden_dim': 400}\n",
      "Epoch: 52/100, Val Loss: 274.9446, Pearson R: 0.4149, RMSE: 17.1725\n",
      "{'batch_size': 512, 'lr': 0.0001, 'dropout': 0.4, 'lr_decay': 0.01, 'layers': 2, 'hidden_dim': 800}\n",
      "Epoch: 34/100, Val Loss: 274.7824, Pearson R: 0.4135, RMSE: 17.1645\n",
      "{'batch_size': 512, 'lr': 0.0001, 'dropout': 0.4, 'lr_decay': 0.01, 'layers': 4, 'hidden_dim': 400}\n",
      "Epoch: 38/100, Val Loss: 275.7416, Pearson R: 0.4216, RMSE: 17.1974\n",
      "{'batch_size': 512, 'lr': 0.0001, 'dropout': 0.4, 'lr_decay': 0.01, 'layers': 4, 'hidden_dim': 800}\n",
      "Epoch: 24/100, Val Loss: 274.3279, Pearson R: 0.4232, RMSE: 17.1589\n",
      "{'batch_size': 512, 'lr': 0.0001, 'dropout': 0.4, 'lr_decay': 0.001, 'layers': 2, 'hidden_dim': 400}\n",
      "Epoch: 51/100, Val Loss: 274.7144, Pearson R: 0.4169, RMSE: 17.1680\n",
      "{'batch_size': 512, 'lr': 0.0001, 'dropout': 0.4, 'lr_decay': 0.001, 'layers': 2, 'hidden_dim': 800}\n",
      "Epoch: 33/100, Val Loss: 276.8052, Pearson R: 0.4159, RMSE: 17.2298\n",
      "{'batch_size': 512, 'lr': 0.0001, 'dropout': 0.4, 'lr_decay': 0.001, 'layers': 4, 'hidden_dim': 400}\n",
      "Epoch: 37/100, Val Loss: 275.8829, Pearson R: 0.4226, RMSE: 17.2082\n",
      "{'batch_size': 512, 'lr': 0.0001, 'dropout': 0.4, 'lr_decay': 0.001, 'layers': 4, 'hidden_dim': 800}\n",
      "Epoch: 24/100, Val Loss: 274.7529, Pearson R: 0.4218, RMSE: 17.1706\n",
      "{'batch_size': 512, 'lr': 0.0001, 'dropout': 0.4, 'lr_decay': 0.0001, 'layers': 2, 'hidden_dim': 400}\n",
      "Epoch: 51/100, Val Loss: 275.7107, Pearson R: 0.4180, RMSE: 17.1998\n",
      "{'batch_size': 512, 'lr': 0.0001, 'dropout': 0.4, 'lr_decay': 0.0001, 'layers': 2, 'hidden_dim': 800}\n",
      "Epoch: 33/100, Val Loss: 276.5429, Pearson R: 0.4164, RMSE: 17.2234\n",
      "{'batch_size': 512, 'lr': 0.0001, 'dropout': 0.4, 'lr_decay': 0.0001, 'layers': 4, 'hidden_dim': 400}\n",
      "Epoch: 38/100, Val Loss: 275.9132, Pearson R: 0.4207, RMSE: 17.2009\n",
      "{'batch_size': 512, 'lr': 0.0001, 'dropout': 0.4, 'lr_decay': 0.0001, 'layers': 4, 'hidden_dim': 800}\n",
      "Epoch: 24/100, Val Loss: 275.1343, Pearson R: 0.4213, RMSE: 17.1791\n",
      "{'batch_size': 512, 'lr': 0.0001, 'dropout': 0.5, 'lr_decay': 0.1, 'layers': 2, 'hidden_dim': 400}\n",
      "Epoch: 56/100, Val Loss: 275.2447, Pearson R: 0.4186, RMSE: 17.1872\n",
      "{'batch_size': 512, 'lr': 0.0001, 'dropout': 0.5, 'lr_decay': 0.1, 'layers': 2, 'hidden_dim': 800}\n",
      "Epoch: 36/100, Val Loss: 276.0471, Pearson R: 0.4188, RMSE: 17.2088\n",
      "{'batch_size': 512, 'lr': 0.0001, 'dropout': 0.5, 'lr_decay': 0.1, 'layers': 4, 'hidden_dim': 400}\n",
      "Epoch: 44/100, Val Loss: 274.0080, Pearson R: 0.4219, RMSE: 17.1466\n",
      "{'batch_size': 512, 'lr': 0.0001, 'dropout': 0.5, 'lr_decay': 0.1, 'layers': 4, 'hidden_dim': 800}\n",
      "Epoch: 27/100, Val Loss: 274.7718, Pearson R: 0.4252, RMSE: 17.1750\n",
      "{'batch_size': 512, 'lr': 0.0001, 'dropout': 0.5, 'lr_decay': 0.01, 'layers': 2, 'hidden_dim': 400}\n",
      "Epoch: 54/100, Val Loss: 276.2496, Pearson R: 0.4163, RMSE: 17.2148\n",
      "{'batch_size': 512, 'lr': 0.0001, 'dropout': 0.5, 'lr_decay': 0.01, 'layers': 2, 'hidden_dim': 800}\n",
      "Epoch: 35/100, Val Loss: 276.0096, Pearson R: 0.4145, RMSE: 17.2042\n",
      "{'batch_size': 512, 'lr': 0.0001, 'dropout': 0.5, 'lr_decay': 0.01, 'layers': 4, 'hidden_dim': 400}\n",
      "Epoch: 42/100, Val Loss: 276.3090, Pearson R: 0.4214, RMSE: 17.2165\n",
      "{'batch_size': 512, 'lr': 0.0001, 'dropout': 0.5, 'lr_decay': 0.01, 'layers': 4, 'hidden_dim': 800}\n",
      "Epoch: 26/100, Val Loss: 274.7233, Pearson R: 0.4217, RMSE: 17.1693\n",
      "{'batch_size': 512, 'lr': 0.0001, 'dropout': 0.5, 'lr_decay': 0.001, 'layers': 2, 'hidden_dim': 400}\n",
      "Epoch: 54/100, Val Loss: 276.2578, Pearson R: 0.4159, RMSE: 17.2150\n",
      "{'batch_size': 512, 'lr': 0.0001, 'dropout': 0.5, 'lr_decay': 0.001, 'layers': 2, 'hidden_dim': 800}\n",
      "Epoch: 35/100, Val Loss: 275.4511, Pearson R: 0.4131, RMSE: 17.1865\n",
      "{'batch_size': 512, 'lr': 0.0001, 'dropout': 0.5, 'lr_decay': 0.001, 'layers': 4, 'hidden_dim': 400}\n",
      "Epoch: 41/100, Val Loss: 275.7643, Pearson R: 0.4211, RMSE: 17.2014\n",
      "{'batch_size': 512, 'lr': 0.0001, 'dropout': 0.5, 'lr_decay': 0.001, 'layers': 4, 'hidden_dim': 800}\n",
      "Epoch: 26/100, Val Loss: 275.9603, Pearson R: 0.4225, RMSE: 17.2085\n",
      "{'batch_size': 512, 'lr': 0.0001, 'dropout': 0.5, 'lr_decay': 0.0001, 'layers': 2, 'hidden_dim': 400}\n",
      "Epoch: 54/100, Val Loss: 275.6835, Pearson R: 0.4151, RMSE: 17.1955\n",
      "{'batch_size': 512, 'lr': 0.0001, 'dropout': 0.5, 'lr_decay': 0.0001, 'layers': 2, 'hidden_dim': 800}\n",
      "Epoch: 35/100, Val Loss: 275.0605, Pearson R: 0.4121, RMSE: 17.1745\n",
      "{'batch_size': 512, 'lr': 0.0001, 'dropout': 0.5, 'lr_decay': 0.0001, 'layers': 4, 'hidden_dim': 400}\n",
      "Epoch: 42/100, Val Loss: 276.7797, Pearson R: 0.4201, RMSE: 17.2252\n",
      "{'batch_size': 512, 'lr': 0.0001, 'dropout': 0.5, 'lr_decay': 0.0001, 'layers': 4, 'hidden_dim': 800}\n",
      "Epoch: 26/100, Val Loss: 275.0535, Pearson R: 0.4218, RMSE: 17.1806\n",
      "PT\n",
      "outcome DOS\n"
     ]
    },
    {
     "data": {
      "application/vnd.jupyter.widget-view+json": {
       "model_id": "4a9632602d6c432a814839a69cc402ac",
       "version_major": 2,
       "version_minor": 0
      },
      "text/plain": [
       "  0%|          | 0/320 [00:00<?, ?it/s]"
      ]
     },
     "metadata": {},
     "output_type": "display_data"
    },
    {
     "name": "stdout",
     "output_type": "stream",
     "text": [
      "{'batch_size': 512, 'lr': 0.1, 'dropout': 0.1, 'lr_decay': 0.1, 'layers': 2, 'hidden_dim': 400}\n",
      "Epoch: 6/100, Val Loss: 856.1777, Pearson R: 0.2290, RMSE: 29.9625\n",
      "{'batch_size': 512, 'lr': 0.1, 'dropout': 0.1, 'lr_decay': 0.1, 'layers': 2, 'hidden_dim': 800}\n"
     ]
    },
    {
     "name": "stderr",
     "output_type": "stream",
     "text": [
      "/home/samsonm/miniconda3/envs/multi_modal_DL/lib/python3.10/site-packages/scipy/stats/_stats_py.py:4424: ConstantInputWarning: An input array is constant; the correlation coefficient is not defined.\n",
      "  warnings.warn(stats.ConstantInputWarning(msg))\n"
     ]
    },
    {
     "name": "stdout",
     "output_type": "stream",
     "text": [
      "Epoch: 14/100, Val Loss: 878.5715, Pearson R: 0.1807, RMSE: 30.4295\n",
      "{'batch_size': 512, 'lr': 0.1, 'dropout': 0.1, 'lr_decay': 0.1, 'layers': 4, 'hidden_dim': 400}\n",
      "Epoch: 6/100, Val Loss: 8528.5361, Pearson R: 0.2314, RMSE: 92.5693\n",
      "{'batch_size': 512, 'lr': 0.1, 'dropout': 0.1, 'lr_decay': 0.1, 'layers': 4, 'hidden_dim': 800}\n",
      "Epoch: 6/100, Val Loss: 41064.7266, Pearson R: -0.1701, RMSE: 202.7663\n",
      "{'batch_size': 512, 'lr': 0.1, 'dropout': 0.1, 'lr_decay': 0.01, 'layers': 2, 'hidden_dim': 400}\n",
      "Epoch: 6/100, Val Loss: 5076.9272, Pearson R: 0.4716, RMSE: 71.3026\n",
      "{'batch_size': 512, 'lr': 0.1, 'dropout': 0.1, 'lr_decay': 0.01, 'layers': 2, 'hidden_dim': 800}\n",
      "Epoch: 12/100, Val Loss: 1484.8129, Pearson R: 0.0031, RMSE: 39.1433\n",
      "{'batch_size': 512, 'lr': 0.1, 'dropout': 0.1, 'lr_decay': 0.01, 'layers': 4, 'hidden_dim': 400}\n",
      "Epoch: 6/100, Val Loss: 1381.5197, Pearson R: 0.2340, RMSE: 37.6169\n",
      "{'batch_size': 512, 'lr': 0.1, 'dropout': 0.1, 'lr_decay': 0.01, 'layers': 4, 'hidden_dim': 800}\n",
      "Epoch: 16/100, Val Loss: 663.4182, Pearson R: -0.0270, RMSE: 26.6609\n",
      "{'batch_size': 512, 'lr': 0.1, 'dropout': 0.1, 'lr_decay': 0.001, 'layers': 2, 'hidden_dim': 400}\n",
      "Epoch: 6/100, Val Loss: 8489.4590, Pearson R: -0.0598, RMSE: 92.4028\n",
      "{'batch_size': 512, 'lr': 0.1, 'dropout': 0.1, 'lr_decay': 0.001, 'layers': 2, 'hidden_dim': 800}\n",
      "Epoch: 22/100, Val Loss: 664.5817, Pearson R: -0.2768, RMSE: 26.6827\n",
      "{'batch_size': 512, 'lr': 0.1, 'dropout': 0.1, 'lr_decay': 0.001, 'layers': 4, 'hidden_dim': 400}\n"
     ]
    },
    {
     "name": "stderr",
     "output_type": "stream",
     "text": [
      "/home/samsonm/miniconda3/envs/multi_modal_DL/lib/python3.10/site-packages/scipy/stats/_stats_py.py:4424: ConstantInputWarning: An input array is constant; the correlation coefficient is not defined.\n",
      "  warnings.warn(stats.ConstantInputWarning(msg))\n"
     ]
    },
    {
     "name": "stdout",
     "output_type": "stream",
     "text": [
      "Epoch: 33/100, Val Loss: 677.4577, Pearson R: -0.0025, RMSE: 26.9229\n",
      "{'batch_size': 512, 'lr': 0.1, 'dropout': 0.1, 'lr_decay': 0.001, 'layers': 4, 'hidden_dim': 800}\n",
      "Epoch: 17/100, Val Loss: 651.3133, Pearson R: 0.2314, RMSE: 26.4240\n",
      "{'batch_size': 512, 'lr': 0.1, 'dropout': 0.1, 'lr_decay': 0.0001, 'layers': 2, 'hidden_dim': 400}\n",
      "Epoch: 6/100, Val Loss: 2359.8569, Pearson R: 0.5410, RMSE: 48.4880\n",
      "{'batch_size': 512, 'lr': 0.1, 'dropout': 0.1, 'lr_decay': 0.0001, 'layers': 2, 'hidden_dim': 800}\n",
      "Epoch: 27/100, Val Loss: 463.0352, Pearson R: 0.6882, RMSE: 22.2755\n",
      "{'batch_size': 512, 'lr': 0.1, 'dropout': 0.1, 'lr_decay': 0.0001, 'layers': 4, 'hidden_dim': 400}\n",
      "Epoch: 6/100, Val Loss: 4777.7246, Pearson R: -0.3182, RMSE: 69.6305\n",
      "{'batch_size': 512, 'lr': 0.1, 'dropout': 0.1, 'lr_decay': 0.0001, 'layers': 4, 'hidden_dim': 800}\n",
      "Epoch: 25/100, Val Loss: 679.7860, Pearson R: -0.0108, RMSE: 26.9662\n",
      "{'batch_size': 512, 'lr': 0.1, 'dropout': 0.2, 'lr_decay': 0.1, 'layers': 2, 'hidden_dim': 400}\n",
      "Epoch: 6/100, Val Loss: 7907.1143, Pearson R: -0.2041, RMSE: 89.2007\n",
      "{'batch_size': 512, 'lr': 0.1, 'dropout': 0.2, 'lr_decay': 0.1, 'layers': 2, 'hidden_dim': 800}\n",
      "Epoch: 10/100, Val Loss: 19778.5410, Pearson R: -0.0886, RMSE: 140.8310\n",
      "{'batch_size': 512, 'lr': 0.1, 'dropout': 0.2, 'lr_decay': 0.1, 'layers': 4, 'hidden_dim': 400}\n",
      "Epoch: 21/100, Val Loss: 659.0051, Pearson R: 0.2335, RMSE: 26.5743\n",
      "{'batch_size': 512, 'lr': 0.1, 'dropout': 0.2, 'lr_decay': 0.1, 'layers': 4, 'hidden_dim': 800}\n",
      "Epoch: 6/100, Val Loss: 2707.4016, Pearson R: 0.2181, RMSE: 52.4627\n",
      "{'batch_size': 512, 'lr': 0.1, 'dropout': 0.2, 'lr_decay': 0.01, 'layers': 2, 'hidden_dim': 400}\n",
      "Epoch: 17/100, Val Loss: 684.1046, Pearson R: -0.2315, RMSE: 27.0502\n",
      "{'batch_size': 512, 'lr': 0.1, 'dropout': 0.2, 'lr_decay': 0.01, 'layers': 2, 'hidden_dim': 800}\n",
      "Epoch: 6/100, Val Loss: 4078.2048, Pearson R: 0.0871, RMSE: 64.2075\n",
      "{'batch_size': 512, 'lr': 0.1, 'dropout': 0.2, 'lr_decay': 0.01, 'layers': 4, 'hidden_dim': 400}\n",
      "Epoch: 6/100, Val Loss: 976.4406, Pearson R: 0.0490, RMSE: 31.9942\n",
      "{'batch_size': 512, 'lr': 0.1, 'dropout': 0.2, 'lr_decay': 0.01, 'layers': 4, 'hidden_dim': 800}\n",
      "Epoch: 19/100, Val Loss: 665.3982, Pearson R: -0.1521, RMSE: 26.6993\n",
      "{'batch_size': 512, 'lr': 0.1, 'dropout': 0.2, 'lr_decay': 0.001, 'layers': 2, 'hidden_dim': 400}\n",
      "Epoch: 6/100, Val Loss: 922.6347, Pearson R: -0.0925, RMSE: 31.1647\n",
      "{'batch_size': 512, 'lr': 0.1, 'dropout': 0.2, 'lr_decay': 0.001, 'layers': 2, 'hidden_dim': 800}\n",
      "Epoch: 15/100, Val Loss: 906.7565, Pearson R: -0.3570, RMSE: 30.9393\n",
      "{'batch_size': 512, 'lr': 0.1, 'dropout': 0.2, 'lr_decay': 0.001, 'layers': 4, 'hidden_dim': 400}\n",
      "Epoch: 18/100, Val Loss: 680.1782, Pearson R: -0.1865, RMSE: 26.9824\n",
      "{'batch_size': 512, 'lr': 0.1, 'dropout': 0.2, 'lr_decay': 0.001, 'layers': 4, 'hidden_dim': 800}\n",
      "Epoch: 23/100, Val Loss: 645.4360, Pearson R: 0.3006, RMSE: 26.3039\n",
      "{'batch_size': 512, 'lr': 0.1, 'dropout': 0.2, 'lr_decay': 0.0001, 'layers': 2, 'hidden_dim': 400}\n",
      "Epoch: 6/100, Val Loss: 1559.6732, Pearson R: 0.1116, RMSE: 40.0051\n",
      "{'batch_size': 512, 'lr': 0.1, 'dropout': 0.2, 'lr_decay': 0.0001, 'layers': 2, 'hidden_dim': 800}\n",
      "Epoch: 26/100, Val Loss: 836.7288, Pearson R: -0.2910, RMSE: 29.7975\n",
      "{'batch_size': 512, 'lr': 0.1, 'dropout': 0.2, 'lr_decay': 0.0001, 'layers': 4, 'hidden_dim': 400}\n",
      "Epoch: 36/100, Val Loss: 664.2130, Pearson R: -0.3013, RMSE: 26.6758\n",
      "{'batch_size': 512, 'lr': 0.1, 'dropout': 0.2, 'lr_decay': 0.0001, 'layers': 4, 'hidden_dim': 800}\n",
      "Epoch: 11/100, Val Loss: 748.1577, Pearson R: 0.3244, RMSE: 28.1972\n",
      "{'batch_size': 512, 'lr': 0.1, 'dropout': 0.3, 'lr_decay': 0.1, 'layers': 2, 'hidden_dim': 400}\n",
      "Epoch: 10/100, Val Loss: 785.3811, Pearson R: 0.1895, RMSE: 28.8275\n",
      "{'batch_size': 512, 'lr': 0.1, 'dropout': 0.3, 'lr_decay': 0.1, 'layers': 2, 'hidden_dim': 800}\n",
      "Epoch: 6/100, Val Loss: 18653.7988, Pearson R: -0.0115, RMSE: 136.7524\n",
      "{'batch_size': 512, 'lr': 0.1, 'dropout': 0.3, 'lr_decay': 0.1, 'layers': 4, 'hidden_dim': 400}\n",
      "Epoch: 14/100, Val Loss: 702.4048, Pearson R: 0.2296, RMSE: 27.3818\n",
      "{'batch_size': 512, 'lr': 0.1, 'dropout': 0.3, 'lr_decay': 0.1, 'layers': 4, 'hidden_dim': 800}\n",
      "Epoch: 20/100, Val Loss: 894.9123, Pearson R: 0.0567, RMSE: 30.6968\n",
      "{'batch_size': 512, 'lr': 0.1, 'dropout': 0.3, 'lr_decay': 0.01, 'layers': 2, 'hidden_dim': 400}\n",
      "Epoch: 9/100, Val Loss: 894.6906, Pearson R: 0.1080, RMSE: 30.6894\n",
      "{'batch_size': 512, 'lr': 0.1, 'dropout': 0.3, 'lr_decay': 0.01, 'layers': 2, 'hidden_dim': 800}\n",
      "Epoch: 17/100, Val Loss: 831.5106, Pearson R: 0.4328, RMSE: 29.6461\n",
      "{'batch_size': 512, 'lr': 0.1, 'dropout': 0.3, 'lr_decay': 0.01, 'layers': 4, 'hidden_dim': 400}\n"
     ]
    },
    {
     "name": "stderr",
     "output_type": "stream",
     "text": [
      "/home/samsonm/miniconda3/envs/multi_modal_DL/lib/python3.10/site-packages/scipy/stats/_stats_py.py:4424: ConstantInputWarning: An input array is constant; the correlation coefficient is not defined.\n",
      "  warnings.warn(stats.ConstantInputWarning(msg))\n"
     ]
    },
    {
     "name": "stdout",
     "output_type": "stream",
     "text": [
      "Epoch: 43/100, Val Loss: 670.3651, Pearson R: nan, RMSE: 26.7908\n",
      "{'batch_size': 512, 'lr': 0.1, 'dropout': 0.3, 'lr_decay': 0.01, 'layers': 4, 'hidden_dim': 800}\n",
      "Epoch: 15/100, Val Loss: 663.5707, Pearson R: 0.2729, RMSE: 26.6628\n",
      "{'batch_size': 512, 'lr': 0.1, 'dropout': 0.3, 'lr_decay': 0.001, 'layers': 2, 'hidden_dim': 400}\n",
      "Epoch: 7/100, Val Loss: 2268.3928, Pearson R: 0.0146, RMSE: 48.1220\n",
      "{'batch_size': 512, 'lr': 0.1, 'dropout': 0.3, 'lr_decay': 0.001, 'layers': 2, 'hidden_dim': 800}\n",
      "Epoch: 22/100, Val Loss: 671.6662, Pearson R: 0.3243, RMSE: 26.7487\n",
      "{'batch_size': 512, 'lr': 0.1, 'dropout': 0.3, 'lr_decay': 0.001, 'layers': 4, 'hidden_dim': 400}\n",
      "Epoch: 13/100, Val Loss: 809.3386, Pearson R: -0.2254, RMSE: 29.2778\n",
      "{'batch_size': 512, 'lr': 0.1, 'dropout': 0.3, 'lr_decay': 0.001, 'layers': 4, 'hidden_dim': 800}\n",
      "Epoch: 8/100, Val Loss: 3748.4741, Pearson R: 0.3299, RMSE: 61.6040\n",
      "{'batch_size': 512, 'lr': 0.1, 'dropout': 0.3, 'lr_decay': 0.0001, 'layers': 2, 'hidden_dim': 400}\n",
      "Epoch: 6/100, Val Loss: 14108.6777, Pearson R: 0.0406, RMSE: 118.9769\n",
      "{'batch_size': 512, 'lr': 0.1, 'dropout': 0.3, 'lr_decay': 0.0001, 'layers': 2, 'hidden_dim': 800}\n",
      "Epoch: 28/100, Val Loss: 599.6524, Pearson R: 0.4861, RMSE: 25.2226\n",
      "{'batch_size': 512, 'lr': 0.1, 'dropout': 0.3, 'lr_decay': 0.0001, 'layers': 4, 'hidden_dim': 400}\n",
      "Epoch: 11/100, Val Loss: 1993.7452, Pearson R: -0.2346, RMSE: 45.1797\n",
      "{'batch_size': 512, 'lr': 0.1, 'dropout': 0.3, 'lr_decay': 0.0001, 'layers': 4, 'hidden_dim': 800}\n",
      "Epoch: 16/100, Val Loss: 661.6659, Pearson R: 0.2249, RMSE: 26.6258\n",
      "{'batch_size': 512, 'lr': 0.1, 'dropout': 0.4, 'lr_decay': 0.1, 'layers': 2, 'hidden_dim': 400}\n",
      "Epoch: 22/100, Val Loss: 667.9060, Pearson R: 0.0226, RMSE: 26.7429\n",
      "{'batch_size': 512, 'lr': 0.1, 'dropout': 0.4, 'lr_decay': 0.1, 'layers': 2, 'hidden_dim': 800}\n",
      "Epoch: 6/100, Val Loss: 4285.2495, Pearson R: -0.1634, RMSE: 65.8333\n",
      "{'batch_size': 512, 'lr': 0.1, 'dropout': 0.4, 'lr_decay': 0.1, 'layers': 4, 'hidden_dim': 400}\n",
      "Epoch: 14/100, Val Loss: 651.8754, Pearson R: 0.2809, RMSE: 26.4345\n",
      "{'batch_size': 512, 'lr': 0.1, 'dropout': 0.4, 'lr_decay': 0.1, 'layers': 4, 'hidden_dim': 800}\n",
      "Epoch: 9/100, Val Loss: 2267.4929, Pearson R: 0.3497, RMSE: 48.1115\n",
      "{'batch_size': 512, 'lr': 0.1, 'dropout': 0.4, 'lr_decay': 0.01, 'layers': 2, 'hidden_dim': 400}\n",
      "Epoch: 9/100, Val Loss: 11609.2217, Pearson R: -0.2342, RMSE: 107.9695\n",
      "{'batch_size': 512, 'lr': 0.1, 'dropout': 0.4, 'lr_decay': 0.01, 'layers': 2, 'hidden_dim': 800}\n",
      "Epoch: 17/100, Val Loss: 676.6770, Pearson R: 0.2290, RMSE: 26.9084\n",
      "{'batch_size': 512, 'lr': 0.1, 'dropout': 0.4, 'lr_decay': 0.01, 'layers': 4, 'hidden_dim': 400}\n",
      "Epoch: 10/100, Val Loss: 720.9653, Pearson R: 0.1595, RMSE: 27.7165\n",
      "{'batch_size': 512, 'lr': 0.1, 'dropout': 0.4, 'lr_decay': 0.01, 'layers': 4, 'hidden_dim': 800}\n",
      "Epoch: 26/100, Val Loss: 666.7485, Pearson R: -0.2642, RMSE: 26.7240\n",
      "{'batch_size': 512, 'lr': 0.1, 'dropout': 0.4, 'lr_decay': 0.001, 'layers': 2, 'hidden_dim': 400}\n",
      "Epoch: 22/100, Val Loss: 665.2126, Pearson R: 0.3316, RMSE: 26.6944\n",
      "{'batch_size': 512, 'lr': 0.1, 'dropout': 0.4, 'lr_decay': 0.001, 'layers': 2, 'hidden_dim': 800}\n",
      "Epoch: 6/100, Val Loss: 84714.6016, Pearson R: 0.3252, RMSE: 291.1336\n",
      "{'batch_size': 512, 'lr': 0.1, 'dropout': 0.4, 'lr_decay': 0.001, 'layers': 4, 'hidden_dim': 400}\n",
      "Epoch: 9/100, Val Loss: 665.0223, Pearson R: 0.2287, RMSE: 26.6875\n",
      "{'batch_size': 512, 'lr': 0.1, 'dropout': 0.4, 'lr_decay': 0.001, 'layers': 4, 'hidden_dim': 800}\n",
      "Epoch: 21/100, Val Loss: 689.9602, Pearson R: -0.1245, RMSE: 27.1642\n",
      "{'batch_size': 512, 'lr': 0.1, 'dropout': 0.4, 'lr_decay': 0.0001, 'layers': 2, 'hidden_dim': 400}\n",
      "Epoch: 16/100, Val Loss: 702.8990, Pearson R: 0.0143, RMSE: 27.3913\n",
      "{'batch_size': 512, 'lr': 0.1, 'dropout': 0.4, 'lr_decay': 0.0001, 'layers': 2, 'hidden_dim': 800}\n",
      "Epoch: 15/100, Val Loss: 750.7127, Pearson R: -0.2688, RMSE: 28.2785\n",
      "{'batch_size': 512, 'lr': 0.1, 'dropout': 0.4, 'lr_decay': 0.0001, 'layers': 4, 'hidden_dim': 400}\n",
      "Epoch: 19/100, Val Loss: 655.4359, Pearson R: 0.2272, RMSE: 26.5047\n",
      "{'batch_size': 512, 'lr': 0.1, 'dropout': 0.4, 'lr_decay': 0.0001, 'layers': 4, 'hidden_dim': 800}\n",
      "Epoch: 9/100, Val Loss: 789.8502, Pearson R: 0.2236, RMSE: 28.9337\n",
      "{'batch_size': 512, 'lr': 0.1, 'dropout': 0.5, 'lr_decay': 0.1, 'layers': 2, 'hidden_dim': 400}\n",
      "Epoch: 6/100, Val Loss: 813.5631, Pearson R: 0.2317, RMSE: 29.2306\n",
      "{'batch_size': 512, 'lr': 0.1, 'dropout': 0.5, 'lr_decay': 0.1, 'layers': 2, 'hidden_dim': 800}\n",
      "Epoch: 10/100, Val Loss: 1125.4266, Pearson R: -0.1410, RMSE: 34.2465\n",
      "{'batch_size': 512, 'lr': 0.1, 'dropout': 0.5, 'lr_decay': 0.1, 'layers': 4, 'hidden_dim': 400}\n",
      "Epoch: 18/100, Val Loss: 664.8770, Pearson R: 0.2035, RMSE: 26.6824\n",
      "{'batch_size': 512, 'lr': 0.1, 'dropout': 0.5, 'lr_decay': 0.1, 'layers': 4, 'hidden_dim': 800}\n",
      "Epoch: 12/100, Val Loss: 661.9137, Pearson R: 0.4257, RMSE: 26.6254\n",
      "{'batch_size': 512, 'lr': 0.1, 'dropout': 0.5, 'lr_decay': 0.01, 'layers': 2, 'hidden_dim': 400}\n",
      "Epoch: 17/100, Val Loss: 683.5261, Pearson R: -0.2323, RMSE: 27.0353\n",
      "{'batch_size': 512, 'lr': 0.1, 'dropout': 0.5, 'lr_decay': 0.01, 'layers': 2, 'hidden_dim': 800}\n",
      "Epoch: 19/100, Val Loss: 667.5896, Pearson R: 0.1210, RMSE: 26.7191\n",
      "{'batch_size': 512, 'lr': 0.1, 'dropout': 0.5, 'lr_decay': 0.01, 'layers': 4, 'hidden_dim': 400}\n",
      "Epoch: 19/100, Val Loss: 662.5306, Pearson R: 0.1342, RMSE: 26.6432\n",
      "{'batch_size': 512, 'lr': 0.1, 'dropout': 0.5, 'lr_decay': 0.01, 'layers': 4, 'hidden_dim': 800}\n",
      "Epoch: 9/100, Val Loss: 741.9777, Pearson R: 0.2007, RMSE: 28.0946\n",
      "{'batch_size': 512, 'lr': 0.1, 'dropout': 0.5, 'lr_decay': 0.001, 'layers': 2, 'hidden_dim': 400}\n",
      "Epoch: 6/100, Val Loss: 711.8531, Pearson R: 0.1015, RMSE: 27.5406\n",
      "{'batch_size': 512, 'lr': 0.1, 'dropout': 0.5, 'lr_decay': 0.001, 'layers': 2, 'hidden_dim': 800}\n",
      "Epoch: 12/100, Val Loss: 2863.5723, Pearson R: -0.1429, RMSE: 53.9546\n",
      "{'batch_size': 512, 'lr': 0.1, 'dropout': 0.5, 'lr_decay': 0.001, 'layers': 4, 'hidden_dim': 400}\n",
      "Epoch: 11/100, Val Loss: 895.8372, Pearson R: 0.1011, RMSE: 30.7024\n",
      "{'batch_size': 512, 'lr': 0.1, 'dropout': 0.5, 'lr_decay': 0.001, 'layers': 4, 'hidden_dim': 800}\n",
      "Epoch: 11/100, Val Loss: 700.6638, Pearson R: 0.0930, RMSE: 27.3499\n",
      "{'batch_size': 512, 'lr': 0.1, 'dropout': 0.5, 'lr_decay': 0.0001, 'layers': 2, 'hidden_dim': 400}\n",
      "Epoch: 12/100, Val Loss: 664.1150, Pearson R: -0.0419, RMSE: 26.6743\n",
      "{'batch_size': 512, 'lr': 0.1, 'dropout': 0.5, 'lr_decay': 0.0001, 'layers': 2, 'hidden_dim': 800}\n",
      "Epoch: 9/100, Val Loss: 3668.2393, Pearson R: 0.4369, RMSE: 60.9525\n",
      "{'batch_size': 512, 'lr': 0.1, 'dropout': 0.5, 'lr_decay': 0.0001, 'layers': 4, 'hidden_dim': 400}\n"
     ]
    },
    {
     "name": "stderr",
     "output_type": "stream",
     "text": [
      "/home/samsonm/miniconda3/envs/multi_modal_DL/lib/python3.10/site-packages/scipy/stats/_stats_py.py:4424: ConstantInputWarning: An input array is constant; the correlation coefficient is not defined.\n",
      "  warnings.warn(stats.ConstantInputWarning(msg))\n"
     ]
    },
    {
     "name": "stdout",
     "output_type": "stream",
     "text": [
      "Epoch: 29/100, Val Loss: 868.2597, Pearson R: -0.3109, RMSE: 30.2597\n",
      "{'batch_size': 512, 'lr': 0.1, 'dropout': 0.5, 'lr_decay': 0.0001, 'layers': 4, 'hidden_dim': 800}\n",
      "Epoch: 11/100, Val Loss: 681.5524, Pearson R: 0.3169, RMSE: 26.9884\n",
      "{'batch_size': 512, 'lr': 0.01, 'dropout': 0.1, 'lr_decay': 0.1, 'layers': 2, 'hidden_dim': 400}\n",
      "Epoch: 9/100, Val Loss: 746.1854, Pearson R: -0.1374, RMSE: 28.1978\n",
      "{'batch_size': 512, 'lr': 0.01, 'dropout': 0.1, 'lr_decay': 0.1, 'layers': 2, 'hidden_dim': 800}\n",
      "Epoch: 14/100, Val Loss: 820.2594, Pearson R: -0.1072, RMSE: 29.4621\n",
      "{'batch_size': 512, 'lr': 0.01, 'dropout': 0.1, 'lr_decay': 0.1, 'layers': 4, 'hidden_dim': 400}\n",
      "Epoch: 26/100, Val Loss: 619.1304, Pearson R: 0.2620, RMSE: 25.7644\n",
      "{'batch_size': 512, 'lr': 0.01, 'dropout': 0.1, 'lr_decay': 0.1, 'layers': 4, 'hidden_dim': 800}\n",
      "Epoch: 8/100, Val Loss: 1667.0740, Pearson R: 0.2565, RMSE: 41.3994\n",
      "{'batch_size': 512, 'lr': 0.01, 'dropout': 0.1, 'lr_decay': 0.01, 'layers': 2, 'hidden_dim': 400}\n",
      "Epoch: 14/100, Val Loss: 711.1246, Pearson R: -0.1264, RMSE: 27.5588\n",
      "{'batch_size': 512, 'lr': 0.01, 'dropout': 0.1, 'lr_decay': 0.01, 'layers': 2, 'hidden_dim': 800}\n",
      "Epoch: 17/100, Val Loss: 679.0111, Pearson R: 0.1735, RMSE: 26.9436\n",
      "{'batch_size': 512, 'lr': 0.01, 'dropout': 0.1, 'lr_decay': 0.01, 'layers': 4, 'hidden_dim': 400}\n",
      "Epoch: 17/100, Val Loss: 660.0541, Pearson R: 0.0802, RMSE: 26.5944\n",
      "{'batch_size': 512, 'lr': 0.01, 'dropout': 0.1, 'lr_decay': 0.01, 'layers': 4, 'hidden_dim': 800}\n",
      "Epoch: 19/100, Val Loss: 691.6617, Pearson R: 0.3240, RMSE: 27.1848\n",
      "{'batch_size': 512, 'lr': 0.01, 'dropout': 0.1, 'lr_decay': 0.001, 'layers': 2, 'hidden_dim': 400}\n",
      "Epoch: 13/100, Val Loss: 436.8449, Pearson R: 0.7097, RMSE: 21.7735\n",
      "{'batch_size': 512, 'lr': 0.01, 'dropout': 0.1, 'lr_decay': 0.001, 'layers': 2, 'hidden_dim': 800}\n",
      "Epoch: 35/100, Val Loss: 620.4946, Pearson R: 0.3120, RMSE: 25.7678\n",
      "{'batch_size': 512, 'lr': 0.01, 'dropout': 0.1, 'lr_decay': 0.001, 'layers': 4, 'hidden_dim': 400}\n",
      "Epoch: 6/100, Val Loss: 1188.8004, Pearson R: 0.2315, RMSE: 35.1333\n",
      "{'batch_size': 512, 'lr': 0.01, 'dropout': 0.1, 'lr_decay': 0.001, 'layers': 4, 'hidden_dim': 800}\n",
      "Epoch: 12/100, Val Loss: 1129.3145, Pearson R: 0.1164, RMSE: 34.3022\n",
      "{'batch_size': 512, 'lr': 0.01, 'dropout': 0.1, 'lr_decay': 0.0001, 'layers': 2, 'hidden_dim': 400}\n",
      "Epoch: 17/100, Val Loss: 534.6843, Pearson R: 0.5656, RMSE: 23.9574\n",
      "{'batch_size': 512, 'lr': 0.01, 'dropout': 0.1, 'lr_decay': 0.0001, 'layers': 2, 'hidden_dim': 800}\n",
      "Epoch: 10/100, Val Loss: 1129.5521, Pearson R: 0.1069, RMSE: 34.2400\n",
      "{'batch_size': 512, 'lr': 0.01, 'dropout': 0.1, 'lr_decay': 0.0001, 'layers': 4, 'hidden_dim': 400}\n",
      "Epoch: 27/100, Val Loss: 657.3812, Pearson R: 0.2439, RMSE: 26.5388\n",
      "{'batch_size': 512, 'lr': 0.01, 'dropout': 0.1, 'lr_decay': 0.0001, 'layers': 4, 'hidden_dim': 800}\n",
      "Epoch: 13/100, Val Loss: 1100.2173, Pearson R: 0.0424, RMSE: 33.8762\n",
      "{'batch_size': 512, 'lr': 0.01, 'dropout': 0.2, 'lr_decay': 0.1, 'layers': 2, 'hidden_dim': 400}\n",
      "Epoch: 6/100, Val Loss: 674.1304, Pearson R: 0.2260, RMSE: 26.8495\n",
      "{'batch_size': 512, 'lr': 0.01, 'dropout': 0.2, 'lr_decay': 0.1, 'layers': 2, 'hidden_dim': 800}\n",
      "Epoch: 18/100, Val Loss: 702.9810, Pearson R: -0.0126, RMSE: 27.3942\n",
      "{'batch_size': 512, 'lr': 0.01, 'dropout': 0.2, 'lr_decay': 0.1, 'layers': 4, 'hidden_dim': 400}\n",
      "Epoch: 13/100, Val Loss: 573.1928, Pearson R: 0.3772, RMSE: 24.7955\n",
      "{'batch_size': 512, 'lr': 0.01, 'dropout': 0.2, 'lr_decay': 0.1, 'layers': 4, 'hidden_dim': 800}\n",
      "Epoch: 21/100, Val Loss: 665.6232, Pearson R: 0.3717, RMSE: 26.7018\n",
      "{'batch_size': 512, 'lr': 0.01, 'dropout': 0.2, 'lr_decay': 0.01, 'layers': 2, 'hidden_dim': 400}\n",
      "Epoch: 12/100, Val Loss: 1257.5322, Pearson R: -0.6572, RMSE: 36.3288\n",
      "{'batch_size': 512, 'lr': 0.01, 'dropout': 0.2, 'lr_decay': 0.01, 'layers': 2, 'hidden_dim': 800}\n",
      "Epoch: 21/100, Val Loss: 611.2291, Pearson R: 0.2902, RMSE: 25.6010\n",
      "{'batch_size': 512, 'lr': 0.01, 'dropout': 0.2, 'lr_decay': 0.01, 'layers': 4, 'hidden_dim': 400}\n",
      "Epoch: 19/100, Val Loss: 644.1499, Pearson R: 0.2993, RMSE: 26.2819\n",
      "{'batch_size': 512, 'lr': 0.01, 'dropout': 0.2, 'lr_decay': 0.01, 'layers': 4, 'hidden_dim': 800}\n",
      "Epoch: 27/100, Val Loss: 657.1663, Pearson R: 0.3308, RMSE: 26.5391\n",
      "{'batch_size': 512, 'lr': 0.01, 'dropout': 0.2, 'lr_decay': 0.001, 'layers': 2, 'hidden_dim': 400}\n",
      "Epoch: 12/100, Val Loss: 764.6167, Pearson R: -0.3940, RMSE: 28.5473\n",
      "{'batch_size': 512, 'lr': 0.01, 'dropout': 0.2, 'lr_decay': 0.001, 'layers': 2, 'hidden_dim': 800}\n",
      "Epoch: 15/100, Val Loss: 890.0787, Pearson R: 0.0485, RMSE: 30.6143\n",
      "{'batch_size': 512, 'lr': 0.01, 'dropout': 0.2, 'lr_decay': 0.001, 'layers': 4, 'hidden_dim': 400}\n",
      "Epoch: 23/100, Val Loss: 663.2934, Pearson R: 0.2535, RMSE: 26.6585\n",
      "{'batch_size': 512, 'lr': 0.01, 'dropout': 0.2, 'lr_decay': 0.001, 'layers': 4, 'hidden_dim': 800}\n",
      "Epoch: 11/100, Val Loss: 673.8296, Pearson R: 0.1838, RMSE: 26.8528\n",
      "{'batch_size': 512, 'lr': 0.01, 'dropout': 0.2, 'lr_decay': 0.0001, 'layers': 2, 'hidden_dim': 400}\n",
      "Epoch: 6/100, Val Loss: 666.3621, Pearson R: 0.2235, RMSE: 26.7057\n",
      "{'batch_size': 512, 'lr': 0.01, 'dropout': 0.2, 'lr_decay': 0.0001, 'layers': 2, 'hidden_dim': 800}\n",
      "Epoch: 20/100, Val Loss: 680.2007, Pearson R: -0.0956, RMSE: 26.9812\n",
      "{'batch_size': 512, 'lr': 0.01, 'dropout': 0.2, 'lr_decay': 0.0001, 'layers': 4, 'hidden_dim': 400}\n",
      "Epoch: 6/100, Val Loss: 1265.2522, Pearson R: 0.2302, RMSE: 36.2079\n",
      "{'batch_size': 512, 'lr': 0.01, 'dropout': 0.2, 'lr_decay': 0.0001, 'layers': 4, 'hidden_dim': 800}\n",
      "Epoch: 27/100, Val Loss: 663.3158, Pearson R: 0.1915, RMSE: 26.6588\n",
      "{'batch_size': 512, 'lr': 0.01, 'dropout': 0.3, 'lr_decay': 0.1, 'layers': 2, 'hidden_dim': 400}\n",
      "Epoch: 15/100, Val Loss: 584.1652, Pearson R: 0.3831, RMSE: 24.9980\n",
      "{'batch_size': 512, 'lr': 0.01, 'dropout': 0.3, 'lr_decay': 0.1, 'layers': 2, 'hidden_dim': 800}\n",
      "Epoch: 11/100, Val Loss: 693.1994, Pearson R: 0.0836, RMSE: 27.1964\n",
      "{'batch_size': 512, 'lr': 0.01, 'dropout': 0.3, 'lr_decay': 0.1, 'layers': 4, 'hidden_dim': 400}\n",
      "Epoch: 6/100, Val Loss: 1178.0919, Pearson R: 0.2304, RMSE: 34.9808\n",
      "{'batch_size': 512, 'lr': 0.01, 'dropout': 0.3, 'lr_decay': 0.1, 'layers': 4, 'hidden_dim': 800}\n",
      "Epoch: 33/100, Val Loss: 673.5033, Pearson R: 0.0727, RMSE: 26.8358\n",
      "{'batch_size': 512, 'lr': 0.01, 'dropout': 0.3, 'lr_decay': 0.01, 'layers': 2, 'hidden_dim': 400}\n",
      "Epoch: 9/100, Val Loss: 734.0140, Pearson R: -0.1471, RMSE: 27.9785\n",
      "{'batch_size': 512, 'lr': 0.01, 'dropout': 0.3, 'lr_decay': 0.01, 'layers': 2, 'hidden_dim': 800}\n",
      "Epoch: 13/100, Val Loss: 839.8456, Pearson R: 0.1726, RMSE: 29.7703\n",
      "{'batch_size': 512, 'lr': 0.01, 'dropout': 0.3, 'lr_decay': 0.01, 'layers': 4, 'hidden_dim': 400}\n",
      "Epoch: 9/100, Val Loss: 705.5843, Pearson R: -0.2481, RMSE: 27.4499\n",
      "{'batch_size': 512, 'lr': 0.01, 'dropout': 0.3, 'lr_decay': 0.01, 'layers': 4, 'hidden_dim': 800}\n",
      "Epoch: 11/100, Val Loss: 669.1530, Pearson R: 0.0667, RMSE: 26.7677\n",
      "{'batch_size': 512, 'lr': 0.01, 'dropout': 0.3, 'lr_decay': 0.001, 'layers': 2, 'hidden_dim': 400}\n",
      "Epoch: 15/100, Val Loss: 797.7214, Pearson R: 0.3071, RMSE: 28.9331\n",
      "{'batch_size': 512, 'lr': 0.01, 'dropout': 0.3, 'lr_decay': 0.001, 'layers': 2, 'hidden_dim': 800}\n",
      "Epoch: 15/100, Val Loss: 673.3429, Pearson R: 0.1493, RMSE: 26.8454\n",
      "{'batch_size': 512, 'lr': 0.01, 'dropout': 0.3, 'lr_decay': 0.001, 'layers': 4, 'hidden_dim': 400}\n",
      "Epoch: 17/100, Val Loss: 675.1598, Pearson R: -0.3002, RMSE: 26.8875\n",
      "{'batch_size': 512, 'lr': 0.01, 'dropout': 0.3, 'lr_decay': 0.001, 'layers': 4, 'hidden_dim': 800}\n",
      "Epoch: 12/100, Val Loss: 698.8423, Pearson R: 0.1653, RMSE: 27.3164\n",
      "{'batch_size': 512, 'lr': 0.01, 'dropout': 0.3, 'lr_decay': 0.0001, 'layers': 2, 'hidden_dim': 400}\n",
      "Epoch: 9/100, Val Loss: 787.2405, Pearson R: -0.1606, RMSE: 28.9275\n",
      "{'batch_size': 512, 'lr': 0.01, 'dropout': 0.3, 'lr_decay': 0.0001, 'layers': 2, 'hidden_dim': 800}\n",
      "Epoch: 10/100, Val Loss: 890.5109, Pearson R: -0.0913, RMSE: 30.6434\n",
      "{'batch_size': 512, 'lr': 0.01, 'dropout': 0.3, 'lr_decay': 0.0001, 'layers': 4, 'hidden_dim': 400}\n",
      "Epoch: 9/100, Val Loss: 660.8348, Pearson R: 0.2518, RMSE: 26.6107\n",
      "{'batch_size': 512, 'lr': 0.01, 'dropout': 0.3, 'lr_decay': 0.0001, 'layers': 4, 'hidden_dim': 800}\n",
      "Epoch: 17/100, Val Loss: 679.8287, Pearson R: 0.0721, RMSE: 26.9662\n",
      "{'batch_size': 512, 'lr': 0.01, 'dropout': 0.4, 'lr_decay': 0.1, 'layers': 2, 'hidden_dim': 400}\n"
     ]
    },
    {
     "name": "stdout",
     "output_type": "stream",
     "text": [
      "Epoch: 6/100, Val Loss: 663.9734, Pearson R: 0.2176, RMSE: 26.6659\n",
      "{'batch_size': 512, 'lr': 0.01, 'dropout': 0.4, 'lr_decay': 0.1, 'layers': 2, 'hidden_dim': 800}\n",
      "Epoch: 46/100, Val Loss: 608.7635, Pearson R: 0.2934, RMSE: 25.5520\n",
      "{'batch_size': 512, 'lr': 0.01, 'dropout': 0.4, 'lr_decay': 0.1, 'layers': 4, 'hidden_dim': 400}\n",
      "Epoch: 29/100, Val Loss: 681.0469, Pearson R: 0.0846, RMSE: 26.9759\n",
      "{'batch_size': 512, 'lr': 0.01, 'dropout': 0.4, 'lr_decay': 0.1, 'layers': 4, 'hidden_dim': 800}\n",
      "Epoch: 42/100, Val Loss: 648.0239, Pearson R: 0.2363, RMSE: 26.3588\n",
      "{'batch_size': 512, 'lr': 0.01, 'dropout': 0.4, 'lr_decay': 0.01, 'layers': 2, 'hidden_dim': 400}\n",
      "Epoch: 14/100, Val Loss: 641.9637, Pearson R: 0.2333, RMSE: 26.2288\n",
      "{'batch_size': 512, 'lr': 0.01, 'dropout': 0.4, 'lr_decay': 0.01, 'layers': 2, 'hidden_dim': 800}\n",
      "Epoch: 10/100, Val Loss: 798.7043, Pearson R: 0.2234, RMSE: 28.9844\n",
      "{'batch_size': 512, 'lr': 0.01, 'dropout': 0.4, 'lr_decay': 0.01, 'layers': 4, 'hidden_dim': 400}\n",
      "Epoch: 20/100, Val Loss: 664.1080, Pearson R: 0.0092, RMSE: 26.6735\n",
      "{'batch_size': 512, 'lr': 0.01, 'dropout': 0.4, 'lr_decay': 0.01, 'layers': 4, 'hidden_dim': 800}\n",
      "Epoch: 12/100, Val Loss: 810.3568, Pearson R: -0.2527, RMSE: 29.2896\n",
      "{'batch_size': 512, 'lr': 0.01, 'dropout': 0.4, 'lr_decay': 0.001, 'layers': 2, 'hidden_dim': 400}\n",
      "Epoch: 6/100, Val Loss: 658.2750, Pearson R: 0.2129, RMSE: 26.5589\n",
      "{'batch_size': 512, 'lr': 0.01, 'dropout': 0.4, 'lr_decay': 0.001, 'layers': 2, 'hidden_dim': 800}\n",
      "Epoch: 14/100, Val Loss: 892.7085, Pearson R: -0.1706, RMSE: 30.7120\n",
      "{'batch_size': 512, 'lr': 0.01, 'dropout': 0.4, 'lr_decay': 0.001, 'layers': 4, 'hidden_dim': 400}\n",
      "Epoch: 6/100, Val Loss: 705.3845, Pearson R: -0.2300, RMSE: 27.4454\n",
      "{'batch_size': 512, 'lr': 0.01, 'dropout': 0.4, 'lr_decay': 0.001, 'layers': 4, 'hidden_dim': 800}\n",
      "Epoch: 14/100, Val Loss: 652.2732, Pearson R: 0.1831, RMSE: 26.4423\n",
      "{'batch_size': 512, 'lr': 0.01, 'dropout': 0.4, 'lr_decay': 0.0001, 'layers': 2, 'hidden_dim': 400}\n",
      "Epoch: 9/100, Val Loss: 803.7578, Pearson R: -0.1786, RMSE: 29.2186\n",
      "{'batch_size': 512, 'lr': 0.01, 'dropout': 0.4, 'lr_decay': 0.0001, 'layers': 2, 'hidden_dim': 800}\n",
      "Epoch: 10/100, Val Loss: 683.3478, Pearson R: -0.1939, RMSE: 27.0429\n",
      "{'batch_size': 512, 'lr': 0.01, 'dropout': 0.4, 'lr_decay': 0.0001, 'layers': 4, 'hidden_dim': 400}\n",
      "Epoch: 6/100, Val Loss: 664.2990, Pearson R: 0.2352, RMSE: 26.6728\n",
      "{'batch_size': 512, 'lr': 0.01, 'dropout': 0.4, 'lr_decay': 0.0001, 'layers': 4, 'hidden_dim': 800}\n",
      "Epoch: 34/100, Val Loss: 672.7495, Pearson R: -0.4955, RMSE: 26.8408\n",
      "{'batch_size': 512, 'lr': 0.01, 'dropout': 0.5, 'lr_decay': 0.1, 'layers': 2, 'hidden_dim': 400}\n",
      "Epoch: 6/100, Val Loss: 668.9266, Pearson R: 0.2237, RMSE: 26.7540\n",
      "{'batch_size': 512, 'lr': 0.01, 'dropout': 0.5, 'lr_decay': 0.1, 'layers': 2, 'hidden_dim': 800}\n",
      "Epoch: 27/100, Val Loss: 639.2059, Pearson R: 0.2280, RMSE: 26.1769\n",
      "{'batch_size': 512, 'lr': 0.01, 'dropout': 0.5, 'lr_decay': 0.1, 'layers': 4, 'hidden_dim': 400}\n",
      "Epoch: 6/100, Val Loss: 1323.9159, Pearson R: 0.2296, RMSE: 37.0105\n",
      "{'batch_size': 512, 'lr': 0.01, 'dropout': 0.5, 'lr_decay': 0.1, 'layers': 4, 'hidden_dim': 800}\n",
      "Epoch: 19/100, Val Loss: 663.8284, Pearson R: 0.1993, RMSE: 26.6683\n",
      "{'batch_size': 512, 'lr': 0.01, 'dropout': 0.5, 'lr_decay': 0.01, 'layers': 2, 'hidden_dim': 400}\n",
      "Epoch: 6/100, Val Loss: 661.6243, Pearson R: 0.2238, RMSE: 26.6147\n",
      "{'batch_size': 512, 'lr': 0.01, 'dropout': 0.5, 'lr_decay': 0.01, 'layers': 2, 'hidden_dim': 800}\n",
      "Epoch: 12/100, Val Loss: 649.6620, Pearson R: 0.2730, RMSE: 26.3876\n",
      "{'batch_size': 512, 'lr': 0.01, 'dropout': 0.5, 'lr_decay': 0.01, 'layers': 4, 'hidden_dim': 400}\n",
      "Epoch: 6/100, Val Loss: 733.9608, Pearson R: 0.2286, RMSE: 27.9501\n",
      "{'batch_size': 512, 'lr': 0.01, 'dropout': 0.5, 'lr_decay': 0.01, 'layers': 4, 'hidden_dim': 800}\n",
      "Epoch: 13/100, Val Loss: 673.5168, Pearson R: -0.1508, RMSE: 26.8550\n",
      "{'batch_size': 512, 'lr': 0.01, 'dropout': 0.5, 'lr_decay': 0.001, 'layers': 2, 'hidden_dim': 400}\n",
      "Epoch: 9/100, Val Loss: 789.6140, Pearson R: -0.1547, RMSE: 28.9675\n",
      "{'batch_size': 512, 'lr': 0.01, 'dropout': 0.5, 'lr_decay': 0.001, 'layers': 2, 'hidden_dim': 800}\n",
      "Epoch: 19/100, Val Loss: 633.0485, Pearson R: 0.3929, RMSE: 26.0549\n",
      "{'batch_size': 512, 'lr': 0.01, 'dropout': 0.5, 'lr_decay': 0.001, 'layers': 4, 'hidden_dim': 400}\n",
      "Epoch: 6/100, Val Loss: 857.7014, Pearson R: 0.2295, RMSE: 30.0689\n",
      "{'batch_size': 512, 'lr': 0.01, 'dropout': 0.5, 'lr_decay': 0.001, 'layers': 4, 'hidden_dim': 800}\n",
      "Epoch: 29/100, Val Loss: 652.4009, Pearson R: 0.2400, RMSE: 26.4455\n",
      "{'batch_size': 512, 'lr': 0.01, 'dropout': 0.5, 'lr_decay': 0.0001, 'layers': 2, 'hidden_dim': 400}\n",
      "Epoch: 6/100, Val Loss: 659.1511, Pearson R: 0.2040, RMSE: 26.5771\n",
      "{'batch_size': 512, 'lr': 0.01, 'dropout': 0.5, 'lr_decay': 0.0001, 'layers': 2, 'hidden_dim': 800}\n",
      "Epoch: 10/100, Val Loss: 691.2380, Pearson R: -0.0730, RMSE: 27.1845\n",
      "{'batch_size': 512, 'lr': 0.01, 'dropout': 0.5, 'lr_decay': 0.0001, 'layers': 4, 'hidden_dim': 400}\n",
      "Epoch: 6/100, Val Loss: 1488.9945, Pearson R: 0.2301, RMSE: 39.1686\n",
      "{'batch_size': 512, 'lr': 0.01, 'dropout': 0.5, 'lr_decay': 0.0001, 'layers': 4, 'hidden_dim': 800}\n",
      "Epoch: 10/100, Val Loss: 668.2849, Pearson R: -0.0660, RMSE: 26.7543\n",
      "{'batch_size': 512, 'lr': 0.001, 'dropout': 0.1, 'lr_decay': 0.1, 'layers': 2, 'hidden_dim': 400}\n",
      "Epoch: 15/100, Val Loss: 669.1504, Pearson R: 0.2283, RMSE: 26.7004\n",
      "{'batch_size': 512, 'lr': 0.001, 'dropout': 0.1, 'lr_decay': 0.1, 'layers': 2, 'hidden_dim': 800}\n",
      "Epoch: 25/100, Val Loss: 673.3611, Pearson R: 0.2024, RMSE: 26.7959\n",
      "{'batch_size': 512, 'lr': 0.001, 'dropout': 0.1, 'lr_decay': 0.1, 'layers': 4, 'hidden_dim': 400}\n",
      "Epoch: 17/100, Val Loss: 633.6400, Pearson R: 0.2314, RMSE: 26.0465\n",
      "{'batch_size': 512, 'lr': 0.001, 'dropout': 0.1, 'lr_decay': 0.1, 'layers': 4, 'hidden_dim': 800}\n",
      "Epoch: 18/100, Val Loss: 638.2028, Pearson R: 0.2325, RMSE: 26.1569\n",
      "{'batch_size': 512, 'lr': 0.001, 'dropout': 0.1, 'lr_decay': 0.01, 'layers': 2, 'hidden_dim': 400}\n",
      "Epoch: 14/100, Val Loss: 657.8071, Pearson R: 0.2264, RMSE: 26.4906\n",
      "{'batch_size': 512, 'lr': 0.001, 'dropout': 0.1, 'lr_decay': 0.01, 'layers': 2, 'hidden_dim': 800}\n",
      "Epoch: 24/100, Val Loss: 641.2323, Pearson R: 0.1848, RMSE: 26.2155\n",
      "{'batch_size': 512, 'lr': 0.001, 'dropout': 0.1, 'lr_decay': 0.01, 'layers': 4, 'hidden_dim': 400}\n",
      "Epoch: 17/100, Val Loss: 633.4925, Pearson R: 0.2284, RMSE: 26.0426\n",
      "{'batch_size': 512, 'lr': 0.001, 'dropout': 0.1, 'lr_decay': 0.01, 'layers': 4, 'hidden_dim': 800}\n",
      "Epoch: 19/100, Val Loss: 639.8286, Pearson R: 0.2287, RMSE: 26.1858\n",
      "{'batch_size': 512, 'lr': 0.001, 'dropout': 0.1, 'lr_decay': 0.001, 'layers': 2, 'hidden_dim': 400}\n",
      "Epoch: 14/100, Val Loss: 661.4856, Pearson R: 0.2264, RMSE: 26.5585\n",
      "{'batch_size': 512, 'lr': 0.001, 'dropout': 0.1, 'lr_decay': 0.001, 'layers': 2, 'hidden_dim': 800}\n",
      "Epoch: 23/100, Val Loss: 641.7875, Pearson R: 0.1937, RMSE: 26.2300\n",
      "{'batch_size': 512, 'lr': 0.001, 'dropout': 0.1, 'lr_decay': 0.001, 'layers': 4, 'hidden_dim': 400}\n",
      "Epoch: 16/100, Val Loss: 633.2870, Pearson R: 0.2263, RMSE: 26.0313\n",
      "{'batch_size': 512, 'lr': 0.001, 'dropout': 0.1, 'lr_decay': 0.001, 'layers': 4, 'hidden_dim': 800}\n",
      "Epoch: 18/100, Val Loss: 637.5112, Pearson R: 0.2277, RMSE: 26.1432\n",
      "{'batch_size': 512, 'lr': 0.001, 'dropout': 0.1, 'lr_decay': 0.0001, 'layers': 2, 'hidden_dim': 400}\n",
      "Epoch: 13/100, Val Loss: 652.5797, Pearson R: 0.2259, RMSE: 26.4011\n",
      "{'batch_size': 512, 'lr': 0.001, 'dropout': 0.1, 'lr_decay': 0.0001, 'layers': 2, 'hidden_dim': 800}\n",
      "Epoch: 24/100, Val Loss: 646.6745, Pearson R: 0.1850, RMSE: 26.3094\n",
      "{'batch_size': 512, 'lr': 0.001, 'dropout': 0.1, 'lr_decay': 0.0001, 'layers': 4, 'hidden_dim': 400}\n",
      "Epoch: 19/100, Val Loss: 651.1326, Pearson R: 0.2281, RMSE: 26.3728\n",
      "{'batch_size': 512, 'lr': 0.001, 'dropout': 0.1, 'lr_decay': 0.0001, 'layers': 4, 'hidden_dim': 800}\n",
      "Epoch: 22/100, Val Loss: 636.2573, Pearson R: 0.2284, RMSE: 26.0999\n",
      "{'batch_size': 512, 'lr': 0.001, 'dropout': 0.2, 'lr_decay': 0.1, 'layers': 2, 'hidden_dim': 400}\n",
      "Epoch: 16/100, Val Loss: 668.6951, Pearson R: 0.2274, RMSE: 26.6870\n",
      "{'batch_size': 512, 'lr': 0.001, 'dropout': 0.2, 'lr_decay': 0.1, 'layers': 2, 'hidden_dim': 800}\n",
      "Epoch: 23/100, Val Loss: 636.3510, Pearson R: 0.2060, RMSE: 26.1115\n",
      "{'batch_size': 512, 'lr': 0.001, 'dropout': 0.2, 'lr_decay': 0.1, 'layers': 4, 'hidden_dim': 400}\n"
     ]
    },
    {
     "name": "stdout",
     "output_type": "stream",
     "text": [
      "Epoch: 20/100, Val Loss: 643.4968, Pearson R: 0.2323, RMSE: 26.2296\n",
      "{'batch_size': 512, 'lr': 0.001, 'dropout': 0.2, 'lr_decay': 0.1, 'layers': 4, 'hidden_dim': 800}\n",
      "Epoch: 22/100, Val Loss: 649.3477, Pearson R: 0.2335, RMSE: 26.3479\n",
      "{'batch_size': 512, 'lr': 0.001, 'dropout': 0.2, 'lr_decay': 0.01, 'layers': 2, 'hidden_dim': 400}\n",
      "Epoch: 15/100, Val Loss: 680.8790, Pearson R: 0.2261, RMSE: 26.9106\n",
      "{'batch_size': 512, 'lr': 0.001, 'dropout': 0.2, 'lr_decay': 0.01, 'layers': 2, 'hidden_dim': 800}\n",
      "Epoch: 22/100, Val Loss: 646.6630, Pearson R: 0.2048, RMSE: 26.3167\n",
      "{'batch_size': 512, 'lr': 0.001, 'dropout': 0.2, 'lr_decay': 0.01, 'layers': 4, 'hidden_dim': 400}\n",
      "Epoch: 20/100, Val Loss: 681.3272, Pearson R: 0.2290, RMSE: 26.9323\n",
      "{'batch_size': 512, 'lr': 0.001, 'dropout': 0.2, 'lr_decay': 0.01, 'layers': 4, 'hidden_dim': 800}\n",
      "Epoch: 18/100, Val Loss: 638.4877, Pearson R: 0.2308, RMSE: 26.1597\n",
      "{'batch_size': 512, 'lr': 0.001, 'dropout': 0.2, 'lr_decay': 0.001, 'layers': 2, 'hidden_dim': 400}\n",
      "Epoch: 16/100, Val Loss: 651.1882, Pearson R: 0.2251, RMSE: 26.3738\n",
      "{'batch_size': 512, 'lr': 0.001, 'dropout': 0.2, 'lr_decay': 0.001, 'layers': 2, 'hidden_dim': 800}\n",
      "Epoch: 24/100, Val Loss: 661.0335, Pearson R: 0.1988, RMSE: 26.5703\n",
      "{'batch_size': 512, 'lr': 0.001, 'dropout': 0.2, 'lr_decay': 0.001, 'layers': 4, 'hidden_dim': 400}\n",
      "Epoch: 19/100, Val Loss: 640.9999, Pearson R: 0.2287, RMSE: 26.1739\n",
      "{'batch_size': 512, 'lr': 0.001, 'dropout': 0.2, 'lr_decay': 0.001, 'layers': 4, 'hidden_dim': 800}\n",
      "Epoch: 20/100, Val Loss: 639.9309, Pearson R: 0.2291, RMSE: 26.1557\n",
      "{'batch_size': 512, 'lr': 0.001, 'dropout': 0.2, 'lr_decay': 0.0001, 'layers': 2, 'hidden_dim': 400}\n",
      "Epoch: 16/100, Val Loss: 641.0347, Pearson R: 0.2248, RMSE: 26.1825\n",
      "{'batch_size': 512, 'lr': 0.001, 'dropout': 0.2, 'lr_decay': 0.0001, 'layers': 2, 'hidden_dim': 800}\n",
      "Epoch: 25/100, Val Loss: 657.2436, Pearson R: 0.1837, RMSE: 26.5003\n",
      "{'batch_size': 512, 'lr': 0.001, 'dropout': 0.2, 'lr_decay': 0.0001, 'layers': 4, 'hidden_dim': 400}\n",
      "Epoch: 18/100, Val Loss: 639.7230, Pearson R: 0.2292, RMSE: 26.1583\n",
      "{'batch_size': 512, 'lr': 0.001, 'dropout': 0.2, 'lr_decay': 0.0001, 'layers': 4, 'hidden_dim': 800}\n",
      "Epoch: 22/100, Val Loss: 683.1655, Pearson R: 0.2305, RMSE: 26.9722\n",
      "{'batch_size': 512, 'lr': 0.001, 'dropout': 0.3, 'lr_decay': 0.1, 'layers': 2, 'hidden_dim': 400}\n",
      "Epoch: 15/100, Val Loss: 669.3710, Pearson R: 0.2284, RMSE: 26.7028\n",
      "{'batch_size': 512, 'lr': 0.001, 'dropout': 0.3, 'lr_decay': 0.1, 'layers': 2, 'hidden_dim': 800}\n",
      "Epoch: 23/100, Val Loss: 641.5822, Pearson R: 0.2097, RMSE: 26.2039\n",
      "{'batch_size': 512, 'lr': 0.001, 'dropout': 0.3, 'lr_decay': 0.1, 'layers': 4, 'hidden_dim': 400}\n",
      "Epoch: 15/100, Val Loss: 664.5795, Pearson R: 0.2322, RMSE: 26.6229\n",
      "{'batch_size': 512, 'lr': 0.001, 'dropout': 0.3, 'lr_decay': 0.1, 'layers': 4, 'hidden_dim': 800}\n",
      "Epoch: 20/100, Val Loss: 682.8361, Pearson R: 0.2337, RMSE: 26.9769\n",
      "{'batch_size': 512, 'lr': 0.001, 'dropout': 0.3, 'lr_decay': 0.01, 'layers': 2, 'hidden_dim': 400}\n",
      "Epoch: 13/100, Val Loss: 654.3134, Pearson R: 0.2265, RMSE: 26.4299\n",
      "{'batch_size': 512, 'lr': 0.001, 'dropout': 0.3, 'lr_decay': 0.01, 'layers': 2, 'hidden_dim': 800}\n",
      "Epoch: 21/100, Val Loss: 667.6520, Pearson R: 0.2110, RMSE: 26.7036\n",
      "{'batch_size': 512, 'lr': 0.001, 'dropout': 0.3, 'lr_decay': 0.01, 'layers': 4, 'hidden_dim': 400}\n",
      "Epoch: 15/100, Val Loss: 634.6055, Pearson R: 0.2316, RMSE: 26.0642\n",
      "{'batch_size': 512, 'lr': 0.001, 'dropout': 0.3, 'lr_decay': 0.01, 'layers': 4, 'hidden_dim': 800}\n",
      "Epoch: 20/100, Val Loss: 642.7844, Pearson R: 0.2294, RMSE: 26.2100\n",
      "{'batch_size': 512, 'lr': 0.001, 'dropout': 0.3, 'lr_decay': 0.001, 'layers': 2, 'hidden_dim': 400}\n",
      "Epoch: 13/100, Val Loss: 633.1444, Pearson R: 0.2256, RMSE: 26.0293\n",
      "{'batch_size': 512, 'lr': 0.001, 'dropout': 0.3, 'lr_decay': 0.001, 'layers': 2, 'hidden_dim': 800}\n",
      "Epoch: 24/100, Val Loss: 670.0404, Pearson R: 0.1969, RMSE: 26.7324\n",
      "{'batch_size': 512, 'lr': 0.001, 'dropout': 0.3, 'lr_decay': 0.001, 'layers': 4, 'hidden_dim': 400}\n",
      "Epoch: 16/100, Val Loss: 669.4048, Pearson R: 0.2306, RMSE: 26.7100\n",
      "{'batch_size': 512, 'lr': 0.001, 'dropout': 0.3, 'lr_decay': 0.001, 'layers': 4, 'hidden_dim': 800}\n",
      "Epoch: 22/100, Val Loss: 660.5906, Pearson R: 0.2325, RMSE: 26.5581\n",
      "{'batch_size': 512, 'lr': 0.001, 'dropout': 0.3, 'lr_decay': 0.0001, 'layers': 2, 'hidden_dim': 400}\n",
      "Epoch: 12/100, Val Loss: 660.5014, Pearson R: 0.2266, RMSE: 26.5397\n",
      "{'batch_size': 512, 'lr': 0.001, 'dropout': 0.3, 'lr_decay': 0.0001, 'layers': 2, 'hidden_dim': 800}\n",
      "Epoch: 22/100, Val Loss: 636.8602, Pearson R: 0.2025, RMSE: 26.1265\n",
      "{'batch_size': 512, 'lr': 0.001, 'dropout': 0.3, 'lr_decay': 0.0001, 'layers': 4, 'hidden_dim': 400}\n",
      "Epoch: 19/100, Val Loss: 667.2941, Pearson R: 0.2302, RMSE: 26.6645\n",
      "{'batch_size': 512, 'lr': 0.001, 'dropout': 0.3, 'lr_decay': 0.0001, 'layers': 4, 'hidden_dim': 800}\n",
      "Epoch: 22/100, Val Loss: 652.0418, Pearson R: 0.2324, RMSE: 26.3968\n",
      "{'batch_size': 512, 'lr': 0.001, 'dropout': 0.4, 'lr_decay': 0.1, 'layers': 2, 'hidden_dim': 400}\n",
      "Epoch: 16/100, Val Loss: 693.6284, Pearson R: 0.2281, RMSE: 27.1491\n",
      "{'batch_size': 512, 'lr': 0.001, 'dropout': 0.4, 'lr_decay': 0.1, 'layers': 2, 'hidden_dim': 800}\n",
      "Epoch: 25/100, Val Loss: 639.1219, Pearson R: 0.2170, RMSE: 26.1569\n",
      "{'batch_size': 512, 'lr': 0.001, 'dropout': 0.4, 'lr_decay': 0.1, 'layers': 4, 'hidden_dim': 400}\n",
      "Epoch: 13/100, Val Loss: 628.1017, Pearson R: 0.2325, RMSE: 25.9452\n",
      "{'batch_size': 512, 'lr': 0.001, 'dropout': 0.4, 'lr_decay': 0.1, 'layers': 4, 'hidden_dim': 800}\n",
      "Epoch: 20/100, Val Loss: 670.3541, Pearson R: 0.2332, RMSE: 26.7427\n",
      "{'batch_size': 512, 'lr': 0.001, 'dropout': 0.4, 'lr_decay': 0.01, 'layers': 2, 'hidden_dim': 400}\n",
      "Epoch: 15/100, Val Loss: 645.1157, Pearson R: 0.2248, RMSE: 26.2500\n",
      "{'batch_size': 512, 'lr': 0.001, 'dropout': 0.4, 'lr_decay': 0.01, 'layers': 2, 'hidden_dim': 800}\n",
      "Epoch: 22/100, Val Loss: 646.2706, Pearson R: 0.1998, RMSE: 26.2912\n",
      "{'batch_size': 512, 'lr': 0.001, 'dropout': 0.4, 'lr_decay': 0.01, 'layers': 4, 'hidden_dim': 400}\n",
      "Epoch: 24/100, Val Loss: 641.2791, Pearson R: 0.2287, RMSE: 26.1868\n",
      "{'batch_size': 512, 'lr': 0.001, 'dropout': 0.4, 'lr_decay': 0.01, 'layers': 4, 'hidden_dim': 800}\n",
      "Epoch: 21/100, Val Loss: 632.5720, Pearson R: 0.2310, RMSE: 26.0212\n",
      "{'batch_size': 512, 'lr': 0.001, 'dropout': 0.4, 'lr_decay': 0.001, 'layers': 2, 'hidden_dim': 400}\n",
      "Epoch: 17/100, Val Loss: 648.9473, Pearson R: 0.2246, RMSE: 26.3309\n",
      "{'batch_size': 512, 'lr': 0.001, 'dropout': 0.4, 'lr_decay': 0.001, 'layers': 2, 'hidden_dim': 800}\n",
      "Epoch: 20/100, Val Loss: 640.6562, Pearson R: 0.2101, RMSE: 26.1998\n",
      "{'batch_size': 512, 'lr': 0.001, 'dropout': 0.4, 'lr_decay': 0.001, 'layers': 4, 'hidden_dim': 400}\n",
      "Epoch: 15/100, Val Loss: 638.2302, Pearson R: 0.2313, RMSE: 26.1275\n",
      "{'batch_size': 512, 'lr': 0.001, 'dropout': 0.4, 'lr_decay': 0.001, 'layers': 4, 'hidden_dim': 800}\n",
      "Epoch: 22/100, Val Loss: 662.1387, Pearson R: 0.2329, RMSE: 26.5891\n",
      "{'batch_size': 512, 'lr': 0.001, 'dropout': 0.4, 'lr_decay': 0.0001, 'layers': 2, 'hidden_dim': 400}\n",
      "Epoch: 15/100, Val Loss: 651.7863, Pearson R: 0.2256, RMSE: 26.3722\n",
      "{'batch_size': 512, 'lr': 0.001, 'dropout': 0.4, 'lr_decay': 0.0001, 'layers': 2, 'hidden_dim': 800}\n",
      "Epoch: 23/100, Val Loss: 647.9628, Pearson R: 0.2024, RMSE: 26.3205\n",
      "{'batch_size': 512, 'lr': 0.001, 'dropout': 0.4, 'lr_decay': 0.0001, 'layers': 4, 'hidden_dim': 400}\n",
      "Epoch: 17/100, Val Loss: 679.5817, Pearson R: 0.2314, RMSE: 26.8943\n",
      "{'batch_size': 512, 'lr': 0.001, 'dropout': 0.4, 'lr_decay': 0.0001, 'layers': 4, 'hidden_dim': 800}\n",
      "Epoch: 21/100, Val Loss: 633.2783, Pearson R: 0.2305, RMSE: 26.0345\n",
      "{'batch_size': 512, 'lr': 0.001, 'dropout': 0.5, 'lr_decay': 0.1, 'layers': 2, 'hidden_dim': 400}\n",
      "Epoch: 14/100, Val Loss: 644.9214, Pearson R: 0.2277, RMSE: 26.2517\n",
      "{'batch_size': 512, 'lr': 0.001, 'dropout': 0.5, 'lr_decay': 0.1, 'layers': 2, 'hidden_dim': 800}\n",
      "Epoch: 20/100, Val Loss: 632.1653, Pearson R: 0.2187, RMSE: 26.0239\n",
      "{'batch_size': 512, 'lr': 0.001, 'dropout': 0.5, 'lr_decay': 0.1, 'layers': 4, 'hidden_dim': 400}\n",
      "Epoch: 16/100, Val Loss: 642.5917, Pearson R: 0.2325, RMSE: 26.2060\n",
      "{'batch_size': 512, 'lr': 0.001, 'dropout': 0.5, 'lr_decay': 0.1, 'layers': 4, 'hidden_dim': 800}\n"
     ]
    },
    {
     "name": "stdout",
     "output_type": "stream",
     "text": [
      "Epoch: 21/100, Val Loss: 627.9779, Pearson R: 0.2311, RMSE: 25.9401\n",
      "{'batch_size': 512, 'lr': 0.001, 'dropout': 0.5, 'lr_decay': 0.01, 'layers': 2, 'hidden_dim': 400}\n",
      "Epoch: 17/100, Val Loss: 672.5905, Pearson R: 0.2261, RMSE: 26.7722\n",
      "{'batch_size': 512, 'lr': 0.001, 'dropout': 0.5, 'lr_decay': 0.01, 'layers': 2, 'hidden_dim': 800}\n",
      "Epoch: 22/100, Val Loss: 638.0333, Pearson R: 0.2054, RMSE: 26.1330\n",
      "{'batch_size': 512, 'lr': 0.001, 'dropout': 0.5, 'lr_decay': 0.01, 'layers': 4, 'hidden_dim': 400}\n",
      "Epoch: 11/100, Val Loss: 631.4494, Pearson R: 0.2321, RMSE: 26.0109\n",
      "{'batch_size': 512, 'lr': 0.001, 'dropout': 0.5, 'lr_decay': 0.01, 'layers': 4, 'hidden_dim': 800}\n",
      "Epoch: 20/100, Val Loss: 636.5841, Pearson R: 0.2283, RMSE: 26.0971\n",
      "{'batch_size': 512, 'lr': 0.001, 'dropout': 0.5, 'lr_decay': 0.001, 'layers': 2, 'hidden_dim': 400}\n",
      "Epoch: 17/100, Val Loss: 652.8995, Pearson R: 0.2255, RMSE: 26.4035\n",
      "{'batch_size': 512, 'lr': 0.001, 'dropout': 0.5, 'lr_decay': 0.001, 'layers': 2, 'hidden_dim': 800}\n",
      "Epoch: 18/100, Val Loss: 654.7568, Pearson R: 0.2167, RMSE: 26.4524\n",
      "{'batch_size': 512, 'lr': 0.001, 'dropout': 0.5, 'lr_decay': 0.001, 'layers': 4, 'hidden_dim': 400}\n",
      "Epoch: 11/100, Val Loss: 643.6028, Pearson R: 0.2323, RMSE: 26.2269\n",
      "{'batch_size': 512, 'lr': 0.001, 'dropout': 0.5, 'lr_decay': 0.001, 'layers': 4, 'hidden_dim': 800}\n",
      "Epoch: 21/100, Val Loss: 658.0535, Pearson R: 0.2297, RMSE: 26.5048\n",
      "{'batch_size': 512, 'lr': 0.001, 'dropout': 0.5, 'lr_decay': 0.0001, 'layers': 2, 'hidden_dim': 400}\n",
      "Epoch: 13/100, Val Loss: 671.5998, Pearson R: 0.2270, RMSE: 26.7508\n",
      "{'batch_size': 512, 'lr': 0.001, 'dropout': 0.5, 'lr_decay': 0.0001, 'layers': 2, 'hidden_dim': 800}\n",
      "Epoch: 20/100, Val Loss: 638.2822, Pearson R: 0.2032, RMSE: 26.1398\n",
      "{'batch_size': 512, 'lr': 0.001, 'dropout': 0.5, 'lr_decay': 0.0001, 'layers': 4, 'hidden_dim': 400}\n",
      "Epoch: 15/100, Val Loss: 650.2181, Pearson R: 0.2326, RMSE: 26.3640\n",
      "{'batch_size': 512, 'lr': 0.001, 'dropout': 0.5, 'lr_decay': 0.0001, 'layers': 4, 'hidden_dim': 800}\n",
      "Epoch: 22/100, Val Loss: 631.9464, Pearson R: 0.2306, RMSE: 26.0286\n",
      "{'batch_size': 512, 'lr': 0.0001, 'dropout': 0.1, 'lr_decay': 0.1, 'layers': 2, 'hidden_dim': 400}\n",
      "Epoch: 52/100, Val Loss: 657.1306, Pearson R: 0.2296, RMSE: 26.4738\n",
      "{'batch_size': 512, 'lr': 0.0001, 'dropout': 0.1, 'lr_decay': 0.1, 'layers': 2, 'hidden_dim': 800}\n",
      "Epoch: 42/100, Val Loss: 654.6283, Pearson R: 0.2301, RMSE: 26.4286\n",
      "{'batch_size': 512, 'lr': 0.0001, 'dropout': 0.1, 'lr_decay': 0.1, 'layers': 4, 'hidden_dim': 400}\n",
      "Epoch: 44/100, Val Loss: 659.8638, Pearson R: 0.2325, RMSE: 26.5228\n",
      "{'batch_size': 512, 'lr': 0.0001, 'dropout': 0.1, 'lr_decay': 0.1, 'layers': 4, 'hidden_dim': 800}\n",
      "Epoch: 30/100, Val Loss: 657.5584, Pearson R: 0.2325, RMSE: 26.4788\n",
      "{'batch_size': 512, 'lr': 0.0001, 'dropout': 0.1, 'lr_decay': 0.01, 'layers': 2, 'hidden_dim': 400}\n",
      "Epoch: 49/100, Val Loss: 656.2071, Pearson R: 0.2280, RMSE: 26.4576\n",
      "{'batch_size': 512, 'lr': 0.0001, 'dropout': 0.1, 'lr_decay': 0.01, 'layers': 2, 'hidden_dim': 800}\n",
      "Epoch: 32/100, Val Loss: 648.8065, Pearson R: 0.2282, RMSE: 26.3251\n",
      "{'batch_size': 512, 'lr': 0.0001, 'dropout': 0.1, 'lr_decay': 0.01, 'layers': 4, 'hidden_dim': 400}\n",
      "Epoch: 43/100, Val Loss: 656.0882, Pearson R: 0.2322, RMSE: 26.4547\n",
      "{'batch_size': 512, 'lr': 0.0001, 'dropout': 0.1, 'lr_decay': 0.01, 'layers': 4, 'hidden_dim': 800}\n",
      "Epoch: 29/100, Val Loss: 658.8077, Pearson R: 0.2322, RMSE: 26.5056\n",
      "{'batch_size': 512, 'lr': 0.0001, 'dropout': 0.1, 'lr_decay': 0.001, 'layers': 2, 'hidden_dim': 400}\n",
      "Epoch: 48/100, Val Loss: 654.4279, Pearson R: 0.2282, RMSE: 26.4265\n",
      "{'batch_size': 512, 'lr': 0.0001, 'dropout': 0.1, 'lr_decay': 0.001, 'layers': 2, 'hidden_dim': 800}\n",
      "Epoch: 32/100, Val Loss: 649.7441, Pearson R: 0.2280, RMSE: 26.3417\n",
      "{'batch_size': 512, 'lr': 0.0001, 'dropout': 0.1, 'lr_decay': 0.001, 'layers': 4, 'hidden_dim': 400}\n",
      "Epoch: 34/100, Val Loss: 654.4714, Pearson R: 0.2315, RMSE: 26.4245\n",
      "{'batch_size': 512, 'lr': 0.0001, 'dropout': 0.1, 'lr_decay': 0.001, 'layers': 4, 'hidden_dim': 800}\n",
      "Epoch: 28/100, Val Loss: 659.8658, Pearson R: 0.2320, RMSE: 26.5226\n",
      "{'batch_size': 512, 'lr': 0.0001, 'dropout': 0.1, 'lr_decay': 0.0001, 'layers': 2, 'hidden_dim': 400}\n",
      "Epoch: 48/100, Val Loss: 656.3012, Pearson R: 0.2281, RMSE: 26.4601\n",
      "{'batch_size': 512, 'lr': 0.0001, 'dropout': 0.1, 'lr_decay': 0.0001, 'layers': 2, 'hidden_dim': 800}\n",
      "Epoch: 32/100, Val Loss: 651.3033, Pearson R: 0.2279, RMSE: 26.3700\n",
      "{'batch_size': 512, 'lr': 0.0001, 'dropout': 0.1, 'lr_decay': 0.0001, 'layers': 4, 'hidden_dim': 400}\n",
      "Epoch: 34/100, Val Loss: 658.0259, Pearson R: 0.2316, RMSE: 26.4898\n",
      "{'batch_size': 512, 'lr': 0.0001, 'dropout': 0.1, 'lr_decay': 0.0001, 'layers': 4, 'hidden_dim': 800}\n",
      "Epoch: 28/100, Val Loss: 658.0265, Pearson R: 0.2319, RMSE: 26.4875\n",
      "{'batch_size': 512, 'lr': 0.0001, 'dropout': 0.2, 'lr_decay': 0.1, 'layers': 2, 'hidden_dim': 400}\n",
      "Epoch: 56/100, Val Loss: 657.1369, Pearson R: 0.2291, RMSE: 26.4748\n",
      "{'batch_size': 512, 'lr': 0.0001, 'dropout': 0.2, 'lr_decay': 0.1, 'layers': 2, 'hidden_dim': 800}\n",
      "Epoch: 37/100, Val Loss: 657.8486, Pearson R: 0.2291, RMSE: 26.4879\n",
      "{'batch_size': 512, 'lr': 0.0001, 'dropout': 0.2, 'lr_decay': 0.1, 'layers': 4, 'hidden_dim': 400}\n",
      "Epoch: 48/100, Val Loss: 652.3115, Pearson R: 0.2322, RMSE: 26.3825\n",
      "{'batch_size': 512, 'lr': 0.0001, 'dropout': 0.2, 'lr_decay': 0.1, 'layers': 4, 'hidden_dim': 800}\n",
      "Epoch: 33/100, Val Loss: 655.3181, Pearson R: 0.2326, RMSE: 26.4391\n",
      "{'batch_size': 512, 'lr': 0.0001, 'dropout': 0.2, 'lr_decay': 0.01, 'layers': 2, 'hidden_dim': 400}\n",
      "Epoch: 52/100, Val Loss: 655.4708, Pearson R: 0.2278, RMSE: 26.4462\n",
      "{'batch_size': 512, 'lr': 0.0001, 'dropout': 0.2, 'lr_decay': 0.01, 'layers': 2, 'hidden_dim': 800}\n",
      "Epoch: 34/100, Val Loss: 649.4398, Pearson R: 0.2273, RMSE: 26.3359\n",
      "{'batch_size': 512, 'lr': 0.0001, 'dropout': 0.2, 'lr_decay': 0.01, 'layers': 4, 'hidden_dim': 400}\n",
      "Epoch: 48/100, Val Loss: 652.0933, Pearson R: 0.2320, RMSE: 26.3808\n",
      "{'batch_size': 512, 'lr': 0.0001, 'dropout': 0.2, 'lr_decay': 0.01, 'layers': 4, 'hidden_dim': 800}\n",
      "Epoch: 31/100, Val Loss: 661.2166, Pearson R: 0.2321, RMSE: 26.5487\n",
      "{'batch_size': 512, 'lr': 0.0001, 'dropout': 0.2, 'lr_decay': 0.001, 'layers': 2, 'hidden_dim': 400}\n",
      "Epoch: 52/100, Val Loss: 659.2889, Pearson R: 0.2274, RMSE: 26.5164\n",
      "{'batch_size': 512, 'lr': 0.0001, 'dropout': 0.2, 'lr_decay': 0.001, 'layers': 2, 'hidden_dim': 800}\n",
      "Epoch: 34/100, Val Loss: 652.3557, Pearson R: 0.2270, RMSE: 26.3879\n",
      "{'batch_size': 512, 'lr': 0.0001, 'dropout': 0.2, 'lr_decay': 0.001, 'layers': 4, 'hidden_dim': 400}\n",
      "Epoch: 47/100, Val Loss: 658.9700, Pearson R: 0.2319, RMSE: 26.5088\n",
      "{'batch_size': 512, 'lr': 0.0001, 'dropout': 0.2, 'lr_decay': 0.001, 'layers': 4, 'hidden_dim': 800}\n",
      "Epoch: 25/100, Val Loss: 655.0674, Pearson R: 0.2310, RMSE: 26.4341\n",
      "{'batch_size': 512, 'lr': 0.0001, 'dropout': 0.2, 'lr_decay': 0.0001, 'layers': 2, 'hidden_dim': 400}\n",
      "Epoch: 52/100, Val Loss: 657.2590, Pearson R: 0.2277, RMSE: 26.4777\n",
      "{'batch_size': 512, 'lr': 0.0001, 'dropout': 0.2, 'lr_decay': 0.0001, 'layers': 2, 'hidden_dim': 800}\n",
      "Epoch: 34/100, Val Loss: 657.6707, Pearson R: 0.2270, RMSE: 26.4864\n",
      "{'batch_size': 512, 'lr': 0.0001, 'dropout': 0.2, 'lr_decay': 0.0001, 'layers': 4, 'hidden_dim': 400}\n",
      "Epoch: 46/100, Val Loss: 657.4246, Pearson R: 0.2316, RMSE: 26.4791\n",
      "{'batch_size': 512, 'lr': 0.0001, 'dropout': 0.2, 'lr_decay': 0.0001, 'layers': 4, 'hidden_dim': 800}\n",
      "Epoch: 25/100, Val Loss: 653.7455, Pearson R: 0.2309, RMSE: 26.4086\n",
      "{'batch_size': 512, 'lr': 0.0001, 'dropout': 0.3, 'lr_decay': 0.1, 'layers': 2, 'hidden_dim': 400}\n",
      "Epoch: 59/100, Val Loss: 653.8569, Pearson R: 0.2290, RMSE: 26.4145\n",
      "{'batch_size': 512, 'lr': 0.0001, 'dropout': 0.3, 'lr_decay': 0.1, 'layers': 2, 'hidden_dim': 800}\n",
      "Epoch: 45/100, Val Loss: 652.9698, Pearson R: 0.2288, RMSE: 26.3957\n",
      "{'batch_size': 512, 'lr': 0.0001, 'dropout': 0.3, 'lr_decay': 0.1, 'layers': 4, 'hidden_dim': 400}\n",
      "Epoch: 54/100, Val Loss: 658.1205, Pearson R: 0.2322, RMSE: 26.4920\n",
      "{'batch_size': 512, 'lr': 0.0001, 'dropout': 0.3, 'lr_decay': 0.1, 'layers': 4, 'hidden_dim': 800}\n",
      "Epoch: 28/100, Val Loss: 657.7596, Pearson R: 0.2321, RMSE: 26.4854\n",
      "{'batch_size': 512, 'lr': 0.0001, 'dropout': 0.3, 'lr_decay': 0.01, 'layers': 2, 'hidden_dim': 400}\n"
     ]
    },
    {
     "name": "stdout",
     "output_type": "stream",
     "text": [
      "Epoch: 56/100, Val Loss: 656.7087, Pearson R: 0.2272, RMSE: 26.4686\n",
      "{'batch_size': 512, 'lr': 0.0001, 'dropout': 0.3, 'lr_decay': 0.01, 'layers': 2, 'hidden_dim': 800}\n",
      "Epoch: 36/100, Val Loss: 650.7452, Pearson R: 0.2273, RMSE: 26.3608\n",
      "{'batch_size': 512, 'lr': 0.0001, 'dropout': 0.3, 'lr_decay': 0.01, 'layers': 4, 'hidden_dim': 400}\n",
      "Epoch: 52/100, Val Loss: 655.8754, Pearson R: 0.2317, RMSE: 26.4505\n",
      "{'batch_size': 512, 'lr': 0.0001, 'dropout': 0.3, 'lr_decay': 0.01, 'layers': 4, 'hidden_dim': 800}\n",
      "Epoch: 27/100, Val Loss: 659.4454, Pearson R: 0.2312, RMSE: 26.5163\n",
      "{'batch_size': 512, 'lr': 0.0001, 'dropout': 0.3, 'lr_decay': 0.001, 'layers': 2, 'hidden_dim': 400}\n",
      "Epoch: 55/100, Val Loss: 656.5369, Pearson R: 0.2270, RMSE: 26.4662\n",
      "{'batch_size': 512, 'lr': 0.0001, 'dropout': 0.3, 'lr_decay': 0.001, 'layers': 2, 'hidden_dim': 800}\n",
      "Epoch: 36/100, Val Loss: 657.9962, Pearson R: 0.2265, RMSE: 26.4924\n",
      "{'batch_size': 512, 'lr': 0.0001, 'dropout': 0.3, 'lr_decay': 0.001, 'layers': 4, 'hidden_dim': 400}\n",
      "Epoch: 51/100, Val Loss: 653.9142, Pearson R: 0.2316, RMSE: 26.4142\n",
      "{'batch_size': 512, 'lr': 0.0001, 'dropout': 0.3, 'lr_decay': 0.001, 'layers': 4, 'hidden_dim': 800}\n",
      "Epoch: 33/100, Val Loss: 655.2761, Pearson R: 0.2314, RMSE: 26.4367\n",
      "{'batch_size': 512, 'lr': 0.0001, 'dropout': 0.3, 'lr_decay': 0.0001, 'layers': 2, 'hidden_dim': 400}\n",
      "Epoch: 55/100, Val Loss: 653.2606, Pearson R: 0.2270, RMSE: 26.4057\n",
      "{'batch_size': 512, 'lr': 0.0001, 'dropout': 0.3, 'lr_decay': 0.0001, 'layers': 2, 'hidden_dim': 800}\n",
      "Epoch: 36/100, Val Loss: 656.3882, Pearson R: 0.2263, RMSE: 26.4628\n",
      "{'batch_size': 512, 'lr': 0.0001, 'dropout': 0.3, 'lr_decay': 0.0001, 'layers': 4, 'hidden_dim': 400}\n",
      "Epoch: 52/100, Val Loss: 652.1456, Pearson R: 0.2318, RMSE: 26.3826\n",
      "{'batch_size': 512, 'lr': 0.0001, 'dropout': 0.3, 'lr_decay': 0.0001, 'layers': 4, 'hidden_dim': 800}\n",
      "Epoch: 33/100, Val Loss: 657.6412, Pearson R: 0.2318, RMSE: 26.4819\n",
      "{'batch_size': 512, 'lr': 0.0001, 'dropout': 0.4, 'lr_decay': 0.1, 'layers': 2, 'hidden_dim': 400}\n",
      "Epoch: 63/100, Val Loss: 653.3666, Pearson R: 0.2285, RMSE: 26.4054\n",
      "{'batch_size': 512, 'lr': 0.0001, 'dropout': 0.4, 'lr_decay': 0.1, 'layers': 2, 'hidden_dim': 800}\n",
      "Epoch: 41/100, Val Loss: 658.3884, Pearson R: 0.2284, RMSE: 26.4979\n",
      "{'batch_size': 512, 'lr': 0.0001, 'dropout': 0.4, 'lr_decay': 0.1, 'layers': 4, 'hidden_dim': 400}\n",
      "Epoch: 60/100, Val Loss: 654.5821, Pearson R: 0.2321, RMSE: 26.4257\n",
      "{'batch_size': 512, 'lr': 0.0001, 'dropout': 0.4, 'lr_decay': 0.1, 'layers': 4, 'hidden_dim': 800}\n",
      "Epoch: 31/100, Val Loss: 659.7086, Pearson R: 0.2319, RMSE: 26.5211\n",
      "{'batch_size': 512, 'lr': 0.0001, 'dropout': 0.4, 'lr_decay': 0.01, 'layers': 2, 'hidden_dim': 400}\n",
      "Epoch: 59/100, Val Loss: 654.2057, Pearson R: 0.2269, RMSE: 26.4222\n",
      "{'batch_size': 512, 'lr': 0.0001, 'dropout': 0.4, 'lr_decay': 0.01, 'layers': 2, 'hidden_dim': 800}\n",
      "Epoch: 38/100, Val Loss: 651.0208, Pearson R: 0.2271, RMSE: 26.3666\n",
      "{'batch_size': 512, 'lr': 0.0001, 'dropout': 0.4, 'lr_decay': 0.01, 'layers': 4, 'hidden_dim': 400}\n",
      "Epoch: 47/100, Val Loss: 653.3687, Pearson R: 0.2306, RMSE: 26.4046\n",
      "{'batch_size': 512, 'lr': 0.0001, 'dropout': 0.4, 'lr_decay': 0.01, 'layers': 4, 'hidden_dim': 800}\n",
      "Epoch: 36/100, Val Loss: 649.8190, Pearson R: 0.2316, RMSE: 26.3360\n",
      "{'batch_size': 512, 'lr': 0.0001, 'dropout': 0.4, 'lr_decay': 0.001, 'layers': 2, 'hidden_dim': 400}\n",
      "Epoch: 58/100, Val Loss: 653.3103, Pearson R: 0.2270, RMSE: 26.4079\n",
      "{'batch_size': 512, 'lr': 0.0001, 'dropout': 0.4, 'lr_decay': 0.001, 'layers': 2, 'hidden_dim': 800}\n",
      "Epoch: 37/100, Val Loss: 649.1337, Pearson R: 0.2269, RMSE: 26.3313\n",
      "{'batch_size': 512, 'lr': 0.0001, 'dropout': 0.4, 'lr_decay': 0.001, 'layers': 4, 'hidden_dim': 400}\n",
      "Epoch: 57/100, Val Loss: 653.7317, Pearson R: 0.2316, RMSE: 26.4114\n",
      "{'batch_size': 512, 'lr': 0.0001, 'dropout': 0.4, 'lr_decay': 0.001, 'layers': 4, 'hidden_dim': 800}\n",
      "Epoch: 37/100, Val Loss: 659.0728, Pearson R: 0.2318, RMSE: 26.5120\n",
      "{'batch_size': 512, 'lr': 0.0001, 'dropout': 0.4, 'lr_decay': 0.0001, 'layers': 2, 'hidden_dim': 400}\n",
      "Epoch: 58/100, Val Loss: 653.8265, Pearson R: 0.2269, RMSE: 26.4164\n",
      "{'batch_size': 512, 'lr': 0.0001, 'dropout': 0.4, 'lr_decay': 0.0001, 'layers': 2, 'hidden_dim': 800}\n",
      "Epoch: 37/100, Val Loss: 648.6655, Pearson R: 0.2267, RMSE: 26.3223\n",
      "{'batch_size': 512, 'lr': 0.0001, 'dropout': 0.4, 'lr_decay': 0.0001, 'layers': 4, 'hidden_dim': 400}\n",
      "Epoch: 48/100, Val Loss: 657.8972, Pearson R: 0.2311, RMSE: 26.4883\n",
      "{'batch_size': 512, 'lr': 0.0001, 'dropout': 0.4, 'lr_decay': 0.0001, 'layers': 4, 'hidden_dim': 800}\n",
      "Epoch: 38/100, Val Loss: 652.9742, Pearson R: 0.2317, RMSE: 26.3986\n",
      "{'batch_size': 512, 'lr': 0.0001, 'dropout': 0.5, 'lr_decay': 0.1, 'layers': 2, 'hidden_dim': 400}\n",
      "Epoch: 68/100, Val Loss: 654.8785, Pearson R: 0.2280, RMSE: 26.4331\n",
      "{'batch_size': 512, 'lr': 0.0001, 'dropout': 0.5, 'lr_decay': 0.1, 'layers': 2, 'hidden_dim': 800}\n",
      "Epoch: 43/100, Val Loss: 656.9615, Pearson R: 0.2285, RMSE: 26.4733\n",
      "{'batch_size': 512, 'lr': 0.0001, 'dropout': 0.5, 'lr_decay': 0.1, 'layers': 4, 'hidden_dim': 400}\n",
      "Epoch: 59/100, Val Loss: 655.0424, Pearson R: 0.2314, RMSE: 26.4329\n",
      "{'batch_size': 512, 'lr': 0.0001, 'dropout': 0.5, 'lr_decay': 0.1, 'layers': 4, 'hidden_dim': 800}\n",
      "Epoch: 43/100, Val Loss: 657.4100, Pearson R: 0.2324, RMSE: 26.4800\n",
      "{'batch_size': 512, 'lr': 0.0001, 'dropout': 0.5, 'lr_decay': 0.01, 'layers': 2, 'hidden_dim': 400}\n",
      "Epoch: 64/100, Val Loss: 652.6536, Pearson R: 0.2262, RMSE: 26.3926\n",
      "{'batch_size': 512, 'lr': 0.0001, 'dropout': 0.5, 'lr_decay': 0.01, 'layers': 2, 'hidden_dim': 800}\n",
      "Epoch: 40/100, Val Loss: 648.4247, Pearson R: 0.2264, RMSE: 26.3186\n",
      "{'batch_size': 512, 'lr': 0.0001, 'dropout': 0.5, 'lr_decay': 0.01, 'layers': 4, 'hidden_dim': 400}\n",
      "Epoch: 62/100, Val Loss: 654.7092, Pearson R: 0.2315, RMSE: 26.4301\n",
      "{'batch_size': 512, 'lr': 0.0001, 'dropout': 0.5, 'lr_decay': 0.01, 'layers': 4, 'hidden_dim': 800}\n",
      "Epoch: 41/100, Val Loss: 651.7897, Pearson R: 0.2318, RMSE: 26.3755\n",
      "{'batch_size': 512, 'lr': 0.0001, 'dropout': 0.5, 'lr_decay': 0.001, 'layers': 2, 'hidden_dim': 400}\n",
      "Epoch: 63/100, Val Loss: 655.3979, Pearson R: 0.2258, RMSE: 26.4449\n",
      "{'batch_size': 512, 'lr': 0.0001, 'dropout': 0.5, 'lr_decay': 0.001, 'layers': 2, 'hidden_dim': 800}\n",
      "Epoch: 40/100, Val Loss: 650.7426, Pearson R: 0.2256, RMSE: 26.3591\n",
      "{'batch_size': 512, 'lr': 0.0001, 'dropout': 0.5, 'lr_decay': 0.001, 'layers': 4, 'hidden_dim': 400}\n",
      "Epoch: 57/100, Val Loss: 654.7253, Pearson R: 0.2306, RMSE: 26.4270\n",
      "{'batch_size': 512, 'lr': 0.0001, 'dropout': 0.5, 'lr_decay': 0.001, 'layers': 4, 'hidden_dim': 800}\n",
      "Epoch: 33/100, Val Loss: 650.6646, Pearson R: 0.2307, RMSE: 26.3525\n",
      "{'batch_size': 512, 'lr': 0.0001, 'dropout': 0.5, 'lr_decay': 0.0001, 'layers': 2, 'hidden_dim': 400}\n",
      "Epoch: 62/100, Val Loss: 655.2383, Pearson R: 0.2266, RMSE: 26.4432\n",
      "{'batch_size': 512, 'lr': 0.0001, 'dropout': 0.5, 'lr_decay': 0.0001, 'layers': 2, 'hidden_dim': 800}\n",
      "Epoch: 39/100, Val Loss: 651.5984, Pearson R: 0.2262, RMSE: 26.3780\n",
      "{'batch_size': 512, 'lr': 0.0001, 'dropout': 0.5, 'lr_decay': 0.0001, 'layers': 4, 'hidden_dim': 400}\n",
      "Epoch: 54/100, Val Loss: 654.7491, Pearson R: 0.2306, RMSE: 26.4301\n",
      "{'batch_size': 512, 'lr': 0.0001, 'dropout': 0.5, 'lr_decay': 0.0001, 'layers': 4, 'hidden_dim': 800}\n",
      "Epoch: 32/100, Val Loss: 649.1722, Pearson R: 0.2311, RMSE: 26.3276\n",
      "PT\n",
      "outcome DOS\n"
     ]
    }
   ],
   "source": [
    "#Hyperparameter selection for pre-training\n",
    "\n",
    "# Hyperparameter grid\n",
    "grid_search = {\n",
    "    'batch_size': [512],\n",
    "    'lr': [1e-1, 1e-2, 1e-3, 1e-4],\n",
    "    'dropout': [0.1, 0.2, 0.3, 0.4, 0.5],\n",
    "    'lr_decay': [1e-1, 1e-2, 1e-3, 1e-4],\n",
    "    'layers': [2, 4],\n",
    "    'hidden_dim': [400, 800]\n",
    "}\n",
    "\n",
    "# Generate all combinations of hyperparameters\n",
    "all_params = [dict(zip(grid_search.keys(), values)) for values in product(*grid_search.values())]\n",
    "\n",
    "num_layers_arr = []\n",
    "dropout_arr = []\n",
    "lr_arr = []\n",
    "lr_decay_arr = []\n",
    "hidden_dim_arr = []\n",
    "batch_size_arr = []\n",
    "split_num_arr = []\n",
    "loss_arr = []\n",
    "for i in tqdm(outcome_list):\n",
    "    overall_best_params[i] = {'PT': {}}\n",
    "\n",
    "    maternal_IDs = patient_indices_PTMODEL['sample_ID'].str[0:7].unique()\n",
    "    \n",
    "    kf = KFold(n_splits=3, shuffle=True, random_state=42)\n",
    "    split_num = 0\n",
    "    for train_index, test_index in kf.split(maternal_IDs):\n",
    "        split_num += 1\n",
    "        results_dict = {}\n",
    "        train_IDs = maternal_IDs[train_index]\n",
    "        test_IDs = maternal_IDs[test_index]\n",
    "        \n",
    "        sample_size = int(0.2 * len(train_index))\n",
    "        random_indices = np.random.choice(train_IDs.shape[0], sample_size, replace=False)\n",
    "        val_IDs = train_IDs[random_indices]\n",
    "        train_IDs = np.delete(train_IDs, random_indices)\n",
    "        \n",
    "        patient_indices_PTMODEL['maternal_ID'] = patient_indices_PTMODEL['sample_ID'].str[0:7]\n",
    "\n",
    "        train_indices = patient_indices_PTMODEL[patient_indices_PTMODEL['maternal_ID'].isin(train_IDs)]['array_index'].values\n",
    "        np.random.shuffle(train_indices)\n",
    "        test_indices = patient_indices_PTMODEL[patient_indices_PTMODEL['maternal_ID'].isin(test_IDs)]['array_index'].values\n",
    "        val_indices = patient_indices_PTMODEL[patient_indices_PTMODEL['maternal_ID'].isin(val_IDs)]['array_index'].values\n",
    "\n",
    "        # Iterate through the hyperparameter combinations\n",
    "        for param_set in tqdm(all_params):\n",
    "            bs = param_set['batch_size']\n",
    "            lr = param_set['lr']\n",
    "            dropout = param_set['dropout']\n",
    "            lr_decay = param_set['lr_decay']\n",
    "            layers = param_set['layers']\n",
    "            hidden_dim = param_set['hidden_dim']\n",
    "            \n",
    "            model_name = 'PT_MODEL_{}_{}_{}_{}_{}_noHCE_with_obs'.format(layers,lr,lr_decay,dropout, hidden_dim)\n",
    "            print(param_set)\n",
    "            val_r, val_loss, val_rmse = run_experiment(RNN_data_codes_PTMODEL, OOL_proteomics,\n",
    "            patient_indices_PTMODEL, RNN_data_outcomes_PTMODEL, RNN_data_lengths_PTMODEL, model_name, \n",
    "            lr, lr_decay, bs, train_indices=train_indices, test_indices=test_indices,\n",
    "                                                       val_indices=val_indices,feature_types='EHR', model_path='', fine_tune=False, seed=42, \n",
    "            hidden_dim=hidden_dim, num_layers=layers, dropout=dropout, hyperparam_tuning=True)\n",
    "            num_layers_arr.append(layers)\n",
    "            dropout_arr.append(dropout)\n",
    "            lr_arr.append(lr)\n",
    "            lr_decay_arr.append(lr_decay)\n",
    "            hidden_dim_arr.append(hidden_dim)\n",
    "            batch_size_arr.append(bs)\n",
    "            split_num_arr.append(split_num)\n",
    "            loss_arr.append(val_loss)\n",
    "\n",
    "        print('PT')\n",
    "        print('outcome {}'.format(i))"
   ]
  },
  {
   "cell_type": "code",
   "execution_count": 71,
   "id": "3f4fb602",
   "metadata": {},
   "outputs": [
    {
     "name": "stdout",
     "output_type": "stream",
     "text": [
      "431.3943786621094\n"
     ]
    }
   ],
   "source": [
    "hyperparam_df = pd.DataFrame([num_layers_arr, dropout_arr, lr_arr, lr_decay_arr, hidden_dim_arr, batch_size_arr, split_num_arr,loss_arr]).T\n",
    "hyperparam_df.columns = ['num_layers','dropout','lr','lr_decay','hidden_dim','bs','split_num','val_loss']\n",
    "hyperparam_df = hyperparam_df.groupby(['num_layers','dropout','lr','lr_decay','hidden_dim','bs']).mean()\n",
    "num_layers, dropout, lr, lr_decay, hidden_dim, bs = hyperparam_df['val_loss'].idxmin()\n",
    "print(np.min(hyperparam_df['val_loss']))\n",
    "model_name = 'PT_MODEL_{}_{}_{}_{}_{}_noHCE_with_obs'.format(num_layers,lr,lr_decay,dropout, hidden_dim)\n",
    "overall_best_params['DOS']['PT'] = {'num_layers': int(num_layers),'lr': lr,'lr_decay': lr_decay, 'dropout': dropout,\n",
    "                                'hidden_dim': int(hidden_dim), 'batch_size': int(bs), 'model_name': model_name}\n",
    "with open(\"./models/hyperparameters/best_hyperparams_OOL_noHCE_with_obs.pkl\", \"wb\") as f:\n",
    "        pickle.dump(overall_best_params, f)"
   ]
  },
  {
   "cell_type": "code",
   "execution_count": 72,
   "id": "1da9fb0e",
   "metadata": {},
   "outputs": [
    {
     "data": {
      "text/plain": [
       "(4, 0.1, 400, 'PT_MODEL_4.0_0.01_0.01_0.1_400.0_noHCE_with_obs')"
      ]
     },
     "execution_count": 72,
     "metadata": {},
     "output_type": "execute_result"
    }
   ],
   "source": [
    "best_num_layers = overall_best_params['DOS']['PT']['num_layers']\n",
    "best_dropout = overall_best_params['DOS']['PT']['dropout']\n",
    "best_model_name = overall_best_params['DOS']['PT']['model_name']\n",
    "best_hidden_dim = overall_best_params['DOS']['PT']['hidden_dim']\n",
    "best_num_layers, best_dropout, best_hidden_dim, best_model_name"
   ]
  },
  {
   "cell_type": "code",
   "execution_count": 73,
   "id": "a656d193",
   "metadata": {},
   "outputs": [
    {
     "name": "stdout",
     "output_type": "stream",
     "text": [
      "Epoch: 6/100, Val Loss: 685.1194, Pearson R: 0.0604, RMSE: 26.8254\n"
     ]
    }
   ],
   "source": [
    "#create PT model\n",
    "val_r, val_loss, val_rmse = run_experiment(RNN_data_codes_PTMODEL, OOL_proteomics,\n",
    "    patient_indices_PTMODEL, RNN_data_outcomes_PTMODEL, RNN_data_lengths_PTMODEL, best_model_name, \n",
    "    overall_best_params['DOS']['PT']['lr'], overall_best_params['DOS']['PT']['lr_decay'],\n",
    "       overall_best_params['DOS']['PT']['batch_size'], feature_types='EHR', model_path='', fine_tune=False, seed=42, \n",
    "    hidden_dim=best_hidden_dim, num_layers=best_num_layers, dropout=best_dropout, hyperparam_tuning=False)"
   ]
  },
  {
   "cell_type": "code",
   "execution_count": 74,
   "id": "64caed26",
   "metadata": {},
   "outputs": [],
   "source": [
    "#grid for EHR baseline hyperparam search\n",
    "grid_search = {\n",
    "    'batch_size': [16],\n",
    "    'lr': [1e-1, 1e-2, 1e-3, 1e-4],\n",
    "    'dropout': [0.1, 0.2, 0.3, 0.4, 0.5],\n",
    "    'lr_decay': [1e-1, 1e-2, 1e-3, 1e-4],\n",
    "    'layers': [2, 4],\n",
    "    'hidden_dim': [400, 800]\n",
    "}\n",
    "all_params = [dict(zip(grid_search.keys(), values)) for values in product(*grid_search.values())]"
   ]
  },
  {
   "cell_type": "code",
   "execution_count": null,
   "id": "d2e09b33",
   "metadata": {},
   "outputs": [
    {
     "data": {
      "application/vnd.jupyter.widget-view+json": {
       "model_id": "d9b6565aac604445aa031636bd63236f",
       "version_major": 2,
       "version_minor": 0
      },
      "text/plain": [
       "  0%|          | 0/1 [00:00<?, ?it/s]"
      ]
     },
     "metadata": {},
     "output_type": "display_data"
    },
    {
     "data": {
      "application/vnd.jupyter.widget-view+json": {
       "model_id": "b3e8bb4a4d35475db09828c1e4e7a613",
       "version_major": 2,
       "version_minor": 0
      },
      "text/plain": [
       "  0%|          | 0/320 [00:00<?, ?it/s]"
      ]
     },
     "metadata": {},
     "output_type": "display_data"
    },
    {
     "name": "stdout",
     "output_type": "stream",
     "text": [
      "{'batch_size': 16, 'lr': 0.1, 'dropout': 0.1, 'lr_decay': 0.1, 'layers': 2, 'hidden_dim': 400}\n"
     ]
    },
    {
     "name": "stderr",
     "output_type": "stream",
     "text": [
      "/home/samsonm/miniconda3/envs/multi_modal_DL/lib/python3.10/site-packages/scipy/stats/_stats_py.py:4424: ConstantInputWarning: An input array is constant; the correlation coefficient is not defined.\n",
      "  warnings.warn(stats.ConstantInputWarning(msg))\n"
     ]
    },
    {
     "name": "stdout",
     "output_type": "stream",
     "text": [
      "Epoch: 19/100, Val Loss: 3590.5420, Pearson R: nan, RMSE: 73.3315\n",
      "{'batch_size': 16, 'lr': 0.1, 'dropout': 0.1, 'lr_decay': 0.1, 'layers': 2, 'hidden_dim': 800}\n"
     ]
    },
    {
     "name": "stderr",
     "output_type": "stream",
     "text": [
      "/home/samsonm/miniconda3/envs/multi_modal_DL/lib/python3.10/site-packages/scipy/stats/_stats_py.py:4424: ConstantInputWarning: An input array is constant; the correlation coefficient is not defined.\n",
      "  warnings.warn(stats.ConstantInputWarning(msg))\n"
     ]
    },
    {
     "name": "stdout",
     "output_type": "stream",
     "text": [
      "Epoch: 10/100, Val Loss: 3603.4688, Pearson R: nan, RMSE: 73.4196\n",
      "{'batch_size': 16, 'lr': 0.1, 'dropout': 0.1, 'lr_decay': 0.1, 'layers': 4, 'hidden_dim': 400}\n"
     ]
    },
    {
     "name": "stderr",
     "output_type": "stream",
     "text": [
      "/home/samsonm/miniconda3/envs/multi_modal_DL/lib/python3.10/site-packages/scipy/stats/_stats_py.py:4424: ConstantInputWarning: An input array is constant; the correlation coefficient is not defined.\n",
      "  warnings.warn(stats.ConstantInputWarning(msg))\n"
     ]
    },
    {
     "name": "stdout",
     "output_type": "stream",
     "text": [
      "Epoch: 11/100, Val Loss: 4353.5283, Pearson R: nan, RMSE: 78.3613\n",
      "{'batch_size': 16, 'lr': 0.1, 'dropout': 0.1, 'lr_decay': 0.1, 'layers': 4, 'hidden_dim': 800}\n"
     ]
    },
    {
     "name": "stderr",
     "output_type": "stream",
     "text": [
      "/home/samsonm/miniconda3/envs/multi_modal_DL/lib/python3.10/site-packages/scipy/stats/_stats_py.py:4424: ConstantInputWarning: An input array is constant; the correlation coefficient is not defined.\n",
      "  warnings.warn(stats.ConstantInputWarning(msg))\n"
     ]
    },
    {
     "name": "stdout",
     "output_type": "stream",
     "text": [
      "Epoch: 19/100, Val Loss: 3910.1392, Pearson R: nan, RMSE: 75.4791\n",
      "{'batch_size': 16, 'lr': 0.1, 'dropout': 0.1, 'lr_decay': 0.01, 'layers': 2, 'hidden_dim': 400}\n"
     ]
    },
    {
     "name": "stderr",
     "output_type": "stream",
     "text": [
      "/home/samsonm/miniconda3/envs/multi_modal_DL/lib/python3.10/site-packages/scipy/stats/_stats_py.py:4424: ConstantInputWarning: An input array is constant; the correlation coefficient is not defined.\n",
      "  warnings.warn(stats.ConstantInputWarning(msg))\n"
     ]
    },
    {
     "name": "stdout",
     "output_type": "stream",
     "text": [
      "Epoch: 18/100, Val Loss: 3581.2695, Pearson R: nan, RMSE: 73.2682\n",
      "{'batch_size': 16, 'lr': 0.1, 'dropout': 0.1, 'lr_decay': 0.01, 'layers': 2, 'hidden_dim': 800}\n"
     ]
    },
    {
     "name": "stderr",
     "output_type": "stream",
     "text": [
      "/home/samsonm/miniconda3/envs/multi_modal_DL/lib/python3.10/site-packages/scipy/stats/_stats_py.py:4424: ConstantInputWarning: An input array is constant; the correlation coefficient is not defined.\n",
      "  warnings.warn(stats.ConstantInputWarning(msg))\n"
     ]
    },
    {
     "name": "stdout",
     "output_type": "stream",
     "text": [
      "Epoch: 9/100, Val Loss: 42406.4688, Pearson R: nan, RMSE: 210.2223\n",
      "{'batch_size': 16, 'lr': 0.1, 'dropout': 0.1, 'lr_decay': 0.01, 'layers': 4, 'hidden_dim': 400}\n"
     ]
    },
    {
     "name": "stderr",
     "output_type": "stream",
     "text": [
      "/home/samsonm/miniconda3/envs/multi_modal_DL/lib/python3.10/site-packages/scipy/stats/_stats_py.py:4424: ConstantInputWarning: An input array is constant; the correlation coefficient is not defined.\n",
      "  warnings.warn(stats.ConstantInputWarning(msg))\n"
     ]
    },
    {
     "name": "stdout",
     "output_type": "stream",
     "text": [
      "Epoch: 15/100, Val Loss: 4311.2939, Pearson R: nan, RMSE: 78.0913\n",
      "{'batch_size': 16, 'lr': 0.1, 'dropout': 0.1, 'lr_decay': 0.01, 'layers': 4, 'hidden_dim': 800}\n"
     ]
    },
    {
     "name": "stderr",
     "output_type": "stream",
     "text": [
      "/home/samsonm/miniconda3/envs/multi_modal_DL/lib/python3.10/site-packages/scipy/stats/_stats_py.py:4424: ConstantInputWarning: An input array is constant; the correlation coefficient is not defined.\n",
      "  warnings.warn(stats.ConstantInputWarning(msg))\n"
     ]
    },
    {
     "name": "stdout",
     "output_type": "stream",
     "text": [
      "Epoch: 15/100, Val Loss: 3578.1987, Pearson R: nan, RMSE: 73.2473\n",
      "{'batch_size': 16, 'lr': 0.1, 'dropout': 0.1, 'lr_decay': 0.001, 'layers': 2, 'hidden_dim': 400}\n"
     ]
    },
    {
     "name": "stderr",
     "output_type": "stream",
     "text": [
      "/home/samsonm/miniconda3/envs/multi_modal_DL/lib/python3.10/site-packages/scipy/stats/_stats_py.py:4424: ConstantInputWarning: An input array is constant; the correlation coefficient is not defined.\n",
      "  warnings.warn(stats.ConstantInputWarning(msg))\n"
     ]
    },
    {
     "name": "stdout",
     "output_type": "stream",
     "text": [
      "Epoch: 23/100, Val Loss: 4156.8750, Pearson R: nan, RMSE: 77.0963\n",
      "{'batch_size': 16, 'lr': 0.1, 'dropout': 0.1, 'lr_decay': 0.001, 'layers': 2, 'hidden_dim': 800}\n"
     ]
    },
    {
     "name": "stderr",
     "output_type": "stream",
     "text": [
      "/home/samsonm/miniconda3/envs/multi_modal_DL/lib/python3.10/site-packages/scipy/stats/_stats_py.py:4424: ConstantInputWarning: An input array is constant; the correlation coefficient is not defined.\n",
      "  warnings.warn(stats.ConstantInputWarning(msg))\n"
     ]
    },
    {
     "name": "stdout",
     "output_type": "stream",
     "text": [
      "Epoch: 22/100, Val Loss: 3693.5503, Pearson R: nan, RMSE: 74.0305\n",
      "{'batch_size': 16, 'lr': 0.1, 'dropout': 0.1, 'lr_decay': 0.001, 'layers': 4, 'hidden_dim': 400}\n"
     ]
    },
    {
     "name": "stderr",
     "output_type": "stream",
     "text": [
      "/home/samsonm/miniconda3/envs/multi_modal_DL/lib/python3.10/site-packages/scipy/stats/_stats_py.py:4424: ConstantInputWarning: An input array is constant; the correlation coefficient is not defined.\n",
      "  warnings.warn(stats.ConstantInputWarning(msg))\n"
     ]
    },
    {
     "name": "stdout",
     "output_type": "stream",
     "text": [
      "Epoch: 7/100, Val Loss: 4996.4287, Pearson R: nan, RMSE: 82.3613\n",
      "{'batch_size': 16, 'lr': 0.1, 'dropout': 0.1, 'lr_decay': 0.001, 'layers': 4, 'hidden_dim': 800}\n"
     ]
    },
    {
     "name": "stderr",
     "output_type": "stream",
     "text": [
      "/home/samsonm/miniconda3/envs/multi_modal_DL/lib/python3.10/site-packages/scipy/stats/_stats_py.py:4424: ConstantInputWarning: An input array is constant; the correlation coefficient is not defined.\n",
      "  warnings.warn(stats.ConstantInputWarning(msg))\n"
     ]
    },
    {
     "name": "stdout",
     "output_type": "stream",
     "text": [
      "Epoch: 8/100, Val Loss: 67213.7734, Pearson R: nan, RMSE: 262.6799\n",
      "{'batch_size': 16, 'lr': 0.1, 'dropout': 0.1, 'lr_decay': 0.0001, 'layers': 2, 'hidden_dim': 400}\n"
     ]
    },
    {
     "name": "stderr",
     "output_type": "stream",
     "text": [
      "/home/samsonm/miniconda3/envs/multi_modal_DL/lib/python3.10/site-packages/scipy/stats/_stats_py.py:4424: ConstantInputWarning: An input array is constant; the correlation coefficient is not defined.\n",
      "  warnings.warn(stats.ConstantInputWarning(msg))\n"
     ]
    },
    {
     "name": "stdout",
     "output_type": "stream",
     "text": [
      "Epoch: 24/100, Val Loss: 3672.4324, Pearson R: nan, RMSE: 73.8877\n",
      "{'batch_size': 16, 'lr': 0.1, 'dropout': 0.1, 'lr_decay': 0.0001, 'layers': 2, 'hidden_dim': 800}\n"
     ]
    },
    {
     "name": "stderr",
     "output_type": "stream",
     "text": [
      "/home/samsonm/miniconda3/envs/multi_modal_DL/lib/python3.10/site-packages/scipy/stats/_stats_py.py:4424: ConstantInputWarning: An input array is constant; the correlation coefficient is not defined.\n",
      "  warnings.warn(stats.ConstantInputWarning(msg))\n"
     ]
    },
    {
     "name": "stdout",
     "output_type": "stream",
     "text": [
      "Epoch: 17/100, Val Loss: 5233.6108, Pearson R: nan, RMSE: 83.7889\n",
      "{'batch_size': 16, 'lr': 0.1, 'dropout': 0.1, 'lr_decay': 0.0001, 'layers': 4, 'hidden_dim': 400}\n"
     ]
    },
    {
     "name": "stderr",
     "output_type": "stream",
     "text": [
      "/home/samsonm/miniconda3/envs/multi_modal_DL/lib/python3.10/site-packages/scipy/stats/_stats_py.py:4424: ConstantInputWarning: An input array is constant; the correlation coefficient is not defined.\n",
      "  warnings.warn(stats.ConstantInputWarning(msg))\n"
     ]
    },
    {
     "name": "stdout",
     "output_type": "stream",
     "text": [
      "Epoch: 7/100, Val Loss: 3888.3289, Pearson R: nan, RMSE: 75.3345\n",
      "{'batch_size': 16, 'lr': 0.1, 'dropout': 0.1, 'lr_decay': 0.0001, 'layers': 4, 'hidden_dim': 800}\n"
     ]
    },
    {
     "name": "stderr",
     "output_type": "stream",
     "text": [
      "/home/samsonm/miniconda3/envs/multi_modal_DL/lib/python3.10/site-packages/scipy/stats/_stats_py.py:4424: ConstantInputWarning: An input array is constant; the correlation coefficient is not defined.\n",
      "  warnings.warn(stats.ConstantInputWarning(msg))\n"
     ]
    },
    {
     "name": "stdout",
     "output_type": "stream",
     "text": [
      "Epoch: 6/100, Val Loss: 50988.1641, Pearson R: nan, RMSE: 229.7284\n",
      "{'batch_size': 16, 'lr': 0.1, 'dropout': 0.2, 'lr_decay': 0.1, 'layers': 2, 'hidden_dim': 400}\n"
     ]
    },
    {
     "name": "stderr",
     "output_type": "stream",
     "text": [
      "/home/samsonm/miniconda3/envs/multi_modal_DL/lib/python3.10/site-packages/scipy/stats/_stats_py.py:4424: ConstantInputWarning: An input array is constant; the correlation coefficient is not defined.\n",
      "  warnings.warn(stats.ConstantInputWarning(msg))\n"
     ]
    },
    {
     "name": "stdout",
     "output_type": "stream",
     "text": [
      "Epoch: 20/100, Val Loss: 3575.8320, Pearson R: nan, RMSE: 73.2311\n",
      "{'batch_size': 16, 'lr': 0.1, 'dropout': 0.2, 'lr_decay': 0.1, 'layers': 2, 'hidden_dim': 800}\n"
     ]
    },
    {
     "name": "stderr",
     "output_type": "stream",
     "text": [
      "/home/samsonm/miniconda3/envs/multi_modal_DL/lib/python3.10/site-packages/scipy/stats/_stats_py.py:4424: ConstantInputWarning: An input array is constant; the correlation coefficient is not defined.\n",
      "  warnings.warn(stats.ConstantInputWarning(msg))\n"
     ]
    },
    {
     "name": "stdout",
     "output_type": "stream",
     "text": [
      "Epoch: 19/100, Val Loss: 91735.8984, Pearson R: nan, RMSE: 305.8150\n",
      "{'batch_size': 16, 'lr': 0.1, 'dropout': 0.2, 'lr_decay': 0.1, 'layers': 4, 'hidden_dim': 400}\n"
     ]
    },
    {
     "name": "stderr",
     "output_type": "stream",
     "text": [
      "/home/samsonm/miniconda3/envs/multi_modal_DL/lib/python3.10/site-packages/scipy/stats/_stats_py.py:4424: ConstantInputWarning: An input array is constant; the correlation coefficient is not defined.\n",
      "  warnings.warn(stats.ConstantInputWarning(msg))\n"
     ]
    },
    {
     "name": "stdout",
     "output_type": "stream",
     "text": [
      "Epoch: 20/100, Val Loss: 3574.9619, Pearson R: nan, RMSE: 73.2252\n",
      "{'batch_size': 16, 'lr': 0.1, 'dropout': 0.2, 'lr_decay': 0.1, 'layers': 4, 'hidden_dim': 800}\n"
     ]
    },
    {
     "name": "stderr",
     "output_type": "stream",
     "text": [
      "/home/samsonm/miniconda3/envs/multi_modal_DL/lib/python3.10/site-packages/scipy/stats/_stats_py.py:4424: ConstantInputWarning: An input array is constant; the correlation coefficient is not defined.\n",
      "  warnings.warn(stats.ConstantInputWarning(msg))\n"
     ]
    },
    {
     "name": "stdout",
     "output_type": "stream",
     "text": [
      "Epoch: 20/100, Val Loss: 3592.5808, Pearson R: nan, RMSE: 73.3454\n",
      "{'batch_size': 16, 'lr': 0.1, 'dropout': 0.2, 'lr_decay': 0.01, 'layers': 2, 'hidden_dim': 400}\n"
     ]
    },
    {
     "name": "stderr",
     "output_type": "stream",
     "text": [
      "/home/samsonm/miniconda3/envs/multi_modal_DL/lib/python3.10/site-packages/scipy/stats/_stats_py.py:4424: ConstantInputWarning: An input array is constant; the correlation coefficient is not defined.\n",
      "  warnings.warn(stats.ConstantInputWarning(msg))\n"
     ]
    },
    {
     "name": "stdout",
     "output_type": "stream",
     "text": [
      "Epoch: 10/100, Val Loss: 5242.9604, Pearson R: nan, RMSE: 83.8446\n",
      "{'batch_size': 16, 'lr': 0.1, 'dropout': 0.2, 'lr_decay': 0.01, 'layers': 2, 'hidden_dim': 800}\n"
     ]
    },
    {
     "name": "stderr",
     "output_type": "stream",
     "text": [
      "/home/samsonm/miniconda3/envs/multi_modal_DL/lib/python3.10/site-packages/scipy/stats/_stats_py.py:4424: ConstantInputWarning: An input array is constant; the correlation coefficient is not defined.\n",
      "  warnings.warn(stats.ConstantInputWarning(msg))\n"
     ]
    },
    {
     "name": "stdout",
     "output_type": "stream",
     "text": [
      "Epoch: 10/100, Val Loss: 3598.6658, Pearson R: nan, RMSE: 73.3868\n",
      "{'batch_size': 16, 'lr': 0.1, 'dropout': 0.2, 'lr_decay': 0.01, 'layers': 4, 'hidden_dim': 400}\n"
     ]
    },
    {
     "name": "stderr",
     "output_type": "stream",
     "text": [
      "/home/samsonm/miniconda3/envs/multi_modal_DL/lib/python3.10/site-packages/scipy/stats/_stats_py.py:4424: ConstantInputWarning: An input array is constant; the correlation coefficient is not defined.\n",
      "  warnings.warn(stats.ConstantInputWarning(msg))\n"
     ]
    },
    {
     "name": "stdout",
     "output_type": "stream",
     "text": [
      "Epoch: 8/100, Val Loss: 4474.1250, Pearson R: nan, RMSE: 79.1270\n",
      "{'batch_size': 16, 'lr': 0.1, 'dropout': 0.2, 'lr_decay': 0.01, 'layers': 4, 'hidden_dim': 800}\n"
     ]
    },
    {
     "name": "stderr",
     "output_type": "stream",
     "text": [
      "/home/samsonm/miniconda3/envs/multi_modal_DL/lib/python3.10/site-packages/scipy/stats/_stats_py.py:4424: ConstantInputWarning: An input array is constant; the correlation coefficient is not defined.\n",
      "  warnings.warn(stats.ConstantInputWarning(msg))\n"
     ]
    },
    {
     "name": "stdout",
     "output_type": "stream",
     "text": [
      "Epoch: 23/100, Val Loss: 3608.7253, Pearson R: nan, RMSE: 73.4554\n",
      "{'batch_size': 16, 'lr': 0.1, 'dropout': 0.2, 'lr_decay': 0.001, 'layers': 2, 'hidden_dim': 400}\n"
     ]
    },
    {
     "name": "stderr",
     "output_type": "stream",
     "text": [
      "/home/samsonm/miniconda3/envs/multi_modal_DL/lib/python3.10/site-packages/scipy/stats/_stats_py.py:4424: ConstantInputWarning: An input array is constant; the correlation coefficient is not defined.\n",
      "  warnings.warn(stats.ConstantInputWarning(msg))\n"
     ]
    },
    {
     "name": "stdout",
     "output_type": "stream",
     "text": [
      "Epoch: 10/100, Val Loss: 3659.5273, Pearson R: nan, RMSE: 73.8003\n",
      "{'batch_size': 16, 'lr': 0.1, 'dropout': 0.2, 'lr_decay': 0.001, 'layers': 2, 'hidden_dim': 800}\n"
     ]
    },
    {
     "name": "stderr",
     "output_type": "stream",
     "text": [
      "/home/samsonm/miniconda3/envs/multi_modal_DL/lib/python3.10/site-packages/scipy/stats/_stats_py.py:4424: ConstantInputWarning: An input array is constant; the correlation coefficient is not defined.\n",
      "  warnings.warn(stats.ConstantInputWarning(msg))\n"
     ]
    },
    {
     "name": "stdout",
     "output_type": "stream",
     "text": [
      "Epoch: 32/100, Val Loss: 3575.6597, Pearson R: nan, RMSE: 73.2299\n",
      "{'batch_size': 16, 'lr': 0.1, 'dropout': 0.2, 'lr_decay': 0.001, 'layers': 4, 'hidden_dim': 400}\n"
     ]
    },
    {
     "name": "stderr",
     "output_type": "stream",
     "text": [
      "/home/samsonm/miniconda3/envs/multi_modal_DL/lib/python3.10/site-packages/scipy/stats/_stats_py.py:4424: ConstantInputWarning: An input array is constant; the correlation coefficient is not defined.\n",
      "  warnings.warn(stats.ConstantInputWarning(msg))\n"
     ]
    },
    {
     "name": "stdout",
     "output_type": "stream",
     "text": [
      "Epoch: 20/100, Val Loss: 3575.5425, Pearson R: nan, RMSE: 73.2291\n",
      "{'batch_size': 16, 'lr': 0.1, 'dropout': 0.2, 'lr_decay': 0.001, 'layers': 4, 'hidden_dim': 800}\n"
     ]
    },
    {
     "name": "stderr",
     "output_type": "stream",
     "text": [
      "/home/samsonm/miniconda3/envs/multi_modal_DL/lib/python3.10/site-packages/scipy/stats/_stats_py.py:4424: ConstantInputWarning: An input array is constant; the correlation coefficient is not defined.\n",
      "  warnings.warn(stats.ConstantInputWarning(msg))\n"
     ]
    },
    {
     "name": "stdout",
     "output_type": "stream",
     "text": [
      "Epoch: 18/100, Val Loss: 3579.0339, Pearson R: nan, RMSE: 73.2530\n",
      "{'batch_size': 16, 'lr': 0.1, 'dropout': 0.2, 'lr_decay': 0.0001, 'layers': 2, 'hidden_dim': 400}\n"
     ]
    },
    {
     "name": "stderr",
     "output_type": "stream",
     "text": [
      "/home/samsonm/miniconda3/envs/multi_modal_DL/lib/python3.10/site-packages/scipy/stats/_stats_py.py:4424: ConstantInputWarning: An input array is constant; the correlation coefficient is not defined.\n",
      "  warnings.warn(stats.ConstantInputWarning(msg))\n"
     ]
    },
    {
     "name": "stdout",
     "output_type": "stream",
     "text": [
      "Epoch: 10/100, Val Loss: 3711.5005, Pearson R: nan, RMSE: 74.1516\n",
      "{'batch_size': 16, 'lr': 0.1, 'dropout': 0.2, 'lr_decay': 0.0001, 'layers': 2, 'hidden_dim': 800}\n"
     ]
    },
    {
     "name": "stderr",
     "output_type": "stream",
     "text": [
      "/home/samsonm/miniconda3/envs/multi_modal_DL/lib/python3.10/site-packages/scipy/stats/_stats_py.py:4424: ConstantInputWarning: An input array is constant; the correlation coefficient is not defined.\n",
      "  warnings.warn(stats.ConstantInputWarning(msg))\n"
     ]
    },
    {
     "name": "stdout",
     "output_type": "stream",
     "text": [
      "Epoch: 12/100, Val Loss: 3577.4822, Pearson R: nan, RMSE: 73.2424\n",
      "{'batch_size': 16, 'lr': 0.1, 'dropout': 0.2, 'lr_decay': 0.0001, 'layers': 4, 'hidden_dim': 400}\n"
     ]
    },
    {
     "name": "stderr",
     "output_type": "stream",
     "text": [
      "/home/samsonm/miniconda3/envs/multi_modal_DL/lib/python3.10/site-packages/scipy/stats/_stats_py.py:4424: ConstantInputWarning: An input array is constant; the correlation coefficient is not defined.\n",
      "  warnings.warn(stats.ConstantInputWarning(msg))\n"
     ]
    },
    {
     "name": "stdout",
     "output_type": "stream",
     "text": [
      "Epoch: 14/100, Val Loss: 3846.1245, Pearson R: nan, RMSE: 75.0539\n",
      "{'batch_size': 16, 'lr': 0.1, 'dropout': 0.2, 'lr_decay': 0.0001, 'layers': 4, 'hidden_dim': 800}\n"
     ]
    },
    {
     "name": "stderr",
     "output_type": "stream",
     "text": [
      "/home/samsonm/miniconda3/envs/multi_modal_DL/lib/python3.10/site-packages/scipy/stats/_stats_py.py:4424: ConstantInputWarning: An input array is constant; the correlation coefficient is not defined.\n",
      "  warnings.warn(stats.ConstantInputWarning(msg))\n"
     ]
    },
    {
     "name": "stdout",
     "output_type": "stream",
     "text": [
      "Epoch: 17/100, Val Loss: 4279.9287, Pearson R: nan, RMSE: 77.8903\n",
      "{'batch_size': 16, 'lr': 0.1, 'dropout': 0.3, 'lr_decay': 0.1, 'layers': 2, 'hidden_dim': 400}\n"
     ]
    },
    {
     "name": "stderr",
     "output_type": "stream",
     "text": [
      "/home/samsonm/miniconda3/envs/multi_modal_DL/lib/python3.10/site-packages/scipy/stats/_stats_py.py:4424: ConstantInputWarning: An input array is constant; the correlation coefficient is not defined.\n",
      "  warnings.warn(stats.ConstantInputWarning(msg))\n"
     ]
    },
    {
     "name": "stdout",
     "output_type": "stream",
     "text": [
      "Epoch: 11/100, Val Loss: 3876.5867, Pearson R: nan, RMSE: 75.2566\n",
      "{'batch_size': 16, 'lr': 0.1, 'dropout': 0.3, 'lr_decay': 0.1, 'layers': 2, 'hidden_dim': 800}\n"
     ]
    },
    {
     "name": "stderr",
     "output_type": "stream",
     "text": [
      "/home/samsonm/miniconda3/envs/multi_modal_DL/lib/python3.10/site-packages/scipy/stats/_stats_py.py:4424: ConstantInputWarning: An input array is constant; the correlation coefficient is not defined.\n",
      "  warnings.warn(stats.ConstantInputWarning(msg))\n"
     ]
    },
    {
     "name": "stdout",
     "output_type": "stream",
     "text": [
      "Epoch: 8/100, Val Loss: 3776.4685, Pearson R: nan, RMSE: 74.5884\n",
      "{'batch_size': 16, 'lr': 0.1, 'dropout': 0.3, 'lr_decay': 0.1, 'layers': 4, 'hidden_dim': 400}\n"
     ]
    },
    {
     "name": "stderr",
     "output_type": "stream",
     "text": [
      "/home/samsonm/miniconda3/envs/multi_modal_DL/lib/python3.10/site-packages/scipy/stats/_stats_py.py:4424: ConstantInputWarning: An input array is constant; the correlation coefficient is not defined.\n",
      "  warnings.warn(stats.ConstantInputWarning(msg))\n"
     ]
    },
    {
     "name": "stdout",
     "output_type": "stream",
     "text": [
      "Epoch: 16/100, Val Loss: 3685.7729, Pearson R: nan, RMSE: 73.9779\n",
      "{'batch_size': 16, 'lr': 0.1, 'dropout': 0.3, 'lr_decay': 0.1, 'layers': 4, 'hidden_dim': 800}\n"
     ]
    },
    {
     "name": "stderr",
     "output_type": "stream",
     "text": [
      "/home/samsonm/miniconda3/envs/multi_modal_DL/lib/python3.10/site-packages/scipy/stats/_stats_py.py:4424: ConstantInputWarning: An input array is constant; the correlation coefficient is not defined.\n",
      "  warnings.warn(stats.ConstantInputWarning(msg))\n"
     ]
    },
    {
     "name": "stdout",
     "output_type": "stream",
     "text": [
      "Epoch: 30/100, Val Loss: 3577.2358, Pearson R: nan, RMSE: 73.2407\n",
      "{'batch_size': 16, 'lr': 0.1, 'dropout': 0.3, 'lr_decay': 0.01, 'layers': 2, 'hidden_dim': 400}\n"
     ]
    },
    {
     "name": "stderr",
     "output_type": "stream",
     "text": [
      "/home/samsonm/miniconda3/envs/multi_modal_DL/lib/python3.10/site-packages/scipy/stats/_stats_py.py:4424: ConstantInputWarning: An input array is constant; the correlation coefficient is not defined.\n",
      "  warnings.warn(stats.ConstantInputWarning(msg))\n"
     ]
    },
    {
     "name": "stdout",
     "output_type": "stream",
     "text": [
      "Epoch: 13/100, Val Loss: 3575.0229, Pearson R: nan, RMSE: 73.2256\n",
      "{'batch_size': 16, 'lr': 0.1, 'dropout': 0.3, 'lr_decay': 0.01, 'layers': 2, 'hidden_dim': 800}\n"
     ]
    },
    {
     "name": "stderr",
     "output_type": "stream",
     "text": [
      "/home/samsonm/miniconda3/envs/multi_modal_DL/lib/python3.10/site-packages/scipy/stats/_stats_py.py:4424: ConstantInputWarning: An input array is constant; the correlation coefficient is not defined.\n",
      "  warnings.warn(stats.ConstantInputWarning(msg))\n"
     ]
    },
    {
     "name": "stdout",
     "output_type": "stream",
     "text": [
      "Epoch: 32/100, Val Loss: 3628.0640, Pearson R: nan, RMSE: 73.5869\n",
      "{'batch_size': 16, 'lr': 0.1, 'dropout': 0.3, 'lr_decay': 0.01, 'layers': 4, 'hidden_dim': 400}\n"
     ]
    },
    {
     "name": "stderr",
     "output_type": "stream",
     "text": [
      "/home/samsonm/miniconda3/envs/multi_modal_DL/lib/python3.10/site-packages/scipy/stats/_stats_py.py:4424: ConstantInputWarning: An input array is constant; the correlation coefficient is not defined.\n",
      "  warnings.warn(stats.ConstantInputWarning(msg))\n"
     ]
    },
    {
     "name": "stdout",
     "output_type": "stream",
     "text": [
      "Epoch: 14/100, Val Loss: 3575.2583, Pearson R: nan, RMSE: 73.2272\n",
      "{'batch_size': 16, 'lr': 0.1, 'dropout': 0.3, 'lr_decay': 0.01, 'layers': 4, 'hidden_dim': 800}\n"
     ]
    },
    {
     "name": "stderr",
     "output_type": "stream",
     "text": [
      "/home/samsonm/miniconda3/envs/multi_modal_DL/lib/python3.10/site-packages/scipy/stats/_stats_py.py:4424: ConstantInputWarning: An input array is constant; the correlation coefficient is not defined.\n",
      "  warnings.warn(stats.ConstantInputWarning(msg))\n"
     ]
    },
    {
     "name": "stdout",
     "output_type": "stream",
     "text": [
      "Epoch: 9/100, Val Loss: 3599.2820, Pearson R: nan, RMSE: 73.3910\n",
      "{'batch_size': 16, 'lr': 0.1, 'dropout': 0.3, 'lr_decay': 0.001, 'layers': 2, 'hidden_dim': 400}\n"
     ]
    },
    {
     "name": "stderr",
     "output_type": "stream",
     "text": [
      "/home/samsonm/miniconda3/envs/multi_modal_DL/lib/python3.10/site-packages/scipy/stats/_stats_py.py:4424: ConstantInputWarning: An input array is constant; the correlation coefficient is not defined.\n",
      "  warnings.warn(stats.ConstantInputWarning(msg))\n"
     ]
    },
    {
     "name": "stdout",
     "output_type": "stream",
     "text": [
      "Epoch: 26/100, Val Loss: 3575.5039, Pearson R: nan, RMSE: 73.2289\n",
      "{'batch_size': 16, 'lr': 0.1, 'dropout': 0.3, 'lr_decay': 0.001, 'layers': 2, 'hidden_dim': 800}\n"
     ]
    },
    {
     "name": "stderr",
     "output_type": "stream",
     "text": [
      "/home/samsonm/miniconda3/envs/multi_modal_DL/lib/python3.10/site-packages/scipy/stats/_stats_py.py:4424: ConstantInputWarning: An input array is constant; the correlation coefficient is not defined.\n",
      "  warnings.warn(stats.ConstantInputWarning(msg))\n"
     ]
    },
    {
     "name": "stdout",
     "output_type": "stream",
     "text": [
      "Epoch: 10/100, Val Loss: 7673.9702, Pearson R: nan, RMSE: 97.2673\n",
      "{'batch_size': 16, 'lr': 0.1, 'dropout': 0.3, 'lr_decay': 0.001, 'layers': 4, 'hidden_dim': 400}\n"
     ]
    },
    {
     "name": "stderr",
     "output_type": "stream",
     "text": [
      "/home/samsonm/miniconda3/envs/multi_modal_DL/lib/python3.10/site-packages/scipy/stats/_stats_py.py:4424: ConstantInputWarning: An input array is constant; the correlation coefficient is not defined.\n",
      "  warnings.warn(stats.ConstantInputWarning(msg))\n"
     ]
    },
    {
     "name": "stdout",
     "output_type": "stream",
     "text": [
      "Epoch: 15/100, Val Loss: 4412.0850, Pearson R: nan, RMSE: 78.7340\n",
      "{'batch_size': 16, 'lr': 0.1, 'dropout': 0.3, 'lr_decay': 0.001, 'layers': 4, 'hidden_dim': 800}\n"
     ]
    },
    {
     "name": "stderr",
     "output_type": "stream",
     "text": [
      "/home/samsonm/miniconda3/envs/multi_modal_DL/lib/python3.10/site-packages/scipy/stats/_stats_py.py:4424: ConstantInputWarning: An input array is constant; the correlation coefficient is not defined.\n",
      "  warnings.warn(stats.ConstantInputWarning(msg))\n"
     ]
    },
    {
     "name": "stdout",
     "output_type": "stream",
     "text": [
      "Epoch: 21/100, Val Loss: 3577.3765, Pearson R: nan, RMSE: 73.2417\n",
      "{'batch_size': 16, 'lr': 0.1, 'dropout': 0.3, 'lr_decay': 0.0001, 'layers': 2, 'hidden_dim': 400}\n"
     ]
    },
    {
     "name": "stderr",
     "output_type": "stream",
     "text": [
      "/home/samsonm/miniconda3/envs/multi_modal_DL/lib/python3.10/site-packages/scipy/stats/_stats_py.py:4424: ConstantInputWarning: An input array is constant; the correlation coefficient is not defined.\n",
      "  warnings.warn(stats.ConstantInputWarning(msg))\n"
     ]
    },
    {
     "name": "stdout",
     "output_type": "stream",
     "text": [
      "Epoch: 20/100, Val Loss: 3703.1528, Pearson R: nan, RMSE: 74.0953\n",
      "{'batch_size': 16, 'lr': 0.1, 'dropout': 0.3, 'lr_decay': 0.0001, 'layers': 2, 'hidden_dim': 800}\n"
     ]
    },
    {
     "name": "stderr",
     "output_type": "stream",
     "text": [
      "/home/samsonm/miniconda3/envs/multi_modal_DL/lib/python3.10/site-packages/scipy/stats/_stats_py.py:4424: ConstantInputWarning: An input array is constant; the correlation coefficient is not defined.\n",
      "  warnings.warn(stats.ConstantInputWarning(msg))\n"
     ]
    },
    {
     "name": "stdout",
     "output_type": "stream",
     "text": [
      "Epoch: 15/100, Val Loss: 3694.0176, Pearson R: nan, RMSE: 74.0336\n",
      "{'batch_size': 16, 'lr': 0.1, 'dropout': 0.3, 'lr_decay': 0.0001, 'layers': 4, 'hidden_dim': 400}\n"
     ]
    },
    {
     "name": "stderr",
     "output_type": "stream",
     "text": [
      "/home/samsonm/miniconda3/envs/multi_modal_DL/lib/python3.10/site-packages/scipy/stats/_stats_py.py:4424: ConstantInputWarning: An input array is constant; the correlation coefficient is not defined.\n",
      "  warnings.warn(stats.ConstantInputWarning(msg))\n"
     ]
    },
    {
     "name": "stdout",
     "output_type": "stream",
     "text": [
      "Epoch: 10/100, Val Loss: 3604.3462, Pearson R: nan, RMSE: 73.4255\n",
      "{'batch_size': 16, 'lr': 0.1, 'dropout': 0.3, 'lr_decay': 0.0001, 'layers': 4, 'hidden_dim': 800}\n"
     ]
    },
    {
     "name": "stderr",
     "output_type": "stream",
     "text": [
      "/home/samsonm/miniconda3/envs/multi_modal_DL/lib/python3.10/site-packages/scipy/stats/_stats_py.py:4424: ConstantInputWarning: An input array is constant; the correlation coefficient is not defined.\n",
      "  warnings.warn(stats.ConstantInputWarning(msg))\n"
     ]
    },
    {
     "name": "stdout",
     "output_type": "stream",
     "text": [
      "Epoch: 14/100, Val Loss: 3580.7676, Pearson R: nan, RMSE: 73.2648\n",
      "{'batch_size': 16, 'lr': 0.1, 'dropout': 0.4, 'lr_decay': 0.1, 'layers': 2, 'hidden_dim': 400}\n"
     ]
    },
    {
     "name": "stderr",
     "output_type": "stream",
     "text": [
      "/home/samsonm/miniconda3/envs/multi_modal_DL/lib/python3.10/site-packages/scipy/stats/_stats_py.py:4424: ConstantInputWarning: An input array is constant; the correlation coefficient is not defined.\n",
      "  warnings.warn(stats.ConstantInputWarning(msg))\n"
     ]
    },
    {
     "name": "stdout",
     "output_type": "stream",
     "text": [
      "Epoch: 23/100, Val Loss: 3843.4001, Pearson R: nan, RMSE: 75.0357\n",
      "{'batch_size': 16, 'lr': 0.1, 'dropout': 0.4, 'lr_decay': 0.1, 'layers': 2, 'hidden_dim': 800}\n"
     ]
    },
    {
     "name": "stderr",
     "output_type": "stream",
     "text": [
      "/home/samsonm/miniconda3/envs/multi_modal_DL/lib/python3.10/site-packages/scipy/stats/_stats_py.py:4424: ConstantInputWarning: An input array is constant; the correlation coefficient is not defined.\n",
      "  warnings.warn(stats.ConstantInputWarning(msg))\n"
     ]
    },
    {
     "name": "stdout",
     "output_type": "stream",
     "text": [
      "Epoch: 8/100, Val Loss: 8808.8438, Pearson R: nan, RMSE: 102.9359\n",
      "{'batch_size': 16, 'lr': 0.1, 'dropout': 0.4, 'lr_decay': 0.1, 'layers': 4, 'hidden_dim': 400}\n"
     ]
    },
    {
     "name": "stderr",
     "output_type": "stream",
     "text": [
      "/home/samsonm/miniconda3/envs/multi_modal_DL/lib/python3.10/site-packages/scipy/stats/_stats_py.py:4424: ConstantInputWarning: An input array is constant; the correlation coefficient is not defined.\n",
      "  warnings.warn(stats.ConstantInputWarning(msg))\n"
     ]
    },
    {
     "name": "stdout",
     "output_type": "stream",
     "text": [
      "Epoch: 8/100, Val Loss: 3603.1831, Pearson R: nan, RMSE: 73.4176\n",
      "{'batch_size': 16, 'lr': 0.1, 'dropout': 0.4, 'lr_decay': 0.1, 'layers': 4, 'hidden_dim': 800}\n"
     ]
    },
    {
     "name": "stderr",
     "output_type": "stream",
     "text": [
      "/home/samsonm/miniconda3/envs/multi_modal_DL/lib/python3.10/site-packages/scipy/stats/_stats_py.py:4424: ConstantInputWarning: An input array is constant; the correlation coefficient is not defined.\n",
      "  warnings.warn(stats.ConstantInputWarning(msg))\n"
     ]
    },
    {
     "name": "stdout",
     "output_type": "stream",
     "text": [
      "Epoch: 15/100, Val Loss: 3638.5352, Pearson R: nan, RMSE: 73.6580\n",
      "{'batch_size': 16, 'lr': 0.1, 'dropout': 0.4, 'lr_decay': 0.01, 'layers': 2, 'hidden_dim': 400}\n"
     ]
    },
    {
     "name": "stderr",
     "output_type": "stream",
     "text": [
      "/home/samsonm/miniconda3/envs/multi_modal_DL/lib/python3.10/site-packages/scipy/stats/_stats_py.py:4424: ConstantInputWarning: An input array is constant; the correlation coefficient is not defined.\n",
      "  warnings.warn(stats.ConstantInputWarning(msg))\n"
     ]
    },
    {
     "name": "stdout",
     "output_type": "stream",
     "text": [
      "Epoch: 15/100, Val Loss: 3574.0671, Pearson R: nan, RMSE: 73.2191\n",
      "{'batch_size': 16, 'lr': 0.1, 'dropout': 0.4, 'lr_decay': 0.01, 'layers': 2, 'hidden_dim': 800}\n"
     ]
    },
    {
     "name": "stderr",
     "output_type": "stream",
     "text": [
      "/home/samsonm/miniconda3/envs/multi_modal_DL/lib/python3.10/site-packages/scipy/stats/_stats_py.py:4424: ConstantInputWarning: An input array is constant; the correlation coefficient is not defined.\n",
      "  warnings.warn(stats.ConstantInputWarning(msg))\n"
     ]
    },
    {
     "name": "stdout",
     "output_type": "stream",
     "text": [
      "Epoch: 13/100, Val Loss: 4491.1846, Pearson R: nan, RMSE: 79.2348\n",
      "{'batch_size': 16, 'lr': 0.1, 'dropout': 0.4, 'lr_decay': 0.01, 'layers': 4, 'hidden_dim': 400}\n"
     ]
    },
    {
     "name": "stderr",
     "output_type": "stream",
     "text": [
      "/home/samsonm/miniconda3/envs/multi_modal_DL/lib/python3.10/site-packages/scipy/stats/_stats_py.py:4424: ConstantInputWarning: An input array is constant; the correlation coefficient is not defined.\n",
      "  warnings.warn(stats.ConstantInputWarning(msg))\n"
     ]
    },
    {
     "name": "stdout",
     "output_type": "stream",
     "text": [
      "Epoch: 14/100, Val Loss: 3624.0068, Pearson R: nan, RMSE: 73.5593\n",
      "{'batch_size': 16, 'lr': 0.1, 'dropout': 0.4, 'lr_decay': 0.01, 'layers': 4, 'hidden_dim': 800}\n"
     ]
    },
    {
     "name": "stderr",
     "output_type": "stream",
     "text": [
      "/home/samsonm/miniconda3/envs/multi_modal_DL/lib/python3.10/site-packages/scipy/stats/_stats_py.py:4424: ConstantInputWarning: An input array is constant; the correlation coefficient is not defined.\n",
      "  warnings.warn(stats.ConstantInputWarning(msg))\n"
     ]
    },
    {
     "name": "stdout",
     "output_type": "stream",
     "text": [
      "Epoch: 22/100, Val Loss: 3582.4585, Pearson R: nan, RMSE: 73.2763\n",
      "{'batch_size': 16, 'lr': 0.1, 'dropout': 0.4, 'lr_decay': 0.001, 'layers': 2, 'hidden_dim': 400}\n"
     ]
    },
    {
     "name": "stderr",
     "output_type": "stream",
     "text": [
      "/home/samsonm/miniconda3/envs/multi_modal_DL/lib/python3.10/site-packages/scipy/stats/_stats_py.py:4424: ConstantInputWarning: An input array is constant; the correlation coefficient is not defined.\n",
      "  warnings.warn(stats.ConstantInputWarning(msg))\n"
     ]
    },
    {
     "name": "stdout",
     "output_type": "stream",
     "text": [
      "Epoch: 21/100, Val Loss: 3575.1562, Pearson R: nan, RMSE: 73.2265\n",
      "{'batch_size': 16, 'lr': 0.1, 'dropout': 0.4, 'lr_decay': 0.001, 'layers': 2, 'hidden_dim': 800}\n"
     ]
    },
    {
     "name": "stderr",
     "output_type": "stream",
     "text": [
      "/home/samsonm/miniconda3/envs/multi_modal_DL/lib/python3.10/site-packages/scipy/stats/_stats_py.py:4424: ConstantInputWarning: An input array is constant; the correlation coefficient is not defined.\n",
      "  warnings.warn(stats.ConstantInputWarning(msg))\n"
     ]
    },
    {
     "name": "stdout",
     "output_type": "stream",
     "text": [
      "Epoch: 12/100, Val Loss: 4658.3887, Pearson R: nan, RMSE: 80.2829\n",
      "{'batch_size': 16, 'lr': 0.1, 'dropout': 0.4, 'lr_decay': 0.001, 'layers': 4, 'hidden_dim': 400}\n"
     ]
    },
    {
     "name": "stderr",
     "output_type": "stream",
     "text": [
      "/home/samsonm/miniconda3/envs/multi_modal_DL/lib/python3.10/site-packages/scipy/stats/_stats_py.py:4424: ConstantInputWarning: An input array is constant; the correlation coefficient is not defined.\n",
      "  warnings.warn(stats.ConstantInputWarning(msg))\n"
     ]
    },
    {
     "name": "stdout",
     "output_type": "stream",
     "text": [
      "Epoch: 14/100, Val Loss: 3701.4148, Pearson R: nan, RMSE: 74.0836\n",
      "{'batch_size': 16, 'lr': 0.1, 'dropout': 0.4, 'lr_decay': 0.001, 'layers': 4, 'hidden_dim': 800}\n"
     ]
    },
    {
     "name": "stderr",
     "output_type": "stream",
     "text": [
      "/home/samsonm/miniconda3/envs/multi_modal_DL/lib/python3.10/site-packages/scipy/stats/_stats_py.py:4424: ConstantInputWarning: An input array is constant; the correlation coefficient is not defined.\n",
      "  warnings.warn(stats.ConstantInputWarning(msg))\n"
     ]
    },
    {
     "name": "stdout",
     "output_type": "stream",
     "text": [
      "Epoch: 27/100, Val Loss: 3574.9773, Pearson R: nan, RMSE: 73.2253\n",
      "{'batch_size': 16, 'lr': 0.1, 'dropout': 0.4, 'lr_decay': 0.0001, 'layers': 2, 'hidden_dim': 400}\n"
     ]
    },
    {
     "name": "stderr",
     "output_type": "stream",
     "text": [
      "/home/samsonm/miniconda3/envs/multi_modal_DL/lib/python3.10/site-packages/scipy/stats/_stats_py.py:4424: ConstantInputWarning: An input array is constant; the correlation coefficient is not defined.\n",
      "  warnings.warn(stats.ConstantInputWarning(msg))\n"
     ]
    },
    {
     "name": "stdout",
     "output_type": "stream",
     "text": [
      "Epoch: 9/100, Val Loss: 3688.6541, Pearson R: nan, RMSE: 73.9974\n",
      "{'batch_size': 16, 'lr': 0.1, 'dropout': 0.4, 'lr_decay': 0.0001, 'layers': 2, 'hidden_dim': 800}\n"
     ]
    },
    {
     "name": "stderr",
     "output_type": "stream",
     "text": [
      "/home/samsonm/miniconda3/envs/multi_modal_DL/lib/python3.10/site-packages/scipy/stats/_stats_py.py:4424: ConstantInputWarning: An input array is constant; the correlation coefficient is not defined.\n",
      "  warnings.warn(stats.ConstantInputWarning(msg))\n"
     ]
    },
    {
     "name": "stdout",
     "output_type": "stream",
     "text": [
      "Epoch: 11/100, Val Loss: 4588.4229, Pearson R: nan, RMSE: 79.8460\n",
      "{'batch_size': 16, 'lr': 0.1, 'dropout': 0.4, 'lr_decay': 0.0001, 'layers': 4, 'hidden_dim': 400}\n"
     ]
    },
    {
     "name": "stderr",
     "output_type": "stream",
     "text": [
      "/home/samsonm/miniconda3/envs/multi_modal_DL/lib/python3.10/site-packages/scipy/stats/_stats_py.py:4424: ConstantInputWarning: An input array is constant; the correlation coefficient is not defined.\n",
      "  warnings.warn(stats.ConstantInputWarning(msg))\n"
     ]
    },
    {
     "name": "stdout",
     "output_type": "stream",
     "text": [
      "Epoch: 23/100, Val Loss: 4219.9819, Pearson R: nan, RMSE: 77.5045\n",
      "{'batch_size': 16, 'lr': 0.1, 'dropout': 0.4, 'lr_decay': 0.0001, 'layers': 4, 'hidden_dim': 800}\n"
     ]
    },
    {
     "name": "stderr",
     "output_type": "stream",
     "text": [
      "/home/samsonm/miniconda3/envs/multi_modal_DL/lib/python3.10/site-packages/scipy/stats/_stats_py.py:4424: ConstantInputWarning: An input array is constant; the correlation coefficient is not defined.\n",
      "  warnings.warn(stats.ConstantInputWarning(msg))\n"
     ]
    },
    {
     "name": "stdout",
     "output_type": "stream",
     "text": [
      "Epoch: 20/100, Val Loss: 3582.9351, Pearson R: nan, RMSE: 73.2796\n",
      "{'batch_size': 16, 'lr': 0.1, 'dropout': 0.5, 'lr_decay': 0.1, 'layers': 2, 'hidden_dim': 400}\n"
     ]
    },
    {
     "name": "stderr",
     "output_type": "stream",
     "text": [
      "/home/samsonm/miniconda3/envs/multi_modal_DL/lib/python3.10/site-packages/scipy/stats/_stats_py.py:4424: ConstantInputWarning: An input array is constant; the correlation coefficient is not defined.\n",
      "  warnings.warn(stats.ConstantInputWarning(msg))\n"
     ]
    },
    {
     "name": "stdout",
     "output_type": "stream",
     "text": [
      "Epoch: 9/100, Val Loss: 3688.8169, Pearson R: nan, RMSE: 73.9985\n",
      "{'batch_size': 16, 'lr': 0.1, 'dropout': 0.5, 'lr_decay': 0.1, 'layers': 2, 'hidden_dim': 800}\n"
     ]
    },
    {
     "name": "stderr",
     "output_type": "stream",
     "text": [
      "/home/samsonm/miniconda3/envs/multi_modal_DL/lib/python3.10/site-packages/scipy/stats/_stats_py.py:4424: ConstantInputWarning: An input array is constant; the correlation coefficient is not defined.\n",
      "  warnings.warn(stats.ConstantInputWarning(msg))\n"
     ]
    },
    {
     "name": "stdout",
     "output_type": "stream",
     "text": [
      "Epoch: 16/100, Val Loss: 3651.7400, Pearson R: nan, RMSE: 73.7476\n",
      "{'batch_size': 16, 'lr': 0.1, 'dropout': 0.5, 'lr_decay': 0.1, 'layers': 4, 'hidden_dim': 400}\n"
     ]
    },
    {
     "name": "stderr",
     "output_type": "stream",
     "text": [
      "/home/samsonm/miniconda3/envs/multi_modal_DL/lib/python3.10/site-packages/scipy/stats/_stats_py.py:4424: ConstantInputWarning: An input array is constant; the correlation coefficient is not defined.\n",
      "  warnings.warn(stats.ConstantInputWarning(msg))\n"
     ]
    },
    {
     "name": "stdout",
     "output_type": "stream",
     "text": [
      "Epoch: 10/100, Val Loss: 4899.1968, Pearson R: nan, RMSE: 81.7689\n",
      "{'batch_size': 16, 'lr': 0.1, 'dropout': 0.5, 'lr_decay': 0.1, 'layers': 4, 'hidden_dim': 800}\n"
     ]
    },
    {
     "name": "stderr",
     "output_type": "stream",
     "text": [
      "/home/samsonm/miniconda3/envs/multi_modal_DL/lib/python3.10/site-packages/scipy/stats/_stats_py.py:4424: ConstantInputWarning: An input array is constant; the correlation coefficient is not defined.\n",
      "  warnings.warn(stats.ConstantInputWarning(msg))\n"
     ]
    },
    {
     "name": "stdout",
     "output_type": "stream",
     "text": [
      "Epoch: 10/100, Val Loss: 3880.1792, Pearson R: nan, RMSE: 75.2804\n",
      "{'batch_size': 16, 'lr': 0.1, 'dropout': 0.5, 'lr_decay': 0.01, 'layers': 2, 'hidden_dim': 400}\n"
     ]
    },
    {
     "name": "stderr",
     "output_type": "stream",
     "text": [
      "/home/samsonm/miniconda3/envs/multi_modal_DL/lib/python3.10/site-packages/scipy/stats/_stats_py.py:4424: ConstantInputWarning: An input array is constant; the correlation coefficient is not defined.\n",
      "  warnings.warn(stats.ConstantInputWarning(msg))\n"
     ]
    },
    {
     "name": "stdout",
     "output_type": "stream",
     "text": [
      "Epoch: 6/100, Val Loss: 25168.8574, Pearson R: nan, RMSE: 164.1823\n",
      "{'batch_size': 16, 'lr': 0.1, 'dropout': 0.5, 'lr_decay': 0.01, 'layers': 2, 'hidden_dim': 800}\n"
     ]
    },
    {
     "name": "stderr",
     "output_type": "stream",
     "text": [
      "/home/samsonm/miniconda3/envs/multi_modal_DL/lib/python3.10/site-packages/scipy/stats/_stats_py.py:4424: ConstantInputWarning: An input array is constant; the correlation coefficient is not defined.\n",
      "  warnings.warn(stats.ConstantInputWarning(msg))\n"
     ]
    },
    {
     "name": "stdout",
     "output_type": "stream",
     "text": [
      "Epoch: 11/100, Val Loss: 7176.0635, Pearson R: nan, RMSE: 94.6733\n",
      "{'batch_size': 16, 'lr': 0.1, 'dropout': 0.5, 'lr_decay': 0.01, 'layers': 4, 'hidden_dim': 400}\n"
     ]
    },
    {
     "name": "stderr",
     "output_type": "stream",
     "text": [
      "/home/samsonm/miniconda3/envs/multi_modal_DL/lib/python3.10/site-packages/scipy/stats/_stats_py.py:4424: ConstantInputWarning: An input array is constant; the correlation coefficient is not defined.\n",
      "  warnings.warn(stats.ConstantInputWarning(msg))\n"
     ]
    },
    {
     "name": "stdout",
     "output_type": "stream",
     "text": [
      "Epoch: 13/100, Val Loss: 4108.4141, Pearson R: nan, RMSE: 76.7814\n",
      "{'batch_size': 16, 'lr': 0.1, 'dropout': 0.5, 'lr_decay': 0.01, 'layers': 4, 'hidden_dim': 800}\n"
     ]
    },
    {
     "name": "stderr",
     "output_type": "stream",
     "text": [
      "/home/samsonm/miniconda3/envs/multi_modal_DL/lib/python3.10/site-packages/scipy/stats/_stats_py.py:4424: ConstantInputWarning: An input array is constant; the correlation coefficient is not defined.\n",
      "  warnings.warn(stats.ConstantInputWarning(msg))\n"
     ]
    },
    {
     "name": "stdout",
     "output_type": "stream",
     "text": [
      "Epoch: 14/100, Val Loss: 3633.3767, Pearson R: nan, RMSE: 73.6230\n",
      "{'batch_size': 16, 'lr': 0.1, 'dropout': 0.5, 'lr_decay': 0.001, 'layers': 2, 'hidden_dim': 400}\n"
     ]
    },
    {
     "name": "stderr",
     "output_type": "stream",
     "text": [
      "/home/samsonm/miniconda3/envs/multi_modal_DL/lib/python3.10/site-packages/scipy/stats/_stats_py.py:4424: ConstantInputWarning: An input array is constant; the correlation coefficient is not defined.\n",
      "  warnings.warn(stats.ConstantInputWarning(msg))\n"
     ]
    },
    {
     "name": "stdout",
     "output_type": "stream",
     "text": [
      "Epoch: 9/100, Val Loss: 5005.3145, Pearson R: nan, RMSE: 82.4153\n",
      "{'batch_size': 16, 'lr': 0.1, 'dropout': 0.5, 'lr_decay': 0.001, 'layers': 2, 'hidden_dim': 800}\n"
     ]
    },
    {
     "name": "stderr",
     "output_type": "stream",
     "text": [
      "/home/samsonm/miniconda3/envs/multi_modal_DL/lib/python3.10/site-packages/scipy/stats/_stats_py.py:4424: ConstantInputWarning: An input array is constant; the correlation coefficient is not defined.\n",
      "  warnings.warn(stats.ConstantInputWarning(msg))\n"
     ]
    },
    {
     "name": "stdout",
     "output_type": "stream",
     "text": [
      "Epoch: 15/100, Val Loss: 10230.1689, Pearson R: nan, RMSE: 109.6227\n",
      "{'batch_size': 16, 'lr': 0.1, 'dropout': 0.5, 'lr_decay': 0.001, 'layers': 4, 'hidden_dim': 400}\n"
     ]
    },
    {
     "name": "stderr",
     "output_type": "stream",
     "text": [
      "/home/samsonm/miniconda3/envs/multi_modal_DL/lib/python3.10/site-packages/scipy/stats/_stats_py.py:4424: ConstantInputWarning: An input array is constant; the correlation coefficient is not defined.\n",
      "  warnings.warn(stats.ConstantInputWarning(msg))\n"
     ]
    },
    {
     "name": "stdout",
     "output_type": "stream",
     "text": [
      "Epoch: 6/100, Val Loss: 22454.6465, Pearson R: nan, RMSE: 155.6972\n",
      "{'batch_size': 16, 'lr': 0.1, 'dropout': 0.5, 'lr_decay': 0.001, 'layers': 4, 'hidden_dim': 800}\n"
     ]
    },
    {
     "name": "stderr",
     "output_type": "stream",
     "text": [
      "/home/samsonm/miniconda3/envs/multi_modal_DL/lib/python3.10/site-packages/scipy/stats/_stats_py.py:4424: ConstantInputWarning: An input array is constant; the correlation coefficient is not defined.\n",
      "  warnings.warn(stats.ConstantInputWarning(msg))\n"
     ]
    },
    {
     "name": "stdout",
     "output_type": "stream",
     "text": [
      "Epoch: 12/100, Val Loss: 3683.8308, Pearson R: nan, RMSE: 73.9648\n",
      "{'batch_size': 16, 'lr': 0.1, 'dropout': 0.5, 'lr_decay': 0.0001, 'layers': 2, 'hidden_dim': 400}\n"
     ]
    },
    {
     "name": "stderr",
     "output_type": "stream",
     "text": [
      "/home/samsonm/miniconda3/envs/multi_modal_DL/lib/python3.10/site-packages/scipy/stats/_stats_py.py:4424: ConstantInputWarning: An input array is constant; the correlation coefficient is not defined.\n",
      "  warnings.warn(stats.ConstantInputWarning(msg))\n"
     ]
    },
    {
     "name": "stdout",
     "output_type": "stream",
     "text": [
      "Epoch: 18/100, Val Loss: 3583.0398, Pearson R: nan, RMSE: 73.2803\n",
      "{'batch_size': 16, 'lr': 0.1, 'dropout': 0.5, 'lr_decay': 0.0001, 'layers': 2, 'hidden_dim': 800}\n"
     ]
    },
    {
     "name": "stderr",
     "output_type": "stream",
     "text": [
      "/home/samsonm/miniconda3/envs/multi_modal_DL/lib/python3.10/site-packages/scipy/stats/_stats_py.py:4424: ConstantInputWarning: An input array is constant; the correlation coefficient is not defined.\n",
      "  warnings.warn(stats.ConstantInputWarning(msg))\n"
     ]
    },
    {
     "name": "stdout",
     "output_type": "stream",
     "text": [
      "Epoch: 29/100, Val Loss: 4068.9253, Pearson R: nan, RMSE: 76.5238\n",
      "{'batch_size': 16, 'lr': 0.1, 'dropout': 0.5, 'lr_decay': 0.0001, 'layers': 4, 'hidden_dim': 400}\n"
     ]
    },
    {
     "name": "stderr",
     "output_type": "stream",
     "text": [
      "/home/samsonm/miniconda3/envs/multi_modal_DL/lib/python3.10/site-packages/scipy/stats/_stats_py.py:4424: ConstantInputWarning: An input array is constant; the correlation coefficient is not defined.\n",
      "  warnings.warn(stats.ConstantInputWarning(msg))\n"
     ]
    },
    {
     "name": "stdout",
     "output_type": "stream",
     "text": [
      "Epoch: 11/100, Val Loss: 3575.8823, Pearson R: nan, RMSE: 73.2315\n",
      "{'batch_size': 16, 'lr': 0.1, 'dropout': 0.5, 'lr_decay': 0.0001, 'layers': 4, 'hidden_dim': 800}\n"
     ]
    },
    {
     "name": "stderr",
     "output_type": "stream",
     "text": [
      "/home/samsonm/miniconda3/envs/multi_modal_DL/lib/python3.10/site-packages/scipy/stats/_stats_py.py:4424: ConstantInputWarning: An input array is constant; the correlation coefficient is not defined.\n",
      "  warnings.warn(stats.ConstantInputWarning(msg))\n"
     ]
    },
    {
     "name": "stdout",
     "output_type": "stream",
     "text": [
      "Epoch: 12/100, Val Loss: 3652.3171, Pearson R: nan, RMSE: 73.7515\n",
      "{'batch_size': 16, 'lr': 0.01, 'dropout': 0.1, 'lr_decay': 0.1, 'layers': 2, 'hidden_dim': 400}\n"
     ]
    },
    {
     "name": "stderr",
     "output_type": "stream",
     "text": [
      "/home/samsonm/miniconda3/envs/multi_modal_DL/lib/python3.10/site-packages/scipy/stats/_stats_py.py:4424: ConstantInputWarning: An input array is constant; the correlation coefficient is not defined.\n",
      "  warnings.warn(stats.ConstantInputWarning(msg))\n"
     ]
    },
    {
     "name": "stdout",
     "output_type": "stream",
     "text": [
      "Epoch: 22/100, Val Loss: 3602.1375, Pearson R: nan, RMSE: 73.4105\n",
      "{'batch_size': 16, 'lr': 0.01, 'dropout': 0.1, 'lr_decay': 0.1, 'layers': 2, 'hidden_dim': 800}\n"
     ]
    },
    {
     "name": "stderr",
     "output_type": "stream",
     "text": [
      "/home/samsonm/miniconda3/envs/multi_modal_DL/lib/python3.10/site-packages/scipy/stats/_stats_py.py:4424: ConstantInputWarning: An input array is constant; the correlation coefficient is not defined.\n",
      "  warnings.warn(stats.ConstantInputWarning(msg))\n"
     ]
    },
    {
     "name": "stdout",
     "output_type": "stream",
     "text": [
      "Epoch: 8/100, Val Loss: 3915.8589, Pearson R: nan, RMSE: 75.5170\n",
      "{'batch_size': 16, 'lr': 0.01, 'dropout': 0.1, 'lr_decay': 0.1, 'layers': 4, 'hidden_dim': 400}\n"
     ]
    },
    {
     "name": "stderr",
     "output_type": "stream",
     "text": [
      "/home/samsonm/miniconda3/envs/multi_modal_DL/lib/python3.10/site-packages/scipy/stats/_stats_py.py:4424: ConstantInputWarning: An input array is constant; the correlation coefficient is not defined.\n",
      "  warnings.warn(stats.ConstantInputWarning(msg))\n"
     ]
    },
    {
     "name": "stdout",
     "output_type": "stream",
     "text": [
      "Epoch: 14/100, Val Loss: 3594.0835, Pearson R: nan, RMSE: 73.3556\n",
      "{'batch_size': 16, 'lr': 0.01, 'dropout': 0.1, 'lr_decay': 0.1, 'layers': 4, 'hidden_dim': 800}\n"
     ]
    },
    {
     "name": "stderr",
     "output_type": "stream",
     "text": [
      "/home/samsonm/miniconda3/envs/multi_modal_DL/lib/python3.10/site-packages/scipy/stats/_stats_py.py:4424: ConstantInputWarning: An input array is constant; the correlation coefficient is not defined.\n",
      "  warnings.warn(stats.ConstantInputWarning(msg))\n"
     ]
    },
    {
     "name": "stdout",
     "output_type": "stream",
     "text": [
      "Epoch: 20/100, Val Loss: 3574.7751, Pearson R: nan, RMSE: 73.2239\n",
      "{'batch_size': 16, 'lr': 0.01, 'dropout': 0.1, 'lr_decay': 0.01, 'layers': 2, 'hidden_dim': 400}\n"
     ]
    },
    {
     "name": "stderr",
     "output_type": "stream",
     "text": [
      "/home/samsonm/miniconda3/envs/multi_modal_DL/lib/python3.10/site-packages/scipy/stats/_stats_py.py:4424: ConstantInputWarning: An input array is constant; the correlation coefficient is not defined.\n",
      "  warnings.warn(stats.ConstantInputWarning(msg))\n"
     ]
    },
    {
     "name": "stdout",
     "output_type": "stream",
     "text": [
      "Epoch: 16/100, Val Loss: 3644.0339, Pearson R: nan, RMSE: 73.6953\n",
      "{'batch_size': 16, 'lr': 0.01, 'dropout': 0.1, 'lr_decay': 0.01, 'layers': 2, 'hidden_dim': 800}\n"
     ]
    },
    {
     "name": "stderr",
     "output_type": "stream",
     "text": [
      "/home/samsonm/miniconda3/envs/multi_modal_DL/lib/python3.10/site-packages/scipy/stats/_stats_py.py:4424: ConstantInputWarning: An input array is constant; the correlation coefficient is not defined.\n",
      "  warnings.warn(stats.ConstantInputWarning(msg))\n"
     ]
    },
    {
     "name": "stdout",
     "output_type": "stream",
     "text": [
      "Epoch: 18/100, Val Loss: 3764.8569, Pearson R: nan, RMSE: 74.5105\n",
      "{'batch_size': 16, 'lr': 0.01, 'dropout': 0.1, 'lr_decay': 0.01, 'layers': 4, 'hidden_dim': 400}\n"
     ]
    },
    {
     "name": "stderr",
     "output_type": "stream",
     "text": [
      "/home/samsonm/miniconda3/envs/multi_modal_DL/lib/python3.10/site-packages/scipy/stats/_stats_py.py:4424: ConstantInputWarning: An input array is constant; the correlation coefficient is not defined.\n",
      "  warnings.warn(stats.ConstantInputWarning(msg))\n"
     ]
    },
    {
     "name": "stdout",
     "output_type": "stream",
     "text": [
      "Epoch: 13/100, Val Loss: 3576.1445, Pearson R: nan, RMSE: 73.2332\n",
      "{'batch_size': 16, 'lr': 0.01, 'dropout': 0.1, 'lr_decay': 0.01, 'layers': 4, 'hidden_dim': 800}\n"
     ]
    },
    {
     "name": "stderr",
     "output_type": "stream",
     "text": [
      "/home/samsonm/miniconda3/envs/multi_modal_DL/lib/python3.10/site-packages/scipy/stats/_stats_py.py:4424: ConstantInputWarning: An input array is constant; the correlation coefficient is not defined.\n",
      "  warnings.warn(stats.ConstantInputWarning(msg))\n"
     ]
    },
    {
     "name": "stdout",
     "output_type": "stream",
     "text": [
      "Epoch: 12/100, Val Loss: 3590.0388, Pearson R: nan, RMSE: 73.3280\n",
      "{'batch_size': 16, 'lr': 0.01, 'dropout': 0.1, 'lr_decay': 0.001, 'layers': 2, 'hidden_dim': 400}\n"
     ]
    },
    {
     "name": "stderr",
     "output_type": "stream",
     "text": [
      "/home/samsonm/miniconda3/envs/multi_modal_DL/lib/python3.10/site-packages/scipy/stats/_stats_py.py:4424: ConstantInputWarning: An input array is constant; the correlation coefficient is not defined.\n",
      "  warnings.warn(stats.ConstantInputWarning(msg))\n"
     ]
    },
    {
     "name": "stdout",
     "output_type": "stream",
     "text": [
      "Epoch: 11/100, Val Loss: 4771.1460, Pearson R: nan, RMSE: 80.9822\n",
      "{'batch_size': 16, 'lr': 0.01, 'dropout': 0.1, 'lr_decay': 0.001, 'layers': 2, 'hidden_dim': 800}\n"
     ]
    },
    {
     "name": "stderr",
     "output_type": "stream",
     "text": [
      "/home/samsonm/miniconda3/envs/multi_modal_DL/lib/python3.10/site-packages/scipy/stats/_stats_py.py:4424: ConstantInputWarning: An input array is constant; the correlation coefficient is not defined.\n",
      "  warnings.warn(stats.ConstantInputWarning(msg))\n"
     ]
    },
    {
     "name": "stdout",
     "output_type": "stream",
     "text": [
      "Epoch: 14/100, Val Loss: 3603.6509, Pearson R: nan, RMSE: 73.4208\n",
      "{'batch_size': 16, 'lr': 0.01, 'dropout': 0.1, 'lr_decay': 0.001, 'layers': 4, 'hidden_dim': 400}\n"
     ]
    },
    {
     "name": "stderr",
     "output_type": "stream",
     "text": [
      "/home/samsonm/miniconda3/envs/multi_modal_DL/lib/python3.10/site-packages/scipy/stats/_stats_py.py:4424: ConstantInputWarning: An input array is constant; the correlation coefficient is not defined.\n",
      "  warnings.warn(stats.ConstantInputWarning(msg))\n"
     ]
    },
    {
     "name": "stdout",
     "output_type": "stream",
     "text": [
      "Epoch: 11/100, Val Loss: 5600.8018, Pearson R: nan, RMSE: 85.9521\n",
      "{'batch_size': 16, 'lr': 0.01, 'dropout': 0.1, 'lr_decay': 0.001, 'layers': 4, 'hidden_dim': 800}\n"
     ]
    },
    {
     "name": "stderr",
     "output_type": "stream",
     "text": [
      "/home/samsonm/miniconda3/envs/multi_modal_DL/lib/python3.10/site-packages/scipy/stats/_stats_py.py:4424: ConstantInputWarning: An input array is constant; the correlation coefficient is not defined.\n",
      "  warnings.warn(stats.ConstantInputWarning(msg))\n"
     ]
    },
    {
     "name": "stdout",
     "output_type": "stream",
     "text": [
      "Epoch: 11/100, Val Loss: 3719.0566, Pearson R: nan, RMSE: 74.2026\n",
      "{'batch_size': 16, 'lr': 0.01, 'dropout': 0.1, 'lr_decay': 0.0001, 'layers': 2, 'hidden_dim': 400}\n"
     ]
    },
    {
     "name": "stderr",
     "output_type": "stream",
     "text": [
      "/home/samsonm/miniconda3/envs/multi_modal_DL/lib/python3.10/site-packages/scipy/stats/_stats_py.py:4424: ConstantInputWarning: An input array is constant; the correlation coefficient is not defined.\n",
      "  warnings.warn(stats.ConstantInputWarning(msg))\n"
     ]
    },
    {
     "name": "stdout",
     "output_type": "stream",
     "text": [
      "Epoch: 12/100, Val Loss: 3574.3503, Pearson R: nan, RMSE: 73.2210\n",
      "{'batch_size': 16, 'lr': 0.01, 'dropout': 0.1, 'lr_decay': 0.0001, 'layers': 2, 'hidden_dim': 800}\n"
     ]
    },
    {
     "name": "stderr",
     "output_type": "stream",
     "text": [
      "/home/samsonm/miniconda3/envs/multi_modal_DL/lib/python3.10/site-packages/scipy/stats/_stats_py.py:4424: ConstantInputWarning: An input array is constant; the correlation coefficient is not defined.\n",
      "  warnings.warn(stats.ConstantInputWarning(msg))\n"
     ]
    },
    {
     "name": "stdout",
     "output_type": "stream",
     "text": [
      "Epoch: 14/100, Val Loss: 3694.5317, Pearson R: nan, RMSE: 74.0371\n",
      "{'batch_size': 16, 'lr': 0.01, 'dropout': 0.1, 'lr_decay': 0.0001, 'layers': 4, 'hidden_dim': 400}\n"
     ]
    },
    {
     "name": "stderr",
     "output_type": "stream",
     "text": [
      "/home/samsonm/miniconda3/envs/multi_modal_DL/lib/python3.10/site-packages/scipy/stats/_stats_py.py:4424: ConstantInputWarning: An input array is constant; the correlation coefficient is not defined.\n",
      "  warnings.warn(stats.ConstantInputWarning(msg))\n"
     ]
    },
    {
     "name": "stdout",
     "output_type": "stream",
     "text": [
      "Epoch: 14/100, Val Loss: 5167.9688, Pearson R: nan, RMSE: 83.3962\n",
      "{'batch_size': 16, 'lr': 0.01, 'dropout': 0.1, 'lr_decay': 0.0001, 'layers': 4, 'hidden_dim': 800}\n"
     ]
    },
    {
     "name": "stderr",
     "output_type": "stream",
     "text": [
      "/home/samsonm/miniconda3/envs/multi_modal_DL/lib/python3.10/site-packages/scipy/stats/_stats_py.py:4424: ConstantInputWarning: An input array is constant; the correlation coefficient is not defined.\n",
      "  warnings.warn(stats.ConstantInputWarning(msg))\n"
     ]
    },
    {
     "name": "stdout",
     "output_type": "stream",
     "text": [
      "Epoch: 10/100, Val Loss: 3578.2310, Pearson R: nan, RMSE: 73.2475\n",
      "{'batch_size': 16, 'lr': 0.01, 'dropout': 0.2, 'lr_decay': 0.1, 'layers': 2, 'hidden_dim': 400}\n"
     ]
    },
    {
     "name": "stderr",
     "output_type": "stream",
     "text": [
      "/home/samsonm/miniconda3/envs/multi_modal_DL/lib/python3.10/site-packages/scipy/stats/_stats_py.py:4424: ConstantInputWarning: An input array is constant; the correlation coefficient is not defined.\n",
      "  warnings.warn(stats.ConstantInputWarning(msg))\n"
     ]
    },
    {
     "name": "stdout",
     "output_type": "stream",
     "text": [
      "Epoch: 10/100, Val Loss: 3581.3105, Pearson R: nan, RMSE: 73.2685\n",
      "{'batch_size': 16, 'lr': 0.01, 'dropout': 0.2, 'lr_decay': 0.1, 'layers': 2, 'hidden_dim': 800}\n"
     ]
    },
    {
     "name": "stderr",
     "output_type": "stream",
     "text": [
      "/home/samsonm/miniconda3/envs/multi_modal_DL/lib/python3.10/site-packages/scipy/stats/_stats_py.py:4424: ConstantInputWarning: An input array is constant; the correlation coefficient is not defined.\n",
      "  warnings.warn(stats.ConstantInputWarning(msg))\n"
     ]
    },
    {
     "name": "stdout",
     "output_type": "stream",
     "text": [
      "Epoch: 8/100, Val Loss: 3870.5066, Pearson R: nan, RMSE: 75.2161\n",
      "{'batch_size': 16, 'lr': 0.01, 'dropout': 0.2, 'lr_decay': 0.1, 'layers': 4, 'hidden_dim': 400}\n"
     ]
    },
    {
     "name": "stderr",
     "output_type": "stream",
     "text": [
      "/home/samsonm/miniconda3/envs/multi_modal_DL/lib/python3.10/site-packages/scipy/stats/_stats_py.py:4424: ConstantInputWarning: An input array is constant; the correlation coefficient is not defined.\n",
      "  warnings.warn(stats.ConstantInputWarning(msg))\n"
     ]
    },
    {
     "name": "stdout",
     "output_type": "stream",
     "text": [
      "Epoch: 19/100, Val Loss: 4143.7178, Pearson R: nan, RMSE: 77.0109\n",
      "{'batch_size': 16, 'lr': 0.01, 'dropout': 0.2, 'lr_decay': 0.1, 'layers': 4, 'hidden_dim': 800}\n"
     ]
    },
    {
     "name": "stderr",
     "output_type": "stream",
     "text": [
      "/home/samsonm/miniconda3/envs/multi_modal_DL/lib/python3.10/site-packages/scipy/stats/_stats_py.py:4424: ConstantInputWarning: An input array is constant; the correlation coefficient is not defined.\n",
      "  warnings.warn(stats.ConstantInputWarning(msg))\n"
     ]
    },
    {
     "name": "stdout",
     "output_type": "stream",
     "text": [
      "Epoch: 11/100, Val Loss: 3737.6423, Pearson R: nan, RMSE: 74.3277\n",
      "{'batch_size': 16, 'lr': 0.01, 'dropout': 0.2, 'lr_decay': 0.01, 'layers': 2, 'hidden_dim': 400}\n"
     ]
    },
    {
     "name": "stderr",
     "output_type": "stream",
     "text": [
      "/home/samsonm/miniconda3/envs/multi_modal_DL/lib/python3.10/site-packages/scipy/stats/_stats_py.py:4424: ConstantInputWarning: An input array is constant; the correlation coefficient is not defined.\n",
      "  warnings.warn(stats.ConstantInputWarning(msg))\n"
     ]
    },
    {
     "name": "stdout",
     "output_type": "stream",
     "text": [
      "Epoch: 10/100, Val Loss: 3651.9038, Pearson R: nan, RMSE: 73.7487\n",
      "{'batch_size': 16, 'lr': 0.01, 'dropout': 0.2, 'lr_decay': 0.01, 'layers': 2, 'hidden_dim': 800}\n"
     ]
    },
    {
     "name": "stderr",
     "output_type": "stream",
     "text": [
      "/home/samsonm/miniconda3/envs/multi_modal_DL/lib/python3.10/site-packages/scipy/stats/_stats_py.py:4424: ConstantInputWarning: An input array is constant; the correlation coefficient is not defined.\n",
      "  warnings.warn(stats.ConstantInputWarning(msg))\n"
     ]
    },
    {
     "name": "stdout",
     "output_type": "stream",
     "text": [
      "Epoch: 9/100, Val Loss: 3589.0547, Pearson R: nan, RMSE: 73.3213\n",
      "{'batch_size': 16, 'lr': 0.01, 'dropout': 0.2, 'lr_decay': 0.01, 'layers': 4, 'hidden_dim': 400}\n"
     ]
    },
    {
     "name": "stderr",
     "output_type": "stream",
     "text": [
      "/home/samsonm/miniconda3/envs/multi_modal_DL/lib/python3.10/site-packages/scipy/stats/_stats_py.py:4424: ConstantInputWarning: An input array is constant; the correlation coefficient is not defined.\n",
      "  warnings.warn(stats.ConstantInputWarning(msg))\n"
     ]
    },
    {
     "name": "stdout",
     "output_type": "stream",
     "text": [
      "Epoch: 8/100, Val Loss: 4010.7485, Pearson R: nan, RMSE: 76.1427\n",
      "{'batch_size': 16, 'lr': 0.01, 'dropout': 0.2, 'lr_decay': 0.01, 'layers': 4, 'hidden_dim': 800}\n"
     ]
    },
    {
     "name": "stderr",
     "output_type": "stream",
     "text": [
      "/home/samsonm/miniconda3/envs/multi_modal_DL/lib/python3.10/site-packages/scipy/stats/_stats_py.py:4424: ConstantInputWarning: An input array is constant; the correlation coefficient is not defined.\n",
      "  warnings.warn(stats.ConstantInputWarning(msg))\n"
     ]
    },
    {
     "name": "stdout",
     "output_type": "stream",
     "text": [
      "Epoch: 11/100, Val Loss: 3579.1855, Pearson R: nan, RMSE: 73.2540\n",
      "{'batch_size': 16, 'lr': 0.01, 'dropout': 0.2, 'lr_decay': 0.001, 'layers': 2, 'hidden_dim': 400}\n"
     ]
    },
    {
     "name": "stderr",
     "output_type": "stream",
     "text": [
      "/home/samsonm/miniconda3/envs/multi_modal_DL/lib/python3.10/site-packages/scipy/stats/_stats_py.py:4424: ConstantInputWarning: An input array is constant; the correlation coefficient is not defined.\n",
      "  warnings.warn(stats.ConstantInputWarning(msg))\n"
     ]
    },
    {
     "name": "stdout",
     "output_type": "stream",
     "text": [
      "Epoch: 15/100, Val Loss: 5179.1787, Pearson R: nan, RMSE: 83.4634\n",
      "{'batch_size': 16, 'lr': 0.01, 'dropout': 0.2, 'lr_decay': 0.001, 'layers': 2, 'hidden_dim': 800}\n"
     ]
    },
    {
     "name": "stderr",
     "output_type": "stream",
     "text": [
      "/home/samsonm/miniconda3/envs/multi_modal_DL/lib/python3.10/site-packages/scipy/stats/_stats_py.py:4424: ConstantInputWarning: An input array is constant; the correlation coefficient is not defined.\n",
      "  warnings.warn(stats.ConstantInputWarning(msg))\n"
     ]
    },
    {
     "name": "stdout",
     "output_type": "stream",
     "text": [
      "Epoch: 25/100, Val Loss: 3579.2695, Pearson R: nan, RMSE: 73.2546\n",
      "{'batch_size': 16, 'lr': 0.01, 'dropout': 0.2, 'lr_decay': 0.001, 'layers': 4, 'hidden_dim': 400}\n"
     ]
    },
    {
     "name": "stderr",
     "output_type": "stream",
     "text": [
      "/home/samsonm/miniconda3/envs/multi_modal_DL/lib/python3.10/site-packages/scipy/stats/_stats_py.py:4424: ConstantInputWarning: An input array is constant; the correlation coefficient is not defined.\n",
      "  warnings.warn(stats.ConstantInputWarning(msg))\n"
     ]
    },
    {
     "name": "stdout",
     "output_type": "stream",
     "text": [
      "Epoch: 9/100, Val Loss: 3585.9536, Pearson R: nan, RMSE: 73.3002\n",
      "{'batch_size': 16, 'lr': 0.01, 'dropout': 0.2, 'lr_decay': 0.001, 'layers': 4, 'hidden_dim': 800}\n"
     ]
    },
    {
     "name": "stderr",
     "output_type": "stream",
     "text": [
      "/home/samsonm/miniconda3/envs/multi_modal_DL/lib/python3.10/site-packages/scipy/stats/_stats_py.py:4424: ConstantInputWarning: An input array is constant; the correlation coefficient is not defined.\n",
      "  warnings.warn(stats.ConstantInputWarning(msg))\n"
     ]
    },
    {
     "name": "stdout",
     "output_type": "stream",
     "text": [
      "Epoch: 11/100, Val Loss: 3733.8171, Pearson R: nan, RMSE: 74.3020\n",
      "{'batch_size': 16, 'lr': 0.01, 'dropout': 0.2, 'lr_decay': 0.0001, 'layers': 2, 'hidden_dim': 400}\n"
     ]
    },
    {
     "name": "stderr",
     "output_type": "stream",
     "text": [
      "/home/samsonm/miniconda3/envs/multi_modal_DL/lib/python3.10/site-packages/scipy/stats/_stats_py.py:4424: ConstantInputWarning: An input array is constant; the correlation coefficient is not defined.\n",
      "  warnings.warn(stats.ConstantInputWarning(msg))\n"
     ]
    },
    {
     "name": "stdout",
     "output_type": "stream",
     "text": [
      "Epoch: 8/100, Val Loss: 3576.4365, Pearson R: nan, RMSE: 73.2352\n",
      "{'batch_size': 16, 'lr': 0.01, 'dropout': 0.2, 'lr_decay': 0.0001, 'layers': 2, 'hidden_dim': 800}\n"
     ]
    },
    {
     "name": "stderr",
     "output_type": "stream",
     "text": [
      "/home/samsonm/miniconda3/envs/multi_modal_DL/lib/python3.10/site-packages/scipy/stats/_stats_py.py:4424: ConstantInputWarning: An input array is constant; the correlation coefficient is not defined.\n",
      "  warnings.warn(stats.ConstantInputWarning(msg))\n"
     ]
    },
    {
     "name": "stdout",
     "output_type": "stream",
     "text": [
      "Epoch: 9/100, Val Loss: 4427.4160, Pearson R: nan, RMSE: 78.8313\n",
      "{'batch_size': 16, 'lr': 0.01, 'dropout': 0.2, 'lr_decay': 0.0001, 'layers': 4, 'hidden_dim': 400}\n"
     ]
    },
    {
     "name": "stderr",
     "output_type": "stream",
     "text": [
      "/home/samsonm/miniconda3/envs/multi_modal_DL/lib/python3.10/site-packages/scipy/stats/_stats_py.py:4424: ConstantInputWarning: An input array is constant; the correlation coefficient is not defined.\n",
      "  warnings.warn(stats.ConstantInputWarning(msg))\n"
     ]
    },
    {
     "name": "stdout",
     "output_type": "stream",
     "text": [
      "Epoch: 7/100, Val Loss: 3573.9834, Pearson R: nan, RMSE: 73.2185\n",
      "{'batch_size': 16, 'lr': 0.01, 'dropout': 0.2, 'lr_decay': 0.0001, 'layers': 4, 'hidden_dim': 800}\n"
     ]
    },
    {
     "name": "stderr",
     "output_type": "stream",
     "text": [
      "/home/samsonm/miniconda3/envs/multi_modal_DL/lib/python3.10/site-packages/scipy/stats/_stats_py.py:4424: ConstantInputWarning: An input array is constant; the correlation coefficient is not defined.\n",
      "  warnings.warn(stats.ConstantInputWarning(msg))\n"
     ]
    },
    {
     "name": "stdout",
     "output_type": "stream",
     "text": [
      "Epoch: 6/100, Val Loss: 5591.6675, Pearson R: nan, RMSE: 85.8990\n",
      "{'batch_size': 16, 'lr': 0.01, 'dropout': 0.3, 'lr_decay': 0.1, 'layers': 2, 'hidden_dim': 400}\n"
     ]
    },
    {
     "name": "stderr",
     "output_type": "stream",
     "text": [
      "/home/samsonm/miniconda3/envs/multi_modal_DL/lib/python3.10/site-packages/scipy/stats/_stats_py.py:4424: ConstantInputWarning: An input array is constant; the correlation coefficient is not defined.\n",
      "  warnings.warn(stats.ConstantInputWarning(msg))\n"
     ]
    },
    {
     "name": "stdout",
     "output_type": "stream",
     "text": [
      "Epoch: 10/100, Val Loss: 3611.9565, Pearson R: nan, RMSE: 73.4773\n",
      "{'batch_size': 16, 'lr': 0.01, 'dropout': 0.3, 'lr_decay': 0.1, 'layers': 2, 'hidden_dim': 800}\n"
     ]
    },
    {
     "name": "stderr",
     "output_type": "stream",
     "text": [
      "/home/samsonm/miniconda3/envs/multi_modal_DL/lib/python3.10/site-packages/scipy/stats/_stats_py.py:4424: ConstantInputWarning: An input array is constant; the correlation coefficient is not defined.\n",
      "  warnings.warn(stats.ConstantInputWarning(msg))\n"
     ]
    },
    {
     "name": "stdout",
     "output_type": "stream",
     "text": [
      "Epoch: 17/100, Val Loss: 3761.6570, Pearson R: nan, RMSE: 74.4891\n",
      "{'batch_size': 16, 'lr': 0.01, 'dropout': 0.3, 'lr_decay': 0.1, 'layers': 4, 'hidden_dim': 400}\n"
     ]
    },
    {
     "name": "stderr",
     "output_type": "stream",
     "text": [
      "/home/samsonm/miniconda3/envs/multi_modal_DL/lib/python3.10/site-packages/scipy/stats/_stats_py.py:4424: ConstantInputWarning: An input array is constant; the correlation coefficient is not defined.\n",
      "  warnings.warn(stats.ConstantInputWarning(msg))\n"
     ]
    },
    {
     "name": "stdout",
     "output_type": "stream",
     "text": [
      "Epoch: 14/100, Val Loss: 3574.2969, Pearson R: nan, RMSE: 73.2206\n",
      "{'batch_size': 16, 'lr': 0.01, 'dropout': 0.3, 'lr_decay': 0.1, 'layers': 4, 'hidden_dim': 800}\n"
     ]
    },
    {
     "name": "stderr",
     "output_type": "stream",
     "text": [
      "/home/samsonm/miniconda3/envs/multi_modal_DL/lib/python3.10/site-packages/scipy/stats/_stats_py.py:4424: ConstantInputWarning: An input array is constant; the correlation coefficient is not defined.\n",
      "  warnings.warn(stats.ConstantInputWarning(msg))\n"
     ]
    },
    {
     "name": "stdout",
     "output_type": "stream",
     "text": [
      "Epoch: 9/100, Val Loss: 3589.3462, Pearson R: nan, RMSE: 73.3233\n",
      "{'batch_size': 16, 'lr': 0.01, 'dropout': 0.3, 'lr_decay': 0.01, 'layers': 2, 'hidden_dim': 400}\n"
     ]
    },
    {
     "name": "stderr",
     "output_type": "stream",
     "text": [
      "/home/samsonm/miniconda3/envs/multi_modal_DL/lib/python3.10/site-packages/scipy/stats/_stats_py.py:4424: ConstantInputWarning: An input array is constant; the correlation coefficient is not defined.\n",
      "  warnings.warn(stats.ConstantInputWarning(msg))\n"
     ]
    },
    {
     "name": "stdout",
     "output_type": "stream",
     "text": [
      "Epoch: 10/100, Val Loss: 3576.2534, Pearson R: nan, RMSE: 73.2340\n",
      "{'batch_size': 16, 'lr': 0.01, 'dropout': 0.3, 'lr_decay': 0.01, 'layers': 2, 'hidden_dim': 800}\n"
     ]
    },
    {
     "name": "stderr",
     "output_type": "stream",
     "text": [
      "/home/samsonm/miniconda3/envs/multi_modal_DL/lib/python3.10/site-packages/scipy/stats/_stats_py.py:4424: ConstantInputWarning: An input array is constant; the correlation coefficient is not defined.\n",
      "  warnings.warn(stats.ConstantInputWarning(msg))\n"
     ]
    },
    {
     "name": "stdout",
     "output_type": "stream",
     "text": [
      "Epoch: 12/100, Val Loss: 3773.1040, Pearson R: nan, RMSE: 74.5659\n",
      "{'batch_size': 16, 'lr': 0.01, 'dropout': 0.3, 'lr_decay': 0.01, 'layers': 4, 'hidden_dim': 400}\n"
     ]
    },
    {
     "name": "stderr",
     "output_type": "stream",
     "text": [
      "/home/samsonm/miniconda3/envs/multi_modal_DL/lib/python3.10/site-packages/scipy/stats/_stats_py.py:4424: ConstantInputWarning: An input array is constant; the correlation coefficient is not defined.\n",
      "  warnings.warn(stats.ConstantInputWarning(msg))\n"
     ]
    },
    {
     "name": "stdout",
     "output_type": "stream",
     "text": [
      "Epoch: 14/100, Val Loss: 3920.0269, Pearson R: nan, RMSE: 75.5446\n",
      "{'batch_size': 16, 'lr': 0.01, 'dropout': 0.3, 'lr_decay': 0.01, 'layers': 4, 'hidden_dim': 800}\n"
     ]
    },
    {
     "name": "stderr",
     "output_type": "stream",
     "text": [
      "/home/samsonm/miniconda3/envs/multi_modal_DL/lib/python3.10/site-packages/scipy/stats/_stats_py.py:4424: ConstantInputWarning: An input array is constant; the correlation coefficient is not defined.\n",
      "  warnings.warn(stats.ConstantInputWarning(msg))\n"
     ]
    },
    {
     "name": "stdout",
     "output_type": "stream",
     "text": [
      "Epoch: 10/100, Val Loss: 4204.7935, Pearson R: nan, RMSE: 77.4064\n",
      "{'batch_size': 16, 'lr': 0.01, 'dropout': 0.3, 'lr_decay': 0.001, 'layers': 2, 'hidden_dim': 400}\n"
     ]
    },
    {
     "name": "stderr",
     "output_type": "stream",
     "text": [
      "/home/samsonm/miniconda3/envs/multi_modal_DL/lib/python3.10/site-packages/scipy/stats/_stats_py.py:4424: ConstantInputWarning: An input array is constant; the correlation coefficient is not defined.\n",
      "  warnings.warn(stats.ConstantInputWarning(msg))\n"
     ]
    },
    {
     "name": "stdout",
     "output_type": "stream",
     "text": [
      "Epoch: 7/100, Val Loss: 5740.1953, Pearson R: nan, RMSE: 86.7592\n",
      "{'batch_size': 16, 'lr': 0.01, 'dropout': 0.3, 'lr_decay': 0.001, 'layers': 2, 'hidden_dim': 800}\n"
     ]
    },
    {
     "name": "stderr",
     "output_type": "stream",
     "text": [
      "/home/samsonm/miniconda3/envs/multi_modal_DL/lib/python3.10/site-packages/scipy/stats/_stats_py.py:4424: ConstantInputWarning: An input array is constant; the correlation coefficient is not defined.\n",
      "  warnings.warn(stats.ConstantInputWarning(msg))\n"
     ]
    },
    {
     "name": "stdout",
     "output_type": "stream",
     "text": [
      "Epoch: 9/100, Val Loss: 3818.0417, Pearson R: nan, RMSE: 74.8666\n",
      "{'batch_size': 16, 'lr': 0.01, 'dropout': 0.3, 'lr_decay': 0.001, 'layers': 4, 'hidden_dim': 400}\n"
     ]
    },
    {
     "name": "stderr",
     "output_type": "stream",
     "text": [
      "/home/samsonm/miniconda3/envs/multi_modal_DL/lib/python3.10/site-packages/scipy/stats/_stats_py.py:4424: ConstantInputWarning: An input array is constant; the correlation coefficient is not defined.\n",
      "  warnings.warn(stats.ConstantInputWarning(msg))\n"
     ]
    },
    {
     "name": "stdout",
     "output_type": "stream",
     "text": [
      "Epoch: 19/100, Val Loss: 3676.6394, Pearson R: nan, RMSE: 73.9162\n",
      "{'batch_size': 16, 'lr': 0.01, 'dropout': 0.3, 'lr_decay': 0.001, 'layers': 4, 'hidden_dim': 800}\n"
     ]
    },
    {
     "name": "stderr",
     "output_type": "stream",
     "text": [
      "/home/samsonm/miniconda3/envs/multi_modal_DL/lib/python3.10/site-packages/scipy/stats/_stats_py.py:4424: ConstantInputWarning: An input array is constant; the correlation coefficient is not defined.\n",
      "  warnings.warn(stats.ConstantInputWarning(msg))\n"
     ]
    },
    {
     "name": "stdout",
     "output_type": "stream",
     "text": [
      "Epoch: 10/100, Val Loss: 3637.2065, Pearson R: nan, RMSE: 73.6490\n",
      "{'batch_size': 16, 'lr': 0.01, 'dropout': 0.3, 'lr_decay': 0.0001, 'layers': 2, 'hidden_dim': 400}\n"
     ]
    },
    {
     "name": "stderr",
     "output_type": "stream",
     "text": [
      "/home/samsonm/miniconda3/envs/multi_modal_DL/lib/python3.10/site-packages/scipy/stats/_stats_py.py:4424: ConstantInputWarning: An input array is constant; the correlation coefficient is not defined.\n",
      "  warnings.warn(stats.ConstantInputWarning(msg))\n"
     ]
    },
    {
     "name": "stdout",
     "output_type": "stream",
     "text": [
      "Epoch: 7/100, Val Loss: 6294.0664, Pearson R: nan, RMSE: 89.8945\n",
      "{'batch_size': 16, 'lr': 0.01, 'dropout': 0.3, 'lr_decay': 0.0001, 'layers': 2, 'hidden_dim': 800}\n"
     ]
    },
    {
     "name": "stderr",
     "output_type": "stream",
     "text": [
      "/home/samsonm/miniconda3/envs/multi_modal_DL/lib/python3.10/site-packages/scipy/stats/_stats_py.py:4424: ConstantInputWarning: An input array is constant; the correlation coefficient is not defined.\n",
      "  warnings.warn(stats.ConstantInputWarning(msg))\n"
     ]
    },
    {
     "name": "stdout",
     "output_type": "stream",
     "text": [
      "Epoch: 8/100, Val Loss: 3655.5190, Pearson R: nan, RMSE: 73.7732\n",
      "{'batch_size': 16, 'lr': 0.01, 'dropout': 0.3, 'lr_decay': 0.0001, 'layers': 4, 'hidden_dim': 400}\n"
     ]
    },
    {
     "name": "stderr",
     "output_type": "stream",
     "text": [
      "/home/samsonm/miniconda3/envs/multi_modal_DL/lib/python3.10/site-packages/scipy/stats/_stats_py.py:4424: ConstantInputWarning: An input array is constant; the correlation coefficient is not defined.\n",
      "  warnings.warn(stats.ConstantInputWarning(msg))\n"
     ]
    },
    {
     "name": "stdout",
     "output_type": "stream",
     "text": [
      "Epoch: 9/100, Val Loss: 3576.2856, Pearson R: nan, RMSE: 73.2342\n",
      "{'batch_size': 16, 'lr': 0.01, 'dropout': 0.3, 'lr_decay': 0.0001, 'layers': 4, 'hidden_dim': 800}\n"
     ]
    },
    {
     "name": "stderr",
     "output_type": "stream",
     "text": [
      "/home/samsonm/miniconda3/envs/multi_modal_DL/lib/python3.10/site-packages/scipy/stats/_stats_py.py:4424: ConstantInputWarning: An input array is constant; the correlation coefficient is not defined.\n",
      "  warnings.warn(stats.ConstantInputWarning(msg))\n"
     ]
    },
    {
     "name": "stdout",
     "output_type": "stream",
     "text": [
      "Epoch: 12/100, Val Loss: 3596.0945, Pearson R: nan, RMSE: 73.3693\n",
      "{'batch_size': 16, 'lr': 0.01, 'dropout': 0.4, 'lr_decay': 0.1, 'layers': 2, 'hidden_dim': 400}\n"
     ]
    },
    {
     "name": "stderr",
     "output_type": "stream",
     "text": [
      "/home/samsonm/miniconda3/envs/multi_modal_DL/lib/python3.10/site-packages/scipy/stats/_stats_py.py:4424: ConstantInputWarning: An input array is constant; the correlation coefficient is not defined.\n",
      "  warnings.warn(stats.ConstantInputWarning(msg))\n"
     ]
    },
    {
     "name": "stdout",
     "output_type": "stream",
     "text": [
      "Epoch: 10/100, Val Loss: 3575.7761, Pearson R: nan, RMSE: 73.2307\n",
      "{'batch_size': 16, 'lr': 0.01, 'dropout': 0.4, 'lr_decay': 0.1, 'layers': 2, 'hidden_dim': 800}\n"
     ]
    },
    {
     "name": "stderr",
     "output_type": "stream",
     "text": [
      "/home/samsonm/miniconda3/envs/multi_modal_DL/lib/python3.10/site-packages/scipy/stats/_stats_py.py:4424: ConstantInputWarning: An input array is constant; the correlation coefficient is not defined.\n",
      "  warnings.warn(stats.ConstantInputWarning(msg))\n"
     ]
    },
    {
     "name": "stdout",
     "output_type": "stream",
     "text": [
      "Epoch: 14/100, Val Loss: 3616.5933, Pearson R: nan, RMSE: 73.5089\n",
      "{'batch_size': 16, 'lr': 0.01, 'dropout': 0.4, 'lr_decay': 0.1, 'layers': 4, 'hidden_dim': 400}\n"
     ]
    },
    {
     "name": "stderr",
     "output_type": "stream",
     "text": [
      "/home/samsonm/miniconda3/envs/multi_modal_DL/lib/python3.10/site-packages/scipy/stats/_stats_py.py:4424: ConstantInputWarning: An input array is constant; the correlation coefficient is not defined.\n",
      "  warnings.warn(stats.ConstantInputWarning(msg))\n"
     ]
    },
    {
     "name": "stdout",
     "output_type": "stream",
     "text": [
      "Epoch: 12/100, Val Loss: 3588.0483, Pearson R: nan, RMSE: 73.3145\n",
      "{'batch_size': 16, 'lr': 0.01, 'dropout': 0.4, 'lr_decay': 0.1, 'layers': 4, 'hidden_dim': 800}\n"
     ]
    },
    {
     "name": "stderr",
     "output_type": "stream",
     "text": [
      "/home/samsonm/miniconda3/envs/multi_modal_DL/lib/python3.10/site-packages/scipy/stats/_stats_py.py:4424: ConstantInputWarning: An input array is constant; the correlation coefficient is not defined.\n",
      "  warnings.warn(stats.ConstantInputWarning(msg))\n"
     ]
    },
    {
     "name": "stdout",
     "output_type": "stream",
     "text": [
      "Epoch: 13/100, Val Loss: 3795.1445, Pearson R: nan, RMSE: 74.7135\n",
      "{'batch_size': 16, 'lr': 0.01, 'dropout': 0.4, 'lr_decay': 0.01, 'layers': 2, 'hidden_dim': 400}\n"
     ]
    },
    {
     "name": "stderr",
     "output_type": "stream",
     "text": [
      "/home/samsonm/miniconda3/envs/multi_modal_DL/lib/python3.10/site-packages/scipy/stats/_stats_py.py:4424: ConstantInputWarning: An input array is constant; the correlation coefficient is not defined.\n",
      "  warnings.warn(stats.ConstantInputWarning(msg))\n"
     ]
    },
    {
     "name": "stdout",
     "output_type": "stream",
     "text": [
      "Epoch: 7/100, Val Loss: 4383.1392, Pearson R: nan, RMSE: 78.5500\n",
      "{'batch_size': 16, 'lr': 0.01, 'dropout': 0.4, 'lr_decay': 0.01, 'layers': 2, 'hidden_dim': 800}\n"
     ]
    },
    {
     "name": "stderr",
     "output_type": "stream",
     "text": [
      "/home/samsonm/miniconda3/envs/multi_modal_DL/lib/python3.10/site-packages/scipy/stats/_stats_py.py:4424: ConstantInputWarning: An input array is constant; the correlation coefficient is not defined.\n",
      "  warnings.warn(stats.ConstantInputWarning(msg))\n"
     ]
    },
    {
     "name": "stdout",
     "output_type": "stream",
     "text": [
      "Epoch: 10/100, Val Loss: 10949.9375, Pearson R: nan, RMSE: 112.8579\n",
      "{'batch_size': 16, 'lr': 0.01, 'dropout': 0.4, 'lr_decay': 0.01, 'layers': 4, 'hidden_dim': 400}\n"
     ]
    },
    {
     "name": "stderr",
     "output_type": "stream",
     "text": [
      "/home/samsonm/miniconda3/envs/multi_modal_DL/lib/python3.10/site-packages/scipy/stats/_stats_py.py:4424: ConstantInputWarning: An input array is constant; the correlation coefficient is not defined.\n",
      "  warnings.warn(stats.ConstantInputWarning(msg))\n"
     ]
    },
    {
     "name": "stdout",
     "output_type": "stream",
     "text": [
      "Epoch: 23/100, Val Loss: 3684.1870, Pearson R: nan, RMSE: 73.9672\n",
      "{'batch_size': 16, 'lr': 0.01, 'dropout': 0.4, 'lr_decay': 0.01, 'layers': 4, 'hidden_dim': 800}\n"
     ]
    },
    {
     "name": "stderr",
     "output_type": "stream",
     "text": [
      "/home/samsonm/miniconda3/envs/multi_modal_DL/lib/python3.10/site-packages/scipy/stats/_stats_py.py:4424: ConstantInputWarning: An input array is constant; the correlation coefficient is not defined.\n",
      "  warnings.warn(stats.ConstantInputWarning(msg))\n"
     ]
    },
    {
     "name": "stdout",
     "output_type": "stream",
     "text": [
      "Epoch: 12/100, Val Loss: 3617.5015, Pearson R: nan, RMSE: 73.5151\n",
      "{'batch_size': 16, 'lr': 0.01, 'dropout': 0.4, 'lr_decay': 0.001, 'layers': 2, 'hidden_dim': 400}\n"
     ]
    },
    {
     "name": "stderr",
     "output_type": "stream",
     "text": [
      "/home/samsonm/miniconda3/envs/multi_modal_DL/lib/python3.10/site-packages/scipy/stats/_stats_py.py:4424: ConstantInputWarning: An input array is constant; the correlation coefficient is not defined.\n",
      "  warnings.warn(stats.ConstantInputWarning(msg))\n"
     ]
    },
    {
     "name": "stdout",
     "output_type": "stream",
     "text": [
      "Epoch: 7/100, Val Loss: 4553.2305, Pearson R: nan, RMSE: 79.6253\n",
      "{'batch_size': 16, 'lr': 0.01, 'dropout': 0.4, 'lr_decay': 0.001, 'layers': 2, 'hidden_dim': 800}\n"
     ]
    },
    {
     "name": "stderr",
     "output_type": "stream",
     "text": [
      "/home/samsonm/miniconda3/envs/multi_modal_DL/lib/python3.10/site-packages/scipy/stats/_stats_py.py:4424: ConstantInputWarning: An input array is constant; the correlation coefficient is not defined.\n",
      "  warnings.warn(stats.ConstantInputWarning(msg))\n"
     ]
    },
    {
     "name": "stdout",
     "output_type": "stream",
     "text": [
      "Epoch: 18/100, Val Loss: 3681.3425, Pearson R: nan, RMSE: 73.9480\n",
      "{'batch_size': 16, 'lr': 0.01, 'dropout': 0.4, 'lr_decay': 0.001, 'layers': 4, 'hidden_dim': 400}\n"
     ]
    },
    {
     "name": "stderr",
     "output_type": "stream",
     "text": [
      "/home/samsonm/miniconda3/envs/multi_modal_DL/lib/python3.10/site-packages/scipy/stats/_stats_py.py:4424: ConstantInputWarning: An input array is constant; the correlation coefficient is not defined.\n",
      "  warnings.warn(stats.ConstantInputWarning(msg))\n"
     ]
    },
    {
     "name": "stdout",
     "output_type": "stream",
     "text": [
      "Epoch: 16/100, Val Loss: 3574.7246, Pearson R: nan, RMSE: 73.2235\n",
      "{'batch_size': 16, 'lr': 0.01, 'dropout': 0.4, 'lr_decay': 0.001, 'layers': 4, 'hidden_dim': 800}\n"
     ]
    },
    {
     "name": "stderr",
     "output_type": "stream",
     "text": [
      "/home/samsonm/miniconda3/envs/multi_modal_DL/lib/python3.10/site-packages/scipy/stats/_stats_py.py:4424: ConstantInputWarning: An input array is constant; the correlation coefficient is not defined.\n",
      "  warnings.warn(stats.ConstantInputWarning(msg))\n"
     ]
    },
    {
     "name": "stdout",
     "output_type": "stream",
     "text": [
      "Epoch: 10/100, Val Loss: 3632.6572, Pearson R: nan, RMSE: 73.6181\n",
      "{'batch_size': 16, 'lr': 0.01, 'dropout': 0.4, 'lr_decay': 0.0001, 'layers': 2, 'hidden_dim': 400}\n"
     ]
    },
    {
     "name": "stderr",
     "output_type": "stream",
     "text": [
      "/home/samsonm/miniconda3/envs/multi_modal_DL/lib/python3.10/site-packages/scipy/stats/_stats_py.py:4424: ConstantInputWarning: An input array is constant; the correlation coefficient is not defined.\n",
      "  warnings.warn(stats.ConstantInputWarning(msg))\n"
     ]
    },
    {
     "name": "stdout",
     "output_type": "stream",
     "text": [
      "Epoch: 9/100, Val Loss: 3583.1519, Pearson R: nan, RMSE: 73.2811\n",
      "{'batch_size': 16, 'lr': 0.01, 'dropout': 0.4, 'lr_decay': 0.0001, 'layers': 2, 'hidden_dim': 800}\n"
     ]
    },
    {
     "name": "stderr",
     "output_type": "stream",
     "text": [
      "/home/samsonm/miniconda3/envs/multi_modal_DL/lib/python3.10/site-packages/scipy/stats/_stats_py.py:4424: ConstantInputWarning: An input array is constant; the correlation coefficient is not defined.\n",
      "  warnings.warn(stats.ConstantInputWarning(msg))\n"
     ]
    },
    {
     "name": "stdout",
     "output_type": "stream",
     "text": [
      "Epoch: 14/100, Val Loss: 3614.0234, Pearson R: nan, RMSE: 73.4914\n",
      "{'batch_size': 16, 'lr': 0.01, 'dropout': 0.4, 'lr_decay': 0.0001, 'layers': 4, 'hidden_dim': 400}\n"
     ]
    },
    {
     "name": "stderr",
     "output_type": "stream",
     "text": [
      "/home/samsonm/miniconda3/envs/multi_modal_DL/lib/python3.10/site-packages/scipy/stats/_stats_py.py:4424: ConstantInputWarning: An input array is constant; the correlation coefficient is not defined.\n",
      "  warnings.warn(stats.ConstantInputWarning(msg))\n"
     ]
    },
    {
     "name": "stdout",
     "output_type": "stream",
     "text": [
      "Epoch: 22/100, Val Loss: 3578.3113, Pearson R: nan, RMSE: 73.2480\n",
      "{'batch_size': 16, 'lr': 0.01, 'dropout': 0.4, 'lr_decay': 0.0001, 'layers': 4, 'hidden_dim': 800}\n"
     ]
    },
    {
     "name": "stderr",
     "output_type": "stream",
     "text": [
      "/home/samsonm/miniconda3/envs/multi_modal_DL/lib/python3.10/site-packages/scipy/stats/_stats_py.py:4424: ConstantInputWarning: An input array is constant; the correlation coefficient is not defined.\n",
      "  warnings.warn(stats.ConstantInputWarning(msg))\n"
     ]
    },
    {
     "name": "stdout",
     "output_type": "stream",
     "text": [
      "Epoch: 11/100, Val Loss: 3573.9402, Pearson R: nan, RMSE: 73.2182\n",
      "{'batch_size': 16, 'lr': 0.01, 'dropout': 0.5, 'lr_decay': 0.1, 'layers': 2, 'hidden_dim': 400}\n"
     ]
    },
    {
     "name": "stderr",
     "output_type": "stream",
     "text": [
      "/home/samsonm/miniconda3/envs/multi_modal_DL/lib/python3.10/site-packages/scipy/stats/_stats_py.py:4424: ConstantInputWarning: An input array is constant; the correlation coefficient is not defined.\n",
      "  warnings.warn(stats.ConstantInputWarning(msg))\n"
     ]
    },
    {
     "name": "stdout",
     "output_type": "stream",
     "text": [
      "Epoch: 7/100, Val Loss: 5906.7549, Pearson R: nan, RMSE: 87.7138\n",
      "{'batch_size': 16, 'lr': 0.01, 'dropout': 0.5, 'lr_decay': 0.1, 'layers': 2, 'hidden_dim': 800}\n"
     ]
    },
    {
     "name": "stderr",
     "output_type": "stream",
     "text": [
      "/home/samsonm/miniconda3/envs/multi_modal_DL/lib/python3.10/site-packages/scipy/stats/_stats_py.py:4424: ConstantInputWarning: An input array is constant; the correlation coefficient is not defined.\n",
      "  warnings.warn(stats.ConstantInputWarning(msg))\n"
     ]
    },
    {
     "name": "stdout",
     "output_type": "stream",
     "text": [
      "Epoch: 11/100, Val Loss: 3696.2363, Pearson R: nan, RMSE: 74.0486\n",
      "{'batch_size': 16, 'lr': 0.01, 'dropout': 0.5, 'lr_decay': 0.1, 'layers': 4, 'hidden_dim': 400}\n"
     ]
    },
    {
     "name": "stderr",
     "output_type": "stream",
     "text": [
      "/home/samsonm/miniconda3/envs/multi_modal_DL/lib/python3.10/site-packages/scipy/stats/_stats_py.py:4424: ConstantInputWarning: An input array is constant; the correlation coefficient is not defined.\n",
      "  warnings.warn(stats.ConstantInputWarning(msg))\n"
     ]
    },
    {
     "name": "stdout",
     "output_type": "stream",
     "text": [
      "Epoch: 11/100, Val Loss: 3589.3657, Pearson R: nan, RMSE: 73.3235\n",
      "{'batch_size': 16, 'lr': 0.01, 'dropout': 0.5, 'lr_decay': 0.1, 'layers': 4, 'hidden_dim': 800}\n"
     ]
    },
    {
     "name": "stderr",
     "output_type": "stream",
     "text": [
      "/home/samsonm/miniconda3/envs/multi_modal_DL/lib/python3.10/site-packages/scipy/stats/_stats_py.py:4424: ConstantInputWarning: An input array is constant; the correlation coefficient is not defined.\n",
      "  warnings.warn(stats.ConstantInputWarning(msg))\n"
     ]
    },
    {
     "name": "stdout",
     "output_type": "stream",
     "text": [
      "Epoch: 16/100, Val Loss: 3735.5308, Pearson R: nan, RMSE: 74.3135\n",
      "{'batch_size': 16, 'lr': 0.01, 'dropout': 0.5, 'lr_decay': 0.01, 'layers': 2, 'hidden_dim': 400}\n"
     ]
    },
    {
     "name": "stderr",
     "output_type": "stream",
     "text": [
      "/home/samsonm/miniconda3/envs/multi_modal_DL/lib/python3.10/site-packages/scipy/stats/_stats_py.py:4424: ConstantInputWarning: An input array is constant; the correlation coefficient is not defined.\n",
      "  warnings.warn(stats.ConstantInputWarning(msg))\n"
     ]
    },
    {
     "name": "stdout",
     "output_type": "stream",
     "text": [
      "Epoch: 7/100, Val Loss: 3611.3345, Pearson R: nan, RMSE: 73.4731\n",
      "{'batch_size': 16, 'lr': 0.01, 'dropout': 0.5, 'lr_decay': 0.01, 'layers': 2, 'hidden_dim': 800}\n"
     ]
    },
    {
     "name": "stderr",
     "output_type": "stream",
     "text": [
      "/home/samsonm/miniconda3/envs/multi_modal_DL/lib/python3.10/site-packages/scipy/stats/_stats_py.py:4424: ConstantInputWarning: An input array is constant; the correlation coefficient is not defined.\n",
      "  warnings.warn(stats.ConstantInputWarning(msg))\n"
     ]
    },
    {
     "name": "stdout",
     "output_type": "stream",
     "text": [
      "Epoch: 9/100, Val Loss: 3790.0271, Pearson R: nan, RMSE: 74.6792\n",
      "{'batch_size': 16, 'lr': 0.01, 'dropout': 0.5, 'lr_decay': 0.01, 'layers': 4, 'hidden_dim': 400}\n"
     ]
    },
    {
     "name": "stderr",
     "output_type": "stream",
     "text": [
      "/home/samsonm/miniconda3/envs/multi_modal_DL/lib/python3.10/site-packages/scipy/stats/_stats_py.py:4424: ConstantInputWarning: An input array is constant; the correlation coefficient is not defined.\n",
      "  warnings.warn(stats.ConstantInputWarning(msg))\n"
     ]
    },
    {
     "name": "stdout",
     "output_type": "stream",
     "text": [
      "Epoch: 14/100, Val Loss: 3628.5317, Pearson R: nan, RMSE: 73.5900\n",
      "{'batch_size': 16, 'lr': 0.01, 'dropout': 0.5, 'lr_decay': 0.01, 'layers': 4, 'hidden_dim': 800}\n"
     ]
    },
    {
     "name": "stderr",
     "output_type": "stream",
     "text": [
      "/home/samsonm/miniconda3/envs/multi_modal_DL/lib/python3.10/site-packages/scipy/stats/_stats_py.py:4424: ConstantInputWarning: An input array is constant; the correlation coefficient is not defined.\n",
      "  warnings.warn(stats.ConstantInputWarning(msg))\n"
     ]
    },
    {
     "name": "stdout",
     "output_type": "stream",
     "text": [
      "Epoch: 9/100, Val Loss: 3594.9507, Pearson R: nan, RMSE: 73.3615\n",
      "{'batch_size': 16, 'lr': 0.01, 'dropout': 0.5, 'lr_decay': 0.001, 'layers': 2, 'hidden_dim': 400}\n"
     ]
    },
    {
     "name": "stderr",
     "output_type": "stream",
     "text": [
      "/home/samsonm/miniconda3/envs/multi_modal_DL/lib/python3.10/site-packages/scipy/stats/_stats_py.py:4424: ConstantInputWarning: An input array is constant; the correlation coefficient is not defined.\n",
      "  warnings.warn(stats.ConstantInputWarning(msg))\n"
     ]
    },
    {
     "name": "stdout",
     "output_type": "stream",
     "text": [
      "Epoch: 7/100, Val Loss: 4367.4658, Pearson R: nan, RMSE: 78.4502\n",
      "{'batch_size': 16, 'lr': 0.01, 'dropout': 0.5, 'lr_decay': 0.001, 'layers': 2, 'hidden_dim': 800}\n"
     ]
    },
    {
     "name": "stderr",
     "output_type": "stream",
     "text": [
      "/home/samsonm/miniconda3/envs/multi_modal_DL/lib/python3.10/site-packages/scipy/stats/_stats_py.py:4424: ConstantInputWarning: An input array is constant; the correlation coefficient is not defined.\n",
      "  warnings.warn(stats.ConstantInputWarning(msg))\n"
     ]
    },
    {
     "name": "stdout",
     "output_type": "stream",
     "text": [
      "Epoch: 15/100, Val Loss: 4164.7715, Pearson R: nan, RMSE: 77.1475\n",
      "{'batch_size': 16, 'lr': 0.01, 'dropout': 0.5, 'lr_decay': 0.001, 'layers': 4, 'hidden_dim': 400}\n"
     ]
    },
    {
     "name": "stderr",
     "output_type": "stream",
     "text": [
      "/home/samsonm/miniconda3/envs/multi_modal_DL/lib/python3.10/site-packages/scipy/stats/_stats_py.py:4424: ConstantInputWarning: An input array is constant; the correlation coefficient is not defined.\n",
      "  warnings.warn(stats.ConstantInputWarning(msg))\n"
     ]
    },
    {
     "name": "stdout",
     "output_type": "stream",
     "text": [
      "Epoch: 10/100, Val Loss: 3624.2310, Pearson R: nan, RMSE: 73.5608\n",
      "{'batch_size': 16, 'lr': 0.01, 'dropout': 0.5, 'lr_decay': 0.001, 'layers': 4, 'hidden_dim': 800}\n"
     ]
    },
    {
     "name": "stderr",
     "output_type": "stream",
     "text": [
      "/home/samsonm/miniconda3/envs/multi_modal_DL/lib/python3.10/site-packages/scipy/stats/_stats_py.py:4424: ConstantInputWarning: An input array is constant; the correlation coefficient is not defined.\n",
      "  warnings.warn(stats.ConstantInputWarning(msg))\n"
     ]
    },
    {
     "name": "stdout",
     "output_type": "stream",
     "text": [
      "Epoch: 10/100, Val Loss: 4357.7617, Pearson R: nan, RMSE: 78.3883\n",
      "{'batch_size': 16, 'lr': 0.01, 'dropout': 0.5, 'lr_decay': 0.0001, 'layers': 2, 'hidden_dim': 400}\n"
     ]
    },
    {
     "name": "stderr",
     "output_type": "stream",
     "text": [
      "/home/samsonm/miniconda3/envs/multi_modal_DL/lib/python3.10/site-packages/scipy/stats/_stats_py.py:4424: ConstantInputWarning: An input array is constant; the correlation coefficient is not defined.\n",
      "  warnings.warn(stats.ConstantInputWarning(msg))\n"
     ]
    },
    {
     "name": "stdout",
     "output_type": "stream",
     "text": [
      "Epoch: 7/100, Val Loss: 4098.3672, Pearson R: nan, RMSE: 76.7159\n",
      "{'batch_size': 16, 'lr': 0.01, 'dropout': 0.5, 'lr_decay': 0.0001, 'layers': 2, 'hidden_dim': 800}\n"
     ]
    },
    {
     "name": "stderr",
     "output_type": "stream",
     "text": [
      "/home/samsonm/miniconda3/envs/multi_modal_DL/lib/python3.10/site-packages/scipy/stats/_stats_py.py:4424: ConstantInputWarning: An input array is constant; the correlation coefficient is not defined.\n",
      "  warnings.warn(stats.ConstantInputWarning(msg))\n"
     ]
    },
    {
     "name": "stdout",
     "output_type": "stream",
     "text": [
      "Epoch: 8/100, Val Loss: 3593.4795, Pearson R: nan, RMSE: 73.3515\n",
      "{'batch_size': 16, 'lr': 0.01, 'dropout': 0.5, 'lr_decay': 0.0001, 'layers': 4, 'hidden_dim': 400}\n"
     ]
    },
    {
     "name": "stderr",
     "output_type": "stream",
     "text": [
      "/home/samsonm/miniconda3/envs/multi_modal_DL/lib/python3.10/site-packages/scipy/stats/_stats_py.py:4424: ConstantInputWarning: An input array is constant; the correlation coefficient is not defined.\n",
      "  warnings.warn(stats.ConstantInputWarning(msg))\n"
     ]
    },
    {
     "name": "stdout",
     "output_type": "stream",
     "text": [
      "Epoch: 7/100, Val Loss: 3630.6638, Pearson R: nan, RMSE: 73.6045\n",
      "{'batch_size': 16, 'lr': 0.01, 'dropout': 0.5, 'lr_decay': 0.0001, 'layers': 4, 'hidden_dim': 800}\n"
     ]
    },
    {
     "name": "stderr",
     "output_type": "stream",
     "text": [
      "/home/samsonm/miniconda3/envs/multi_modal_DL/lib/python3.10/site-packages/scipy/stats/_stats_py.py:4424: ConstantInputWarning: An input array is constant; the correlation coefficient is not defined.\n",
      "  warnings.warn(stats.ConstantInputWarning(msg))\n"
     ]
    },
    {
     "name": "stdout",
     "output_type": "stream",
     "text": [
      "Epoch: 20/100, Val Loss: 3592.8047, Pearson R: nan, RMSE: 73.3469\n",
      "{'batch_size': 16, 'lr': 0.001, 'dropout': 0.1, 'lr_decay': 0.1, 'layers': 2, 'hidden_dim': 400}\n"
     ]
    },
    {
     "name": "stderr",
     "output_type": "stream",
     "text": [
      "/home/samsonm/miniconda3/envs/multi_modal_DL/lib/python3.10/site-packages/scipy/stats/_stats_py.py:4424: ConstantInputWarning: An input array is constant; the correlation coefficient is not defined.\n",
      "  warnings.warn(stats.ConstantInputWarning(msg))\n"
     ]
    },
    {
     "name": "stdout",
     "output_type": "stream",
     "text": [
      "Epoch: 7/100, Val Loss: 3589.1255, Pearson R: nan, RMSE: 73.3218\n",
      "{'batch_size': 16, 'lr': 0.001, 'dropout': 0.1, 'lr_decay': 0.1, 'layers': 2, 'hidden_dim': 800}\n"
     ]
    },
    {
     "name": "stderr",
     "output_type": "stream",
     "text": [
      "/home/samsonm/miniconda3/envs/multi_modal_DL/lib/python3.10/site-packages/scipy/stats/_stats_py.py:4424: ConstantInputWarning: An input array is constant; the correlation coefficient is not defined.\n",
      "  warnings.warn(stats.ConstantInputWarning(msg))\n"
     ]
    },
    {
     "name": "stdout",
     "output_type": "stream",
     "text": [
      "Epoch: 15/100, Val Loss: 3583.7158, Pearson R: nan, RMSE: 73.2849\n",
      "{'batch_size': 16, 'lr': 0.001, 'dropout': 0.1, 'lr_decay': 0.1, 'layers': 4, 'hidden_dim': 400}\n"
     ]
    },
    {
     "name": "stderr",
     "output_type": "stream",
     "text": [
      "/home/samsonm/miniconda3/envs/multi_modal_DL/lib/python3.10/site-packages/scipy/stats/_stats_py.py:4424: ConstantInputWarning: An input array is constant; the correlation coefficient is not defined.\n",
      "  warnings.warn(stats.ConstantInputWarning(msg))\n"
     ]
    },
    {
     "name": "stdout",
     "output_type": "stream",
     "text": [
      "Epoch: 12/100, Val Loss: 3590.1833, Pearson R: nan, RMSE: 73.3290\n",
      "{'batch_size': 16, 'lr': 0.001, 'dropout': 0.1, 'lr_decay': 0.1, 'layers': 4, 'hidden_dim': 800}\n"
     ]
    },
    {
     "name": "stderr",
     "output_type": "stream",
     "text": [
      "/home/samsonm/miniconda3/envs/multi_modal_DL/lib/python3.10/site-packages/scipy/stats/_stats_py.py:4424: ConstantInputWarning: An input array is constant; the correlation coefficient is not defined.\n",
      "  warnings.warn(stats.ConstantInputWarning(msg))\n"
     ]
    },
    {
     "name": "stdout",
     "output_type": "stream",
     "text": [
      "Epoch: 6/100, Val Loss: 3574.1433, Pearson R: nan, RMSE: 73.2196\n",
      "{'batch_size': 16, 'lr': 0.001, 'dropout': 0.1, 'lr_decay': 0.01, 'layers': 2, 'hidden_dim': 400}\n"
     ]
    },
    {
     "name": "stderr",
     "output_type": "stream",
     "text": [
      "/home/samsonm/miniconda3/envs/multi_modal_DL/lib/python3.10/site-packages/scipy/stats/_stats_py.py:4424: ConstantInputWarning: An input array is constant; the correlation coefficient is not defined.\n",
      "  warnings.warn(stats.ConstantInputWarning(msg))\n"
     ]
    },
    {
     "name": "stdout",
     "output_type": "stream",
     "text": [
      "Epoch: 7/100, Val Loss: 3587.8340, Pearson R: nan, RMSE: 73.3130\n",
      "{'batch_size': 16, 'lr': 0.001, 'dropout': 0.1, 'lr_decay': 0.01, 'layers': 2, 'hidden_dim': 800}\n"
     ]
    },
    {
     "name": "stderr",
     "output_type": "stream",
     "text": [
      "/home/samsonm/miniconda3/envs/multi_modal_DL/lib/python3.10/site-packages/scipy/stats/_stats_py.py:4424: ConstantInputWarning: An input array is constant; the correlation coefficient is not defined.\n",
      "  warnings.warn(stats.ConstantInputWarning(msg))\n"
     ]
    },
    {
     "name": "stdout",
     "output_type": "stream",
     "text": [
      "Epoch: 15/100, Val Loss: 3584.6504, Pearson R: nan, RMSE: 73.2913\n",
      "{'batch_size': 16, 'lr': 0.001, 'dropout': 0.1, 'lr_decay': 0.01, 'layers': 4, 'hidden_dim': 400}\n"
     ]
    },
    {
     "name": "stderr",
     "output_type": "stream",
     "text": [
      "/home/samsonm/miniconda3/envs/multi_modal_DL/lib/python3.10/site-packages/scipy/stats/_stats_py.py:4424: ConstantInputWarning: An input array is constant; the correlation coefficient is not defined.\n",
      "  warnings.warn(stats.ConstantInputWarning(msg))\n"
     ]
    },
    {
     "name": "stdout",
     "output_type": "stream",
     "text": [
      "Epoch: 12/100, Val Loss: 3586.2019, Pearson R: nan, RMSE: 73.3019\n",
      "{'batch_size': 16, 'lr': 0.001, 'dropout': 0.1, 'lr_decay': 0.01, 'layers': 4, 'hidden_dim': 800}\n"
     ]
    },
    {
     "name": "stderr",
     "output_type": "stream",
     "text": [
      "/home/samsonm/miniconda3/envs/multi_modal_DL/lib/python3.10/site-packages/scipy/stats/_stats_py.py:4424: ConstantInputWarning: An input array is constant; the correlation coefficient is not defined.\n",
      "  warnings.warn(stats.ConstantInputWarning(msg))\n"
     ]
    },
    {
     "name": "stdout",
     "output_type": "stream",
     "text": [
      "Epoch: 6/100, Val Loss: 3574.4648, Pearson R: nan, RMSE: 73.2218\n",
      "{'batch_size': 16, 'lr': 0.001, 'dropout': 0.1, 'lr_decay': 0.001, 'layers': 2, 'hidden_dim': 400}\n"
     ]
    },
    {
     "name": "stderr",
     "output_type": "stream",
     "text": [
      "/home/samsonm/miniconda3/envs/multi_modal_DL/lib/python3.10/site-packages/scipy/stats/_stats_py.py:4424: ConstantInputWarning: An input array is constant; the correlation coefficient is not defined.\n",
      "  warnings.warn(stats.ConstantInputWarning(msg))\n"
     ]
    },
    {
     "name": "stdout",
     "output_type": "stream",
     "text": [
      "Epoch: 7/100, Val Loss: 3587.6172, Pearson R: nan, RMSE: 73.3115\n",
      "{'batch_size': 16, 'lr': 0.001, 'dropout': 0.1, 'lr_decay': 0.001, 'layers': 2, 'hidden_dim': 800}\n"
     ]
    },
    {
     "name": "stderr",
     "output_type": "stream",
     "text": [
      "/home/samsonm/miniconda3/envs/multi_modal_DL/lib/python3.10/site-packages/scipy/stats/_stats_py.py:4424: ConstantInputWarning: An input array is constant; the correlation coefficient is not defined.\n",
      "  warnings.warn(stats.ConstantInputWarning(msg))\n"
     ]
    },
    {
     "name": "stdout",
     "output_type": "stream",
     "text": [
      "Epoch: 23/100, Val Loss: 3581.3872, Pearson R: nan, RMSE: 73.2690\n",
      "{'batch_size': 16, 'lr': 0.001, 'dropout': 0.1, 'lr_decay': 0.001, 'layers': 4, 'hidden_dim': 400}\n"
     ]
    },
    {
     "name": "stderr",
     "output_type": "stream",
     "text": [
      "/home/samsonm/miniconda3/envs/multi_modal_DL/lib/python3.10/site-packages/scipy/stats/_stats_py.py:4424: ConstantInputWarning: An input array is constant; the correlation coefficient is not defined.\n",
      "  warnings.warn(stats.ConstantInputWarning(msg))\n"
     ]
    },
    {
     "name": "stdout",
     "output_type": "stream",
     "text": [
      "Epoch: 12/100, Val Loss: 3587.3074, Pearson R: nan, RMSE: 73.3094\n",
      "{'batch_size': 16, 'lr': 0.001, 'dropout': 0.1, 'lr_decay': 0.001, 'layers': 4, 'hidden_dim': 800}\n"
     ]
    },
    {
     "name": "stderr",
     "output_type": "stream",
     "text": [
      "/home/samsonm/miniconda3/envs/multi_modal_DL/lib/python3.10/site-packages/scipy/stats/_stats_py.py:4424: ConstantInputWarning: An input array is constant; the correlation coefficient is not defined.\n",
      "  warnings.warn(stats.ConstantInputWarning(msg))\n"
     ]
    },
    {
     "name": "stdout",
     "output_type": "stream",
     "text": [
      "Epoch: 6/100, Val Loss: 3574.9412, Pearson R: nan, RMSE: 73.2250\n",
      "{'batch_size': 16, 'lr': 0.001, 'dropout': 0.1, 'lr_decay': 0.0001, 'layers': 2, 'hidden_dim': 400}\n"
     ]
    },
    {
     "name": "stderr",
     "output_type": "stream",
     "text": [
      "/home/samsonm/miniconda3/envs/multi_modal_DL/lib/python3.10/site-packages/scipy/stats/_stats_py.py:4424: ConstantInputWarning: An input array is constant; the correlation coefficient is not defined.\n",
      "  warnings.warn(stats.ConstantInputWarning(msg))\n"
     ]
    },
    {
     "name": "stdout",
     "output_type": "stream",
     "text": [
      "Epoch: 7/100, Val Loss: 3588.3340, Pearson R: nan, RMSE: 73.3164\n",
      "{'batch_size': 16, 'lr': 0.001, 'dropout': 0.1, 'lr_decay': 0.0001, 'layers': 2, 'hidden_dim': 800}\n"
     ]
    },
    {
     "name": "stderr",
     "output_type": "stream",
     "text": [
      "/home/samsonm/miniconda3/envs/multi_modal_DL/lib/python3.10/site-packages/scipy/stats/_stats_py.py:4424: ConstantInputWarning: An input array is constant; the correlation coefficient is not defined.\n",
      "  warnings.warn(stats.ConstantInputWarning(msg))\n"
     ]
    },
    {
     "name": "stdout",
     "output_type": "stream",
     "text": [
      "Epoch: 15/100, Val Loss: 3584.4941, Pearson R: nan, RMSE: 73.2902\n",
      "{'batch_size': 16, 'lr': 0.001, 'dropout': 0.1, 'lr_decay': 0.0001, 'layers': 4, 'hidden_dim': 400}\n"
     ]
    },
    {
     "name": "stderr",
     "output_type": "stream",
     "text": [
      "/home/samsonm/miniconda3/envs/multi_modal_DL/lib/python3.10/site-packages/scipy/stats/_stats_py.py:4424: ConstantInputWarning: An input array is constant; the correlation coefficient is not defined.\n",
      "  warnings.warn(stats.ConstantInputWarning(msg))\n"
     ]
    },
    {
     "name": "stdout",
     "output_type": "stream",
     "text": [
      "Epoch: 12/100, Val Loss: 3588.9939, Pearson R: nan, RMSE: 73.3209\n",
      "{'batch_size': 16, 'lr': 0.001, 'dropout': 0.1, 'lr_decay': 0.0001, 'layers': 4, 'hidden_dim': 800}\n"
     ]
    },
    {
     "name": "stderr",
     "output_type": "stream",
     "text": [
      "/home/samsonm/miniconda3/envs/multi_modal_DL/lib/python3.10/site-packages/scipy/stats/_stats_py.py:4424: ConstantInputWarning: An input array is constant; the correlation coefficient is not defined.\n",
      "  warnings.warn(stats.ConstantInputWarning(msg))\n"
     ]
    },
    {
     "name": "stdout",
     "output_type": "stream",
     "text": [
      "Epoch: 6/100, Val Loss: 3574.0271, Pearson R: nan, RMSE: 73.2188\n",
      "{'batch_size': 16, 'lr': 0.001, 'dropout': 0.2, 'lr_decay': 0.1, 'layers': 2, 'hidden_dim': 400}\n"
     ]
    },
    {
     "name": "stderr",
     "output_type": "stream",
     "text": [
      "/home/samsonm/miniconda3/envs/multi_modal_DL/lib/python3.10/site-packages/scipy/stats/_stats_py.py:4424: ConstantInputWarning: An input array is constant; the correlation coefficient is not defined.\n",
      "  warnings.warn(stats.ConstantInputWarning(msg))\n"
     ]
    },
    {
     "name": "stdout",
     "output_type": "stream",
     "text": [
      "Epoch: 7/100, Val Loss: 3590.9487, Pearson R: nan, RMSE: 73.3342\n",
      "{'batch_size': 16, 'lr': 0.001, 'dropout': 0.2, 'lr_decay': 0.1, 'layers': 2, 'hidden_dim': 800}\n"
     ]
    },
    {
     "name": "stderr",
     "output_type": "stream",
     "text": [
      "/home/samsonm/miniconda3/envs/multi_modal_DL/lib/python3.10/site-packages/scipy/stats/_stats_py.py:4424: ConstantInputWarning: An input array is constant; the correlation coefficient is not defined.\n",
      "  warnings.warn(stats.ConstantInputWarning(msg))\n"
     ]
    },
    {
     "name": "stdout",
     "output_type": "stream",
     "text": [
      "Epoch: 14/100, Val Loss: 3583.1997, Pearson R: nan, RMSE: 73.2814\n",
      "{'batch_size': 16, 'lr': 0.001, 'dropout': 0.2, 'lr_decay': 0.1, 'layers': 4, 'hidden_dim': 400}\n"
     ]
    },
    {
     "name": "stderr",
     "output_type": "stream",
     "text": [
      "/home/samsonm/miniconda3/envs/multi_modal_DL/lib/python3.10/site-packages/scipy/stats/_stats_py.py:4424: ConstantInputWarning: An input array is constant; the correlation coefficient is not defined.\n",
      "  warnings.warn(stats.ConstantInputWarning(msg))\n"
     ]
    },
    {
     "name": "stdout",
     "output_type": "stream",
     "text": [
      "Epoch: 11/100, Val Loss: 3585.3257, Pearson R: nan, RMSE: 73.2959\n",
      "{'batch_size': 16, 'lr': 0.001, 'dropout': 0.2, 'lr_decay': 0.1, 'layers': 4, 'hidden_dim': 800}\n"
     ]
    },
    {
     "name": "stderr",
     "output_type": "stream",
     "text": [
      "/home/samsonm/miniconda3/envs/multi_modal_DL/lib/python3.10/site-packages/scipy/stats/_stats_py.py:4424: ConstantInputWarning: An input array is constant; the correlation coefficient is not defined.\n",
      "  warnings.warn(stats.ConstantInputWarning(msg))\n"
     ]
    },
    {
     "name": "stdout",
     "output_type": "stream",
     "text": [
      "Epoch: 6/100, Val Loss: 3577.5730, Pearson R: nan, RMSE: 73.2430\n",
      "{'batch_size': 16, 'lr': 0.001, 'dropout': 0.2, 'lr_decay': 0.01, 'layers': 2, 'hidden_dim': 400}\n"
     ]
    },
    {
     "name": "stderr",
     "output_type": "stream",
     "text": [
      "/home/samsonm/miniconda3/envs/multi_modal_DL/lib/python3.10/site-packages/scipy/stats/_stats_py.py:4424: ConstantInputWarning: An input array is constant; the correlation coefficient is not defined.\n",
      "  warnings.warn(stats.ConstantInputWarning(msg))\n"
     ]
    },
    {
     "name": "stdout",
     "output_type": "stream",
     "text": [
      "Epoch: 7/100, Val Loss: 3589.9619, Pearson R: nan, RMSE: 73.3275\n",
      "{'batch_size': 16, 'lr': 0.001, 'dropout': 0.2, 'lr_decay': 0.01, 'layers': 2, 'hidden_dim': 800}\n"
     ]
    },
    {
     "name": "stderr",
     "output_type": "stream",
     "text": [
      "/home/samsonm/miniconda3/envs/multi_modal_DL/lib/python3.10/site-packages/scipy/stats/_stats_py.py:4424: ConstantInputWarning: An input array is constant; the correlation coefficient is not defined.\n",
      "  warnings.warn(stats.ConstantInputWarning(msg))\n"
     ]
    },
    {
     "name": "stdout",
     "output_type": "stream",
     "text": [
      "Epoch: 14/100, Val Loss: 3582.3208, Pearson R: nan, RMSE: 73.2754\n",
      "{'batch_size': 16, 'lr': 0.001, 'dropout': 0.2, 'lr_decay': 0.01, 'layers': 4, 'hidden_dim': 400}\n"
     ]
    },
    {
     "name": "stderr",
     "output_type": "stream",
     "text": [
      "/home/samsonm/miniconda3/envs/multi_modal_DL/lib/python3.10/site-packages/scipy/stats/_stats_py.py:4424: ConstantInputWarning: An input array is constant; the correlation coefficient is not defined.\n",
      "  warnings.warn(stats.ConstantInputWarning(msg))\n"
     ]
    },
    {
     "name": "stdout",
     "output_type": "stream",
     "text": [
      "Epoch: 11/100, Val Loss: 3592.3523, Pearson R: nan, RMSE: 73.3438\n",
      "{'batch_size': 16, 'lr': 0.001, 'dropout': 0.2, 'lr_decay': 0.01, 'layers': 4, 'hidden_dim': 800}\n"
     ]
    },
    {
     "name": "stderr",
     "output_type": "stream",
     "text": [
      "/home/samsonm/miniconda3/envs/multi_modal_DL/lib/python3.10/site-packages/scipy/stats/_stats_py.py:4424: ConstantInputWarning: An input array is constant; the correlation coefficient is not defined.\n",
      "  warnings.warn(stats.ConstantInputWarning(msg))\n"
     ]
    },
    {
     "name": "stdout",
     "output_type": "stream",
     "text": [
      "Epoch: 6/100, Val Loss: 3597.9617, Pearson R: nan, RMSE: 73.3820\n",
      "{'batch_size': 16, 'lr': 0.001, 'dropout': 0.2, 'lr_decay': 0.001, 'layers': 2, 'hidden_dim': 400}\n"
     ]
    },
    {
     "name": "stderr",
     "output_type": "stream",
     "text": [
      "/home/samsonm/miniconda3/envs/multi_modal_DL/lib/python3.10/site-packages/scipy/stats/_stats_py.py:4424: ConstantInputWarning: An input array is constant; the correlation coefficient is not defined.\n",
      "  warnings.warn(stats.ConstantInputWarning(msg))\n"
     ]
    },
    {
     "name": "stdout",
     "output_type": "stream",
     "text": [
      "Epoch: 7/100, Val Loss: 3591.0107, Pearson R: nan, RMSE: 73.3347\n",
      "{'batch_size': 16, 'lr': 0.001, 'dropout': 0.2, 'lr_decay': 0.001, 'layers': 2, 'hidden_dim': 800}\n"
     ]
    },
    {
     "name": "stderr",
     "output_type": "stream",
     "text": [
      "/home/samsonm/miniconda3/envs/multi_modal_DL/lib/python3.10/site-packages/scipy/stats/_stats_py.py:4424: ConstantInputWarning: An input array is constant; the correlation coefficient is not defined.\n",
      "  warnings.warn(stats.ConstantInputWarning(msg))\n"
     ]
    },
    {
     "name": "stdout",
     "output_type": "stream",
     "text": [
      "Epoch: 14/100, Val Loss: 3582.7983, Pearson R: nan, RMSE: 73.2787\n",
      "{'batch_size': 16, 'lr': 0.001, 'dropout': 0.2, 'lr_decay': 0.001, 'layers': 4, 'hidden_dim': 400}\n"
     ]
    },
    {
     "name": "stderr",
     "output_type": "stream",
     "text": [
      "/home/samsonm/miniconda3/envs/multi_modal_DL/lib/python3.10/site-packages/scipy/stats/_stats_py.py:4424: ConstantInputWarning: An input array is constant; the correlation coefficient is not defined.\n",
      "  warnings.warn(stats.ConstantInputWarning(msg))\n"
     ]
    },
    {
     "name": "stdout",
     "output_type": "stream",
     "text": [
      "Epoch: 11/100, Val Loss: 3585.2026, Pearson R: nan, RMSE: 73.2951\n",
      "{'batch_size': 16, 'lr': 0.001, 'dropout': 0.2, 'lr_decay': 0.001, 'layers': 4, 'hidden_dim': 800}\n"
     ]
    },
    {
     "name": "stderr",
     "output_type": "stream",
     "text": [
      "/home/samsonm/miniconda3/envs/multi_modal_DL/lib/python3.10/site-packages/scipy/stats/_stats_py.py:4424: ConstantInputWarning: An input array is constant; the correlation coefficient is not defined.\n",
      "  warnings.warn(stats.ConstantInputWarning(msg))\n"
     ]
    },
    {
     "name": "stdout",
     "output_type": "stream",
     "text": [
      "Epoch: 6/100, Val Loss: 3574.0925, Pearson R: nan, RMSE: 73.2192\n",
      "{'batch_size': 16, 'lr': 0.001, 'dropout': 0.2, 'lr_decay': 0.0001, 'layers': 2, 'hidden_dim': 400}\n"
     ]
    },
    {
     "name": "stderr",
     "output_type": "stream",
     "text": [
      "/home/samsonm/miniconda3/envs/multi_modal_DL/lib/python3.10/site-packages/scipy/stats/_stats_py.py:4424: ConstantInputWarning: An input array is constant; the correlation coefficient is not defined.\n",
      "  warnings.warn(stats.ConstantInputWarning(msg))\n"
     ]
    },
    {
     "name": "stdout",
     "output_type": "stream",
     "text": [
      "Epoch: 7/100, Val Loss: 3590.5225, Pearson R: nan, RMSE: 73.3313\n",
      "{'batch_size': 16, 'lr': 0.001, 'dropout': 0.2, 'lr_decay': 0.0001, 'layers': 2, 'hidden_dim': 800}\n"
     ]
    },
    {
     "name": "stderr",
     "output_type": "stream",
     "text": [
      "/home/samsonm/miniconda3/envs/multi_modal_DL/lib/python3.10/site-packages/scipy/stats/_stats_py.py:4424: ConstantInputWarning: An input array is constant; the correlation coefficient is not defined.\n",
      "  warnings.warn(stats.ConstantInputWarning(msg))\n"
     ]
    },
    {
     "name": "stdout",
     "output_type": "stream",
     "text": [
      "Epoch: 14/100, Val Loss: 3583.0583, Pearson R: nan, RMSE: 73.2804\n",
      "{'batch_size': 16, 'lr': 0.001, 'dropout': 0.2, 'lr_decay': 0.0001, 'layers': 4, 'hidden_dim': 400}\n"
     ]
    },
    {
     "name": "stderr",
     "output_type": "stream",
     "text": [
      "/home/samsonm/miniconda3/envs/multi_modal_DL/lib/python3.10/site-packages/scipy/stats/_stats_py.py:4424: ConstantInputWarning: An input array is constant; the correlation coefficient is not defined.\n",
      "  warnings.warn(stats.ConstantInputWarning(msg))\n"
     ]
    },
    {
     "name": "stdout",
     "output_type": "stream",
     "text": [
      "Epoch: 11/100, Val Loss: 3585.8823, Pearson R: nan, RMSE: 73.2997\n",
      "{'batch_size': 16, 'lr': 0.001, 'dropout': 0.2, 'lr_decay': 0.0001, 'layers': 4, 'hidden_dim': 800}\n"
     ]
    },
    {
     "name": "stderr",
     "output_type": "stream",
     "text": [
      "/home/samsonm/miniconda3/envs/multi_modal_DL/lib/python3.10/site-packages/scipy/stats/_stats_py.py:4424: ConstantInputWarning: An input array is constant; the correlation coefficient is not defined.\n",
      "  warnings.warn(stats.ConstantInputWarning(msg))\n"
     ]
    },
    {
     "name": "stdout",
     "output_type": "stream",
     "text": [
      "Epoch: 6/100, Val Loss: 3580.8970, Pearson R: nan, RMSE: 73.2657\n",
      "{'batch_size': 16, 'lr': 0.001, 'dropout': 0.3, 'lr_decay': 0.1, 'layers': 2, 'hidden_dim': 400}\n"
     ]
    },
    {
     "name": "stderr",
     "output_type": "stream",
     "text": [
      "/home/samsonm/miniconda3/envs/multi_modal_DL/lib/python3.10/site-packages/scipy/stats/_stats_py.py:4424: ConstantInputWarning: An input array is constant; the correlation coefficient is not defined.\n",
      "  warnings.warn(stats.ConstantInputWarning(msg))\n"
     ]
    },
    {
     "name": "stdout",
     "output_type": "stream",
     "text": [
      "Epoch: 7/100, Val Loss: 3590.0112, Pearson R: nan, RMSE: 73.3279\n",
      "{'batch_size': 16, 'lr': 0.001, 'dropout': 0.3, 'lr_decay': 0.1, 'layers': 2, 'hidden_dim': 800}\n"
     ]
    },
    {
     "name": "stderr",
     "output_type": "stream",
     "text": [
      "/home/samsonm/miniconda3/envs/multi_modal_DL/lib/python3.10/site-packages/scipy/stats/_stats_py.py:4424: ConstantInputWarning: An input array is constant; the correlation coefficient is not defined.\n",
      "  warnings.warn(stats.ConstantInputWarning(msg))\n"
     ]
    },
    {
     "name": "stdout",
     "output_type": "stream",
     "text": [
      "Epoch: 13/100, Val Loss: 3582.8999, Pearson R: nan, RMSE: 73.2793\n",
      "{'batch_size': 16, 'lr': 0.001, 'dropout': 0.3, 'lr_decay': 0.1, 'layers': 4, 'hidden_dim': 400}\n"
     ]
    },
    {
     "name": "stderr",
     "output_type": "stream",
     "text": [
      "/home/samsonm/miniconda3/envs/multi_modal_DL/lib/python3.10/site-packages/scipy/stats/_stats_py.py:4424: ConstantInputWarning: An input array is constant; the correlation coefficient is not defined.\n",
      "  warnings.warn(stats.ConstantInputWarning(msg))\n"
     ]
    },
    {
     "name": "stdout",
     "output_type": "stream",
     "text": [
      "Epoch: 6/100, Val Loss: 3603.2852, Pearson R: nan, RMSE: 73.4183\n",
      "{'batch_size': 16, 'lr': 0.001, 'dropout': 0.3, 'lr_decay': 0.1, 'layers': 4, 'hidden_dim': 800}\n"
     ]
    },
    {
     "name": "stderr",
     "output_type": "stream",
     "text": [
      "/home/samsonm/miniconda3/envs/multi_modal_DL/lib/python3.10/site-packages/scipy/stats/_stats_py.py:4424: ConstantInputWarning: An input array is constant; the correlation coefficient is not defined.\n",
      "  warnings.warn(stats.ConstantInputWarning(msg))\n"
     ]
    },
    {
     "name": "stdout",
     "output_type": "stream",
     "text": [
      "Epoch: 6/100, Val Loss: 3598.6523, Pearson R: nan, RMSE: 73.3868\n",
      "{'batch_size': 16, 'lr': 0.001, 'dropout': 0.3, 'lr_decay': 0.01, 'layers': 2, 'hidden_dim': 400}\n"
     ]
    },
    {
     "name": "stderr",
     "output_type": "stream",
     "text": [
      "/home/samsonm/miniconda3/envs/multi_modal_DL/lib/python3.10/site-packages/scipy/stats/_stats_py.py:4424: ConstantInputWarning: An input array is constant; the correlation coefficient is not defined.\n",
      "  warnings.warn(stats.ConstantInputWarning(msg))\n"
     ]
    },
    {
     "name": "stdout",
     "output_type": "stream",
     "text": [
      "Epoch: 7/100, Val Loss: 3598.1699, Pearson R: nan, RMSE: 73.3835\n",
      "{'batch_size': 16, 'lr': 0.001, 'dropout': 0.3, 'lr_decay': 0.01, 'layers': 2, 'hidden_dim': 800}\n"
     ]
    },
    {
     "name": "stderr",
     "output_type": "stream",
     "text": [
      "/home/samsonm/miniconda3/envs/multi_modal_DL/lib/python3.10/site-packages/scipy/stats/_stats_py.py:4424: ConstantInputWarning: An input array is constant; the correlation coefficient is not defined.\n",
      "  warnings.warn(stats.ConstantInputWarning(msg))\n"
     ]
    },
    {
     "name": "stdout",
     "output_type": "stream",
     "text": [
      "Epoch: 14/100, Val Loss: 3583.9736, Pearson R: nan, RMSE: 73.2867\n",
      "{'batch_size': 16, 'lr': 0.001, 'dropout': 0.3, 'lr_decay': 0.01, 'layers': 4, 'hidden_dim': 400}\n"
     ]
    },
    {
     "name": "stderr",
     "output_type": "stream",
     "text": [
      "/home/samsonm/miniconda3/envs/multi_modal_DL/lib/python3.10/site-packages/scipy/stats/_stats_py.py:4424: ConstantInputWarning: An input array is constant; the correlation coefficient is not defined.\n",
      "  warnings.warn(stats.ConstantInputWarning(msg))\n"
     ]
    },
    {
     "name": "stdout",
     "output_type": "stream",
     "text": [
      "Epoch: 11/100, Val Loss: 3587.7930, Pearson R: nan, RMSE: 73.3127\n",
      "{'batch_size': 16, 'lr': 0.001, 'dropout': 0.3, 'lr_decay': 0.01, 'layers': 4, 'hidden_dim': 800}\n"
     ]
    },
    {
     "name": "stderr",
     "output_type": "stream",
     "text": [
      "/home/samsonm/miniconda3/envs/multi_modal_DL/lib/python3.10/site-packages/scipy/stats/_stats_py.py:4424: ConstantInputWarning: An input array is constant; the correlation coefficient is not defined.\n",
      "  warnings.warn(stats.ConstantInputWarning(msg))\n"
     ]
    },
    {
     "name": "stdout",
     "output_type": "stream",
     "text": [
      "Epoch: 7/100, Val Loss: 3582.5938, Pearson R: nan, RMSE: 73.2773\n",
      "{'batch_size': 16, 'lr': 0.001, 'dropout': 0.3, 'lr_decay': 0.001, 'layers': 2, 'hidden_dim': 400}\n"
     ]
    },
    {
     "name": "stderr",
     "output_type": "stream",
     "text": [
      "/home/samsonm/miniconda3/envs/multi_modal_DL/lib/python3.10/site-packages/scipy/stats/_stats_py.py:4424: ConstantInputWarning: An input array is constant; the correlation coefficient is not defined.\n",
      "  warnings.warn(stats.ConstantInputWarning(msg))\n"
     ]
    },
    {
     "name": "stdout",
     "output_type": "stream",
     "text": [
      "Epoch: 7/100, Val Loss: 3593.6372, Pearson R: nan, RMSE: 73.3526\n",
      "{'batch_size': 16, 'lr': 0.001, 'dropout': 0.3, 'lr_decay': 0.001, 'layers': 2, 'hidden_dim': 800}\n"
     ]
    },
    {
     "name": "stderr",
     "output_type": "stream",
     "text": [
      "/home/samsonm/miniconda3/envs/multi_modal_DL/lib/python3.10/site-packages/scipy/stats/_stats_py.py:4424: ConstantInputWarning: An input array is constant; the correlation coefficient is not defined.\n",
      "  warnings.warn(stats.ConstantInputWarning(msg))\n"
     ]
    },
    {
     "name": "stdout",
     "output_type": "stream",
     "text": [
      "Epoch: 14/100, Val Loss: 3585.2009, Pearson R: nan, RMSE: 73.2950\n",
      "{'batch_size': 16, 'lr': 0.001, 'dropout': 0.3, 'lr_decay': 0.001, 'layers': 4, 'hidden_dim': 400}\n"
     ]
    },
    {
     "name": "stderr",
     "output_type": "stream",
     "text": [
      "/home/samsonm/miniconda3/envs/multi_modal_DL/lib/python3.10/site-packages/scipy/stats/_stats_py.py:4424: ConstantInputWarning: An input array is constant; the correlation coefficient is not defined.\n",
      "  warnings.warn(stats.ConstantInputWarning(msg))\n"
     ]
    },
    {
     "name": "stdout",
     "output_type": "stream",
     "text": [
      "Epoch: 6/100, Val Loss: 3586.1814, Pearson R: nan, RMSE: 73.3017\n",
      "{'batch_size': 16, 'lr': 0.001, 'dropout': 0.3, 'lr_decay': 0.001, 'layers': 4, 'hidden_dim': 800}\n"
     ]
    },
    {
     "name": "stderr",
     "output_type": "stream",
     "text": [
      "/home/samsonm/miniconda3/envs/multi_modal_DL/lib/python3.10/site-packages/scipy/stats/_stats_py.py:4424: ConstantInputWarning: An input array is constant; the correlation coefficient is not defined.\n",
      "  warnings.warn(stats.ConstantInputWarning(msg))\n"
     ]
    },
    {
     "name": "stdout",
     "output_type": "stream",
     "text": [
      "Epoch: 7/100, Val Loss: 3579.7407, Pearson R: nan, RMSE: 73.2578\n",
      "{'batch_size': 16, 'lr': 0.001, 'dropout': 0.3, 'lr_decay': 0.0001, 'layers': 2, 'hidden_dim': 400}\n"
     ]
    },
    {
     "name": "stderr",
     "output_type": "stream",
     "text": [
      "/home/samsonm/miniconda3/envs/multi_modal_DL/lib/python3.10/site-packages/scipy/stats/_stats_py.py:4424: ConstantInputWarning: An input array is constant; the correlation coefficient is not defined.\n",
      "  warnings.warn(stats.ConstantInputWarning(msg))\n"
     ]
    },
    {
     "name": "stdout",
     "output_type": "stream",
     "text": [
      "Epoch: 7/100, Val Loss: 3593.1440, Pearson R: nan, RMSE: 73.3492\n",
      "{'batch_size': 16, 'lr': 0.001, 'dropout': 0.3, 'lr_decay': 0.0001, 'layers': 2, 'hidden_dim': 800}\n"
     ]
    },
    {
     "name": "stderr",
     "output_type": "stream",
     "text": [
      "/home/samsonm/miniconda3/envs/multi_modal_DL/lib/python3.10/site-packages/scipy/stats/_stats_py.py:4424: ConstantInputWarning: An input array is constant; the correlation coefficient is not defined.\n",
      "  warnings.warn(stats.ConstantInputWarning(msg))\n"
     ]
    },
    {
     "name": "stdout",
     "output_type": "stream",
     "text": [
      "Epoch: 13/100, Val Loss: 3579.8816, Pearson R: nan, RMSE: 73.2588\n",
      "{'batch_size': 16, 'lr': 0.001, 'dropout': 0.3, 'lr_decay': 0.0001, 'layers': 4, 'hidden_dim': 400}\n"
     ]
    },
    {
     "name": "stderr",
     "output_type": "stream",
     "text": [
      "/home/samsonm/miniconda3/envs/multi_modal_DL/lib/python3.10/site-packages/scipy/stats/_stats_py.py:4424: ConstantInputWarning: An input array is constant; the correlation coefficient is not defined.\n",
      "  warnings.warn(stats.ConstantInputWarning(msg))\n"
     ]
    },
    {
     "name": "stdout",
     "output_type": "stream",
     "text": [
      "Epoch: 11/100, Val Loss: 3586.3679, Pearson R: nan, RMSE: 73.3030\n",
      "{'batch_size': 16, 'lr': 0.001, 'dropout': 0.3, 'lr_decay': 0.0001, 'layers': 4, 'hidden_dim': 800}\n"
     ]
    },
    {
     "name": "stderr",
     "output_type": "stream",
     "text": [
      "/home/samsonm/miniconda3/envs/multi_modal_DL/lib/python3.10/site-packages/scipy/stats/_stats_py.py:4424: ConstantInputWarning: An input array is constant; the correlation coefficient is not defined.\n",
      "  warnings.warn(stats.ConstantInputWarning(msg))\n"
     ]
    },
    {
     "name": "stdout",
     "output_type": "stream",
     "text": [
      "Epoch: 7/100, Val Loss: 3582.5078, Pearson R: nan, RMSE: 73.2767\n",
      "{'batch_size': 16, 'lr': 0.001, 'dropout': 0.4, 'lr_decay': 0.1, 'layers': 2, 'hidden_dim': 400}\n"
     ]
    },
    {
     "name": "stderr",
     "output_type": "stream",
     "text": [
      "/home/samsonm/miniconda3/envs/multi_modal_DL/lib/python3.10/site-packages/scipy/stats/_stats_py.py:4424: ConstantInputWarning: An input array is constant; the correlation coefficient is not defined.\n",
      "  warnings.warn(stats.ConstantInputWarning(msg))\n"
     ]
    },
    {
     "name": "stdout",
     "output_type": "stream",
     "text": [
      "Epoch: 7/100, Val Loss: 3596.8481, Pearson R: nan, RMSE: 73.3745\n",
      "{'batch_size': 16, 'lr': 0.001, 'dropout': 0.4, 'lr_decay': 0.1, 'layers': 2, 'hidden_dim': 800}\n"
     ]
    },
    {
     "name": "stderr",
     "output_type": "stream",
     "text": [
      "/home/samsonm/miniconda3/envs/multi_modal_DL/lib/python3.10/site-packages/scipy/stats/_stats_py.py:4424: ConstantInputWarning: An input array is constant; the correlation coefficient is not defined.\n",
      "  warnings.warn(stats.ConstantInputWarning(msg))\n"
     ]
    },
    {
     "name": "stdout",
     "output_type": "stream",
     "text": [
      "Epoch: 13/100, Val Loss: 3582.5300, Pearson R: nan, RMSE: 73.2768\n",
      "{'batch_size': 16, 'lr': 0.001, 'dropout': 0.4, 'lr_decay': 0.1, 'layers': 4, 'hidden_dim': 400}\n"
     ]
    },
    {
     "name": "stderr",
     "output_type": "stream",
     "text": [
      "/home/samsonm/miniconda3/envs/multi_modal_DL/lib/python3.10/site-packages/scipy/stats/_stats_py.py:4424: ConstantInputWarning: An input array is constant; the correlation coefficient is not defined.\n",
      "  warnings.warn(stats.ConstantInputWarning(msg))\n"
     ]
    },
    {
     "name": "stdout",
     "output_type": "stream",
     "text": [
      "Epoch: 6/100, Val Loss: 3576.3511, Pearson R: nan, RMSE: 73.2347\n",
      "{'batch_size': 16, 'lr': 0.001, 'dropout': 0.4, 'lr_decay': 0.1, 'layers': 4, 'hidden_dim': 800}\n"
     ]
    },
    {
     "name": "stderr",
     "output_type": "stream",
     "text": [
      "/home/samsonm/miniconda3/envs/multi_modal_DL/lib/python3.10/site-packages/scipy/stats/_stats_py.py:4424: ConstantInputWarning: An input array is constant; the correlation coefficient is not defined.\n",
      "  warnings.warn(stats.ConstantInputWarning(msg))\n"
     ]
    },
    {
     "name": "stdout",
     "output_type": "stream",
     "text": [
      "Epoch: 7/100, Val Loss: 3574.2595, Pearson R: nan, RMSE: 73.2204\n",
      "{'batch_size': 16, 'lr': 0.001, 'dropout': 0.4, 'lr_decay': 0.01, 'layers': 2, 'hidden_dim': 400}\n"
     ]
    },
    {
     "name": "stderr",
     "output_type": "stream",
     "text": [
      "/home/samsonm/miniconda3/envs/multi_modal_DL/lib/python3.10/site-packages/scipy/stats/_stats_py.py:4424: ConstantInputWarning: An input array is constant; the correlation coefficient is not defined.\n",
      "  warnings.warn(stats.ConstantInputWarning(msg))\n"
     ]
    },
    {
     "name": "stdout",
     "output_type": "stream",
     "text": [
      "Epoch: 14/100, Val Loss: 3583.0212, Pearson R: nan, RMSE: 73.2802\n",
      "{'batch_size': 16, 'lr': 0.001, 'dropout': 0.4, 'lr_decay': 0.01, 'layers': 2, 'hidden_dim': 800}\n"
     ]
    },
    {
     "name": "stderr",
     "output_type": "stream",
     "text": [
      "/home/samsonm/miniconda3/envs/multi_modal_DL/lib/python3.10/site-packages/scipy/stats/_stats_py.py:4424: ConstantInputWarning: An input array is constant; the correlation coefficient is not defined.\n",
      "  warnings.warn(stats.ConstantInputWarning(msg))\n"
     ]
    },
    {
     "name": "stdout",
     "output_type": "stream",
     "text": [
      "Epoch: 12/100, Val Loss: 3582.2812, Pearson R: nan, RMSE: 73.2751\n",
      "{'batch_size': 16, 'lr': 0.001, 'dropout': 0.4, 'lr_decay': 0.01, 'layers': 4, 'hidden_dim': 400}\n"
     ]
    },
    {
     "name": "stderr",
     "output_type": "stream",
     "text": [
      "/home/samsonm/miniconda3/envs/multi_modal_DL/lib/python3.10/site-packages/scipy/stats/_stats_py.py:4424: ConstantInputWarning: An input array is constant; the correlation coefficient is not defined.\n",
      "  warnings.warn(stats.ConstantInputWarning(msg))\n"
     ]
    },
    {
     "name": "stdout",
     "output_type": "stream",
     "text": [
      "Epoch: 6/100, Val Loss: 3591.9287, Pearson R: nan, RMSE: 73.3409\n",
      "{'batch_size': 16, 'lr': 0.001, 'dropout': 0.4, 'lr_decay': 0.01, 'layers': 4, 'hidden_dim': 800}\n"
     ]
    },
    {
     "name": "stderr",
     "output_type": "stream",
     "text": [
      "/home/samsonm/miniconda3/envs/multi_modal_DL/lib/python3.10/site-packages/scipy/stats/_stats_py.py:4424: ConstantInputWarning: An input array is constant; the correlation coefficient is not defined.\n",
      "  warnings.warn(stats.ConstantInputWarning(msg))\n"
     ]
    },
    {
     "name": "stdout",
     "output_type": "stream",
     "text": [
      "Epoch: 7/100, Val Loss: 3573.9722, Pearson R: nan, RMSE: 73.2184\n",
      "{'batch_size': 16, 'lr': 0.001, 'dropout': 0.4, 'lr_decay': 0.001, 'layers': 2, 'hidden_dim': 400}\n"
     ]
    },
    {
     "name": "stderr",
     "output_type": "stream",
     "text": [
      "/home/samsonm/miniconda3/envs/multi_modal_DL/lib/python3.10/site-packages/scipy/stats/_stats_py.py:4424: ConstantInputWarning: An input array is constant; the correlation coefficient is not defined.\n",
      "  warnings.warn(stats.ConstantInputWarning(msg))\n"
     ]
    },
    {
     "name": "stdout",
     "output_type": "stream",
     "text": [
      "Epoch: 7/100, Val Loss: 3593.2334, Pearson R: nan, RMSE: 73.3498\n",
      "{'batch_size': 16, 'lr': 0.001, 'dropout': 0.4, 'lr_decay': 0.001, 'layers': 2, 'hidden_dim': 800}\n"
     ]
    },
    {
     "name": "stderr",
     "output_type": "stream",
     "text": [
      "/home/samsonm/miniconda3/envs/multi_modal_DL/lib/python3.10/site-packages/scipy/stats/_stats_py.py:4424: ConstantInputWarning: An input array is constant; the correlation coefficient is not defined.\n",
      "  warnings.warn(stats.ConstantInputWarning(msg))\n"
     ]
    },
    {
     "name": "stdout",
     "output_type": "stream",
     "text": [
      "Epoch: 12/100, Val Loss: 3582.5273, Pearson R: nan, RMSE: 73.2768\n",
      "{'batch_size': 16, 'lr': 0.001, 'dropout': 0.4, 'lr_decay': 0.001, 'layers': 4, 'hidden_dim': 400}\n"
     ]
    },
    {
     "name": "stderr",
     "output_type": "stream",
     "text": [
      "/home/samsonm/miniconda3/envs/multi_modal_DL/lib/python3.10/site-packages/scipy/stats/_stats_py.py:4424: ConstantInputWarning: An input array is constant; the correlation coefficient is not defined.\n",
      "  warnings.warn(stats.ConstantInputWarning(msg))\n"
     ]
    },
    {
     "name": "stdout",
     "output_type": "stream",
     "text": [
      "Epoch: 6/100, Val Loss: 3577.7061, Pearson R: nan, RMSE: 73.2439\n",
      "{'batch_size': 16, 'lr': 0.001, 'dropout': 0.4, 'lr_decay': 0.001, 'layers': 4, 'hidden_dim': 800}\n"
     ]
    },
    {
     "name": "stderr",
     "output_type": "stream",
     "text": [
      "/home/samsonm/miniconda3/envs/multi_modal_DL/lib/python3.10/site-packages/scipy/stats/_stats_py.py:4424: ConstantInputWarning: An input array is constant; the correlation coefficient is not defined.\n",
      "  warnings.warn(stats.ConstantInputWarning(msg))\n"
     ]
    },
    {
     "name": "stdout",
     "output_type": "stream",
     "text": [
      "Epoch: 7/100, Val Loss: 3575.1226, Pearson R: nan, RMSE: 73.2263\n",
      "{'batch_size': 16, 'lr': 0.001, 'dropout': 0.4, 'lr_decay': 0.0001, 'layers': 2, 'hidden_dim': 400}\n"
     ]
    },
    {
     "name": "stderr",
     "output_type": "stream",
     "text": [
      "/home/samsonm/miniconda3/envs/multi_modal_DL/lib/python3.10/site-packages/scipy/stats/_stats_py.py:4424: ConstantInputWarning: An input array is constant; the correlation coefficient is not defined.\n",
      "  warnings.warn(stats.ConstantInputWarning(msg))\n"
     ]
    },
    {
     "name": "stdout",
     "output_type": "stream",
     "text": [
      "Epoch: 7/100, Val Loss: 3594.1140, Pearson R: nan, RMSE: 73.3558\n",
      "{'batch_size': 16, 'lr': 0.001, 'dropout': 0.4, 'lr_decay': 0.0001, 'layers': 2, 'hidden_dim': 800}\n"
     ]
    },
    {
     "name": "stderr",
     "output_type": "stream",
     "text": [
      "/home/samsonm/miniconda3/envs/multi_modal_DL/lib/python3.10/site-packages/scipy/stats/_stats_py.py:4424: ConstantInputWarning: An input array is constant; the correlation coefficient is not defined.\n",
      "  warnings.warn(stats.ConstantInputWarning(msg))\n"
     ]
    },
    {
     "name": "stdout",
     "output_type": "stream",
     "text": [
      "Epoch: 13/100, Val Loss: 3584.5000, Pearson R: nan, RMSE: 73.2903\n",
      "{'batch_size': 16, 'lr': 0.001, 'dropout': 0.4, 'lr_decay': 0.0001, 'layers': 4, 'hidden_dim': 400}\n"
     ]
    },
    {
     "name": "stderr",
     "output_type": "stream",
     "text": [
      "/home/samsonm/miniconda3/envs/multi_modal_DL/lib/python3.10/site-packages/scipy/stats/_stats_py.py:4424: ConstantInputWarning: An input array is constant; the correlation coefficient is not defined.\n",
      "  warnings.warn(stats.ConstantInputWarning(msg))\n"
     ]
    },
    {
     "name": "stdout",
     "output_type": "stream",
     "text": [
      "Epoch: 6/100, Val Loss: 3574.0693, Pearson R: nan, RMSE: 73.2191\n",
      "{'batch_size': 16, 'lr': 0.001, 'dropout': 0.4, 'lr_decay': 0.0001, 'layers': 4, 'hidden_dim': 800}\n"
     ]
    },
    {
     "name": "stderr",
     "output_type": "stream",
     "text": [
      "/home/samsonm/miniconda3/envs/multi_modal_DL/lib/python3.10/site-packages/scipy/stats/_stats_py.py:4424: ConstantInputWarning: An input array is constant; the correlation coefficient is not defined.\n",
      "  warnings.warn(stats.ConstantInputWarning(msg))\n"
     ]
    },
    {
     "name": "stdout",
     "output_type": "stream",
     "text": [
      "Epoch: 7/100, Val Loss: 3573.9597, Pearson R: nan, RMSE: 73.2183\n",
      "{'batch_size': 16, 'lr': 0.001, 'dropout': 0.5, 'lr_decay': 0.1, 'layers': 2, 'hidden_dim': 400}\n"
     ]
    },
    {
     "name": "stderr",
     "output_type": "stream",
     "text": [
      "/home/samsonm/miniconda3/envs/multi_modal_DL/lib/python3.10/site-packages/scipy/stats/_stats_py.py:4424: ConstantInputWarning: An input array is constant; the correlation coefficient is not defined.\n",
      "  warnings.warn(stats.ConstantInputWarning(msg))\n"
     ]
    },
    {
     "name": "stdout",
     "output_type": "stream",
     "text": [
      "Epoch: 7/100, Val Loss: 3598.6169, Pearson R: nan, RMSE: 73.3865\n",
      "{'batch_size': 16, 'lr': 0.001, 'dropout': 0.5, 'lr_decay': 0.1, 'layers': 2, 'hidden_dim': 800}\n"
     ]
    },
    {
     "name": "stderr",
     "output_type": "stream",
     "text": [
      "/home/samsonm/miniconda3/envs/multi_modal_DL/lib/python3.10/site-packages/scipy/stats/_stats_py.py:4424: ConstantInputWarning: An input array is constant; the correlation coefficient is not defined.\n",
      "  warnings.warn(stats.ConstantInputWarning(msg))\n"
     ]
    },
    {
     "name": "stdout",
     "output_type": "stream",
     "text": [
      "Epoch: 12/100, Val Loss: 3579.9248, Pearson R: nan, RMSE: 73.2590\n",
      "{'batch_size': 16, 'lr': 0.001, 'dropout': 0.5, 'lr_decay': 0.1, 'layers': 4, 'hidden_dim': 400}\n"
     ]
    },
    {
     "name": "stderr",
     "output_type": "stream",
     "text": [
      "/home/samsonm/miniconda3/envs/multi_modal_DL/lib/python3.10/site-packages/scipy/stats/_stats_py.py:4424: ConstantInputWarning: An input array is constant; the correlation coefficient is not defined.\n",
      "  warnings.warn(stats.ConstantInputWarning(msg))\n"
     ]
    },
    {
     "name": "stdout",
     "output_type": "stream",
     "text": [
      "Epoch: 6/100, Val Loss: 3586.1228, Pearson R: nan, RMSE: 73.3013\n",
      "{'batch_size': 16, 'lr': 0.001, 'dropout': 0.5, 'lr_decay': 0.1, 'layers': 4, 'hidden_dim': 800}\n"
     ]
    },
    {
     "name": "stderr",
     "output_type": "stream",
     "text": [
      "/home/samsonm/miniconda3/envs/multi_modal_DL/lib/python3.10/site-packages/scipy/stats/_stats_py.py:4424: ConstantInputWarning: An input array is constant; the correlation coefficient is not defined.\n",
      "  warnings.warn(stats.ConstantInputWarning(msg))\n"
     ]
    },
    {
     "name": "stdout",
     "output_type": "stream",
     "text": [
      "Epoch: 7/100, Val Loss: 3574.0232, Pearson R: nan, RMSE: 73.2188\n",
      "{'batch_size': 16, 'lr': 0.001, 'dropout': 0.5, 'lr_decay': 0.01, 'layers': 2, 'hidden_dim': 400}\n"
     ]
    },
    {
     "name": "stderr",
     "output_type": "stream",
     "text": [
      "/home/samsonm/miniconda3/envs/multi_modal_DL/lib/python3.10/site-packages/scipy/stats/_stats_py.py:4424: ConstantInputWarning: An input array is constant; the correlation coefficient is not defined.\n",
      "  warnings.warn(stats.ConstantInputWarning(msg))\n"
     ]
    },
    {
     "name": "stdout",
     "output_type": "stream",
     "text": [
      "Epoch: 7/100, Val Loss: 3594.1655, Pearson R: nan, RMSE: 73.3562\n",
      "{'batch_size': 16, 'lr': 0.001, 'dropout': 0.5, 'lr_decay': 0.01, 'layers': 2, 'hidden_dim': 800}\n"
     ]
    },
    {
     "name": "stderr",
     "output_type": "stream",
     "text": [
      "/home/samsonm/miniconda3/envs/multi_modal_DL/lib/python3.10/site-packages/scipy/stats/_stats_py.py:4424: ConstantInputWarning: An input array is constant; the correlation coefficient is not defined.\n",
      "  warnings.warn(stats.ConstantInputWarning(msg))\n"
     ]
    },
    {
     "name": "stdout",
     "output_type": "stream",
     "text": [
      "Epoch: 12/100, Val Loss: 3580.0068, Pearson R: nan, RMSE: 73.2596\n",
      "{'batch_size': 16, 'lr': 0.001, 'dropout': 0.5, 'lr_decay': 0.01, 'layers': 4, 'hidden_dim': 400}\n"
     ]
    },
    {
     "name": "stderr",
     "output_type": "stream",
     "text": [
      "/home/samsonm/miniconda3/envs/multi_modal_DL/lib/python3.10/site-packages/scipy/stats/_stats_py.py:4424: ConstantInputWarning: An input array is constant; the correlation coefficient is not defined.\n",
      "  warnings.warn(stats.ConstantInputWarning(msg))\n"
     ]
    },
    {
     "name": "stdout",
     "output_type": "stream",
     "text": [
      "Epoch: 6/100, Val Loss: 3578.3027, Pearson R: nan, RMSE: 73.2480\n",
      "{'batch_size': 16, 'lr': 0.001, 'dropout': 0.5, 'lr_decay': 0.01, 'layers': 4, 'hidden_dim': 800}\n"
     ]
    },
    {
     "name": "stderr",
     "output_type": "stream",
     "text": [
      "/home/samsonm/miniconda3/envs/multi_modal_DL/lib/python3.10/site-packages/scipy/stats/_stats_py.py:4424: ConstantInputWarning: An input array is constant; the correlation coefficient is not defined.\n",
      "  warnings.warn(stats.ConstantInputWarning(msg))\n"
     ]
    },
    {
     "name": "stdout",
     "output_type": "stream",
     "text": [
      "Epoch: 7/100, Val Loss: 3574.4390, Pearson R: nan, RMSE: 73.2216\n",
      "{'batch_size': 16, 'lr': 0.001, 'dropout': 0.5, 'lr_decay': 0.001, 'layers': 2, 'hidden_dim': 400}\n"
     ]
    },
    {
     "name": "stderr",
     "output_type": "stream",
     "text": [
      "/home/samsonm/miniconda3/envs/multi_modal_DL/lib/python3.10/site-packages/scipy/stats/_stats_py.py:4424: ConstantInputWarning: An input array is constant; the correlation coefficient is not defined.\n",
      "  warnings.warn(stats.ConstantInputWarning(msg))\n"
     ]
    },
    {
     "name": "stdout",
     "output_type": "stream",
     "text": [
      "Epoch: 7/100, Val Loss: 3599.9404, Pearson R: nan, RMSE: 73.3955\n",
      "{'batch_size': 16, 'lr': 0.001, 'dropout': 0.5, 'lr_decay': 0.001, 'layers': 2, 'hidden_dim': 800}\n"
     ]
    },
    {
     "name": "stderr",
     "output_type": "stream",
     "text": [
      "/home/samsonm/miniconda3/envs/multi_modal_DL/lib/python3.10/site-packages/scipy/stats/_stats_py.py:4424: ConstantInputWarning: An input array is constant; the correlation coefficient is not defined.\n",
      "  warnings.warn(stats.ConstantInputWarning(msg))\n"
     ]
    },
    {
     "name": "stdout",
     "output_type": "stream",
     "text": [
      "Epoch: 12/100, Val Loss: 3580.2471, Pearson R: nan, RMSE: 73.2612\n",
      "{'batch_size': 16, 'lr': 0.001, 'dropout': 0.5, 'lr_decay': 0.001, 'layers': 4, 'hidden_dim': 400}\n"
     ]
    },
    {
     "name": "stderr",
     "output_type": "stream",
     "text": [
      "/home/samsonm/miniconda3/envs/multi_modal_DL/lib/python3.10/site-packages/scipy/stats/_stats_py.py:4424: ConstantInputWarning: An input array is constant; the correlation coefficient is not defined.\n",
      "  warnings.warn(stats.ConstantInputWarning(msg))\n"
     ]
    },
    {
     "name": "stdout",
     "output_type": "stream",
     "text": [
      "Epoch: 6/100, Val Loss: 3575.1765, Pearson R: nan, RMSE: 73.2266\n",
      "{'batch_size': 16, 'lr': 0.001, 'dropout': 0.5, 'lr_decay': 0.001, 'layers': 4, 'hidden_dim': 800}\n"
     ]
    },
    {
     "name": "stderr",
     "output_type": "stream",
     "text": [
      "/home/samsonm/miniconda3/envs/multi_modal_DL/lib/python3.10/site-packages/scipy/stats/_stats_py.py:4424: ConstantInputWarning: An input array is constant; the correlation coefficient is not defined.\n",
      "  warnings.warn(stats.ConstantInputWarning(msg))\n",
      "/home/samsonm/miniconda3/envs/multi_modal_DL/lib/python3.10/site-packages/scipy/stats/_stats_py.py:4424: ConstantInputWarning: An input array is constant; the correlation coefficient is not defined.\n",
      "  warnings.warn(stats.ConstantInputWarning(msg))\n"
     ]
    },
    {
     "name": "stdout",
     "output_type": "stream",
     "text": [
      "Epoch: 8/100, Val Loss: 3577.4800, Pearson R: nan, RMSE: 73.2424\n",
      "{'batch_size': 16, 'lr': 0.001, 'dropout': 0.5, 'lr_decay': 0.0001, 'layers': 2, 'hidden_dim': 400}\n",
      "Epoch: 6/100, Val Loss: 3593.2468, Pearson R: nan, RMSE: 73.3499\n",
      "{'batch_size': 16, 'lr': 0.001, 'dropout': 0.5, 'lr_decay': 0.0001, 'layers': 2, 'hidden_dim': 800}\n"
     ]
    },
    {
     "name": "stderr",
     "output_type": "stream",
     "text": [
      "/home/samsonm/miniconda3/envs/multi_modal_DL/lib/python3.10/site-packages/scipy/stats/_stats_py.py:4424: ConstantInputWarning: An input array is constant; the correlation coefficient is not defined.\n",
      "  warnings.warn(stats.ConstantInputWarning(msg))\n"
     ]
    },
    {
     "name": "stdout",
     "output_type": "stream",
     "text": [
      "Epoch: 12/100, Val Loss: 3584.7441, Pearson R: nan, RMSE: 73.2919\n",
      "{'batch_size': 16, 'lr': 0.001, 'dropout': 0.5, 'lr_decay': 0.0001, 'layers': 4, 'hidden_dim': 400}\n"
     ]
    },
    {
     "name": "stderr",
     "output_type": "stream",
     "text": [
      "/home/samsonm/miniconda3/envs/multi_modal_DL/lib/python3.10/site-packages/scipy/stats/_stats_py.py:4424: ConstantInputWarning: An input array is constant; the correlation coefficient is not defined.\n",
      "  warnings.warn(stats.ConstantInputWarning(msg))\n"
     ]
    },
    {
     "name": "stdout",
     "output_type": "stream",
     "text": [
      "Epoch: 6/100, Val Loss: 3574.6257, Pearson R: nan, RMSE: 73.2229\n",
      "{'batch_size': 16, 'lr': 0.001, 'dropout': 0.5, 'lr_decay': 0.0001, 'layers': 4, 'hidden_dim': 800}\n"
     ]
    },
    {
     "name": "stderr",
     "output_type": "stream",
     "text": [
      "/home/samsonm/miniconda3/envs/multi_modal_DL/lib/python3.10/site-packages/scipy/stats/_stats_py.py:4424: ConstantInputWarning: An input array is constant; the correlation coefficient is not defined.\n",
      "  warnings.warn(stats.ConstantInputWarning(msg))\n"
     ]
    },
    {
     "name": "stdout",
     "output_type": "stream",
     "text": [
      "Epoch: 8/100, Val Loss: 3583.0815, Pearson R: nan, RMSE: 73.2806\n",
      "{'batch_size': 16, 'lr': 0.0001, 'dropout': 0.1, 'lr_decay': 0.1, 'layers': 2, 'hidden_dim': 400}\n"
     ]
    },
    {
     "name": "stderr",
     "output_type": "stream",
     "text": [
      "/home/samsonm/miniconda3/envs/multi_modal_DL/lib/python3.10/site-packages/scipy/stats/_stats_py.py:4424: ConstantInputWarning: An input array is constant; the correlation coefficient is not defined.\n",
      "  warnings.warn(stats.ConstantInputWarning(msg))\n"
     ]
    },
    {
     "name": "stdout",
     "output_type": "stream",
     "text": [
      "Epoch: 7/100, Val Loss: 3573.9753, Pearson R: nan, RMSE: 73.2184\n",
      "{'batch_size': 16, 'lr': 0.0001, 'dropout': 0.1, 'lr_decay': 0.1, 'layers': 2, 'hidden_dim': 800}\n"
     ]
    },
    {
     "name": "stderr",
     "output_type": "stream",
     "text": [
      "/home/samsonm/miniconda3/envs/multi_modal_DL/lib/python3.10/site-packages/scipy/stats/_stats_py.py:4424: ConstantInputWarning: An input array is constant; the correlation coefficient is not defined.\n",
      "  warnings.warn(stats.ConstantInputWarning(msg))\n"
     ]
    },
    {
     "name": "stdout",
     "output_type": "stream",
     "text": [
      "Epoch: 8/100, Val Loss: 3575.6228, Pearson R: nan, RMSE: 73.2297\n",
      "{'batch_size': 16, 'lr': 0.0001, 'dropout': 0.1, 'lr_decay': 0.1, 'layers': 4, 'hidden_dim': 400}\n"
     ]
    },
    {
     "name": "stderr",
     "output_type": "stream",
     "text": [
      "/home/samsonm/miniconda3/envs/multi_modal_DL/lib/python3.10/site-packages/scipy/stats/_stats_py.py:4424: ConstantInputWarning: An input array is constant; the correlation coefficient is not defined.\n",
      "  warnings.warn(stats.ConstantInputWarning(msg))\n"
     ]
    },
    {
     "name": "stdout",
     "output_type": "stream",
     "text": [
      "Epoch: 7/100, Val Loss: 3573.9302, Pearson R: nan, RMSE: 73.2181\n",
      "{'batch_size': 16, 'lr': 0.0001, 'dropout': 0.1, 'lr_decay': 0.1, 'layers': 4, 'hidden_dim': 800}\n"
     ]
    },
    {
     "name": "stderr",
     "output_type": "stream",
     "text": [
      "/home/samsonm/miniconda3/envs/multi_modal_DL/lib/python3.10/site-packages/scipy/stats/_stats_py.py:4424: ConstantInputWarning: An input array is constant; the correlation coefficient is not defined.\n",
      "  warnings.warn(stats.ConstantInputWarning(msg))\n"
     ]
    },
    {
     "name": "stdout",
     "output_type": "stream",
     "text": [
      "Epoch: 7/100, Val Loss: 3573.9470, Pearson R: nan, RMSE: 73.2182\n",
      "{'batch_size': 16, 'lr': 0.0001, 'dropout': 0.1, 'lr_decay': 0.01, 'layers': 2, 'hidden_dim': 400}\n"
     ]
    },
    {
     "name": "stderr",
     "output_type": "stream",
     "text": [
      "/home/samsonm/miniconda3/envs/multi_modal_DL/lib/python3.10/site-packages/scipy/stats/_stats_py.py:4424: ConstantInputWarning: An input array is constant; the correlation coefficient is not defined.\n",
      "  warnings.warn(stats.ConstantInputWarning(msg))\n"
     ]
    },
    {
     "name": "stdout",
     "output_type": "stream",
     "text": [
      "Epoch: 7/100, Val Loss: 3574.0015, Pearson R: nan, RMSE: 73.2186\n",
      "{'batch_size': 16, 'lr': 0.0001, 'dropout': 0.1, 'lr_decay': 0.01, 'layers': 2, 'hidden_dim': 800}\n"
     ]
    },
    {
     "name": "stderr",
     "output_type": "stream",
     "text": [
      "/home/samsonm/miniconda3/envs/multi_modal_DL/lib/python3.10/site-packages/scipy/stats/_stats_py.py:4424: ConstantInputWarning: An input array is constant; the correlation coefficient is not defined.\n",
      "  warnings.warn(stats.ConstantInputWarning(msg))\n"
     ]
    },
    {
     "name": "stdout",
     "output_type": "stream",
     "text": [
      "Epoch: 8/100, Val Loss: 3575.6274, Pearson R: nan, RMSE: 73.2297\n",
      "{'batch_size': 16, 'lr': 0.0001, 'dropout': 0.1, 'lr_decay': 0.01, 'layers': 4, 'hidden_dim': 400}\n"
     ]
    },
    {
     "name": "stderr",
     "output_type": "stream",
     "text": [
      "/home/samsonm/miniconda3/envs/multi_modal_DL/lib/python3.10/site-packages/scipy/stats/_stats_py.py:4424: ConstantInputWarning: An input array is constant; the correlation coefficient is not defined.\n",
      "  warnings.warn(stats.ConstantInputWarning(msg))\n"
     ]
    },
    {
     "name": "stdout",
     "output_type": "stream",
     "text": [
      "Epoch: 7/100, Val Loss: 3573.9272, Pearson R: nan, RMSE: 73.2181\n",
      "{'batch_size': 16, 'lr': 0.0001, 'dropout': 0.1, 'lr_decay': 0.01, 'layers': 4, 'hidden_dim': 800}\n"
     ]
    },
    {
     "name": "stderr",
     "output_type": "stream",
     "text": [
      "/home/samsonm/miniconda3/envs/multi_modal_DL/lib/python3.10/site-packages/scipy/stats/_stats_py.py:4424: ConstantInputWarning: An input array is constant; the correlation coefficient is not defined.\n",
      "  warnings.warn(stats.ConstantInputWarning(msg))\n"
     ]
    },
    {
     "name": "stdout",
     "output_type": "stream",
     "text": [
      "Epoch: 7/100, Val Loss: 3573.9609, Pearson R: nan, RMSE: 73.2183\n",
      "{'batch_size': 16, 'lr': 0.0001, 'dropout': 0.1, 'lr_decay': 0.001, 'layers': 2, 'hidden_dim': 400}\n"
     ]
    },
    {
     "name": "stderr",
     "output_type": "stream",
     "text": [
      "/home/samsonm/miniconda3/envs/multi_modal_DL/lib/python3.10/site-packages/scipy/stats/_stats_py.py:4424: ConstantInputWarning: An input array is constant; the correlation coefficient is not defined.\n",
      "  warnings.warn(stats.ConstantInputWarning(msg))\n"
     ]
    },
    {
     "name": "stdout",
     "output_type": "stream",
     "text": [
      "Epoch: 7/100, Val Loss: 3573.9780, Pearson R: nan, RMSE: 73.2184\n",
      "{'batch_size': 16, 'lr': 0.0001, 'dropout': 0.1, 'lr_decay': 0.001, 'layers': 2, 'hidden_dim': 800}\n"
     ]
    },
    {
     "name": "stderr",
     "output_type": "stream",
     "text": [
      "/home/samsonm/miniconda3/envs/multi_modal_DL/lib/python3.10/site-packages/scipy/stats/_stats_py.py:4424: ConstantInputWarning: An input array is constant; the correlation coefficient is not defined.\n",
      "  warnings.warn(stats.ConstantInputWarning(msg))\n"
     ]
    },
    {
     "name": "stdout",
     "output_type": "stream",
     "text": [
      "Epoch: 8/100, Val Loss: 3575.4675, Pearson R: nan, RMSE: 73.2286\n",
      "{'batch_size': 16, 'lr': 0.0001, 'dropout': 0.1, 'lr_decay': 0.001, 'layers': 4, 'hidden_dim': 400}\n"
     ]
    },
    {
     "name": "stderr",
     "output_type": "stream",
     "text": [
      "/home/samsonm/miniconda3/envs/multi_modal_DL/lib/python3.10/site-packages/scipy/stats/_stats_py.py:4424: ConstantInputWarning: An input array is constant; the correlation coefficient is not defined.\n",
      "  warnings.warn(stats.ConstantInputWarning(msg))\n"
     ]
    },
    {
     "name": "stdout",
     "output_type": "stream",
     "text": [
      "Epoch: 7/100, Val Loss: 3573.9282, Pearson R: nan, RMSE: 73.2181\n",
      "{'batch_size': 16, 'lr': 0.0001, 'dropout': 0.1, 'lr_decay': 0.001, 'layers': 4, 'hidden_dim': 800}\n"
     ]
    },
    {
     "name": "stderr",
     "output_type": "stream",
     "text": [
      "/home/samsonm/miniconda3/envs/multi_modal_DL/lib/python3.10/site-packages/scipy/stats/_stats_py.py:4424: ConstantInputWarning: An input array is constant; the correlation coefficient is not defined.\n",
      "  warnings.warn(stats.ConstantInputWarning(msg))\n"
     ]
    },
    {
     "name": "stdout",
     "output_type": "stream",
     "text": [
      "Epoch: 7/100, Val Loss: 3573.9734, Pearson R: nan, RMSE: 73.2184\n",
      "{'batch_size': 16, 'lr': 0.0001, 'dropout': 0.1, 'lr_decay': 0.0001, 'layers': 2, 'hidden_dim': 400}\n"
     ]
    },
    {
     "name": "stderr",
     "output_type": "stream",
     "text": [
      "/home/samsonm/miniconda3/envs/multi_modal_DL/lib/python3.10/site-packages/scipy/stats/_stats_py.py:4424: ConstantInputWarning: An input array is constant; the correlation coefficient is not defined.\n",
      "  warnings.warn(stats.ConstantInputWarning(msg))\n"
     ]
    },
    {
     "name": "stdout",
     "output_type": "stream",
     "text": [
      "Epoch: 7/100, Val Loss: 3573.9753, Pearson R: nan, RMSE: 73.2184\n",
      "{'batch_size': 16, 'lr': 0.0001, 'dropout': 0.1, 'lr_decay': 0.0001, 'layers': 2, 'hidden_dim': 800}\n"
     ]
    },
    {
     "name": "stderr",
     "output_type": "stream",
     "text": [
      "/home/samsonm/miniconda3/envs/multi_modal_DL/lib/python3.10/site-packages/scipy/stats/_stats_py.py:4424: ConstantInputWarning: An input array is constant; the correlation coefficient is not defined.\n",
      "  warnings.warn(stats.ConstantInputWarning(msg))\n"
     ]
    },
    {
     "name": "stdout",
     "output_type": "stream",
     "text": [
      "Epoch: 8/100, Val Loss: 3575.5288, Pearson R: nan, RMSE: 73.2290\n",
      "{'batch_size': 16, 'lr': 0.0001, 'dropout': 0.1, 'lr_decay': 0.0001, 'layers': 4, 'hidden_dim': 400}\n"
     ]
    },
    {
     "name": "stderr",
     "output_type": "stream",
     "text": [
      "/home/samsonm/miniconda3/envs/multi_modal_DL/lib/python3.10/site-packages/scipy/stats/_stats_py.py:4424: ConstantInputWarning: An input array is constant; the correlation coefficient is not defined.\n",
      "  warnings.warn(stats.ConstantInputWarning(msg))\n"
     ]
    },
    {
     "name": "stdout",
     "output_type": "stream",
     "text": [
      "Epoch: 7/100, Val Loss: 3573.9275, Pearson R: nan, RMSE: 73.2181\n",
      "{'batch_size': 16, 'lr': 0.0001, 'dropout': 0.1, 'lr_decay': 0.0001, 'layers': 4, 'hidden_dim': 800}\n"
     ]
    },
    {
     "name": "stderr",
     "output_type": "stream",
     "text": [
      "/home/samsonm/miniconda3/envs/multi_modal_DL/lib/python3.10/site-packages/scipy/stats/_stats_py.py:4424: ConstantInputWarning: An input array is constant; the correlation coefficient is not defined.\n",
      "  warnings.warn(stats.ConstantInputWarning(msg))\n"
     ]
    },
    {
     "name": "stdout",
     "output_type": "stream",
     "text": [
      "Epoch: 7/100, Val Loss: 3573.9734, Pearson R: nan, RMSE: 73.2184\n",
      "{'batch_size': 16, 'lr': 0.0001, 'dropout': 0.2, 'lr_decay': 0.1, 'layers': 2, 'hidden_dim': 400}\n"
     ]
    },
    {
     "name": "stderr",
     "output_type": "stream",
     "text": [
      "/home/samsonm/miniconda3/envs/multi_modal_DL/lib/python3.10/site-packages/scipy/stats/_stats_py.py:4424: ConstantInputWarning: An input array is constant; the correlation coefficient is not defined.\n",
      "  warnings.warn(stats.ConstantInputWarning(msg))\n"
     ]
    },
    {
     "name": "stdout",
     "output_type": "stream",
     "text": [
      "Epoch: 7/100, Val Loss: 3573.9695, Pearson R: nan, RMSE: 73.2184\n",
      "{'batch_size': 16, 'lr': 0.0001, 'dropout': 0.2, 'lr_decay': 0.1, 'layers': 2, 'hidden_dim': 800}\n"
     ]
    },
    {
     "name": "stderr",
     "output_type": "stream",
     "text": [
      "/home/samsonm/miniconda3/envs/multi_modal_DL/lib/python3.10/site-packages/scipy/stats/_stats_py.py:4424: ConstantInputWarning: An input array is constant; the correlation coefficient is not defined.\n",
      "  warnings.warn(stats.ConstantInputWarning(msg))\n"
     ]
    },
    {
     "name": "stdout",
     "output_type": "stream",
     "text": [
      "Epoch: 8/100, Val Loss: 3575.2839, Pearson R: nan, RMSE: 73.2274\n",
      "{'batch_size': 16, 'lr': 0.0001, 'dropout': 0.2, 'lr_decay': 0.1, 'layers': 4, 'hidden_dim': 400}\n"
     ]
    },
    {
     "name": "stderr",
     "output_type": "stream",
     "text": [
      "/home/samsonm/miniconda3/envs/multi_modal_DL/lib/python3.10/site-packages/scipy/stats/_stats_py.py:4424: ConstantInputWarning: An input array is constant; the correlation coefficient is not defined.\n",
      "  warnings.warn(stats.ConstantInputWarning(msg))\n"
     ]
    },
    {
     "name": "stdout",
     "output_type": "stream",
     "text": [
      "Epoch: 8/100, Val Loss: 3575.7351, Pearson R: nan, RMSE: 73.2304\n",
      "{'batch_size': 16, 'lr': 0.0001, 'dropout': 0.2, 'lr_decay': 0.1, 'layers': 4, 'hidden_dim': 800}\n"
     ]
    },
    {
     "name": "stderr",
     "output_type": "stream",
     "text": [
      "/home/samsonm/miniconda3/envs/multi_modal_DL/lib/python3.10/site-packages/scipy/stats/_stats_py.py:4424: ConstantInputWarning: An input array is constant; the correlation coefficient is not defined.\n",
      "  warnings.warn(stats.ConstantInputWarning(msg))\n"
     ]
    },
    {
     "name": "stdout",
     "output_type": "stream",
     "text": [
      "Epoch: 7/100, Val Loss: 3573.9341, Pearson R: nan, RMSE: 73.2181\n",
      "{'batch_size': 16, 'lr': 0.0001, 'dropout': 0.2, 'lr_decay': 0.01, 'layers': 2, 'hidden_dim': 400}\n"
     ]
    },
    {
     "name": "stderr",
     "output_type": "stream",
     "text": [
      "/home/samsonm/miniconda3/envs/multi_modal_DL/lib/python3.10/site-packages/scipy/stats/_stats_py.py:4424: ConstantInputWarning: An input array is constant; the correlation coefficient is not defined.\n",
      "  warnings.warn(stats.ConstantInputWarning(msg))\n"
     ]
    },
    {
     "name": "stdout",
     "output_type": "stream",
     "text": [
      "Epoch: 7/100, Val Loss: 3573.9910, Pearson R: nan, RMSE: 73.2185\n",
      "{'batch_size': 16, 'lr': 0.0001, 'dropout': 0.2, 'lr_decay': 0.01, 'layers': 2, 'hidden_dim': 800}\n"
     ]
    },
    {
     "name": "stderr",
     "output_type": "stream",
     "text": [
      "/home/samsonm/miniconda3/envs/multi_modal_DL/lib/python3.10/site-packages/scipy/stats/_stats_py.py:4424: ConstantInputWarning: An input array is constant; the correlation coefficient is not defined.\n",
      "  warnings.warn(stats.ConstantInputWarning(msg))\n"
     ]
    },
    {
     "name": "stdout",
     "output_type": "stream",
     "text": [
      "Epoch: 8/100, Val Loss: 3575.5576, Pearson R: nan, RMSE: 73.2292\n",
      "{'batch_size': 16, 'lr': 0.0001, 'dropout': 0.2, 'lr_decay': 0.01, 'layers': 4, 'hidden_dim': 400}\n"
     ]
    },
    {
     "name": "stderr",
     "output_type": "stream",
     "text": [
      "/home/samsonm/miniconda3/envs/multi_modal_DL/lib/python3.10/site-packages/scipy/stats/_stats_py.py:4424: ConstantInputWarning: An input array is constant; the correlation coefficient is not defined.\n",
      "  warnings.warn(stats.ConstantInputWarning(msg))\n"
     ]
    },
    {
     "name": "stdout",
     "output_type": "stream",
     "text": [
      "Epoch: 7/100, Val Loss: 3573.9282, Pearson R: nan, RMSE: 73.2181\n",
      "{'batch_size': 16, 'lr': 0.0001, 'dropout': 0.2, 'lr_decay': 0.01, 'layers': 4, 'hidden_dim': 800}\n"
     ]
    },
    {
     "name": "stderr",
     "output_type": "stream",
     "text": [
      "/home/samsonm/miniconda3/envs/multi_modal_DL/lib/python3.10/site-packages/scipy/stats/_stats_py.py:4424: ConstantInputWarning: An input array is constant; the correlation coefficient is not defined.\n",
      "  warnings.warn(stats.ConstantInputWarning(msg))\n"
     ]
    },
    {
     "name": "stdout",
     "output_type": "stream",
     "text": [
      "Epoch: 7/100, Val Loss: 3574.0459, Pearson R: nan, RMSE: 73.2189\n",
      "{'batch_size': 16, 'lr': 0.0001, 'dropout': 0.2, 'lr_decay': 0.001, 'layers': 2, 'hidden_dim': 400}\n"
     ]
    },
    {
     "name": "stderr",
     "output_type": "stream",
     "text": [
      "/home/samsonm/miniconda3/envs/multi_modal_DL/lib/python3.10/site-packages/scipy/stats/_stats_py.py:4424: ConstantInputWarning: An input array is constant; the correlation coefficient is not defined.\n",
      "  warnings.warn(stats.ConstantInputWarning(msg))\n"
     ]
    },
    {
     "name": "stdout",
     "output_type": "stream",
     "text": [
      "Epoch: 7/100, Val Loss: 3573.9678, Pearson R: nan, RMSE: 73.2184\n",
      "{'batch_size': 16, 'lr': 0.0001, 'dropout': 0.2, 'lr_decay': 0.001, 'layers': 2, 'hidden_dim': 800}\n"
     ]
    },
    {
     "name": "stderr",
     "output_type": "stream",
     "text": [
      "/home/samsonm/miniconda3/envs/multi_modal_DL/lib/python3.10/site-packages/scipy/stats/_stats_py.py:4424: ConstantInputWarning: An input array is constant; the correlation coefficient is not defined.\n",
      "  warnings.warn(stats.ConstantInputWarning(msg))\n"
     ]
    },
    {
     "name": "stdout",
     "output_type": "stream",
     "text": [
      "Epoch: 8/100, Val Loss: 3575.5190, Pearson R: nan, RMSE: 73.2290\n",
      "{'batch_size': 16, 'lr': 0.0001, 'dropout': 0.2, 'lr_decay': 0.001, 'layers': 4, 'hidden_dim': 400}\n"
     ]
    },
    {
     "name": "stderr",
     "output_type": "stream",
     "text": [
      "/home/samsonm/miniconda3/envs/multi_modal_DL/lib/python3.10/site-packages/scipy/stats/_stats_py.py:4424: ConstantInputWarning: An input array is constant; the correlation coefficient is not defined.\n",
      "  warnings.warn(stats.ConstantInputWarning(msg))\n"
     ]
    },
    {
     "name": "stdout",
     "output_type": "stream",
     "text": [
      "Epoch: 7/100, Val Loss: 3573.9324, Pearson R: nan, RMSE: 73.2181\n",
      "{'batch_size': 16, 'lr': 0.0001, 'dropout': 0.2, 'lr_decay': 0.001, 'layers': 4, 'hidden_dim': 800}\n"
     ]
    },
    {
     "name": "stderr",
     "output_type": "stream",
     "text": [
      "/home/samsonm/miniconda3/envs/multi_modal_DL/lib/python3.10/site-packages/scipy/stats/_stats_py.py:4424: ConstantInputWarning: An input array is constant; the correlation coefficient is not defined.\n",
      "  warnings.warn(stats.ConstantInputWarning(msg))\n"
     ]
    },
    {
     "name": "stdout",
     "output_type": "stream",
     "text": [
      "Epoch: 7/100, Val Loss: 3573.9734, Pearson R: nan, RMSE: 73.2184\n",
      "{'batch_size': 16, 'lr': 0.0001, 'dropout': 0.2, 'lr_decay': 0.0001, 'layers': 2, 'hidden_dim': 400}\n"
     ]
    },
    {
     "name": "stderr",
     "output_type": "stream",
     "text": [
      "/home/samsonm/miniconda3/envs/multi_modal_DL/lib/python3.10/site-packages/scipy/stats/_stats_py.py:4424: ConstantInputWarning: An input array is constant; the correlation coefficient is not defined.\n",
      "  warnings.warn(stats.ConstantInputWarning(msg))\n"
     ]
    },
    {
     "name": "stdout",
     "output_type": "stream",
     "text": [
      "Epoch: 7/100, Val Loss: 3573.9526, Pearson R: nan, RMSE: 73.2183\n",
      "{'batch_size': 16, 'lr': 0.0001, 'dropout': 0.2, 'lr_decay': 0.0001, 'layers': 2, 'hidden_dim': 800}\n"
     ]
    },
    {
     "name": "stderr",
     "output_type": "stream",
     "text": [
      "/home/samsonm/miniconda3/envs/multi_modal_DL/lib/python3.10/site-packages/scipy/stats/_stats_py.py:4424: ConstantInputWarning: An input array is constant; the correlation coefficient is not defined.\n",
      "  warnings.warn(stats.ConstantInputWarning(msg))\n"
     ]
    },
    {
     "name": "stdout",
     "output_type": "stream",
     "text": [
      "Epoch: 8/100, Val Loss: 3575.5234, Pearson R: nan, RMSE: 73.2290\n",
      "{'batch_size': 16, 'lr': 0.0001, 'dropout': 0.2, 'lr_decay': 0.0001, 'layers': 4, 'hidden_dim': 400}\n"
     ]
    },
    {
     "name": "stderr",
     "output_type": "stream",
     "text": [
      "/home/samsonm/miniconda3/envs/multi_modal_DL/lib/python3.10/site-packages/scipy/stats/_stats_py.py:4424: ConstantInputWarning: An input array is constant; the correlation coefficient is not defined.\n",
      "  warnings.warn(stats.ConstantInputWarning(msg))\n"
     ]
    },
    {
     "name": "stdout",
     "output_type": "stream",
     "text": [
      "Epoch: 7/100, Val Loss: 3573.9424, Pearson R: nan, RMSE: 73.2182\n",
      "{'batch_size': 16, 'lr': 0.0001, 'dropout': 0.2, 'lr_decay': 0.0001, 'layers': 4, 'hidden_dim': 800}\n"
     ]
    },
    {
     "name": "stderr",
     "output_type": "stream",
     "text": [
      "/home/samsonm/miniconda3/envs/multi_modal_DL/lib/python3.10/site-packages/scipy/stats/_stats_py.py:4424: ConstantInputWarning: An input array is constant; the correlation coefficient is not defined.\n",
      "  warnings.warn(stats.ConstantInputWarning(msg))\n"
     ]
    },
    {
     "name": "stdout",
     "output_type": "stream",
     "text": [
      "Epoch: 7/100, Val Loss: 3574.0605, Pearson R: nan, RMSE: 73.2190\n",
      "{'batch_size': 16, 'lr': 0.0001, 'dropout': 0.3, 'lr_decay': 0.1, 'layers': 2, 'hidden_dim': 400}\n"
     ]
    },
    {
     "name": "stderr",
     "output_type": "stream",
     "text": [
      "/home/samsonm/miniconda3/envs/multi_modal_DL/lib/python3.10/site-packages/scipy/stats/_stats_py.py:4424: ConstantInputWarning: An input array is constant; the correlation coefficient is not defined.\n",
      "  warnings.warn(stats.ConstantInputWarning(msg))\n"
     ]
    },
    {
     "name": "stdout",
     "output_type": "stream",
     "text": [
      "Epoch: 7/100, Val Loss: 3573.9685, Pearson R: nan, RMSE: 73.2184\n",
      "{'batch_size': 16, 'lr': 0.0001, 'dropout': 0.3, 'lr_decay': 0.1, 'layers': 2, 'hidden_dim': 800}\n"
     ]
    },
    {
     "name": "stderr",
     "output_type": "stream",
     "text": [
      "/home/samsonm/miniconda3/envs/multi_modal_DL/lib/python3.10/site-packages/scipy/stats/_stats_py.py:4424: ConstantInputWarning: An input array is constant; the correlation coefficient is not defined.\n",
      "  warnings.warn(stats.ConstantInputWarning(msg))\n"
     ]
    },
    {
     "name": "stdout",
     "output_type": "stream",
     "text": [
      "Epoch: 8/100, Val Loss: 3575.3765, Pearson R: nan, RMSE: 73.2280\n",
      "{'batch_size': 16, 'lr': 0.0001, 'dropout': 0.3, 'lr_decay': 0.1, 'layers': 4, 'hidden_dim': 400}\n"
     ]
    },
    {
     "name": "stderr",
     "output_type": "stream",
     "text": [
      "/home/samsonm/miniconda3/envs/multi_modal_DL/lib/python3.10/site-packages/scipy/stats/_stats_py.py:4424: ConstantInputWarning: An input array is constant; the correlation coefficient is not defined.\n",
      "  warnings.warn(stats.ConstantInputWarning(msg))\n"
     ]
    },
    {
     "name": "stdout",
     "output_type": "stream",
     "text": [
      "Epoch: 7/100, Val Loss: 3573.9385, Pearson R: nan, RMSE: 73.2182\n",
      "{'batch_size': 16, 'lr': 0.0001, 'dropout': 0.3, 'lr_decay': 0.1, 'layers': 4, 'hidden_dim': 800}\n"
     ]
    },
    {
     "name": "stderr",
     "output_type": "stream",
     "text": [
      "/home/samsonm/miniconda3/envs/multi_modal_DL/lib/python3.10/site-packages/scipy/stats/_stats_py.py:4424: ConstantInputWarning: An input array is constant; the correlation coefficient is not defined.\n",
      "  warnings.warn(stats.ConstantInputWarning(msg))\n"
     ]
    },
    {
     "name": "stdout",
     "output_type": "stream",
     "text": [
      "Epoch: 7/100, Val Loss: 3574.1514, Pearson R: nan, RMSE: 73.2196\n",
      "{'batch_size': 16, 'lr': 0.0001, 'dropout': 0.3, 'lr_decay': 0.01, 'layers': 2, 'hidden_dim': 400}\n"
     ]
    },
    {
     "name": "stderr",
     "output_type": "stream",
     "text": [
      "/home/samsonm/miniconda3/envs/multi_modal_DL/lib/python3.10/site-packages/scipy/stats/_stats_py.py:4424: ConstantInputWarning: An input array is constant; the correlation coefficient is not defined.\n",
      "  warnings.warn(stats.ConstantInputWarning(msg))\n"
     ]
    },
    {
     "name": "stdout",
     "output_type": "stream",
     "text": [
      "Epoch: 7/100, Val Loss: 3573.9900, Pearson R: nan, RMSE: 73.2185\n",
      "{'batch_size': 16, 'lr': 0.0001, 'dropout': 0.3, 'lr_decay': 0.01, 'layers': 2, 'hidden_dim': 800}\n"
     ]
    },
    {
     "name": "stderr",
     "output_type": "stream",
     "text": [
      "/home/samsonm/miniconda3/envs/multi_modal_DL/lib/python3.10/site-packages/scipy/stats/_stats_py.py:4424: ConstantInputWarning: An input array is constant; the correlation coefficient is not defined.\n",
      "  warnings.warn(stats.ConstantInputWarning(msg))\n"
     ]
    },
    {
     "name": "stdout",
     "output_type": "stream",
     "text": [
      "Epoch: 8/100, Val Loss: 3574.9871, Pearson R: nan, RMSE: 73.2253\n",
      "{'batch_size': 16, 'lr': 0.0001, 'dropout': 0.3, 'lr_decay': 0.01, 'layers': 4, 'hidden_dim': 400}\n"
     ]
    },
    {
     "name": "stderr",
     "output_type": "stream",
     "text": [
      "/home/samsonm/miniconda3/envs/multi_modal_DL/lib/python3.10/site-packages/scipy/stats/_stats_py.py:4424: ConstantInputWarning: An input array is constant; the correlation coefficient is not defined.\n",
      "  warnings.warn(stats.ConstantInputWarning(msg))\n"
     ]
    },
    {
     "name": "stdout",
     "output_type": "stream",
     "text": [
      "Epoch: 8/100, Val Loss: 3575.6943, Pearson R: nan, RMSE: 73.2302\n",
      "{'batch_size': 16, 'lr': 0.0001, 'dropout': 0.3, 'lr_decay': 0.01, 'layers': 4, 'hidden_dim': 800}\n"
     ]
    },
    {
     "name": "stderr",
     "output_type": "stream",
     "text": [
      "/home/samsonm/miniconda3/envs/multi_modal_DL/lib/python3.10/site-packages/scipy/stats/_stats_py.py:4424: ConstantInputWarning: An input array is constant; the correlation coefficient is not defined.\n",
      "  warnings.warn(stats.ConstantInputWarning(msg))\n"
     ]
    },
    {
     "name": "stdout",
     "output_type": "stream",
     "text": [
      "Epoch: 7/100, Val Loss: 3573.9297, Pearson R: nan, RMSE: 73.2181\n",
      "{'batch_size': 16, 'lr': 0.0001, 'dropout': 0.3, 'lr_decay': 0.001, 'layers': 2, 'hidden_dim': 400}\n"
     ]
    },
    {
     "name": "stderr",
     "output_type": "stream",
     "text": [
      "/home/samsonm/miniconda3/envs/multi_modal_DL/lib/python3.10/site-packages/scipy/stats/_stats_py.py:4424: ConstantInputWarning: An input array is constant; the correlation coefficient is not defined.\n",
      "  warnings.warn(stats.ConstantInputWarning(msg))\n"
     ]
    },
    {
     "name": "stdout",
     "output_type": "stream",
     "text": [
      "Epoch: 7/100, Val Loss: 3573.9646, Pearson R: nan, RMSE: 73.2184\n",
      "{'batch_size': 16, 'lr': 0.0001, 'dropout': 0.3, 'lr_decay': 0.001, 'layers': 2, 'hidden_dim': 800}\n"
     ]
    },
    {
     "name": "stderr",
     "output_type": "stream",
     "text": [
      "/home/samsonm/miniconda3/envs/multi_modal_DL/lib/python3.10/site-packages/scipy/stats/_stats_py.py:4424: ConstantInputWarning: An input array is constant; the correlation coefficient is not defined.\n",
      "  warnings.warn(stats.ConstantInputWarning(msg))\n"
     ]
    },
    {
     "name": "stdout",
     "output_type": "stream",
     "text": [
      "Epoch: 8/100, Val Loss: 3575.8486, Pearson R: nan, RMSE: 73.2312\n",
      "{'batch_size': 16, 'lr': 0.0001, 'dropout': 0.3, 'lr_decay': 0.001, 'layers': 4, 'hidden_dim': 400}\n"
     ]
    },
    {
     "name": "stderr",
     "output_type": "stream",
     "text": [
      "/home/samsonm/miniconda3/envs/multi_modal_DL/lib/python3.10/site-packages/scipy/stats/_stats_py.py:4424: ConstantInputWarning: An input array is constant; the correlation coefficient is not defined.\n",
      "  warnings.warn(stats.ConstantInputWarning(msg))\n"
     ]
    },
    {
     "name": "stdout",
     "output_type": "stream",
     "text": [
      "Epoch: 8/100, Val Loss: 3575.3943, Pearson R: nan, RMSE: 73.2281\n",
      "{'batch_size': 16, 'lr': 0.0001, 'dropout': 0.3, 'lr_decay': 0.001, 'layers': 4, 'hidden_dim': 800}\n"
     ]
    },
    {
     "name": "stderr",
     "output_type": "stream",
     "text": [
      "/home/samsonm/miniconda3/envs/multi_modal_DL/lib/python3.10/site-packages/scipy/stats/_stats_py.py:4424: ConstantInputWarning: An input array is constant; the correlation coefficient is not defined.\n",
      "  warnings.warn(stats.ConstantInputWarning(msg))\n"
     ]
    },
    {
     "name": "stdout",
     "output_type": "stream",
     "text": [
      "Epoch: 7/100, Val Loss: 3573.9285, Pearson R: nan, RMSE: 73.2181\n",
      "{'batch_size': 16, 'lr': 0.0001, 'dropout': 0.3, 'lr_decay': 0.0001, 'layers': 2, 'hidden_dim': 400}\n"
     ]
    },
    {
     "name": "stderr",
     "output_type": "stream",
     "text": [
      "/home/samsonm/miniconda3/envs/multi_modal_DL/lib/python3.10/site-packages/scipy/stats/_stats_py.py:4424: ConstantInputWarning: An input array is constant; the correlation coefficient is not defined.\n",
      "  warnings.warn(stats.ConstantInputWarning(msg))\n"
     ]
    },
    {
     "name": "stdout",
     "output_type": "stream",
     "text": [
      "Epoch: 7/100, Val Loss: 3573.9312, Pearson R: nan, RMSE: 73.2181\n",
      "{'batch_size': 16, 'lr': 0.0001, 'dropout': 0.3, 'lr_decay': 0.0001, 'layers': 2, 'hidden_dim': 800}\n"
     ]
    },
    {
     "name": "stderr",
     "output_type": "stream",
     "text": [
      "/home/samsonm/miniconda3/envs/multi_modal_DL/lib/python3.10/site-packages/scipy/stats/_stats_py.py:4424: ConstantInputWarning: An input array is constant; the correlation coefficient is not defined.\n",
      "  warnings.warn(stats.ConstantInputWarning(msg))\n"
     ]
    },
    {
     "name": "stdout",
     "output_type": "stream",
     "text": [
      "Epoch: 8/100, Val Loss: 3575.6714, Pearson R: nan, RMSE: 73.2300\n",
      "{'batch_size': 16, 'lr': 0.0001, 'dropout': 0.3, 'lr_decay': 0.0001, 'layers': 4, 'hidden_dim': 400}\n"
     ]
    },
    {
     "name": "stderr",
     "output_type": "stream",
     "text": [
      "/home/samsonm/miniconda3/envs/multi_modal_DL/lib/python3.10/site-packages/scipy/stats/_stats_py.py:4424: ConstantInputWarning: An input array is constant; the correlation coefficient is not defined.\n",
      "  warnings.warn(stats.ConstantInputWarning(msg))\n"
     ]
    },
    {
     "name": "stdout",
     "output_type": "stream",
     "text": [
      "Epoch: 7/100, Val Loss: 3573.9324, Pearson R: nan, RMSE: 73.2181\n",
      "{'batch_size': 16, 'lr': 0.0001, 'dropout': 0.3, 'lr_decay': 0.0001, 'layers': 4, 'hidden_dim': 800}\n"
     ]
    },
    {
     "name": "stderr",
     "output_type": "stream",
     "text": [
      "/home/samsonm/miniconda3/envs/multi_modal_DL/lib/python3.10/site-packages/scipy/stats/_stats_py.py:4424: ConstantInputWarning: An input array is constant; the correlation coefficient is not defined.\n",
      "  warnings.warn(stats.ConstantInputWarning(msg))\n"
     ]
    },
    {
     "name": "stdout",
     "output_type": "stream",
     "text": [
      "Epoch: 7/100, Val Loss: 3574.0649, Pearson R: nan, RMSE: 73.2190\n",
      "{'batch_size': 16, 'lr': 0.0001, 'dropout': 0.4, 'lr_decay': 0.1, 'layers': 2, 'hidden_dim': 400}\n"
     ]
    },
    {
     "name": "stderr",
     "output_type": "stream",
     "text": [
      "/home/samsonm/miniconda3/envs/multi_modal_DL/lib/python3.10/site-packages/scipy/stats/_stats_py.py:4424: ConstantInputWarning: An input array is constant; the correlation coefficient is not defined.\n",
      "  warnings.warn(stats.ConstantInputWarning(msg))\n"
     ]
    },
    {
     "name": "stdout",
     "output_type": "stream",
     "text": [
      "Epoch: 7/100, Val Loss: 3573.9644, Pearson R: nan, RMSE: 73.2184\n",
      "{'batch_size': 16, 'lr': 0.0001, 'dropout': 0.4, 'lr_decay': 0.1, 'layers': 2, 'hidden_dim': 800}\n"
     ]
    },
    {
     "name": "stderr",
     "output_type": "stream",
     "text": [
      "/home/samsonm/miniconda3/envs/multi_modal_DL/lib/python3.10/site-packages/scipy/stats/_stats_py.py:4424: ConstantInputWarning: An input array is constant; the correlation coefficient is not defined.\n",
      "  warnings.warn(stats.ConstantInputWarning(msg))\n"
     ]
    },
    {
     "name": "stdout",
     "output_type": "stream",
     "text": [
      "Epoch: 8/100, Val Loss: 3575.2070, Pearson R: nan, RMSE: 73.2268\n",
      "{'batch_size': 16, 'lr': 0.0001, 'dropout': 0.4, 'lr_decay': 0.1, 'layers': 4, 'hidden_dim': 400}\n"
     ]
    },
    {
     "name": "stderr",
     "output_type": "stream",
     "text": [
      "/home/samsonm/miniconda3/envs/multi_modal_DL/lib/python3.10/site-packages/scipy/stats/_stats_py.py:4424: ConstantInputWarning: An input array is constant; the correlation coefficient is not defined.\n",
      "  warnings.warn(stats.ConstantInputWarning(msg))\n"
     ]
    },
    {
     "name": "stdout",
     "output_type": "stream",
     "text": [
      "Epoch: 8/100, Val Loss: 3575.3132, Pearson R: nan, RMSE: 73.2276\n",
      "{'batch_size': 16, 'lr': 0.0001, 'dropout': 0.4, 'lr_decay': 0.1, 'layers': 4, 'hidden_dim': 800}\n"
     ]
    },
    {
     "name": "stderr",
     "output_type": "stream",
     "text": [
      "/home/samsonm/miniconda3/envs/multi_modal_DL/lib/python3.10/site-packages/scipy/stats/_stats_py.py:4424: ConstantInputWarning: An input array is constant; the correlation coefficient is not defined.\n",
      "  warnings.warn(stats.ConstantInputWarning(msg))\n"
     ]
    },
    {
     "name": "stdout",
     "output_type": "stream",
     "text": [
      "Epoch: 7/100, Val Loss: 3573.9460, Pearson R: nan, RMSE: 73.2182\n",
      "{'batch_size': 16, 'lr': 0.0001, 'dropout': 0.4, 'lr_decay': 0.01, 'layers': 2, 'hidden_dim': 400}\n"
     ]
    },
    {
     "name": "stderr",
     "output_type": "stream",
     "text": [
      "/home/samsonm/miniconda3/envs/multi_modal_DL/lib/python3.10/site-packages/scipy/stats/_stats_py.py:4424: ConstantInputWarning: An input array is constant; the correlation coefficient is not defined.\n",
      "  warnings.warn(stats.ConstantInputWarning(msg))\n"
     ]
    },
    {
     "name": "stdout",
     "output_type": "stream",
     "text": [
      "Epoch: 7/100, Val Loss: 3573.9263, Pearson R: nan, RMSE: 73.2181\n",
      "{'batch_size': 16, 'lr': 0.0001, 'dropout': 0.4, 'lr_decay': 0.01, 'layers': 2, 'hidden_dim': 800}\n"
     ]
    },
    {
     "name": "stderr",
     "output_type": "stream",
     "text": [
      "/home/samsonm/miniconda3/envs/multi_modal_DL/lib/python3.10/site-packages/scipy/stats/_stats_py.py:4424: ConstantInputWarning: An input array is constant; the correlation coefficient is not defined.\n",
      "  warnings.warn(stats.ConstantInputWarning(msg))\n"
     ]
    },
    {
     "name": "stdout",
     "output_type": "stream",
     "text": [
      "Epoch: 8/100, Val Loss: 3575.1577, Pearson R: nan, RMSE: 73.2265\n",
      "{'batch_size': 16, 'lr': 0.0001, 'dropout': 0.4, 'lr_decay': 0.01, 'layers': 4, 'hidden_dim': 400}\n"
     ]
    },
    {
     "name": "stderr",
     "output_type": "stream",
     "text": [
      "/home/samsonm/miniconda3/envs/multi_modal_DL/lib/python3.10/site-packages/scipy/stats/_stats_py.py:4424: ConstantInputWarning: An input array is constant; the correlation coefficient is not defined.\n",
      "  warnings.warn(stats.ConstantInputWarning(msg))\n"
     ]
    },
    {
     "name": "stdout",
     "output_type": "stream",
     "text": [
      "Epoch: 8/100, Val Loss: 3574.8145, Pearson R: nan, RMSE: 73.2242\n",
      "{'batch_size': 16, 'lr': 0.0001, 'dropout': 0.4, 'lr_decay': 0.01, 'layers': 4, 'hidden_dim': 800}\n"
     ]
    },
    {
     "name": "stderr",
     "output_type": "stream",
     "text": [
      "/home/samsonm/miniconda3/envs/multi_modal_DL/lib/python3.10/site-packages/scipy/stats/_stats_py.py:4424: ConstantInputWarning: An input array is constant; the correlation coefficient is not defined.\n",
      "  warnings.warn(stats.ConstantInputWarning(msg))\n"
     ]
    },
    {
     "name": "stdout",
     "output_type": "stream",
     "text": [
      "Epoch: 7/100, Val Loss: 3573.9343, Pearson R: nan, RMSE: 73.2181\n",
      "{'batch_size': 16, 'lr': 0.0001, 'dropout': 0.4, 'lr_decay': 0.001, 'layers': 2, 'hidden_dim': 400}\n"
     ]
    },
    {
     "name": "stderr",
     "output_type": "stream",
     "text": [
      "/home/samsonm/miniconda3/envs/multi_modal_DL/lib/python3.10/site-packages/scipy/stats/_stats_py.py:4424: ConstantInputWarning: An input array is constant; the correlation coefficient is not defined.\n",
      "  warnings.warn(stats.ConstantInputWarning(msg))\n"
     ]
    },
    {
     "name": "stdout",
     "output_type": "stream",
     "text": [
      "Epoch: 7/100, Val Loss: 3573.9451, Pearson R: nan, RMSE: 73.2182\n",
      "{'batch_size': 16, 'lr': 0.0001, 'dropout': 0.4, 'lr_decay': 0.001, 'layers': 2, 'hidden_dim': 800}\n"
     ]
    },
    {
     "name": "stderr",
     "output_type": "stream",
     "text": [
      "/home/samsonm/miniconda3/envs/multi_modal_DL/lib/python3.10/site-packages/scipy/stats/_stats_py.py:4424: ConstantInputWarning: An input array is constant; the correlation coefficient is not defined.\n",
      "  warnings.warn(stats.ConstantInputWarning(msg))\n"
     ]
    },
    {
     "name": "stdout",
     "output_type": "stream",
     "text": [
      "Epoch: 8/100, Val Loss: 3574.8892, Pearson R: nan, RMSE: 73.2247\n",
      "{'batch_size': 16, 'lr': 0.0001, 'dropout': 0.4, 'lr_decay': 0.001, 'layers': 4, 'hidden_dim': 400}\n"
     ]
    },
    {
     "name": "stderr",
     "output_type": "stream",
     "text": [
      "/home/samsonm/miniconda3/envs/multi_modal_DL/lib/python3.10/site-packages/scipy/stats/_stats_py.py:4424: ConstantInputWarning: An input array is constant; the correlation coefficient is not defined.\n",
      "  warnings.warn(stats.ConstantInputWarning(msg))\n"
     ]
    },
    {
     "name": "stdout",
     "output_type": "stream",
     "text": [
      "Epoch: 8/100, Val Loss: 3575.0908, Pearson R: nan, RMSE: 73.2260\n",
      "{'batch_size': 16, 'lr': 0.0001, 'dropout': 0.4, 'lr_decay': 0.001, 'layers': 4, 'hidden_dim': 800}\n"
     ]
    },
    {
     "name": "stderr",
     "output_type": "stream",
     "text": [
      "/home/samsonm/miniconda3/envs/multi_modal_DL/lib/python3.10/site-packages/scipy/stats/_stats_py.py:4424: ConstantInputWarning: An input array is constant; the correlation coefficient is not defined.\n",
      "  warnings.warn(stats.ConstantInputWarning(msg))\n"
     ]
    },
    {
     "name": "stdout",
     "output_type": "stream",
     "text": [
      "Epoch: 7/100, Val Loss: 3573.9307, Pearson R: nan, RMSE: 73.2181\n",
      "{'batch_size': 16, 'lr': 0.0001, 'dropout': 0.4, 'lr_decay': 0.0001, 'layers': 2, 'hidden_dim': 400}\n"
     ]
    },
    {
     "name": "stderr",
     "output_type": "stream",
     "text": [
      "/home/samsonm/miniconda3/envs/multi_modal_DL/lib/python3.10/site-packages/scipy/stats/_stats_py.py:4424: ConstantInputWarning: An input array is constant; the correlation coefficient is not defined.\n",
      "  warnings.warn(stats.ConstantInputWarning(msg))\n"
     ]
    },
    {
     "name": "stdout",
     "output_type": "stream",
     "text": [
      "Epoch: 7/100, Val Loss: 3573.9556, Pearson R: nan, RMSE: 73.2183\n",
      "{'batch_size': 16, 'lr': 0.0001, 'dropout': 0.4, 'lr_decay': 0.0001, 'layers': 2, 'hidden_dim': 800}\n"
     ]
    },
    {
     "name": "stderr",
     "output_type": "stream",
     "text": [
      "/home/samsonm/miniconda3/envs/multi_modal_DL/lib/python3.10/site-packages/scipy/stats/_stats_py.py:4424: ConstantInputWarning: An input array is constant; the correlation coefficient is not defined.\n",
      "  warnings.warn(stats.ConstantInputWarning(msg))\n"
     ]
    },
    {
     "name": "stdout",
     "output_type": "stream",
     "text": [
      "Epoch: 8/100, Val Loss: 3575.1150, Pearson R: nan, RMSE: 73.2262\n",
      "{'batch_size': 16, 'lr': 0.0001, 'dropout': 0.4, 'lr_decay': 0.0001, 'layers': 4, 'hidden_dim': 400}\n"
     ]
    },
    {
     "name": "stderr",
     "output_type": "stream",
     "text": [
      "/home/samsonm/miniconda3/envs/multi_modal_DL/lib/python3.10/site-packages/scipy/stats/_stats_py.py:4424: ConstantInputWarning: An input array is constant; the correlation coefficient is not defined.\n",
      "  warnings.warn(stats.ConstantInputWarning(msg))\n"
     ]
    },
    {
     "name": "stdout",
     "output_type": "stream",
     "text": [
      "Epoch: 7/100, Val Loss: 3574.0190, Pearson R: nan, RMSE: 73.2187\n",
      "{'batch_size': 16, 'lr': 0.0001, 'dropout': 0.4, 'lr_decay': 0.0001, 'layers': 4, 'hidden_dim': 800}\n"
     ]
    },
    {
     "name": "stderr",
     "output_type": "stream",
     "text": [
      "/home/samsonm/miniconda3/envs/multi_modal_DL/lib/python3.10/site-packages/scipy/stats/_stats_py.py:4424: ConstantInputWarning: An input array is constant; the correlation coefficient is not defined.\n",
      "  warnings.warn(stats.ConstantInputWarning(msg))\n"
     ]
    },
    {
     "name": "stdout",
     "output_type": "stream",
     "text": [
      "Epoch: 7/100, Val Loss: 3573.9819, Pearson R: nan, RMSE: 73.2185\n",
      "{'batch_size': 16, 'lr': 0.0001, 'dropout': 0.5, 'lr_decay': 0.1, 'layers': 2, 'hidden_dim': 400}\n"
     ]
    },
    {
     "name": "stderr",
     "output_type": "stream",
     "text": [
      "/home/samsonm/miniconda3/envs/multi_modal_DL/lib/python3.10/site-packages/scipy/stats/_stats_py.py:4424: ConstantInputWarning: An input array is constant; the correlation coefficient is not defined.\n",
      "  warnings.warn(stats.ConstantInputWarning(msg))\n"
     ]
    },
    {
     "name": "stdout",
     "output_type": "stream",
     "text": [
      "Epoch: 7/100, Val Loss: 3573.9597, Pearson R: nan, RMSE: 73.2183\n",
      "{'batch_size': 16, 'lr': 0.0001, 'dropout': 0.5, 'lr_decay': 0.1, 'layers': 2, 'hidden_dim': 800}\n"
     ]
    },
    {
     "name": "stderr",
     "output_type": "stream",
     "text": [
      "/home/samsonm/miniconda3/envs/multi_modal_DL/lib/python3.10/site-packages/scipy/stats/_stats_py.py:4424: ConstantInputWarning: An input array is constant; the correlation coefficient is not defined.\n",
      "  warnings.warn(stats.ConstantInputWarning(msg))\n"
     ]
    },
    {
     "name": "stdout",
     "output_type": "stream",
     "text": [
      "Epoch: 8/100, Val Loss: 3574.4753, Pearson R: nan, RMSE: 73.2218\n",
      "{'batch_size': 16, 'lr': 0.0001, 'dropout': 0.5, 'lr_decay': 0.1, 'layers': 4, 'hidden_dim': 400}\n"
     ]
    },
    {
     "name": "stderr",
     "output_type": "stream",
     "text": [
      "/home/samsonm/miniconda3/envs/multi_modal_DL/lib/python3.10/site-packages/scipy/stats/_stats_py.py:4424: ConstantInputWarning: An input array is constant; the correlation coefficient is not defined.\n",
      "  warnings.warn(stats.ConstantInputWarning(msg))\n"
     ]
    },
    {
     "name": "stdout",
     "output_type": "stream",
     "text": [
      "Epoch: 8/100, Val Loss: 3574.7996, Pearson R: nan, RMSE: 73.2241\n",
      "{'batch_size': 16, 'lr': 0.0001, 'dropout': 0.5, 'lr_decay': 0.1, 'layers': 4, 'hidden_dim': 800}\n"
     ]
    },
    {
     "name": "stderr",
     "output_type": "stream",
     "text": [
      "/home/samsonm/miniconda3/envs/multi_modal_DL/lib/python3.10/site-packages/scipy/stats/_stats_py.py:4424: ConstantInputWarning: An input array is constant; the correlation coefficient is not defined.\n",
      "  warnings.warn(stats.ConstantInputWarning(msg))\n"
     ]
    },
    {
     "name": "stdout",
     "output_type": "stream",
     "text": [
      "Epoch: 7/100, Val Loss: 3574.0078, Pearson R: nan, RMSE: 73.2187\n",
      "{'batch_size': 16, 'lr': 0.0001, 'dropout': 0.5, 'lr_decay': 0.01, 'layers': 2, 'hidden_dim': 400}\n"
     ]
    },
    {
     "name": "stderr",
     "output_type": "stream",
     "text": [
      "/home/samsonm/miniconda3/envs/multi_modal_DL/lib/python3.10/site-packages/scipy/stats/_stats_py.py:4424: ConstantInputWarning: An input array is constant; the correlation coefficient is not defined.\n",
      "  warnings.warn(stats.ConstantInputWarning(msg))\n"
     ]
    },
    {
     "name": "stdout",
     "output_type": "stream",
     "text": [
      "Epoch: 7/100, Val Loss: 3573.9636, Pearson R: nan, RMSE: 73.2183\n",
      "{'batch_size': 16, 'lr': 0.0001, 'dropout': 0.5, 'lr_decay': 0.01, 'layers': 2, 'hidden_dim': 800}\n"
     ]
    },
    {
     "name": "stderr",
     "output_type": "stream",
     "text": [
      "/home/samsonm/miniconda3/envs/multi_modal_DL/lib/python3.10/site-packages/scipy/stats/_stats_py.py:4424: ConstantInputWarning: An input array is constant; the correlation coefficient is not defined.\n",
      "  warnings.warn(stats.ConstantInputWarning(msg))\n"
     ]
    },
    {
     "name": "stdout",
     "output_type": "stream",
     "text": [
      "Epoch: 8/100, Val Loss: 3574.7908, Pearson R: nan, RMSE: 73.2240\n",
      "{'batch_size': 16, 'lr': 0.0001, 'dropout': 0.5, 'lr_decay': 0.01, 'layers': 4, 'hidden_dim': 400}\n"
     ]
    },
    {
     "name": "stderr",
     "output_type": "stream",
     "text": [
      "/home/samsonm/miniconda3/envs/multi_modal_DL/lib/python3.10/site-packages/scipy/stats/_stats_py.py:4424: ConstantInputWarning: An input array is constant; the correlation coefficient is not defined.\n",
      "  warnings.warn(stats.ConstantInputWarning(msg))\n"
     ]
    },
    {
     "name": "stdout",
     "output_type": "stream",
     "text": [
      "Epoch: 8/100, Val Loss: 3574.7949, Pearson R: nan, RMSE: 73.2240\n",
      "{'batch_size': 16, 'lr': 0.0001, 'dropout': 0.5, 'lr_decay': 0.01, 'layers': 4, 'hidden_dim': 800}\n"
     ]
    },
    {
     "name": "stderr",
     "output_type": "stream",
     "text": [
      "/home/samsonm/miniconda3/envs/multi_modal_DL/lib/python3.10/site-packages/scipy/stats/_stats_py.py:4424: ConstantInputWarning: An input array is constant; the correlation coefficient is not defined.\n",
      "  warnings.warn(stats.ConstantInputWarning(msg))\n"
     ]
    },
    {
     "name": "stdout",
     "output_type": "stream",
     "text": [
      "Epoch: 7/100, Val Loss: 3574.6812, Pearson R: nan, RMSE: 73.2232\n",
      "{'batch_size': 16, 'lr': 0.0001, 'dropout': 0.5, 'lr_decay': 0.001, 'layers': 2, 'hidden_dim': 400}\n"
     ]
    },
    {
     "name": "stderr",
     "output_type": "stream",
     "text": [
      "/home/samsonm/miniconda3/envs/multi_modal_DL/lib/python3.10/site-packages/scipy/stats/_stats_py.py:4424: ConstantInputWarning: An input array is constant; the correlation coefficient is not defined.\n",
      "  warnings.warn(stats.ConstantInputWarning(msg))\n"
     ]
    },
    {
     "name": "stdout",
     "output_type": "stream",
     "text": [
      "Epoch: 7/100, Val Loss: 3573.9546, Pearson R: nan, RMSE: 73.2183\n",
      "{'batch_size': 16, 'lr': 0.0001, 'dropout': 0.5, 'lr_decay': 0.001, 'layers': 2, 'hidden_dim': 800}\n"
     ]
    },
    {
     "name": "stderr",
     "output_type": "stream",
     "text": [
      "/home/samsonm/miniconda3/envs/multi_modal_DL/lib/python3.10/site-packages/scipy/stats/_stats_py.py:4424: ConstantInputWarning: An input array is constant; the correlation coefficient is not defined.\n",
      "  warnings.warn(stats.ConstantInputWarning(msg))\n"
     ]
    },
    {
     "name": "stdout",
     "output_type": "stream",
     "text": [
      "Epoch: 8/100, Val Loss: 3574.7937, Pearson R: nan, RMSE: 73.2240\n",
      "{'batch_size': 16, 'lr': 0.0001, 'dropout': 0.5, 'lr_decay': 0.001, 'layers': 4, 'hidden_dim': 400}\n"
     ]
    },
    {
     "name": "stderr",
     "output_type": "stream",
     "text": [
      "/home/samsonm/miniconda3/envs/multi_modal_DL/lib/python3.10/site-packages/scipy/stats/_stats_py.py:4424: ConstantInputWarning: An input array is constant; the correlation coefficient is not defined.\n",
      "  warnings.warn(stats.ConstantInputWarning(msg))\n"
     ]
    },
    {
     "name": "stdout",
     "output_type": "stream",
     "text": [
      "Epoch: 8/100, Val Loss: 3574.7476, Pearson R: nan, RMSE: 73.2237\n",
      "{'batch_size': 16, 'lr': 0.0001, 'dropout': 0.5, 'lr_decay': 0.001, 'layers': 4, 'hidden_dim': 800}\n"
     ]
    },
    {
     "name": "stderr",
     "output_type": "stream",
     "text": [
      "/home/samsonm/miniconda3/envs/multi_modal_DL/lib/python3.10/site-packages/scipy/stats/_stats_py.py:4424: ConstantInputWarning: An input array is constant; the correlation coefficient is not defined.\n",
      "  warnings.warn(stats.ConstantInputWarning(msg))\n"
     ]
    },
    {
     "name": "stdout",
     "output_type": "stream",
     "text": [
      "Epoch: 7/100, Val Loss: 3574.0244, Pearson R: nan, RMSE: 73.2188\n",
      "{'batch_size': 16, 'lr': 0.0001, 'dropout': 0.5, 'lr_decay': 0.0001, 'layers': 2, 'hidden_dim': 400}\n"
     ]
    },
    {
     "name": "stderr",
     "output_type": "stream",
     "text": [
      "/home/samsonm/miniconda3/envs/multi_modal_DL/lib/python3.10/site-packages/scipy/stats/_stats_py.py:4424: ConstantInputWarning: An input array is constant; the correlation coefficient is not defined.\n",
      "  warnings.warn(stats.ConstantInputWarning(msg))\n"
     ]
    },
    {
     "name": "stdout",
     "output_type": "stream",
     "text": [
      "Epoch: 7/100, Val Loss: 3573.9744, Pearson R: nan, RMSE: 73.2184\n",
      "{'batch_size': 16, 'lr': 0.0001, 'dropout': 0.5, 'lr_decay': 0.0001, 'layers': 2, 'hidden_dim': 800}\n"
     ]
    },
    {
     "name": "stderr",
     "output_type": "stream",
     "text": [
      "/home/samsonm/miniconda3/envs/multi_modal_DL/lib/python3.10/site-packages/scipy/stats/_stats_py.py:4424: ConstantInputWarning: An input array is constant; the correlation coefficient is not defined.\n",
      "  warnings.warn(stats.ConstantInputWarning(msg))\n"
     ]
    },
    {
     "name": "stdout",
     "output_type": "stream",
     "text": [
      "Epoch: 8/100, Val Loss: 3574.7651, Pearson R: nan, RMSE: 73.2238\n",
      "{'batch_size': 16, 'lr': 0.0001, 'dropout': 0.5, 'lr_decay': 0.0001, 'layers': 4, 'hidden_dim': 400}\n"
     ]
    },
    {
     "name": "stderr",
     "output_type": "stream",
     "text": [
      "/home/samsonm/miniconda3/envs/multi_modal_DL/lib/python3.10/site-packages/scipy/stats/_stats_py.py:4424: ConstantInputWarning: An input array is constant; the correlation coefficient is not defined.\n",
      "  warnings.warn(stats.ConstantInputWarning(msg))\n"
     ]
    },
    {
     "name": "stdout",
     "output_type": "stream",
     "text": [
      "Epoch: 8/100, Val Loss: 3574.5679, Pearson R: nan, RMSE: 73.2225\n",
      "{'batch_size': 16, 'lr': 0.0001, 'dropout': 0.5, 'lr_decay': 0.0001, 'layers': 4, 'hidden_dim': 800}\n",
      "Epoch: 7/100, Val Loss: 3573.9636, Pearson R: nan, RMSE: 73.2183\n",
      "experiment 1\n",
      "outcome DOS\n"
     ]
    },
    {
     "name": "stderr",
     "output_type": "stream",
     "text": [
      "/home/samsonm/miniconda3/envs/multi_modal_DL/lib/python3.10/site-packages/scipy/stats/_stats_py.py:4424: ConstantInputWarning: An input array is constant; the correlation coefficient is not defined.\n",
      "  warnings.warn(stats.ConstantInputWarning(msg))\n"
     ]
    },
    {
     "data": {
      "application/vnd.jupyter.widget-view+json": {
       "model_id": "6f60137e12984ffaa670d12a1ee3410a",
       "version_major": 2,
       "version_minor": 0
      },
      "text/plain": [
       "  0%|          | 0/320 [00:00<?, ?it/s]"
      ]
     },
     "metadata": {},
     "output_type": "display_data"
    },
    {
     "name": "stdout",
     "output_type": "stream",
     "text": [
      "{'batch_size': 16, 'lr': 0.1, 'dropout': 0.1, 'lr_decay': 0.1, 'layers': 2, 'hidden_dim': 400}\n"
     ]
    },
    {
     "name": "stderr",
     "output_type": "stream",
     "text": [
      "/home/samsonm/miniconda3/envs/multi_modal_DL/lib/python3.10/site-packages/scipy/stats/_stats_py.py:4424: ConstantInputWarning: An input array is constant; the correlation coefficient is not defined.\n",
      "  warnings.warn(stats.ConstantInputWarning(msg))\n"
     ]
    },
    {
     "name": "stdout",
     "output_type": "stream",
     "text": [
      "Epoch: 7/100, Val Loss: 3468.3965, Pearson R: nan, RMSE: 69.4483\n",
      "{'batch_size': 16, 'lr': 0.1, 'dropout': 0.1, 'lr_decay': 0.1, 'layers': 2, 'hidden_dim': 800}\n"
     ]
    },
    {
     "name": "stderr",
     "output_type": "stream",
     "text": [
      "/home/samsonm/miniconda3/envs/multi_modal_DL/lib/python3.10/site-packages/scipy/stats/_stats_py.py:4424: ConstantInputWarning: An input array is constant; the correlation coefficient is not defined.\n",
      "  warnings.warn(stats.ConstantInputWarning(msg))\n"
     ]
    },
    {
     "name": "stdout",
     "output_type": "stream",
     "text": [
      "Epoch: 9/100, Val Loss: 14623.8975, Pearson R: nan, RMSE: 126.4063\n",
      "{'batch_size': 16, 'lr': 0.1, 'dropout': 0.1, 'lr_decay': 0.1, 'layers': 4, 'hidden_dim': 400}\n"
     ]
    },
    {
     "name": "stderr",
     "output_type": "stream",
     "text": [
      "/home/samsonm/miniconda3/envs/multi_modal_DL/lib/python3.10/site-packages/scipy/stats/_stats_py.py:4424: ConstantInputWarning: An input array is constant; the correlation coefficient is not defined.\n",
      "  warnings.warn(stats.ConstantInputWarning(msg))\n"
     ]
    },
    {
     "name": "stdout",
     "output_type": "stream",
     "text": [
      "Epoch: 31/100, Val Loss: 2714.6045, Pearson R: nan, RMSE: 63.7908\n",
      "{'batch_size': 16, 'lr': 0.1, 'dropout': 0.1, 'lr_decay': 0.1, 'layers': 4, 'hidden_dim': 800}\n"
     ]
    },
    {
     "name": "stderr",
     "output_type": "stream",
     "text": [
      "/home/samsonm/miniconda3/envs/multi_modal_DL/lib/python3.10/site-packages/scipy/stats/_stats_py.py:4424: ConstantInputWarning: An input array is constant; the correlation coefficient is not defined.\n",
      "  warnings.warn(stats.ConstantInputWarning(msg))\n"
     ]
    },
    {
     "name": "stdout",
     "output_type": "stream",
     "text": [
      "Epoch: 11/100, Val Loss: 2710.8445, Pearson R: nan, RMSE: 63.7614\n",
      "{'batch_size': 16, 'lr': 0.1, 'dropout': 0.1, 'lr_decay': 0.01, 'layers': 2, 'hidden_dim': 400}\n"
     ]
    },
    {
     "name": "stderr",
     "output_type": "stream",
     "text": [
      "/home/samsonm/miniconda3/envs/multi_modal_DL/lib/python3.10/site-packages/scipy/stats/_stats_py.py:4424: ConstantInputWarning: An input array is constant; the correlation coefficient is not defined.\n",
      "  warnings.warn(stats.ConstantInputWarning(msg))\n"
     ]
    },
    {
     "name": "stdout",
     "output_type": "stream",
     "text": [
      "Epoch: 20/100, Val Loss: 2752.4441, Pearson R: nan, RMSE: 64.0867\n",
      "{'batch_size': 16, 'lr': 0.1, 'dropout': 0.1, 'lr_decay': 0.01, 'layers': 2, 'hidden_dim': 800}\n"
     ]
    },
    {
     "name": "stderr",
     "output_type": "stream",
     "text": [
      "/home/samsonm/miniconda3/envs/multi_modal_DL/lib/python3.10/site-packages/scipy/stats/_stats_py.py:4424: ConstantInputWarning: An input array is constant; the correlation coefficient is not defined.\n",
      "  warnings.warn(stats.ConstantInputWarning(msg))\n"
     ]
    },
    {
     "name": "stdout",
     "output_type": "stream",
     "text": [
      "Epoch: 16/100, Val Loss: 2710.5132, Pearson R: nan, RMSE: 63.7588\n",
      "{'batch_size': 16, 'lr': 0.1, 'dropout': 0.1, 'lr_decay': 0.01, 'layers': 4, 'hidden_dim': 400}\n"
     ]
    },
    {
     "name": "stderr",
     "output_type": "stream",
     "text": [
      "/home/samsonm/miniconda3/envs/multi_modal_DL/lib/python3.10/site-packages/scipy/stats/_stats_py.py:4424: ConstantInputWarning: An input array is constant; the correlation coefficient is not defined.\n",
      "  warnings.warn(stats.ConstantInputWarning(msg))\n"
     ]
    },
    {
     "name": "stdout",
     "output_type": "stream",
     "text": [
      "Epoch: 25/100, Val Loss: 2735.0652, Pearson R: nan, RMSE: 63.9510\n",
      "{'batch_size': 16, 'lr': 0.1, 'dropout': 0.1, 'lr_decay': 0.01, 'layers': 4, 'hidden_dim': 800}\n"
     ]
    },
    {
     "name": "stderr",
     "output_type": "stream",
     "text": [
      "/home/samsonm/miniconda3/envs/multi_modal_DL/lib/python3.10/site-packages/scipy/stats/_stats_py.py:4424: ConstantInputWarning: An input array is constant; the correlation coefficient is not defined.\n",
      "  warnings.warn(stats.ConstantInputWarning(msg))\n"
     ]
    },
    {
     "name": "stdout",
     "output_type": "stream",
     "text": [
      "Epoch: 16/100, Val Loss: 2709.3445, Pearson R: nan, RMSE: 63.7496\n",
      "{'batch_size': 16, 'lr': 0.1, 'dropout': 0.1, 'lr_decay': 0.001, 'layers': 2, 'hidden_dim': 400}\n"
     ]
    },
    {
     "name": "stderr",
     "output_type": "stream",
     "text": [
      "/home/samsonm/miniconda3/envs/multi_modal_DL/lib/python3.10/site-packages/scipy/stats/_stats_py.py:4424: ConstantInputWarning: An input array is constant; the correlation coefficient is not defined.\n",
      "  warnings.warn(stats.ConstantInputWarning(msg))\n"
     ]
    },
    {
     "name": "stdout",
     "output_type": "stream",
     "text": [
      "Epoch: 7/100, Val Loss: 36411.2031, Pearson R: nan, RMSE: 194.3344\n",
      "{'batch_size': 16, 'lr': 0.1, 'dropout': 0.1, 'lr_decay': 0.001, 'layers': 2, 'hidden_dim': 800}\n"
     ]
    },
    {
     "name": "stderr",
     "output_type": "stream",
     "text": [
      "/home/samsonm/miniconda3/envs/multi_modal_DL/lib/python3.10/site-packages/scipy/stats/_stats_py.py:4424: ConstantInputWarning: An input array is constant; the correlation coefficient is not defined.\n",
      "  warnings.warn(stats.ConstantInputWarning(msg))\n"
     ]
    },
    {
     "name": "stdout",
     "output_type": "stream",
     "text": [
      "Epoch: 11/100, Val Loss: 3718.3008, Pearson R: nan, RMSE: 71.2248\n",
      "{'batch_size': 16, 'lr': 0.1, 'dropout': 0.1, 'lr_decay': 0.001, 'layers': 4, 'hidden_dim': 400}\n"
     ]
    },
    {
     "name": "stderr",
     "output_type": "stream",
     "text": [
      "/home/samsonm/miniconda3/envs/multi_modal_DL/lib/python3.10/site-packages/scipy/stats/_stats_py.py:4424: ConstantInputWarning: An input array is constant; the correlation coefficient is not defined.\n",
      "  warnings.warn(stats.ConstantInputWarning(msg))\n"
     ]
    },
    {
     "name": "stdout",
     "output_type": "stream",
     "text": [
      "Epoch: 15/100, Val Loss: 2709.5103, Pearson R: nan, RMSE: 63.7509\n",
      "{'batch_size': 16, 'lr': 0.1, 'dropout': 0.1, 'lr_decay': 0.001, 'layers': 4, 'hidden_dim': 800}\n"
     ]
    },
    {
     "name": "stderr",
     "output_type": "stream",
     "text": [
      "/home/samsonm/miniconda3/envs/multi_modal_DL/lib/python3.10/site-packages/scipy/stats/_stats_py.py:4424: ConstantInputWarning: An input array is constant; the correlation coefficient is not defined.\n",
      "  warnings.warn(stats.ConstantInputWarning(msg))\n"
     ]
    },
    {
     "name": "stdout",
     "output_type": "stream",
     "text": [
      "Epoch: 9/100, Val Loss: 2771.4961, Pearson R: nan, RMSE: 64.2352\n",
      "{'batch_size': 16, 'lr': 0.1, 'dropout': 0.1, 'lr_decay': 0.0001, 'layers': 2, 'hidden_dim': 400}\n"
     ]
    },
    {
     "name": "stderr",
     "output_type": "stream",
     "text": [
      "/home/samsonm/miniconda3/envs/multi_modal_DL/lib/python3.10/site-packages/scipy/stats/_stats_py.py:4424: ConstantInputWarning: An input array is constant; the correlation coefficient is not defined.\n",
      "  warnings.warn(stats.ConstantInputWarning(msg))\n"
     ]
    },
    {
     "name": "stdout",
     "output_type": "stream",
     "text": [
      "Epoch: 21/100, Val Loss: 3289.3486, Pearson R: nan, RMSE: 68.1470\n",
      "{'batch_size': 16, 'lr': 0.1, 'dropout': 0.1, 'lr_decay': 0.0001, 'layers': 2, 'hidden_dim': 800}\n"
     ]
    },
    {
     "name": "stderr",
     "output_type": "stream",
     "text": [
      "/home/samsonm/miniconda3/envs/multi_modal_DL/lib/python3.10/site-packages/scipy/stats/_stats_py.py:4424: ConstantInputWarning: An input array is constant; the correlation coefficient is not defined.\n",
      "  warnings.warn(stats.ConstantInputWarning(msg))\n"
     ]
    },
    {
     "name": "stdout",
     "output_type": "stream",
     "text": [
      "Epoch: 17/100, Val Loss: 2771.6865, Pearson R: nan, RMSE: 64.2367\n",
      "{'batch_size': 16, 'lr': 0.1, 'dropout': 0.1, 'lr_decay': 0.0001, 'layers': 4, 'hidden_dim': 400}\n"
     ]
    },
    {
     "name": "stderr",
     "output_type": "stream",
     "text": [
      "/home/samsonm/miniconda3/envs/multi_modal_DL/lib/python3.10/site-packages/scipy/stats/_stats_py.py:4424: ConstantInputWarning: An input array is constant; the correlation coefficient is not defined.\n",
      "  warnings.warn(stats.ConstantInputWarning(msg))\n"
     ]
    },
    {
     "name": "stdout",
     "output_type": "stream",
     "text": [
      "Epoch: 16/100, Val Loss: 2847.1284, Pearson R: nan, RMSE: 64.8213\n",
      "{'batch_size': 16, 'lr': 0.1, 'dropout': 0.1, 'lr_decay': 0.0001, 'layers': 4, 'hidden_dim': 800}\n"
     ]
    },
    {
     "name": "stderr",
     "output_type": "stream",
     "text": [
      "/home/samsonm/miniconda3/envs/multi_modal_DL/lib/python3.10/site-packages/scipy/stats/_stats_py.py:4424: ConstantInputWarning: An input array is constant; the correlation coefficient is not defined.\n",
      "  warnings.warn(stats.ConstantInputWarning(msg))\n"
     ]
    },
    {
     "name": "stdout",
     "output_type": "stream",
     "text": [
      "Epoch: 9/100, Val Loss: 3474.7666, Pearson R: nan, RMSE: 69.4941\n",
      "{'batch_size': 16, 'lr': 0.1, 'dropout': 0.2, 'lr_decay': 0.1, 'layers': 2, 'hidden_dim': 400}\n"
     ]
    },
    {
     "name": "stderr",
     "output_type": "stream",
     "text": [
      "/home/samsonm/miniconda3/envs/multi_modal_DL/lib/python3.10/site-packages/scipy/stats/_stats_py.py:4424: ConstantInputWarning: An input array is constant; the correlation coefficient is not defined.\n",
      "  warnings.warn(stats.ConstantInputWarning(msg))\n"
     ]
    },
    {
     "name": "stdout",
     "output_type": "stream",
     "text": [
      "Epoch: 12/100, Val Loss: 3550.5879, Pearson R: nan, RMSE: 70.0375\n",
      "{'batch_size': 16, 'lr': 0.1, 'dropout': 0.2, 'lr_decay': 0.1, 'layers': 2, 'hidden_dim': 800}\n"
     ]
    },
    {
     "name": "stderr",
     "output_type": "stream",
     "text": [
      "/home/samsonm/miniconda3/envs/multi_modal_DL/lib/python3.10/site-packages/scipy/stats/_stats_py.py:4424: ConstantInputWarning: An input array is constant; the correlation coefficient is not defined.\n",
      "  warnings.warn(stats.ConstantInputWarning(msg))\n"
     ]
    },
    {
     "name": "stdout",
     "output_type": "stream",
     "text": [
      "Epoch: 20/100, Val Loss: 2718.5833, Pearson R: nan, RMSE: 63.8220\n",
      "{'batch_size': 16, 'lr': 0.1, 'dropout': 0.2, 'lr_decay': 0.1, 'layers': 4, 'hidden_dim': 400}\n"
     ]
    },
    {
     "name": "stderr",
     "output_type": "stream",
     "text": [
      "/home/samsonm/miniconda3/envs/multi_modal_DL/lib/python3.10/site-packages/scipy/stats/_stats_py.py:4424: ConstantInputWarning: An input array is constant; the correlation coefficient is not defined.\n",
      "  warnings.warn(stats.ConstantInputWarning(msg))\n"
     ]
    },
    {
     "name": "stdout",
     "output_type": "stream",
     "text": [
      "Epoch: 22/100, Val Loss: 2709.3423, Pearson R: nan, RMSE: 63.7496\n",
      "{'batch_size': 16, 'lr': 0.1, 'dropout': 0.2, 'lr_decay': 0.1, 'layers': 4, 'hidden_dim': 800}\n"
     ]
    },
    {
     "name": "stderr",
     "output_type": "stream",
     "text": [
      "/home/samsonm/miniconda3/envs/multi_modal_DL/lib/python3.10/site-packages/scipy/stats/_stats_py.py:4424: ConstantInputWarning: An input array is constant; the correlation coefficient is not defined.\n",
      "  warnings.warn(stats.ConstantInputWarning(msg))\n"
     ]
    },
    {
     "name": "stdout",
     "output_type": "stream",
     "text": [
      "Epoch: 10/100, Val Loss: 2711.7820, Pearson R: nan, RMSE: 63.7687\n",
      "{'batch_size': 16, 'lr': 0.1, 'dropout': 0.2, 'lr_decay': 0.01, 'layers': 2, 'hidden_dim': 400}\n"
     ]
    },
    {
     "name": "stderr",
     "output_type": "stream",
     "text": [
      "/home/samsonm/miniconda3/envs/multi_modal_DL/lib/python3.10/site-packages/scipy/stats/_stats_py.py:4424: ConstantInputWarning: An input array is constant; the correlation coefficient is not defined.\n",
      "  warnings.warn(stats.ConstantInputWarning(msg))\n"
     ]
    },
    {
     "name": "stdout",
     "output_type": "stream",
     "text": [
      "Epoch: 18/100, Val Loss: 2985.1914, Pearson R: nan, RMSE: 65.8776\n",
      "{'batch_size': 16, 'lr': 0.1, 'dropout': 0.2, 'lr_decay': 0.01, 'layers': 2, 'hidden_dim': 800}\n"
     ]
    },
    {
     "name": "stderr",
     "output_type": "stream",
     "text": [
      "/home/samsonm/miniconda3/envs/multi_modal_DL/lib/python3.10/site-packages/scipy/stats/_stats_py.py:4424: ConstantInputWarning: An input array is constant; the correlation coefficient is not defined.\n",
      "  warnings.warn(stats.ConstantInputWarning(msg))\n"
     ]
    },
    {
     "name": "stdout",
     "output_type": "stream",
     "text": [
      "Epoch: 20/100, Val Loss: 2711.0903, Pearson R: nan, RMSE: 63.7633\n",
      "{'batch_size': 16, 'lr': 0.1, 'dropout': 0.2, 'lr_decay': 0.01, 'layers': 4, 'hidden_dim': 400}\n"
     ]
    },
    {
     "name": "stderr",
     "output_type": "stream",
     "text": [
      "/home/samsonm/miniconda3/envs/multi_modal_DL/lib/python3.10/site-packages/scipy/stats/_stats_py.py:4424: ConstantInputWarning: An input array is constant; the correlation coefficient is not defined.\n",
      "  warnings.warn(stats.ConstantInputWarning(msg))\n"
     ]
    },
    {
     "name": "stdout",
     "output_type": "stream",
     "text": [
      "Epoch: 14/100, Val Loss: 2721.7949, Pearson R: nan, RMSE: 63.8472\n",
      "{'batch_size': 16, 'lr': 0.1, 'dropout': 0.2, 'lr_decay': 0.01, 'layers': 4, 'hidden_dim': 800}\n"
     ]
    },
    {
     "name": "stderr",
     "output_type": "stream",
     "text": [
      "/home/samsonm/miniconda3/envs/multi_modal_DL/lib/python3.10/site-packages/scipy/stats/_stats_py.py:4424: ConstantInputWarning: An input array is constant; the correlation coefficient is not defined.\n",
      "  warnings.warn(stats.ConstantInputWarning(msg))\n"
     ]
    },
    {
     "name": "stdout",
     "output_type": "stream",
     "text": [
      "Epoch: 14/100, Val Loss: 3039.3569, Pearson R: nan, RMSE: 66.2874\n",
      "{'batch_size': 16, 'lr': 0.1, 'dropout': 0.2, 'lr_decay': 0.001, 'layers': 2, 'hidden_dim': 400}\n"
     ]
    },
    {
     "name": "stderr",
     "output_type": "stream",
     "text": [
      "/home/samsonm/miniconda3/envs/multi_modal_DL/lib/python3.10/site-packages/scipy/stats/_stats_py.py:4424: ConstantInputWarning: An input array is constant; the correlation coefficient is not defined.\n",
      "  warnings.warn(stats.ConstantInputWarning(msg))\n"
     ]
    },
    {
     "name": "stdout",
     "output_type": "stream",
     "text": [
      "Epoch: 12/100, Val Loss: 3182.1582, Pearson R: nan, RMSE: 67.3560\n",
      "{'batch_size': 16, 'lr': 0.1, 'dropout': 0.2, 'lr_decay': 0.001, 'layers': 2, 'hidden_dim': 800}\n"
     ]
    },
    {
     "name": "stderr",
     "output_type": "stream",
     "text": [
      "/home/samsonm/miniconda3/envs/multi_modal_DL/lib/python3.10/site-packages/scipy/stats/_stats_py.py:4424: ConstantInputWarning: An input array is constant; the correlation coefficient is not defined.\n",
      "  warnings.warn(stats.ConstantInputWarning(msg))\n"
     ]
    },
    {
     "name": "stdout",
     "output_type": "stream",
     "text": [
      "Epoch: 17/100, Val Loss: 3000.8384, Pearson R: nan, RMSE: 65.9962\n",
      "{'batch_size': 16, 'lr': 0.1, 'dropout': 0.2, 'lr_decay': 0.001, 'layers': 4, 'hidden_dim': 400}\n"
     ]
    },
    {
     "name": "stderr",
     "output_type": "stream",
     "text": [
      "/home/samsonm/miniconda3/envs/multi_modal_DL/lib/python3.10/site-packages/scipy/stats/_stats_py.py:4424: ConstantInputWarning: An input array is constant; the correlation coefficient is not defined.\n",
      "  warnings.warn(stats.ConstantInputWarning(msg))\n"
     ]
    },
    {
     "name": "stdout",
     "output_type": "stream",
     "text": [
      "Epoch: 11/100, Val Loss: 3073.6843, Pearson R: nan, RMSE: 66.5459\n",
      "{'batch_size': 16, 'lr': 0.1, 'dropout': 0.2, 'lr_decay': 0.001, 'layers': 4, 'hidden_dim': 800}\n"
     ]
    },
    {
     "name": "stderr",
     "output_type": "stream",
     "text": [
      "/home/samsonm/miniconda3/envs/multi_modal_DL/lib/python3.10/site-packages/scipy/stats/_stats_py.py:4424: ConstantInputWarning: An input array is constant; the correlation coefficient is not defined.\n",
      "  warnings.warn(stats.ConstantInputWarning(msg))\n"
     ]
    },
    {
     "name": "stdout",
     "output_type": "stream",
     "text": [
      "Epoch: 13/100, Val Loss: 2711.9937, Pearson R: nan, RMSE: 63.7704\n",
      "{'batch_size': 16, 'lr': 0.1, 'dropout': 0.2, 'lr_decay': 0.0001, 'layers': 2, 'hidden_dim': 400}\n"
     ]
    },
    {
     "name": "stderr",
     "output_type": "stream",
     "text": [
      "/home/samsonm/miniconda3/envs/multi_modal_DL/lib/python3.10/site-packages/scipy/stats/_stats_py.py:4424: ConstantInputWarning: An input array is constant; the correlation coefficient is not defined.\n",
      "  warnings.warn(stats.ConstantInputWarning(msg))\n"
     ]
    },
    {
     "name": "stdout",
     "output_type": "stream",
     "text": [
      "Epoch: 27/100, Val Loss: 2810.3894, Pearson R: nan, RMSE: 64.5372\n",
      "{'batch_size': 16, 'lr': 0.1, 'dropout': 0.2, 'lr_decay': 0.0001, 'layers': 2, 'hidden_dim': 800}\n"
     ]
    },
    {
     "name": "stderr",
     "output_type": "stream",
     "text": [
      "/home/samsonm/miniconda3/envs/multi_modal_DL/lib/python3.10/site-packages/scipy/stats/_stats_py.py:4424: ConstantInputWarning: An input array is constant; the correlation coefficient is not defined.\n",
      "  warnings.warn(stats.ConstantInputWarning(msg))\n"
     ]
    },
    {
     "name": "stdout",
     "output_type": "stream",
     "text": [
      "Epoch: 19/100, Val Loss: 2757.9370, Pearson R: nan, RMSE: 64.1296\n",
      "{'batch_size': 16, 'lr': 0.1, 'dropout': 0.2, 'lr_decay': 0.0001, 'layers': 4, 'hidden_dim': 400}\n"
     ]
    },
    {
     "name": "stderr",
     "output_type": "stream",
     "text": [
      "/home/samsonm/miniconda3/envs/multi_modal_DL/lib/python3.10/site-packages/scipy/stats/_stats_py.py:4424: ConstantInputWarning: An input array is constant; the correlation coefficient is not defined.\n",
      "  warnings.warn(stats.ConstantInputWarning(msg))\n"
     ]
    },
    {
     "name": "stdout",
     "output_type": "stream",
     "text": [
      "Epoch: 9/100, Val Loss: 2873.9380, Pearson R: nan, RMSE: 65.0277\n",
      "{'batch_size': 16, 'lr': 0.1, 'dropout': 0.2, 'lr_decay': 0.0001, 'layers': 4, 'hidden_dim': 800}\n"
     ]
    },
    {
     "name": "stderr",
     "output_type": "stream",
     "text": [
      "/home/samsonm/miniconda3/envs/multi_modal_DL/lib/python3.10/site-packages/scipy/stats/_stats_py.py:4424: ConstantInputWarning: An input array is constant; the correlation coefficient is not defined.\n",
      "  warnings.warn(stats.ConstantInputWarning(msg))\n"
     ]
    },
    {
     "name": "stdout",
     "output_type": "stream",
     "text": [
      "Epoch: 13/100, Val Loss: 3167.7896, Pearson R: nan, RMSE: 67.2492\n",
      "{'batch_size': 16, 'lr': 0.1, 'dropout': 0.3, 'lr_decay': 0.1, 'layers': 2, 'hidden_dim': 400}\n"
     ]
    },
    {
     "name": "stderr",
     "output_type": "stream",
     "text": [
      "/home/samsonm/miniconda3/envs/multi_modal_DL/lib/python3.10/site-packages/scipy/stats/_stats_py.py:4424: ConstantInputWarning: An input array is constant; the correlation coefficient is not defined.\n",
      "  warnings.warn(stats.ConstantInputWarning(msg))\n"
     ]
    },
    {
     "name": "stdout",
     "output_type": "stream",
     "text": [
      "Epoch: 18/100, Val Loss: 2709.3540, Pearson R: nan, RMSE: 63.7497\n",
      "{'batch_size': 16, 'lr': 0.1, 'dropout': 0.3, 'lr_decay': 0.1, 'layers': 2, 'hidden_dim': 800}\n"
     ]
    },
    {
     "name": "stderr",
     "output_type": "stream",
     "text": [
      "/home/samsonm/miniconda3/envs/multi_modal_DL/lib/python3.10/site-packages/scipy/stats/_stats_py.py:4424: ConstantInputWarning: An input array is constant; the correlation coefficient is not defined.\n",
      "  warnings.warn(stats.ConstantInputWarning(msg))\n"
     ]
    },
    {
     "name": "stdout",
     "output_type": "stream",
     "text": [
      "Epoch: 9/100, Val Loss: 3608.6384, Pearson R: nan, RMSE: 70.4507\n",
      "{'batch_size': 16, 'lr': 0.1, 'dropout': 0.3, 'lr_decay': 0.1, 'layers': 4, 'hidden_dim': 400}\n"
     ]
    },
    {
     "name": "stderr",
     "output_type": "stream",
     "text": [
      "/home/samsonm/miniconda3/envs/multi_modal_DL/lib/python3.10/site-packages/scipy/stats/_stats_py.py:4424: ConstantInputWarning: An input array is constant; the correlation coefficient is not defined.\n",
      "  warnings.warn(stats.ConstantInputWarning(msg))\n"
     ]
    },
    {
     "name": "stdout",
     "output_type": "stream",
     "text": [
      "Epoch: 23/100, Val Loss: 2720.8933, Pearson R: nan, RMSE: 63.8401\n",
      "{'batch_size': 16, 'lr': 0.1, 'dropout': 0.3, 'lr_decay': 0.1, 'layers': 4, 'hidden_dim': 800}\n"
     ]
    },
    {
     "name": "stderr",
     "output_type": "stream",
     "text": [
      "/home/samsonm/miniconda3/envs/multi_modal_DL/lib/python3.10/site-packages/scipy/stats/_stats_py.py:4424: ConstantInputWarning: An input array is constant; the correlation coefficient is not defined.\n",
      "  warnings.warn(stats.ConstantInputWarning(msg))\n"
     ]
    },
    {
     "name": "stdout",
     "output_type": "stream",
     "text": [
      "Epoch: 19/100, Val Loss: 2713.7371, Pearson R: nan, RMSE: 63.7840\n",
      "{'batch_size': 16, 'lr': 0.1, 'dropout': 0.3, 'lr_decay': 0.01, 'layers': 2, 'hidden_dim': 400}\n"
     ]
    },
    {
     "name": "stderr",
     "output_type": "stream",
     "text": [
      "/home/samsonm/miniconda3/envs/multi_modal_DL/lib/python3.10/site-packages/scipy/stats/_stats_py.py:4424: ConstantInputWarning: An input array is constant; the correlation coefficient is not defined.\n",
      "  warnings.warn(stats.ConstantInputWarning(msg))\n"
     ]
    },
    {
     "name": "stdout",
     "output_type": "stream",
     "text": [
      "Epoch: 12/100, Val Loss: 2888.5427, Pearson R: nan, RMSE: 65.1399\n",
      "{'batch_size': 16, 'lr': 0.1, 'dropout': 0.3, 'lr_decay': 0.01, 'layers': 2, 'hidden_dim': 800}\n"
     ]
    },
    {
     "name": "stderr",
     "output_type": "stream",
     "text": [
      "/home/samsonm/miniconda3/envs/multi_modal_DL/lib/python3.10/site-packages/scipy/stats/_stats_py.py:4424: ConstantInputWarning: An input array is constant; the correlation coefficient is not defined.\n",
      "  warnings.warn(stats.ConstantInputWarning(msg))\n"
     ]
    },
    {
     "name": "stdout",
     "output_type": "stream",
     "text": [
      "Epoch: 11/100, Val Loss: 2846.6431, Pearson R: nan, RMSE: 64.8175\n",
      "{'batch_size': 16, 'lr': 0.1, 'dropout': 0.3, 'lr_decay': 0.01, 'layers': 4, 'hidden_dim': 400}\n"
     ]
    },
    {
     "name": "stderr",
     "output_type": "stream",
     "text": [
      "/home/samsonm/miniconda3/envs/multi_modal_DL/lib/python3.10/site-packages/scipy/stats/_stats_py.py:4424: ConstantInputWarning: An input array is constant; the correlation coefficient is not defined.\n",
      "  warnings.warn(stats.ConstantInputWarning(msg))\n"
     ]
    },
    {
     "name": "stdout",
     "output_type": "stream",
     "text": [
      "Epoch: 15/100, Val Loss: 2715.4585, Pearson R: nan, RMSE: 63.7975\n",
      "{'batch_size': 16, 'lr': 0.1, 'dropout': 0.3, 'lr_decay': 0.01, 'layers': 4, 'hidden_dim': 800}\n"
     ]
    },
    {
     "name": "stderr",
     "output_type": "stream",
     "text": [
      "/home/samsonm/miniconda3/envs/multi_modal_DL/lib/python3.10/site-packages/scipy/stats/_stats_py.py:4424: ConstantInputWarning: An input array is constant; the correlation coefficient is not defined.\n",
      "  warnings.warn(stats.ConstantInputWarning(msg))\n"
     ]
    },
    {
     "name": "stdout",
     "output_type": "stream",
     "text": [
      "Epoch: 16/100, Val Loss: 2724.3677, Pearson R: nan, RMSE: 63.8673\n",
      "{'batch_size': 16, 'lr': 0.1, 'dropout': 0.3, 'lr_decay': 0.001, 'layers': 2, 'hidden_dim': 400}\n"
     ]
    },
    {
     "name": "stderr",
     "output_type": "stream",
     "text": [
      "/home/samsonm/miniconda3/envs/multi_modal_DL/lib/python3.10/site-packages/scipy/stats/_stats_py.py:4424: ConstantInputWarning: An input array is constant; the correlation coefficient is not defined.\n",
      "  warnings.warn(stats.ConstantInputWarning(msg))\n"
     ]
    },
    {
     "name": "stdout",
     "output_type": "stream",
     "text": [
      "Epoch: 12/100, Val Loss: 5587.4409, Pearson R: nan, RMSE: 83.3193\n",
      "{'batch_size': 16, 'lr': 0.1, 'dropout': 0.3, 'lr_decay': 0.001, 'layers': 2, 'hidden_dim': 800}\n"
     ]
    },
    {
     "name": "stderr",
     "output_type": "stream",
     "text": [
      "/home/samsonm/miniconda3/envs/multi_modal_DL/lib/python3.10/site-packages/scipy/stats/_stats_py.py:4424: ConstantInputWarning: An input array is constant; the correlation coefficient is not defined.\n",
      "  warnings.warn(stats.ConstantInputWarning(msg))\n"
     ]
    },
    {
     "name": "stdout",
     "output_type": "stream",
     "text": [
      "Epoch: 11/100, Val Loss: 6610.6650, Pearson R: nan, RMSE: 89.2487\n",
      "{'batch_size': 16, 'lr': 0.1, 'dropout': 0.3, 'lr_decay': 0.001, 'layers': 4, 'hidden_dim': 400}\n"
     ]
    },
    {
     "name": "stderr",
     "output_type": "stream",
     "text": [
      "/home/samsonm/miniconda3/envs/multi_modal_DL/lib/python3.10/site-packages/scipy/stats/_stats_py.py:4424: ConstantInputWarning: An input array is constant; the correlation coefficient is not defined.\n",
      "  warnings.warn(stats.ConstantInputWarning(msg))\n"
     ]
    },
    {
     "name": "stdout",
     "output_type": "stream",
     "text": [
      "Epoch: 15/100, Val Loss: 2740.7505, Pearson R: nan, RMSE: 63.9954\n",
      "{'batch_size': 16, 'lr': 0.1, 'dropout': 0.3, 'lr_decay': 0.001, 'layers': 4, 'hidden_dim': 800}\n"
     ]
    },
    {
     "name": "stderr",
     "output_type": "stream",
     "text": [
      "/home/samsonm/miniconda3/envs/multi_modal_DL/lib/python3.10/site-packages/scipy/stats/_stats_py.py:4424: ConstantInputWarning: An input array is constant; the correlation coefficient is not defined.\n",
      "  warnings.warn(stats.ConstantInputWarning(msg))\n"
     ]
    },
    {
     "name": "stdout",
     "output_type": "stream",
     "text": [
      "Epoch: 21/100, Val Loss: 2725.0032, Pearson R: nan, RMSE: 63.8723\n",
      "{'batch_size': 16, 'lr': 0.1, 'dropout': 0.3, 'lr_decay': 0.0001, 'layers': 2, 'hidden_dim': 400}\n"
     ]
    },
    {
     "name": "stderr",
     "output_type": "stream",
     "text": [
      "/home/samsonm/miniconda3/envs/multi_modal_DL/lib/python3.10/site-packages/scipy/stats/_stats_py.py:4424: ConstantInputWarning: An input array is constant; the correlation coefficient is not defined.\n",
      "  warnings.warn(stats.ConstantInputWarning(msg))\n"
     ]
    },
    {
     "name": "stdout",
     "output_type": "stream",
     "text": [
      "Epoch: 6/100, Val Loss: 118173.0938, Pearson R: nan, RMSE: 345.7279\n",
      "{'batch_size': 16, 'lr': 0.1, 'dropout': 0.3, 'lr_decay': 0.0001, 'layers': 2, 'hidden_dim': 800}\n"
     ]
    },
    {
     "name": "stderr",
     "output_type": "stream",
     "text": [
      "/home/samsonm/miniconda3/envs/multi_modal_DL/lib/python3.10/site-packages/scipy/stats/_stats_py.py:4424: ConstantInputWarning: An input array is constant; the correlation coefficient is not defined.\n",
      "  warnings.warn(stats.ConstantInputWarning(msg))\n"
     ]
    },
    {
     "name": "stdout",
     "output_type": "stream",
     "text": [
      "Epoch: 12/100, Val Loss: 2759.8101, Pearson R: nan, RMSE: 64.1442\n",
      "{'batch_size': 16, 'lr': 0.1, 'dropout': 0.3, 'lr_decay': 0.0001, 'layers': 4, 'hidden_dim': 400}\n"
     ]
    },
    {
     "name": "stderr",
     "output_type": "stream",
     "text": [
      "/home/samsonm/miniconda3/envs/multi_modal_DL/lib/python3.10/site-packages/scipy/stats/_stats_py.py:4424: ConstantInputWarning: An input array is constant; the correlation coefficient is not defined.\n",
      "  warnings.warn(stats.ConstantInputWarning(msg))\n"
     ]
    },
    {
     "name": "stdout",
     "output_type": "stream",
     "text": [
      "Epoch: 7/100, Val Loss: 4734.7495, Pearson R: nan, RMSE: 78.0347\n",
      "{'batch_size': 16, 'lr': 0.1, 'dropout': 0.3, 'lr_decay': 0.0001, 'layers': 4, 'hidden_dim': 800}\n"
     ]
    },
    {
     "name": "stderr",
     "output_type": "stream",
     "text": [
      "/home/samsonm/miniconda3/envs/multi_modal_DL/lib/python3.10/site-packages/scipy/stats/_stats_py.py:4424: ConstantInputWarning: An input array is constant; the correlation coefficient is not defined.\n",
      "  warnings.warn(stats.ConstantInputWarning(msg))\n"
     ]
    },
    {
     "name": "stdout",
     "output_type": "stream",
     "text": [
      "Epoch: 19/100, Val Loss: 2733.5945, Pearson R: nan, RMSE: 63.9395\n",
      "{'batch_size': 16, 'lr': 0.1, 'dropout': 0.4, 'lr_decay': 0.1, 'layers': 2, 'hidden_dim': 400}\n"
     ]
    },
    {
     "name": "stderr",
     "output_type": "stream",
     "text": [
      "/home/samsonm/miniconda3/envs/multi_modal_DL/lib/python3.10/site-packages/scipy/stats/_stats_py.py:4424: ConstantInputWarning: An input array is constant; the correlation coefficient is not defined.\n",
      "  warnings.warn(stats.ConstantInputWarning(msg))\n"
     ]
    },
    {
     "name": "stdout",
     "output_type": "stream",
     "text": [
      "Epoch: 7/100, Val Loss: 3112.3208, Pearson R: nan, RMSE: 66.8355\n",
      "{'batch_size': 16, 'lr': 0.1, 'dropout': 0.4, 'lr_decay': 0.1, 'layers': 2, 'hidden_dim': 800}\n"
     ]
    },
    {
     "name": "stderr",
     "output_type": "stream",
     "text": [
      "/home/samsonm/miniconda3/envs/multi_modal_DL/lib/python3.10/site-packages/scipy/stats/_stats_py.py:4424: ConstantInputWarning: An input array is constant; the correlation coefficient is not defined.\n",
      "  warnings.warn(stats.ConstantInputWarning(msg))\n"
     ]
    },
    {
     "name": "stdout",
     "output_type": "stream",
     "text": [
      "Epoch: 16/100, Val Loss: 3056.5408, Pearson R: nan, RMSE: 66.4169\n",
      "{'batch_size': 16, 'lr': 0.1, 'dropout': 0.4, 'lr_decay': 0.1, 'layers': 4, 'hidden_dim': 400}\n"
     ]
    },
    {
     "name": "stderr",
     "output_type": "stream",
     "text": [
      "/home/samsonm/miniconda3/envs/multi_modal_DL/lib/python3.10/site-packages/scipy/stats/_stats_py.py:4424: ConstantInputWarning: An input array is constant; the correlation coefficient is not defined.\n",
      "  warnings.warn(stats.ConstantInputWarning(msg))\n"
     ]
    },
    {
     "name": "stdout",
     "output_type": "stream",
     "text": [
      "Epoch: 6/100, Val Loss: 3188.9304, Pearson R: nan, RMSE: 67.4062\n",
      "{'batch_size': 16, 'lr': 0.1, 'dropout': 0.4, 'lr_decay': 0.1, 'layers': 4, 'hidden_dim': 800}\n"
     ]
    },
    {
     "name": "stderr",
     "output_type": "stream",
     "text": [
      "/home/samsonm/miniconda3/envs/multi_modal_DL/lib/python3.10/site-packages/scipy/stats/_stats_py.py:4424: ConstantInputWarning: An input array is constant; the correlation coefficient is not defined.\n",
      "  warnings.warn(stats.ConstantInputWarning(msg))\n"
     ]
    },
    {
     "name": "stdout",
     "output_type": "stream",
     "text": [
      "Epoch: 23/100, Val Loss: 2709.3770, Pearson R: nan, RMSE: 63.7499\n",
      "{'batch_size': 16, 'lr': 0.1, 'dropout': 0.4, 'lr_decay': 0.01, 'layers': 2, 'hidden_dim': 400}\n"
     ]
    },
    {
     "name": "stderr",
     "output_type": "stream",
     "text": [
      "/home/samsonm/miniconda3/envs/multi_modal_DL/lib/python3.10/site-packages/scipy/stats/_stats_py.py:4424: ConstantInputWarning: An input array is constant; the correlation coefficient is not defined.\n",
      "  warnings.warn(stats.ConstantInputWarning(msg))\n"
     ]
    },
    {
     "name": "stdout",
     "output_type": "stream",
     "text": [
      "Epoch: 11/100, Val Loss: 2709.9277, Pearson R: nan, RMSE: 63.7542\n",
      "{'batch_size': 16, 'lr': 0.1, 'dropout': 0.4, 'lr_decay': 0.01, 'layers': 2, 'hidden_dim': 800}\n"
     ]
    },
    {
     "name": "stderr",
     "output_type": "stream",
     "text": [
      "/home/samsonm/miniconda3/envs/multi_modal_DL/lib/python3.10/site-packages/scipy/stats/_stats_py.py:4424: ConstantInputWarning: An input array is constant; the correlation coefficient is not defined.\n",
      "  warnings.warn(stats.ConstantInputWarning(msg))\n"
     ]
    },
    {
     "name": "stdout",
     "output_type": "stream",
     "text": [
      "Epoch: 8/100, Val Loss: 13959.0537, Pearson R: nan, RMSE: 123.7486\n",
      "{'batch_size': 16, 'lr': 0.1, 'dropout': 0.4, 'lr_decay': 0.01, 'layers': 4, 'hidden_dim': 400}\n"
     ]
    },
    {
     "name": "stderr",
     "output_type": "stream",
     "text": [
      "/home/samsonm/miniconda3/envs/multi_modal_DL/lib/python3.10/site-packages/scipy/stats/_stats_py.py:4424: ConstantInputWarning: An input array is constant; the correlation coefficient is not defined.\n",
      "  warnings.warn(stats.ConstantInputWarning(msg))\n"
     ]
    },
    {
     "name": "stdout",
     "output_type": "stream",
     "text": [
      "Epoch: 12/100, Val Loss: 2789.9766, Pearson R: nan, RMSE: 64.3789\n",
      "{'batch_size': 16, 'lr': 0.1, 'dropout': 0.4, 'lr_decay': 0.01, 'layers': 4, 'hidden_dim': 800}\n"
     ]
    },
    {
     "name": "stderr",
     "output_type": "stream",
     "text": [
      "/home/samsonm/miniconda3/envs/multi_modal_DL/lib/python3.10/site-packages/scipy/stats/_stats_py.py:4424: ConstantInputWarning: An input array is constant; the correlation coefficient is not defined.\n",
      "  warnings.warn(stats.ConstantInputWarning(msg))\n"
     ]
    },
    {
     "name": "stdout",
     "output_type": "stream",
     "text": [
      "Epoch: 13/100, Val Loss: 2781.6558, Pearson R: nan, RMSE: 64.3142\n",
      "{'batch_size': 16, 'lr': 0.1, 'dropout': 0.4, 'lr_decay': 0.001, 'layers': 2, 'hidden_dim': 400}\n"
     ]
    },
    {
     "name": "stderr",
     "output_type": "stream",
     "text": [
      "/home/samsonm/miniconda3/envs/multi_modal_DL/lib/python3.10/site-packages/scipy/stats/_stats_py.py:4424: ConstantInputWarning: An input array is constant; the correlation coefficient is not defined.\n",
      "  warnings.warn(stats.ConstantInputWarning(msg))\n"
     ]
    },
    {
     "name": "stdout",
     "output_type": "stream",
     "text": [
      "Epoch: 15/100, Val Loss: 2847.4604, Pearson R: nan, RMSE: 64.8238\n",
      "{'batch_size': 16, 'lr': 0.1, 'dropout': 0.4, 'lr_decay': 0.001, 'layers': 2, 'hidden_dim': 800}\n"
     ]
    },
    {
     "name": "stderr",
     "output_type": "stream",
     "text": [
      "/home/samsonm/miniconda3/envs/multi_modal_DL/lib/python3.10/site-packages/scipy/stats/_stats_py.py:4424: ConstantInputWarning: An input array is constant; the correlation coefficient is not defined.\n",
      "  warnings.warn(stats.ConstantInputWarning(msg))\n"
     ]
    },
    {
     "name": "stdout",
     "output_type": "stream",
     "text": [
      "Epoch: 15/100, Val Loss: 2710.0203, Pearson R: nan, RMSE: 63.7549\n",
      "{'batch_size': 16, 'lr': 0.1, 'dropout': 0.4, 'lr_decay': 0.001, 'layers': 4, 'hidden_dim': 400}\n"
     ]
    },
    {
     "name": "stderr",
     "output_type": "stream",
     "text": [
      "/home/samsonm/miniconda3/envs/multi_modal_DL/lib/python3.10/site-packages/scipy/stats/_stats_py.py:4424: ConstantInputWarning: An input array is constant; the correlation coefficient is not defined.\n",
      "  warnings.warn(stats.ConstantInputWarning(msg))\n"
     ]
    },
    {
     "name": "stdout",
     "output_type": "stream",
     "text": [
      "Epoch: 9/100, Val Loss: 2834.1003, Pearson R: nan, RMSE: 64.7207\n",
      "{'batch_size': 16, 'lr': 0.1, 'dropout': 0.4, 'lr_decay': 0.001, 'layers': 4, 'hidden_dim': 800}\n"
     ]
    },
    {
     "name": "stderr",
     "output_type": "stream",
     "text": [
      "/home/samsonm/miniconda3/envs/multi_modal_DL/lib/python3.10/site-packages/scipy/stats/_stats_py.py:4424: ConstantInputWarning: An input array is constant; the correlation coefficient is not defined.\n",
      "  warnings.warn(stats.ConstantInputWarning(msg))\n"
     ]
    },
    {
     "name": "stdout",
     "output_type": "stream",
     "text": [
      "Epoch: 6/100, Val Loss: 380714.8438, Pearson R: nan, RMSE: 618.1177\n",
      "{'batch_size': 16, 'lr': 0.1, 'dropout': 0.4, 'lr_decay': 0.0001, 'layers': 2, 'hidden_dim': 400}\n"
     ]
    },
    {
     "name": "stderr",
     "output_type": "stream",
     "text": [
      "/home/samsonm/miniconda3/envs/multi_modal_DL/lib/python3.10/site-packages/scipy/stats/_stats_py.py:4424: ConstantInputWarning: An input array is constant; the correlation coefficient is not defined.\n",
      "  warnings.warn(stats.ConstantInputWarning(msg))\n"
     ]
    },
    {
     "name": "stdout",
     "output_type": "stream",
     "text": [
      "Epoch: 7/100, Val Loss: 3128.0288, Pearson R: nan, RMSE: 66.9529\n",
      "{'batch_size': 16, 'lr': 0.1, 'dropout': 0.4, 'lr_decay': 0.0001, 'layers': 2, 'hidden_dim': 800}\n"
     ]
    },
    {
     "name": "stderr",
     "output_type": "stream",
     "text": [
      "/home/samsonm/miniconda3/envs/multi_modal_DL/lib/python3.10/site-packages/scipy/stats/_stats_py.py:4424: ConstantInputWarning: An input array is constant; the correlation coefficient is not defined.\n",
      "  warnings.warn(stats.ConstantInputWarning(msg))\n"
     ]
    },
    {
     "name": "stdout",
     "output_type": "stream",
     "text": [
      "Epoch: 9/100, Val Loss: 15992.5293, Pearson R: nan, RMSE: 131.7088\n",
      "{'batch_size': 16, 'lr': 0.1, 'dropout': 0.4, 'lr_decay': 0.0001, 'layers': 4, 'hidden_dim': 400}\n"
     ]
    },
    {
     "name": "stderr",
     "output_type": "stream",
     "text": [
      "/home/samsonm/miniconda3/envs/multi_modal_DL/lib/python3.10/site-packages/scipy/stats/_stats_py.py:4424: ConstantInputWarning: An input array is constant; the correlation coefficient is not defined.\n",
      "  warnings.warn(stats.ConstantInputWarning(msg))\n"
     ]
    },
    {
     "name": "stdout",
     "output_type": "stream",
     "text": [
      "Epoch: 9/100, Val Loss: 2757.6890, Pearson R: nan, RMSE: 64.1277\n",
      "{'batch_size': 16, 'lr': 0.1, 'dropout': 0.4, 'lr_decay': 0.0001, 'layers': 4, 'hidden_dim': 800}\n"
     ]
    },
    {
     "name": "stderr",
     "output_type": "stream",
     "text": [
      "/home/samsonm/miniconda3/envs/multi_modal_DL/lib/python3.10/site-packages/scipy/stats/_stats_py.py:4424: ConstantInputWarning: An input array is constant; the correlation coefficient is not defined.\n",
      "  warnings.warn(stats.ConstantInputWarning(msg))\n"
     ]
    },
    {
     "name": "stdout",
     "output_type": "stream",
     "text": [
      "Epoch: 11/100, Val Loss: 4757.8677, Pearson R: nan, RMSE: 78.1827\n",
      "{'batch_size': 16, 'lr': 0.1, 'dropout': 0.5, 'lr_decay': 0.1, 'layers': 2, 'hidden_dim': 400}\n"
     ]
    },
    {
     "name": "stderr",
     "output_type": "stream",
     "text": [
      "/home/samsonm/miniconda3/envs/multi_modal_DL/lib/python3.10/site-packages/scipy/stats/_stats_py.py:4424: ConstantInputWarning: An input array is constant; the correlation coefficient is not defined.\n",
      "  warnings.warn(stats.ConstantInputWarning(msg))\n"
     ]
    },
    {
     "name": "stdout",
     "output_type": "stream",
     "text": [
      "Epoch: 20/100, Val Loss: 2714.7271, Pearson R: nan, RMSE: 63.7918\n",
      "{'batch_size': 16, 'lr': 0.1, 'dropout': 0.5, 'lr_decay': 0.1, 'layers': 2, 'hidden_dim': 800}\n"
     ]
    },
    {
     "name": "stderr",
     "output_type": "stream",
     "text": [
      "/home/samsonm/miniconda3/envs/multi_modal_DL/lib/python3.10/site-packages/scipy/stats/_stats_py.py:4424: ConstantInputWarning: An input array is constant; the correlation coefficient is not defined.\n",
      "  warnings.warn(stats.ConstantInputWarning(msg))\n"
     ]
    },
    {
     "name": "stdout",
     "output_type": "stream",
     "text": [
      "Epoch: 14/100, Val Loss: 2712.7852, Pearson R: nan, RMSE: 63.7766\n",
      "{'batch_size': 16, 'lr': 0.1, 'dropout': 0.5, 'lr_decay': 0.1, 'layers': 4, 'hidden_dim': 400}\n"
     ]
    },
    {
     "name": "stderr",
     "output_type": "stream",
     "text": [
      "/home/samsonm/miniconda3/envs/multi_modal_DL/lib/python3.10/site-packages/scipy/stats/_stats_py.py:4424: ConstantInputWarning: An input array is constant; the correlation coefficient is not defined.\n",
      "  warnings.warn(stats.ConstantInputWarning(msg))\n"
     ]
    },
    {
     "name": "stdout",
     "output_type": "stream",
     "text": [
      "Epoch: 16/100, Val Loss: 2732.4102, Pearson R: nan, RMSE: 63.9303\n",
      "{'batch_size': 16, 'lr': 0.1, 'dropout': 0.5, 'lr_decay': 0.1, 'layers': 4, 'hidden_dim': 800}\n"
     ]
    },
    {
     "name": "stderr",
     "output_type": "stream",
     "text": [
      "/home/samsonm/miniconda3/envs/multi_modal_DL/lib/python3.10/site-packages/scipy/stats/_stats_py.py:4424: ConstantInputWarning: An input array is constant; the correlation coefficient is not defined.\n",
      "  warnings.warn(stats.ConstantInputWarning(msg))\n"
     ]
    },
    {
     "name": "stdout",
     "output_type": "stream",
     "text": [
      "Epoch: 31/100, Val Loss: 2731.5732, Pearson R: nan, RMSE: 63.9237\n",
      "{'batch_size': 16, 'lr': 0.1, 'dropout': 0.5, 'lr_decay': 0.01, 'layers': 2, 'hidden_dim': 400}\n"
     ]
    },
    {
     "name": "stderr",
     "output_type": "stream",
     "text": [
      "/home/samsonm/miniconda3/envs/multi_modal_DL/lib/python3.10/site-packages/scipy/stats/_stats_py.py:4424: ConstantInputWarning: An input array is constant; the correlation coefficient is not defined.\n",
      "  warnings.warn(stats.ConstantInputWarning(msg))\n"
     ]
    },
    {
     "name": "stdout",
     "output_type": "stream",
     "text": [
      "Epoch: 7/100, Val Loss: 2745.4668, Pearson R: nan, RMSE: 64.0323\n",
      "{'batch_size': 16, 'lr': 0.1, 'dropout': 0.5, 'lr_decay': 0.01, 'layers': 2, 'hidden_dim': 800}\n"
     ]
    },
    {
     "name": "stderr",
     "output_type": "stream",
     "text": [
      "/home/samsonm/miniconda3/envs/multi_modal_DL/lib/python3.10/site-packages/scipy/stats/_stats_py.py:4424: ConstantInputWarning: An input array is constant; the correlation coefficient is not defined.\n",
      "  warnings.warn(stats.ConstantInputWarning(msg))\n"
     ]
    },
    {
     "name": "stdout",
     "output_type": "stream",
     "text": [
      "Epoch: 35/100, Val Loss: 2709.8879, Pearson R: nan, RMSE: 63.7539\n",
      "{'batch_size': 16, 'lr': 0.1, 'dropout': 0.5, 'lr_decay': 0.01, 'layers': 4, 'hidden_dim': 400}\n"
     ]
    },
    {
     "name": "stderr",
     "output_type": "stream",
     "text": [
      "/home/samsonm/miniconda3/envs/multi_modal_DL/lib/python3.10/site-packages/scipy/stats/_stats_py.py:4424: ConstantInputWarning: An input array is constant; the correlation coefficient is not defined.\n",
      "  warnings.warn(stats.ConstantInputWarning(msg))\n"
     ]
    },
    {
     "name": "stdout",
     "output_type": "stream",
     "text": [
      "Epoch: 8/100, Val Loss: 2710.2222, Pearson R: nan, RMSE: 63.7565\n",
      "{'batch_size': 16, 'lr': 0.1, 'dropout': 0.5, 'lr_decay': 0.01, 'layers': 4, 'hidden_dim': 800}\n"
     ]
    },
    {
     "name": "stderr",
     "output_type": "stream",
     "text": [
      "/home/samsonm/miniconda3/envs/multi_modal_DL/lib/python3.10/site-packages/scipy/stats/_stats_py.py:4424: ConstantInputWarning: An input array is constant; the correlation coefficient is not defined.\n",
      "  warnings.warn(stats.ConstantInputWarning(msg))\n"
     ]
    },
    {
     "name": "stdout",
     "output_type": "stream",
     "text": [
      "Epoch: 6/100, Val Loss: 3383.7676, Pearson R: nan, RMSE: 68.8363\n",
      "{'batch_size': 16, 'lr': 0.1, 'dropout': 0.5, 'lr_decay': 0.001, 'layers': 2, 'hidden_dim': 400}\n"
     ]
    },
    {
     "name": "stderr",
     "output_type": "stream",
     "text": [
      "/home/samsonm/miniconda3/envs/multi_modal_DL/lib/python3.10/site-packages/scipy/stats/_stats_py.py:4424: ConstantInputWarning: An input array is constant; the correlation coefficient is not defined.\n",
      "  warnings.warn(stats.ConstantInputWarning(msg))\n"
     ]
    },
    {
     "name": "stdout",
     "output_type": "stream",
     "text": [
      "Epoch: 13/100, Val Loss: 3116.6980, Pearson R: nan, RMSE: 66.8683\n",
      "{'batch_size': 16, 'lr': 0.1, 'dropout': 0.5, 'lr_decay': 0.001, 'layers': 2, 'hidden_dim': 800}\n"
     ]
    },
    {
     "name": "stderr",
     "output_type": "stream",
     "text": [
      "/home/samsonm/miniconda3/envs/multi_modal_DL/lib/python3.10/site-packages/scipy/stats/_stats_py.py:4424: ConstantInputWarning: An input array is constant; the correlation coefficient is not defined.\n",
      "  warnings.warn(stats.ConstantInputWarning(msg))\n"
     ]
    },
    {
     "name": "stdout",
     "output_type": "stream",
     "text": [
      "Epoch: 14/100, Val Loss: 5400.1875, Pearson R: nan, RMSE: 82.1879\n",
      "{'batch_size': 16, 'lr': 0.1, 'dropout': 0.5, 'lr_decay': 0.001, 'layers': 4, 'hidden_dim': 400}\n"
     ]
    },
    {
     "name": "stderr",
     "output_type": "stream",
     "text": [
      "/home/samsonm/miniconda3/envs/multi_modal_DL/lib/python3.10/site-packages/scipy/stats/_stats_py.py:4424: ConstantInputWarning: An input array is constant; the correlation coefficient is not defined.\n",
      "  warnings.warn(stats.ConstantInputWarning(msg))\n"
     ]
    },
    {
     "name": "stdout",
     "output_type": "stream",
     "text": [
      "Epoch: 10/100, Val Loss: 3078.2500, Pearson R: nan, RMSE: 66.5802\n",
      "{'batch_size': 16, 'lr': 0.1, 'dropout': 0.5, 'lr_decay': 0.001, 'layers': 4, 'hidden_dim': 800}\n"
     ]
    },
    {
     "name": "stderr",
     "output_type": "stream",
     "text": [
      "/home/samsonm/miniconda3/envs/multi_modal_DL/lib/python3.10/site-packages/scipy/stats/_stats_py.py:4424: ConstantInputWarning: An input array is constant; the correlation coefficient is not defined.\n",
      "  warnings.warn(stats.ConstantInputWarning(msg))\n"
     ]
    },
    {
     "name": "stdout",
     "output_type": "stream",
     "text": [
      "Epoch: 13/100, Val Loss: 4508.8477, Pearson R: nan, RMSE: 76.5736\n",
      "{'batch_size': 16, 'lr': 0.1, 'dropout': 0.5, 'lr_decay': 0.0001, 'layers': 2, 'hidden_dim': 400}\n"
     ]
    },
    {
     "name": "stderr",
     "output_type": "stream",
     "text": [
      "/home/samsonm/miniconda3/envs/multi_modal_DL/lib/python3.10/site-packages/scipy/stats/_stats_py.py:4424: ConstantInputWarning: An input array is constant; the correlation coefficient is not defined.\n",
      "  warnings.warn(stats.ConstantInputWarning(msg))\n"
     ]
    },
    {
     "name": "stdout",
     "output_type": "stream",
     "text": [
      "Epoch: 9/100, Val Loss: 5792.7397, Pearson R: nan, RMSE: 84.5423\n",
      "{'batch_size': 16, 'lr': 0.1, 'dropout': 0.5, 'lr_decay': 0.0001, 'layers': 2, 'hidden_dim': 800}\n"
     ]
    },
    {
     "name": "stderr",
     "output_type": "stream",
     "text": [
      "/home/samsonm/miniconda3/envs/multi_modal_DL/lib/python3.10/site-packages/scipy/stats/_stats_py.py:4424: ConstantInputWarning: An input array is constant; the correlation coefficient is not defined.\n",
      "  warnings.warn(stats.ConstantInputWarning(msg))\n"
     ]
    },
    {
     "name": "stdout",
     "output_type": "stream",
     "text": [
      "Epoch: 10/100, Val Loss: 4278.0498, Pearson R: nan, RMSE: 75.0514\n",
      "{'batch_size': 16, 'lr': 0.1, 'dropout': 0.5, 'lr_decay': 0.0001, 'layers': 4, 'hidden_dim': 400}\n"
     ]
    },
    {
     "name": "stderr",
     "output_type": "stream",
     "text": [
      "/home/samsonm/miniconda3/envs/multi_modal_DL/lib/python3.10/site-packages/scipy/stats/_stats_py.py:4424: ConstantInputWarning: An input array is constant; the correlation coefficient is not defined.\n",
      "  warnings.warn(stats.ConstantInputWarning(msg))\n"
     ]
    },
    {
     "name": "stdout",
     "output_type": "stream",
     "text": [
      "Epoch: 16/100, Val Loss: 2777.9741, Pearson R: nan, RMSE: 64.2856\n",
      "{'batch_size': 16, 'lr': 0.1, 'dropout': 0.5, 'lr_decay': 0.0001, 'layers': 4, 'hidden_dim': 800}\n"
     ]
    },
    {
     "name": "stderr",
     "output_type": "stream",
     "text": [
      "/home/samsonm/miniconda3/envs/multi_modal_DL/lib/python3.10/site-packages/scipy/stats/_stats_py.py:4424: ConstantInputWarning: An input array is constant; the correlation coefficient is not defined.\n",
      "  warnings.warn(stats.ConstantInputWarning(msg))\n"
     ]
    },
    {
     "name": "stdout",
     "output_type": "stream",
     "text": [
      "Epoch: 10/100, Val Loss: 3554.7188, Pearson R: nan, RMSE: 70.0670\n",
      "{'batch_size': 16, 'lr': 0.01, 'dropout': 0.1, 'lr_decay': 0.1, 'layers': 2, 'hidden_dim': 400}\n"
     ]
    },
    {
     "name": "stderr",
     "output_type": "stream",
     "text": [
      "/home/samsonm/miniconda3/envs/multi_modal_DL/lib/python3.10/site-packages/scipy/stats/_stats_py.py:4424: ConstantInputWarning: An input array is constant; the correlation coefficient is not defined.\n",
      "  warnings.warn(stats.ConstantInputWarning(msg))\n"
     ]
    },
    {
     "name": "stdout",
     "output_type": "stream",
     "text": [
      "Epoch: 8/100, Val Loss: 2738.1011, Pearson R: nan, RMSE: 63.9747\n",
      "{'batch_size': 16, 'lr': 0.01, 'dropout': 0.1, 'lr_decay': 0.1, 'layers': 2, 'hidden_dim': 800}\n"
     ]
    },
    {
     "name": "stderr",
     "output_type": "stream",
     "text": [
      "/home/samsonm/miniconda3/envs/multi_modal_DL/lib/python3.10/site-packages/scipy/stats/_stats_py.py:4424: ConstantInputWarning: An input array is constant; the correlation coefficient is not defined.\n",
      "  warnings.warn(stats.ConstantInputWarning(msg))\n"
     ]
    },
    {
     "name": "stdout",
     "output_type": "stream",
     "text": [
      "Epoch: 6/100, Val Loss: 24859.3984, Pearson R: nan, RMSE: 161.9076\n",
      "{'batch_size': 16, 'lr': 0.01, 'dropout': 0.1, 'lr_decay': 0.1, 'layers': 4, 'hidden_dim': 400}\n"
     ]
    },
    {
     "name": "stderr",
     "output_type": "stream",
     "text": [
      "/home/samsonm/miniconda3/envs/multi_modal_DL/lib/python3.10/site-packages/scipy/stats/_stats_py.py:4424: ConstantInputWarning: An input array is constant; the correlation coefficient is not defined.\n",
      "  warnings.warn(stats.ConstantInputWarning(msg))\n"
     ]
    },
    {
     "name": "stdout",
     "output_type": "stream",
     "text": [
      "Epoch: 10/100, Val Loss: 3395.1758, Pearson R: nan, RMSE: 68.9191\n",
      "{'batch_size': 16, 'lr': 0.01, 'dropout': 0.1, 'lr_decay': 0.1, 'layers': 4, 'hidden_dim': 800}\n"
     ]
    },
    {
     "name": "stderr",
     "output_type": "stream",
     "text": [
      "/home/samsonm/miniconda3/envs/multi_modal_DL/lib/python3.10/site-packages/scipy/stats/_stats_py.py:4424: ConstantInputWarning: An input array is constant; the correlation coefficient is not defined.\n",
      "  warnings.warn(stats.ConstantInputWarning(msg))\n"
     ]
    },
    {
     "name": "stdout",
     "output_type": "stream",
     "text": [
      "Epoch: 22/100, Val Loss: 2753.0837, Pearson R: nan, RMSE: 64.0917\n",
      "{'batch_size': 16, 'lr': 0.01, 'dropout': 0.1, 'lr_decay': 0.01, 'layers': 2, 'hidden_dim': 400}\n"
     ]
    },
    {
     "name": "stderr",
     "output_type": "stream",
     "text": [
      "/home/samsonm/miniconda3/envs/multi_modal_DL/lib/python3.10/site-packages/scipy/stats/_stats_py.py:4424: ConstantInputWarning: An input array is constant; the correlation coefficient is not defined.\n",
      "  warnings.warn(stats.ConstantInputWarning(msg))\n"
     ]
    },
    {
     "name": "stdout",
     "output_type": "stream",
     "text": [
      "Epoch: 7/100, Val Loss: 3295.1665, Pearson R: nan, RMSE: 68.1897\n",
      "{'batch_size': 16, 'lr': 0.01, 'dropout': 0.1, 'lr_decay': 0.01, 'layers': 2, 'hidden_dim': 800}\n"
     ]
    },
    {
     "name": "stderr",
     "output_type": "stream",
     "text": [
      "/home/samsonm/miniconda3/envs/multi_modal_DL/lib/python3.10/site-packages/scipy/stats/_stats_py.py:4424: ConstantInputWarning: An input array is constant; the correlation coefficient is not defined.\n",
      "  warnings.warn(stats.ConstantInputWarning(msg))\n"
     ]
    },
    {
     "name": "stdout",
     "output_type": "stream",
     "text": [
      "Epoch: 7/100, Val Loss: 3294.5801, Pearson R: nan, RMSE: 68.1854\n",
      "{'batch_size': 16, 'lr': 0.01, 'dropout': 0.1, 'lr_decay': 0.01, 'layers': 4, 'hidden_dim': 400}\n"
     ]
    },
    {
     "name": "stderr",
     "output_type": "stream",
     "text": [
      "/home/samsonm/miniconda3/envs/multi_modal_DL/lib/python3.10/site-packages/scipy/stats/_stats_py.py:4424: ConstantInputWarning: An input array is constant; the correlation coefficient is not defined.\n",
      "  warnings.warn(stats.ConstantInputWarning(msg))\n"
     ]
    },
    {
     "name": "stdout",
     "output_type": "stream",
     "text": [
      "Epoch: 11/100, Val Loss: 3222.0894, Pearson R: nan, RMSE: 67.6517\n",
      "{'batch_size': 16, 'lr': 0.01, 'dropout': 0.1, 'lr_decay': 0.01, 'layers': 4, 'hidden_dim': 800}\n"
     ]
    },
    {
     "name": "stderr",
     "output_type": "stream",
     "text": [
      "/home/samsonm/miniconda3/envs/multi_modal_DL/lib/python3.10/site-packages/scipy/stats/_stats_py.py:4424: ConstantInputWarning: An input array is constant; the correlation coefficient is not defined.\n",
      "  warnings.warn(stats.ConstantInputWarning(msg))\n"
     ]
    },
    {
     "name": "stdout",
     "output_type": "stream",
     "text": [
      "Epoch: 9/100, Val Loss: 3352.6836, Pearson R: nan, RMSE: 68.6101\n",
      "{'batch_size': 16, 'lr': 0.01, 'dropout': 0.1, 'lr_decay': 0.001, 'layers': 2, 'hidden_dim': 400}\n"
     ]
    },
    {
     "name": "stderr",
     "output_type": "stream",
     "text": [
      "/home/samsonm/miniconda3/envs/multi_modal_DL/lib/python3.10/site-packages/scipy/stats/_stats_py.py:4424: ConstantInputWarning: An input array is constant; the correlation coefficient is not defined.\n",
      "  warnings.warn(stats.ConstantInputWarning(msg))\n"
     ]
    },
    {
     "name": "stdout",
     "output_type": "stream",
     "text": [
      "Epoch: 8/100, Val Loss: 2723.7036, Pearson R: nan, RMSE: 63.8621\n",
      "{'batch_size': 16, 'lr': 0.01, 'dropout': 0.1, 'lr_decay': 0.001, 'layers': 2, 'hidden_dim': 800}\n"
     ]
    },
    {
     "name": "stderr",
     "output_type": "stream",
     "text": [
      "/home/samsonm/miniconda3/envs/multi_modal_DL/lib/python3.10/site-packages/scipy/stats/_stats_py.py:4424: ConstantInputWarning: An input array is constant; the correlation coefficient is not defined.\n",
      "  warnings.warn(stats.ConstantInputWarning(msg))\n"
     ]
    },
    {
     "name": "stdout",
     "output_type": "stream",
     "text": [
      "Epoch: 8/100, Val Loss: 2913.4087, Pearson R: nan, RMSE: 65.3305\n",
      "{'batch_size': 16, 'lr': 0.01, 'dropout': 0.1, 'lr_decay': 0.001, 'layers': 4, 'hidden_dim': 400}\n"
     ]
    },
    {
     "name": "stderr",
     "output_type": "stream",
     "text": [
      "/home/samsonm/miniconda3/envs/multi_modal_DL/lib/python3.10/site-packages/scipy/stats/_stats_py.py:4424: ConstantInputWarning: An input array is constant; the correlation coefficient is not defined.\n",
      "  warnings.warn(stats.ConstantInputWarning(msg))\n"
     ]
    },
    {
     "name": "stdout",
     "output_type": "stream",
     "text": [
      "Epoch: 11/100, Val Loss: 3050.3503, Pearson R: nan, RMSE: 66.3703\n",
      "{'batch_size': 16, 'lr': 0.01, 'dropout': 0.1, 'lr_decay': 0.001, 'layers': 4, 'hidden_dim': 800}\n"
     ]
    },
    {
     "name": "stderr",
     "output_type": "stream",
     "text": [
      "/home/samsonm/miniconda3/envs/multi_modal_DL/lib/python3.10/site-packages/scipy/stats/_stats_py.py:4424: ConstantInputWarning: An input array is constant; the correlation coefficient is not defined.\n",
      "  warnings.warn(stats.ConstantInputWarning(msg))\n"
     ]
    },
    {
     "name": "stdout",
     "output_type": "stream",
     "text": [
      "Epoch: 12/100, Val Loss: 2996.8865, Pearson R: nan, RMSE: 65.9663\n",
      "{'batch_size': 16, 'lr': 0.01, 'dropout': 0.1, 'lr_decay': 0.0001, 'layers': 2, 'hidden_dim': 400}\n"
     ]
    },
    {
     "name": "stderr",
     "output_type": "stream",
     "text": [
      "/home/samsonm/miniconda3/envs/multi_modal_DL/lib/python3.10/site-packages/scipy/stats/_stats_py.py:4424: ConstantInputWarning: An input array is constant; the correlation coefficient is not defined.\n",
      "  warnings.warn(stats.ConstantInputWarning(msg))\n"
     ]
    },
    {
     "name": "stdout",
     "output_type": "stream",
     "text": [
      "Epoch: 18/100, Val Loss: 2955.3184, Pearson R: nan, RMSE: 65.6505\n",
      "{'batch_size': 16, 'lr': 0.01, 'dropout': 0.1, 'lr_decay': 0.0001, 'layers': 2, 'hidden_dim': 800}\n"
     ]
    },
    {
     "name": "stderr",
     "output_type": "stream",
     "text": [
      "/home/samsonm/miniconda3/envs/multi_modal_DL/lib/python3.10/site-packages/scipy/stats/_stats_py.py:4424: ConstantInputWarning: An input array is constant; the correlation coefficient is not defined.\n",
      "  warnings.warn(stats.ConstantInputWarning(msg))\n"
     ]
    },
    {
     "name": "stdout",
     "output_type": "stream",
     "text": [
      "Epoch: 10/100, Val Loss: 2711.9084, Pearson R: nan, RMSE: 63.7697\n",
      "{'batch_size': 16, 'lr': 0.01, 'dropout': 0.1, 'lr_decay': 0.0001, 'layers': 4, 'hidden_dim': 400}\n"
     ]
    },
    {
     "name": "stderr",
     "output_type": "stream",
     "text": [
      "/home/samsonm/miniconda3/envs/multi_modal_DL/lib/python3.10/site-packages/scipy/stats/_stats_py.py:4424: ConstantInputWarning: An input array is constant; the correlation coefficient is not defined.\n",
      "  warnings.warn(stats.ConstantInputWarning(msg))\n"
     ]
    },
    {
     "name": "stdout",
     "output_type": "stream",
     "text": [
      "Epoch: 14/100, Val Loss: 2711.3970, Pearson R: nan, RMSE: 63.7657\n",
      "{'batch_size': 16, 'lr': 0.01, 'dropout': 0.1, 'lr_decay': 0.0001, 'layers': 4, 'hidden_dim': 800}\n"
     ]
    },
    {
     "name": "stderr",
     "output_type": "stream",
     "text": [
      "/home/samsonm/miniconda3/envs/multi_modal_DL/lib/python3.10/site-packages/scipy/stats/_stats_py.py:4424: ConstantInputWarning: An input array is constant; the correlation coefficient is not defined.\n",
      "  warnings.warn(stats.ConstantInputWarning(msg))\n"
     ]
    },
    {
     "name": "stdout",
     "output_type": "stream",
     "text": [
      "Epoch: 14/100, Val Loss: 3548.9141, Pearson R: nan, RMSE: 70.0256\n",
      "{'batch_size': 16, 'lr': 0.01, 'dropout': 0.2, 'lr_decay': 0.1, 'layers': 2, 'hidden_dim': 400}\n"
     ]
    },
    {
     "name": "stderr",
     "output_type": "stream",
     "text": [
      "/home/samsonm/miniconda3/envs/multi_modal_DL/lib/python3.10/site-packages/scipy/stats/_stats_py.py:4424: ConstantInputWarning: An input array is constant; the correlation coefficient is not defined.\n",
      "  warnings.warn(stats.ConstantInputWarning(msg))\n"
     ]
    },
    {
     "name": "stdout",
     "output_type": "stream",
     "text": [
      "Epoch: 11/100, Val Loss: 5101.6470, Pearson R: nan, RMSE: 80.3512\n",
      "{'batch_size': 16, 'lr': 0.01, 'dropout': 0.2, 'lr_decay': 0.1, 'layers': 2, 'hidden_dim': 800}\n"
     ]
    },
    {
     "name": "stderr",
     "output_type": "stream",
     "text": [
      "/home/samsonm/miniconda3/envs/multi_modal_DL/lib/python3.10/site-packages/scipy/stats/_stats_py.py:4424: ConstantInputWarning: An input array is constant; the correlation coefficient is not defined.\n",
      "  warnings.warn(stats.ConstantInputWarning(msg))\n"
     ]
    },
    {
     "name": "stdout",
     "output_type": "stream",
     "text": [
      "Epoch: 8/100, Val Loss: 2737.4683, Pearson R: nan, RMSE: 63.9698\n",
      "{'batch_size': 16, 'lr': 0.01, 'dropout': 0.2, 'lr_decay': 0.1, 'layers': 4, 'hidden_dim': 400}\n"
     ]
    },
    {
     "name": "stderr",
     "output_type": "stream",
     "text": [
      "/home/samsonm/miniconda3/envs/multi_modal_DL/lib/python3.10/site-packages/scipy/stats/_stats_py.py:4424: ConstantInputWarning: An input array is constant; the correlation coefficient is not defined.\n",
      "  warnings.warn(stats.ConstantInputWarning(msg))\n"
     ]
    },
    {
     "name": "stdout",
     "output_type": "stream",
     "text": [
      "Epoch: 16/100, Val Loss: 2715.6755, Pearson R: nan, RMSE: 63.7992\n",
      "{'batch_size': 16, 'lr': 0.01, 'dropout': 0.2, 'lr_decay': 0.1, 'layers': 4, 'hidden_dim': 800}\n"
     ]
    },
    {
     "name": "stderr",
     "output_type": "stream",
     "text": [
      "/home/samsonm/miniconda3/envs/multi_modal_DL/lib/python3.10/site-packages/scipy/stats/_stats_py.py:4424: ConstantInputWarning: An input array is constant; the correlation coefficient is not defined.\n",
      "  warnings.warn(stats.ConstantInputWarning(msg))\n"
     ]
    },
    {
     "name": "stdout",
     "output_type": "stream",
     "text": [
      "Epoch: 13/100, Val Loss: 2717.0913, Pearson R: nan, RMSE: 63.8103\n",
      "{'batch_size': 16, 'lr': 0.01, 'dropout': 0.2, 'lr_decay': 0.01, 'layers': 2, 'hidden_dim': 400}\n"
     ]
    },
    {
     "name": "stderr",
     "output_type": "stream",
     "text": [
      "/home/samsonm/miniconda3/envs/multi_modal_DL/lib/python3.10/site-packages/scipy/stats/_stats_py.py:4424: ConstantInputWarning: An input array is constant; the correlation coefficient is not defined.\n",
      "  warnings.warn(stats.ConstantInputWarning(msg))\n"
     ]
    },
    {
     "name": "stdout",
     "output_type": "stream",
     "text": [
      "Epoch: 10/100, Val Loss: 2710.3418, Pearson R: nan, RMSE: 63.7574\n",
      "{'batch_size': 16, 'lr': 0.01, 'dropout': 0.2, 'lr_decay': 0.01, 'layers': 2, 'hidden_dim': 800}\n"
     ]
    },
    {
     "name": "stderr",
     "output_type": "stream",
     "text": [
      "/home/samsonm/miniconda3/envs/multi_modal_DL/lib/python3.10/site-packages/scipy/stats/_stats_py.py:4424: ConstantInputWarning: An input array is constant; the correlation coefficient is not defined.\n",
      "  warnings.warn(stats.ConstantInputWarning(msg))\n"
     ]
    },
    {
     "name": "stdout",
     "output_type": "stream",
     "text": [
      "Epoch: 10/100, Val Loss: 3612.4668, Pearson R: nan, RMSE: 70.4779\n",
      "{'batch_size': 16, 'lr': 0.01, 'dropout': 0.2, 'lr_decay': 0.01, 'layers': 4, 'hidden_dim': 400}\n"
     ]
    },
    {
     "name": "stderr",
     "output_type": "stream",
     "text": [
      "/home/samsonm/miniconda3/envs/multi_modal_DL/lib/python3.10/site-packages/scipy/stats/_stats_py.py:4424: ConstantInputWarning: An input array is constant; the correlation coefficient is not defined.\n",
      "  warnings.warn(stats.ConstantInputWarning(msg))\n"
     ]
    },
    {
     "name": "stdout",
     "output_type": "stream",
     "text": [
      "Epoch: 10/100, Val Loss: 2778.0591, Pearson R: nan, RMSE: 64.2863\n",
      "{'batch_size': 16, 'lr': 0.01, 'dropout': 0.2, 'lr_decay': 0.01, 'layers': 4, 'hidden_dim': 800}\n"
     ]
    },
    {
     "name": "stderr",
     "output_type": "stream",
     "text": [
      "/home/samsonm/miniconda3/envs/multi_modal_DL/lib/python3.10/site-packages/scipy/stats/_stats_py.py:4424: ConstantInputWarning: An input array is constant; the correlation coefficient is not defined.\n",
      "  warnings.warn(stats.ConstantInputWarning(msg))\n"
     ]
    },
    {
     "name": "stdout",
     "output_type": "stream",
     "text": [
      "Epoch: 14/100, Val Loss: 2710.3501, Pearson R: nan, RMSE: 63.7575\n",
      "{'batch_size': 16, 'lr': 0.01, 'dropout': 0.2, 'lr_decay': 0.001, 'layers': 2, 'hidden_dim': 400}\n"
     ]
    },
    {
     "name": "stderr",
     "output_type": "stream",
     "text": [
      "/home/samsonm/miniconda3/envs/multi_modal_DL/lib/python3.10/site-packages/scipy/stats/_stats_py.py:4424: ConstantInputWarning: An input array is constant; the correlation coefficient is not defined.\n",
      "  warnings.warn(stats.ConstantInputWarning(msg))\n"
     ]
    },
    {
     "name": "stdout",
     "output_type": "stream",
     "text": [
      "Epoch: 9/100, Val Loss: 4142.0869, Pearson R: nan, RMSE: 74.1401\n",
      "{'batch_size': 16, 'lr': 0.01, 'dropout': 0.2, 'lr_decay': 0.001, 'layers': 2, 'hidden_dim': 800}\n"
     ]
    },
    {
     "name": "stderr",
     "output_type": "stream",
     "text": [
      "/home/samsonm/miniconda3/envs/multi_modal_DL/lib/python3.10/site-packages/scipy/stats/_stats_py.py:4424: ConstantInputWarning: An input array is constant; the correlation coefficient is not defined.\n",
      "  warnings.warn(stats.ConstantInputWarning(msg))\n"
     ]
    },
    {
     "name": "stdout",
     "output_type": "stream",
     "text": [
      "Epoch: 13/100, Val Loss: 2891.0437, Pearson R: nan, RMSE: 65.1591\n",
      "{'batch_size': 16, 'lr': 0.01, 'dropout': 0.2, 'lr_decay': 0.001, 'layers': 4, 'hidden_dim': 400}\n"
     ]
    },
    {
     "name": "stderr",
     "output_type": "stream",
     "text": [
      "/home/samsonm/miniconda3/envs/multi_modal_DL/lib/python3.10/site-packages/scipy/stats/_stats_py.py:4424: ConstantInputWarning: An input array is constant; the correlation coefficient is not defined.\n",
      "  warnings.warn(stats.ConstantInputWarning(msg))\n"
     ]
    },
    {
     "name": "stdout",
     "output_type": "stream",
     "text": [
      "Epoch: 11/100, Val Loss: 2871.1929, Pearson R: nan, RMSE: 65.0066\n",
      "{'batch_size': 16, 'lr': 0.01, 'dropout': 0.2, 'lr_decay': 0.001, 'layers': 4, 'hidden_dim': 800}\n"
     ]
    },
    {
     "name": "stderr",
     "output_type": "stream",
     "text": [
      "/home/samsonm/miniconda3/envs/multi_modal_DL/lib/python3.10/site-packages/scipy/stats/_stats_py.py:4424: ConstantInputWarning: An input array is constant; the correlation coefficient is not defined.\n",
      "  warnings.warn(stats.ConstantInputWarning(msg))\n"
     ]
    },
    {
     "name": "stdout",
     "output_type": "stream",
     "text": [
      "Epoch: 10/100, Val Loss: 2717.6519, Pearson R: nan, RMSE: 63.8147\n",
      "{'batch_size': 16, 'lr': 0.01, 'dropout': 0.2, 'lr_decay': 0.0001, 'layers': 2, 'hidden_dim': 400}\n"
     ]
    },
    {
     "name": "stderr",
     "output_type": "stream",
     "text": [
      "/home/samsonm/miniconda3/envs/multi_modal_DL/lib/python3.10/site-packages/scipy/stats/_stats_py.py:4424: ConstantInputWarning: An input array is constant; the correlation coefficient is not defined.\n",
      "  warnings.warn(stats.ConstantInputWarning(msg))\n"
     ]
    },
    {
     "name": "stdout",
     "output_type": "stream",
     "text": [
      "Epoch: 7/100, Val Loss: 2719.2463, Pearson R: nan, RMSE: 63.8272\n",
      "{'batch_size': 16, 'lr': 0.01, 'dropout': 0.2, 'lr_decay': 0.0001, 'layers': 2, 'hidden_dim': 800}\n"
     ]
    },
    {
     "name": "stderr",
     "output_type": "stream",
     "text": [
      "/home/samsonm/miniconda3/envs/multi_modal_DL/lib/python3.10/site-packages/scipy/stats/_stats_py.py:4424: ConstantInputWarning: An input array is constant; the correlation coefficient is not defined.\n",
      "  warnings.warn(stats.ConstantInputWarning(msg))\n"
     ]
    },
    {
     "name": "stdout",
     "output_type": "stream",
     "text": [
      "Epoch: 11/100, Val Loss: 2715.1997, Pearson R: nan, RMSE: 63.7955\n",
      "{'batch_size': 16, 'lr': 0.01, 'dropout': 0.2, 'lr_decay': 0.0001, 'layers': 4, 'hidden_dim': 400}\n"
     ]
    },
    {
     "name": "stderr",
     "output_type": "stream",
     "text": [
      "/home/samsonm/miniconda3/envs/multi_modal_DL/lib/python3.10/site-packages/scipy/stats/_stats_py.py:4424: ConstantInputWarning: An input array is constant; the correlation coefficient is not defined.\n",
      "  warnings.warn(stats.ConstantInputWarning(msg))\n"
     ]
    },
    {
     "name": "stdout",
     "output_type": "stream",
     "text": [
      "Epoch: 18/100, Val Loss: 2750.6433, Pearson R: nan, RMSE: 64.0727\n",
      "{'batch_size': 16, 'lr': 0.01, 'dropout': 0.2, 'lr_decay': 0.0001, 'layers': 4, 'hidden_dim': 800}\n"
     ]
    },
    {
     "name": "stderr",
     "output_type": "stream",
     "text": [
      "/home/samsonm/miniconda3/envs/multi_modal_DL/lib/python3.10/site-packages/scipy/stats/_stats_py.py:4424: ConstantInputWarning: An input array is constant; the correlation coefficient is not defined.\n",
      "  warnings.warn(stats.ConstantInputWarning(msg))\n"
     ]
    },
    {
     "name": "stdout",
     "output_type": "stream",
     "text": [
      "Epoch: 23/100, Val Loss: 2712.1121, Pearson R: nan, RMSE: 63.7713\n",
      "{'batch_size': 16, 'lr': 0.01, 'dropout': 0.3, 'lr_decay': 0.1, 'layers': 2, 'hidden_dim': 400}\n"
     ]
    },
    {
     "name": "stderr",
     "output_type": "stream",
     "text": [
      "/home/samsonm/miniconda3/envs/multi_modal_DL/lib/python3.10/site-packages/scipy/stats/_stats_py.py:4424: ConstantInputWarning: An input array is constant; the correlation coefficient is not defined.\n",
      "  warnings.warn(stats.ConstantInputWarning(msg))\n"
     ]
    },
    {
     "name": "stdout",
     "output_type": "stream",
     "text": [
      "Epoch: 14/100, Val Loss: 4490.5186, Pearson R: nan, RMSE: 76.4538\n",
      "{'batch_size': 16, 'lr': 0.01, 'dropout': 0.3, 'lr_decay': 0.1, 'layers': 2, 'hidden_dim': 800}\n"
     ]
    },
    {
     "name": "stderr",
     "output_type": "stream",
     "text": [
      "/home/samsonm/miniconda3/envs/multi_modal_DL/lib/python3.10/site-packages/scipy/stats/_stats_py.py:4424: ConstantInputWarning: An input array is constant; the correlation coefficient is not defined.\n",
      "  warnings.warn(stats.ConstantInputWarning(msg))\n"
     ]
    },
    {
     "name": "stdout",
     "output_type": "stream",
     "text": [
      "Epoch: 7/100, Val Loss: 5367.2339, Pearson R: nan, RMSE: 81.9872\n",
      "{'batch_size': 16, 'lr': 0.01, 'dropout': 0.3, 'lr_decay': 0.1, 'layers': 4, 'hidden_dim': 400}\n"
     ]
    },
    {
     "name": "stderr",
     "output_type": "stream",
     "text": [
      "/home/samsonm/miniconda3/envs/multi_modal_DL/lib/python3.10/site-packages/scipy/stats/_stats_py.py:4424: ConstantInputWarning: An input array is constant; the correlation coefficient is not defined.\n",
      "  warnings.warn(stats.ConstantInputWarning(msg))\n"
     ]
    },
    {
     "name": "stdout",
     "output_type": "stream",
     "text": [
      "Epoch: 17/100, Val Loss: 2859.3406, Pearson R: nan, RMSE: 64.9154\n",
      "{'batch_size': 16, 'lr': 0.01, 'dropout': 0.3, 'lr_decay': 0.1, 'layers': 4, 'hidden_dim': 800}\n"
     ]
    },
    {
     "name": "stderr",
     "output_type": "stream",
     "text": [
      "/home/samsonm/miniconda3/envs/multi_modal_DL/lib/python3.10/site-packages/scipy/stats/_stats_py.py:4424: ConstantInputWarning: An input array is constant; the correlation coefficient is not defined.\n",
      "  warnings.warn(stats.ConstantInputWarning(msg))\n"
     ]
    },
    {
     "name": "stdout",
     "output_type": "stream",
     "text": [
      "Epoch: 20/100, Val Loss: 2723.2500, Pearson R: nan, RMSE: 63.8586\n",
      "{'batch_size': 16, 'lr': 0.01, 'dropout': 0.3, 'lr_decay': 0.01, 'layers': 2, 'hidden_dim': 400}\n"
     ]
    },
    {
     "name": "stderr",
     "output_type": "stream",
     "text": [
      "/home/samsonm/miniconda3/envs/multi_modal_DL/lib/python3.10/site-packages/scipy/stats/_stats_py.py:4424: ConstantInputWarning: An input array is constant; the correlation coefficient is not defined.\n",
      "  warnings.warn(stats.ConstantInputWarning(msg))\n"
     ]
    },
    {
     "name": "stdout",
     "output_type": "stream",
     "text": [
      "Epoch: 12/100, Val Loss: 2878.8511, Pearson R: nan, RMSE: 65.0655\n",
      "{'batch_size': 16, 'lr': 0.01, 'dropout': 0.3, 'lr_decay': 0.01, 'layers': 2, 'hidden_dim': 800}\n"
     ]
    },
    {
     "name": "stderr",
     "output_type": "stream",
     "text": [
      "/home/samsonm/miniconda3/envs/multi_modal_DL/lib/python3.10/site-packages/scipy/stats/_stats_py.py:4424: ConstantInputWarning: An input array is constant; the correlation coefficient is not defined.\n",
      "  warnings.warn(stats.ConstantInputWarning(msg))\n"
     ]
    },
    {
     "name": "stdout",
     "output_type": "stream",
     "text": [
      "Epoch: 12/100, Val Loss: 2710.2786, Pearson R: nan, RMSE: 63.7569\n",
      "{'batch_size': 16, 'lr': 0.01, 'dropout': 0.3, 'lr_decay': 0.01, 'layers': 4, 'hidden_dim': 400}\n"
     ]
    },
    {
     "name": "stderr",
     "output_type": "stream",
     "text": [
      "/home/samsonm/miniconda3/envs/multi_modal_DL/lib/python3.10/site-packages/scipy/stats/_stats_py.py:4424: ConstantInputWarning: An input array is constant; the correlation coefficient is not defined.\n",
      "  warnings.warn(stats.ConstantInputWarning(msg))\n"
     ]
    },
    {
     "name": "stdout",
     "output_type": "stream",
     "text": [
      "Epoch: 10/100, Val Loss: 2709.3574, Pearson R: nan, RMSE: 63.7497\n",
      "{'batch_size': 16, 'lr': 0.01, 'dropout': 0.3, 'lr_decay': 0.01, 'layers': 4, 'hidden_dim': 800}\n"
     ]
    },
    {
     "name": "stderr",
     "output_type": "stream",
     "text": [
      "/home/samsonm/miniconda3/envs/multi_modal_DL/lib/python3.10/site-packages/scipy/stats/_stats_py.py:4424: ConstantInputWarning: An input array is constant; the correlation coefficient is not defined.\n",
      "  warnings.warn(stats.ConstantInputWarning(msg))\n"
     ]
    },
    {
     "name": "stdout",
     "output_type": "stream",
     "text": [
      "Epoch: 13/100, Val Loss: 2784.5261, Pearson R: nan, RMSE: 64.3366\n",
      "{'batch_size': 16, 'lr': 0.01, 'dropout': 0.3, 'lr_decay': 0.001, 'layers': 2, 'hidden_dim': 400}\n"
     ]
    },
    {
     "name": "stderr",
     "output_type": "stream",
     "text": [
      "/home/samsonm/miniconda3/envs/multi_modal_DL/lib/python3.10/site-packages/scipy/stats/_stats_py.py:4424: ConstantInputWarning: An input array is constant; the correlation coefficient is not defined.\n",
      "  warnings.warn(stats.ConstantInputWarning(msg))\n"
     ]
    },
    {
     "name": "stdout",
     "output_type": "stream",
     "text": [
      "Epoch: 9/100, Val Loss: 2759.9199, Pearson R: nan, RMSE: 64.1450\n",
      "{'batch_size': 16, 'lr': 0.01, 'dropout': 0.3, 'lr_decay': 0.001, 'layers': 2, 'hidden_dim': 800}\n"
     ]
    },
    {
     "name": "stderr",
     "output_type": "stream",
     "text": [
      "/home/samsonm/miniconda3/envs/multi_modal_DL/lib/python3.10/site-packages/scipy/stats/_stats_py.py:4424: ConstantInputWarning: An input array is constant; the correlation coefficient is not defined.\n",
      "  warnings.warn(stats.ConstantInputWarning(msg))\n"
     ]
    },
    {
     "name": "stdout",
     "output_type": "stream",
     "text": [
      "Epoch: 17/100, Val Loss: 2712.2329, Pearson R: nan, RMSE: 63.7722\n",
      "{'batch_size': 16, 'lr': 0.01, 'dropout': 0.3, 'lr_decay': 0.001, 'layers': 4, 'hidden_dim': 400}\n"
     ]
    },
    {
     "name": "stderr",
     "output_type": "stream",
     "text": [
      "/home/samsonm/miniconda3/envs/multi_modal_DL/lib/python3.10/site-packages/scipy/stats/_stats_py.py:4424: ConstantInputWarning: An input array is constant; the correlation coefficient is not defined.\n",
      "  warnings.warn(stats.ConstantInputWarning(msg))\n"
     ]
    },
    {
     "name": "stdout",
     "output_type": "stream",
     "text": [
      "Epoch: 12/100, Val Loss: 2715.6206, Pearson R: nan, RMSE: 63.7988\n",
      "{'batch_size': 16, 'lr': 0.01, 'dropout': 0.3, 'lr_decay': 0.001, 'layers': 4, 'hidden_dim': 800}\n"
     ]
    },
    {
     "name": "stderr",
     "output_type": "stream",
     "text": [
      "/home/samsonm/miniconda3/envs/multi_modal_DL/lib/python3.10/site-packages/scipy/stats/_stats_py.py:4424: ConstantInputWarning: An input array is constant; the correlation coefficient is not defined.\n",
      "  warnings.warn(stats.ConstantInputWarning(msg))\n"
     ]
    },
    {
     "name": "stdout",
     "output_type": "stream",
     "text": [
      "Epoch: 10/100, Val Loss: 2860.4304, Pearson R: nan, RMSE: 64.9238\n",
      "{'batch_size': 16, 'lr': 0.01, 'dropout': 0.3, 'lr_decay': 0.0001, 'layers': 2, 'hidden_dim': 400}\n"
     ]
    },
    {
     "name": "stderr",
     "output_type": "stream",
     "text": [
      "/home/samsonm/miniconda3/envs/multi_modal_DL/lib/python3.10/site-packages/scipy/stats/_stats_py.py:4424: ConstantInputWarning: An input array is constant; the correlation coefficient is not defined.\n",
      "  warnings.warn(stats.ConstantInputWarning(msg))\n"
     ]
    },
    {
     "name": "stdout",
     "output_type": "stream",
     "text": [
      "Epoch: 7/100, Val Loss: 2780.0154, Pearson R: nan, RMSE: 64.3015\n",
      "{'batch_size': 16, 'lr': 0.01, 'dropout': 0.3, 'lr_decay': 0.0001, 'layers': 2, 'hidden_dim': 800}\n"
     ]
    },
    {
     "name": "stderr",
     "output_type": "stream",
     "text": [
      "/home/samsonm/miniconda3/envs/multi_modal_DL/lib/python3.10/site-packages/scipy/stats/_stats_py.py:4424: ConstantInputWarning: An input array is constant; the correlation coefficient is not defined.\n",
      "  warnings.warn(stats.ConstantInputWarning(msg))\n"
     ]
    },
    {
     "name": "stdout",
     "output_type": "stream",
     "text": [
      "Epoch: 11/100, Val Loss: 3219.9089, Pearson R: nan, RMSE: 67.6356\n",
      "{'batch_size': 16, 'lr': 0.01, 'dropout': 0.3, 'lr_decay': 0.0001, 'layers': 4, 'hidden_dim': 400}\n"
     ]
    },
    {
     "name": "stderr",
     "output_type": "stream",
     "text": [
      "/home/samsonm/miniconda3/envs/multi_modal_DL/lib/python3.10/site-packages/scipy/stats/_stats_py.py:4424: ConstantInputWarning: An input array is constant; the correlation coefficient is not defined.\n",
      "  warnings.warn(stats.ConstantInputWarning(msg))\n"
     ]
    },
    {
     "name": "stdout",
     "output_type": "stream",
     "text": [
      "Epoch: 14/100, Val Loss: 3361.4175, Pearson R: nan, RMSE: 68.6737\n",
      "{'batch_size': 16, 'lr': 0.01, 'dropout': 0.3, 'lr_decay': 0.0001, 'layers': 4, 'hidden_dim': 800}\n"
     ]
    },
    {
     "name": "stderr",
     "output_type": "stream",
     "text": [
      "/home/samsonm/miniconda3/envs/multi_modal_DL/lib/python3.10/site-packages/scipy/stats/_stats_py.py:4424: ConstantInputWarning: An input array is constant; the correlation coefficient is not defined.\n",
      "  warnings.warn(stats.ConstantInputWarning(msg))\n"
     ]
    },
    {
     "name": "stdout",
     "output_type": "stream",
     "text": [
      "Epoch: 7/100, Val Loss: 3087.2292, Pearson R: nan, RMSE: 66.6476\n",
      "{'batch_size': 16, 'lr': 0.01, 'dropout': 0.4, 'lr_decay': 0.1, 'layers': 2, 'hidden_dim': 400}\n"
     ]
    },
    {
     "name": "stderr",
     "output_type": "stream",
     "text": [
      "/home/samsonm/miniconda3/envs/multi_modal_DL/lib/python3.10/site-packages/scipy/stats/_stats_py.py:4424: ConstantInputWarning: An input array is constant; the correlation coefficient is not defined.\n",
      "  warnings.warn(stats.ConstantInputWarning(msg))\n"
     ]
    },
    {
     "name": "stdout",
     "output_type": "stream",
     "text": [
      "Epoch: 10/100, Val Loss: 2720.6404, Pearson R: nan, RMSE: 63.8381\n",
      "{'batch_size': 16, 'lr': 0.01, 'dropout': 0.4, 'lr_decay': 0.1, 'layers': 2, 'hidden_dim': 800}\n"
     ]
    },
    {
     "name": "stderr",
     "output_type": "stream",
     "text": [
      "/home/samsonm/miniconda3/envs/multi_modal_DL/lib/python3.10/site-packages/scipy/stats/_stats_py.py:4424: ConstantInputWarning: An input array is constant; the correlation coefficient is not defined.\n",
      "  warnings.warn(stats.ConstantInputWarning(msg))\n"
     ]
    },
    {
     "name": "stdout",
     "output_type": "stream",
     "text": [
      "Epoch: 8/100, Val Loss: 2786.1392, Pearson R: nan, RMSE: 64.3491\n",
      "{'batch_size': 16, 'lr': 0.01, 'dropout': 0.4, 'lr_decay': 0.1, 'layers': 4, 'hidden_dim': 400}\n"
     ]
    },
    {
     "name": "stderr",
     "output_type": "stream",
     "text": [
      "/home/samsonm/miniconda3/envs/multi_modal_DL/lib/python3.10/site-packages/scipy/stats/_stats_py.py:4424: ConstantInputWarning: An input array is constant; the correlation coefficient is not defined.\n",
      "  warnings.warn(stats.ConstantInputWarning(msg))\n"
     ]
    },
    {
     "name": "stdout",
     "output_type": "stream",
     "text": [
      "Epoch: 26/100, Val Loss: 2712.2966, Pearson R: nan, RMSE: 63.7727\n",
      "{'batch_size': 16, 'lr': 0.01, 'dropout': 0.4, 'lr_decay': 0.1, 'layers': 4, 'hidden_dim': 800}\n"
     ]
    },
    {
     "name": "stderr",
     "output_type": "stream",
     "text": [
      "/home/samsonm/miniconda3/envs/multi_modal_DL/lib/python3.10/site-packages/scipy/stats/_stats_py.py:4424: ConstantInputWarning: An input array is constant; the correlation coefficient is not defined.\n",
      "  warnings.warn(stats.ConstantInputWarning(msg))\n"
     ]
    },
    {
     "name": "stdout",
     "output_type": "stream",
     "text": [
      "Epoch: 17/100, Val Loss: 2709.7048, Pearson R: nan, RMSE: 63.7524\n",
      "{'batch_size': 16, 'lr': 0.01, 'dropout': 0.4, 'lr_decay': 0.01, 'layers': 2, 'hidden_dim': 400}\n"
     ]
    },
    {
     "name": "stderr",
     "output_type": "stream",
     "text": [
      "/home/samsonm/miniconda3/envs/multi_modal_DL/lib/python3.10/site-packages/scipy/stats/_stats_py.py:4424: ConstantInputWarning: An input array is constant; the correlation coefficient is not defined.\n",
      "  warnings.warn(stats.ConstantInputWarning(msg))\n"
     ]
    },
    {
     "name": "stdout",
     "output_type": "stream",
     "text": [
      "Epoch: 8/100, Val Loss: 2817.7754, Pearson R: nan, RMSE: 64.5944\n",
      "{'batch_size': 16, 'lr': 0.01, 'dropout': 0.4, 'lr_decay': 0.01, 'layers': 2, 'hidden_dim': 800}\n"
     ]
    },
    {
     "name": "stderr",
     "output_type": "stream",
     "text": [
      "/home/samsonm/miniconda3/envs/multi_modal_DL/lib/python3.10/site-packages/scipy/stats/_stats_py.py:4424: ConstantInputWarning: An input array is constant; the correlation coefficient is not defined.\n",
      "  warnings.warn(stats.ConstantInputWarning(msg))\n"
     ]
    },
    {
     "name": "stdout",
     "output_type": "stream",
     "text": [
      "Epoch: 18/100, Val Loss: 2713.3132, Pearson R: nan, RMSE: 63.7807\n",
      "{'batch_size': 16, 'lr': 0.01, 'dropout': 0.4, 'lr_decay': 0.01, 'layers': 4, 'hidden_dim': 400}\n"
     ]
    },
    {
     "name": "stderr",
     "output_type": "stream",
     "text": [
      "/home/samsonm/miniconda3/envs/multi_modal_DL/lib/python3.10/site-packages/scipy/stats/_stats_py.py:4424: ConstantInputWarning: An input array is constant; the correlation coefficient is not defined.\n",
      "  warnings.warn(stats.ConstantInputWarning(msg))\n"
     ]
    },
    {
     "name": "stdout",
     "output_type": "stream",
     "text": [
      "Epoch: 11/100, Val Loss: 2730.0029, Pearson R: nan, RMSE: 63.9114\n",
      "{'batch_size': 16, 'lr': 0.01, 'dropout': 0.4, 'lr_decay': 0.01, 'layers': 4, 'hidden_dim': 800}\n"
     ]
    },
    {
     "name": "stderr",
     "output_type": "stream",
     "text": [
      "/home/samsonm/miniconda3/envs/multi_modal_DL/lib/python3.10/site-packages/scipy/stats/_stats_py.py:4424: ConstantInputWarning: An input array is constant; the correlation coefficient is not defined.\n",
      "  warnings.warn(stats.ConstantInputWarning(msg))\n"
     ]
    },
    {
     "name": "stdout",
     "output_type": "stream",
     "text": [
      "Epoch: 10/100, Val Loss: 2719.9490, Pearson R: nan, RMSE: 63.8327\n",
      "{'batch_size': 16, 'lr': 0.01, 'dropout': 0.4, 'lr_decay': 0.001, 'layers': 2, 'hidden_dim': 400}\n"
     ]
    },
    {
     "name": "stderr",
     "output_type": "stream",
     "text": [
      "/home/samsonm/miniconda3/envs/multi_modal_DL/lib/python3.10/site-packages/scipy/stats/_stats_py.py:4424: ConstantInputWarning: An input array is constant; the correlation coefficient is not defined.\n",
      "  warnings.warn(stats.ConstantInputWarning(msg))\n"
     ]
    },
    {
     "name": "stdout",
     "output_type": "stream",
     "text": [
      "Epoch: 10/100, Val Loss: 2746.6794, Pearson R: nan, RMSE: 64.0418\n",
      "{'batch_size': 16, 'lr': 0.01, 'dropout': 0.4, 'lr_decay': 0.001, 'layers': 2, 'hidden_dim': 800}\n"
     ]
    },
    {
     "name": "stderr",
     "output_type": "stream",
     "text": [
      "/home/samsonm/miniconda3/envs/multi_modal_DL/lib/python3.10/site-packages/scipy/stats/_stats_py.py:4424: ConstantInputWarning: An input array is constant; the correlation coefficient is not defined.\n",
      "  warnings.warn(stats.ConstantInputWarning(msg))\n"
     ]
    },
    {
     "name": "stdout",
     "output_type": "stream",
     "text": [
      "Epoch: 12/100, Val Loss: 2816.1460, Pearson R: nan, RMSE: 64.5818\n",
      "{'batch_size': 16, 'lr': 0.01, 'dropout': 0.4, 'lr_decay': 0.001, 'layers': 4, 'hidden_dim': 400}\n"
     ]
    },
    {
     "name": "stderr",
     "output_type": "stream",
     "text": [
      "/home/samsonm/miniconda3/envs/multi_modal_DL/lib/python3.10/site-packages/scipy/stats/_stats_py.py:4424: ConstantInputWarning: An input array is constant; the correlation coefficient is not defined.\n",
      "  warnings.warn(stats.ConstantInputWarning(msg))\n"
     ]
    },
    {
     "name": "stdout",
     "output_type": "stream",
     "text": [
      "Epoch: 14/100, Val Loss: 4818.9482, Pearson R: nan, RMSE: 78.5724\n",
      "{'batch_size': 16, 'lr': 0.01, 'dropout': 0.4, 'lr_decay': 0.001, 'layers': 4, 'hidden_dim': 800}\n"
     ]
    },
    {
     "name": "stderr",
     "output_type": "stream",
     "text": [
      "/home/samsonm/miniconda3/envs/multi_modal_DL/lib/python3.10/site-packages/scipy/stats/_stats_py.py:4424: ConstantInputWarning: An input array is constant; the correlation coefficient is not defined.\n",
      "  warnings.warn(stats.ConstantInputWarning(msg))\n"
     ]
    },
    {
     "name": "stdout",
     "output_type": "stream",
     "text": [
      "Epoch: 11/100, Val Loss: 12297.1133, Pearson R: nan, RMSE: 116.8408\n",
      "{'batch_size': 16, 'lr': 0.01, 'dropout': 0.4, 'lr_decay': 0.0001, 'layers': 2, 'hidden_dim': 400}\n"
     ]
    },
    {
     "name": "stderr",
     "output_type": "stream",
     "text": [
      "/home/samsonm/miniconda3/envs/multi_modal_DL/lib/python3.10/site-packages/scipy/stats/_stats_py.py:4424: ConstantInputWarning: An input array is constant; the correlation coefficient is not defined.\n",
      "  warnings.warn(stats.ConstantInputWarning(msg))\n"
     ]
    },
    {
     "name": "stdout",
     "output_type": "stream",
     "text": [
      "Epoch: 7/100, Val Loss: 3311.5925, Pearson R: nan, RMSE: 68.3100\n",
      "{'batch_size': 16, 'lr': 0.01, 'dropout': 0.4, 'lr_decay': 0.0001, 'layers': 2, 'hidden_dim': 800}\n"
     ]
    },
    {
     "name": "stderr",
     "output_type": "stream",
     "text": [
      "/home/samsonm/miniconda3/envs/multi_modal_DL/lib/python3.10/site-packages/scipy/stats/_stats_py.py:4424: ConstantInputWarning: An input array is constant; the correlation coefficient is not defined.\n",
      "  warnings.warn(stats.ConstantInputWarning(msg))\n"
     ]
    },
    {
     "name": "stdout",
     "output_type": "stream",
     "text": [
      "Epoch: 8/100, Val Loss: 2855.3250, Pearson R: nan, RMSE: 64.8844\n",
      "{'batch_size': 16, 'lr': 0.01, 'dropout': 0.4, 'lr_decay': 0.0001, 'layers': 4, 'hidden_dim': 400}\n"
     ]
    },
    {
     "name": "stderr",
     "output_type": "stream",
     "text": [
      "/home/samsonm/miniconda3/envs/multi_modal_DL/lib/python3.10/site-packages/scipy/stats/_stats_py.py:4424: ConstantInputWarning: An input array is constant; the correlation coefficient is not defined.\n",
      "  warnings.warn(stats.ConstantInputWarning(msg))\n"
     ]
    },
    {
     "name": "stdout",
     "output_type": "stream",
     "text": [
      "Epoch: 16/100, Val Loss: 2711.3464, Pearson R: nan, RMSE: 63.7653\n",
      "{'batch_size': 16, 'lr': 0.01, 'dropout': 0.4, 'lr_decay': 0.0001, 'layers': 4, 'hidden_dim': 800}\n"
     ]
    },
    {
     "name": "stderr",
     "output_type": "stream",
     "text": [
      "/home/samsonm/miniconda3/envs/multi_modal_DL/lib/python3.10/site-packages/scipy/stats/_stats_py.py:4424: ConstantInputWarning: An input array is constant; the correlation coefficient is not defined.\n",
      "  warnings.warn(stats.ConstantInputWarning(msg))\n"
     ]
    },
    {
     "name": "stdout",
     "output_type": "stream",
     "text": [
      "Epoch: 15/100, Val Loss: 2709.4709, Pearson R: nan, RMSE: 63.7506\n",
      "{'batch_size': 16, 'lr': 0.01, 'dropout': 0.5, 'lr_decay': 0.1, 'layers': 2, 'hidden_dim': 400}\n"
     ]
    },
    {
     "name": "stderr",
     "output_type": "stream",
     "text": [
      "/home/samsonm/miniconda3/envs/multi_modal_DL/lib/python3.10/site-packages/scipy/stats/_stats_py.py:4424: ConstantInputWarning: An input array is constant; the correlation coefficient is not defined.\n",
      "  warnings.warn(stats.ConstantInputWarning(msg))\n"
     ]
    },
    {
     "name": "stdout",
     "output_type": "stream",
     "text": [
      "Epoch: 12/100, Val Loss: 4122.4033, Pearson R: nan, RMSE: 74.0072\n",
      "{'batch_size': 16, 'lr': 0.01, 'dropout': 0.5, 'lr_decay': 0.1, 'layers': 2, 'hidden_dim': 800}\n"
     ]
    },
    {
     "name": "stderr",
     "output_type": "stream",
     "text": [
      "/home/samsonm/miniconda3/envs/multi_modal_DL/lib/python3.10/site-packages/scipy/stats/_stats_py.py:4424: ConstantInputWarning: An input array is constant; the correlation coefficient is not defined.\n",
      "  warnings.warn(stats.ConstantInputWarning(msg))\n"
     ]
    },
    {
     "name": "stdout",
     "output_type": "stream",
     "text": [
      "Epoch: 14/100, Val Loss: 3598.2461, Pearson R: nan, RMSE: 70.3769\n",
      "{'batch_size': 16, 'lr': 0.01, 'dropout': 0.5, 'lr_decay': 0.1, 'layers': 4, 'hidden_dim': 400}\n"
     ]
    },
    {
     "name": "stderr",
     "output_type": "stream",
     "text": [
      "/home/samsonm/miniconda3/envs/multi_modal_DL/lib/python3.10/site-packages/scipy/stats/_stats_py.py:4424: ConstantInputWarning: An input array is constant; the correlation coefficient is not defined.\n",
      "  warnings.warn(stats.ConstantInputWarning(msg))\n"
     ]
    },
    {
     "name": "stdout",
     "output_type": "stream",
     "text": [
      "Epoch: 20/100, Val Loss: 2710.6548, Pearson R: nan, RMSE: 63.7599\n",
      "{'batch_size': 16, 'lr': 0.01, 'dropout': 0.5, 'lr_decay': 0.1, 'layers': 4, 'hidden_dim': 800}\n"
     ]
    },
    {
     "name": "stderr",
     "output_type": "stream",
     "text": [
      "/home/samsonm/miniconda3/envs/multi_modal_DL/lib/python3.10/site-packages/scipy/stats/_stats_py.py:4424: ConstantInputWarning: An input array is constant; the correlation coefficient is not defined.\n",
      "  warnings.warn(stats.ConstantInputWarning(msg))\n"
     ]
    },
    {
     "name": "stdout",
     "output_type": "stream",
     "text": [
      "Epoch: 11/100, Val Loss: 2710.5691, Pearson R: nan, RMSE: 63.7592\n",
      "{'batch_size': 16, 'lr': 0.01, 'dropout': 0.5, 'lr_decay': 0.01, 'layers': 2, 'hidden_dim': 400}\n"
     ]
    },
    {
     "name": "stderr",
     "output_type": "stream",
     "text": [
      "/home/samsonm/miniconda3/envs/multi_modal_DL/lib/python3.10/site-packages/scipy/stats/_stats_py.py:4424: ConstantInputWarning: An input array is constant; the correlation coefficient is not defined.\n",
      "  warnings.warn(stats.ConstantInputWarning(msg))\n"
     ]
    },
    {
     "name": "stdout",
     "output_type": "stream",
     "text": [
      "Epoch: 8/100, Val Loss: 6075.7852, Pearson R: nan, RMSE: 86.2001\n",
      "{'batch_size': 16, 'lr': 0.01, 'dropout': 0.5, 'lr_decay': 0.01, 'layers': 2, 'hidden_dim': 800}\n"
     ]
    },
    {
     "name": "stderr",
     "output_type": "stream",
     "text": [
      "/home/samsonm/miniconda3/envs/multi_modal_DL/lib/python3.10/site-packages/scipy/stats/_stats_py.py:4424: ConstantInputWarning: An input array is constant; the correlation coefficient is not defined.\n",
      "  warnings.warn(stats.ConstantInputWarning(msg))\n"
     ]
    },
    {
     "name": "stdout",
     "output_type": "stream",
     "text": [
      "Epoch: 8/100, Val Loss: 2911.0166, Pearson R: nan, RMSE: 65.3122\n",
      "{'batch_size': 16, 'lr': 0.01, 'dropout': 0.5, 'lr_decay': 0.01, 'layers': 4, 'hidden_dim': 400}\n"
     ]
    },
    {
     "name": "stderr",
     "output_type": "stream",
     "text": [
      "/home/samsonm/miniconda3/envs/multi_modal_DL/lib/python3.10/site-packages/scipy/stats/_stats_py.py:4424: ConstantInputWarning: An input array is constant; the correlation coefficient is not defined.\n",
      "  warnings.warn(stats.ConstantInputWarning(msg))\n"
     ]
    },
    {
     "name": "stdout",
     "output_type": "stream",
     "text": [
      "Epoch: 13/100, Val Loss: 2709.3406, Pearson R: nan, RMSE: 63.7496\n",
      "{'batch_size': 16, 'lr': 0.01, 'dropout': 0.5, 'lr_decay': 0.01, 'layers': 4, 'hidden_dim': 800}\n"
     ]
    },
    {
     "name": "stderr",
     "output_type": "stream",
     "text": [
      "/home/samsonm/miniconda3/envs/multi_modal_DL/lib/python3.10/site-packages/scipy/stats/_stats_py.py:4424: ConstantInputWarning: An input array is constant; the correlation coefficient is not defined.\n",
      "  warnings.warn(stats.ConstantInputWarning(msg))\n"
     ]
    },
    {
     "name": "stdout",
     "output_type": "stream",
     "text": [
      "Epoch: 10/100, Val Loss: 3171.4751, Pearson R: nan, RMSE: 67.2766\n",
      "{'batch_size': 16, 'lr': 0.01, 'dropout': 0.5, 'lr_decay': 0.001, 'layers': 2, 'hidden_dim': 400}\n"
     ]
    },
    {
     "name": "stderr",
     "output_type": "stream",
     "text": [
      "/home/samsonm/miniconda3/envs/multi_modal_DL/lib/python3.10/site-packages/scipy/stats/_stats_py.py:4424: ConstantInputWarning: An input array is constant; the correlation coefficient is not defined.\n",
      "  warnings.warn(stats.ConstantInputWarning(msg))\n"
     ]
    },
    {
     "name": "stdout",
     "output_type": "stream",
     "text": [
      "Epoch: 10/100, Val Loss: 2806.7683, Pearson R: nan, RMSE: 64.5092\n",
      "{'batch_size': 16, 'lr': 0.01, 'dropout': 0.5, 'lr_decay': 0.001, 'layers': 2, 'hidden_dim': 800}\n"
     ]
    },
    {
     "name": "stderr",
     "output_type": "stream",
     "text": [
      "/home/samsonm/miniconda3/envs/multi_modal_DL/lib/python3.10/site-packages/scipy/stats/_stats_py.py:4424: ConstantInputWarning: An input array is constant; the correlation coefficient is not defined.\n",
      "  warnings.warn(stats.ConstantInputWarning(msg))\n"
     ]
    },
    {
     "name": "stdout",
     "output_type": "stream",
     "text": [
      "Epoch: 9/100, Val Loss: 2729.4600, Pearson R: nan, RMSE: 63.9072\n",
      "{'batch_size': 16, 'lr': 0.01, 'dropout': 0.5, 'lr_decay': 0.001, 'layers': 4, 'hidden_dim': 400}\n"
     ]
    },
    {
     "name": "stderr",
     "output_type": "stream",
     "text": [
      "/home/samsonm/miniconda3/envs/multi_modal_DL/lib/python3.10/site-packages/scipy/stats/_stats_py.py:4424: ConstantInputWarning: An input array is constant; the correlation coefficient is not defined.\n",
      "  warnings.warn(stats.ConstantInputWarning(msg))\n"
     ]
    },
    {
     "name": "stdout",
     "output_type": "stream",
     "text": [
      "Epoch: 9/100, Val Loss: 2711.5044, Pearson R: nan, RMSE: 63.7665\n",
      "{'batch_size': 16, 'lr': 0.01, 'dropout': 0.5, 'lr_decay': 0.001, 'layers': 4, 'hidden_dim': 800}\n"
     ]
    },
    {
     "name": "stderr",
     "output_type": "stream",
     "text": [
      "/home/samsonm/miniconda3/envs/multi_modal_DL/lib/python3.10/site-packages/scipy/stats/_stats_py.py:4424: ConstantInputWarning: An input array is constant; the correlation coefficient is not defined.\n",
      "  warnings.warn(stats.ConstantInputWarning(msg))\n"
     ]
    },
    {
     "name": "stdout",
     "output_type": "stream",
     "text": [
      "Epoch: 13/100, Val Loss: 2716.7417, Pearson R: nan, RMSE: 63.8076\n",
      "{'batch_size': 16, 'lr': 0.01, 'dropout': 0.5, 'lr_decay': 0.0001, 'layers': 2, 'hidden_dim': 400}\n"
     ]
    },
    {
     "name": "stderr",
     "output_type": "stream",
     "text": [
      "/home/samsonm/miniconda3/envs/multi_modal_DL/lib/python3.10/site-packages/scipy/stats/_stats_py.py:4424: ConstantInputWarning: An input array is constant; the correlation coefficient is not defined.\n",
      "  warnings.warn(stats.ConstantInputWarning(msg))\n"
     ]
    },
    {
     "name": "stdout",
     "output_type": "stream",
     "text": [
      "Epoch: 15/100, Val Loss: 5282.6270, Pearson R: nan, RMSE: 81.4696\n",
      "{'batch_size': 16, 'lr': 0.01, 'dropout': 0.5, 'lr_decay': 0.0001, 'layers': 2, 'hidden_dim': 800}\n"
     ]
    },
    {
     "name": "stderr",
     "output_type": "stream",
     "text": [
      "/home/samsonm/miniconda3/envs/multi_modal_DL/lib/python3.10/site-packages/scipy/stats/_stats_py.py:4424: ConstantInputWarning: An input array is constant; the correlation coefficient is not defined.\n",
      "  warnings.warn(stats.ConstantInputWarning(msg))\n"
     ]
    },
    {
     "name": "stdout",
     "output_type": "stream",
     "text": [
      "Epoch: 29/100, Val Loss: 2719.9868, Pearson R: nan, RMSE: 63.8330\n",
      "{'batch_size': 16, 'lr': 0.01, 'dropout': 0.5, 'lr_decay': 0.0001, 'layers': 4, 'hidden_dim': 400}\n"
     ]
    },
    {
     "name": "stderr",
     "output_type": "stream",
     "text": [
      "/home/samsonm/miniconda3/envs/multi_modal_DL/lib/python3.10/site-packages/scipy/stats/_stats_py.py:4424: ConstantInputWarning: An input array is constant; the correlation coefficient is not defined.\n",
      "  warnings.warn(stats.ConstantInputWarning(msg))\n"
     ]
    },
    {
     "name": "stdout",
     "output_type": "stream",
     "text": [
      "Epoch: 12/100, Val Loss: 2713.0898, Pearson R: nan, RMSE: 63.7790\n",
      "{'batch_size': 16, 'lr': 0.01, 'dropout': 0.5, 'lr_decay': 0.0001, 'layers': 4, 'hidden_dim': 800}\n"
     ]
    },
    {
     "name": "stderr",
     "output_type": "stream",
     "text": [
      "/home/samsonm/miniconda3/envs/multi_modal_DL/lib/python3.10/site-packages/scipy/stats/_stats_py.py:4424: ConstantInputWarning: An input array is constant; the correlation coefficient is not defined.\n",
      "  warnings.warn(stats.ConstantInputWarning(msg))\n"
     ]
    },
    {
     "name": "stdout",
     "output_type": "stream",
     "text": [
      "Epoch: 11/100, Val Loss: 2765.8845, Pearson R: nan, RMSE: 64.1915\n",
      "{'batch_size': 16, 'lr': 0.001, 'dropout': 0.1, 'lr_decay': 0.1, 'layers': 2, 'hidden_dim': 400}\n"
     ]
    },
    {
     "name": "stderr",
     "output_type": "stream",
     "text": [
      "/home/samsonm/miniconda3/envs/multi_modal_DL/lib/python3.10/site-packages/scipy/stats/_stats_py.py:4424: ConstantInputWarning: An input array is constant; the correlation coefficient is not defined.\n",
      "  warnings.warn(stats.ConstantInputWarning(msg))\n"
     ]
    },
    {
     "name": "stdout",
     "output_type": "stream",
     "text": [
      "Epoch: 7/100, Val Loss: 2713.2168, Pearson R: nan, RMSE: 63.7800\n",
      "{'batch_size': 16, 'lr': 0.001, 'dropout': 0.1, 'lr_decay': 0.1, 'layers': 2, 'hidden_dim': 800}\n"
     ]
    },
    {
     "name": "stderr",
     "output_type": "stream",
     "text": [
      "/home/samsonm/miniconda3/envs/multi_modal_DL/lib/python3.10/site-packages/scipy/stats/_stats_py.py:4424: ConstantInputWarning: An input array is constant; the correlation coefficient is not defined.\n",
      "  warnings.warn(stats.ConstantInputWarning(msg))\n"
     ]
    },
    {
     "name": "stdout",
     "output_type": "stream",
     "text": [
      "Epoch: 13/100, Val Loss: 2709.3770, Pearson R: nan, RMSE: 63.7499\n",
      "{'batch_size': 16, 'lr': 0.001, 'dropout': 0.1, 'lr_decay': 0.1, 'layers': 4, 'hidden_dim': 400}\n"
     ]
    },
    {
     "name": "stderr",
     "output_type": "stream",
     "text": [
      "/home/samsonm/miniconda3/envs/multi_modal_DL/lib/python3.10/site-packages/scipy/stats/_stats_py.py:4424: ConstantInputWarning: An input array is constant; the correlation coefficient is not defined.\n",
      "  warnings.warn(stats.ConstantInputWarning(msg))\n"
     ]
    },
    {
     "name": "stdout",
     "output_type": "stream",
     "text": [
      "Epoch: 9/100, Val Loss: 2717.0283, Pearson R: nan, RMSE: 63.8098\n",
      "{'batch_size': 16, 'lr': 0.001, 'dropout': 0.1, 'lr_decay': 0.1, 'layers': 4, 'hidden_dim': 800}\n"
     ]
    },
    {
     "name": "stderr",
     "output_type": "stream",
     "text": [
      "/home/samsonm/miniconda3/envs/multi_modal_DL/lib/python3.10/site-packages/scipy/stats/_stats_py.py:4424: ConstantInputWarning: An input array is constant; the correlation coefficient is not defined.\n",
      "  warnings.warn(stats.ConstantInputWarning(msg))\n"
     ]
    },
    {
     "name": "stdout",
     "output_type": "stream",
     "text": [
      "Epoch: 8/100, Val Loss: 2710.5474, Pearson R: nan, RMSE: 63.7590\n",
      "{'batch_size': 16, 'lr': 0.001, 'dropout': 0.1, 'lr_decay': 0.01, 'layers': 2, 'hidden_dim': 400}\n"
     ]
    },
    {
     "name": "stderr",
     "output_type": "stream",
     "text": [
      "/home/samsonm/miniconda3/envs/multi_modal_DL/lib/python3.10/site-packages/scipy/stats/_stats_py.py:4424: ConstantInputWarning: An input array is constant; the correlation coefficient is not defined.\n",
      "  warnings.warn(stats.ConstantInputWarning(msg))\n"
     ]
    },
    {
     "name": "stdout",
     "output_type": "stream",
     "text": [
      "Epoch: 7/100, Val Loss: 2712.3657, Pearson R: nan, RMSE: 63.7733\n",
      "{'batch_size': 16, 'lr': 0.001, 'dropout': 0.1, 'lr_decay': 0.01, 'layers': 2, 'hidden_dim': 800}\n"
     ]
    },
    {
     "name": "stderr",
     "output_type": "stream",
     "text": [
      "/home/samsonm/miniconda3/envs/multi_modal_DL/lib/python3.10/site-packages/scipy/stats/_stats_py.py:4424: ConstantInputWarning: An input array is constant; the correlation coefficient is not defined.\n",
      "  warnings.warn(stats.ConstantInputWarning(msg))\n"
     ]
    },
    {
     "name": "stdout",
     "output_type": "stream",
     "text": [
      "Epoch: 13/100, Val Loss: 2709.4307, Pearson R: nan, RMSE: 63.7503\n",
      "{'batch_size': 16, 'lr': 0.001, 'dropout': 0.1, 'lr_decay': 0.01, 'layers': 4, 'hidden_dim': 400}\n"
     ]
    },
    {
     "name": "stderr",
     "output_type": "stream",
     "text": [
      "/home/samsonm/miniconda3/envs/multi_modal_DL/lib/python3.10/site-packages/scipy/stats/_stats_py.py:4424: ConstantInputWarning: An input array is constant; the correlation coefficient is not defined.\n",
      "  warnings.warn(stats.ConstantInputWarning(msg))\n"
     ]
    },
    {
     "name": "stdout",
     "output_type": "stream",
     "text": [
      "Epoch: 10/100, Val Loss: 2713.0359, Pearson R: nan, RMSE: 63.7785\n",
      "{'batch_size': 16, 'lr': 0.001, 'dropout': 0.1, 'lr_decay': 0.01, 'layers': 4, 'hidden_dim': 800}\n"
     ]
    },
    {
     "name": "stderr",
     "output_type": "stream",
     "text": [
      "/home/samsonm/miniconda3/envs/multi_modal_DL/lib/python3.10/site-packages/scipy/stats/_stats_py.py:4424: ConstantInputWarning: An input array is constant; the correlation coefficient is not defined.\n",
      "  warnings.warn(stats.ConstantInputWarning(msg))\n"
     ]
    },
    {
     "name": "stdout",
     "output_type": "stream",
     "text": [
      "Epoch: 8/100, Val Loss: 2709.4409, Pearson R: nan, RMSE: 63.7504\n",
      "{'batch_size': 16, 'lr': 0.001, 'dropout': 0.1, 'lr_decay': 0.001, 'layers': 2, 'hidden_dim': 400}\n"
     ]
    },
    {
     "name": "stderr",
     "output_type": "stream",
     "text": [
      "/home/samsonm/miniconda3/envs/multi_modal_DL/lib/python3.10/site-packages/scipy/stats/_stats_py.py:4424: ConstantInputWarning: An input array is constant; the correlation coefficient is not defined.\n",
      "  warnings.warn(stats.ConstantInputWarning(msg))\n"
     ]
    },
    {
     "name": "stdout",
     "output_type": "stream",
     "text": [
      "Epoch: 8/100, Val Loss: 2712.0457, Pearson R: nan, RMSE: 63.7708\n",
      "{'batch_size': 16, 'lr': 0.001, 'dropout': 0.1, 'lr_decay': 0.001, 'layers': 2, 'hidden_dim': 800}\n"
     ]
    },
    {
     "name": "stderr",
     "output_type": "stream",
     "text": [
      "/home/samsonm/miniconda3/envs/multi_modal_DL/lib/python3.10/site-packages/scipy/stats/_stats_py.py:4424: ConstantInputWarning: An input array is constant; the correlation coefficient is not defined.\n",
      "  warnings.warn(stats.ConstantInputWarning(msg))\n"
     ]
    },
    {
     "name": "stdout",
     "output_type": "stream",
     "text": [
      "Epoch: 10/100, Val Loss: 2711.1030, Pearson R: nan, RMSE: 63.7634\n",
      "{'batch_size': 16, 'lr': 0.001, 'dropout': 0.1, 'lr_decay': 0.001, 'layers': 4, 'hidden_dim': 400}\n"
     ]
    },
    {
     "name": "stderr",
     "output_type": "stream",
     "text": [
      "/home/samsonm/miniconda3/envs/multi_modal_DL/lib/python3.10/site-packages/scipy/stats/_stats_py.py:4424: ConstantInputWarning: An input array is constant; the correlation coefficient is not defined.\n",
      "  warnings.warn(stats.ConstantInputWarning(msg))\n"
     ]
    },
    {
     "name": "stdout",
     "output_type": "stream",
     "text": [
      "Epoch: 7/100, Val Loss: 2727.2314, Pearson R: nan, RMSE: 63.8897\n",
      "{'batch_size': 16, 'lr': 0.001, 'dropout': 0.1, 'lr_decay': 0.001, 'layers': 4, 'hidden_dim': 800}\n"
     ]
    },
    {
     "name": "stderr",
     "output_type": "stream",
     "text": [
      "/home/samsonm/miniconda3/envs/multi_modal_DL/lib/python3.10/site-packages/scipy/stats/_stats_py.py:4424: ConstantInputWarning: An input array is constant; the correlation coefficient is not defined.\n",
      "  warnings.warn(stats.ConstantInputWarning(msg))\n"
     ]
    },
    {
     "name": "stdout",
     "output_type": "stream",
     "text": [
      "Epoch: 8/100, Val Loss: 2709.5386, Pearson R: nan, RMSE: 63.7511\n",
      "{'batch_size': 16, 'lr': 0.001, 'dropout': 0.1, 'lr_decay': 0.0001, 'layers': 2, 'hidden_dim': 400}\n"
     ]
    },
    {
     "name": "stderr",
     "output_type": "stream",
     "text": [
      "/home/samsonm/miniconda3/envs/multi_modal_DL/lib/python3.10/site-packages/scipy/stats/_stats_py.py:4424: ConstantInputWarning: An input array is constant; the correlation coefficient is not defined.\n",
      "  warnings.warn(stats.ConstantInputWarning(msg))\n"
     ]
    },
    {
     "name": "stdout",
     "output_type": "stream",
     "text": [
      "Epoch: 7/100, Val Loss: 2711.6201, Pearson R: nan, RMSE: 63.7674\n",
      "{'batch_size': 16, 'lr': 0.001, 'dropout': 0.1, 'lr_decay': 0.0001, 'layers': 2, 'hidden_dim': 800}\n"
     ]
    },
    {
     "name": "stderr",
     "output_type": "stream",
     "text": [
      "/home/samsonm/miniconda3/envs/multi_modal_DL/lib/python3.10/site-packages/scipy/stats/_stats_py.py:4424: ConstantInputWarning: An input array is constant; the correlation coefficient is not defined.\n",
      "  warnings.warn(stats.ConstantInputWarning(msg))\n"
     ]
    },
    {
     "name": "stdout",
     "output_type": "stream",
     "text": [
      "Epoch: 10/100, Val Loss: 2709.3982, Pearson R: nan, RMSE: 63.7500\n",
      "{'batch_size': 16, 'lr': 0.001, 'dropout': 0.1, 'lr_decay': 0.0001, 'layers': 4, 'hidden_dim': 400}\n"
     ]
    },
    {
     "name": "stderr",
     "output_type": "stream",
     "text": [
      "/home/samsonm/miniconda3/envs/multi_modal_DL/lib/python3.10/site-packages/scipy/stats/_stats_py.py:4424: ConstantInputWarning: An input array is constant; the correlation coefficient is not defined.\n",
      "  warnings.warn(stats.ConstantInputWarning(msg))\n"
     ]
    },
    {
     "name": "stdout",
     "output_type": "stream",
     "text": [
      "Epoch: 10/100, Val Loss: 2713.8384, Pearson R: nan, RMSE: 63.7848\n",
      "{'batch_size': 16, 'lr': 0.001, 'dropout': 0.1, 'lr_decay': 0.0001, 'layers': 4, 'hidden_dim': 800}\n"
     ]
    },
    {
     "name": "stderr",
     "output_type": "stream",
     "text": [
      "/home/samsonm/miniconda3/envs/multi_modal_DL/lib/python3.10/site-packages/scipy/stats/_stats_py.py:4424: ConstantInputWarning: An input array is constant; the correlation coefficient is not defined.\n",
      "  warnings.warn(stats.ConstantInputWarning(msg))\n"
     ]
    },
    {
     "name": "stdout",
     "output_type": "stream",
     "text": [
      "Epoch: 8/100, Val Loss: 2709.5298, Pearson R: nan, RMSE: 63.7510\n",
      "{'batch_size': 16, 'lr': 0.001, 'dropout': 0.2, 'lr_decay': 0.1, 'layers': 2, 'hidden_dim': 400}\n"
     ]
    },
    {
     "name": "stderr",
     "output_type": "stream",
     "text": [
      "/home/samsonm/miniconda3/envs/multi_modal_DL/lib/python3.10/site-packages/scipy/stats/_stats_py.py:4424: ConstantInputWarning: An input array is constant; the correlation coefficient is not defined.\n",
      "  warnings.warn(stats.ConstantInputWarning(msg))\n"
     ]
    },
    {
     "name": "stdout",
     "output_type": "stream",
     "text": [
      "Epoch: 6/100, Val Loss: 2713.5259, Pearson R: nan, RMSE: 63.7824\n",
      "{'batch_size': 16, 'lr': 0.001, 'dropout': 0.2, 'lr_decay': 0.1, 'layers': 2, 'hidden_dim': 800}\n"
     ]
    },
    {
     "name": "stderr",
     "output_type": "stream",
     "text": [
      "/home/samsonm/miniconda3/envs/multi_modal_DL/lib/python3.10/site-packages/scipy/stats/_stats_py.py:4424: ConstantInputWarning: An input array is constant; the correlation coefficient is not defined.\n",
      "  warnings.warn(stats.ConstantInputWarning(msg))\n"
     ]
    },
    {
     "name": "stdout",
     "output_type": "stream",
     "text": [
      "Epoch: 9/100, Val Loss: 2710.7454, Pearson R: nan, RMSE: 63.7606\n",
      "{'batch_size': 16, 'lr': 0.001, 'dropout': 0.2, 'lr_decay': 0.1, 'layers': 4, 'hidden_dim': 400}\n"
     ]
    },
    {
     "name": "stderr",
     "output_type": "stream",
     "text": [
      "/home/samsonm/miniconda3/envs/multi_modal_DL/lib/python3.10/site-packages/scipy/stats/_stats_py.py:4424: ConstantInputWarning: An input array is constant; the correlation coefficient is not defined.\n",
      "  warnings.warn(stats.ConstantInputWarning(msg))\n"
     ]
    },
    {
     "name": "stdout",
     "output_type": "stream",
     "text": [
      "Epoch: 6/100, Val Loss: 2723.0681, Pearson R: nan, RMSE: 63.8571\n",
      "{'batch_size': 16, 'lr': 0.001, 'dropout': 0.2, 'lr_decay': 0.1, 'layers': 4, 'hidden_dim': 800}\n"
     ]
    },
    {
     "name": "stderr",
     "output_type": "stream",
     "text": [
      "/home/samsonm/miniconda3/envs/multi_modal_DL/lib/python3.10/site-packages/scipy/stats/_stats_py.py:4424: ConstantInputWarning: An input array is constant; the correlation coefficient is not defined.\n",
      "  warnings.warn(stats.ConstantInputWarning(msg))\n"
     ]
    },
    {
     "name": "stdout",
     "output_type": "stream",
     "text": [
      "Epoch: 12/100, Val Loss: 2709.3853, Pearson R: nan, RMSE: 63.7499\n",
      "{'batch_size': 16, 'lr': 0.001, 'dropout': 0.2, 'lr_decay': 0.01, 'layers': 2, 'hidden_dim': 400}\n"
     ]
    },
    {
     "name": "stderr",
     "output_type": "stream",
     "text": [
      "/home/samsonm/miniconda3/envs/multi_modal_DL/lib/python3.10/site-packages/scipy/stats/_stats_py.py:4424: ConstantInputWarning: An input array is constant; the correlation coefficient is not defined.\n",
      "  warnings.warn(stats.ConstantInputWarning(msg))\n"
     ]
    },
    {
     "name": "stdout",
     "output_type": "stream",
     "text": [
      "Epoch: 6/100, Val Loss: 2715.1021, Pearson R: nan, RMSE: 63.7947\n",
      "{'batch_size': 16, 'lr': 0.001, 'dropout': 0.2, 'lr_decay': 0.01, 'layers': 2, 'hidden_dim': 800}\n"
     ]
    },
    {
     "name": "stderr",
     "output_type": "stream",
     "text": [
      "/home/samsonm/miniconda3/envs/multi_modal_DL/lib/python3.10/site-packages/scipy/stats/_stats_py.py:4424: ConstantInputWarning: An input array is constant; the correlation coefficient is not defined.\n",
      "  warnings.warn(stats.ConstantInputWarning(msg))\n"
     ]
    },
    {
     "name": "stdout",
     "output_type": "stream",
     "text": [
      "Epoch: 7/100, Val Loss: 2709.3384, Pearson R: nan, RMSE: 63.7495\n",
      "{'batch_size': 16, 'lr': 0.001, 'dropout': 0.2, 'lr_decay': 0.01, 'layers': 4, 'hidden_dim': 400}\n"
     ]
    },
    {
     "name": "stderr",
     "output_type": "stream",
     "text": [
      "/home/samsonm/miniconda3/envs/multi_modal_DL/lib/python3.10/site-packages/scipy/stats/_stats_py.py:4424: ConstantInputWarning: An input array is constant; the correlation coefficient is not defined.\n",
      "  warnings.warn(stats.ConstantInputWarning(msg))\n"
     ]
    },
    {
     "name": "stdout",
     "output_type": "stream",
     "text": [
      "Epoch: 7/100, Val Loss: 2709.3682, Pearson R: nan, RMSE: 63.7498\n",
      "{'batch_size': 16, 'lr': 0.001, 'dropout': 0.2, 'lr_decay': 0.01, 'layers': 4, 'hidden_dim': 800}\n"
     ]
    },
    {
     "name": "stderr",
     "output_type": "stream",
     "text": [
      "/home/samsonm/miniconda3/envs/multi_modal_DL/lib/python3.10/site-packages/scipy/stats/_stats_py.py:4424: ConstantInputWarning: An input array is constant; the correlation coefficient is not defined.\n",
      "  warnings.warn(stats.ConstantInputWarning(msg))\n"
     ]
    },
    {
     "name": "stdout",
     "output_type": "stream",
     "text": [
      "Epoch: 12/100, Val Loss: 2709.4575, Pearson R: nan, RMSE: 63.7505\n",
      "{'batch_size': 16, 'lr': 0.001, 'dropout': 0.2, 'lr_decay': 0.001, 'layers': 2, 'hidden_dim': 400}\n"
     ]
    },
    {
     "name": "stderr",
     "output_type": "stream",
     "text": [
      "/home/samsonm/miniconda3/envs/multi_modal_DL/lib/python3.10/site-packages/scipy/stats/_stats_py.py:4424: ConstantInputWarning: An input array is constant; the correlation coefficient is not defined.\n",
      "  warnings.warn(stats.ConstantInputWarning(msg))\n"
     ]
    },
    {
     "name": "stdout",
     "output_type": "stream",
     "text": [
      "Epoch: 7/100, Val Loss: 2711.8665, Pearson R: nan, RMSE: 63.7694\n",
      "{'batch_size': 16, 'lr': 0.001, 'dropout': 0.2, 'lr_decay': 0.001, 'layers': 2, 'hidden_dim': 800}\n"
     ]
    },
    {
     "name": "stderr",
     "output_type": "stream",
     "text": [
      "/home/samsonm/miniconda3/envs/multi_modal_DL/lib/python3.10/site-packages/scipy/stats/_stats_py.py:4424: ConstantInputWarning: An input array is constant; the correlation coefficient is not defined.\n",
      "  warnings.warn(stats.ConstantInputWarning(msg))\n"
     ]
    },
    {
     "name": "stdout",
     "output_type": "stream",
     "text": [
      "Epoch: 10/100, Val Loss: 2712.4751, Pearson R: nan, RMSE: 63.7741\n",
      "{'batch_size': 16, 'lr': 0.001, 'dropout': 0.2, 'lr_decay': 0.001, 'layers': 4, 'hidden_dim': 400}\n"
     ]
    },
    {
     "name": "stderr",
     "output_type": "stream",
     "text": [
      "/home/samsonm/miniconda3/envs/multi_modal_DL/lib/python3.10/site-packages/scipy/stats/_stats_py.py:4424: ConstantInputWarning: An input array is constant; the correlation coefficient is not defined.\n",
      "  warnings.warn(stats.ConstantInputWarning(msg))\n"
     ]
    },
    {
     "name": "stdout",
     "output_type": "stream",
     "text": [
      "Epoch: 7/100, Val Loss: 2719.4333, Pearson R: nan, RMSE: 63.8287\n",
      "{'batch_size': 16, 'lr': 0.001, 'dropout': 0.2, 'lr_decay': 0.001, 'layers': 4, 'hidden_dim': 800}\n"
     ]
    },
    {
     "name": "stderr",
     "output_type": "stream",
     "text": [
      "/home/samsonm/miniconda3/envs/multi_modal_DL/lib/python3.10/site-packages/scipy/stats/_stats_py.py:4424: ConstantInputWarning: An input array is constant; the correlation coefficient is not defined.\n",
      "  warnings.warn(stats.ConstantInputWarning(msg))\n"
     ]
    },
    {
     "name": "stdout",
     "output_type": "stream",
     "text": [
      "Epoch: 12/100, Val Loss: 2709.3369, Pearson R: nan, RMSE: 63.7495\n",
      "{'batch_size': 16, 'lr': 0.001, 'dropout': 0.2, 'lr_decay': 0.0001, 'layers': 2, 'hidden_dim': 400}\n"
     ]
    },
    {
     "name": "stderr",
     "output_type": "stream",
     "text": [
      "/home/samsonm/miniconda3/envs/multi_modal_DL/lib/python3.10/site-packages/scipy/stats/_stats_py.py:4424: ConstantInputWarning: An input array is constant; the correlation coefficient is not defined.\n",
      "  warnings.warn(stats.ConstantInputWarning(msg))\n"
     ]
    },
    {
     "name": "stdout",
     "output_type": "stream",
     "text": [
      "Epoch: 6/100, Val Loss: 2712.3838, Pearson R: nan, RMSE: 63.7734\n",
      "{'batch_size': 16, 'lr': 0.001, 'dropout': 0.2, 'lr_decay': 0.0001, 'layers': 2, 'hidden_dim': 800}\n"
     ]
    },
    {
     "name": "stderr",
     "output_type": "stream",
     "text": [
      "/home/samsonm/miniconda3/envs/multi_modal_DL/lib/python3.10/site-packages/scipy/stats/_stats_py.py:4424: ConstantInputWarning: An input array is constant; the correlation coefficient is not defined.\n",
      "  warnings.warn(stats.ConstantInputWarning(msg))\n"
     ]
    },
    {
     "name": "stdout",
     "output_type": "stream",
     "text": [
      "Epoch: 7/100, Val Loss: 2710.7439, Pearson R: nan, RMSE: 63.7606\n",
      "{'batch_size': 16, 'lr': 0.001, 'dropout': 0.2, 'lr_decay': 0.0001, 'layers': 4, 'hidden_dim': 400}\n"
     ]
    },
    {
     "name": "stderr",
     "output_type": "stream",
     "text": [
      "/home/samsonm/miniconda3/envs/multi_modal_DL/lib/python3.10/site-packages/scipy/stats/_stats_py.py:4424: ConstantInputWarning: An input array is constant; the correlation coefficient is not defined.\n",
      "  warnings.warn(stats.ConstantInputWarning(msg))\n"
     ]
    },
    {
     "name": "stdout",
     "output_type": "stream",
     "text": [
      "Epoch: 6/100, Val Loss: 2733.1514, Pearson R: nan, RMSE: 63.9360\n",
      "{'batch_size': 16, 'lr': 0.001, 'dropout': 0.2, 'lr_decay': 0.0001, 'layers': 4, 'hidden_dim': 800}\n"
     ]
    },
    {
     "name": "stderr",
     "output_type": "stream",
     "text": [
      "/home/samsonm/miniconda3/envs/multi_modal_DL/lib/python3.10/site-packages/scipy/stats/_stats_py.py:4424: ConstantInputWarning: An input array is constant; the correlation coefficient is not defined.\n",
      "  warnings.warn(stats.ConstantInputWarning(msg))\n"
     ]
    },
    {
     "name": "stdout",
     "output_type": "stream",
     "text": [
      "Epoch: 12/100, Val Loss: 2709.6831, Pearson R: nan, RMSE: 63.7523\n",
      "{'batch_size': 16, 'lr': 0.001, 'dropout': 0.3, 'lr_decay': 0.1, 'layers': 2, 'hidden_dim': 400}\n"
     ]
    },
    {
     "name": "stderr",
     "output_type": "stream",
     "text": [
      "/home/samsonm/miniconda3/envs/multi_modal_DL/lib/python3.10/site-packages/scipy/stats/_stats_py.py:4424: ConstantInputWarning: An input array is constant; the correlation coefficient is not defined.\n",
      "  warnings.warn(stats.ConstantInputWarning(msg))\n"
     ]
    },
    {
     "name": "stdout",
     "output_type": "stream",
     "text": [
      "Epoch: 6/100, Val Loss: 2710.9177, Pearson R: nan, RMSE: 63.7619\n",
      "{'batch_size': 16, 'lr': 0.001, 'dropout': 0.3, 'lr_decay': 0.1, 'layers': 2, 'hidden_dim': 800}\n"
     ]
    },
    {
     "name": "stderr",
     "output_type": "stream",
     "text": [
      "/home/samsonm/miniconda3/envs/multi_modal_DL/lib/python3.10/site-packages/scipy/stats/_stats_py.py:4424: ConstantInputWarning: An input array is constant; the correlation coefficient is not defined.\n",
      "  warnings.warn(stats.ConstantInputWarning(msg))\n"
     ]
    },
    {
     "name": "stdout",
     "output_type": "stream",
     "text": [
      "Epoch: 7/100, Val Loss: 2709.8657, Pearson R: nan, RMSE: 63.7537\n",
      "{'batch_size': 16, 'lr': 0.001, 'dropout': 0.3, 'lr_decay': 0.1, 'layers': 4, 'hidden_dim': 400}\n"
     ]
    },
    {
     "name": "stderr",
     "output_type": "stream",
     "text": [
      "/home/samsonm/miniconda3/envs/multi_modal_DL/lib/python3.10/site-packages/scipy/stats/_stats_py.py:4424: ConstantInputWarning: An input array is constant; the correlation coefficient is not defined.\n",
      "  warnings.warn(stats.ConstantInputWarning(msg))\n"
     ]
    },
    {
     "name": "stdout",
     "output_type": "stream",
     "text": [
      "Epoch: 7/100, Val Loss: 2712.1968, Pearson R: nan, RMSE: 63.7720\n",
      "{'batch_size': 16, 'lr': 0.001, 'dropout': 0.3, 'lr_decay': 0.1, 'layers': 4, 'hidden_dim': 800}\n"
     ]
    },
    {
     "name": "stderr",
     "output_type": "stream",
     "text": [
      "/home/samsonm/miniconda3/envs/multi_modal_DL/lib/python3.10/site-packages/scipy/stats/_stats_py.py:4424: ConstantInputWarning: An input array is constant; the correlation coefficient is not defined.\n",
      "  warnings.warn(stats.ConstantInputWarning(msg))\n"
     ]
    },
    {
     "name": "stdout",
     "output_type": "stream",
     "text": [
      "Epoch: 12/100, Val Loss: 2711.6040, Pearson R: nan, RMSE: 63.7673\n",
      "{'batch_size': 16, 'lr': 0.001, 'dropout': 0.3, 'lr_decay': 0.01, 'layers': 2, 'hidden_dim': 400}\n"
     ]
    },
    {
     "name": "stderr",
     "output_type": "stream",
     "text": [
      "/home/samsonm/miniconda3/envs/multi_modal_DL/lib/python3.10/site-packages/scipy/stats/_stats_py.py:4424: ConstantInputWarning: An input array is constant; the correlation coefficient is not defined.\n",
      "  warnings.warn(stats.ConstantInputWarning(msg))\n"
     ]
    },
    {
     "name": "stdout",
     "output_type": "stream",
     "text": [
      "Epoch: 6/100, Val Loss: 2716.5947, Pearson R: nan, RMSE: 63.8064\n",
      "{'batch_size': 16, 'lr': 0.001, 'dropout': 0.3, 'lr_decay': 0.01, 'layers': 2, 'hidden_dim': 800}\n"
     ]
    },
    {
     "name": "stderr",
     "output_type": "stream",
     "text": [
      "/home/samsonm/miniconda3/envs/multi_modal_DL/lib/python3.10/site-packages/scipy/stats/_stats_py.py:4424: ConstantInputWarning: An input array is constant; the correlation coefficient is not defined.\n",
      "  warnings.warn(stats.ConstantInputWarning(msg))\n"
     ]
    },
    {
     "name": "stdout",
     "output_type": "stream",
     "text": [
      "Epoch: 7/100, Val Loss: 2709.3428, Pearson R: nan, RMSE: 63.7496\n",
      "{'batch_size': 16, 'lr': 0.001, 'dropout': 0.3, 'lr_decay': 0.01, 'layers': 4, 'hidden_dim': 400}\n"
     ]
    },
    {
     "name": "stderr",
     "output_type": "stream",
     "text": [
      "/home/samsonm/miniconda3/envs/multi_modal_DL/lib/python3.10/site-packages/scipy/stats/_stats_py.py:4424: ConstantInputWarning: An input array is constant; the correlation coefficient is not defined.\n",
      "  warnings.warn(stats.ConstantInputWarning(msg))\n"
     ]
    },
    {
     "name": "stdout",
     "output_type": "stream",
     "text": [
      "Epoch: 6/100, Val Loss: 2718.6023, Pearson R: nan, RMSE: 63.8222\n",
      "{'batch_size': 16, 'lr': 0.001, 'dropout': 0.3, 'lr_decay': 0.01, 'layers': 4, 'hidden_dim': 800}\n"
     ]
    },
    {
     "name": "stderr",
     "output_type": "stream",
     "text": [
      "/home/samsonm/miniconda3/envs/multi_modal_DL/lib/python3.10/site-packages/scipy/stats/_stats_py.py:4424: ConstantInputWarning: An input array is constant; the correlation coefficient is not defined.\n",
      "  warnings.warn(stats.ConstantInputWarning(msg))\n"
     ]
    },
    {
     "name": "stdout",
     "output_type": "stream",
     "text": [
      "Epoch: 12/100, Val Loss: 2711.4397, Pearson R: nan, RMSE: 63.7660\n",
      "{'batch_size': 16, 'lr': 0.001, 'dropout': 0.3, 'lr_decay': 0.001, 'layers': 2, 'hidden_dim': 400}\n"
     ]
    },
    {
     "name": "stderr",
     "output_type": "stream",
     "text": [
      "/home/samsonm/miniconda3/envs/multi_modal_DL/lib/python3.10/site-packages/scipy/stats/_stats_py.py:4424: ConstantInputWarning: An input array is constant; the correlation coefficient is not defined.\n",
      "  warnings.warn(stats.ConstantInputWarning(msg))\n"
     ]
    },
    {
     "name": "stdout",
     "output_type": "stream",
     "text": [
      "Epoch: 6/100, Val Loss: 2711.4619, Pearson R: nan, RMSE: 63.7662\n",
      "{'batch_size': 16, 'lr': 0.001, 'dropout': 0.3, 'lr_decay': 0.001, 'layers': 2, 'hidden_dim': 800}\n"
     ]
    },
    {
     "name": "stderr",
     "output_type": "stream",
     "text": [
      "/home/samsonm/miniconda3/envs/multi_modal_DL/lib/python3.10/site-packages/scipy/stats/_stats_py.py:4424: ConstantInputWarning: An input array is constant; the correlation coefficient is not defined.\n",
      "  warnings.warn(stats.ConstantInputWarning(msg))\n"
     ]
    },
    {
     "name": "stdout",
     "output_type": "stream",
     "text": [
      "Epoch: 7/100, Val Loss: 2709.7158, Pearson R: nan, RMSE: 63.7525\n",
      "{'batch_size': 16, 'lr': 0.001, 'dropout': 0.3, 'lr_decay': 0.001, 'layers': 4, 'hidden_dim': 400}\n"
     ]
    },
    {
     "name": "stderr",
     "output_type": "stream",
     "text": [
      "/home/samsonm/miniconda3/envs/multi_modal_DL/lib/python3.10/site-packages/scipy/stats/_stats_py.py:4424: ConstantInputWarning: An input array is constant; the correlation coefficient is not defined.\n",
      "  warnings.warn(stats.ConstantInputWarning(msg))\n"
     ]
    },
    {
     "name": "stdout",
     "output_type": "stream",
     "text": [
      "Epoch: 7/100, Val Loss: 2711.1753, Pearson R: nan, RMSE: 63.7640\n",
      "{'batch_size': 16, 'lr': 0.001, 'dropout': 0.3, 'lr_decay': 0.001, 'layers': 4, 'hidden_dim': 800}\n"
     ]
    },
    {
     "name": "stderr",
     "output_type": "stream",
     "text": [
      "/home/samsonm/miniconda3/envs/multi_modal_DL/lib/python3.10/site-packages/scipy/stats/_stats_py.py:4424: ConstantInputWarning: An input array is constant; the correlation coefficient is not defined.\n",
      "  warnings.warn(stats.ConstantInputWarning(msg))\n"
     ]
    },
    {
     "name": "stdout",
     "output_type": "stream",
     "text": [
      "Epoch: 12/100, Val Loss: 2709.5601, Pearson R: nan, RMSE: 63.7513\n",
      "{'batch_size': 16, 'lr': 0.001, 'dropout': 0.3, 'lr_decay': 0.0001, 'layers': 2, 'hidden_dim': 400}\n"
     ]
    },
    {
     "name": "stderr",
     "output_type": "stream",
     "text": [
      "/home/samsonm/miniconda3/envs/multi_modal_DL/lib/python3.10/site-packages/scipy/stats/_stats_py.py:4424: ConstantInputWarning: An input array is constant; the correlation coefficient is not defined.\n",
      "  warnings.warn(stats.ConstantInputWarning(msg))\n"
     ]
    },
    {
     "name": "stdout",
     "output_type": "stream",
     "text": [
      "Epoch: 6/100, Val Loss: 2711.6206, Pearson R: nan, RMSE: 63.7674\n",
      "{'batch_size': 16, 'lr': 0.001, 'dropout': 0.3, 'lr_decay': 0.0001, 'layers': 2, 'hidden_dim': 800}\n"
     ]
    },
    {
     "name": "stderr",
     "output_type": "stream",
     "text": [
      "/home/samsonm/miniconda3/envs/multi_modal_DL/lib/python3.10/site-packages/scipy/stats/_stats_py.py:4424: ConstantInputWarning: An input array is constant; the correlation coefficient is not defined.\n",
      "  warnings.warn(stats.ConstantInputWarning(msg))\n"
     ]
    },
    {
     "name": "stdout",
     "output_type": "stream",
     "text": [
      "Epoch: 7/100, Val Loss: 2712.8059, Pearson R: nan, RMSE: 63.7767\n",
      "{'batch_size': 16, 'lr': 0.001, 'dropout': 0.3, 'lr_decay': 0.0001, 'layers': 4, 'hidden_dim': 400}\n"
     ]
    },
    {
     "name": "stderr",
     "output_type": "stream",
     "text": [
      "/home/samsonm/miniconda3/envs/multi_modal_DL/lib/python3.10/site-packages/scipy/stats/_stats_py.py:4424: ConstantInputWarning: An input array is constant; the correlation coefficient is not defined.\n",
      "  warnings.warn(stats.ConstantInputWarning(msg))\n"
     ]
    },
    {
     "name": "stdout",
     "output_type": "stream",
     "text": [
      "Epoch: 6/100, Val Loss: 2719.0750, Pearson R: nan, RMSE: 63.8259\n",
      "{'batch_size': 16, 'lr': 0.001, 'dropout': 0.3, 'lr_decay': 0.0001, 'layers': 4, 'hidden_dim': 800}\n"
     ]
    },
    {
     "name": "stderr",
     "output_type": "stream",
     "text": [
      "/home/samsonm/miniconda3/envs/multi_modal_DL/lib/python3.10/site-packages/scipy/stats/_stats_py.py:4424: ConstantInputWarning: An input array is constant; the correlation coefficient is not defined.\n",
      "  warnings.warn(stats.ConstantInputWarning(msg))\n"
     ]
    },
    {
     "name": "stdout",
     "output_type": "stream",
     "text": [
      "Epoch: 9/100, Val Loss: 2715.0994, Pearson R: nan, RMSE: 63.7947\n",
      "{'batch_size': 16, 'lr': 0.001, 'dropout': 0.4, 'lr_decay': 0.1, 'layers': 2, 'hidden_dim': 400}\n"
     ]
    },
    {
     "name": "stderr",
     "output_type": "stream",
     "text": [
      "/home/samsonm/miniconda3/envs/multi_modal_DL/lib/python3.10/site-packages/scipy/stats/_stats_py.py:4424: ConstantInputWarning: An input array is constant; the correlation coefficient is not defined.\n",
      "  warnings.warn(stats.ConstantInputWarning(msg))\n"
     ]
    },
    {
     "name": "stdout",
     "output_type": "stream",
     "text": [
      "Epoch: 6/100, Val Loss: 2710.4165, Pearson R: nan, RMSE: 63.7580\n",
      "{'batch_size': 16, 'lr': 0.001, 'dropout': 0.4, 'lr_decay': 0.1, 'layers': 2, 'hidden_dim': 800}\n"
     ]
    },
    {
     "name": "stderr",
     "output_type": "stream",
     "text": [
      "/home/samsonm/miniconda3/envs/multi_modal_DL/lib/python3.10/site-packages/scipy/stats/_stats_py.py:4424: ConstantInputWarning: An input array is constant; the correlation coefficient is not defined.\n",
      "  warnings.warn(stats.ConstantInputWarning(msg))\n"
     ]
    },
    {
     "name": "stdout",
     "output_type": "stream",
     "text": [
      "Epoch: 7/100, Val Loss: 2716.5933, Pearson R: nan, RMSE: 63.8064\n",
      "{'batch_size': 16, 'lr': 0.001, 'dropout': 0.4, 'lr_decay': 0.1, 'layers': 4, 'hidden_dim': 400}\n"
     ]
    },
    {
     "name": "stderr",
     "output_type": "stream",
     "text": [
      "/home/samsonm/miniconda3/envs/multi_modal_DL/lib/python3.10/site-packages/scipy/stats/_stats_py.py:4424: ConstantInputWarning: An input array is constant; the correlation coefficient is not defined.\n",
      "  warnings.warn(stats.ConstantInputWarning(msg))\n"
     ]
    },
    {
     "name": "stdout",
     "output_type": "stream",
     "text": [
      "Epoch: 6/100, Val Loss: 2710.7026, Pearson R: nan, RMSE: 63.7602\n",
      "{'batch_size': 16, 'lr': 0.001, 'dropout': 0.4, 'lr_decay': 0.1, 'layers': 4, 'hidden_dim': 800}\n"
     ]
    },
    {
     "name": "stderr",
     "output_type": "stream",
     "text": [
      "/home/samsonm/miniconda3/envs/multi_modal_DL/lib/python3.10/site-packages/scipy/stats/_stats_py.py:4424: ConstantInputWarning: An input array is constant; the correlation coefficient is not defined.\n",
      "  warnings.warn(stats.ConstantInputWarning(msg))\n"
     ]
    },
    {
     "name": "stdout",
     "output_type": "stream",
     "text": [
      "Epoch: 12/100, Val Loss: 2710.5459, Pearson R: nan, RMSE: 63.7590\n",
      "{'batch_size': 16, 'lr': 0.001, 'dropout': 0.4, 'lr_decay': 0.01, 'layers': 2, 'hidden_dim': 400}\n"
     ]
    },
    {
     "name": "stderr",
     "output_type": "stream",
     "text": [
      "/home/samsonm/miniconda3/envs/multi_modal_DL/lib/python3.10/site-packages/scipy/stats/_stats_py.py:4424: ConstantInputWarning: An input array is constant; the correlation coefficient is not defined.\n",
      "  warnings.warn(stats.ConstantInputWarning(msg))\n"
     ]
    },
    {
     "name": "stdout",
     "output_type": "stream",
     "text": [
      "Epoch: 6/100, Val Loss: 2710.4370, Pearson R: nan, RMSE: 63.7582\n",
      "{'batch_size': 16, 'lr': 0.001, 'dropout': 0.4, 'lr_decay': 0.01, 'layers': 2, 'hidden_dim': 800}\n"
     ]
    },
    {
     "name": "stderr",
     "output_type": "stream",
     "text": [
      "/home/samsonm/miniconda3/envs/multi_modal_DL/lib/python3.10/site-packages/scipy/stats/_stats_py.py:4424: ConstantInputWarning: An input array is constant; the correlation coefficient is not defined.\n",
      "  warnings.warn(stats.ConstantInputWarning(msg))\n"
     ]
    },
    {
     "name": "stdout",
     "output_type": "stream",
     "text": [
      "Epoch: 7/100, Val Loss: 2711.3677, Pearson R: nan, RMSE: 63.7655\n",
      "{'batch_size': 16, 'lr': 0.001, 'dropout': 0.4, 'lr_decay': 0.01, 'layers': 4, 'hidden_dim': 400}\n"
     ]
    },
    {
     "name": "stderr",
     "output_type": "stream",
     "text": [
      "/home/samsonm/miniconda3/envs/multi_modal_DL/lib/python3.10/site-packages/scipy/stats/_stats_py.py:4424: ConstantInputWarning: An input array is constant; the correlation coefficient is not defined.\n",
      "  warnings.warn(stats.ConstantInputWarning(msg))\n"
     ]
    },
    {
     "name": "stdout",
     "output_type": "stream",
     "text": [
      "Epoch: 6/100, Val Loss: 2718.5654, Pearson R: nan, RMSE: 63.8219\n",
      "{'batch_size': 16, 'lr': 0.001, 'dropout': 0.4, 'lr_decay': 0.01, 'layers': 4, 'hidden_dim': 800}\n"
     ]
    },
    {
     "name": "stderr",
     "output_type": "stream",
     "text": [
      "/home/samsonm/miniconda3/envs/multi_modal_DL/lib/python3.10/site-packages/scipy/stats/_stats_py.py:4424: ConstantInputWarning: An input array is constant; the correlation coefficient is not defined.\n",
      "  warnings.warn(stats.ConstantInputWarning(msg))\n"
     ]
    },
    {
     "name": "stdout",
     "output_type": "stream",
     "text": [
      "Epoch: 13/100, Val Loss: 2710.2627, Pearson R: nan, RMSE: 63.7568\n",
      "{'batch_size': 16, 'lr': 0.001, 'dropout': 0.4, 'lr_decay': 0.001, 'layers': 2, 'hidden_dim': 400}\n"
     ]
    },
    {
     "name": "stderr",
     "output_type": "stream",
     "text": [
      "/home/samsonm/miniconda3/envs/multi_modal_DL/lib/python3.10/site-packages/scipy/stats/_stats_py.py:4424: ConstantInputWarning: An input array is constant; the correlation coefficient is not defined.\n",
      "  warnings.warn(stats.ConstantInputWarning(msg))\n"
     ]
    },
    {
     "name": "stdout",
     "output_type": "stream",
     "text": [
      "Epoch: 6/100, Val Loss: 2709.5518, Pearson R: nan, RMSE: 63.7512\n",
      "{'batch_size': 16, 'lr': 0.001, 'dropout': 0.4, 'lr_decay': 0.001, 'layers': 2, 'hidden_dim': 800}\n"
     ]
    },
    {
     "name": "stderr",
     "output_type": "stream",
     "text": [
      "/home/samsonm/miniconda3/envs/multi_modal_DL/lib/python3.10/site-packages/scipy/stats/_stats_py.py:4424: ConstantInputWarning: An input array is constant; the correlation coefficient is not defined.\n",
      "  warnings.warn(stats.ConstantInputWarning(msg))\n"
     ]
    },
    {
     "name": "stdout",
     "output_type": "stream",
     "text": [
      "Epoch: 6/100, Val Loss: 2721.3105, Pearson R: nan, RMSE: 63.8434\n",
      "{'batch_size': 16, 'lr': 0.001, 'dropout': 0.4, 'lr_decay': 0.001, 'layers': 4, 'hidden_dim': 400}\n"
     ]
    },
    {
     "name": "stderr",
     "output_type": "stream",
     "text": [
      "/home/samsonm/miniconda3/envs/multi_modal_DL/lib/python3.10/site-packages/scipy/stats/_stats_py.py:4424: ConstantInputWarning: An input array is constant; the correlation coefficient is not defined.\n",
      "  warnings.warn(stats.ConstantInputWarning(msg))\n"
     ]
    },
    {
     "name": "stdout",
     "output_type": "stream",
     "text": [
      "Epoch: 6/100, Val Loss: 2715.5837, Pearson R: nan, RMSE: 63.7985\n",
      "{'batch_size': 16, 'lr': 0.001, 'dropout': 0.4, 'lr_decay': 0.001, 'layers': 4, 'hidden_dim': 800}\n"
     ]
    },
    {
     "name": "stderr",
     "output_type": "stream",
     "text": [
      "/home/samsonm/miniconda3/envs/multi_modal_DL/lib/python3.10/site-packages/scipy/stats/_stats_py.py:4424: ConstantInputWarning: An input array is constant; the correlation coefficient is not defined.\n",
      "  warnings.warn(stats.ConstantInputWarning(msg))\n"
     ]
    },
    {
     "name": "stdout",
     "output_type": "stream",
     "text": [
      "Epoch: 12/100, Val Loss: 2709.3755, Pearson R: nan, RMSE: 63.7498\n",
      "{'batch_size': 16, 'lr': 0.001, 'dropout': 0.4, 'lr_decay': 0.0001, 'layers': 2, 'hidden_dim': 400}\n"
     ]
    },
    {
     "name": "stderr",
     "output_type": "stream",
     "text": [
      "/home/samsonm/miniconda3/envs/multi_modal_DL/lib/python3.10/site-packages/scipy/stats/_stats_py.py:4424: ConstantInputWarning: An input array is constant; the correlation coefficient is not defined.\n",
      "  warnings.warn(stats.ConstantInputWarning(msg))\n"
     ]
    },
    {
     "name": "stdout",
     "output_type": "stream",
     "text": [
      "Epoch: 6/100, Val Loss: 2710.7471, Pearson R: nan, RMSE: 63.7606\n",
      "{'batch_size': 16, 'lr': 0.001, 'dropout': 0.4, 'lr_decay': 0.0001, 'layers': 2, 'hidden_dim': 800}\n"
     ]
    },
    {
     "name": "stderr",
     "output_type": "stream",
     "text": [
      "/home/samsonm/miniconda3/envs/multi_modal_DL/lib/python3.10/site-packages/scipy/stats/_stats_py.py:4424: ConstantInputWarning: An input array is constant; the correlation coefficient is not defined.\n",
      "  warnings.warn(stats.ConstantInputWarning(msg))\n"
     ]
    },
    {
     "name": "stdout",
     "output_type": "stream",
     "text": [
      "Epoch: 7/100, Val Loss: 2711.3171, Pearson R: nan, RMSE: 63.7651\n",
      "{'batch_size': 16, 'lr': 0.001, 'dropout': 0.4, 'lr_decay': 0.0001, 'layers': 4, 'hidden_dim': 400}\n"
     ]
    },
    {
     "name": "stderr",
     "output_type": "stream",
     "text": [
      "/home/samsonm/miniconda3/envs/multi_modal_DL/lib/python3.10/site-packages/scipy/stats/_stats_py.py:4424: ConstantInputWarning: An input array is constant; the correlation coefficient is not defined.\n",
      "  warnings.warn(stats.ConstantInputWarning(msg))\n"
     ]
    },
    {
     "name": "stdout",
     "output_type": "stream",
     "text": [
      "Epoch: 7/100, Val Loss: 2712.6328, Pearson R: nan, RMSE: 63.7754\n",
      "{'batch_size': 16, 'lr': 0.001, 'dropout': 0.4, 'lr_decay': 0.0001, 'layers': 4, 'hidden_dim': 800}\n"
     ]
    },
    {
     "name": "stderr",
     "output_type": "stream",
     "text": [
      "/home/samsonm/miniconda3/envs/multi_modal_DL/lib/python3.10/site-packages/scipy/stats/_stats_py.py:4424: ConstantInputWarning: An input array is constant; the correlation coefficient is not defined.\n",
      "  warnings.warn(stats.ConstantInputWarning(msg))\n"
     ]
    },
    {
     "name": "stdout",
     "output_type": "stream",
     "text": [
      "Epoch: 9/100, Val Loss: 2709.4741, Pearson R: nan, RMSE: 63.7506\n",
      "{'batch_size': 16, 'lr': 0.001, 'dropout': 0.5, 'lr_decay': 0.1, 'layers': 2, 'hidden_dim': 400}\n"
     ]
    },
    {
     "name": "stderr",
     "output_type": "stream",
     "text": [
      "/home/samsonm/miniconda3/envs/multi_modal_DL/lib/python3.10/site-packages/scipy/stats/_stats_py.py:4424: ConstantInputWarning: An input array is constant; the correlation coefficient is not defined.\n",
      "  warnings.warn(stats.ConstantInputWarning(msg))\n"
     ]
    },
    {
     "name": "stdout",
     "output_type": "stream",
     "text": [
      "Epoch: 6/100, Val Loss: 2709.3667, Pearson R: nan, RMSE: 63.7498\n",
      "{'batch_size': 16, 'lr': 0.001, 'dropout': 0.5, 'lr_decay': 0.1, 'layers': 2, 'hidden_dim': 800}\n"
     ]
    },
    {
     "name": "stderr",
     "output_type": "stream",
     "text": [
      "/home/samsonm/miniconda3/envs/multi_modal_DL/lib/python3.10/site-packages/scipy/stats/_stats_py.py:4424: ConstantInputWarning: An input array is constant; the correlation coefficient is not defined.\n",
      "  warnings.warn(stats.ConstantInputWarning(msg))\n"
     ]
    },
    {
     "name": "stdout",
     "output_type": "stream",
     "text": [
      "Epoch: 6/100, Val Loss: 2711.8853, Pearson R: nan, RMSE: 63.7695\n",
      "{'batch_size': 16, 'lr': 0.001, 'dropout': 0.5, 'lr_decay': 0.1, 'layers': 4, 'hidden_dim': 400}\n"
     ]
    },
    {
     "name": "stderr",
     "output_type": "stream",
     "text": [
      "/home/samsonm/miniconda3/envs/multi_modal_DL/lib/python3.10/site-packages/scipy/stats/_stats_py.py:4424: ConstantInputWarning: An input array is constant; the correlation coefficient is not defined.\n",
      "  warnings.warn(stats.ConstantInputWarning(msg))\n"
     ]
    },
    {
     "name": "stdout",
     "output_type": "stream",
     "text": [
      "Epoch: 7/100, Val Loss: 2711.6133, Pearson R: nan, RMSE: 63.7674\n",
      "{'batch_size': 16, 'lr': 0.001, 'dropout': 0.5, 'lr_decay': 0.1, 'layers': 4, 'hidden_dim': 800}\n"
     ]
    },
    {
     "name": "stderr",
     "output_type": "stream",
     "text": [
      "/home/samsonm/miniconda3/envs/multi_modal_DL/lib/python3.10/site-packages/scipy/stats/_stats_py.py:4424: ConstantInputWarning: An input array is constant; the correlation coefficient is not defined.\n",
      "  warnings.warn(stats.ConstantInputWarning(msg))\n"
     ]
    },
    {
     "name": "stdout",
     "output_type": "stream",
     "text": [
      "Epoch: 13/100, Val Loss: 2711.9614, Pearson R: nan, RMSE: 63.7701\n",
      "{'batch_size': 16, 'lr': 0.001, 'dropout': 0.5, 'lr_decay': 0.01, 'layers': 2, 'hidden_dim': 400}\n"
     ]
    },
    {
     "name": "stderr",
     "output_type": "stream",
     "text": [
      "/home/samsonm/miniconda3/envs/multi_modal_DL/lib/python3.10/site-packages/scipy/stats/_stats_py.py:4424: ConstantInputWarning: An input array is constant; the correlation coefficient is not defined.\n",
      "  warnings.warn(stats.ConstantInputWarning(msg))\n"
     ]
    },
    {
     "name": "stdout",
     "output_type": "stream",
     "text": [
      "Epoch: 6/100, Val Loss: 2709.3398, Pearson R: nan, RMSE: 63.7496\n",
      "{'batch_size': 16, 'lr': 0.001, 'dropout': 0.5, 'lr_decay': 0.01, 'layers': 2, 'hidden_dim': 800}\n"
     ]
    },
    {
     "name": "stderr",
     "output_type": "stream",
     "text": [
      "/home/samsonm/miniconda3/envs/multi_modal_DL/lib/python3.10/site-packages/scipy/stats/_stats_py.py:4424: ConstantInputWarning: An input array is constant; the correlation coefficient is not defined.\n",
      "  warnings.warn(stats.ConstantInputWarning(msg))\n"
     ]
    },
    {
     "name": "stdout",
     "output_type": "stream",
     "text": [
      "Epoch: 6/100, Val Loss: 2712.1299, Pearson R: nan, RMSE: 63.7714\n",
      "{'batch_size': 16, 'lr': 0.001, 'dropout': 0.5, 'lr_decay': 0.01, 'layers': 4, 'hidden_dim': 400}\n"
     ]
    },
    {
     "name": "stderr",
     "output_type": "stream",
     "text": [
      "/home/samsonm/miniconda3/envs/multi_modal_DL/lib/python3.10/site-packages/scipy/stats/_stats_py.py:4424: ConstantInputWarning: An input array is constant; the correlation coefficient is not defined.\n",
      "  warnings.warn(stats.ConstantInputWarning(msg))\n"
     ]
    },
    {
     "name": "stdout",
     "output_type": "stream",
     "text": [
      "Epoch: 6/100, Val Loss: 2711.6934, Pearson R: nan, RMSE: 63.7680\n",
      "{'batch_size': 16, 'lr': 0.001, 'dropout': 0.5, 'lr_decay': 0.01, 'layers': 4, 'hidden_dim': 800}\n"
     ]
    },
    {
     "name": "stderr",
     "output_type": "stream",
     "text": [
      "/home/samsonm/miniconda3/envs/multi_modal_DL/lib/python3.10/site-packages/scipy/stats/_stats_py.py:4424: ConstantInputWarning: An input array is constant; the correlation coefficient is not defined.\n",
      "  warnings.warn(stats.ConstantInputWarning(msg))\n"
     ]
    },
    {
     "name": "stdout",
     "output_type": "stream",
     "text": [
      "Epoch: 11/100, Val Loss: 2715.9080, Pearson R: nan, RMSE: 63.8011\n",
      "{'batch_size': 16, 'lr': 0.001, 'dropout': 0.5, 'lr_decay': 0.001, 'layers': 2, 'hidden_dim': 400}\n"
     ]
    },
    {
     "name": "stderr",
     "output_type": "stream",
     "text": [
      "/home/samsonm/miniconda3/envs/multi_modal_DL/lib/python3.10/site-packages/scipy/stats/_stats_py.py:4424: ConstantInputWarning: An input array is constant; the correlation coefficient is not defined.\n",
      "  warnings.warn(stats.ConstantInputWarning(msg))\n"
     ]
    },
    {
     "name": "stdout",
     "output_type": "stream",
     "text": [
      "Epoch: 6/100, Val Loss: 2709.3657, Pearson R: nan, RMSE: 63.7498\n",
      "{'batch_size': 16, 'lr': 0.001, 'dropout': 0.5, 'lr_decay': 0.001, 'layers': 2, 'hidden_dim': 800}\n"
     ]
    },
    {
     "name": "stderr",
     "output_type": "stream",
     "text": [
      "/home/samsonm/miniconda3/envs/multi_modal_DL/lib/python3.10/site-packages/scipy/stats/_stats_py.py:4424: ConstantInputWarning: An input array is constant; the correlation coefficient is not defined.\n",
      "  warnings.warn(stats.ConstantInputWarning(msg))\n"
     ]
    },
    {
     "name": "stdout",
     "output_type": "stream",
     "text": [
      "Epoch: 6/100, Val Loss: 2710.8047, Pearson R: nan, RMSE: 63.7610\n",
      "{'batch_size': 16, 'lr': 0.001, 'dropout': 0.5, 'lr_decay': 0.001, 'layers': 4, 'hidden_dim': 400}\n"
     ]
    },
    {
     "name": "stderr",
     "output_type": "stream",
     "text": [
      "/home/samsonm/miniconda3/envs/multi_modal_DL/lib/python3.10/site-packages/scipy/stats/_stats_py.py:4424: ConstantInputWarning: An input array is constant; the correlation coefficient is not defined.\n",
      "  warnings.warn(stats.ConstantInputWarning(msg))\n"
     ]
    },
    {
     "name": "stdout",
     "output_type": "stream",
     "text": [
      "Epoch: 6/100, Val Loss: 2710.2383, Pearson R: nan, RMSE: 63.7566\n",
      "{'batch_size': 16, 'lr': 0.001, 'dropout': 0.5, 'lr_decay': 0.001, 'layers': 4, 'hidden_dim': 800}\n"
     ]
    },
    {
     "name": "stderr",
     "output_type": "stream",
     "text": [
      "/home/samsonm/miniconda3/envs/multi_modal_DL/lib/python3.10/site-packages/scipy/stats/_stats_py.py:4424: ConstantInputWarning: An input array is constant; the correlation coefficient is not defined.\n",
      "  warnings.warn(stats.ConstantInputWarning(msg))\n"
     ]
    },
    {
     "name": "stdout",
     "output_type": "stream",
     "text": [
      "Epoch: 10/100, Val Loss: 2711.2290, Pearson R: nan, RMSE: 63.7644\n",
      "{'batch_size': 16, 'lr': 0.001, 'dropout': 0.5, 'lr_decay': 0.0001, 'layers': 2, 'hidden_dim': 400}\n"
     ]
    },
    {
     "name": "stderr",
     "output_type": "stream",
     "text": [
      "/home/samsonm/miniconda3/envs/multi_modal_DL/lib/python3.10/site-packages/scipy/stats/_stats_py.py:4424: ConstantInputWarning: An input array is constant; the correlation coefficient is not defined.\n",
      "  warnings.warn(stats.ConstantInputWarning(msg))\n"
     ]
    },
    {
     "name": "stdout",
     "output_type": "stream",
     "text": [
      "Epoch: 6/100, Val Loss: 2710.8506, Pearson R: nan, RMSE: 63.7614\n",
      "{'batch_size': 16, 'lr': 0.001, 'dropout': 0.5, 'lr_decay': 0.0001, 'layers': 2, 'hidden_dim': 800}\n"
     ]
    },
    {
     "name": "stderr",
     "output_type": "stream",
     "text": [
      "/home/samsonm/miniconda3/envs/multi_modal_DL/lib/python3.10/site-packages/scipy/stats/_stats_py.py:4424: ConstantInputWarning: An input array is constant; the correlation coefficient is not defined.\n",
      "  warnings.warn(stats.ConstantInputWarning(msg))\n"
     ]
    },
    {
     "name": "stdout",
     "output_type": "stream",
     "text": [
      "Epoch: 6/100, Val Loss: 2715.0137, Pearson R: nan, RMSE: 63.7940\n",
      "{'batch_size': 16, 'lr': 0.001, 'dropout': 0.5, 'lr_decay': 0.0001, 'layers': 4, 'hidden_dim': 400}\n"
     ]
    },
    {
     "name": "stderr",
     "output_type": "stream",
     "text": [
      "/home/samsonm/miniconda3/envs/multi_modal_DL/lib/python3.10/site-packages/scipy/stats/_stats_py.py:4424: ConstantInputWarning: An input array is constant; the correlation coefficient is not defined.\n",
      "  warnings.warn(stats.ConstantInputWarning(msg))\n"
     ]
    },
    {
     "name": "stdout",
     "output_type": "stream",
     "text": [
      "Epoch: 7/100, Val Loss: 2714.4226, Pearson R: nan, RMSE: 63.7894\n",
      "{'batch_size': 16, 'lr': 0.001, 'dropout': 0.5, 'lr_decay': 0.0001, 'layers': 4, 'hidden_dim': 800}\n"
     ]
    },
    {
     "name": "stderr",
     "output_type": "stream",
     "text": [
      "/home/samsonm/miniconda3/envs/multi_modal_DL/lib/python3.10/site-packages/scipy/stats/_stats_py.py:4424: ConstantInputWarning: An input array is constant; the correlation coefficient is not defined.\n",
      "  warnings.warn(stats.ConstantInputWarning(msg))\n"
     ]
    },
    {
     "name": "stdout",
     "output_type": "stream",
     "text": [
      "Epoch: 11/100, Val Loss: 2711.5889, Pearson R: nan, RMSE: 63.7672\n",
      "{'batch_size': 16, 'lr': 0.0001, 'dropout': 0.1, 'lr_decay': 0.1, 'layers': 2, 'hidden_dim': 400}\n"
     ]
    },
    {
     "name": "stderr",
     "output_type": "stream",
     "text": [
      "/home/samsonm/miniconda3/envs/multi_modal_DL/lib/python3.10/site-packages/scipy/stats/_stats_py.py:4424: ConstantInputWarning: An input array is constant; the correlation coefficient is not defined.\n",
      "  warnings.warn(stats.ConstantInputWarning(msg))\n"
     ]
    },
    {
     "name": "stdout",
     "output_type": "stream",
     "text": [
      "Epoch: 6/100, Val Loss: 2709.3467, Pearson R: nan, RMSE: 63.7496\n",
      "{'batch_size': 16, 'lr': 0.0001, 'dropout': 0.1, 'lr_decay': 0.1, 'layers': 2, 'hidden_dim': 800}\n"
     ]
    },
    {
     "name": "stderr",
     "output_type": "stream",
     "text": [
      "/home/samsonm/miniconda3/envs/multi_modal_DL/lib/python3.10/site-packages/scipy/stats/_stats_py.py:4424: ConstantInputWarning: An input array is constant; the correlation coefficient is not defined.\n",
      "  warnings.warn(stats.ConstantInputWarning(msg))\n"
     ]
    },
    {
     "name": "stdout",
     "output_type": "stream",
     "text": [
      "Epoch: 9/100, Val Loss: 2709.3462, Pearson R: nan, RMSE: 63.7496\n",
      "{'batch_size': 16, 'lr': 0.0001, 'dropout': 0.1, 'lr_decay': 0.1, 'layers': 4, 'hidden_dim': 400}\n"
     ]
    },
    {
     "name": "stderr",
     "output_type": "stream",
     "text": [
      "/home/samsonm/miniconda3/envs/multi_modal_DL/lib/python3.10/site-packages/scipy/stats/_stats_py.py:4424: ConstantInputWarning: An input array is constant; the correlation coefficient is not defined.\n",
      "  warnings.warn(stats.ConstantInputWarning(msg))\n"
     ]
    },
    {
     "name": "stdout",
     "output_type": "stream",
     "text": [
      "Epoch: 6/100, Val Loss: 2709.5312, Pearson R: nan, RMSE: 63.7511\n",
      "{'batch_size': 16, 'lr': 0.0001, 'dropout': 0.1, 'lr_decay': 0.1, 'layers': 4, 'hidden_dim': 800}\n"
     ]
    },
    {
     "name": "stderr",
     "output_type": "stream",
     "text": [
      "/home/samsonm/miniconda3/envs/multi_modal_DL/lib/python3.10/site-packages/scipy/stats/_stats_py.py:4424: ConstantInputWarning: An input array is constant; the correlation coefficient is not defined.\n",
      "  warnings.warn(stats.ConstantInputWarning(msg))\n"
     ]
    },
    {
     "name": "stdout",
     "output_type": "stream",
     "text": [
      "Epoch: 7/100, Val Loss: 2711.2891, Pearson R: nan, RMSE: 63.7648\n",
      "{'batch_size': 16, 'lr': 0.0001, 'dropout': 0.1, 'lr_decay': 0.01, 'layers': 2, 'hidden_dim': 400}\n"
     ]
    },
    {
     "name": "stderr",
     "output_type": "stream",
     "text": [
      "/home/samsonm/miniconda3/envs/multi_modal_DL/lib/python3.10/site-packages/scipy/stats/_stats_py.py:4424: ConstantInputWarning: An input array is constant; the correlation coefficient is not defined.\n",
      "  warnings.warn(stats.ConstantInputWarning(msg))\n"
     ]
    },
    {
     "name": "stdout",
     "output_type": "stream",
     "text": [
      "Epoch: 6/100, Val Loss: 2709.3359, Pearson R: nan, RMSE: 63.7495\n",
      "{'batch_size': 16, 'lr': 0.0001, 'dropout': 0.1, 'lr_decay': 0.01, 'layers': 2, 'hidden_dim': 800}\n"
     ]
    },
    {
     "name": "stderr",
     "output_type": "stream",
     "text": [
      "/home/samsonm/miniconda3/envs/multi_modal_DL/lib/python3.10/site-packages/scipy/stats/_stats_py.py:4424: ConstantInputWarning: An input array is constant; the correlation coefficient is not defined.\n",
      "  warnings.warn(stats.ConstantInputWarning(msg))\n"
     ]
    },
    {
     "name": "stdout",
     "output_type": "stream",
     "text": [
      "Epoch: 9/100, Val Loss: 2709.3335, Pearson R: nan, RMSE: 63.7495\n",
      "{'batch_size': 16, 'lr': 0.0001, 'dropout': 0.1, 'lr_decay': 0.01, 'layers': 4, 'hidden_dim': 400}\n"
     ]
    },
    {
     "name": "stderr",
     "output_type": "stream",
     "text": [
      "/home/samsonm/miniconda3/envs/multi_modal_DL/lib/python3.10/site-packages/scipy/stats/_stats_py.py:4424: ConstantInputWarning: An input array is constant; the correlation coefficient is not defined.\n",
      "  warnings.warn(stats.ConstantInputWarning(msg))\n"
     ]
    },
    {
     "name": "stdout",
     "output_type": "stream",
     "text": [
      "Epoch: 6/100, Val Loss: 2709.5156, Pearson R: nan, RMSE: 63.7509\n",
      "{'batch_size': 16, 'lr': 0.0001, 'dropout': 0.1, 'lr_decay': 0.01, 'layers': 4, 'hidden_dim': 800}\n"
     ]
    },
    {
     "name": "stderr",
     "output_type": "stream",
     "text": [
      "/home/samsonm/miniconda3/envs/multi_modal_DL/lib/python3.10/site-packages/scipy/stats/_stats_py.py:4424: ConstantInputWarning: An input array is constant; the correlation coefficient is not defined.\n",
      "  warnings.warn(stats.ConstantInputWarning(msg))\n"
     ]
    },
    {
     "name": "stdout",
     "output_type": "stream",
     "text": [
      "Epoch: 6/100, Val Loss: 2711.5701, Pearson R: nan, RMSE: 63.7670\n",
      "{'batch_size': 16, 'lr': 0.0001, 'dropout': 0.1, 'lr_decay': 0.001, 'layers': 2, 'hidden_dim': 400}\n"
     ]
    },
    {
     "name": "stderr",
     "output_type": "stream",
     "text": [
      "/home/samsonm/miniconda3/envs/multi_modal_DL/lib/python3.10/site-packages/scipy/stats/_stats_py.py:4424: ConstantInputWarning: An input array is constant; the correlation coefficient is not defined.\n",
      "  warnings.warn(stats.ConstantInputWarning(msg))\n"
     ]
    },
    {
     "name": "stdout",
     "output_type": "stream",
     "text": [
      "Epoch: 6/100, Val Loss: 2709.3337, Pearson R: nan, RMSE: 63.7495\n",
      "{'batch_size': 16, 'lr': 0.0001, 'dropout': 0.1, 'lr_decay': 0.001, 'layers': 2, 'hidden_dim': 800}\n"
     ]
    },
    {
     "name": "stderr",
     "output_type": "stream",
     "text": [
      "/home/samsonm/miniconda3/envs/multi_modal_DL/lib/python3.10/site-packages/scipy/stats/_stats_py.py:4424: ConstantInputWarning: An input array is constant; the correlation coefficient is not defined.\n",
      "  warnings.warn(stats.ConstantInputWarning(msg))\n"
     ]
    },
    {
     "name": "stdout",
     "output_type": "stream",
     "text": [
      "Epoch: 9/100, Val Loss: 2709.3335, Pearson R: nan, RMSE: 63.7495\n",
      "{'batch_size': 16, 'lr': 0.0001, 'dropout': 0.1, 'lr_decay': 0.001, 'layers': 4, 'hidden_dim': 400}\n"
     ]
    },
    {
     "name": "stderr",
     "output_type": "stream",
     "text": [
      "/home/samsonm/miniconda3/envs/multi_modal_DL/lib/python3.10/site-packages/scipy/stats/_stats_py.py:4424: ConstantInputWarning: An input array is constant; the correlation coefficient is not defined.\n",
      "  warnings.warn(stats.ConstantInputWarning(msg))\n"
     ]
    },
    {
     "name": "stdout",
     "output_type": "stream",
     "text": [
      "Epoch: 6/100, Val Loss: 2709.5088, Pearson R: nan, RMSE: 63.7509\n",
      "{'batch_size': 16, 'lr': 0.0001, 'dropout': 0.1, 'lr_decay': 0.001, 'layers': 4, 'hidden_dim': 800}\n"
     ]
    },
    {
     "name": "stderr",
     "output_type": "stream",
     "text": [
      "/home/samsonm/miniconda3/envs/multi_modal_DL/lib/python3.10/site-packages/scipy/stats/_stats_py.py:4424: ConstantInputWarning: An input array is constant; the correlation coefficient is not defined.\n",
      "  warnings.warn(stats.ConstantInputWarning(msg))\n"
     ]
    },
    {
     "name": "stdout",
     "output_type": "stream",
     "text": [
      "Epoch: 6/100, Val Loss: 2711.8169, Pearson R: nan, RMSE: 63.7690\n",
      "{'batch_size': 16, 'lr': 0.0001, 'dropout': 0.1, 'lr_decay': 0.0001, 'layers': 2, 'hidden_dim': 400}\n"
     ]
    },
    {
     "name": "stderr",
     "output_type": "stream",
     "text": [
      "/home/samsonm/miniconda3/envs/multi_modal_DL/lib/python3.10/site-packages/scipy/stats/_stats_py.py:4424: ConstantInputWarning: An input array is constant; the correlation coefficient is not defined.\n",
      "  warnings.warn(stats.ConstantInputWarning(msg))\n"
     ]
    },
    {
     "name": "stdout",
     "output_type": "stream",
     "text": [
      "Epoch: 6/100, Val Loss: 2709.3599, Pearson R: nan, RMSE: 63.7497\n",
      "{'batch_size': 16, 'lr': 0.0001, 'dropout': 0.1, 'lr_decay': 0.0001, 'layers': 2, 'hidden_dim': 800}\n"
     ]
    },
    {
     "name": "stderr",
     "output_type": "stream",
     "text": [
      "/home/samsonm/miniconda3/envs/multi_modal_DL/lib/python3.10/site-packages/scipy/stats/_stats_py.py:4424: ConstantInputWarning: An input array is constant; the correlation coefficient is not defined.\n",
      "  warnings.warn(stats.ConstantInputWarning(msg))\n"
     ]
    },
    {
     "name": "stdout",
     "output_type": "stream",
     "text": [
      "Epoch: 8/100, Val Loss: 2709.7803, Pearson R: nan, RMSE: 63.7530\n",
      "{'batch_size': 16, 'lr': 0.0001, 'dropout': 0.1, 'lr_decay': 0.0001, 'layers': 4, 'hidden_dim': 400}\n"
     ]
    },
    {
     "name": "stderr",
     "output_type": "stream",
     "text": [
      "/home/samsonm/miniconda3/envs/multi_modal_DL/lib/python3.10/site-packages/scipy/stats/_stats_py.py:4424: ConstantInputWarning: An input array is constant; the correlation coefficient is not defined.\n",
      "  warnings.warn(stats.ConstantInputWarning(msg))\n"
     ]
    },
    {
     "name": "stdout",
     "output_type": "stream",
     "text": [
      "Epoch: 6/100, Val Loss: 2709.8252, Pearson R: nan, RMSE: 63.7534\n",
      "{'batch_size': 16, 'lr': 0.0001, 'dropout': 0.1, 'lr_decay': 0.0001, 'layers': 4, 'hidden_dim': 800}\n"
     ]
    },
    {
     "name": "stderr",
     "output_type": "stream",
     "text": [
      "/home/samsonm/miniconda3/envs/multi_modal_DL/lib/python3.10/site-packages/scipy/stats/_stats_py.py:4424: ConstantInputWarning: An input array is constant; the correlation coefficient is not defined.\n",
      "  warnings.warn(stats.ConstantInputWarning(msg))\n"
     ]
    },
    {
     "name": "stdout",
     "output_type": "stream",
     "text": [
      "Epoch: 7/100, Val Loss: 2710.5542, Pearson R: nan, RMSE: 63.7591\n",
      "{'batch_size': 16, 'lr': 0.0001, 'dropout': 0.2, 'lr_decay': 0.1, 'layers': 2, 'hidden_dim': 400}\n"
     ]
    },
    {
     "name": "stderr",
     "output_type": "stream",
     "text": [
      "/home/samsonm/miniconda3/envs/multi_modal_DL/lib/python3.10/site-packages/scipy/stats/_stats_py.py:4424: ConstantInputWarning: An input array is constant; the correlation coefficient is not defined.\n",
      "  warnings.warn(stats.ConstantInputWarning(msg))\n"
     ]
    },
    {
     "name": "stdout",
     "output_type": "stream",
     "text": [
      "Epoch: 6/100, Val Loss: 2709.4126, Pearson R: nan, RMSE: 63.7501\n",
      "{'batch_size': 16, 'lr': 0.0001, 'dropout': 0.2, 'lr_decay': 0.1, 'layers': 2, 'hidden_dim': 800}\n"
     ]
    },
    {
     "name": "stderr",
     "output_type": "stream",
     "text": [
      "/home/samsonm/miniconda3/envs/multi_modal_DL/lib/python3.10/site-packages/scipy/stats/_stats_py.py:4424: ConstantInputWarning: An input array is constant; the correlation coefficient is not defined.\n",
      "  warnings.warn(stats.ConstantInputWarning(msg))\n"
     ]
    },
    {
     "name": "stdout",
     "output_type": "stream",
     "text": [
      "Epoch: 6/100, Val Loss: 2709.8462, Pearson R: nan, RMSE: 63.7535\n",
      "{'batch_size': 16, 'lr': 0.0001, 'dropout': 0.2, 'lr_decay': 0.1, 'layers': 4, 'hidden_dim': 400}\n"
     ]
    },
    {
     "name": "stderr",
     "output_type": "stream",
     "text": [
      "/home/samsonm/miniconda3/envs/multi_modal_DL/lib/python3.10/site-packages/scipy/stats/_stats_py.py:4424: ConstantInputWarning: An input array is constant; the correlation coefficient is not defined.\n",
      "  warnings.warn(stats.ConstantInputWarning(msg))\n"
     ]
    },
    {
     "name": "stdout",
     "output_type": "stream",
     "text": [
      "Epoch: 6/100, Val Loss: 2709.4480, Pearson R: nan, RMSE: 63.7504\n",
      "{'batch_size': 16, 'lr': 0.0001, 'dropout': 0.2, 'lr_decay': 0.1, 'layers': 4, 'hidden_dim': 800}\n"
     ]
    },
    {
     "name": "stderr",
     "output_type": "stream",
     "text": [
      "/home/samsonm/miniconda3/envs/multi_modal_DL/lib/python3.10/site-packages/scipy/stats/_stats_py.py:4424: ConstantInputWarning: An input array is constant; the correlation coefficient is not defined.\n",
      "  warnings.warn(stats.ConstantInputWarning(msg))\n"
     ]
    },
    {
     "name": "stdout",
     "output_type": "stream",
     "text": [
      "Epoch: 6/100, Val Loss: 2711.6279, Pearson R: nan, RMSE: 63.7675\n",
      "{'batch_size': 16, 'lr': 0.0001, 'dropout': 0.2, 'lr_decay': 0.01, 'layers': 2, 'hidden_dim': 400}\n"
     ]
    },
    {
     "name": "stderr",
     "output_type": "stream",
     "text": [
      "/home/samsonm/miniconda3/envs/multi_modal_DL/lib/python3.10/site-packages/scipy/stats/_stats_py.py:4424: ConstantInputWarning: An input array is constant; the correlation coefficient is not defined.\n",
      "  warnings.warn(stats.ConstantInputWarning(msg))\n"
     ]
    },
    {
     "name": "stdout",
     "output_type": "stream",
     "text": [
      "Epoch: 6/100, Val Loss: 2709.3423, Pearson R: nan, RMSE: 63.7496\n",
      "{'batch_size': 16, 'lr': 0.0001, 'dropout': 0.2, 'lr_decay': 0.01, 'layers': 2, 'hidden_dim': 800}\n"
     ]
    },
    {
     "name": "stderr",
     "output_type": "stream",
     "text": [
      "/home/samsonm/miniconda3/envs/multi_modal_DL/lib/python3.10/site-packages/scipy/stats/_stats_py.py:4424: ConstantInputWarning: An input array is constant; the correlation coefficient is not defined.\n",
      "  warnings.warn(stats.ConstantInputWarning(msg))\n"
     ]
    },
    {
     "name": "stdout",
     "output_type": "stream",
     "text": [
      "Epoch: 6/100, Val Loss: 2710.1250, Pearson R: nan, RMSE: 63.7557\n",
      "{'batch_size': 16, 'lr': 0.0001, 'dropout': 0.2, 'lr_decay': 0.01, 'layers': 4, 'hidden_dim': 400}\n"
     ]
    },
    {
     "name": "stderr",
     "output_type": "stream",
     "text": [
      "/home/samsonm/miniconda3/envs/multi_modal_DL/lib/python3.10/site-packages/scipy/stats/_stats_py.py:4424: ConstantInputWarning: An input array is constant; the correlation coefficient is not defined.\n",
      "  warnings.warn(stats.ConstantInputWarning(msg))\n"
     ]
    },
    {
     "name": "stdout",
     "output_type": "stream",
     "text": [
      "Epoch: 6/100, Val Loss: 2709.3569, Pearson R: nan, RMSE: 63.7497\n",
      "{'batch_size': 16, 'lr': 0.0001, 'dropout': 0.2, 'lr_decay': 0.01, 'layers': 4, 'hidden_dim': 800}\n"
     ]
    },
    {
     "name": "stderr",
     "output_type": "stream",
     "text": [
      "/home/samsonm/miniconda3/envs/multi_modal_DL/lib/python3.10/site-packages/scipy/stats/_stats_py.py:4424: ConstantInputWarning: An input array is constant; the correlation coefficient is not defined.\n",
      "  warnings.warn(stats.ConstantInputWarning(msg))\n"
     ]
    },
    {
     "name": "stdout",
     "output_type": "stream",
     "text": [
      "Epoch: 6/100, Val Loss: 2711.6221, Pearson R: nan, RMSE: 63.7675\n",
      "{'batch_size': 16, 'lr': 0.0001, 'dropout': 0.2, 'lr_decay': 0.001, 'layers': 2, 'hidden_dim': 400}\n"
     ]
    },
    {
     "name": "stderr",
     "output_type": "stream",
     "text": [
      "/home/samsonm/miniconda3/envs/multi_modal_DL/lib/python3.10/site-packages/scipy/stats/_stats_py.py:4424: ConstantInputWarning: An input array is constant; the correlation coefficient is not defined.\n",
      "  warnings.warn(stats.ConstantInputWarning(msg))\n"
     ]
    },
    {
     "name": "stdout",
     "output_type": "stream",
     "text": [
      "Epoch: 6/100, Val Loss: 2709.3467, Pearson R: nan, RMSE: 63.7496\n",
      "{'batch_size': 16, 'lr': 0.0001, 'dropout': 0.2, 'lr_decay': 0.001, 'layers': 2, 'hidden_dim': 800}\n"
     ]
    },
    {
     "name": "stderr",
     "output_type": "stream",
     "text": [
      "/home/samsonm/miniconda3/envs/multi_modal_DL/lib/python3.10/site-packages/scipy/stats/_stats_py.py:4424: ConstantInputWarning: An input array is constant; the correlation coefficient is not defined.\n",
      "  warnings.warn(stats.ConstantInputWarning(msg))\n"
     ]
    },
    {
     "name": "stdout",
     "output_type": "stream",
     "text": [
      "Epoch: 6/100, Val Loss: 2709.8193, Pearson R: nan, RMSE: 63.7533\n",
      "{'batch_size': 16, 'lr': 0.0001, 'dropout': 0.2, 'lr_decay': 0.001, 'layers': 4, 'hidden_dim': 400}\n"
     ]
    },
    {
     "name": "stderr",
     "output_type": "stream",
     "text": [
      "/home/samsonm/miniconda3/envs/multi_modal_DL/lib/python3.10/site-packages/scipy/stats/_stats_py.py:4424: ConstantInputWarning: An input array is constant; the correlation coefficient is not defined.\n",
      "  warnings.warn(stats.ConstantInputWarning(msg))\n"
     ]
    },
    {
     "name": "stdout",
     "output_type": "stream",
     "text": [
      "Epoch: 6/100, Val Loss: 2709.3774, Pearson R: nan, RMSE: 63.7499\n",
      "{'batch_size': 16, 'lr': 0.0001, 'dropout': 0.2, 'lr_decay': 0.001, 'layers': 4, 'hidden_dim': 800}\n"
     ]
    },
    {
     "name": "stderr",
     "output_type": "stream",
     "text": [
      "/home/samsonm/miniconda3/envs/multi_modal_DL/lib/python3.10/site-packages/scipy/stats/_stats_py.py:4424: ConstantInputWarning: An input array is constant; the correlation coefficient is not defined.\n",
      "  warnings.warn(stats.ConstantInputWarning(msg))\n"
     ]
    },
    {
     "name": "stdout",
     "output_type": "stream",
     "text": [
      "Epoch: 6/100, Val Loss: 2712.2759, Pearson R: nan, RMSE: 63.7726\n",
      "{'batch_size': 16, 'lr': 0.0001, 'dropout': 0.2, 'lr_decay': 0.0001, 'layers': 2, 'hidden_dim': 400}\n"
     ]
    },
    {
     "name": "stderr",
     "output_type": "stream",
     "text": [
      "/home/samsonm/miniconda3/envs/multi_modal_DL/lib/python3.10/site-packages/scipy/stats/_stats_py.py:4424: ConstantInputWarning: An input array is constant; the correlation coefficient is not defined.\n",
      "  warnings.warn(stats.ConstantInputWarning(msg))\n"
     ]
    },
    {
     "name": "stdout",
     "output_type": "stream",
     "text": [
      "Epoch: 6/100, Val Loss: 2709.3401, Pearson R: nan, RMSE: 63.7496\n",
      "{'batch_size': 16, 'lr': 0.0001, 'dropout': 0.2, 'lr_decay': 0.0001, 'layers': 2, 'hidden_dim': 800}\n"
     ]
    },
    {
     "name": "stderr",
     "output_type": "stream",
     "text": [
      "/home/samsonm/miniconda3/envs/multi_modal_DL/lib/python3.10/site-packages/scipy/stats/_stats_py.py:4424: ConstantInputWarning: An input array is constant; the correlation coefficient is not defined.\n",
      "  warnings.warn(stats.ConstantInputWarning(msg))\n"
     ]
    },
    {
     "name": "stdout",
     "output_type": "stream",
     "text": [
      "Epoch: 6/100, Val Loss: 2710.1213, Pearson R: nan, RMSE: 63.7557\n",
      "{'batch_size': 16, 'lr': 0.0001, 'dropout': 0.2, 'lr_decay': 0.0001, 'layers': 4, 'hidden_dim': 400}\n"
     ]
    },
    {
     "name": "stderr",
     "output_type": "stream",
     "text": [
      "/home/samsonm/miniconda3/envs/multi_modal_DL/lib/python3.10/site-packages/scipy/stats/_stats_py.py:4424: ConstantInputWarning: An input array is constant; the correlation coefficient is not defined.\n",
      "  warnings.warn(stats.ConstantInputWarning(msg))\n"
     ]
    },
    {
     "name": "stdout",
     "output_type": "stream",
     "text": [
      "Epoch: 6/100, Val Loss: 2709.3521, Pearson R: nan, RMSE: 63.7497\n",
      "{'batch_size': 16, 'lr': 0.0001, 'dropout': 0.2, 'lr_decay': 0.0001, 'layers': 4, 'hidden_dim': 800}\n"
     ]
    },
    {
     "name": "stderr",
     "output_type": "stream",
     "text": [
      "/home/samsonm/miniconda3/envs/multi_modal_DL/lib/python3.10/site-packages/scipy/stats/_stats_py.py:4424: ConstantInputWarning: An input array is constant; the correlation coefficient is not defined.\n",
      "  warnings.warn(stats.ConstantInputWarning(msg))\n"
     ]
    },
    {
     "name": "stdout",
     "output_type": "stream",
     "text": [
      "Epoch: 6/100, Val Loss: 2711.4509, Pearson R: nan, RMSE: 63.7661\n",
      "{'batch_size': 16, 'lr': 0.0001, 'dropout': 0.3, 'lr_decay': 0.1, 'layers': 2, 'hidden_dim': 400}\n"
     ]
    },
    {
     "name": "stderr",
     "output_type": "stream",
     "text": [
      "/home/samsonm/miniconda3/envs/multi_modal_DL/lib/python3.10/site-packages/scipy/stats/_stats_py.py:4424: ConstantInputWarning: An input array is constant; the correlation coefficient is not defined.\n",
      "  warnings.warn(stats.ConstantInputWarning(msg))\n"
     ]
    },
    {
     "name": "stdout",
     "output_type": "stream",
     "text": [
      "Epoch: 6/100, Val Loss: 2709.3396, Pearson R: nan, RMSE: 63.7496\n",
      "{'batch_size': 16, 'lr': 0.0001, 'dropout': 0.3, 'lr_decay': 0.1, 'layers': 2, 'hidden_dim': 800}\n"
     ]
    },
    {
     "name": "stderr",
     "output_type": "stream",
     "text": [
      "/home/samsonm/miniconda3/envs/multi_modal_DL/lib/python3.10/site-packages/scipy/stats/_stats_py.py:4424: ConstantInputWarning: An input array is constant; the correlation coefficient is not defined.\n",
      "  warnings.warn(stats.ConstantInputWarning(msg))\n"
     ]
    },
    {
     "name": "stdout",
     "output_type": "stream",
     "text": [
      "Epoch: 6/100, Val Loss: 2709.4399, Pearson R: nan, RMSE: 63.7503\n",
      "{'batch_size': 16, 'lr': 0.0001, 'dropout': 0.3, 'lr_decay': 0.1, 'layers': 4, 'hidden_dim': 400}\n"
     ]
    },
    {
     "name": "stderr",
     "output_type": "stream",
     "text": [
      "/home/samsonm/miniconda3/envs/multi_modal_DL/lib/python3.10/site-packages/scipy/stats/_stats_py.py:4424: ConstantInputWarning: An input array is constant; the correlation coefficient is not defined.\n",
      "  warnings.warn(stats.ConstantInputWarning(msg))\n"
     ]
    },
    {
     "name": "stdout",
     "output_type": "stream",
     "text": [
      "Epoch: 6/100, Val Loss: 2709.4697, Pearson R: nan, RMSE: 63.7506\n",
      "{'batch_size': 16, 'lr': 0.0001, 'dropout': 0.3, 'lr_decay': 0.1, 'layers': 4, 'hidden_dim': 800}\n"
     ]
    },
    {
     "name": "stderr",
     "output_type": "stream",
     "text": [
      "/home/samsonm/miniconda3/envs/multi_modal_DL/lib/python3.10/site-packages/scipy/stats/_stats_py.py:4424: ConstantInputWarning: An input array is constant; the correlation coefficient is not defined.\n",
      "  warnings.warn(stats.ConstantInputWarning(msg))\n"
     ]
    },
    {
     "name": "stdout",
     "output_type": "stream",
     "text": [
      "Epoch: 6/100, Val Loss: 2710.0261, Pearson R: nan, RMSE: 63.7549\n",
      "{'batch_size': 16, 'lr': 0.0001, 'dropout': 0.3, 'lr_decay': 0.01, 'layers': 2, 'hidden_dim': 400}\n"
     ]
    },
    {
     "name": "stderr",
     "output_type": "stream",
     "text": [
      "/home/samsonm/miniconda3/envs/multi_modal_DL/lib/python3.10/site-packages/scipy/stats/_stats_py.py:4424: ConstantInputWarning: An input array is constant; the correlation coefficient is not defined.\n",
      "  warnings.warn(stats.ConstantInputWarning(msg))\n"
     ]
    },
    {
     "name": "stdout",
     "output_type": "stream",
     "text": [
      "Epoch: 6/100, Val Loss: 2709.3433, Pearson R: nan, RMSE: 63.7496\n",
      "{'batch_size': 16, 'lr': 0.0001, 'dropout': 0.3, 'lr_decay': 0.01, 'layers': 2, 'hidden_dim': 800}\n"
     ]
    },
    {
     "name": "stderr",
     "output_type": "stream",
     "text": [
      "/home/samsonm/miniconda3/envs/multi_modal_DL/lib/python3.10/site-packages/scipy/stats/_stats_py.py:4424: ConstantInputWarning: An input array is constant; the correlation coefficient is not defined.\n",
      "  warnings.warn(stats.ConstantInputWarning(msg))\n"
     ]
    },
    {
     "name": "stdout",
     "output_type": "stream",
     "text": [
      "Epoch: 6/100, Val Loss: 2709.5063, Pearson R: nan, RMSE: 63.7509\n",
      "{'batch_size': 16, 'lr': 0.0001, 'dropout': 0.3, 'lr_decay': 0.01, 'layers': 4, 'hidden_dim': 400}\n"
     ]
    },
    {
     "name": "stderr",
     "output_type": "stream",
     "text": [
      "/home/samsonm/miniconda3/envs/multi_modal_DL/lib/python3.10/site-packages/scipy/stats/_stats_py.py:4424: ConstantInputWarning: An input array is constant; the correlation coefficient is not defined.\n",
      "  warnings.warn(stats.ConstantInputWarning(msg))\n"
     ]
    },
    {
     "name": "stdout",
     "output_type": "stream",
     "text": [
      "Epoch: 6/100, Val Loss: 2709.3569, Pearson R: nan, RMSE: 63.7497\n",
      "{'batch_size': 16, 'lr': 0.0001, 'dropout': 0.3, 'lr_decay': 0.01, 'layers': 4, 'hidden_dim': 800}\n"
     ]
    },
    {
     "name": "stderr",
     "output_type": "stream",
     "text": [
      "/home/samsonm/miniconda3/envs/multi_modal_DL/lib/python3.10/site-packages/scipy/stats/_stats_py.py:4424: ConstantInputWarning: An input array is constant; the correlation coefficient is not defined.\n",
      "  warnings.warn(stats.ConstantInputWarning(msg))\n"
     ]
    },
    {
     "name": "stdout",
     "output_type": "stream",
     "text": [
      "Epoch: 6/100, Val Loss: 2710.1851, Pearson R: nan, RMSE: 63.7562\n",
      "{'batch_size': 16, 'lr': 0.0001, 'dropout': 0.3, 'lr_decay': 0.001, 'layers': 2, 'hidden_dim': 400}\n"
     ]
    },
    {
     "name": "stderr",
     "output_type": "stream",
     "text": [
      "/home/samsonm/miniconda3/envs/multi_modal_DL/lib/python3.10/site-packages/scipy/stats/_stats_py.py:4424: ConstantInputWarning: An input array is constant; the correlation coefficient is not defined.\n",
      "  warnings.warn(stats.ConstantInputWarning(msg))\n"
     ]
    },
    {
     "name": "stdout",
     "output_type": "stream",
     "text": [
      "Epoch: 6/100, Val Loss: 2709.4976, Pearson R: nan, RMSE: 63.7508\n",
      "{'batch_size': 16, 'lr': 0.0001, 'dropout': 0.3, 'lr_decay': 0.001, 'layers': 2, 'hidden_dim': 800}\n"
     ]
    },
    {
     "name": "stderr",
     "output_type": "stream",
     "text": [
      "/home/samsonm/miniconda3/envs/multi_modal_DL/lib/python3.10/site-packages/scipy/stats/_stats_py.py:4424: ConstantInputWarning: An input array is constant; the correlation coefficient is not defined.\n",
      "  warnings.warn(stats.ConstantInputWarning(msg))\n"
     ]
    },
    {
     "name": "stdout",
     "output_type": "stream",
     "text": [
      "Epoch: 6/100, Val Loss: 2709.3992, Pearson R: nan, RMSE: 63.7500\n",
      "{'batch_size': 16, 'lr': 0.0001, 'dropout': 0.3, 'lr_decay': 0.001, 'layers': 4, 'hidden_dim': 400}\n"
     ]
    },
    {
     "name": "stderr",
     "output_type": "stream",
     "text": [
      "/home/samsonm/miniconda3/envs/multi_modal_DL/lib/python3.10/site-packages/scipy/stats/_stats_py.py:4424: ConstantInputWarning: An input array is constant; the correlation coefficient is not defined.\n",
      "  warnings.warn(stats.ConstantInputWarning(msg))\n"
     ]
    },
    {
     "name": "stdout",
     "output_type": "stream",
     "text": [
      "Epoch: 6/100, Val Loss: 2709.3584, Pearson R: nan, RMSE: 63.7497\n",
      "{'batch_size': 16, 'lr': 0.0001, 'dropout': 0.3, 'lr_decay': 0.001, 'layers': 4, 'hidden_dim': 800}\n"
     ]
    },
    {
     "name": "stderr",
     "output_type": "stream",
     "text": [
      "/home/samsonm/miniconda3/envs/multi_modal_DL/lib/python3.10/site-packages/scipy/stats/_stats_py.py:4424: ConstantInputWarning: An input array is constant; the correlation coefficient is not defined.\n",
      "  warnings.warn(stats.ConstantInputWarning(msg))\n"
     ]
    },
    {
     "name": "stdout",
     "output_type": "stream",
     "text": [
      "Epoch: 6/100, Val Loss: 2710.9644, Pearson R: nan, RMSE: 63.7623\n",
      "{'batch_size': 16, 'lr': 0.0001, 'dropout': 0.3, 'lr_decay': 0.0001, 'layers': 2, 'hidden_dim': 400}\n"
     ]
    },
    {
     "name": "stderr",
     "output_type": "stream",
     "text": [
      "/home/samsonm/miniconda3/envs/multi_modal_DL/lib/python3.10/site-packages/scipy/stats/_stats_py.py:4424: ConstantInputWarning: An input array is constant; the correlation coefficient is not defined.\n",
      "  warnings.warn(stats.ConstantInputWarning(msg))\n"
     ]
    },
    {
     "name": "stdout",
     "output_type": "stream",
     "text": [
      "Epoch: 6/100, Val Loss: 2709.4316, Pearson R: nan, RMSE: 63.7503\n",
      "{'batch_size': 16, 'lr': 0.0001, 'dropout': 0.3, 'lr_decay': 0.0001, 'layers': 2, 'hidden_dim': 800}\n"
     ]
    },
    {
     "name": "stderr",
     "output_type": "stream",
     "text": [
      "/home/samsonm/miniconda3/envs/multi_modal_DL/lib/python3.10/site-packages/scipy/stats/_stats_py.py:4424: ConstantInputWarning: An input array is constant; the correlation coefficient is not defined.\n",
      "  warnings.warn(stats.ConstantInputWarning(msg))\n"
     ]
    },
    {
     "name": "stdout",
     "output_type": "stream",
     "text": [
      "Epoch: 6/100, Val Loss: 2709.4636, Pearson R: nan, RMSE: 63.7505\n",
      "{'batch_size': 16, 'lr': 0.0001, 'dropout': 0.3, 'lr_decay': 0.0001, 'layers': 4, 'hidden_dim': 400}\n"
     ]
    },
    {
     "name": "stderr",
     "output_type": "stream",
     "text": [
      "/home/samsonm/miniconda3/envs/multi_modal_DL/lib/python3.10/site-packages/scipy/stats/_stats_py.py:4424: ConstantInputWarning: An input array is constant; the correlation coefficient is not defined.\n",
      "  warnings.warn(stats.ConstantInputWarning(msg))\n"
     ]
    },
    {
     "name": "stdout",
     "output_type": "stream",
     "text": [
      "Epoch: 6/100, Val Loss: 2709.5190, Pearson R: nan, RMSE: 63.7510\n",
      "{'batch_size': 16, 'lr': 0.0001, 'dropout': 0.3, 'lr_decay': 0.0001, 'layers': 4, 'hidden_dim': 800}\n"
     ]
    },
    {
     "name": "stderr",
     "output_type": "stream",
     "text": [
      "/home/samsonm/miniconda3/envs/multi_modal_DL/lib/python3.10/site-packages/scipy/stats/_stats_py.py:4424: ConstantInputWarning: An input array is constant; the correlation coefficient is not defined.\n",
      "  warnings.warn(stats.ConstantInputWarning(msg))\n"
     ]
    },
    {
     "name": "stdout",
     "output_type": "stream",
     "text": [
      "Epoch: 6/100, Val Loss: 2711.8271, Pearson R: nan, RMSE: 63.7691\n",
      "{'batch_size': 16, 'lr': 0.0001, 'dropout': 0.4, 'lr_decay': 0.1, 'layers': 2, 'hidden_dim': 400}\n"
     ]
    },
    {
     "name": "stderr",
     "output_type": "stream",
     "text": [
      "/home/samsonm/miniconda3/envs/multi_modal_DL/lib/python3.10/site-packages/scipy/stats/_stats_py.py:4424: ConstantInputWarning: An input array is constant; the correlation coefficient is not defined.\n",
      "  warnings.warn(stats.ConstantInputWarning(msg))\n"
     ]
    },
    {
     "name": "stdout",
     "output_type": "stream",
     "text": [
      "Epoch: 6/100, Val Loss: 2709.4236, Pearson R: nan, RMSE: 63.7502\n",
      "{'batch_size': 16, 'lr': 0.0001, 'dropout': 0.4, 'lr_decay': 0.1, 'layers': 2, 'hidden_dim': 800}\n"
     ]
    },
    {
     "name": "stderr",
     "output_type": "stream",
     "text": [
      "/home/samsonm/miniconda3/envs/multi_modal_DL/lib/python3.10/site-packages/scipy/stats/_stats_py.py:4424: ConstantInputWarning: An input array is constant; the correlation coefficient is not defined.\n",
      "  warnings.warn(stats.ConstantInputWarning(msg))\n"
     ]
    },
    {
     "name": "stdout",
     "output_type": "stream",
     "text": [
      "Epoch: 6/100, Val Loss: 2709.4102, Pearson R: nan, RMSE: 63.7501\n",
      "{'batch_size': 16, 'lr': 0.0001, 'dropout': 0.4, 'lr_decay': 0.1, 'layers': 4, 'hidden_dim': 400}\n"
     ]
    },
    {
     "name": "stderr",
     "output_type": "stream",
     "text": [
      "/home/samsonm/miniconda3/envs/multi_modal_DL/lib/python3.10/site-packages/scipy/stats/_stats_py.py:4424: ConstantInputWarning: An input array is constant; the correlation coefficient is not defined.\n",
      "  warnings.warn(stats.ConstantInputWarning(msg))\n"
     ]
    },
    {
     "name": "stdout",
     "output_type": "stream",
     "text": [
      "Epoch: 6/100, Val Loss: 2709.5952, Pearson R: nan, RMSE: 63.7516\n",
      "{'batch_size': 16, 'lr': 0.0001, 'dropout': 0.4, 'lr_decay': 0.1, 'layers': 4, 'hidden_dim': 800}\n"
     ]
    },
    {
     "name": "stderr",
     "output_type": "stream",
     "text": [
      "/home/samsonm/miniconda3/envs/multi_modal_DL/lib/python3.10/site-packages/scipy/stats/_stats_py.py:4424: ConstantInputWarning: An input array is constant; the correlation coefficient is not defined.\n",
      "  warnings.warn(stats.ConstantInputWarning(msg))\n"
     ]
    },
    {
     "name": "stdout",
     "output_type": "stream",
     "text": [
      "Epoch: 6/100, Val Loss: 2709.8052, Pearson R: nan, RMSE: 63.7532\n",
      "{'batch_size': 16, 'lr': 0.0001, 'dropout': 0.4, 'lr_decay': 0.01, 'layers': 2, 'hidden_dim': 400}\n"
     ]
    },
    {
     "name": "stderr",
     "output_type": "stream",
     "text": [
      "/home/samsonm/miniconda3/envs/multi_modal_DL/lib/python3.10/site-packages/scipy/stats/_stats_py.py:4424: ConstantInputWarning: An input array is constant; the correlation coefficient is not defined.\n",
      "  warnings.warn(stats.ConstantInputWarning(msg))\n"
     ]
    },
    {
     "name": "stdout",
     "output_type": "stream",
     "text": [
      "Epoch: 6/100, Val Loss: 2709.4878, Pearson R: nan, RMSE: 63.7507\n",
      "{'batch_size': 16, 'lr': 0.0001, 'dropout': 0.4, 'lr_decay': 0.01, 'layers': 2, 'hidden_dim': 800}\n"
     ]
    },
    {
     "name": "stderr",
     "output_type": "stream",
     "text": [
      "/home/samsonm/miniconda3/envs/multi_modal_DL/lib/python3.10/site-packages/scipy/stats/_stats_py.py:4424: ConstantInputWarning: An input array is constant; the correlation coefficient is not defined.\n",
      "  warnings.warn(stats.ConstantInputWarning(msg))\n"
     ]
    },
    {
     "name": "stdout",
     "output_type": "stream",
     "text": [
      "Epoch: 6/100, Val Loss: 2709.3657, Pearson R: nan, RMSE: 63.7498\n",
      "{'batch_size': 16, 'lr': 0.0001, 'dropout': 0.4, 'lr_decay': 0.01, 'layers': 4, 'hidden_dim': 400}\n"
     ]
    },
    {
     "name": "stderr",
     "output_type": "stream",
     "text": [
      "/home/samsonm/miniconda3/envs/multi_modal_DL/lib/python3.10/site-packages/scipy/stats/_stats_py.py:4424: ConstantInputWarning: An input array is constant; the correlation coefficient is not defined.\n",
      "  warnings.warn(stats.ConstantInputWarning(msg))\n"
     ]
    },
    {
     "name": "stdout",
     "output_type": "stream",
     "text": [
      "Epoch: 6/100, Val Loss: 2709.4436, Pearson R: nan, RMSE: 63.7504\n",
      "{'batch_size': 16, 'lr': 0.0001, 'dropout': 0.4, 'lr_decay': 0.01, 'layers': 4, 'hidden_dim': 800}\n"
     ]
    },
    {
     "name": "stderr",
     "output_type": "stream",
     "text": [
      "/home/samsonm/miniconda3/envs/multi_modal_DL/lib/python3.10/site-packages/scipy/stats/_stats_py.py:4424: ConstantInputWarning: An input array is constant; the correlation coefficient is not defined.\n",
      "  warnings.warn(stats.ConstantInputWarning(msg))\n"
     ]
    },
    {
     "name": "stdout",
     "output_type": "stream",
     "text": [
      "Epoch: 6/100, Val Loss: 2709.7644, Pearson R: nan, RMSE: 63.7529\n",
      "{'batch_size': 16, 'lr': 0.0001, 'dropout': 0.4, 'lr_decay': 0.001, 'layers': 2, 'hidden_dim': 400}\n"
     ]
    },
    {
     "name": "stderr",
     "output_type": "stream",
     "text": [
      "/home/samsonm/miniconda3/envs/multi_modal_DL/lib/python3.10/site-packages/scipy/stats/_stats_py.py:4424: ConstantInputWarning: An input array is constant; the correlation coefficient is not defined.\n",
      "  warnings.warn(stats.ConstantInputWarning(msg))\n"
     ]
    },
    {
     "name": "stdout",
     "output_type": "stream",
     "text": [
      "Epoch: 6/100, Val Loss: 2709.3789, Pearson R: nan, RMSE: 63.7499\n",
      "{'batch_size': 16, 'lr': 0.0001, 'dropout': 0.4, 'lr_decay': 0.001, 'layers': 2, 'hidden_dim': 800}\n"
     ]
    },
    {
     "name": "stderr",
     "output_type": "stream",
     "text": [
      "/home/samsonm/miniconda3/envs/multi_modal_DL/lib/python3.10/site-packages/scipy/stats/_stats_py.py:4424: ConstantInputWarning: An input array is constant; the correlation coefficient is not defined.\n",
      "  warnings.warn(stats.ConstantInputWarning(msg))\n"
     ]
    },
    {
     "name": "stdout",
     "output_type": "stream",
     "text": [
      "Epoch: 6/100, Val Loss: 2709.3369, Pearson R: nan, RMSE: 63.7495\n",
      "{'batch_size': 16, 'lr': 0.0001, 'dropout': 0.4, 'lr_decay': 0.001, 'layers': 4, 'hidden_dim': 400}\n"
     ]
    },
    {
     "name": "stderr",
     "output_type": "stream",
     "text": [
      "/home/samsonm/miniconda3/envs/multi_modal_DL/lib/python3.10/site-packages/scipy/stats/_stats_py.py:4424: ConstantInputWarning: An input array is constant; the correlation coefficient is not defined.\n",
      "  warnings.warn(stats.ConstantInputWarning(msg))\n"
     ]
    },
    {
     "name": "stdout",
     "output_type": "stream",
     "text": [
      "Epoch: 6/100, Val Loss: 2709.5271, Pearson R: nan, RMSE: 63.7510\n",
      "{'batch_size': 16, 'lr': 0.0001, 'dropout': 0.4, 'lr_decay': 0.001, 'layers': 4, 'hidden_dim': 800}\n"
     ]
    },
    {
     "name": "stderr",
     "output_type": "stream",
     "text": [
      "/home/samsonm/miniconda3/envs/multi_modal_DL/lib/python3.10/site-packages/scipy/stats/_stats_py.py:4424: ConstantInputWarning: An input array is constant; the correlation coefficient is not defined.\n",
      "  warnings.warn(stats.ConstantInputWarning(msg))\n"
     ]
    },
    {
     "name": "stdout",
     "output_type": "stream",
     "text": [
      "Epoch: 6/100, Val Loss: 2710.0664, Pearson R: nan, RMSE: 63.7553\n",
      "{'batch_size': 16, 'lr': 0.0001, 'dropout': 0.4, 'lr_decay': 0.0001, 'layers': 2, 'hidden_dim': 400}\n"
     ]
    },
    {
     "name": "stderr",
     "output_type": "stream",
     "text": [
      "/home/samsonm/miniconda3/envs/multi_modal_DL/lib/python3.10/site-packages/scipy/stats/_stats_py.py:4424: ConstantInputWarning: An input array is constant; the correlation coefficient is not defined.\n",
      "  warnings.warn(stats.ConstantInputWarning(msg))\n"
     ]
    },
    {
     "name": "stdout",
     "output_type": "stream",
     "text": [
      "Epoch: 6/100, Val Loss: 2709.4246, Pearson R: nan, RMSE: 63.7502\n",
      "{'batch_size': 16, 'lr': 0.0001, 'dropout': 0.4, 'lr_decay': 0.0001, 'layers': 2, 'hidden_dim': 800}\n"
     ]
    },
    {
     "name": "stderr",
     "output_type": "stream",
     "text": [
      "/home/samsonm/miniconda3/envs/multi_modal_DL/lib/python3.10/site-packages/scipy/stats/_stats_py.py:4424: ConstantInputWarning: An input array is constant; the correlation coefficient is not defined.\n",
      "  warnings.warn(stats.ConstantInputWarning(msg))\n"
     ]
    },
    {
     "name": "stdout",
     "output_type": "stream",
     "text": [
      "Epoch: 6/100, Val Loss: 2709.3945, Pearson R: nan, RMSE: 63.7500\n",
      "{'batch_size': 16, 'lr': 0.0001, 'dropout': 0.4, 'lr_decay': 0.0001, 'layers': 4, 'hidden_dim': 400}\n"
     ]
    },
    {
     "name": "stderr",
     "output_type": "stream",
     "text": [
      "/home/samsonm/miniconda3/envs/multi_modal_DL/lib/python3.10/site-packages/scipy/stats/_stats_py.py:4424: ConstantInputWarning: An input array is constant; the correlation coefficient is not defined.\n",
      "  warnings.warn(stats.ConstantInputWarning(msg))\n"
     ]
    },
    {
     "name": "stdout",
     "output_type": "stream",
     "text": [
      "Epoch: 6/100, Val Loss: 2709.4624, Pearson R: nan, RMSE: 63.7505\n",
      "{'batch_size': 16, 'lr': 0.0001, 'dropout': 0.4, 'lr_decay': 0.0001, 'layers': 4, 'hidden_dim': 800}\n"
     ]
    },
    {
     "name": "stderr",
     "output_type": "stream",
     "text": [
      "/home/samsonm/miniconda3/envs/multi_modal_DL/lib/python3.10/site-packages/scipy/stats/_stats_py.py:4424: ConstantInputWarning: An input array is constant; the correlation coefficient is not defined.\n",
      "  warnings.warn(stats.ConstantInputWarning(msg))\n"
     ]
    },
    {
     "name": "stdout",
     "output_type": "stream",
     "text": [
      "Epoch: 6/100, Val Loss: 2709.7095, Pearson R: nan, RMSE: 63.7525\n",
      "{'batch_size': 16, 'lr': 0.0001, 'dropout': 0.5, 'lr_decay': 0.1, 'layers': 2, 'hidden_dim': 400}\n"
     ]
    },
    {
     "name": "stderr",
     "output_type": "stream",
     "text": [
      "/home/samsonm/miniconda3/envs/multi_modal_DL/lib/python3.10/site-packages/scipy/stats/_stats_py.py:4424: ConstantInputWarning: An input array is constant; the correlation coefficient is not defined.\n",
      "  warnings.warn(stats.ConstantInputWarning(msg))\n"
     ]
    },
    {
     "name": "stdout",
     "output_type": "stream",
     "text": [
      "Epoch: 6/100, Val Loss: 2709.4653, Pearson R: nan, RMSE: 63.7505\n",
      "{'batch_size': 16, 'lr': 0.0001, 'dropout': 0.5, 'lr_decay': 0.1, 'layers': 2, 'hidden_dim': 800}\n"
     ]
    },
    {
     "name": "stderr",
     "output_type": "stream",
     "text": [
      "/home/samsonm/miniconda3/envs/multi_modal_DL/lib/python3.10/site-packages/scipy/stats/_stats_py.py:4424: ConstantInputWarning: An input array is constant; the correlation coefficient is not defined.\n",
      "  warnings.warn(stats.ConstantInputWarning(msg))\n"
     ]
    },
    {
     "name": "stdout",
     "output_type": "stream",
     "text": [
      "Epoch: 6/100, Val Loss: 2709.4160, Pearson R: nan, RMSE: 63.7502\n",
      "{'batch_size': 16, 'lr': 0.0001, 'dropout': 0.5, 'lr_decay': 0.1, 'layers': 4, 'hidden_dim': 400}\n"
     ]
    },
    {
     "name": "stderr",
     "output_type": "stream",
     "text": [
      "/home/samsonm/miniconda3/envs/multi_modal_DL/lib/python3.10/site-packages/scipy/stats/_stats_py.py:4424: ConstantInputWarning: An input array is constant; the correlation coefficient is not defined.\n",
      "  warnings.warn(stats.ConstantInputWarning(msg))\n"
     ]
    },
    {
     "name": "stdout",
     "output_type": "stream",
     "text": [
      "Epoch: 6/100, Val Loss: 2709.4417, Pearson R: nan, RMSE: 63.7504\n",
      "{'batch_size': 16, 'lr': 0.0001, 'dropout': 0.5, 'lr_decay': 0.1, 'layers': 4, 'hidden_dim': 800}\n"
     ]
    },
    {
     "name": "stderr",
     "output_type": "stream",
     "text": [
      "/home/samsonm/miniconda3/envs/multi_modal_DL/lib/python3.10/site-packages/scipy/stats/_stats_py.py:4424: ConstantInputWarning: An input array is constant; the correlation coefficient is not defined.\n",
      "  warnings.warn(stats.ConstantInputWarning(msg))\n"
     ]
    },
    {
     "name": "stdout",
     "output_type": "stream",
     "text": [
      "Epoch: 6/100, Val Loss: 2709.5234, Pearson R: nan, RMSE: 63.7510\n",
      "{'batch_size': 16, 'lr': 0.0001, 'dropout': 0.5, 'lr_decay': 0.01, 'layers': 2, 'hidden_dim': 400}\n"
     ]
    },
    {
     "name": "stderr",
     "output_type": "stream",
     "text": [
      "/home/samsonm/miniconda3/envs/multi_modal_DL/lib/python3.10/site-packages/scipy/stats/_stats_py.py:4424: ConstantInputWarning: An input array is constant; the correlation coefficient is not defined.\n",
      "  warnings.warn(stats.ConstantInputWarning(msg))\n"
     ]
    },
    {
     "name": "stdout",
     "output_type": "stream",
     "text": [
      "Epoch: 6/100, Val Loss: 2709.3955, Pearson R: nan, RMSE: 63.7500\n",
      "{'batch_size': 16, 'lr': 0.0001, 'dropout': 0.5, 'lr_decay': 0.01, 'layers': 2, 'hidden_dim': 800}\n"
     ]
    },
    {
     "name": "stderr",
     "output_type": "stream",
     "text": [
      "/home/samsonm/miniconda3/envs/multi_modal_DL/lib/python3.10/site-packages/scipy/stats/_stats_py.py:4424: ConstantInputWarning: An input array is constant; the correlation coefficient is not defined.\n",
      "  warnings.warn(stats.ConstantInputWarning(msg))\n"
     ]
    },
    {
     "name": "stdout",
     "output_type": "stream",
     "text": [
      "Epoch: 6/100, Val Loss: 2709.3855, Pearson R: nan, RMSE: 63.7499\n",
      "{'batch_size': 16, 'lr': 0.0001, 'dropout': 0.5, 'lr_decay': 0.01, 'layers': 4, 'hidden_dim': 400}\n"
     ]
    },
    {
     "name": "stderr",
     "output_type": "stream",
     "text": [
      "/home/samsonm/miniconda3/envs/multi_modal_DL/lib/python3.10/site-packages/scipy/stats/_stats_py.py:4424: ConstantInputWarning: An input array is constant; the correlation coefficient is not defined.\n",
      "  warnings.warn(stats.ConstantInputWarning(msg))\n"
     ]
    },
    {
     "name": "stdout",
     "output_type": "stream",
     "text": [
      "Epoch: 6/100, Val Loss: 2709.4199, Pearson R: nan, RMSE: 63.7502\n",
      "{'batch_size': 16, 'lr': 0.0001, 'dropout': 0.5, 'lr_decay': 0.01, 'layers': 4, 'hidden_dim': 800}\n"
     ]
    },
    {
     "name": "stderr",
     "output_type": "stream",
     "text": [
      "/home/samsonm/miniconda3/envs/multi_modal_DL/lib/python3.10/site-packages/scipy/stats/_stats_py.py:4424: ConstantInputWarning: An input array is constant; the correlation coefficient is not defined.\n",
      "  warnings.warn(stats.ConstantInputWarning(msg))\n"
     ]
    },
    {
     "name": "stdout",
     "output_type": "stream",
     "text": [
      "Epoch: 6/100, Val Loss: 2709.4661, Pearson R: nan, RMSE: 63.7506\n",
      "{'batch_size': 16, 'lr': 0.0001, 'dropout': 0.5, 'lr_decay': 0.001, 'layers': 2, 'hidden_dim': 400}\n"
     ]
    },
    {
     "name": "stderr",
     "output_type": "stream",
     "text": [
      "/home/samsonm/miniconda3/envs/multi_modal_DL/lib/python3.10/site-packages/scipy/stats/_stats_py.py:4424: ConstantInputWarning: An input array is constant; the correlation coefficient is not defined.\n",
      "  warnings.warn(stats.ConstantInputWarning(msg))\n"
     ]
    },
    {
     "name": "stdout",
     "output_type": "stream",
     "text": [
      "Epoch: 6/100, Val Loss: 2709.4062, Pearson R: nan, RMSE: 63.7501\n",
      "{'batch_size': 16, 'lr': 0.0001, 'dropout': 0.5, 'lr_decay': 0.001, 'layers': 2, 'hidden_dim': 800}\n"
     ]
    },
    {
     "name": "stderr",
     "output_type": "stream",
     "text": [
      "/home/samsonm/miniconda3/envs/multi_modal_DL/lib/python3.10/site-packages/scipy/stats/_stats_py.py:4424: ConstantInputWarning: An input array is constant; the correlation coefficient is not defined.\n",
      "  warnings.warn(stats.ConstantInputWarning(msg))\n"
     ]
    },
    {
     "name": "stdout",
     "output_type": "stream",
     "text": [
      "Epoch: 6/100, Val Loss: 2709.4346, Pearson R: nan, RMSE: 63.7503\n",
      "{'batch_size': 16, 'lr': 0.0001, 'dropout': 0.5, 'lr_decay': 0.001, 'layers': 4, 'hidden_dim': 400}\n"
     ]
    },
    {
     "name": "stderr",
     "output_type": "stream",
     "text": [
      "/home/samsonm/miniconda3/envs/multi_modal_DL/lib/python3.10/site-packages/scipy/stats/_stats_py.py:4424: ConstantInputWarning: An input array is constant; the correlation coefficient is not defined.\n",
      "  warnings.warn(stats.ConstantInputWarning(msg))\n"
     ]
    },
    {
     "name": "stdout",
     "output_type": "stream",
     "text": [
      "Epoch: 6/100, Val Loss: 2709.4207, Pearson R: nan, RMSE: 63.7502\n",
      "{'batch_size': 16, 'lr': 0.0001, 'dropout': 0.5, 'lr_decay': 0.001, 'layers': 4, 'hidden_dim': 800}\n"
     ]
    },
    {
     "name": "stderr",
     "output_type": "stream",
     "text": [
      "/home/samsonm/miniconda3/envs/multi_modal_DL/lib/python3.10/site-packages/scipy/stats/_stats_py.py:4424: ConstantInputWarning: An input array is constant; the correlation coefficient is not defined.\n",
      "  warnings.warn(stats.ConstantInputWarning(msg))\n"
     ]
    },
    {
     "name": "stdout",
     "output_type": "stream",
     "text": [
      "Epoch: 6/100, Val Loss: 2709.8281, Pearson R: nan, RMSE: 63.7534\n",
      "{'batch_size': 16, 'lr': 0.0001, 'dropout': 0.5, 'lr_decay': 0.0001, 'layers': 2, 'hidden_dim': 400}\n"
     ]
    },
    {
     "name": "stderr",
     "output_type": "stream",
     "text": [
      "/home/samsonm/miniconda3/envs/multi_modal_DL/lib/python3.10/site-packages/scipy/stats/_stats_py.py:4424: ConstantInputWarning: An input array is constant; the correlation coefficient is not defined.\n",
      "  warnings.warn(stats.ConstantInputWarning(msg))\n"
     ]
    },
    {
     "name": "stdout",
     "output_type": "stream",
     "text": [
      "Epoch: 6/100, Val Loss: 2709.4395, Pearson R: nan, RMSE: 63.7503\n",
      "{'batch_size': 16, 'lr': 0.0001, 'dropout': 0.5, 'lr_decay': 0.0001, 'layers': 2, 'hidden_dim': 800}\n"
     ]
    },
    {
     "name": "stderr",
     "output_type": "stream",
     "text": [
      "/home/samsonm/miniconda3/envs/multi_modal_DL/lib/python3.10/site-packages/scipy/stats/_stats_py.py:4424: ConstantInputWarning: An input array is constant; the correlation coefficient is not defined.\n",
      "  warnings.warn(stats.ConstantInputWarning(msg))\n"
     ]
    },
    {
     "name": "stdout",
     "output_type": "stream",
     "text": [
      "Epoch: 6/100, Val Loss: 2709.3657, Pearson R: nan, RMSE: 63.7498\n",
      "{'batch_size': 16, 'lr': 0.0001, 'dropout': 0.5, 'lr_decay': 0.0001, 'layers': 4, 'hidden_dim': 400}\n"
     ]
    },
    {
     "name": "stderr",
     "output_type": "stream",
     "text": [
      "/home/samsonm/miniconda3/envs/multi_modal_DL/lib/python3.10/site-packages/scipy/stats/_stats_py.py:4424: ConstantInputWarning: An input array is constant; the correlation coefficient is not defined.\n",
      "  warnings.warn(stats.ConstantInputWarning(msg))\n"
     ]
    },
    {
     "name": "stdout",
     "output_type": "stream",
     "text": [
      "Epoch: 6/100, Val Loss: 2709.5417, Pearson R: nan, RMSE: 63.7511\n",
      "{'batch_size': 16, 'lr': 0.0001, 'dropout': 0.5, 'lr_decay': 0.0001, 'layers': 4, 'hidden_dim': 800}\n",
      "Epoch: 6/100, Val Loss: 2709.4165, Pearson R: nan, RMSE: 63.7502\n",
      "experiment 1\n",
      "outcome DOS\n"
     ]
    },
    {
     "name": "stderr",
     "output_type": "stream",
     "text": [
      "/home/samsonm/miniconda3/envs/multi_modal_DL/lib/python3.10/site-packages/scipy/stats/_stats_py.py:4424: ConstantInputWarning: An input array is constant; the correlation coefficient is not defined.\n",
      "  warnings.warn(stats.ConstantInputWarning(msg))\n"
     ]
    },
    {
     "data": {
      "application/vnd.jupyter.widget-view+json": {
       "model_id": "c34b2427d7844d639d94510d94ebb5e9",
       "version_major": 2,
       "version_minor": 0
      },
      "text/plain": [
       "  0%|          | 0/320 [00:00<?, ?it/s]"
      ]
     },
     "metadata": {},
     "output_type": "display_data"
    },
    {
     "name": "stdout",
     "output_type": "stream",
     "text": [
      "{'batch_size': 16, 'lr': 0.1, 'dropout': 0.1, 'lr_decay': 0.1, 'layers': 2, 'hidden_dim': 400}\n",
      "Epoch: 18/100, Val Loss: 4473.7793, Pearson R: 0.2141, RMSE: 73.2567\n",
      "{'batch_size': 16, 'lr': 0.1, 'dropout': 0.1, 'lr_decay': 0.1, 'layers': 2, 'hidden_dim': 800}\n"
     ]
    },
    {
     "name": "stderr",
     "output_type": "stream",
     "text": [
      "/home/samsonm/miniconda3/envs/multi_modal_DL/lib/python3.10/site-packages/scipy/stats/_stats_py.py:4424: ConstantInputWarning: An input array is constant; the correlation coefficient is not defined.\n",
      "  warnings.warn(stats.ConstantInputWarning(msg))\n"
     ]
    },
    {
     "name": "stdout",
     "output_type": "stream",
     "text": [
      "Epoch: 12/100, Val Loss: 19347.2324, Pearson R: nan, RMSE: 142.2673\n",
      "{'batch_size': 16, 'lr': 0.1, 'dropout': 0.1, 'lr_decay': 0.1, 'layers': 4, 'hidden_dim': 400}\n",
      "Epoch: 6/100, Val Loss: 285168.3750, Pearson R: 0.2141, RMSE: 534.8340\n",
      "{'batch_size': 16, 'lr': 0.1, 'dropout': 0.1, 'lr_decay': 0.1, 'layers': 4, 'hidden_dim': 800}\n",
      "Epoch: 13/100, Val Loss: 4477.0908, Pearson R: 0.2141, RMSE: 73.2780\n",
      "{'batch_size': 16, 'lr': 0.1, 'dropout': 0.1, 'lr_decay': 0.01, 'layers': 2, 'hidden_dim': 400}\n"
     ]
    },
    {
     "name": "stderr",
     "output_type": "stream",
     "text": [
      "/home/samsonm/miniconda3/envs/multi_modal_DL/lib/python3.10/site-packages/scipy/stats/_stats_py.py:4424: ConstantInputWarning: An input array is constant; the correlation coefficient is not defined.\n",
      "  warnings.warn(stats.ConstantInputWarning(msg))\n"
     ]
    },
    {
     "name": "stdout",
     "output_type": "stream",
     "text": [
      "Epoch: 11/100, Val Loss: 4629.4492, Pearson R: nan, RMSE: 74.3116\n",
      "{'batch_size': 16, 'lr': 0.1, 'dropout': 0.1, 'lr_decay': 0.01, 'layers': 2, 'hidden_dim': 800}\n"
     ]
    },
    {
     "name": "stderr",
     "output_type": "stream",
     "text": [
      "/home/samsonm/miniconda3/envs/multi_modal_DL/lib/python3.10/site-packages/scipy/stats/_stats_py.py:4424: ConstantInputWarning: An input array is constant; the correlation coefficient is not defined.\n",
      "  warnings.warn(stats.ConstantInputWarning(msg))\n"
     ]
    },
    {
     "name": "stdout",
     "output_type": "stream",
     "text": [
      "Epoch: 8/100, Val Loss: 66828.4531, Pearson R: -0.2141, RMSE: 260.2332\n",
      "{'batch_size': 16, 'lr': 0.1, 'dropout': 0.1, 'lr_decay': 0.01, 'layers': 4, 'hidden_dim': 400}\n",
      "Epoch: 11/100, Val Loss: 5795.4976, Pearson R: -0.2141, RMSE: 81.7822\n",
      "{'batch_size': 16, 'lr': 0.1, 'dropout': 0.1, 'lr_decay': 0.01, 'layers': 4, 'hidden_dim': 800}\n",
      "Epoch: 17/100, Val Loss: 4461.9990, Pearson R: 0.2141, RMSE: 73.1743\n",
      "{'batch_size': 16, 'lr': 0.1, 'dropout': 0.1, 'lr_decay': 0.001, 'layers': 2, 'hidden_dim': 400}\n"
     ]
    },
    {
     "name": "stderr",
     "output_type": "stream",
     "text": [
      "/home/samsonm/miniconda3/envs/multi_modal_DL/lib/python3.10/site-packages/scipy/stats/_stats_py.py:4424: ConstantInputWarning: An input array is constant; the correlation coefficient is not defined.\n",
      "  warnings.warn(stats.ConstantInputWarning(msg))\n"
     ]
    },
    {
     "name": "stdout",
     "output_type": "stream",
     "text": [
      "Epoch: 22/100, Val Loss: 4464.9414, Pearson R: nan, RMSE: 73.1963\n",
      "{'batch_size': 16, 'lr': 0.1, 'dropout': 0.1, 'lr_decay': 0.001, 'layers': 2, 'hidden_dim': 800}\n"
     ]
    },
    {
     "name": "stderr",
     "output_type": "stream",
     "text": [
      "/home/samsonm/miniconda3/envs/multi_modal_DL/lib/python3.10/site-packages/scipy/stats/_stats_py.py:4424: ConstantInputWarning: An input array is constant; the correlation coefficient is not defined.\n",
      "  warnings.warn(stats.ConstantInputWarning(msg))\n"
     ]
    },
    {
     "name": "stdout",
     "output_type": "stream",
     "text": [
      "Epoch: 8/100, Val Loss: 101468.9844, Pearson R: 0.2141, RMSE: 319.9402\n",
      "{'batch_size': 16, 'lr': 0.1, 'dropout': 0.1, 'lr_decay': 0.001, 'layers': 4, 'hidden_dim': 400}\n",
      "Epoch: 10/100, Val Loss: 5901.5449, Pearson R: -0.2141, RMSE: 82.4287\n",
      "{'batch_size': 16, 'lr': 0.1, 'dropout': 0.1, 'lr_decay': 0.001, 'layers': 4, 'hidden_dim': 800}\n",
      "Epoch: 12/100, Val Loss: 4585.0898, Pearson R: -0.2141, RMSE: 74.0221\n",
      "{'batch_size': 16, 'lr': 0.1, 'dropout': 0.1, 'lr_decay': 0.0001, 'layers': 2, 'hidden_dim': 400}\n"
     ]
    },
    {
     "name": "stderr",
     "output_type": "stream",
     "text": [
      "/home/samsonm/miniconda3/envs/multi_modal_DL/lib/python3.10/site-packages/scipy/stats/_stats_py.py:4424: ConstantInputWarning: An input array is constant; the correlation coefficient is not defined.\n",
      "  warnings.warn(stats.ConstantInputWarning(msg))\n"
     ]
    },
    {
     "name": "stdout",
     "output_type": "stream",
     "text": [
      "Epoch: 10/100, Val Loss: 21313.2266, Pearson R: 0.2141, RMSE: 149.0167\n",
      "{'batch_size': 16, 'lr': 0.1, 'dropout': 0.1, 'lr_decay': 0.0001, 'layers': 2, 'hidden_dim': 800}\n"
     ]
    },
    {
     "name": "stderr",
     "output_type": "stream",
     "text": [
      "/home/samsonm/miniconda3/envs/multi_modal_DL/lib/python3.10/site-packages/scipy/stats/_stats_py.py:4424: ConstantInputWarning: An input array is constant; the correlation coefficient is not defined.\n",
      "  warnings.warn(stats.ConstantInputWarning(msg))\n"
     ]
    },
    {
     "name": "stdout",
     "output_type": "stream",
     "text": [
      "Epoch: 18/100, Val Loss: 6208.7495, Pearson R: nan, RMSE: 84.2705\n",
      "{'batch_size': 16, 'lr': 0.1, 'dropout': 0.1, 'lr_decay': 0.0001, 'layers': 4, 'hidden_dim': 400}\n"
     ]
    },
    {
     "name": "stderr",
     "output_type": "stream",
     "text": [
      "/home/samsonm/miniconda3/envs/multi_modal_DL/lib/python3.10/site-packages/scipy/stats/_stats_py.py:4424: ConstantInputWarning: An input array is constant; the correlation coefficient is not defined.\n",
      "  warnings.warn(stats.ConstantInputWarning(msg))\n"
     ]
    },
    {
     "name": "stdout",
     "output_type": "stream",
     "text": [
      "Epoch: 17/100, Val Loss: 5512.2725, Pearson R: nan, RMSE: 80.0314\n",
      "{'batch_size': 16, 'lr': 0.1, 'dropout': 0.1, 'lr_decay': 0.0001, 'layers': 4, 'hidden_dim': 800}\n"
     ]
    },
    {
     "name": "stderr",
     "output_type": "stream",
     "text": [
      "/home/samsonm/miniconda3/envs/multi_modal_DL/lib/python3.10/site-packages/scipy/stats/_stats_py.py:4424: ConstantInputWarning: An input array is constant; the correlation coefficient is not defined.\n",
      "  warnings.warn(stats.ConstantInputWarning(msg))\n"
     ]
    },
    {
     "name": "stdout",
     "output_type": "stream",
     "text": [
      "Epoch: 7/100, Val Loss: 23348.5117, Pearson R: 0.2141, RMSE: 155.6936\n",
      "{'batch_size': 16, 'lr': 0.1, 'dropout': 0.2, 'lr_decay': 0.1, 'layers': 2, 'hidden_dim': 400}\n"
     ]
    },
    {
     "name": "stderr",
     "output_type": "stream",
     "text": [
      "/home/samsonm/miniconda3/envs/multi_modal_DL/lib/python3.10/site-packages/scipy/stats/_stats_py.py:4424: ConstantInputWarning: An input array is constant; the correlation coefficient is not defined.\n",
      "  warnings.warn(stats.ConstantInputWarning(msg))\n"
     ]
    },
    {
     "name": "stdout",
     "output_type": "stream",
     "text": [
      "Epoch: 10/100, Val Loss: 16907.0391, Pearson R: nan, RMSE: 133.4159\n",
      "{'batch_size': 16, 'lr': 0.1, 'dropout': 0.2, 'lr_decay': 0.1, 'layers': 2, 'hidden_dim': 800}\n"
     ]
    },
    {
     "name": "stderr",
     "output_type": "stream",
     "text": [
      "/home/samsonm/miniconda3/envs/multi_modal_DL/lib/python3.10/site-packages/scipy/stats/_stats_py.py:4424: ConstantInputWarning: An input array is constant; the correlation coefficient is not defined.\n",
      "  warnings.warn(stats.ConstantInputWarning(msg))\n"
     ]
    },
    {
     "name": "stdout",
     "output_type": "stream",
     "text": [
      "Epoch: 21/100, Val Loss: 4591.0117, Pearson R: nan, RMSE: 74.0525\n",
      "{'batch_size': 16, 'lr': 0.1, 'dropout': 0.2, 'lr_decay': 0.1, 'layers': 4, 'hidden_dim': 400}\n",
      "Epoch: 19/100, Val Loss: 8434.7090, Pearson R: -0.2141, RMSE: 96.6048\n",
      "{'batch_size': 16, 'lr': 0.1, 'dropout': 0.2, 'lr_decay': 0.1, 'layers': 4, 'hidden_dim': 800}\n"
     ]
    },
    {
     "name": "stderr",
     "output_type": "stream",
     "text": [
      "/home/samsonm/miniconda3/envs/multi_modal_DL/lib/python3.10/site-packages/scipy/stats/_stats_py.py:4424: ConstantInputWarning: An input array is constant; the correlation coefficient is not defined.\n",
      "  warnings.warn(stats.ConstantInputWarning(msg))\n"
     ]
    },
    {
     "name": "stdout",
     "output_type": "stream",
     "text": [
      "Epoch: 11/100, Val Loss: 8778.3770, Pearson R: 0.2141, RMSE: 98.3419\n",
      "{'batch_size': 16, 'lr': 0.1, 'dropout': 0.2, 'lr_decay': 0.01, 'layers': 2, 'hidden_dim': 400}\n",
      "Epoch: 6/100, Val Loss: 5399.9082, Pearson R: -0.2141, RMSE: 79.4146\n",
      "{'batch_size': 16, 'lr': 0.1, 'dropout': 0.2, 'lr_decay': 0.01, 'layers': 2, 'hidden_dim': 800}\n"
     ]
    },
    {
     "name": "stderr",
     "output_type": "stream",
     "text": [
      "/home/samsonm/miniconda3/envs/multi_modal_DL/lib/python3.10/site-packages/scipy/stats/_stats_py.py:4424: ConstantInputWarning: An input array is constant; the correlation coefficient is not defined.\n",
      "  warnings.warn(stats.ConstantInputWarning(msg))\n"
     ]
    },
    {
     "name": "stdout",
     "output_type": "stream",
     "text": [
      "Epoch: 9/100, Val Loss: 94471.3359, Pearson R: 0.2141, RMSE: 308.8029\n",
      "{'batch_size': 16, 'lr': 0.1, 'dropout': 0.2, 'lr_decay': 0.01, 'layers': 4, 'hidden_dim': 400}\n"
     ]
    },
    {
     "name": "stderr",
     "output_type": "stream",
     "text": [
      "/home/samsonm/miniconda3/envs/multi_modal_DL/lib/python3.10/site-packages/scipy/stats/_stats_py.py:4424: ConstantInputWarning: An input array is constant; the correlation coefficient is not defined.\n",
      "  warnings.warn(stats.ConstantInputWarning(msg))\n"
     ]
    },
    {
     "name": "stdout",
     "output_type": "stream",
     "text": [
      "Epoch: 18/100, Val Loss: 4463.8213, Pearson R: -0.2141, RMSE: 73.1887\n",
      "{'batch_size': 16, 'lr': 0.1, 'dropout': 0.2, 'lr_decay': 0.01, 'layers': 4, 'hidden_dim': 800}\n",
      "Epoch: 23/100, Val Loss: 4458.6504, Pearson R: 0.2141, RMSE: 73.1498\n",
      "{'batch_size': 16, 'lr': 0.1, 'dropout': 0.2, 'lr_decay': 0.001, 'layers': 2, 'hidden_dim': 400}\n"
     ]
    },
    {
     "name": "stderr",
     "output_type": "stream",
     "text": [
      "/home/samsonm/miniconda3/envs/multi_modal_DL/lib/python3.10/site-packages/scipy/stats/_stats_py.py:4424: ConstantInputWarning: An input array is constant; the correlation coefficient is not defined.\n",
      "  warnings.warn(stats.ConstantInputWarning(msg))\n"
     ]
    },
    {
     "name": "stdout",
     "output_type": "stream",
     "text": [
      "Epoch: 11/100, Val Loss: 6771.4971, Pearson R: 0.2141, RMSE: 87.5404\n",
      "{'batch_size': 16, 'lr': 0.1, 'dropout': 0.2, 'lr_decay': 0.001, 'layers': 2, 'hidden_dim': 800}\n"
     ]
    },
    {
     "name": "stderr",
     "output_type": "stream",
     "text": [
      "/home/samsonm/miniconda3/envs/multi_modal_DL/lib/python3.10/site-packages/scipy/stats/_stats_py.py:4424: ConstantInputWarning: An input array is constant; the correlation coefficient is not defined.\n",
      "  warnings.warn(stats.ConstantInputWarning(msg))\n"
     ]
    },
    {
     "name": "stdout",
     "output_type": "stream",
     "text": [
      "Epoch: 18/100, Val Loss: 4795.9941, Pearson R: nan, RMSE: 75.4238\n",
      "{'batch_size': 16, 'lr': 0.1, 'dropout': 0.2, 'lr_decay': 0.001, 'layers': 4, 'hidden_dim': 400}\n",
      "Epoch: 11/100, Val Loss: 4636.2524, Pearson R: 0.2141, RMSE: 74.3555\n",
      "{'batch_size': 16, 'lr': 0.1, 'dropout': 0.2, 'lr_decay': 0.001, 'layers': 4, 'hidden_dim': 800}\n"
     ]
    },
    {
     "name": "stderr",
     "output_type": "stream",
     "text": [
      "/home/samsonm/miniconda3/envs/multi_modal_DL/lib/python3.10/site-packages/scipy/stats/_stats_py.py:4424: ConstantInputWarning: An input array is constant; the correlation coefficient is not defined.\n",
      "  warnings.warn(stats.ConstantInputWarning(msg))\n"
     ]
    },
    {
     "name": "stdout",
     "output_type": "stream",
     "text": [
      "Epoch: 15/100, Val Loss: 4523.1084, Pearson R: nan, RMSE: 73.5926\n",
      "{'batch_size': 16, 'lr': 0.1, 'dropout': 0.2, 'lr_decay': 0.0001, 'layers': 2, 'hidden_dim': 400}\n"
     ]
    },
    {
     "name": "stderr",
     "output_type": "stream",
     "text": [
      "/home/samsonm/miniconda3/envs/multi_modal_DL/lib/python3.10/site-packages/scipy/stats/_stats_py.py:4424: ConstantInputWarning: An input array is constant; the correlation coefficient is not defined.\n",
      "  warnings.warn(stats.ConstantInputWarning(msg))\n"
     ]
    },
    {
     "name": "stdout",
     "output_type": "stream",
     "text": [
      "Epoch: 19/100, Val Loss: 4463.1660, Pearson R: 0.2141, RMSE: 73.1669\n",
      "{'batch_size': 16, 'lr': 0.1, 'dropout': 0.2, 'lr_decay': 0.0001, 'layers': 2, 'hidden_dim': 800}\n"
     ]
    },
    {
     "name": "stderr",
     "output_type": "stream",
     "text": [
      "/home/samsonm/miniconda3/envs/multi_modal_DL/lib/python3.10/site-packages/scipy/stats/_stats_py.py:4424: ConstantInputWarning: An input array is constant; the correlation coefficient is not defined.\n",
      "  warnings.warn(stats.ConstantInputWarning(msg))\n"
     ]
    },
    {
     "name": "stdout",
     "output_type": "stream",
     "text": [
      "Epoch: 13/100, Val Loss: 4905.7705, Pearson R: nan, RMSE: 76.1481\n",
      "{'batch_size': 16, 'lr': 0.1, 'dropout': 0.2, 'lr_decay': 0.0001, 'layers': 4, 'hidden_dim': 400}\n",
      "Epoch: 21/100, Val Loss: 4601.1621, Pearson R: -0.2141, RMSE: 74.1786\n",
      "{'batch_size': 16, 'lr': 0.1, 'dropout': 0.2, 'lr_decay': 0.0001, 'layers': 4, 'hidden_dim': 800}\n"
     ]
    },
    {
     "name": "stderr",
     "output_type": "stream",
     "text": [
      "/home/samsonm/miniconda3/envs/multi_modal_DL/lib/python3.10/site-packages/scipy/stats/_stats_py.py:4424: ConstantInputWarning: An input array is constant; the correlation coefficient is not defined.\n",
      "  warnings.warn(stats.ConstantInputWarning(msg))\n"
     ]
    },
    {
     "name": "stdout",
     "output_type": "stream",
     "text": [
      "Epoch: 20/100, Val Loss: 4504.4219, Pearson R: nan, RMSE: 73.4655\n",
      "{'batch_size': 16, 'lr': 0.1, 'dropout': 0.3, 'lr_decay': 0.1, 'layers': 2, 'hidden_dim': 400}\n",
      "Epoch: 6/100, Val Loss: 8704.9824, Pearson R: -0.2141, RMSE: 98.1774\n",
      "{'batch_size': 16, 'lr': 0.1, 'dropout': 0.3, 'lr_decay': 0.1, 'layers': 2, 'hidden_dim': 800}\n"
     ]
    },
    {
     "name": "stderr",
     "output_type": "stream",
     "text": [
      "/home/samsonm/miniconda3/envs/multi_modal_DL/lib/python3.10/site-packages/scipy/stats/_stats_py.py:4424: ConstantInputWarning: An input array is constant; the correlation coefficient is not defined.\n",
      "  warnings.warn(stats.ConstantInputWarning(msg))\n"
     ]
    },
    {
     "name": "stdout",
     "output_type": "stream",
     "text": [
      "Epoch: 17/100, Val Loss: 4475.2344, Pearson R: nan, RMSE: 73.2666\n",
      "{'batch_size': 16, 'lr': 0.1, 'dropout': 0.3, 'lr_decay': 0.1, 'layers': 4, 'hidden_dim': 400}\n",
      "Epoch: 6/100, Val Loss: 34502.4375, Pearson R: 0.2141, RMSE: 188.0276\n",
      "{'batch_size': 16, 'lr': 0.1, 'dropout': 0.3, 'lr_decay': 0.1, 'layers': 4, 'hidden_dim': 800}\n"
     ]
    },
    {
     "name": "stderr",
     "output_type": "stream",
     "text": [
      "/home/samsonm/miniconda3/envs/multi_modal_DL/lib/python3.10/site-packages/scipy/stats/_stats_py.py:4424: ConstantInputWarning: An input array is constant; the correlation coefficient is not defined.\n",
      "  warnings.warn(stats.ConstantInputWarning(msg))\n"
     ]
    },
    {
     "name": "stdout",
     "output_type": "stream",
     "text": [
      "Epoch: 13/100, Val Loss: 5087.7124, Pearson R: nan, RMSE: 77.3335\n",
      "{'batch_size': 16, 'lr': 0.1, 'dropout': 0.3, 'lr_decay': 0.01, 'layers': 2, 'hidden_dim': 400}\n",
      "Epoch: 7/100, Val Loss: 4699.0410, Pearson R: 0.2141, RMSE: 74.6178\n",
      "{'batch_size': 16, 'lr': 0.1, 'dropout': 0.3, 'lr_decay': 0.01, 'layers': 2, 'hidden_dim': 800}\n",
      "Epoch: 22/100, Val Loss: 4353.2749, Pearson R: 0.2141, RMSE: 72.3423\n",
      "{'batch_size': 16, 'lr': 0.1, 'dropout': 0.3, 'lr_decay': 0.01, 'layers': 4, 'hidden_dim': 400}\n",
      "Epoch: 16/100, Val Loss: 4590.2324, Pearson R: -0.2141, RMSE: 74.1114\n",
      "{'batch_size': 16, 'lr': 0.1, 'dropout': 0.3, 'lr_decay': 0.01, 'layers': 4, 'hidden_dim': 800}\n",
      "Epoch: 6/100, Val Loss: 10929.0654, Pearson R: 0.2141, RMSE: 108.6686\n",
      "{'batch_size': 16, 'lr': 0.1, 'dropout': 0.3, 'lr_decay': 0.001, 'layers': 2, 'hidden_dim': 400}\n",
      "Epoch: 10/100, Val Loss: 4532.4487, Pearson R: 0.2141, RMSE: 73.6560\n",
      "{'batch_size': 16, 'lr': 0.1, 'dropout': 0.3, 'lr_decay': 0.001, 'layers': 2, 'hidden_dim': 800}\n"
     ]
    },
    {
     "name": "stderr",
     "output_type": "stream",
     "text": [
      "/home/samsonm/miniconda3/envs/multi_modal_DL/lib/python3.10/site-packages/scipy/stats/_stats_py.py:4424: ConstantInputWarning: An input array is constant; the correlation coefficient is not defined.\n",
      "  warnings.warn(stats.ConstantInputWarning(msg))\n"
     ]
    },
    {
     "name": "stdout",
     "output_type": "stream",
     "text": [
      "Epoch: 9/100, Val Loss: 93712.3359, Pearson R: nan, RMSE: 307.5794\n",
      "{'batch_size': 16, 'lr': 0.1, 'dropout': 0.3, 'lr_decay': 0.001, 'layers': 4, 'hidden_dim': 400}\n",
      "Epoch: 7/100, Val Loss: 6288.9121, Pearson R: -0.2141, RMSE: 84.7477\n",
      "{'batch_size': 16, 'lr': 0.1, 'dropout': 0.3, 'lr_decay': 0.001, 'layers': 4, 'hidden_dim': 800}\n"
     ]
    },
    {
     "name": "stderr",
     "output_type": "stream",
     "text": [
      "/home/samsonm/miniconda3/envs/multi_modal_DL/lib/python3.10/site-packages/scipy/stats/_stats_py.py:4424: ConstantInputWarning: An input array is constant; the correlation coefficient is not defined.\n",
      "  warnings.warn(stats.ConstantInputWarning(msg))\n"
     ]
    },
    {
     "name": "stdout",
     "output_type": "stream",
     "text": [
      "Epoch: 21/100, Val Loss: 4510.2285, Pearson R: nan, RMSE: 73.5050\n",
      "{'batch_size': 16, 'lr': 0.1, 'dropout': 0.3, 'lr_decay': 0.0001, 'layers': 2, 'hidden_dim': 400}\n"
     ]
    },
    {
     "name": "stderr",
     "output_type": "stream",
     "text": [
      "/home/samsonm/miniconda3/envs/multi_modal_DL/lib/python3.10/site-packages/scipy/stats/_stats_py.py:4424: ConstantInputWarning: An input array is constant; the correlation coefficient is not defined.\n",
      "  warnings.warn(stats.ConstantInputWarning(msg))\n"
     ]
    },
    {
     "name": "stdout",
     "output_type": "stream",
     "text": [
      "Epoch: 12/100, Val Loss: 4783.5088, Pearson R: nan, RMSE: 75.3410\n",
      "{'batch_size': 16, 'lr': 0.1, 'dropout': 0.3, 'lr_decay': 0.0001, 'layers': 2, 'hidden_dim': 800}\n",
      "Epoch: 9/100, Val Loss: 45663.9609, Pearson R: 0.2141, RMSE: 215.7699\n",
      "{'batch_size': 16, 'lr': 0.1, 'dropout': 0.3, 'lr_decay': 0.0001, 'layers': 4, 'hidden_dim': 400}\n",
      "Epoch: 8/100, Val Loss: 4913.1670, Pearson R: -0.2141, RMSE: 76.1973\n",
      "{'batch_size': 16, 'lr': 0.1, 'dropout': 0.3, 'lr_decay': 0.0001, 'layers': 4, 'hidden_dim': 800}\n",
      "Epoch: 11/100, Val Loss: 4540.6387, Pearson R: -0.2141, RMSE: 73.7564\n",
      "{'batch_size': 16, 'lr': 0.1, 'dropout': 0.4, 'lr_decay': 0.1, 'layers': 2, 'hidden_dim': 400}\n",
      "Epoch: 32/100, Val Loss: 4475.9316, Pearson R: -0.2141, RMSE: 73.2755\n",
      "{'batch_size': 16, 'lr': 0.1, 'dropout': 0.4, 'lr_decay': 0.1, 'layers': 2, 'hidden_dim': 800}\n",
      "Epoch: 10/100, Val Loss: 5526.3745, Pearson R: -0.2141, RMSE: 80.1195\n",
      "{'batch_size': 16, 'lr': 0.1, 'dropout': 0.4, 'lr_decay': 0.1, 'layers': 4, 'hidden_dim': 400}\n",
      "Epoch: 6/100, Val Loss: 7198.3159, Pearson R: -0.2141, RMSE: 90.1065\n",
      "{'batch_size': 16, 'lr': 0.1, 'dropout': 0.4, 'lr_decay': 0.1, 'layers': 4, 'hidden_dim': 800}\n",
      "Epoch: 13/100, Val Loss: 4481.6592, Pearson R: -0.2141, RMSE: 73.3162\n",
      "{'batch_size': 16, 'lr': 0.1, 'dropout': 0.4, 'lr_decay': 0.01, 'layers': 2, 'hidden_dim': 400}\n",
      "Epoch: 7/100, Val Loss: 6314.6055, Pearson R: -0.2141, RMSE: 84.9037\n",
      "{'batch_size': 16, 'lr': 0.1, 'dropout': 0.4, 'lr_decay': 0.01, 'layers': 2, 'hidden_dim': 800}\n"
     ]
    },
    {
     "name": "stderr",
     "output_type": "stream",
     "text": [
      "/home/samsonm/miniconda3/envs/multi_modal_DL/lib/python3.10/site-packages/scipy/stats/_stats_py.py:4424: ConstantInputWarning: An input array is constant; the correlation coefficient is not defined.\n",
      "  warnings.warn(stats.ConstantInputWarning(msg))\n"
     ]
    },
    {
     "name": "stdout",
     "output_type": "stream",
     "text": [
      "Epoch: 9/100, Val Loss: 18898.2578, Pearson R: 0.2141, RMSE: 140.6806\n",
      "{'batch_size': 16, 'lr': 0.1, 'dropout': 0.4, 'lr_decay': 0.01, 'layers': 4, 'hidden_dim': 400}\n"
     ]
    },
    {
     "name": "stderr",
     "output_type": "stream",
     "text": [
      "/home/samsonm/miniconda3/envs/multi_modal_DL/lib/python3.10/site-packages/scipy/stats/_stats_py.py:4424: ConstantInputWarning: An input array is constant; the correlation coefficient is not defined.\n",
      "  warnings.warn(stats.ConstantInputWarning(msg))\n"
     ]
    },
    {
     "name": "stdout",
     "output_type": "stream",
     "text": [
      "Epoch: 17/100, Val Loss: 5372.7197, Pearson R: nan, RMSE: 79.1548\n",
      "{'batch_size': 16, 'lr': 0.1, 'dropout': 0.4, 'lr_decay': 0.01, 'layers': 4, 'hidden_dim': 800}\n",
      "Epoch: 14/100, Val Loss: 4521.2051, Pearson R: 0.2141, RMSE: 73.5615\n",
      "{'batch_size': 16, 'lr': 0.1, 'dropout': 0.4, 'lr_decay': 0.001, 'layers': 2, 'hidden_dim': 400}\n"
     ]
    },
    {
     "name": "stderr",
     "output_type": "stream",
     "text": [
      "/home/samsonm/miniconda3/envs/multi_modal_DL/lib/python3.10/site-packages/scipy/stats/_stats_py.py:4424: ConstantInputWarning: An input array is constant; the correlation coefficient is not defined.\n",
      "  warnings.warn(stats.ConstantInputWarning(msg))\n"
     ]
    },
    {
     "name": "stdout",
     "output_type": "stream",
     "text": [
      "Epoch: 16/100, Val Loss: 4729.8359, Pearson R: nan, RMSE: 74.9840\n",
      "{'batch_size': 16, 'lr': 0.1, 'dropout': 0.4, 'lr_decay': 0.001, 'layers': 2, 'hidden_dim': 800}\n",
      "Epoch: 7/100, Val Loss: 21006.3359, Pearson R: 0.2141, RMSE: 147.9796\n",
      "{'batch_size': 16, 'lr': 0.1, 'dropout': 0.4, 'lr_decay': 0.001, 'layers': 4, 'hidden_dim': 400}\n",
      "Epoch: 12/100, Val Loss: 4507.8301, Pearson R: -0.2141, RMSE: 73.4983\n",
      "{'batch_size': 16, 'lr': 0.1, 'dropout': 0.4, 'lr_decay': 0.001, 'layers': 4, 'hidden_dim': 800}\n",
      "Epoch: 22/100, Val Loss: 4448.0991, Pearson R: 0.2141, RMSE: 73.0707\n",
      "{'batch_size': 16, 'lr': 0.1, 'dropout': 0.4, 'lr_decay': 0.0001, 'layers': 2, 'hidden_dim': 400}\n",
      "Epoch: 15/100, Val Loss: 5072.7212, Pearson R: -0.2141, RMSE: 77.3130\n",
      "{'batch_size': 16, 'lr': 0.1, 'dropout': 0.4, 'lr_decay': 0.0001, 'layers': 2, 'hidden_dim': 800}\n",
      "Epoch: 11/100, Val Loss: 4765.3525, Pearson R: 0.2141, RMSE: 75.2192\n",
      "{'batch_size': 16, 'lr': 0.1, 'dropout': 0.4, 'lr_decay': 0.0001, 'layers': 4, 'hidden_dim': 400}\n"
     ]
    },
    {
     "name": "stderr",
     "output_type": "stream",
     "text": [
      "/home/samsonm/miniconda3/envs/multi_modal_DL/lib/python3.10/site-packages/scipy/stats/_stats_py.py:4424: ConstantInputWarning: An input array is constant; the correlation coefficient is not defined.\n",
      "  warnings.warn(stats.ConstantInputWarning(msg))\n"
     ]
    },
    {
     "name": "stdout",
     "output_type": "stream",
     "text": [
      "Epoch: 18/100, Val Loss: 4464.5586, Pearson R: nan, RMSE: 73.1937\n",
      "{'batch_size': 16, 'lr': 0.1, 'dropout': 0.4, 'lr_decay': 0.0001, 'layers': 4, 'hidden_dim': 800}\n",
      "Epoch: 13/100, Val Loss: 4460.0557, Pearson R: 0.2141, RMSE: 73.1592\n",
      "{'batch_size': 16, 'lr': 0.1, 'dropout': 0.5, 'lr_decay': 0.1, 'layers': 2, 'hidden_dim': 400}\n",
      "Epoch: 7/100, Val Loss: 5358.8799, Pearson R: 0.2141, RMSE: 79.0635\n",
      "{'batch_size': 16, 'lr': 0.1, 'dropout': 0.5, 'lr_decay': 0.1, 'layers': 2, 'hidden_dim': 800}\n"
     ]
    },
    {
     "name": "stderr",
     "output_type": "stream",
     "text": [
      "/home/samsonm/miniconda3/envs/multi_modal_DL/lib/python3.10/site-packages/scipy/stats/_stats_py.py:4424: ConstantInputWarning: An input array is constant; the correlation coefficient is not defined.\n",
      "  warnings.warn(stats.ConstantInputWarning(msg))\n"
     ]
    },
    {
     "name": "stdout",
     "output_type": "stream",
     "text": [
      "Epoch: 11/100, Val Loss: 11023.6094, Pearson R: nan, RMSE: 109.1621\n",
      "{'batch_size': 16, 'lr': 0.1, 'dropout': 0.5, 'lr_decay': 0.1, 'layers': 4, 'hidden_dim': 400}\n",
      "Epoch: 8/100, Val Loss: 4475.7827, Pearson R: 0.2141, RMSE: 73.2664\n",
      "{'batch_size': 16, 'lr': 0.1, 'dropout': 0.5, 'lr_decay': 0.1, 'layers': 4, 'hidden_dim': 800}\n",
      "Epoch: 13/100, Val Loss: 4608.1895, Pearson R: -0.2141, RMSE: 74.1792\n",
      "{'batch_size': 16, 'lr': 0.1, 'dropout': 0.5, 'lr_decay': 0.01, 'layers': 2, 'hidden_dim': 400}\n",
      "Epoch: 10/100, Val Loss: 4827.4634, Pearson R: 0.2141, RMSE: 75.6319\n",
      "{'batch_size': 16, 'lr': 0.1, 'dropout': 0.5, 'lr_decay': 0.01, 'layers': 2, 'hidden_dim': 800}\n"
     ]
    },
    {
     "name": "stderr",
     "output_type": "stream",
     "text": [
      "/home/samsonm/miniconda3/envs/multi_modal_DL/lib/python3.10/site-packages/scipy/stats/_stats_py.py:4424: ConstantInputWarning: An input array is constant; the correlation coefficient is not defined.\n",
      "  warnings.warn(stats.ConstantInputWarning(msg))\n"
     ]
    },
    {
     "name": "stdout",
     "output_type": "stream",
     "text": [
      "Epoch: 13/100, Val Loss: 10863.1162, Pearson R: nan, RMSE: 108.4245\n",
      "{'batch_size': 16, 'lr': 0.1, 'dropout': 0.5, 'lr_decay': 0.01, 'layers': 4, 'hidden_dim': 400}\n",
      "Epoch: 11/100, Val Loss: 4754.5845, Pearson R: -0.2141, RMSE: 75.1495\n",
      "{'batch_size': 16, 'lr': 0.1, 'dropout': 0.5, 'lr_decay': 0.01, 'layers': 4, 'hidden_dim': 800}\n",
      "Epoch: 11/100, Val Loss: 4958.1069, Pearson R: 0.2141, RMSE: 76.4850\n",
      "{'batch_size': 16, 'lr': 0.1, 'dropout': 0.5, 'lr_decay': 0.001, 'layers': 2, 'hidden_dim': 400}\n",
      "Epoch: 7/100, Val Loss: 7838.3433, Pearson R: 0.2141, RMSE: 93.4058\n",
      "{'batch_size': 16, 'lr': 0.1, 'dropout': 0.5, 'lr_decay': 0.001, 'layers': 2, 'hidden_dim': 800}\n"
     ]
    },
    {
     "name": "stderr",
     "output_type": "stream",
     "text": [
      "/home/samsonm/miniconda3/envs/multi_modal_DL/lib/python3.10/site-packages/scipy/stats/_stats_py.py:4424: ConstantInputWarning: An input array is constant; the correlation coefficient is not defined.\n",
      "  warnings.warn(stats.ConstantInputWarning(msg))\n"
     ]
    },
    {
     "name": "stdout",
     "output_type": "stream",
     "text": [
      "Epoch: 12/100, Val Loss: 4673.2344, Pearson R: nan, RMSE: 74.6056\n",
      "{'batch_size': 16, 'lr': 0.1, 'dropout': 0.5, 'lr_decay': 0.001, 'layers': 4, 'hidden_dim': 400}\n",
      "Epoch: 8/100, Val Loss: 4658.2891, Pearson R: -0.2141, RMSE: 74.5133\n",
      "{'batch_size': 16, 'lr': 0.1, 'dropout': 0.5, 'lr_decay': 0.001, 'layers': 4, 'hidden_dim': 800}\n",
      "Epoch: 16/100, Val Loss: 4558.2104, Pearson R: 0.2141, RMSE: 73.7715\n",
      "{'batch_size': 16, 'lr': 0.1, 'dropout': 0.5, 'lr_decay': 0.0001, 'layers': 2, 'hidden_dim': 400}\n",
      "Epoch: 11/100, Val Loss: 5265.8271, Pearson R: -0.2141, RMSE: 78.4849\n",
      "{'batch_size': 16, 'lr': 0.1, 'dropout': 0.5, 'lr_decay': 0.0001, 'layers': 2, 'hidden_dim': 800}\n",
      "Epoch: 16/100, Val Loss: 4527.8799, Pearson R: -0.2141, RMSE: 73.6300\n",
      "{'batch_size': 16, 'lr': 0.1, 'dropout': 0.5, 'lr_decay': 0.0001, 'layers': 4, 'hidden_dim': 400}\n",
      "Epoch: 12/100, Val Loss: 4491.4502, Pearson R: 0.2141, RMSE: 73.3754\n",
      "{'batch_size': 16, 'lr': 0.1, 'dropout': 0.5, 'lr_decay': 0.0001, 'layers': 4, 'hidden_dim': 800}\n",
      "Epoch: 16/100, Val Loss: 4516.1108, Pearson R: 0.2141, RMSE: 73.5337\n",
      "{'batch_size': 16, 'lr': 0.01, 'dropout': 0.1, 'lr_decay': 0.1, 'layers': 2, 'hidden_dim': 400}\n",
      "Epoch: 11/100, Val Loss: 4897.3789, Pearson R: -0.2141, RMSE: 76.2717\n",
      "{'batch_size': 16, 'lr': 0.01, 'dropout': 0.1, 'lr_decay': 0.1, 'layers': 2, 'hidden_dim': 800}\n",
      "Epoch: 21/100, Val Loss: 4465.2441, Pearson R: -0.2141, RMSE: 73.1992\n",
      "{'batch_size': 16, 'lr': 0.01, 'dropout': 0.1, 'lr_decay': 0.1, 'layers': 4, 'hidden_dim': 400}\n",
      "Epoch: 20/100, Val Loss: 4487.7549, Pearson R: -0.2141, RMSE: 73.3582\n",
      "{'batch_size': 16, 'lr': 0.01, 'dropout': 0.1, 'lr_decay': 0.1, 'layers': 4, 'hidden_dim': 800}\n",
      "Epoch: 17/100, Val Loss: 4468.8687, Pearson R: -0.2141, RMSE: 73.2260\n",
      "{'batch_size': 16, 'lr': 0.01, 'dropout': 0.1, 'lr_decay': 0.01, 'layers': 2, 'hidden_dim': 400}\n",
      "Epoch: 11/100, Val Loss: 4442.3916, Pearson R: 0.2141, RMSE: 72.9555\n",
      "{'batch_size': 16, 'lr': 0.01, 'dropout': 0.1, 'lr_decay': 0.01, 'layers': 2, 'hidden_dim': 800}\n",
      "Epoch: 11/100, Val Loss: 4515.6558, Pearson R: 0.2141, RMSE: 73.5194\n",
      "{'batch_size': 16, 'lr': 0.01, 'dropout': 0.1, 'lr_decay': 0.01, 'layers': 4, 'hidden_dim': 400}\n",
      "Epoch: 13/100, Val Loss: 4495.3081, Pearson R: -0.2141, RMSE: 73.4067\n",
      "{'batch_size': 16, 'lr': 0.01, 'dropout': 0.1, 'lr_decay': 0.01, 'layers': 4, 'hidden_dim': 800}\n",
      "Epoch: 10/100, Val Loss: 4553.9126, Pearson R: -0.2141, RMSE: 73.8115\n",
      "{'batch_size': 16, 'lr': 0.01, 'dropout': 0.1, 'lr_decay': 0.001, 'layers': 2, 'hidden_dim': 400}\n",
      "Epoch: 11/100, Val Loss: 4551.6787, Pearson R: -0.2141, RMSE: 73.8290\n",
      "{'batch_size': 16, 'lr': 0.01, 'dropout': 0.1, 'lr_decay': 0.001, 'layers': 2, 'hidden_dim': 800}\n",
      "Epoch: 17/100, Val Loss: 4862.6758, Pearson R: 0.2141, RMSE: 75.8507\n",
      "{'batch_size': 16, 'lr': 0.01, 'dropout': 0.1, 'lr_decay': 0.001, 'layers': 4, 'hidden_dim': 400}\n",
      "Epoch: 7/100, Val Loss: 4642.4683, Pearson R: -0.2141, RMSE: 74.4713\n",
      "{'batch_size': 16, 'lr': 0.01, 'dropout': 0.1, 'lr_decay': 0.001, 'layers': 4, 'hidden_dim': 800}\n",
      "Epoch: 10/100, Val Loss: 4648.4624, Pearson R: -0.2141, RMSE: 74.4418\n",
      "{'batch_size': 16, 'lr': 0.01, 'dropout': 0.1, 'lr_decay': 0.0001, 'layers': 2, 'hidden_dim': 400}\n",
      "Epoch: 12/100, Val Loss: 4471.4385, Pearson R: -0.2141, RMSE: 73.2426\n",
      "{'batch_size': 16, 'lr': 0.01, 'dropout': 0.1, 'lr_decay': 0.0001, 'layers': 2, 'hidden_dim': 800}\n",
      "Epoch: 11/100, Val Loss: 4573.3687, Pearson R: 0.2141, RMSE: 73.9277\n",
      "{'batch_size': 16, 'lr': 0.01, 'dropout': 0.1, 'lr_decay': 0.0001, 'layers': 4, 'hidden_dim': 400}\n",
      "Epoch: 9/100, Val Loss: 4488.2534, Pearson R: -0.2141, RMSE: 73.3701\n",
      "{'batch_size': 16, 'lr': 0.01, 'dropout': 0.1, 'lr_decay': 0.0001, 'layers': 4, 'hidden_dim': 800}\n",
      "Epoch: 13/100, Val Loss: 4738.6650, Pearson R: -0.2141, RMSE: 75.0699\n",
      "{'batch_size': 16, 'lr': 0.01, 'dropout': 0.2, 'lr_decay': 0.1, 'layers': 2, 'hidden_dim': 400}\n",
      "Epoch: 17/100, Val Loss: 5861.2178, Pearson R: -0.2141, RMSE: 82.5857\n",
      "{'batch_size': 16, 'lr': 0.01, 'dropout': 0.2, 'lr_decay': 0.1, 'layers': 2, 'hidden_dim': 800}\n",
      "Epoch: 8/100, Val Loss: 4734.0483, Pearson R: 0.2141, RMSE: 75.0031\n",
      "{'batch_size': 16, 'lr': 0.01, 'dropout': 0.2, 'lr_decay': 0.1, 'layers': 4, 'hidden_dim': 400}\n",
      "Epoch: 16/100, Val Loss: 4902.7930, Pearson R: -0.2141, RMSE: 76.3184\n",
      "{'batch_size': 16, 'lr': 0.01, 'dropout': 0.2, 'lr_decay': 0.1, 'layers': 4, 'hidden_dim': 800}\n",
      "Epoch: 21/100, Val Loss: 4540.5830, Pearson R: -0.2141, RMSE: 73.7561\n",
      "{'batch_size': 16, 'lr': 0.01, 'dropout': 0.2, 'lr_decay': 0.01, 'layers': 2, 'hidden_dim': 400}\n",
      "Epoch: 10/100, Val Loss: 5759.9268, Pearson R: -0.2141, RMSE: 81.9615\n",
      "{'batch_size': 16, 'lr': 0.01, 'dropout': 0.2, 'lr_decay': 0.01, 'layers': 2, 'hidden_dim': 800}\n",
      "Epoch: 19/100, Val Loss: 4484.4658, Pearson R: -0.2141, RMSE: 73.3341\n",
      "{'batch_size': 16, 'lr': 0.01, 'dropout': 0.2, 'lr_decay': 0.01, 'layers': 4, 'hidden_dim': 400}\n",
      "Epoch: 13/100, Val Loss: 5283.3828, Pearson R: -0.2141, RMSE: 78.8293\n",
      "{'batch_size': 16, 'lr': 0.01, 'dropout': 0.2, 'lr_decay': 0.01, 'layers': 4, 'hidden_dim': 800}\n",
      "Epoch: 13/100, Val Loss: 4492.8271, Pearson R: -0.2141, RMSE: 73.3869\n",
      "{'batch_size': 16, 'lr': 0.01, 'dropout': 0.2, 'lr_decay': 0.001, 'layers': 2, 'hidden_dim': 400}\n",
      "Epoch: 11/100, Val Loss: 4799.7007, Pearson R: 0.2141, RMSE: 75.4039\n",
      "{'batch_size': 16, 'lr': 0.01, 'dropout': 0.2, 'lr_decay': 0.001, 'layers': 2, 'hidden_dim': 800}\n",
      "Epoch: 10/100, Val Loss: 4962.8521, Pearson R: 0.2141, RMSE: 76.0204\n",
      "{'batch_size': 16, 'lr': 0.01, 'dropout': 0.2, 'lr_decay': 0.001, 'layers': 4, 'hidden_dim': 400}\n",
      "Epoch: 24/100, Val Loss: 4494.2812, Pearson R: -0.2141, RMSE: 73.4153\n",
      "{'batch_size': 16, 'lr': 0.01, 'dropout': 0.2, 'lr_decay': 0.001, 'layers': 4, 'hidden_dim': 800}\n",
      "Epoch: 8/100, Val Loss: 5509.5234, Pearson R: -0.2141, RMSE: 80.0203\n",
      "{'batch_size': 16, 'lr': 0.01, 'dropout': 0.2, 'lr_decay': 0.0001, 'layers': 2, 'hidden_dim': 400}\n",
      "Epoch: 18/100, Val Loss: 4954.6973, Pearson R: -0.2141, RMSE: 76.6652\n",
      "{'batch_size': 16, 'lr': 0.01, 'dropout': 0.2, 'lr_decay': 0.0001, 'layers': 2, 'hidden_dim': 800}\n",
      "Epoch: 12/100, Val Loss: 5918.9023, Pearson R: 0.2141, RMSE: 82.5303\n",
      "{'batch_size': 16, 'lr': 0.01, 'dropout': 0.2, 'lr_decay': 0.0001, 'layers': 4, 'hidden_dim': 400}\n",
      "Epoch: 16/100, Val Loss: 4505.4717, Pearson R: -0.2141, RMSE: 73.4984\n",
      "{'batch_size': 16, 'lr': 0.01, 'dropout': 0.2, 'lr_decay': 0.0001, 'layers': 4, 'hidden_dim': 800}\n",
      "Epoch: 7/100, Val Loss: 4602.8789, Pearson R: -0.2141, RMSE: 74.1415\n",
      "{'batch_size': 16, 'lr': 0.01, 'dropout': 0.3, 'lr_decay': 0.1, 'layers': 2, 'hidden_dim': 400}\n",
      "Epoch: 12/100, Val Loss: 4514.4351, Pearson R: 0.2141, RMSE: 73.4928\n",
      "{'batch_size': 16, 'lr': 0.01, 'dropout': 0.3, 'lr_decay': 0.1, 'layers': 2, 'hidden_dim': 800}\n",
      "Epoch: 14/100, Val Loss: 5590.5381, Pearson R: 0.2141, RMSE: 80.4450\n",
      "{'batch_size': 16, 'lr': 0.01, 'dropout': 0.3, 'lr_decay': 0.1, 'layers': 4, 'hidden_dim': 400}\n",
      "Epoch: 15/100, Val Loss: 4481.4092, Pearson R: -0.2141, RMSE: 73.3182\n",
      "{'batch_size': 16, 'lr': 0.01, 'dropout': 0.3, 'lr_decay': 0.1, 'layers': 4, 'hidden_dim': 800}\n",
      "Epoch: 16/100, Val Loss: 4456.8857, Pearson R: 0.2141, RMSE: 73.1355\n",
      "{'batch_size': 16, 'lr': 0.01, 'dropout': 0.3, 'lr_decay': 0.01, 'layers': 2, 'hidden_dim': 400}\n",
      "Epoch: 43/100, Val Loss: 4796.6812, Pearson R: -0.2141, RMSE: 75.5488\n",
      "{'batch_size': 16, 'lr': 0.01, 'dropout': 0.3, 'lr_decay': 0.01, 'layers': 2, 'hidden_dim': 800}\n",
      "Epoch: 11/100, Val Loss: 4511.9136, Pearson R: -0.2141, RMSE: 73.5354\n",
      "{'batch_size': 16, 'lr': 0.01, 'dropout': 0.3, 'lr_decay': 0.01, 'layers': 4, 'hidden_dim': 400}\n",
      "Epoch: 9/100, Val Loss: 4814.3584, Pearson R: 0.2141, RMSE: 75.0005\n",
      "{'batch_size': 16, 'lr': 0.01, 'dropout': 0.3, 'lr_decay': 0.01, 'layers': 4, 'hidden_dim': 800}\n",
      "Epoch: 24/100, Val Loss: 4468.5454, Pearson R: -0.2141, RMSE: 73.2209\n",
      "{'batch_size': 16, 'lr': 0.01, 'dropout': 0.3, 'lr_decay': 0.001, 'layers': 2, 'hidden_dim': 400}\n",
      "Epoch: 13/100, Val Loss: 5007.1035, Pearson R: -0.2141, RMSE: 76.8977\n",
      "{'batch_size': 16, 'lr': 0.01, 'dropout': 0.3, 'lr_decay': 0.001, 'layers': 2, 'hidden_dim': 800}\n",
      "Epoch: 7/100, Val Loss: 4761.8789, Pearson R: 0.2141, RMSE: 75.0276\n",
      "{'batch_size': 16, 'lr': 0.01, 'dropout': 0.3, 'lr_decay': 0.001, 'layers': 4, 'hidden_dim': 400}\n",
      "Epoch: 24/100, Val Loss: 4464.6445, Pearson R: -0.2141, RMSE: 73.1948\n",
      "{'batch_size': 16, 'lr': 0.01, 'dropout': 0.3, 'lr_decay': 0.001, 'layers': 4, 'hidden_dim': 800}\n"
     ]
    },
    {
     "name": "stdout",
     "output_type": "stream",
     "text": [
      "Epoch: 15/100, Val Loss: 4468.4927, Pearson R: -0.2141, RMSE: 73.2236\n",
      "{'batch_size': 16, 'lr': 0.01, 'dropout': 0.3, 'lr_decay': 0.0001, 'layers': 2, 'hidden_dim': 400}\n",
      "Epoch: 10/100, Val Loss: 5194.6304, Pearson R: -0.2141, RMSE: 78.3056\n",
      "{'batch_size': 16, 'lr': 0.01, 'dropout': 0.3, 'lr_decay': 0.0001, 'layers': 2, 'hidden_dim': 800}\n",
      "Epoch: 14/100, Val Loss: 4448.7969, Pearson R: 0.2141, RMSE: 73.0744\n",
      "{'batch_size': 16, 'lr': 0.01, 'dropout': 0.3, 'lr_decay': 0.0001, 'layers': 4, 'hidden_dim': 400}\n",
      "Epoch: 14/100, Val Loss: 4725.1680, Pearson R: -0.2141, RMSE: 74.9744\n",
      "{'batch_size': 16, 'lr': 0.01, 'dropout': 0.3, 'lr_decay': 0.0001, 'layers': 4, 'hidden_dim': 800}\n",
      "Epoch: 15/100, Val Loss: 4482.3960, Pearson R: -0.2141, RMSE: 73.3273\n",
      "{'batch_size': 16, 'lr': 0.01, 'dropout': 0.4, 'lr_decay': 0.1, 'layers': 2, 'hidden_dim': 400}\n",
      "Epoch: 11/100, Val Loss: 4972.2803, Pearson R: -0.2141, RMSE: 76.7237\n",
      "{'batch_size': 16, 'lr': 0.01, 'dropout': 0.4, 'lr_decay': 0.1, 'layers': 2, 'hidden_dim': 800}\n",
      "Epoch: 17/100, Val Loss: 4407.8286, Pearson R: 0.2141, RMSE: 72.7229\n",
      "{'batch_size': 16, 'lr': 0.01, 'dropout': 0.4, 'lr_decay': 0.1, 'layers': 4, 'hidden_dim': 400}\n",
      "Epoch: 17/100, Val Loss: 4575.5229, Pearson R: -0.2141, RMSE: 73.9553\n",
      "{'batch_size': 16, 'lr': 0.01, 'dropout': 0.4, 'lr_decay': 0.1, 'layers': 4, 'hidden_dim': 800}\n",
      "Epoch: 10/100, Val Loss: 4470.7920, Pearson R: -0.2141, RMSE: 73.2404\n",
      "{'batch_size': 16, 'lr': 0.01, 'dropout': 0.4, 'lr_decay': 0.01, 'layers': 2, 'hidden_dim': 400}\n",
      "Epoch: 9/100, Val Loss: 4462.1709, Pearson R: 0.2141, RMSE: 73.1760\n",
      "{'batch_size': 16, 'lr': 0.01, 'dropout': 0.4, 'lr_decay': 0.01, 'layers': 2, 'hidden_dim': 800}\n",
      "Epoch: 19/100, Val Loss: 5010.9688, Pearson R: -0.2141, RMSE: 77.0126\n",
      "{'batch_size': 16, 'lr': 0.01, 'dropout': 0.4, 'lr_decay': 0.01, 'layers': 4, 'hidden_dim': 400}\n",
      "Epoch: 9/100, Val Loss: 4446.5859, Pearson R: 0.2141, RMSE: 73.0384\n",
      "{'batch_size': 16, 'lr': 0.01, 'dropout': 0.4, 'lr_decay': 0.01, 'layers': 4, 'hidden_dim': 800}\n",
      "Epoch: 26/100, Val Loss: 4634.5566, Pearson R: -0.2141, RMSE: 74.3459\n",
      "{'batch_size': 16, 'lr': 0.01, 'dropout': 0.4, 'lr_decay': 0.001, 'layers': 2, 'hidden_dim': 400}\n",
      "Epoch: 11/100, Val Loss: 4363.9092, Pearson R: 0.2141, RMSE: 72.0402\n",
      "{'batch_size': 16, 'lr': 0.01, 'dropout': 0.4, 'lr_decay': 0.001, 'layers': 2, 'hidden_dim': 800}\n",
      "Epoch: 13/100, Val Loss: 13128.0781, Pearson R: -0.2141, RMSE: 118.7304\n",
      "{'batch_size': 16, 'lr': 0.01, 'dropout': 0.4, 'lr_decay': 0.001, 'layers': 4, 'hidden_dim': 400}\n",
      "Epoch: 34/100, Val Loss: 4464.9482, Pearson R: -0.2141, RMSE: 73.1971\n",
      "{'batch_size': 16, 'lr': 0.01, 'dropout': 0.4, 'lr_decay': 0.001, 'layers': 4, 'hidden_dim': 800}\n",
      "Epoch: 18/100, Val Loss: 4478.2759, Pearson R: 0.2141, RMSE: 73.2790\n",
      "{'batch_size': 16, 'lr': 0.01, 'dropout': 0.4, 'lr_decay': 0.0001, 'layers': 2, 'hidden_dim': 400}\n",
      "Epoch: 15/100, Val Loss: 4639.2485, Pearson R: 0.2141, RMSE: 74.3656\n",
      "{'batch_size': 16, 'lr': 0.01, 'dropout': 0.4, 'lr_decay': 0.0001, 'layers': 2, 'hidden_dim': 800}\n",
      "Epoch: 19/100, Val Loss: 4492.9541, Pearson R: 0.2141, RMSE: 73.3793\n",
      "{'batch_size': 16, 'lr': 0.01, 'dropout': 0.4, 'lr_decay': 0.0001, 'layers': 4, 'hidden_dim': 400}\n",
      "Epoch: 24/100, Val Loss: 4477.5532, Pearson R: -0.2141, RMSE: 73.2900\n",
      "{'batch_size': 16, 'lr': 0.01, 'dropout': 0.4, 'lr_decay': 0.0001, 'layers': 4, 'hidden_dim': 800}\n",
      "Epoch: 7/100, Val Loss: 4957.8428, Pearson R: 0.2141, RMSE: 76.4732\n",
      "{'batch_size': 16, 'lr': 0.01, 'dropout': 0.5, 'lr_decay': 0.1, 'layers': 2, 'hidden_dim': 400}\n",
      "Epoch: 12/100, Val Loss: 7623.5957, Pearson R: -0.2141, RMSE: 92.9282\n",
      "{'batch_size': 16, 'lr': 0.01, 'dropout': 0.5, 'lr_decay': 0.1, 'layers': 2, 'hidden_dim': 800}\n",
      "Epoch: 13/100, Val Loss: 4844.8555, Pearson R: -0.2141, RMSE: 75.7518\n",
      "{'batch_size': 16, 'lr': 0.01, 'dropout': 0.5, 'lr_decay': 0.1, 'layers': 4, 'hidden_dim': 400}\n",
      "Epoch: 8/100, Val Loss: 4512.3789, Pearson R: -0.2141, RMSE: 73.5440\n",
      "{'batch_size': 16, 'lr': 0.01, 'dropout': 0.5, 'lr_decay': 0.1, 'layers': 4, 'hidden_dim': 800}\n",
      "Epoch: 14/100, Val Loss: 4540.4849, Pearson R: 0.2141, RMSE: 73.7086\n",
      "{'batch_size': 16, 'lr': 0.01, 'dropout': 0.5, 'lr_decay': 0.01, 'layers': 2, 'hidden_dim': 400}\n",
      "Epoch: 16/100, Val Loss: 5333.1753, Pearson R: -0.2141, RMSE: 79.1171\n",
      "{'batch_size': 16, 'lr': 0.01, 'dropout': 0.5, 'lr_decay': 0.01, 'layers': 2, 'hidden_dim': 800}\n",
      "Epoch: 13/100, Val Loss: 4509.0981, Pearson R: 0.2141, RMSE: 73.4783\n",
      "{'batch_size': 16, 'lr': 0.01, 'dropout': 0.5, 'lr_decay': 0.01, 'layers': 4, 'hidden_dim': 400}\n",
      "Epoch: 17/100, Val Loss: 4477.5420, Pearson R: -0.2141, RMSE: 73.2890\n",
      "{'batch_size': 16, 'lr': 0.01, 'dropout': 0.5, 'lr_decay': 0.01, 'layers': 4, 'hidden_dim': 800}\n",
      "Epoch: 17/100, Val Loss: 4482.1084, Pearson R: -0.2141, RMSE: 73.3163\n",
      "{'batch_size': 16, 'lr': 0.01, 'dropout': 0.5, 'lr_decay': 0.001, 'layers': 2, 'hidden_dim': 400}\n",
      "Epoch: 10/100, Val Loss: 4784.7432, Pearson R: -0.2141, RMSE: 75.4430\n",
      "{'batch_size': 16, 'lr': 0.01, 'dropout': 0.5, 'lr_decay': 0.001, 'layers': 2, 'hidden_dim': 800}\n",
      "Epoch: 14/100, Val Loss: 4464.7505, Pearson R: 0.2141, RMSE: 73.1948\n",
      "{'batch_size': 16, 'lr': 0.01, 'dropout': 0.5, 'lr_decay': 0.001, 'layers': 4, 'hidden_dim': 400}\n",
      "Epoch: 6/100, Val Loss: 5303.2617, Pearson R: -0.2141, RMSE: 78.9859\n",
      "{'batch_size': 16, 'lr': 0.01, 'dropout': 0.5, 'lr_decay': 0.001, 'layers': 4, 'hidden_dim': 800}\n",
      "Epoch: 9/100, Val Loss: 4569.4424, Pearson R: -0.2141, RMSE: 73.9584\n",
      "{'batch_size': 16, 'lr': 0.01, 'dropout': 0.5, 'lr_decay': 0.0001, 'layers': 2, 'hidden_dim': 400}\n",
      "Epoch: 10/100, Val Loss: 4282.1382, Pearson R: 0.2141, RMSE: 71.6447\n",
      "{'batch_size': 16, 'lr': 0.01, 'dropout': 0.5, 'lr_decay': 0.0001, 'layers': 2, 'hidden_dim': 800}\n",
      "Epoch: 18/100, Val Loss: 4510.9141, Pearson R: -0.2141, RMSE: 73.5324\n",
      "{'batch_size': 16, 'lr': 0.01, 'dropout': 0.5, 'lr_decay': 0.0001, 'layers': 4, 'hidden_dim': 400}\n",
      "Epoch: 27/100, Val Loss: 4467.7490, Pearson R: -0.2141, RMSE: 73.2173\n",
      "{'batch_size': 16, 'lr': 0.01, 'dropout': 0.5, 'lr_decay': 0.0001, 'layers': 4, 'hidden_dim': 800}\n",
      "Epoch: 8/100, Val Loss: 39453.6406, Pearson R: -0.2141, RMSE: 201.7365\n",
      "{'batch_size': 16, 'lr': 0.001, 'dropout': 0.1, 'lr_decay': 0.1, 'layers': 2, 'hidden_dim': 400}\n",
      "Epoch: 16/100, Val Loss: 4756.6567, Pearson R: -0.2141, RMSE: 75.3075\n",
      "{'batch_size': 16, 'lr': 0.001, 'dropout': 0.1, 'lr_decay': 0.1, 'layers': 2, 'hidden_dim': 800}\n",
      "Epoch: 20/100, Val Loss: 4637.1914, Pearson R: -0.2141, RMSE: 74.4544\n",
      "{'batch_size': 16, 'lr': 0.001, 'dropout': 0.1, 'lr_decay': 0.1, 'layers': 4, 'hidden_dim': 400}\n",
      "Epoch: 19/100, Val Loss: 5037.2847, Pearson R: -0.2141, RMSE: 77.2368\n",
      "{'batch_size': 16, 'lr': 0.001, 'dropout': 0.1, 'lr_decay': 0.1, 'layers': 4, 'hidden_dim': 800}\n",
      "Epoch: 19/100, Val Loss: 4839.2480, Pearson R: -0.2141, RMSE: 75.8639\n",
      "{'batch_size': 16, 'lr': 0.001, 'dropout': 0.1, 'lr_decay': 0.01, 'layers': 2, 'hidden_dim': 400}\n",
      "Epoch: 15/100, Val Loss: 4657.9189, Pearson R: -0.2141, RMSE: 74.5939\n",
      "{'batch_size': 16, 'lr': 0.001, 'dropout': 0.1, 'lr_decay': 0.01, 'layers': 2, 'hidden_dim': 800}\n",
      "Epoch: 11/100, Val Loss: 4463.8247, Pearson R: 0.2141, RMSE: 73.1885\n",
      "{'batch_size': 16, 'lr': 0.001, 'dropout': 0.1, 'lr_decay': 0.01, 'layers': 4, 'hidden_dim': 400}\n",
      "Epoch: 18/100, Val Loss: 4806.1675, Pearson R: -0.2141, RMSE: 75.6540\n",
      "{'batch_size': 16, 'lr': 0.001, 'dropout': 0.1, 'lr_decay': 0.01, 'layers': 4, 'hidden_dim': 800}\n",
      "Epoch: 16/100, Val Loss: 4574.6372, Pearson R: -0.2141, RMSE: 74.0021\n",
      "{'batch_size': 16, 'lr': 0.001, 'dropout': 0.1, 'lr_decay': 0.001, 'layers': 2, 'hidden_dim': 400}\n",
      "Epoch: 16/100, Val Loss: 4672.4609, Pearson R: -0.2141, RMSE: 74.7100\n",
      "{'batch_size': 16, 'lr': 0.001, 'dropout': 0.1, 'lr_decay': 0.001, 'layers': 2, 'hidden_dim': 800}\n",
      "Epoch: 19/100, Val Loss: 4611.5591, Pearson R: -0.2141, RMSE: 74.2687\n",
      "{'batch_size': 16, 'lr': 0.001, 'dropout': 0.1, 'lr_decay': 0.001, 'layers': 4, 'hidden_dim': 400}\n",
      "Epoch: 16/100, Val Loss: 4677.2554, Pearson R: -0.2141, RMSE: 74.7443\n",
      "{'batch_size': 16, 'lr': 0.001, 'dropout': 0.1, 'lr_decay': 0.001, 'layers': 4, 'hidden_dim': 800}\n",
      "Epoch: 18/100, Val Loss: 4792.7065, Pearson R: -0.2141, RMSE: 75.5599\n",
      "{'batch_size': 16, 'lr': 0.001, 'dropout': 0.1, 'lr_decay': 0.0001, 'layers': 2, 'hidden_dim': 400}\n"
     ]
    },
    {
     "name": "stdout",
     "output_type": "stream",
     "text": [
      "Epoch: 15/100, Val Loss: 4783.1226, Pearson R: -0.2141, RMSE: 75.4847\n",
      "{'batch_size': 16, 'lr': 0.001, 'dropout': 0.1, 'lr_decay': 0.0001, 'layers': 2, 'hidden_dim': 800}\n",
      "Epoch: 6/100, Val Loss: 4461.7974, Pearson R: 0.2141, RMSE: 73.1734\n",
      "{'batch_size': 16, 'lr': 0.001, 'dropout': 0.1, 'lr_decay': 0.0001, 'layers': 4, 'hidden_dim': 400}\n",
      "Epoch: 17/100, Val Loss: 4966.2031, Pearson R: -0.2141, RMSE: 76.7584\n",
      "{'batch_size': 16, 'lr': 0.001, 'dropout': 0.1, 'lr_decay': 0.0001, 'layers': 4, 'hidden_dim': 800}\n",
      "Epoch: 16/100, Val Loss: 4588.7383, Pearson R: -0.2141, RMSE: 74.1074\n",
      "{'batch_size': 16, 'lr': 0.001, 'dropout': 0.2, 'lr_decay': 0.1, 'layers': 2, 'hidden_dim': 400}\n",
      "Epoch: 16/100, Val Loss: 4846.4980, Pearson R: -0.2141, RMSE: 75.9330\n",
      "{'batch_size': 16, 'lr': 0.001, 'dropout': 0.2, 'lr_decay': 0.1, 'layers': 2, 'hidden_dim': 800}\n",
      "Epoch: 18/100, Val Loss: 4585.0908, Pearson R: -0.2141, RMSE: 74.0735\n",
      "{'batch_size': 16, 'lr': 0.001, 'dropout': 0.2, 'lr_decay': 0.1, 'layers': 4, 'hidden_dim': 400}\n",
      "Epoch: 16/100, Val Loss: 4729.1436, Pearson R: -0.2141, RMSE: 75.1131\n",
      "{'batch_size': 16, 'lr': 0.001, 'dropout': 0.2, 'lr_decay': 0.1, 'layers': 4, 'hidden_dim': 800}\n",
      "Epoch: 17/100, Val Loss: 4574.0449, Pearson R: -0.2141, RMSE: 74.0012\n",
      "{'batch_size': 16, 'lr': 0.001, 'dropout': 0.2, 'lr_decay': 0.01, 'layers': 2, 'hidden_dim': 400}\n",
      "Epoch: 16/100, Val Loss: 4771.7964, Pearson R: -0.2141, RMSE: 75.4060\n",
      "{'batch_size': 16, 'lr': 0.001, 'dropout': 0.2, 'lr_decay': 0.01, 'layers': 2, 'hidden_dim': 800}\n",
      "Epoch: 8/100, Val Loss: 4463.1392, Pearson R: 0.2141, RMSE: 73.1832\n",
      "{'batch_size': 16, 'lr': 0.001, 'dropout': 0.2, 'lr_decay': 0.01, 'layers': 4, 'hidden_dim': 400}\n",
      "Epoch: 17/100, Val Loss: 4869.3809, Pearson R: -0.2141, RMSE: 76.0932\n",
      "{'batch_size': 16, 'lr': 0.001, 'dropout': 0.2, 'lr_decay': 0.01, 'layers': 4, 'hidden_dim': 800}\n",
      "Epoch: 18/100, Val Loss: 4603.8340, Pearson R: -0.2141, RMSE: 74.2174\n",
      "{'batch_size': 16, 'lr': 0.001, 'dropout': 0.2, 'lr_decay': 0.001, 'layers': 2, 'hidden_dim': 400}\n",
      "Epoch: 14/100, Val Loss: 4773.5293, Pearson R: -0.2141, RMSE: 75.4249\n",
      "{'batch_size': 16, 'lr': 0.001, 'dropout': 0.2, 'lr_decay': 0.001, 'layers': 2, 'hidden_dim': 800}\n",
      "Epoch: 8/100, Val Loss: 4462.8340, Pearson R: 0.2141, RMSE: 73.1813\n",
      "{'batch_size': 16, 'lr': 0.001, 'dropout': 0.2, 'lr_decay': 0.001, 'layers': 4, 'hidden_dim': 400}\n",
      "Epoch: 15/100, Val Loss: 4793.1279, Pearson R: -0.2141, RMSE: 75.5612\n",
      "{'batch_size': 16, 'lr': 0.001, 'dropout': 0.2, 'lr_decay': 0.001, 'layers': 4, 'hidden_dim': 800}\n",
      "Epoch: 16/100, Val Loss: 4583.1758, Pearson R: -0.2141, RMSE: 74.0577\n",
      "{'batch_size': 16, 'lr': 0.001, 'dropout': 0.2, 'lr_decay': 0.0001, 'layers': 2, 'hidden_dim': 400}\n",
      "Epoch: 17/100, Val Loss: 4960.5347, Pearson R: -0.2141, RMSE: 76.7238\n",
      "{'batch_size': 16, 'lr': 0.001, 'dropout': 0.2, 'lr_decay': 0.0001, 'layers': 2, 'hidden_dim': 800}\n",
      "Epoch: 8/100, Val Loss: 4463.1846, Pearson R: 0.2141, RMSE: 73.1839\n",
      "{'batch_size': 16, 'lr': 0.001, 'dropout': 0.2, 'lr_decay': 0.0001, 'layers': 4, 'hidden_dim': 400}\n",
      "Epoch: 18/100, Val Loss: 4868.9380, Pearson R: -0.2141, RMSE: 76.0820\n",
      "{'batch_size': 16, 'lr': 0.001, 'dropout': 0.2, 'lr_decay': 0.0001, 'layers': 4, 'hidden_dim': 800}\n",
      "Epoch: 17/100, Val Loss: 4619.8350, Pearson R: -0.2141, RMSE: 74.3315\n",
      "{'batch_size': 16, 'lr': 0.001, 'dropout': 0.3, 'lr_decay': 0.1, 'layers': 2, 'hidden_dim': 400}\n",
      "Epoch: 17/100, Val Loss: 4792.4487, Pearson R: -0.2141, RMSE: 75.5568\n",
      "{'batch_size': 16, 'lr': 0.001, 'dropout': 0.3, 'lr_decay': 0.1, 'layers': 2, 'hidden_dim': 800}\n",
      "Epoch: 19/100, Val Loss: 4802.8643, Pearson R: -0.2141, RMSE: 75.6204\n",
      "{'batch_size': 16, 'lr': 0.001, 'dropout': 0.3, 'lr_decay': 0.1, 'layers': 4, 'hidden_dim': 400}\n",
      "Epoch: 16/100, Val Loss: 4763.7520, Pearson R: -0.2141, RMSE: 75.3534\n",
      "{'batch_size': 16, 'lr': 0.001, 'dropout': 0.3, 'lr_decay': 0.1, 'layers': 4, 'hidden_dim': 800}\n",
      "Epoch: 17/100, Val Loss: 4591.6519, Pearson R: -0.2141, RMSE: 74.1252\n",
      "{'batch_size': 16, 'lr': 0.001, 'dropout': 0.3, 'lr_decay': 0.01, 'layers': 2, 'hidden_dim': 400}\n",
      "Epoch: 17/100, Val Loss: 4824.2871, Pearson R: -0.2141, RMSE: 75.7818\n",
      "{'batch_size': 16, 'lr': 0.001, 'dropout': 0.3, 'lr_decay': 0.01, 'layers': 2, 'hidden_dim': 800}\n",
      "Epoch: 17/100, Val Loss: 4607.7583, Pearson R: -0.2141, RMSE: 74.2436\n",
      "{'batch_size': 16, 'lr': 0.001, 'dropout': 0.3, 'lr_decay': 0.01, 'layers': 4, 'hidden_dim': 400}\n",
      "Epoch: 19/100, Val Loss: 4871.8916, Pearson R: -0.2141, RMSE: 76.0951\n",
      "{'batch_size': 16, 'lr': 0.001, 'dropout': 0.3, 'lr_decay': 0.01, 'layers': 4, 'hidden_dim': 800}\n",
      "Epoch: 16/100, Val Loss: 4607.1201, Pearson R: -0.2141, RMSE: 74.2409\n",
      "{'batch_size': 16, 'lr': 0.001, 'dropout': 0.3, 'lr_decay': 0.001, 'layers': 2, 'hidden_dim': 400}\n",
      "Epoch: 15/100, Val Loss: 4852.0723, Pearson R: -0.2141, RMSE: 75.9580\n",
      "{'batch_size': 16, 'lr': 0.001, 'dropout': 0.3, 'lr_decay': 0.001, 'layers': 2, 'hidden_dim': 800}\n",
      "Epoch: 18/100, Val Loss: 4695.5693, Pearson R: -0.2141, RMSE: 74.8610\n",
      "{'batch_size': 16, 'lr': 0.001, 'dropout': 0.3, 'lr_decay': 0.001, 'layers': 4, 'hidden_dim': 400}\n",
      "Epoch: 14/100, Val Loss: 4816.4551, Pearson R: -0.2141, RMSE: 75.7264\n",
      "{'batch_size': 16, 'lr': 0.001, 'dropout': 0.3, 'lr_decay': 0.001, 'layers': 4, 'hidden_dim': 800}\n",
      "Epoch: 16/100, Val Loss: 4537.7520, Pearson R: -0.2141, RMSE: 73.7362\n",
      "{'batch_size': 16, 'lr': 0.001, 'dropout': 0.3, 'lr_decay': 0.0001, 'layers': 2, 'hidden_dim': 400}\n",
      "Epoch: 15/100, Val Loss: 4916.7075, Pearson R: -0.2141, RMSE: 76.4226\n",
      "{'batch_size': 16, 'lr': 0.001, 'dropout': 0.3, 'lr_decay': 0.0001, 'layers': 2, 'hidden_dim': 800}\n",
      "Epoch: 18/100, Val Loss: 4649.2832, Pearson R: -0.2141, RMSE: 74.5424\n",
      "{'batch_size': 16, 'lr': 0.001, 'dropout': 0.3, 'lr_decay': 0.0001, 'layers': 4, 'hidden_dim': 400}\n",
      "Epoch: 15/100, Val Loss: 4867.3198, Pearson R: -0.2141, RMSE: 76.0643\n",
      "{'batch_size': 16, 'lr': 0.001, 'dropout': 0.3, 'lr_decay': 0.0001, 'layers': 4, 'hidden_dim': 800}\n",
      "Epoch: 20/100, Val Loss: 4727.2437, Pearson R: -0.2141, RMSE: 75.0970\n",
      "{'batch_size': 16, 'lr': 0.001, 'dropout': 0.4, 'lr_decay': 0.1, 'layers': 2, 'hidden_dim': 400}\n",
      "Epoch: 16/100, Val Loss: 4775.3921, Pearson R: -0.2141, RMSE: 75.4342\n",
      "{'batch_size': 16, 'lr': 0.001, 'dropout': 0.4, 'lr_decay': 0.1, 'layers': 2, 'hidden_dim': 800}\n",
      "Epoch: 17/100, Val Loss: 4646.8242, Pearson R: -0.2141, RMSE: 74.5174\n",
      "{'batch_size': 16, 'lr': 0.001, 'dropout': 0.4, 'lr_decay': 0.1, 'layers': 4, 'hidden_dim': 400}\n",
      "Epoch: 12/100, Val Loss: 4674.5400, Pearson R: -0.2141, RMSE: 74.7253\n",
      "{'batch_size': 16, 'lr': 0.001, 'dropout': 0.4, 'lr_decay': 0.1, 'layers': 4, 'hidden_dim': 800}\n",
      "Epoch: 17/100, Val Loss: 4845.6636, Pearson R: -0.2141, RMSE: 75.9213\n",
      "{'batch_size': 16, 'lr': 0.001, 'dropout': 0.4, 'lr_decay': 0.01, 'layers': 2, 'hidden_dim': 400}\n",
      "Epoch: 17/100, Val Loss: 4710.0352, Pearson R: -0.2141, RMSE: 74.9700\n",
      "{'batch_size': 16, 'lr': 0.001, 'dropout': 0.4, 'lr_decay': 0.01, 'layers': 2, 'hidden_dim': 800}\n",
      "Epoch: 15/100, Val Loss: 4601.2515, Pearson R: -0.2141, RMSE: 74.1986\n",
      "{'batch_size': 16, 'lr': 0.001, 'dropout': 0.4, 'lr_decay': 0.01, 'layers': 4, 'hidden_dim': 400}\n",
      "Epoch: 13/100, Val Loss: 4687.4756, Pearson R: -0.2141, RMSE: 74.8152\n",
      "{'batch_size': 16, 'lr': 0.001, 'dropout': 0.4, 'lr_decay': 0.01, 'layers': 4, 'hidden_dim': 800}\n",
      "Epoch: 17/100, Val Loss: 4724.2588, Pearson R: -0.2141, RMSE: 75.0571\n",
      "{'batch_size': 16, 'lr': 0.001, 'dropout': 0.4, 'lr_decay': 0.001, 'layers': 2, 'hidden_dim': 400}\n",
      "Epoch: 16/100, Val Loss: 4850.0537, Pearson R: -0.2141, RMSE: 75.9575\n",
      "{'batch_size': 16, 'lr': 0.001, 'dropout': 0.4, 'lr_decay': 0.001, 'layers': 2, 'hidden_dim': 800}\n",
      "Epoch: 17/100, Val Loss: 4768.9834, Pearson R: -0.2141, RMSE: 75.3904\n",
      "{'batch_size': 16, 'lr': 0.001, 'dropout': 0.4, 'lr_decay': 0.001, 'layers': 4, 'hidden_dim': 400}\n",
      "Epoch: 16/100, Val Loss: 4850.4932, Pearson R: -0.2141, RMSE: 75.9589\n",
      "{'batch_size': 16, 'lr': 0.001, 'dropout': 0.4, 'lr_decay': 0.001, 'layers': 4, 'hidden_dim': 800}\n",
      "Epoch: 18/100, Val Loss: 4532.2666, Pearson R: -0.2141, RMSE: 73.6957\n",
      "{'batch_size': 16, 'lr': 0.001, 'dropout': 0.4, 'lr_decay': 0.0001, 'layers': 2, 'hidden_dim': 400}\n",
      "Epoch: 17/100, Val Loss: 4954.3628, Pearson R: -0.2141, RMSE: 76.6813\n",
      "{'batch_size': 16, 'lr': 0.001, 'dropout': 0.4, 'lr_decay': 0.0001, 'layers': 2, 'hidden_dim': 800}\n"
     ]
    },
    {
     "name": "stdout",
     "output_type": "stream",
     "text": [
      "Epoch: 17/100, Val Loss: 4600.2529, Pearson R: -0.2141, RMSE: 74.1909\n",
      "{'batch_size': 16, 'lr': 0.001, 'dropout': 0.4, 'lr_decay': 0.0001, 'layers': 4, 'hidden_dim': 400}\n",
      "Epoch: 12/100, Val Loss: 4710.3018, Pearson R: -0.2141, RMSE: 74.9798\n",
      "{'batch_size': 16, 'lr': 0.001, 'dropout': 0.4, 'lr_decay': 0.0001, 'layers': 4, 'hidden_dim': 800}\n",
      "Epoch: 17/100, Val Loss: 4618.9775, Pearson R: -0.2141, RMSE: 74.3091\n",
      "{'batch_size': 16, 'lr': 0.001, 'dropout': 0.5, 'lr_decay': 0.1, 'layers': 2, 'hidden_dim': 400}\n",
      "Epoch: 15/100, Val Loss: 4682.8496, Pearson R: -0.2141, RMSE: 74.7721\n",
      "{'batch_size': 16, 'lr': 0.001, 'dropout': 0.5, 'lr_decay': 0.1, 'layers': 2, 'hidden_dim': 800}\n",
      "Epoch: 14/100, Val Loss: 4646.5547, Pearson R: -0.2141, RMSE: 74.5247\n",
      "{'batch_size': 16, 'lr': 0.001, 'dropout': 0.5, 'lr_decay': 0.1, 'layers': 4, 'hidden_dim': 400}\n",
      "Epoch: 12/100, Val Loss: 4673.8159, Pearson R: -0.2141, RMSE: 74.7189\n",
      "{'batch_size': 16, 'lr': 0.001, 'dropout': 0.5, 'lr_decay': 0.1, 'layers': 4, 'hidden_dim': 800}\n",
      "Epoch: 22/100, Val Loss: 4618.3701, Pearson R: -0.2141, RMSE: 74.3103\n",
      "{'batch_size': 16, 'lr': 0.001, 'dropout': 0.5, 'lr_decay': 0.01, 'layers': 2, 'hidden_dim': 400}\n",
      "Epoch: 18/100, Val Loss: 4992.1279, Pearson R: -0.2141, RMSE: 76.9356\n",
      "{'batch_size': 16, 'lr': 0.001, 'dropout': 0.5, 'lr_decay': 0.01, 'layers': 2, 'hidden_dim': 800}\n",
      "Epoch: 14/100, Val Loss: 4543.7627, Pearson R: -0.2141, RMSE: 73.7795\n",
      "{'batch_size': 16, 'lr': 0.001, 'dropout': 0.5, 'lr_decay': 0.01, 'layers': 4, 'hidden_dim': 400}\n",
      "Epoch: 14/100, Val Loss: 4669.4126, Pearson R: -0.2141, RMSE: 74.6844\n",
      "{'batch_size': 16, 'lr': 0.001, 'dropout': 0.5, 'lr_decay': 0.01, 'layers': 4, 'hidden_dim': 800}\n",
      "Epoch: 15/100, Val Loss: 4535.5303, Pearson R: -0.2141, RMSE: 73.7196\n",
      "{'batch_size': 16, 'lr': 0.001, 'dropout': 0.5, 'lr_decay': 0.001, 'layers': 2, 'hidden_dim': 400}\n",
      "Epoch: 20/100, Val Loss: 4799.9463, Pearson R: -0.2141, RMSE: 75.6070\n",
      "{'batch_size': 16, 'lr': 0.001, 'dropout': 0.5, 'lr_decay': 0.001, 'layers': 2, 'hidden_dim': 800}\n",
      "Epoch: 17/100, Val Loss: 4598.0898, Pearson R: -0.2141, RMSE: 74.1759\n",
      "{'batch_size': 16, 'lr': 0.001, 'dropout': 0.5, 'lr_decay': 0.001, 'layers': 4, 'hidden_dim': 400}\n",
      "Epoch: 15/100, Val Loss: 4667.4077, Pearson R: -0.2141, RMSE: 74.6715\n",
      "{'batch_size': 16, 'lr': 0.001, 'dropout': 0.5, 'lr_decay': 0.001, 'layers': 4, 'hidden_dim': 800}\n",
      "Epoch: 15/100, Val Loss: 4512.1279, Pearson R: -0.2141, RMSE: 73.5476\n",
      "{'batch_size': 16, 'lr': 0.001, 'dropout': 0.5, 'lr_decay': 0.0001, 'layers': 2, 'hidden_dim': 400}\n",
      "Epoch: 18/100, Val Loss: 4787.6421, Pearson R: -0.2141, RMSE: 75.5158\n",
      "{'batch_size': 16, 'lr': 0.001, 'dropout': 0.5, 'lr_decay': 0.0001, 'layers': 2, 'hidden_dim': 800}\n",
      "Epoch: 15/100, Val Loss: 4617.7319, Pearson R: -0.2141, RMSE: 74.3076\n",
      "{'batch_size': 16, 'lr': 0.001, 'dropout': 0.5, 'lr_decay': 0.0001, 'layers': 4, 'hidden_dim': 400}\n",
      "Epoch: 12/100, Val Loss: 4646.2749, Pearson R: -0.2141, RMSE: 74.5212\n",
      "{'batch_size': 16, 'lr': 0.001, 'dropout': 0.5, 'lr_decay': 0.0001, 'layers': 4, 'hidden_dim': 800}\n",
      "Epoch: 20/100, Val Loss: 4944.2476, Pearson R: -0.2141, RMSE: 76.6023\n",
      "{'batch_size': 16, 'lr': 0.0001, 'dropout': 0.1, 'lr_decay': 0.1, 'layers': 2, 'hidden_dim': 400}\n",
      "Epoch: 53/100, Val Loss: 4911.9258, Pearson R: -0.2141, RMSE: 76.3894\n",
      "{'batch_size': 16, 'lr': 0.0001, 'dropout': 0.1, 'lr_decay': 0.1, 'layers': 2, 'hidden_dim': 800}\n",
      "Epoch: 35/100, Val Loss: 4937.1245, Pearson R: -0.2141, RMSE: 76.5630\n",
      "{'batch_size': 16, 'lr': 0.0001, 'dropout': 0.1, 'lr_decay': 0.1, 'layers': 4, 'hidden_dim': 400}\n",
      "Epoch: 43/100, Val Loss: 5029.6826, Pearson R: -0.2141, RMSE: 77.1957\n",
      "{'batch_size': 16, 'lr': 0.0001, 'dropout': 0.1, 'lr_decay': 0.1, 'layers': 4, 'hidden_dim': 800}\n",
      "Epoch: 27/100, Val Loss: 5028.3784, Pearson R: -0.2141, RMSE: 77.1868\n",
      "{'batch_size': 16, 'lr': 0.0001, 'dropout': 0.1, 'lr_decay': 0.01, 'layers': 2, 'hidden_dim': 400}\n",
      "Epoch: 51/100, Val Loss: 4927.8887, Pearson R: -0.2141, RMSE: 76.4995\n",
      "{'batch_size': 16, 'lr': 0.0001, 'dropout': 0.1, 'lr_decay': 0.01, 'layers': 2, 'hidden_dim': 800}\n",
      "Epoch: 35/100, Val Loss: 4923.0840, Pearson R: -0.2141, RMSE: 76.4666\n",
      "{'batch_size': 16, 'lr': 0.0001, 'dropout': 0.1, 'lr_decay': 0.01, 'layers': 4, 'hidden_dim': 400}\n",
      "Epoch: 43/100, Val Loss: 4995.3008, Pearson R: -0.2141, RMSE: 76.9615\n",
      "{'batch_size': 16, 'lr': 0.0001, 'dropout': 0.1, 'lr_decay': 0.01, 'layers': 4, 'hidden_dim': 800}\n",
      "Epoch: 27/100, Val Loss: 5049.0615, Pearson R: -0.2141, RMSE: 77.3272\n",
      "{'batch_size': 16, 'lr': 0.0001, 'dropout': 0.1, 'lr_decay': 0.001, 'layers': 2, 'hidden_dim': 400}\n",
      "Epoch: 6/100, Val Loss: 4463.5127, Pearson R: 0.2141, RMSE: 73.1862\n",
      "{'batch_size': 16, 'lr': 0.0001, 'dropout': 0.1, 'lr_decay': 0.001, 'layers': 2, 'hidden_dim': 800}\n",
      "Epoch: 34/100, Val Loss: 4918.8389, Pearson R: -0.2141, RMSE: 76.4372\n",
      "{'batch_size': 16, 'lr': 0.0001, 'dropout': 0.1, 'lr_decay': 0.001, 'layers': 4, 'hidden_dim': 400}\n",
      "Epoch: 40/100, Val Loss: 4979.4570, Pearson R: -0.2141, RMSE: 76.8533\n",
      "{'batch_size': 16, 'lr': 0.0001, 'dropout': 0.1, 'lr_decay': 0.001, 'layers': 4, 'hidden_dim': 800}\n",
      "Epoch: 27/100, Val Loss: 4984.5283, Pearson R: -0.2141, RMSE: 76.8880\n",
      "{'batch_size': 16, 'lr': 0.0001, 'dropout': 0.1, 'lr_decay': 0.0001, 'layers': 2, 'hidden_dim': 400}\n",
      "Epoch: 53/100, Val Loss: 4932.8594, Pearson R: -0.2141, RMSE: 76.5335\n",
      "{'batch_size': 16, 'lr': 0.0001, 'dropout': 0.1, 'lr_decay': 0.0001, 'layers': 2, 'hidden_dim': 800}\n",
      "Epoch: 33/100, Val Loss: 4937.5303, Pearson R: -0.2141, RMSE: 76.5655\n",
      "{'batch_size': 16, 'lr': 0.0001, 'dropout': 0.1, 'lr_decay': 0.0001, 'layers': 4, 'hidden_dim': 400}\n",
      "Epoch: 43/100, Val Loss: 5012.9512, Pearson R: -0.2141, RMSE: 77.0812\n",
      "{'batch_size': 16, 'lr': 0.0001, 'dropout': 0.1, 'lr_decay': 0.0001, 'layers': 4, 'hidden_dim': 800}\n",
      "Epoch: 27/100, Val Loss: 5005.7998, Pearson R: -0.2141, RMSE: 77.0330\n",
      "{'batch_size': 16, 'lr': 0.0001, 'dropout': 0.2, 'lr_decay': 0.1, 'layers': 2, 'hidden_dim': 400}\n",
      "Epoch: 62/100, Val Loss: 4900.7280, Pearson R: -0.2141, RMSE: 76.3124\n",
      "{'batch_size': 16, 'lr': 0.0001, 'dropout': 0.2, 'lr_decay': 0.1, 'layers': 2, 'hidden_dim': 800}\n",
      "Epoch: 40/100, Val Loss: 4925.9463, Pearson R: -0.2141, RMSE: 76.4862\n",
      "{'batch_size': 16, 'lr': 0.0001, 'dropout': 0.2, 'lr_decay': 0.1, 'layers': 4, 'hidden_dim': 400}\n",
      "Epoch: 63/100, Val Loss: 5066.6660, Pearson R: -0.2141, RMSE: 77.4426\n",
      "{'batch_size': 16, 'lr': 0.0001, 'dropout': 0.2, 'lr_decay': 0.1, 'layers': 4, 'hidden_dim': 800}\n",
      "Epoch: 32/100, Val Loss: 5008.3428, Pearson R: -0.2141, RMSE: 77.0502\n",
      "{'batch_size': 16, 'lr': 0.0001, 'dropout': 0.2, 'lr_decay': 0.01, 'layers': 2, 'hidden_dim': 400}\n",
      "Epoch: 7/100, Val Loss: 4463.1084, Pearson R: 0.2141, RMSE: 73.1833\n",
      "{'batch_size': 16, 'lr': 0.0001, 'dropout': 0.2, 'lr_decay': 0.01, 'layers': 2, 'hidden_dim': 800}\n",
      "Epoch: 38/100, Val Loss: 4918.0132, Pearson R: -0.2141, RMSE: 76.4313\n",
      "{'batch_size': 16, 'lr': 0.0001, 'dropout': 0.2, 'lr_decay': 0.01, 'layers': 4, 'hidden_dim': 400}\n",
      "Epoch: 58/100, Val Loss: 5055.5483, Pearson R: -0.2141, RMSE: 77.3706\n",
      "{'batch_size': 16, 'lr': 0.0001, 'dropout': 0.2, 'lr_decay': 0.01, 'layers': 4, 'hidden_dim': 800}\n",
      "Epoch: 33/100, Val Loss: 4999.4995, Pearson R: -0.2141, RMSE: 76.9901\n",
      "{'batch_size': 16, 'lr': 0.0001, 'dropout': 0.2, 'lr_decay': 0.001, 'layers': 2, 'hidden_dim': 400}\n",
      "Epoch: 61/100, Val Loss: 4895.3032, Pearson R: -0.2141, RMSE: 76.2750\n",
      "{'batch_size': 16, 'lr': 0.0001, 'dropout': 0.2, 'lr_decay': 0.001, 'layers': 2, 'hidden_dim': 800}\n",
      "Epoch: 39/100, Val Loss: 4926.1611, Pearson R: -0.2141, RMSE: 76.4872\n",
      "{'batch_size': 16, 'lr': 0.0001, 'dropout': 0.2, 'lr_decay': 0.001, 'layers': 4, 'hidden_dim': 400}\n",
      "Epoch: 57/100, Val Loss: 5060.0430, Pearson R: -0.2141, RMSE: 77.4016\n",
      "{'batch_size': 16, 'lr': 0.0001, 'dropout': 0.2, 'lr_decay': 0.001, 'layers': 4, 'hidden_dim': 800}\n",
      "Epoch: 30/100, Val Loss: 5022.3730, Pearson R: -0.2141, RMSE: 77.1458\n",
      "{'batch_size': 16, 'lr': 0.0001, 'dropout': 0.2, 'lr_decay': 0.0001, 'layers': 2, 'hidden_dim': 400}\n",
      "Epoch: 6/100, Val Loss: 4463.5068, Pearson R: 0.2141, RMSE: 73.1862\n",
      "{'batch_size': 16, 'lr': 0.0001, 'dropout': 0.2, 'lr_decay': 0.0001, 'layers': 2, 'hidden_dim': 800}\n",
      "Epoch: 38/100, Val Loss: 4906.3438, Pearson R: -0.2141, RMSE: 76.3512\n",
      "{'batch_size': 16, 'lr': 0.0001, 'dropout': 0.2, 'lr_decay': 0.0001, 'layers': 4, 'hidden_dim': 400}\n"
     ]
    },
    {
     "name": "stdout",
     "output_type": "stream",
     "text": [
      "Epoch: 54/100, Val Loss: 5016.7368, Pearson R: -0.2141, RMSE: 77.1076\n",
      "{'batch_size': 16, 'lr': 0.0001, 'dropout': 0.2, 'lr_decay': 0.0001, 'layers': 4, 'hidden_dim': 800}\n",
      "Epoch: 37/100, Val Loss: 5006.1289, Pearson R: -0.2141, RMSE: 77.0340\n",
      "{'batch_size': 16, 'lr': 0.0001, 'dropout': 0.3, 'lr_decay': 0.1, 'layers': 2, 'hidden_dim': 400}\n",
      "Epoch: 7/100, Val Loss: 4463.1621, Pearson R: 0.2141, RMSE: 73.1837\n",
      "{'batch_size': 16, 'lr': 0.0001, 'dropout': 0.3, 'lr_decay': 0.1, 'layers': 2, 'hidden_dim': 800}\n",
      "Epoch: 43/100, Val Loss: 4922.5781, Pearson R: -0.2141, RMSE: 76.4627\n",
      "{'batch_size': 16, 'lr': 0.0001, 'dropout': 0.3, 'lr_decay': 0.1, 'layers': 4, 'hidden_dim': 400}\n",
      "Epoch: 60/100, Val Loss: 4926.4863, Pearson R: -0.2141, RMSE: 76.4900\n",
      "{'batch_size': 16, 'lr': 0.0001, 'dropout': 0.3, 'lr_decay': 0.1, 'layers': 4, 'hidden_dim': 800}\n",
      "Epoch: 42/100, Val Loss: 5011.1221, Pearson R: -0.2141, RMSE: 77.0690\n",
      "{'batch_size': 16, 'lr': 0.0001, 'dropout': 0.3, 'lr_decay': 0.01, 'layers': 2, 'hidden_dim': 400}\n",
      "Epoch: 7/100, Val Loss: 4463.1655, Pearson R: 0.2141, RMSE: 73.1838\n",
      "{'batch_size': 16, 'lr': 0.0001, 'dropout': 0.3, 'lr_decay': 0.01, 'layers': 2, 'hidden_dim': 800}\n",
      "Epoch: 43/100, Val Loss: 4898.2021, Pearson R: -0.2141, RMSE: 76.2950\n",
      "{'batch_size': 16, 'lr': 0.0001, 'dropout': 0.3, 'lr_decay': 0.01, 'layers': 4, 'hidden_dim': 400}\n"
     ]
    }
   ],
   "source": [
    "#hyperparameter search for EHR baseline\n",
    "num_layers_arr = []\n",
    "dropout_arr = []\n",
    "lr_arr = []\n",
    "lr_decay_arr = []\n",
    "hidden_dim_arr = []\n",
    "batch_size_arr = []\n",
    "split_num_arr = []\n",
    "loss_arr = []\n",
    "for i in tqdm(outcome_list):\n",
    "    overall_best_params[i]['exp1'] = {}\n",
    "\n",
    "    maternal_IDs = patient_indices_OOL['sample_ID'].str[0:7].unique()\n",
    "    \n",
    "    kf = KFold(n_splits=3, shuffle=True, random_state=42)\n",
    "    split_num = 0\n",
    "    for train_index, test_index in kf.split(maternal_IDs):\n",
    "        split_num += 1\n",
    "        results_dict = {}\n",
    "        train_IDs = maternal_IDs[train_index]\n",
    "        test_IDs = maternal_IDs[test_index]\n",
    "        \n",
    "        sample_size = int(0.2 * len(train_index))\n",
    "        random_indices = np.random.choice(train_IDs.shape[0], sample_size, replace=False)\n",
    "        val_IDs = train_IDs[random_indices]\n",
    "        train_IDs = np.delete(train_IDs, random_indices)\n",
    "        \n",
    "        patient_indices_OOL['maternal_ID'] = patient_indices_OOL['sample_ID'].str[0:7]\n",
    "        patient_indices_OOL['maternal_ID_ts'] = patient_indices_OOL['maternal_ID'].astype(str)+'_'+patient_indices_OOL['sample_ID'].str[-2:]\n",
    "        input_OOL_proteomics = OOL_proteomics.merge(patient_indices_OOL[['maternal_ID_ts','array_index']], how='left', left_on='sample_ID', right_on='maternal_ID_ts').drop(['sample_ID','maternal_ID_ts','DOS'],axis=1).sort_values('array_index').drop('array_index',axis=1).values\n",
    "\n",
    "\n",
    "        train_indices = patient_indices_OOL[patient_indices_OOL['maternal_ID'].isin(train_IDs)]['array_index'].values\n",
    "        np.random.shuffle(train_indices)\n",
    "        test_indices = patient_indices_OOL[patient_indices_OOL['maternal_ID'].isin(test_IDs)]['array_index'].values\n",
    "        val_indices = patient_indices_OOL[patient_indices_OOL['maternal_ID'].isin(val_IDs)]['array_index'].values\n",
    "\n",
    "        # Iterate through the hyperparameter combinations\n",
    "        for param_set in tqdm(all_params):\n",
    "            bs = param_set['batch_size']\n",
    "            lr = param_set['lr']\n",
    "            dropout = param_set['dropout']\n",
    "            lr_decay = param_set['lr_decay']\n",
    "            layers = param_set['layers']\n",
    "            hidden_dim = param_set['hidden_dim']\n",
    "            print(param_set)\n",
    "            val_r, val_loss, val_rmse = run_experiment(RNN_data_codes_OOL, input_OOL_proteomics,\n",
    "                                                       patient_indices_OOL, RNN_data_outcomes_OOL,\n",
    "                                                       RNN_data_lengths_OOL, 'EHR_OOL_only_noHCE_with_obs',\n",
    "                                                       lr, lr_decay, bs, \n",
    "                                                       train_indices=train_indices, test_indices=test_indices,\n",
    "                                                       val_indices=val_indices, feature_types='EHR', model_path='',\n",
    "                                                       fine_tune=False, seed=42, hidden_dim=hidden_dim,\n",
    "                                                       num_layers=layers, dropout=dropout, hyperparam_tuning=True)\n",
    "\n",
    "            num_layers_arr.append(layers)\n",
    "            dropout_arr.append(dropout)\n",
    "            lr_arr.append(lr)\n",
    "            lr_decay_arr.append(lr_decay)\n",
    "            hidden_dim_arr.append(hidden_dim)\n",
    "            batch_size_arr.append(bs)\n",
    "            split_num_arr.append(split_num)\n",
    "            loss_arr.append(val_loss)\n",
    "\n",
    "        print('experiment 1')\n",
    "        print('outcome {}'.format(i))"
   ]
  },
  {
   "cell_type": "code",
   "execution_count": null,
   "id": "a60683ae",
   "metadata": {},
   "outputs": [],
   "source": [
    "hyperparam_df = pd.DataFrame([num_layers_arr, dropout_arr, lr_arr, lr_decay_arr, hidden_dim_arr, batch_size_arr, split_num_arr,loss_arr]).T\n",
    "hyperparam_df.columns = ['num_layers','dropout','lr','lr_decay','hidden_dim','bs','split_num','val_loss']\n",
    "hyperparam_df = hyperparam_df.groupby(['num_layers','dropout','lr','lr_decay','hidden_dim','bs']).mean()\n",
    "num_layers, dropout, lr, lr_decay, hidden_dim, bs = hyperparam_df['val_loss'].idxmin()\n",
    "print(np.min(hyperparam_df['val_loss']))\n",
    "\n",
    "print(num_layers, dropout, lr, lr_decay, hidden_dim, bs)\n",
    "\n",
    "overall_best_params['DOS']['exp1'] = {'num_layers': int(num_layers),'lr': lr,'lr_decay': lr_decay, 'dropout': dropout,\n",
    "                                'hidden_dim': int(hidden_dim), 'batch_size': int(bs)}\n",
    "with open(\"./models/hyperparameters/best_hyperparams_OOL_noHCE_with_obs.pkl\", \"wb\") as f:\n",
    "        pickle.dump(overall_best_params, f)"
   ]
  },
  {
   "cell_type": "code",
   "execution_count": null,
   "id": "d2f5f295",
   "metadata": {},
   "outputs": [],
   "source": [
    "best_num_layers_OOL = overall_best_params['DOS']['exp1']['num_layers']\n",
    "best_dropout_OOL = overall_best_params['DOS']['exp1']['dropout']\n",
    "best_hidden_dim_OOL = overall_best_params['DOS']['exp1']['hidden_dim']\n",
    "best_num_layers_OOL, best_dropout_OOL, best_hidden_dim_OOL"
   ]
  },
  {
   "cell_type": "code",
   "execution_count": null,
   "id": "aaddc719",
   "metadata": {},
   "outputs": [],
   "source": [
    "#grid for omics baseline hyperparam search\n",
    "grid_search = {'batch_size': [16],\n",
    "              'lr': [1e-1, 1e-2, 1e-3, 1e-4],\n",
    "              'lr_decay': [1e-1, 1e-2, 1e-3, 1e-4]}\n",
    "\n",
    "all_params = [dict(zip(grid_search.keys(), values)) for values in product(*grid_search.values())]"
   ]
  },
  {
   "cell_type": "code",
   "execution_count": null,
   "id": "585a2275",
   "metadata": {},
   "outputs": [],
   "source": []
  },
  {
   "cell_type": "code",
   "execution_count": null,
   "id": "367aa962",
   "metadata": {},
   "outputs": [],
   "source": [
    "#perform omics baseline hyperparam search\n",
    "num_layers_arr = []\n",
    "dropout_arr = []\n",
    "lr_arr = []\n",
    "lr_decay_arr = []\n",
    "hidden_dim_arr = []\n",
    "batch_size_arr = []\n",
    "split_num_arr = []\n",
    "loss_arr = []\n",
    "for i in tqdm(outcome_list):\n",
    "    overall_best_params[i]['exp2'] = {}\n",
    "\n",
    "    maternal_IDs = patient_indices_OOL['sample_ID'].str[0:7].unique()\n",
    "    \n",
    "    kf = KFold(n_splits=3, shuffle=True, random_state=42)\n",
    "    split_num = 0\n",
    "    for train_index, test_index in kf.split(maternal_IDs):\n",
    "        split_num += 1\n",
    "        results_dict = {}\n",
    "        train_IDs = maternal_IDs[train_index]\n",
    "        test_IDs = maternal_IDs[test_index]\n",
    "        \n",
    "        sample_size = int(0.2 * len(train_index))\n",
    "        random_indices = np.random.choice(train_IDs.shape[0], sample_size, replace=False)\n",
    "        val_IDs = train_IDs[random_indices]\n",
    "        train_IDs = np.delete(train_IDs, random_indices)\n",
    "        \n",
    "        patient_indices_OOL['maternal_ID'] = patient_indices_OOL['sample_ID'].str[0:7]\n",
    "        patient_indices_OOL['maternal_ID_ts'] = patient_indices_OOL['maternal_ID'].astype(str)+'_'+patient_indices_OOL['sample_ID'].str[-2:]\n",
    "        input_OOL_proteomics = OOL_proteomics.merge(patient_indices_OOL[['maternal_ID_ts','array_index']], how='left', left_on='sample_ID', right_on='maternal_ID_ts').drop(['sample_ID','maternal_ID_ts','DOS'],axis=1).sort_values('array_index').drop('array_index',axis=1).values\n",
    "\n",
    "\n",
    "        train_indices = patient_indices_OOL[patient_indices_OOL['maternal_ID'].isin(train_IDs)]['array_index'].values\n",
    "        np.random.shuffle(train_indices)\n",
    "        test_indices = patient_indices_OOL[patient_indices_OOL['maternal_ID'].isin(test_IDs)]['array_index'].values\n",
    "        val_indices = patient_indices_OOL[patient_indices_OOL['maternal_ID'].isin(val_IDs)]['array_index'].values\n",
    "\n",
    "        # Iterate through the hyperparameter combinations\n",
    "        for param_set in tqdm(all_params):\n",
    "            bs = param_set['batch_size']\n",
    "            lr = param_set['lr']\n",
    "            dropout = best_dropout_OOL\n",
    "            lr_decay = param_set['lr_decay']\n",
    "            layers = best_num_layers_OOL\n",
    "            hidden_dim = best_hidden_dim_OOL\n",
    "            print(param_set)\n",
    "            val_r, val_loss, val_rmse = run_experiment(RNN_data_codes_OOL, input_OOL_proteomics,\n",
    "                patient_indices_OOL, RNN_data_outcomes_OOL, RNN_data_lengths_OOL, 'proteomics_OOL_only_noHCE_with_obs', \n",
    "                lr, lr_decay, bs, train_indices=train_indices, test_indices=test_indices, val_indices=val_indices,\n",
    "                feature_types='metab', model_path='', fine_tune=False, seed=42, hidden_dim=hidden_dim,\n",
    "                num_layers=layers, dropout=dropout, hyperparam_tuning=True)\n",
    "            \n",
    "            num_layers_arr.append(layers)\n",
    "            dropout_arr.append(dropout)\n",
    "            lr_arr.append(lr)\n",
    "            lr_decay_arr.append(lr_decay)\n",
    "            hidden_dim_arr.append(hidden_dim)\n",
    "            batch_size_arr.append(bs)\n",
    "            split_num_arr.append(split_num)\n",
    "            loss_arr.append(val_loss)\n",
    "\n",
    "        print('experiment 2')\n",
    "        print('outcome {}'.format(i))"
   ]
  },
  {
   "cell_type": "code",
   "execution_count": null,
   "id": "75917d31",
   "metadata": {},
   "outputs": [],
   "source": [
    "hyperparam_df = pd.DataFrame([num_layers_arr, dropout_arr, lr_arr, lr_decay_arr, hidden_dim_arr, batch_size_arr, split_num_arr,loss_arr]).T\n",
    "hyperparam_df.columns = ['num_layers','dropout','lr','lr_decay','hidden_dim','bs','split_num','val_loss']\n",
    "hyperparam_df = hyperparam_df.groupby(['num_layers','dropout','lr','lr_decay','hidden_dim','bs']).mean()\n",
    "num_layers, dropout, lr, lr_decay, hidden_dim, bs = hyperparam_df['val_loss'].idxmin()\n",
    "print(np.min(hyperparam_df['val_loss']))\n",
    "print(num_layers, dropout, lr, lr_decay, hidden_dim, bs)\n",
    "\n",
    "overall_best_params['DOS']['exp2'] = {'num_layers': int(num_layers),'lr': lr,'lr_decay': lr_decay, 'dropout': dropout,\n",
    "                                'hidden_dim': int(hidden_dim), 'batch_size': int(bs)}\n",
    "with open(\"./models/hyperparameters/best_hyperparams_OOL_noHCE_with_obs.pkl\", \"wb\") as f:\n",
    "        pickle.dump(overall_best_params, f)"
   ]
  },
  {
   "cell_type": "code",
   "execution_count": null,
   "id": "904881c2",
   "metadata": {},
   "outputs": [],
   "source": [
    "#grid for joint baseline hyperparam search\n",
    "grid_search = {'batch_size': [16],\n",
    "              'lr': [1e-1, 1e-2, 1e-3, 1e-4],\n",
    "              'dropout': [0.1, 0.2, 0.3, 0.4, 0.5],\n",
    "              'lr_decay': [1e-1, 1e-2, 1e-3, 1e-4]}\n",
    "\n",
    "all_params = [dict(zip(grid_search.keys(), values)) for values in product(*grid_search.values())]"
   ]
  },
  {
   "cell_type": "code",
   "execution_count": null,
   "id": "819f7dcd",
   "metadata": {},
   "outputs": [],
   "source": [
    "#joint baseline hyperparam search\n",
    "\n",
    "num_layers_arr = []\n",
    "dropout_arr = []\n",
    "lr_arr = []\n",
    "lr_decay_arr = []\n",
    "hidden_dim_arr = []\n",
    "batch_size_arr = []\n",
    "split_num_arr = []\n",
    "loss_arr = []\n",
    "for i in tqdm(outcome_list):\n",
    "    overall_best_params[i]['exp3'] = {}\n",
    "\n",
    "    maternal_IDs = patient_indices_OOL['sample_ID'].str[0:7].unique()\n",
    "    \n",
    "    kf = KFold(n_splits=3, shuffle=True, random_state=42)\n",
    "    split_num = 0\n",
    "    for train_index, test_index in kf.split(maternal_IDs):\n",
    "        split_num += 1\n",
    "        results_dict = {}\n",
    "        train_IDs = maternal_IDs[train_index]\n",
    "        test_IDs = maternal_IDs[test_index]\n",
    "        \n",
    "        sample_size = int(0.2 * len(train_index))\n",
    "        random_indices = np.random.choice(train_IDs.shape[0], sample_size, replace=False)\n",
    "        val_IDs = train_IDs[random_indices]\n",
    "        train_IDs = np.delete(train_IDs, random_indices)\n",
    "        \n",
    "        patient_indices_OOL['maternal_ID'] = patient_indices_OOL['sample_ID'].str[0:7]\n",
    "        patient_indices_OOL['maternal_ID_ts'] = patient_indices_OOL['maternal_ID'].astype(str)+'_'+patient_indices_OOL['sample_ID'].str[-2:]\n",
    "        input_OOL_proteomics = OOL_proteomics.merge(patient_indices_OOL[['maternal_ID_ts','array_index']], how='left', left_on='sample_ID', right_on='maternal_ID_ts').drop(['sample_ID','maternal_ID_ts','DOS'],axis=1).sort_values('array_index').drop('array_index',axis=1).values\n",
    "\n",
    "\n",
    "        train_indices = patient_indices_OOL[patient_indices_OOL['maternal_ID'].isin(train_IDs)]['array_index'].values\n",
    "        np.random.shuffle(train_indices)\n",
    "        test_indices = patient_indices_OOL[patient_indices_OOL['maternal_ID'].isin(test_IDs)]['array_index'].values\n",
    "        val_indices = patient_indices_OOL[patient_indices_OOL['maternal_ID'].isin(val_IDs)]['array_index'].values\n",
    "\n",
    "        # Iterate through the hyperparameter combinations\n",
    "        for param_set in tqdm(all_params):\n",
    "            bs = param_set['batch_size']\n",
    "            lr = param_set['lr']\n",
    "            dropout = param_set['dropout']\n",
    "            lr_decay = param_set['lr_decay']\n",
    "            layers = best_num_layers_OOL\n",
    "            hidden_dim = best_hidden_dim_OOL\n",
    "            print(param_set)\n",
    "            \n",
    "            val_r, val_loss, val_rmse = run_experiment(RNN_data_codes_OOL, input_OOL_proteomics,\n",
    "                patient_indices_OOL, RNN_data_outcomes_OOL, RNN_data_lengths_OOL, 'both_OOL_only_noHCE_with_obs', \n",
    "                lr, lr_decay, bs, train_indices=train_indices, test_indices=test_indices,\n",
    "                val_indices=val_indices, feature_types='both', model_path='', fine_tune=False, seed=42,\n",
    "                hidden_dim=hidden_dim, num_layers=layers, dropout=dropout, hyperparam_tuning=True)\n",
    "\n",
    "            num_layers_arr.append(layers)\n",
    "            dropout_arr.append(dropout)\n",
    "            lr_arr.append(lr)\n",
    "            lr_decay_arr.append(lr_decay)\n",
    "            hidden_dim_arr.append(hidden_dim)\n",
    "            batch_size_arr.append(bs)\n",
    "            split_num_arr.append(split_num)\n",
    "            loss_arr.append(val_loss)\n",
    "\n",
    "        print('experiment 3')\n",
    "        print('outcome {}'.format(i))\n"
   ]
  },
  {
   "cell_type": "code",
   "execution_count": null,
   "id": "1ecf6885",
   "metadata": {},
   "outputs": [],
   "source": [
    "hyperparam_df = pd.DataFrame([num_layers_arr, dropout_arr, lr_arr, lr_decay_arr, hidden_dim_arr, batch_size_arr, split_num_arr,loss_arr]).T\n",
    "hyperparam_df.columns = ['num_layers','dropout','lr','lr_decay','hidden_dim','bs','split_num','val_loss']\n",
    "hyperparam_df = hyperparam_df.groupby(['num_layers','dropout','lr','lr_decay','hidden_dim','bs']).mean()\n",
    "num_layers, dropout, lr, lr_decay, hidden_dim, bs = hyperparam_df['val_loss'].idxmin()\n",
    "print(np.min(hyperparam_df['val_loss']))\n",
    "print(num_layers, dropout, lr, lr_decay, hidden_dim, bs)\n",
    "\n",
    "overall_best_params['DOS']['exp3'] = {'num_layers': int(num_layers),'lr': lr,'lr_decay': lr_decay, 'dropout': dropout,\n",
    "                                'hidden_dim': int(hidden_dim), 'batch_size': int(bs)}\n",
    "with open(\"./models/hyperparameters/best_hyperparams_OOL_noHCE_with_obs.pkl\", \"wb\") as f:\n",
    "        pickle.dump(overall_best_params, f)"
   ]
  },
  {
   "cell_type": "code",
   "execution_count": null,
   "id": "b47128c4",
   "metadata": {},
   "outputs": [],
   "source": [
    "#test pre-trained EHR model on omics data\n",
    "\n",
    "for i in tqdm(outcome_list):\n",
    "    overall_best_params[i]['exp4'] = {}\n",
    "    results_dict = {}\n",
    "\n",
    "    # set bs large enough to test all data in one pass\n",
    "    # other params don't matter since there is no training here....they are just set arbitrarily and saved to avoid issues with downstream code\n",
    "    bs = 1000\n",
    "    lr = 0.1\n",
    "    dropout = best_dropout\n",
    "    lr_decay = 0.1\n",
    "    layers = best_num_layers\n",
    "    hidden_dim = best_hidden_dim\n",
    "    print(param_set)\n",
    "    val_r, val_loss, val_rmse = run_experiment(RNN_data_codes, OOL_proteomics,\n",
    "            patient_indices, RNN_data_outcomes, RNN_data_lengths, 'EHR_OOL_PT_noHCE_with_obs', \n",
    "            lr, lr_decay, bs, feature_types='EHR', model_path='./models/predictive_models/{}.pth'.format(best_model_name),\n",
    "                                               fine_tune=False, seed=42,\n",
    "                                               hidden_dim=hidden_dim,\n",
    "                                              num_layers=layers, dropout=dropout, hyperparam_tuning=False)\n",
    "\n",
    "    results_dict[val_loss] = {'num_layers': layers,'lr': lr,'lr_decay': lr_decay, 'dropout': dropout,\n",
    "                            'hidden_dim': hidden_dim, 'batch_size': bs}\n",
    "\n",
    "    print('experiment 4')\n",
    "    print('outcome {}'.format(i))\n",
    "    overall_best_params[i]['exp4'] = results_dict[min(results_dict.keys())]\n",
    "    print(results_dict[min(results_dict.keys())])\n",
    "\n",
    "with open(\"./models/hyperparameters/best_hyperparams_OOL_noHCE_with_obs.pkl\", \"wb\") as f:\n",
    "    pickle.dump(overall_best_params, f)"
   ]
  },
  {
   "cell_type": "code",
   "execution_count": null,
   "id": "3fea1a59",
   "metadata": {},
   "outputs": [],
   "source": [
    "#grid search for EHR fine-tuning experiment (only fine-tuning the EHR pre-trained model)\n",
    "grid_search = {'batch_size': [16],\n",
    "              'lr': [1e-1, 1e-2, 1e-3, 1e-4],\n",
    "              'lr_decay': [1e-1, 1e-2, 1e-3, 1e-4]}\n",
    "\n",
    "all_params = [dict(zip(grid_search.keys(), values)) for values in product(*grid_search.values())]"
   ]
  },
  {
   "cell_type": "code",
   "execution_count": null,
   "id": "ec97bdce",
   "metadata": {},
   "outputs": [],
   "source": [
    "#actual hyperparam search\n",
    "\n",
    "num_layers_arr = []\n",
    "dropout_arr = []\n",
    "lr_arr = []\n",
    "lr_decay_arr = []\n",
    "hidden_dim_arr = []\n",
    "batch_size_arr = []\n",
    "split_num_arr = []\n",
    "loss_arr = []\n",
    "for i in tqdm(outcome_list):\n",
    "    overall_best_params[i]['exp5'] = {}\n",
    "\n",
    "    maternal_IDs = patient_indices['sample_ID'].str[0:7].unique()\n",
    "    \n",
    "    kf = KFold(n_splits=3, shuffle=True, random_state=42)\n",
    "    split_num = 0\n",
    "    for train_index, test_index in kf.split(maternal_IDs):\n",
    "        split_num += 1\n",
    "        results_dict = {}\n",
    "        train_IDs = maternal_IDs[train_index]\n",
    "        test_IDs = maternal_IDs[test_index]\n",
    "        \n",
    "        sample_size = int(0.2 * len(train_index))\n",
    "        random_indices = np.random.choice(train_IDs.shape[0], sample_size, replace=False)\n",
    "        val_IDs = train_IDs[random_indices]\n",
    "        train_IDs = np.delete(train_IDs, random_indices)\n",
    "        \n",
    "        patient_indices['maternal_ID'] = patient_indices['sample_ID'].str[0:7]\n",
    "        patient_indices['maternal_ID_ts'] = patient_indices['maternal_ID'].astype(str)+'_'+patient_indices['sample_ID'].str[-2:]\n",
    "        input_OOL_proteomics = OOL_proteomics.merge(patient_indices[['maternal_ID_ts','array_index']], how='left', left_on='sample_ID', right_on='maternal_ID_ts').drop(['sample_ID','maternal_ID_ts','DOS'],axis=1).sort_values('array_index').drop('array_index',axis=1).values\n",
    "\n",
    "\n",
    "        train_indices = patient_indices[patient_indices['maternal_ID'].isin(train_IDs)]['array_index'].values\n",
    "        np.random.shuffle(train_indices)\n",
    "        test_indices = patient_indices[patient_indices['maternal_ID'].isin(test_IDs)]['array_index'].values\n",
    "        val_indices = patient_indices[patient_indices['maternal_ID'].isin(val_IDs)]['array_index'].values\n",
    "\n",
    "        # Iterate through the hyperparameter combinations\n",
    "        for param_set in tqdm(all_params):\n",
    "            bs = param_set['batch_size']\n",
    "            lr = param_set['lr']\n",
    "            dropout = best_dropout\n",
    "            lr_decay = param_set['lr_decay']\n",
    "            layers = best_num_layers\n",
    "            hidden_dim = best_hidden_dim\n",
    "            print(param_set)\n",
    "            \n",
    "            val_r, val_loss, val_rmse = run_experiment(RNN_data_codes, input_OOL_proteomics,\n",
    "                patient_indices, RNN_data_outcomes, RNN_data_lengths, 'EHR_OOL_PT_noHCE_with_obs', \n",
    "                lr, lr_decay, bs, train_indices=train_indices, test_indices=test_indices,\n",
    "                val_indices=val_indices, feature_types='EHR',\n",
    "                model_path='./models/predictive_models/{}.pth'.format(best_model_name),\n",
    "                fine_tune=True, seed=42, hidden_dim=hidden_dim, num_layers=layers, dropout=dropout,\n",
    "                                                       hyperparam_tuning=True)\n",
    "            \n",
    "            num_layers_arr.append(layers)\n",
    "            dropout_arr.append(dropout)\n",
    "            lr_arr.append(lr)\n",
    "            lr_decay_arr.append(lr_decay)\n",
    "            hidden_dim_arr.append(hidden_dim)\n",
    "            batch_size_arr.append(bs)\n",
    "            split_num_arr.append(split_num)\n",
    "            loss_arr.append(val_loss)\n",
    "\n",
    "        print('experiment 5')\n",
    "        print('outcome {}'.format(i))"
   ]
  },
  {
   "cell_type": "code",
   "execution_count": null,
   "id": "c984a2bd",
   "metadata": {},
   "outputs": [],
   "source": [
    "hyperparam_df = pd.DataFrame([num_layers_arr, dropout_arr, lr_arr, lr_decay_arr, hidden_dim_arr, batch_size_arr, split_num_arr,loss_arr]).T\n",
    "hyperparam_df.columns = ['num_layers','dropout','lr','lr_decay','hidden_dim','bs','split_num','val_loss']\n",
    "hyperparam_df = hyperparam_df.groupby(['num_layers','dropout','lr','lr_decay','hidden_dim','bs']).mean()\n",
    "num_layers, dropout, lr, lr_decay, hidden_dim, bs = hyperparam_df['val_loss'].idxmin()\n",
    "print(np.min(hyperparam_df['val_loss']))\n",
    "print(num_layers, dropout, lr, lr_decay, hidden_dim, bs)\n",
    "\n",
    "overall_best_params['DOS']['exp5'] = {'num_layers': int(num_layers),'lr': lr,'lr_decay': lr_decay, 'dropout': dropout,\n",
    "                                'hidden_dim': int(hidden_dim), 'batch_size': int(bs)}\n",
    "with open(\"./models/hyperparameters/best_hyperparams_OOL_noHCE_with_obs.pkl\", \"wb\") as f:\n",
    "        pickle.dump(overall_best_params, f)"
   ]
  },
  {
   "cell_type": "code",
   "execution_count": null,
   "id": "ce375419",
   "metadata": {},
   "outputs": [],
   "source": [
    "#grid search for full COMET framework\n",
    "grid_search = {'batch_size': [16],\n",
    "              'lr': [1e-1, 1e-2, 1e-3, 1e-4],\n",
    "              'lr_decay': [1e-1, 1e-2, 1e-3, 1e-4]}\n",
    "\n",
    "all_params = [dict(zip(grid_search.keys(), values)) for values in product(*grid_search.values())]"
   ]
  },
  {
   "cell_type": "code",
   "execution_count": null,
   "id": "5c230823",
   "metadata": {},
   "outputs": [],
   "source": [
    "#hyperparam search for full COMET framework\n",
    "\n",
    "num_layers_arr = []\n",
    "dropout_arr = []\n",
    "lr_arr = []\n",
    "lr_decay_arr = []\n",
    "hidden_dim_arr = []\n",
    "batch_size_arr = []\n",
    "split_num_arr = []\n",
    "loss_arr = []\n",
    "for i in tqdm(outcome_list):\n",
    "    overall_best_params[i]['exp6'] = {}\n",
    "\n",
    "    maternal_IDs = patient_indices['sample_ID'].str[0:7].unique()\n",
    "    \n",
    "    kf = KFold(n_splits=3, shuffle=True, random_state=42)\n",
    "    split_num = 0\n",
    "    for train_index, test_index in kf.split(maternal_IDs):\n",
    "        split_num += 1\n",
    "        results_dict = {}\n",
    "        train_IDs = maternal_IDs[train_index]\n",
    "        test_IDs = maternal_IDs[test_index]\n",
    "        \n",
    "        sample_size = int(0.2 * len(train_index))\n",
    "        random_indices = np.random.choice(train_IDs.shape[0], sample_size, replace=False)\n",
    "        val_IDs = train_IDs[random_indices]\n",
    "        train_IDs = np.delete(train_IDs, random_indices)\n",
    "        \n",
    "        patient_indices['maternal_ID'] = patient_indices['sample_ID'].str[0:7]\n",
    "        patient_indices['maternal_ID_ts'] = patient_indices['maternal_ID'].astype(str)+'_'+patient_indices['sample_ID'].str[-2:]\n",
    "        input_OOL_proteomics = OOL_proteomics.merge(patient_indices[['maternal_ID_ts','array_index']], how='left', left_on='sample_ID', right_on='maternal_ID_ts').drop(['sample_ID','maternal_ID_ts','DOS'],axis=1).sort_values('array_index').drop('array_index',axis=1).values\n",
    "\n",
    "\n",
    "        train_indices = patient_indices[patient_indices['maternal_ID'].isin(train_IDs)]['array_index'].values\n",
    "        np.random.shuffle(train_indices)\n",
    "        test_indices = patient_indices[patient_indices['maternal_ID'].isin(test_IDs)]['array_index'].values\n",
    "        val_indices = patient_indices[patient_indices['maternal_ID'].isin(val_IDs)]['array_index'].values\n",
    "\n",
    "        # Iterate through the hyperparameter combinations\n",
    "        for param_set in tqdm(all_params):\n",
    "            bs = param_set['batch_size']\n",
    "            lr = param_set['lr']\n",
    "            dropout = best_dropout\n",
    "            lr_decay = param_set['lr_decay']\n",
    "            layers = best_num_layers\n",
    "            hidden_dim = best_hidden_dim\n",
    "            print(param_set)\n",
    "            val_r, val_loss, val_rmse = run_experiment(RNN_data_codes, input_OOL_proteomics,\n",
    "                patient_indices, RNN_data_outcomes, RNN_data_lengths, 'both_PT_noHCE_with_obs', \n",
    "                lr, lr_decay, bs, train_indices=train_indices, test_indices=test_indices,\n",
    "                val_indices=val_indices,feature_types='both',\n",
    "                model_path='./models/predictive_models/{}.pth'.format(best_model_name),\n",
    "                fine_tune=True, seed=42, hidden_dim=hidden_dim, num_layers=layers, dropout=dropout,\n",
    "                                                        hyperparam_tuning=True)\n",
    "            \n",
    "            num_layers_arr.append(layers)\n",
    "            dropout_arr.append(dropout)\n",
    "            lr_arr.append(lr)\n",
    "            lr_decay_arr.append(lr_decay)\n",
    "            hidden_dim_arr.append(hidden_dim)\n",
    "            batch_size_arr.append(bs)\n",
    "            split_num_arr.append(split_num)\n",
    "            loss_arr.append(val_loss)\n",
    "\n",
    "        print('experiment 6')\n",
    "        print('outcome {}'.format(i))"
   ]
  },
  {
   "cell_type": "code",
   "execution_count": null,
   "id": "060d42b3",
   "metadata": {},
   "outputs": [],
   "source": [
    "hyperparam_df = pd.DataFrame([num_layers_arr, dropout_arr, lr_arr, lr_decay_arr, hidden_dim_arr, batch_size_arr, split_num_arr,loss_arr]).T\n",
    "hyperparam_df.columns = ['num_layers','dropout','lr','lr_decay','hidden_dim','bs','split_num','val_loss']\n",
    "hyperparam_df = hyperparam_df.groupby(['num_layers','dropout','lr','lr_decay','hidden_dim','bs']).mean()\n",
    "num_layers, dropout, lr, lr_decay, hidden_dim, bs = hyperparam_df['val_loss'].idxmin()\n",
    "\n",
    "print(np.min(hyperparam_df['val_loss']))\n",
    "print(num_layers, dropout, lr, lr_decay, hidden_dim, bs)\n",
    "\n",
    "overall_best_params['DOS']['exp6'] = {'num_layers': int(num_layers),'lr': lr,'lr_decay': lr_decay, 'dropout': dropout,\n",
    "                                'hidden_dim': int(hidden_dim), 'batch_size': int(bs)}\n",
    "with open(\"./models/hyperparameters/best_hyperparams_OOL_noHCE_with_obs.pkl\", \"wb\") as f:\n",
    "        pickle.dump(overall_best_params, f)"
   ]
  },
  {
   "cell_type": "code",
   "execution_count": null,
   "id": "1be0372d",
   "metadata": {},
   "outputs": [],
   "source": [
    "overall_best_params = pickle.load(open('./models/hyperparameters/best_hyperparams_OOL_noHCE_with_obs.pkl','rb'))"
   ]
  },
  {
   "cell_type": "code",
   "execution_count": null,
   "id": "9341c597",
   "metadata": {},
   "outputs": [],
   "source": [
    "best_num_layers = overall_best_params['DOS']['PT']['num_layers']\n",
    "best_dropout = overall_best_params['DOS']['PT']['dropout']\n",
    "best_model_name = overall_best_params['DOS']['PT']['model_name']\n",
    "best_hidden_dim = overall_best_params['DOS']['PT']['hidden_dim']\n",
    "best_num_layers, best_dropout, best_hidden_dim, best_model_name"
   ]
  },
  {
   "cell_type": "code",
   "execution_count": null,
   "id": "32f3b405",
   "metadata": {},
   "outputs": [],
   "source": [
    "best_num_layers_OOL = overall_best_params['DOS']['exp1']['num_layers']\n",
    "best_dropout_OOL = overall_best_params['DOS']['exp1']['dropout']\n",
    "best_hidden_dim_OOL = overall_best_params['DOS']['exp1']['hidden_dim']\n",
    "best_num_layers_OOL, best_dropout_OOL, best_hidden_dim_OOL"
   ]
  },
  {
   "cell_type": "code",
   "execution_count": null,
   "id": "dff2cfc0",
   "metadata": {},
   "outputs": [],
   "source": [
    "#experiment 1 = baseline model EHR features\n",
    "#experiment 2 = baseline model metab features\n",
    "#experiment 3 = baseline model all features\n",
    "#experiment 4 = only pretrained model\n",
    "#experiment 5 = fine tune pretrained model \n",
    "#experiment 6 = add proteomics, fine tune pretrained model w/ frozen GRU weights\n",
    "\n",
    "num_iterations = 25\n",
    "results = {}\n",
    "for i in tqdm(outcome_list):\n",
    "    results[i] = {'exp1':[],'exp2':[],'exp3':[],'exp4':[],'exp5':[],'exp6':[]}\n",
    "    for j in tqdm(range(num_iterations)):\n",
    "        print('experiment 1')\n",
    "        val_auc = run_experiment(RNN_data_codes_OOL, OOL_proteomics,\n",
    "                patient_indices_OOL, RNN_data_outcomes_OOL, RNN_data_lengths_OOL, 'EHR_OOL_only_woHCE_wobs_fixed_{}'.format(j), \n",
    "                overall_best_params[i]['exp1']['lr'], overall_best_params[i]['exp1']['lr_decay'],\n",
    "                overall_best_params[i]['exp1']['batch_size'], feature_types='EHR', model_path='', fine_tune=False, seed=j,\n",
    "                                hidden_dim=overall_best_params[i]['exp1']['hidden_dim'],\n",
    "                                 num_layers=overall_best_params[i]['exp1']['num_layers'],\n",
    "                                 dropout=overall_best_params[i]['exp1']['dropout'], return_preds=True)\n",
    "        results[i]['exp1'].append(val_auc)\n",
    "        \n",
    "        print('experiment 2')\n",
    "        val_auc = run_experiment(RNN_data_codes_OOL, OOL_proteomics,\n",
    "                patient_indices_OOL, RNN_data_outcomes_OOL, RNN_data_lengths_OOL, 'proteomics_OOL_only_woHCE_wobs_fixed_{}'.format(j), \n",
    "                overall_best_params[i]['exp2']['lr'], overall_best_params[i]['exp2']['lr_decay'],\n",
    "                overall_best_params[i]['exp2']['batch_size'], feature_types='metab', model_path='', fine_tune=False, seed=j,\n",
    "                                hidden_dim=best_hidden_dim,num_layers=best_num_layers, dropout=best_dropout, return_preds=True)\n",
    "        results[i]['exp2'].append(val_auc)\n",
    "        \n",
    "        print('experiment 3')\n",
    "        val_auc = run_experiment(RNN_data_codes_OOL, OOL_proteomics,\n",
    "                patient_indices_OOL, RNN_data_outcomes_OOL, RNN_data_lengths_OOL, 'both_OOL_only_woHCE_wobs_fixed_{}'.format(j), \n",
    "                overall_best_params[i]['exp3']['lr'], overall_best_params[i]['exp3']['lr_decay'],\n",
    "                overall_best_params[i]['exp3']['batch_size'], feature_types='both', model_path='', fine_tune=False, seed=j,\n",
    "                                hidden_dim=overall_best_params[i]['exp3']['hidden_dim'],\n",
    "                                 num_layers=overall_best_params[i]['exp3']['num_layers'],\n",
    "                                 dropout=overall_best_params[i]['exp3']['dropout'],\n",
    "                                 return_preds=True, return_interpretability=True, return_grads=True)\n",
    "        results[i]['exp3'].append(val_auc)\n",
    "        \n",
    "        print('experiment 4')\n",
    "        val_auc = run_experiment(RNN_data_codes, OOL_proteomics,\n",
    "                patient_indices, RNN_data_outcomes, RNN_data_lengths, 'EHR_OOL_PT_woHCE_wobs_fixed_{}'.format(j), \n",
    "                overall_best_params[i]['exp4']['lr'], overall_best_params[i]['exp4']['lr_decay'],\n",
    "                overall_best_params[i]['exp4']['batch_size'], feature_types='EHR',\n",
    "                                 model_path='./models/predictive_models/{}.pth'.format(best_model_name),\n",
    "                                 fine_tune=False, seed=j,\n",
    "                                hidden_dim=best_hidden_dim,num_layers=best_num_layers,\n",
    "                                 dropout=best_dropout, return_preds=True)\n",
    "        results[i]['exp4'].append(val_auc)\n",
    "\n",
    "        print('experiment 5')\n",
    "        val_auc = run_experiment(RNN_data_codes, OOL_proteomics,\n",
    "                patient_indices, RNN_data_outcomes, RNN_data_lengths, 'EHR_OOL_PT_FT_woHCE_wobs_fixed_{}'.format(j), \n",
    "                overall_best_params[i]['exp5']['lr'], overall_best_params[i]['exp5']['lr_decay'],\n",
    "                overall_best_params[i]['exp5']['batch_size'], feature_types='EHR',\n",
    "                                 model_path='./models/predictive_models/{}.pth'.format(best_model_name),\n",
    "                                 fine_tune=True, seed=j,\n",
    "                                hidden_dim=best_hidden_dim,num_layers=best_num_layers,\n",
    "                                 dropout=best_dropout, return_preds=True)\n",
    "        results[i]['exp5'].append(val_auc)\n",
    "\n",
    "        print('experiment 6')\n",
    "        val_auc = run_experiment(RNN_data_codes, OOL_proteomics,\n",
    "                patient_indices, RNN_data_outcomes, RNN_data_lengths, 'both_OOL_PT_FT_woHCE_wobs_fixed_{}'.format(j), \n",
    "                overall_best_params[i]['exp6']['lr'], overall_best_params[i]['exp6']['lr_decay'],\n",
    "                overall_best_params[i]['exp6']['batch_size'], feature_types='both',\n",
    "                                model_path='./models/predictive_models/{}.pth'.format(best_model_name),\n",
    "                                 fine_tune=True, seed=j,\n",
    "                                hidden_dim=best_hidden_dim,num_layers=best_num_layers,\n",
    "                                 dropout=best_dropout,\n",
    "                                 return_preds=True, return_interpretability=True, return_grads=True)\n",
    "        results[i]['exp6'].append(val_auc)\n",
    "    "
   ]
  },
  {
   "cell_type": "code",
   "execution_count": null,
   "id": "4000a727",
   "metadata": {},
   "outputs": [],
   "source": [
    "#compute performance metrics from predictions in validation set\n",
    "for exp in results['DOS'].keys():\n",
    "    true_outcomes = []\n",
    "    total_preds = []\n",
    "    indices = []\n",
    "    for i in results['DOS'][exp]:\n",
    "        true_outcomes.extend(i[3])\n",
    "        total_preds.extend(i[4])\n",
    "        indices.extend(i[5])\n",
    "    \n",
    "        df = pd.DataFrame([true_outcomes,total_preds,indices]).T\n",
    "        df.columns = ['true_outcome','pred','index']\n",
    "        df = df.groupby('index').mean()\n",
    "    print(exp)\n",
    "    print(pearsonr(df['true_outcome'], df['pred'])[0])\n",
    "    print(np.sqrt(np.sum((df['true_outcome']-df['pred'])**2)/df.shape[0]))"
   ]
  },
  {
   "cell_type": "code",
   "execution_count": null,
   "id": "c3fb2f52",
   "metadata": {},
   "outputs": [],
   "source": [
    "#RMSE computation for exp4\n",
    "true = []\n",
    "pred = []\n",
    "index = []\n",
    "for i in range(0, NUM_TRIALS):\n",
    "    true.extend(list(np.array(results['DOS']['exp4'][i][3])*results['DOS']['exp3'][i][8]+results['DOS']['exp3'][i][7]))\n",
    "    pred.extend(list(np.array(results['DOS']['exp4'][i][4])*results['DOS']['exp3'][i][8]+results['DOS']['exp3'][i][7]))\n",
    "    index.extend(results['DOS']['exp4'][i][5])\n",
    "    \n",
    "df = pd.DataFrame([true,pred,index]).T\n",
    "df.columns = ['true','pred','index']\n",
    "df = df.groupby('index').mean()\n",
    "np.sqrt(np.mean((df['true']-df['pred'])**2))"
   ]
  },
  {
   "cell_type": "code",
   "execution_count": null,
   "id": "80dc5146",
   "metadata": {},
   "outputs": [],
   "source": [
    "f = open(\"./results/OOL_results_noHCE_with_obs.pkl\",\"wb\")\n",
    "\n",
    "# write the python object (dict) to pickle file\n",
    "pickle.dump(results,f)\n",
    "\n",
    "# close file\n",
    "f.close()"
   ]
  },
  {
   "cell_type": "code",
   "execution_count": null,
   "id": "139e59dd",
   "metadata": {},
   "outputs": [],
   "source": [
    "results = pickle.load(open('./results/OOL_results_noHCE_with_obs.pkl','rb'))"
   ]
  },
  {
   "cell_type": "markdown",
   "id": "65758722",
   "metadata": {},
   "source": [
    "## Feature Importance Stuff"
   ]
  },
  {
   "cell_type": "markdown",
   "id": "46fbfa25",
   "metadata": {},
   "source": [
    "### Compute Latent Representation of EHR"
   ]
  },
  {
   "cell_type": "code",
   "execution_count": null,
   "id": "daecbe5c",
   "metadata": {},
   "outputs": [],
   "source": [
    "RNN_data_codes_PTMODEL.shape, RNN_data_outcomes_PTMODEL.shape, RNN_data_lengths_PTMODEL.shape, patient_indices_PTMODEL.shape\n",
    "\n",
    "\n",
    "all_EHR_codes = [torch.tensor(data).float() for data in RNN_data_codes_PTMODEL]\n",
    "all_EHR_codes = [torch.nan_to_num(x) for x in all_EHR_codes]\n",
    "all_outcomes = torch.tensor(RNN_data_outcomes_PTMODEL).float()\n",
    "\n",
    "all_loader_codes = create_dataloaders(all_EHR_codes, all_outcomes, RNN_data_lengths_PTMODEL, 100000)   \n",
    "\n",
    "device = torch.device('cuda:0' if torch.cuda.is_available() else 'cpu')\n",
    "\n",
    "model = GRUNet(RNN_data_codes_PTMODEL.shape[2], best_hidden_dim, [best_hidden_dim], best_num_layers, 1, best_dropout).to(device)\n",
    "\n",
    "model_state_dict = torch.load('./models/predictive_models/{}.pth'.format(best_model_name))\n",
    "model.load_state_dict(model_state_dict)\n",
    "model.to(device)\n",
    "\n",
    "model.eval()\n",
    "criterion = nn.MSELoss()\n",
    "val_predictions = []\n",
    "val_true_labels = []\n",
    "running_loss_val, num_samples_val = 0, 0\n",
    "with torch.no_grad():\n",
    "    for (inputs_codes, labels_codes, lengths_codes) in (all_loader_codes):\n",
    "            inputs_codes, labels = inputs_codes.to(device), labels_codes.to(device)\n",
    "            outputs,interpretability_outputs = model(inputs_codes, lengths_codes, interpretability=True)\n",
    "\n",
    "            mean_tensor = torch.tensor(np.mean(RNN_data_outcomes_PTMODEL), dtype=torch.float32, device=device)\n",
    "            std_tensor = torch.tensor(np.std(RNN_data_outcomes_PTMODEL), dtype=torch.float32, device=device)\n",
    "\n",
    "            denormalized_outputs = outputs.squeeze() * std_tensor + mean_tensor\n",
    "            denormalized_labels = labels * std_tensor + mean_tensor\n",
    "\n",
    "            loss = criterion(denormalized_outputs, denormalized_labels)\n",
    "            running_loss_val += (loss.item()*RNN_data_lengths_PTMODEL.shape[0])\n",
    "            num_samples_val += RNN_data_lengths_PTMODEL.shape[0]\n",
    "            \n",
    "            val_predictions.extend(outputs.squeeze().tolist())\n",
    "            val_true_labels.extend(labels.tolist())\n",
    "\n",
    "val_loss = running_loss_val / (num_samples_val)\n",
    "pearson_corr, _ = pearsonr(val_predictions, val_true_labels)\n",
    "val_outcome_mean, val_outcome_sd = np.mean(RNN_data_outcomes_PTMODEL), np.std(RNN_data_outcomes_PTMODEL)\n",
    "val_rmse = np.sqrt(mean_squared_error(RNN_data_outcomes_PTMODEL, np.array(val_predictions)*val_outcome_sd+val_outcome_mean))\n",
    "\n",
    "\n",
    "output = pearson_corr, val_loss, val_rmse, RNN_data_outcomes_PTMODEL, np.array(val_predictions)*val_outcome_sd+val_outcome_mean, patient_indices_PTMODEL, interpretability_outputs, val_outcome_mean, val_outcome_sd\n",
    "\n"
   ]
  },
  {
   "cell_type": "code",
   "execution_count": null,
   "id": "5ccb9555",
   "metadata": {},
   "outputs": [],
   "source": [
    "pickle.dump(output, open('./results/full_cohort_latent_noHCE.pkl','wb'))"
   ]
  },
  {
   "cell_type": "markdown",
   "id": "a6f63f8c",
   "metadata": {},
   "source": [
    "### Feature Importance: Integrated Gradients"
   ]
  },
  {
   "cell_type": "code",
   "execution_count": null,
   "id": "8f63c402",
   "metadata": {},
   "outputs": [],
   "source": [
    "from captum.attr import IntegratedGradients\n"
   ]
  },
  {
   "cell_type": "code",
   "execution_count": null,
   "id": "cf86b14d",
   "metadata": {},
   "outputs": [],
   "source": [
    "from captum.attr import DeepLift\n",
    "device = torch.device('cuda:0' if torch.cuda.is_available() else 'cpu')\n",
    "\n",
    "# Set random seed for reproducibility\n",
    "seed = 42\n",
    "torch.manual_seed(seed)\n",
    "if torch.cuda.is_available():\n",
    "    torch.cuda.manual_seed(seed)\n",
    "    torch.cuda.manual_seed_all(seed)\n",
    "    \n",
    "#If all_data is false, we can use index 5 to compute integrated gradients on only val data, 13 for only train data\n",
    "#If all_data is true, we use train, test, and val data to compute integrated gradients\n",
    "imp_index = 5\n",
    "all_data = True\n",
    "\n",
    "\n",
    "# Path to models\n",
    "model_paths = [f'./models/predictive_models/both_OOL_PT_FT_woHCE_wobs_fixed_{i}.pth' for i in range(25)]\n",
    "\n",
    "# Initialize array to store feature importance\n",
    "importance_proteomics_all = torch.zeros((len(model_paths), OOL_proteomics.shape[1]-2))\n",
    "\n",
    "class ModelWrapper(nn.Module):\n",
    "    def __init__(self, model):\n",
    "        super().__init__()\n",
    "        self.model = model\n",
    "\n",
    "    def forward(self, proteomics, codes, lengths):\n",
    "        return self.model(codes, proteomics, lengths)\n",
    "\n",
    "for model_idx, model_path in tqdm(enumerate(model_paths)):\n",
    "    \n",
    "    \n",
    "    model = joint_model(RNN_data_codes.shape[2], best_hidden_dim, [best_hidden_dim], best_num_layers, 1,\n",
    "                    OOL_proteomics.shape[1]-2, [], [], best_dropout).to(device)\n",
    "    \n",
    "    proteomics = OOL_proteomics.merge(patient_indices[['sample_ID','array_index']], how='left', left_on='sample_ID', right_on='sample_ID').drop(['sample_ID','DOS'],axis=1).sort_values('array_index').drop('array_index',axis=1).values\n",
    "\n",
    "    if all_data == False:\n",
    "        val_proteomics = proteomics[results['DOS']['exp6'][model_idx][imp_index],:]\n",
    "    else:\n",
    "        val_proteomics = proteomics\n",
    "    scaler = StandardScaler()\n",
    "    val_proteomics = scaler.fit_transform(val_proteomics)\n",
    "\n",
    "    if all_data == False:\n",
    "        EHR_codes = [torch.tensor(data).float() for data in RNN_data_codes[results['DOS']['exp6'][model_idx][imp_index],:,:]]  \n",
    "        EHR_codes = [torch.nan_to_num(x) for x in EHR_codes]\n",
    "        val_proteomics = torch.tensor(val_proteomics).float()\n",
    "        val_proteomics = torch.nan_to_num(val_proteomics)\n",
    "        val_outcomes = torch.tensor(RNN_data_outcomes[results['DOS']['exp6'][model_idx][imp_index]]).float()\n",
    "\n",
    "        outcome_mean = torch.mean(val_outcomes)\n",
    "        outcome_sd = torch.std(val_outcomes)\n",
    "\n",
    "        data_set = DataBuilder(val_proteomics, val_outcomes, scaler)\n",
    "        loader_proteomics = DataLoader(dataset=data_set,batch_size=100000, worker_init_fn=worker_init_fn)\n",
    "        loader_codes = create_dataloaders(EHR_codes, val_outcomes, RNN_data_lengths[results['DOS']['exp6'][model_idx][imp_index]], 100000)\n",
    "    else:\n",
    "        EHR_codes = [torch.tensor(data).float() for data in RNN_data_codes]  \n",
    "        EHR_codes = [torch.nan_to_num(x) for x in EHR_codes]\n",
    "        val_proteomics = torch.tensor(val_proteomics).float()\n",
    "        val_proteomics = torch.nan_to_num(val_proteomics)\n",
    "        val_outcomes = torch.tensor(RNN_data_outcomes).float()\n",
    "\n",
    "        outcome_mean = torch.mean(val_outcomes)\n",
    "        outcome_sd = torch.std(val_outcomes)\n",
    "\n",
    "        data_set = DataBuilder(val_proteomics, val_outcomes, scaler)\n",
    "        loader_proteomics = DataLoader(dataset=data_set,batch_size=100000, worker_init_fn=worker_init_fn)\n",
    "        loader_codes = create_dataloaders(EHR_codes, val_outcomes, RNN_data_lengths, 100000)\n",
    "\n",
    "    model_state_dict = torch.load(model_path)\n",
    "    model.load_state_dict(model_state_dict)\n",
    "\n",
    "    device = torch.device('cuda:0' if torch.cuda.is_available() else 'cpu')\n",
    "\n",
    "    model.to(device)\n",
    "    model.eval()\n",
    "\n",
    "    model_wrapper = ModelWrapper(model)\n",
    "    ig = IntegratedGradients(model_wrapper)\n",
    "    # Compute the feature importance for this model\n",
    "    for (inputs_codes, labels_codes, lengths_codes), (inputs_proteomics, labels_proteomics) in zip(loader_codes, loader_proteomics):\n",
    "        inputs_codes, labels_codes = inputs_codes.to(device), labels_codes.to(device)\n",
    "        inputs_proteomics, labels_proteomics = inputs_proteomics.to(device), labels_proteomics.to(device)\n",
    "        \n",
    "        def forward_func(proteomics, codes, lengths):\n",
    "            return model(codes, proteomics, lengths)\n",
    "        \n",
    "        # Compute feature importances using a custom forward function\n",
    "        importance_proteomics = ig.attribute(inputs_proteomics, additional_forward_args=(inputs_codes, lengths_codes))\n",
    "        # Store the feature importance for this model\n",
    "        importance_proteomics_all[model_idx] = importance_proteomics.mean(dim=0).cpu().detach()\n",
    "    \n",
    "# Compute the average feature importance across all 25 models\n",
    "importance_proteomics_avg = torch.mean((importance_proteomics_all), dim=0)*1e11\n",
    "\n",
    "# Create dataframe for feature importances\n",
    "importance_df = pd.DataFrame([importance_proteomics_avg.numpy(), OOL_proteomics.drop(['DOS','sample_ID'],axis=1).columns]).T\n",
    "importance_df.columns = ['importance_PT','name']\n",
    "importance_df.sort_values('importance_PT')"
   ]
  },
  {
   "cell_type": "code",
   "execution_count": null,
   "id": "a135c223",
   "metadata": {},
   "outputs": [],
   "source": [
    "from captum.attr import DeepLift\n",
    "\n",
    "# Set random seed for reproducibility\n",
    "seed = 42\n",
    "torch.manual_seed(seed)\n",
    "if torch.cuda.is_available():\n",
    "    torch.cuda.manual_seed(seed)\n",
    "    torch.cuda.manual_seed_all(seed)\n",
    "\n",
    "\n",
    "# Path to models\n",
    "model_paths = [f'./models/predictive_models/both_OOL_only_woHCE_wobs_fixed_{i}.pth' for i in range(25)]\n",
    "\n",
    "# Initialize array to store feature importance\n",
    "importance_proteomics_all = torch.zeros((len(model_paths), OOL_proteomics.shape[1]-2))\n",
    "\n",
    "class ModelWrapper(nn.Module):\n",
    "    def __init__(self, model):\n",
    "        super().__init__()\n",
    "        self.model = model\n",
    "\n",
    "    def forward(self, proteomics, codes, lengths):\n",
    "        return self.model(codes, proteomics, lengths)\n",
    "\n",
    "# Iterate over all models\n",
    "for model_idx, model_path in tqdm(enumerate(model_paths)):\n",
    "    \n",
    "    device = torch.device('cuda:0' if torch.cuda.is_available() else 'cpu')\n",
    "    model = joint_model(RNN_data_codes_OOL.shape[2], overall_best_params['DOS']['exp3']['hidden_dim'], [overall_best_params['DOS']['exp3']['hidden_dim']],\n",
    "                        overall_best_params['DOS']['exp3']['num_layers'], 1,\n",
    "                        OOL_proteomics.shape[1]-2, [], [], overall_best_params['DOS']['exp3']['dropout']).to(device)\n",
    "    model.eval()\n",
    "\n",
    "    criterion = nn.MSELoss()\n",
    "\n",
    "    if all_data == False:\n",
    "        val_proteomics = proteomics[results['DOS']['exp3'][model_idx][imp_index],:]\n",
    "    else:\n",
    "        val_proteomics = proteomics\n",
    "    scaler = StandardScaler()\n",
    "    val_proteomics = scaler.fit_transform(val_proteomics)\n",
    "\n",
    "    if all_data == False:\n",
    "        EHR_codes = [torch.tensor(data).float() for data in RNN_data_codes_OOL[results['DOS']['exp3'][model_idx][imp_index],:,:]]  \n",
    "        EHR_codes = [torch.nan_to_num(x) for x in EHR_codes]\n",
    "        val_proteomics = torch.tensor(val_proteomics).float()\n",
    "        val_proteomics = torch.nan_to_num(val_proteomics)\n",
    "        val_outcomes = torch.tensor(RNN_data_outcomes_OOL[results['DOS']['exp3'][model_idx][imp_index]]).float()\n",
    "\n",
    "        outcome_mean = torch.mean(val_outcomes)\n",
    "        outcome_sd = torch.std(val_outcomes)\n",
    "\n",
    "        data_set = DataBuilder(val_proteomics, val_outcomes, scaler)\n",
    "        loader_proteomics = DataLoader(dataset=data_set,batch_size=100000, worker_init_fn=worker_init_fn)\n",
    "        loader_codes = create_dataloaders(EHR_codes, val_outcomes, RNN_data_lengths_OOL[results['DOS']['exp3'][model_idx][imp_index]], 100000)\n",
    "    if all_data == True:\n",
    "        EHR_codes = [torch.tensor(data).float() for data in RNN_data_codes_OOL]  \n",
    "        EHR_codes = [torch.nan_to_num(x) for x in EHR_codes]\n",
    "        val_proteomics = torch.tensor(val_proteomics).float()\n",
    "        val_proteomics = torch.nan_to_num(val_proteomics)\n",
    "        val_outcomes = torch.tensor(RNN_data_outcomes_OOL).float()\n",
    "\n",
    "        outcome_mean = torch.mean(val_outcomes)\n",
    "        outcome_sd = torch.std(val_outcomes)\n",
    "\n",
    "        data_set = DataBuilder(val_proteomics, val_outcomes, scaler)\n",
    "        loader_proteomics = DataLoader(dataset=data_set,batch_size=100000, worker_init_fn=worker_init_fn)\n",
    "        loader_codes = create_dataloaders(EHR_codes, val_outcomes, RNN_data_lengths_OOL, 100000)\n",
    "\n",
    "    # Load the model\n",
    "    model_state_dict = torch.load(model_path)\n",
    "    model.load_state_dict(model_state_dict)\n",
    "\n",
    "    model_wrapper = ModelWrapper(model)\n",
    "    ig = IntegratedGradients(model_wrapper)\n",
    "    # Compute the feature importance for this model\n",
    "    for (inputs_codes, labels_codes, lengths_codes), (inputs_proteomics, labels_proteomics) in zip(loader_codes, loader_proteomics):\n",
    "        inputs_codes, labels_codes = inputs_codes.to(device), labels_codes.to(device)\n",
    "        inputs_proteomics, labels_proteomics = inputs_proteomics.to(device), labels_proteomics.to(device)\n",
    "        \n",
    "        def forward_func(proteomics, codes, lengths):\n",
    "            return model(codes, proteomics, lengths)\n",
    "        \n",
    "        # Compute feature importances using a custom forward function\n",
    "        importance_proteomics = ig.attribute(inputs_proteomics, additional_forward_args=(inputs_codes, lengths_codes))\n",
    "        # Store the feature importance for this model\n",
    "        importance_proteomics_all[model_idx] = importance_proteomics.mean(dim=0).cpu().detach()\n",
    "    \n",
    "# Compute the average feature importance across all models\n",
    "importance_proteomics_avg = torch.mean((importance_proteomics_all), dim=0)*1e11\n",
    "\n",
    "# Create dataframe for feature importances\n",
    "importance_df_OOL = pd.DataFrame([importance_proteomics_avg.numpy(), OOL_proteomics.drop(['DOS','sample_ID'],axis=1).columns]).T\n",
    "importance_df_OOL.columns = ['importance_OOL','name']\n",
    "importance_df_OOL.sort_values('importance_OOL').head(10)"
   ]
  },
  {
   "cell_type": "markdown",
   "id": "b916f9b1",
   "metadata": {},
   "source": [
    "## Plot function trajectories by input"
   ]
  },
  {
   "cell_type": "code",
   "execution_count": null,
   "id": "c4e8b5c1",
   "metadata": {},
   "outputs": [],
   "source": [
    "#final structure is [PT_model1_epoch1, PT_mode1_epoch2,...PT_model2_epoch1....NPT_model1_epoch1...] "
   ]
  },
  {
   "cell_type": "code",
   "execution_count": null,
   "id": "67f91b91",
   "metadata": {},
   "outputs": [],
   "source": [
    "device = torch.device('cuda:0' if torch.cuda.is_available() else 'cpu')\n",
    "model = joint_model(RNN_data_codes.shape[2], best_hidden_dim, [best_hidden_dim], best_num_layers, 1,\n",
    "                    OOL_proteomics.shape[1]-2, [], [], best_dropout).to(device)\n",
    "\n",
    "model.eval()\n",
    "\n",
    "criterion = nn.MSELoss()\n",
    "\n",
    "proteomics = OOL_proteomics.merge(patient_indices[['sample_ID','array_index']], how='left', left_on='sample_ID', right_on='sample_ID').drop(['sample_ID','DOS'],axis=1).sort_values('array_index').drop('array_index',axis=1).values\n",
    "\n",
    "scaler = StandardScaler()\n",
    "proteomics = scaler.fit_transform(proteomics)\n",
    "\n",
    "EHR_codes = [torch.tensor(data).float() for data in RNN_data_codes]  \n",
    "EHR_codes = [torch.nan_to_num(x) for x in EHR_codes]\n",
    "proteomics = torch.tensor(proteomics).float()\n",
    "proteomics = torch.nan_to_num(proteomics)\n",
    "outcomes = torch.tensor(RNN_data_outcomes).float()\n",
    "\n",
    "\n",
    "data_set = DataBuilder(proteomics, outcomes, scaler)\n",
    "loader_proteomics = DataLoader(dataset=data_set,batch_size=100000, worker_init_fn=worker_init_fn)\n",
    "loader_codes = create_dataloaders(EHR_codes, outcomes, RNN_data_lengths, 100000)\n",
    "            \n",
    "    \n",
    "model_paths = [f'./models/predictive_models/both_OOL_PT_FT_woHCE_wobs_fixed_{i}_epoch{j}.pth' for i in range(25) for j in range(200)]\n",
    "model_number = 0\n",
    "\n",
    "all_outputs = []\n",
    "model_numbers = []\n",
    "epochs = []\n",
    "PT = []\n",
    "total_losses = []\n",
    "\n",
    "for i in tqdm(model_paths):\n",
    "    result = re.search('both_OOL_PT_FT_woHCE_wobs_fixed_(\\d+)_epoch(\\d+).pth', i)\n",
    "    model_number = int(result.group(1))\n",
    "    epoch_number = int(result.group(2))\n",
    "\n",
    "    with torch.no_grad():\n",
    "        try:\n",
    "            model_state_dict = torch.load(i)\n",
    "            model.load_state_dict(model_state_dict)\n",
    "            for (inputs_codes, labels_codes, lengths_codes), (inputs_proteomics, labels_proteomics) in (zip(loader_codes, loader_proteomics)):\n",
    "                inputs_codes, labels = inputs_codes.to(device), labels_codes.to(device)\n",
    "                inputs_proteomics = inputs_proteomics.to(device)\n",
    "                outputs = model(inputs_codes, inputs_proteomics, lengths_codes)\n",
    "                total_losses.append(criterion(outputs.squeeze(), labels).cpu().item())\n",
    "            all_outputs.append(outputs.squeeze().cpu().numpy())\n",
    "            model_numbers.append(model_number)\n",
    "            epochs.append(epoch_number)\n",
    "            PT.append('PT')\n",
    "        except FileNotFoundError:\n",
    "            pass\n",
    "\n",
    "model = joint_model(RNN_data_codes.shape[2], best_hidden_dim_OOL, [best_hidden_dim_OOL], best_num_layers_OOL, 1,\n",
    "                    OOL_proteomics.shape[1]-2, [], [], best_dropout_OOL).to(device)\n",
    "\n",
    "model.eval()\n",
    "\n",
    "EHR_codes = [torch.tensor(data).float() for data in RNN_data_codes_OOL]  \n",
    "EHR_codes = [torch.nan_to_num(x) for x in EHR_codes]\n",
    "proteomics = torch.tensor(proteomics).float()\n",
    "proteomics = torch.nan_to_num(proteomics)\n",
    "outcomes = torch.tensor(RNN_data_outcomes_OOL).float()\n",
    "\n",
    "\n",
    "data_set = DataBuilder(proteomics, outcomes, scaler)\n",
    "loader_proteomics = DataLoader(dataset=data_set,batch_size=100000, worker_init_fn=worker_init_fn)\n",
    "loader_codes = create_dataloaders(EHR_codes, outcomes, RNN_data_lengths_OOL, 100000)\n",
    "        \n",
    "model_paths = [f'./models/predictive_models/both_OOL_only_woHCE_wobs_fixed_{i}_epoch{j}.pth' for i in range(25) for j in range(200)]\n",
    "model_number = 0\n",
    "\n",
    "for i in tqdm(model_paths):\n",
    "    result = re.search('both_OOL_only_woHCE_wobs_fixed_(\\d+)_epoch(\\d+).pth', i)\n",
    "    model_number = int(result.group(1))\n",
    "    epoch_number = int(result.group(2))\n",
    "    if True:\n",
    "        with torch.no_grad():\n",
    "            try:\n",
    "                model_state_dict = torch.load(i)\n",
    "                model.load_state_dict(model_state_dict)\n",
    "                for (inputs_codes, labels_codes, lengths_codes), (inputs_proteomics, labels_proteomics) in (zip(loader_codes, loader_proteomics)):\n",
    "                    inputs_codes, labels = inputs_codes.to(device), labels_codes.to(device)\n",
    "                    inputs_proteomics = inputs_proteomics.to(device)\n",
    "                    outputs = model(inputs_codes, inputs_proteomics, lengths_codes)\n",
    "                    total_losses.append(criterion(outputs.squeeze(), labels).cpu().item())\n",
    "                all_outputs.append(outputs.squeeze().cpu().numpy())\n",
    "                model_numbers.append(model_number)\n",
    "                epochs.append(epoch_number)\n",
    "                PT.append('NPT')\n",
    "            except FileNotFoundError:\n",
    "                pass\n",
    "        "
   ]
  },
  {
   "cell_type": "code",
   "execution_count": null,
   "id": "e586fdca",
   "metadata": {},
   "outputs": [],
   "source": [
    "np.array(all_outputs).shape, len(model_numbers), len(epochs), len(PT), len(total_losses)"
   ]
  },
  {
   "cell_type": "code",
   "execution_count": null,
   "id": "e8c47930",
   "metadata": {},
   "outputs": [],
   "source": [
    "epochs = np.array(epochs)\n",
    "model_numbers = np.array(model_numbers)\n",
    "all_outputs = np.array(all_outputs)"
   ]
  },
  {
   "cell_type": "code",
   "execution_count": null,
   "id": "1de8aeac",
   "metadata": {},
   "outputs": [],
   "source": [
    "# Create custom lines for the legend\n",
    "line1 = Line2D([0], [0], color='none', marker='o', markersize=10, markerfacecolor='darkred', label='PT')\n",
    "line2 = Line2D([0], [0], color='none', marker='x', markersize=10, markerfacecolor='darkblue', label='NPT')\n",
    "\n",
    "# Create a t-SNE instance and fit_transform the data\n",
    "tsne = TSNE(n_components=2, random_state=42, init='pca', learning_rate='auto')\n",
    "embedding = tsne.fit_transform(np.array(all_outputs))\n",
    "\n",
    "# Create a markers array based on PT array\n",
    "marker_map = {'PT': 'o', 'NPT': 'x'}\n",
    "markers = [marker_map[pt] for pt in PT]\n",
    "\n",
    "# Don't normalize the epochs\n",
    "colors = epochs\n",
    "\n",
    "# Create colormaps that goes from light red to dark red for PT, light blue to dark blue for NPT\n",
    "cmap_pt = LinearSegmentedColormap.from_list(\"mycmap_pt\", [\"lightcoral\", \"darkred\"])\n",
    "cmap_npt = LinearSegmentedColormap.from_list(\"mycmap_npt\", [\"lightblue\", \"darkblue\"])\n",
    "\n",
    "# Plot the results with different markers and colors\n",
    "for marker_type, marker in marker_map.items():\n",
    "    mask = np.array(markers) == marker\n",
    "    cmap = cmap_pt if marker_type == 'PT' else cmap_npt\n",
    "    sc = plt.scatter(embedding[mask, 0], embedding[mask, 1], marker=marker, c=colors[mask], cmap=cmap, alpha = 0.7)\n",
    "\n",
    "plt.gca().set_aspect('equal', 'datalim')\n",
    "plt.gca().set_xticks([])\n",
    "plt.gca().set_yticks([])\n",
    "plt.title('Overall parameter space', fontsize=14)\n",
    "plt.legend(handles=[line1, line2])  # add the custom legend\n",
    "plt.savefig('./overall_params.png', dpi=1000)\n"
   ]
  },
  {
   "cell_type": "code",
   "execution_count": null,
   "id": "ca1e04aa",
   "metadata": {},
   "outputs": [],
   "source": [
    "# Perform t-SNE dimensionality reduction\n",
    "tsne = TSNE(n_components=2, random_state=42, init='pca', learning_rate='auto')\n",
    "embedding = tsne.fit_transform(np.array(all_outputs))\n",
    "\n",
    "# Create colormaps that go from light red to dark red for PT, and light blue to dark blue for NPT\n",
    "cmap_pt = LinearSegmentedColormap.from_list(\"mycmap_pt\", [\"lightcoral\", \"darkred\"])\n",
    "cmap_npt = LinearSegmentedColormap.from_list(\"mycmap_npt\", [\"lightblue\", \"darkblue\"])\n",
    "\n",
    "fig, axs = plt.subplots(5, 5, figsize=(20, 20))\n",
    "\n",
    "# Calculate the global x and y limits\n",
    "xlim = (embedding[:,0].min()-1, embedding[:,0].max()+1)\n",
    "ylim = (embedding[:,1].min()-1, embedding[:,1].max()+1)\n",
    "\n",
    "for model_number in range(25):\n",
    "    ax = axs[model_number // 5, model_number % 5]\n",
    "\n",
    "    for model_type in ['PT', 'NPT']:\n",
    "        # Get mask for the current trajectory\n",
    "        mask = (np.array(model_numbers) == model_number) & (np.array(PT) == model_type)\n",
    "\n",
    "        # Get the points and corresponding epochs for the current trajectory\n",
    "        trajectory_points = embedding[mask]\n",
    "        trajectory_epochs = np.array(epochs)[mask]\n",
    "\n",
    "        # Sort the points and epochs\n",
    "        sort_indices = np.argsort(trajectory_epochs)\n",
    "        sorted_points = trajectory_points[sort_indices]\n",
    "\n",
    "        # Select the colormap based on model_type\n",
    "        cmap = cmap_pt if model_type == 'PT' else cmap_npt\n",
    "\n",
    "        # Plot the points with color indicating epoch and marker indicating PT/NPT\n",
    "        ax.scatter(sorted_points[:, 0], sorted_points[:, 1], \n",
    "                   c=trajectory_epochs[sort_indices], \n",
    "                   cmap=cmap, \n",
    "                   marker=marker_map[model_type], \n",
    "                   alpha=0.6)\n",
    "\n",
    "        # Plot lines connecting the points of the same model type\n",
    "        ax.plot(sorted_points[:, 0], sorted_points[:, 1], \n",
    "                color='lightgrey' if model_type == 'PT' else 'black', \n",
    "                linestyle='--')\n",
    "\n",
    "    ax.set_aspect('auto')\n",
    "    ax.set_xlim(xlim)\n",
    "    ax.set_ylim(ylim)\n",
    "\n",
    "    # Turn off tick labels\n",
    "    ax.set_xticklabels([])\n",
    "    ax.set_yticklabels([])\n",
    "    ax.set_xticks([])\n",
    "    ax.set_yticks([])\n",
    "\n",
    "plt.tight_layout()\n",
    "plt.savefig('./overall_paths_ool.png',dpi=1000)\n"
   ]
  },
  {
   "cell_type": "markdown",
   "id": "473719e3",
   "metadata": {},
   "source": [
    "## Function Trajectories Based on Latent Embedding"
   ]
  },
  {
   "cell_type": "code",
   "execution_count": null,
   "id": "a5644206",
   "metadata": {},
   "outputs": [],
   "source": [
    "#I want to do this now with the embedding. The embedding will be (embed_dim, num_patients, num_epochs)\n",
    "#A solution is to just concat embed_dim with num_patients, (embed_dim*num_patients, num_epochs*num_models)\n",
    "\n",
    "device = torch.device('cuda:0' if torch.cuda.is_available() else 'cpu')\n",
    "\n",
    "\n",
    "model = joint_model(RNN_data_codes.shape[2], best_hidden_dim, [best_hidden_dim], best_num_layers, 1,\n",
    "                    OOL_proteomics.shape[1]-2, [], [], best_dropout).to(device)\n",
    "\n",
    "model.eval()\n",
    "\n",
    "criterion = nn.MSELoss()\n",
    "\n",
    "proteomics = OOL_proteomics.merge(patient_indices[['sample_ID','array_index']], how='left', left_on='sample_ID', right_on='sample_ID').drop(['sample_ID','DOS'],axis=1).sort_values('array_index').drop('array_index',axis=1).values\n",
    "\n",
    "scaler = StandardScaler()\n",
    "\n",
    "EHR_codes = [torch.tensor(data).float() for data in RNN_data_codes]  \n",
    "EHR_codes = [torch.nan_to_num(x) for x in EHR_codes]\n",
    "proteomics = torch.tensor(proteomics).float()\n",
    "proteomics = torch.nan_to_num(proteomics)\n",
    "outcomes = torch.tensor(RNN_data_outcomes).float()\n",
    "\n",
    "\n",
    "data_set = DataBuilder(proteomics, outcomes, scaler)\n",
    "loader_proteomics = DataLoader(dataset=data_set,batch_size=100000, worker_init_fn=worker_init_fn)\n",
    "loader_codes = create_dataloaders(EHR_codes, outcomes, RNN_data_lengths, 100000)\n",
    "        \n",
    "\n",
    "model_paths = [f'./models/predictive_models/both_OOL_PT_FT_woHCE_wobs_fixed_{i}_epoch{j}.pth' for i in range(25) for j in range(200)]\n",
    "model_number = 0\n",
    "\n",
    "all_outputs = []\n",
    "model_numbers = []\n",
    "epochs = []\n",
    "PT = []\n",
    "\n",
    "for i in tqdm(model_paths):\n",
    "    result = re.search('both_OOL_PT_FT_woHCE_wobs_fixed_(\\d+)_epoch(\\d+).pth', i)\n",
    "    model_number = int(result.group(1))\n",
    "    epoch_number = int(result.group(2))\n",
    "    if True:\n",
    "        with torch.no_grad():\n",
    "            try:\n",
    "                model_state_dict = torch.load(i)\n",
    "                model.load_state_dict(model_state_dict)\n",
    "                for (inputs_codes, labels_codes, lengths_codes), (inputs_proteomics, labels_proteomics) in (zip(loader_codes, loader_proteomics)):\n",
    "                    inputs_codes, labels = inputs_codes.to(device), labels_codes.to(device)\n",
    "                    inputs_proteomics = inputs_proteomics.to(device)\n",
    "                    outputs = model(inputs_codes, inputs_proteomics, lengths_codes, True)\n",
    "                latent_rep = outputs[1][0].flatten()\n",
    "                all_outputs.append(latent_rep.cpu().numpy())\n",
    "                model_numbers.append(model_number)\n",
    "                epochs.append(epoch_number)\n",
    "                PT.append('PT')\n",
    "            except FileNotFoundError:\n",
    "                pass\n",
    "\n",
    "\n",
    "model = joint_model(RNN_data_codes_OOL.shape[2], best_hidden_dim_OOL, [best_hidden_dim_OOL], best_num_layers_OOL, 1,\n",
    "                    OOL_proteomics.shape[1]-2, [], [], best_dropout_OOL).to(device)\n",
    "\n",
    "model.eval()\n",
    "\n",
    "criterion = nn.MSELoss()\n",
    "\n",
    "proteomics = OOL_proteomics.merge(patient_indices_OOL[['sample_ID','array_index']], how='left', left_on='sample_ID', right_on='sample_ID').drop(['sample_ID','DOS'],axis=1).sort_values('array_index').drop('array_index',axis=1).values\n",
    "\n",
    "scaler = StandardScaler()\n",
    "\n",
    "EHR_codes = [torch.tensor(data).float() for data in RNN_data_codes_OOL]  \n",
    "EHR_codes = [torch.nan_to_num(x) for x in EHR_codes]\n",
    "proteomics = torch.tensor(proteomics).float()\n",
    "proteomics = torch.nan_to_num(proteomics)\n",
    "outcomes = torch.tensor(RNN_data_outcomes_OOL).float()\n",
    "\n",
    "\n",
    "data_set = DataBuilder(proteomics, outcomes, scaler)\n",
    "loader_proteomics = DataLoader(dataset=data_set,batch_size=100000, worker_init_fn=worker_init_fn)\n",
    "loader_codes = create_dataloaders(EHR_codes, outcomes, RNN_data_lengths_OOL, 100000)\n",
    "            \n",
    " \n",
    "    \n",
    "model_paths = [f'./models/predictive_models/both_OOL_only_woHCE_wobs_fixed_{i}_epoch{j}.pth' for i in range(25) for j in range(200)]\n",
    "model_number = 0\n",
    "\n",
    "\n",
    "for i in tqdm(model_paths):\n",
    "    result = re.search('both_OOL_only_woHCE_wobs_fixed_(\\d+)_epoch(\\d+).pth', i)\n",
    "    model_number = int(result.group(1))\n",
    "    epoch_number = int(result.group(2))\n",
    "\n",
    "    with torch.no_grad():\n",
    "        try:\n",
    "            model_state_dict = torch.load(i)\n",
    "            model.load_state_dict(model_state_dict)\n",
    "            for (inputs_codes, labels_codes, lengths_codes), (inputs_proteomics, labels_proteomics) in (zip(loader_codes, loader_proteomics)):\n",
    "                inputs_codes, labels = inputs_codes.to(device), labels_codes.to(device)\n",
    "                inputs_proteomics = inputs_proteomics.to(device)\n",
    "                outputs = model(inputs_codes, inputs_proteomics, lengths_codes, True)\n",
    "            latent_rep = outputs[1][0].flatten()\n",
    "            all_outputs.append(latent_rep.cpu().numpy())\n",
    "            model_numbers.append(model_number)\n",
    "            epochs.append(epoch_number)\n",
    "            PT.append('NPT')\n",
    "        except FileNotFoundError:\n",
    "            pass\n",
    "        "
   ]
  },
  {
   "cell_type": "code",
   "execution_count": null,
   "id": "7d3e349d",
   "metadata": {},
   "outputs": [],
   "source": [
    "np.array(all_outputs).shape, len(model_numbers), len(epochs), len(PT)"
   ]
  },
  {
   "cell_type": "code",
   "execution_count": null,
   "id": "71667e2b",
   "metadata": {},
   "outputs": [],
   "source": [
    "epochs = np.array(epochs)"
   ]
  },
  {
   "cell_type": "code",
   "execution_count": null,
   "id": "e75f23d6",
   "metadata": {},
   "outputs": [],
   "source": [
    "# Create a t-SNE instance and fit_transform the data\n",
    "tsne = TSNE(n_components=2, random_state=42, init='pca', learning_rate='auto')\n",
    "\n",
    "embedding = tsne.fit_transform(np.array(all_outputs))\n",
    "\n",
    "\n",
    "line1 = Line2D([0], [0], color='none', marker='o', markersize=10, markerfacecolor='darkred', label='PT')\n",
    "line2 = Line2D([0], [0], color='none', marker='x', markersize=10, markerfacecolor='darkblue', label='NPT')\n",
    "\n",
    "# Create a markers array based on PT array\n",
    "marker_map = {'PT': 'o', 'NPT': 'x'}\n",
    "markers = [marker_map[pt] for pt in PT]\n",
    "\n",
    "# Don't normalize the epochs\n",
    "colors = epochs\n",
    "\n",
    "# Create a colormap that goes from light green to dark blue\n",
    "cmap_pt = LinearSegmentedColormap.from_list(\"mycmap_pt\", [\"lightcoral\", \"darkred\"])\n",
    "cmap_npt = LinearSegmentedColormap.from_list(\"mycmap_npt\", [\"lightblue\", \"darkblue\"])\n",
    "\n",
    "# Plot the results with different markers and colors\n",
    "for marker_type, marker in marker_map.items():\n",
    "    mask = np.array(markers) == marker\n",
    "    cmap = cmap_pt if marker_type == 'PT' else cmap_npt\n",
    "    sc = plt.scatter(embedding[mask, 0], embedding[mask, 1], marker=marker, c=colors[mask], cmap=cmap, alpha = 0.7)\n",
    "\n",
    "plt.gca().set_aspect('equal', 'datalim')\n",
    "# plt.colorbar(sc, label='Epochs')\n",
    "plt.legend(handles=[line1, line2])  # add the custom legend\n",
    "plt.gca().set_xticks([])\n",
    "plt.gca().set_yticks([])\n",
    "plt.title('RNN parameter space', fontsize=14)\n",
    "plt.savefig('./RNN_param_space.png', dpi=1000)"
   ]
  },
  {
   "cell_type": "markdown",
   "id": "234436c9",
   "metadata": {},
   "source": [
    "### Plot losses by epoch"
   ]
  },
  {
   "cell_type": "code",
   "execution_count": null,
   "id": "ed230369",
   "metadata": {},
   "outputs": [],
   "source": [
    "import matplotlib.pyplot as plt\n",
    "import numpy as np\n",
    "import matplotlib.patches as mpatches\n",
    "\n",
    "experiments = ['exp3', 'exp6']\n",
    "colors = ['blue', 'orange']\n",
    "mean_colors = ['black', 'red']\n",
    "\n",
    "plt.figure(figsize=(10, 6))\n",
    "\n",
    "max_epoch = max(max(len(model_data[10]) for model_data in results['DOS'][exp]) for exp in experiments) - 5\n",
    "\n",
    "for experiment, color, mean_color in zip(experiments, colors, mean_colors):\n",
    "    train_losses_all = []\n",
    "    test_losses_all = []\n",
    "    \n",
    "    for model_data in results['DOS'][experiment]:\n",
    "        train_losses = model_data[10][:-5]  # Exclude last 5 epochs\n",
    "        test_losses = model_data[11][:-5]  # Exclude last 5 epochs\n",
    "\n",
    "        train_losses_all.append(train_losses + [np.nan]*(max_epoch-len(train_losses)))\n",
    "        test_losses_all.append(test_losses + [np.nan]*(max_epoch-len(test_losses)))\n",
    "\n",
    "        # Plot each model's losses\n",
    "        plt.plot(train_losses, test_losses, marker='o', linestyle='-', color=color, alpha=0.1)\n",
    "    \n",
    "    # Calculate the mean across each epoch for train and test losses separately\n",
    "    train_losses_mean = np.ma.masked_invalid(train_losses_all).mean(axis=0)\n",
    "    test_losses_mean = np.ma.masked_invalid(test_losses_all).mean(axis=0)\n",
    "\n",
    "    # Sort by training loss\n",
    "    sorted_indices = np.argsort(train_losses_mean)\n",
    "\n",
    "    # Only plot the mean losses when we have at least 5 data points\n",
    "    mask = np.count_nonzero(~np.isnan(train_losses_all), axis=0) >= 5\n",
    "\n",
    "    # Plot the mean losses with the specific color\n",
    "    plt.plot(train_losses_mean[sorted_indices][mask[sorted_indices]], \n",
    "             test_losses_mean[sorted_indices][mask[sorted_indices]], \n",
    "             color=mean_color, linewidth=2.0, label=f\"{experiment} mean\", zorder=100)\n",
    "\n",
    "# Create custom patches for the legend\n",
    "patch1 = mpatches.Patch(color='blue', label='Not PT models')\n",
    "patch2 = mpatches.Patch(color='orange', label='PT models')\n",
    "patch3 = mpatches.Patch(color='black', label='Not PT mean')\n",
    "patch4 = mpatches.Patch(color='red', label='PT mean')\n",
    "\n",
    "plt.gca().set_xscale('log')\n",
    "plt.gca().set_yscale('log')\n",
    "plt.xlabel('Training loss', fontsize=18)\n",
    "plt.ylabel('Test loss', fontsize=18)\n",
    "plt.title('Training losses vs Test losses for different models (log scale)',fontsize=18)\n",
    "plt.legend(handles=[patch1, patch2, patch3, patch4])\n",
    "plt.savefig('./losses.png', dpi=1000)\n"
   ]
  },
  {
   "cell_type": "markdown",
   "id": "b0475014",
   "metadata": {},
   "source": [
    "## Repeat the plots above but with proteomics predictions only"
   ]
  },
  {
   "cell_type": "code",
   "execution_count": null,
   "id": "8dd40445",
   "metadata": {},
   "outputs": [],
   "source": [
    "#return final_pred, (out_ehr, pred_proteomics, pred_ehr, out_combined, final_pred, self.final_combine.weight)\n",
    "device = torch.device('cuda:0' if torch.cuda.is_available() else 'cpu')\n",
    "model = joint_model(RNN_data_codes.shape[2], best_hidden_dim, [best_hidden_dim], best_num_layers, 1,\n",
    "                    OOL_proteomics.shape[1]-2, [], [], best_dropout).to(device)\n",
    "\n",
    "model.eval()\n",
    "\n",
    "criterion = nn.MSELoss()\n",
    "\n",
    "proteomics = OOL_proteomics.merge(patient_indices[['sample_ID','array_index']], how='left', left_on='sample_ID', right_on='sample_ID').drop(['sample_ID','DOS'],axis=1).sort_values('array_index').drop('array_index',axis=1).values\n",
    "\n",
    "scaler = StandardScaler()\n",
    "proteomics = scaler.fit_transform(proteomics)\n",
    "\n",
    "EHR_codes = [torch.tensor(data).float() for data in RNN_data_codes]  \n",
    "EHR_codes = [torch.nan_to_num(x) for x in EHR_codes]\n",
    "proteomics = torch.tensor(proteomics).float()\n",
    "proteomics = torch.nan_to_num(proteomics)\n",
    "outcomes = torch.tensor(RNN_data_outcomes).float()\n",
    "\n",
    "\n",
    "data_set = DataBuilder(proteomics, outcomes, scaler)\n",
    "loader_proteomics = DataLoader(dataset=data_set,batch_size=100000, worker_init_fn=worker_init_fn)\n",
    "loader_codes = create_dataloaders(EHR_codes, outcomes, RNN_data_lengths, 100000)\n",
    "            \n",
    "\n",
    "model_paths = [f'./models/predictive_models/both_OOL_PT_FT_woHCE_wobs_fixed_{i}_epoch{j}.pth' for i in range(25) for j in range(200)]\n",
    "model_number = 0\n",
    "\n",
    "all_outputs = []\n",
    "model_numbers = []\n",
    "epochs = []\n",
    "PT = []\n",
    "\n",
    "for i in tqdm(model_paths):\n",
    "    result = re.search('both_OOL_PT_FT_woHCE_wobs_fixed_(\\d+)_epoch(\\d+).pth', i)\n",
    "    model_number = int(result.group(1))\n",
    "    epoch_number = int(result.group(2))\n",
    "\n",
    "    with torch.no_grad():\n",
    "        try:\n",
    "            model_state_dict = torch.load(i)\n",
    "            model.load_state_dict(model_state_dict)\n",
    "            for (inputs_codes, labels_codes, lengths_codes), (inputs_proteomics, labels_proteomics) in (zip(loader_codes, loader_proteomics)):\n",
    "                inputs_codes, labels = inputs_codes.to(device), labels_codes.to(device)\n",
    "                inputs_proteomics = inputs_proteomics.to(device)\n",
    "                outputs = model(inputs_codes, inputs_proteomics, lengths_codes, interpretability=True)[1][1]\n",
    "            all_outputs.append(outputs.squeeze().cpu().numpy())\n",
    "            model_numbers.append(model_number)\n",
    "            epochs.append(epoch_number)\n",
    "            PT.append('PT')\n",
    "        except FileNotFoundError:\n",
    "            pass\n",
    "\n",
    "model = joint_model(RNN_data_codes.shape[2], best_hidden_dim_OOL, [best_hidden_dim_OOL], best_num_layers_OOL, 1,\n",
    "                    OOL_proteomics.shape[1]-2, [], [], best_dropout_OOL).to(device)\n",
    "\n",
    "model.eval()\n",
    "\n",
    "criterion = nn.MSELoss()\n",
    "\n",
    "proteomics = OOL_proteomics.merge(patient_indices[['sample_ID','array_index']], how='left', left_on='sample_ID', right_on='sample_ID').drop(['sample_ID','DOS'],axis=1).sort_values('array_index').drop('array_index',axis=1).values\n",
    "\n",
    "scaler = StandardScaler()\n",
    "proteomics = scaler.fit_transform(proteomics)\n",
    "\n",
    "EHR_codes = [torch.tensor(data).float() for data in RNN_data_codes_OOL]  \n",
    "EHR_codes = [torch.nan_to_num(x) for x in EHR_codes]\n",
    "proteomics = torch.tensor(proteomics).float()\n",
    "proteomics = torch.nan_to_num(proteomics)\n",
    "outcomes = torch.tensor(RNN_data_outcomes_OOL).float()\n",
    "\n",
    "\n",
    "data_set = DataBuilder(proteomics, outcomes, scaler)\n",
    "loader_proteomics = DataLoader(dataset=data_set,batch_size=100000, worker_init_fn=worker_init_fn)\n",
    "loader_codes = create_dataloaders(EHR_codes, outcomes, RNN_data_lengths_OOL, 100000)\n",
    "            \n",
    "\n",
    "model_paths = [f'./models/predictive_models/both_OOL_only_woHCE_wobs_fixed_{i}_epoch{j}.pth' for i in range(25) for j in range(200)]\n",
    "model_number = 0\n",
    "\n",
    "for i in tqdm(model_paths):\n",
    "    result = re.search('both_OOL_only_woHCE_wobs_fixed_(\\d+)_epoch(\\d+).pth', i)\n",
    "    model_number = int(result.group(1))\n",
    "    epoch_number = int(result.group(2))\n",
    "    if True:\n",
    "        with torch.no_grad():\n",
    "            try:\n",
    "                model_state_dict = torch.load(i)\n",
    "                model.load_state_dict(model_state_dict)\n",
    "                for (inputs_codes, labels_codes, lengths_codes), (inputs_proteomics, labels_proteomics) in (zip(loader_codes, loader_proteomics)):\n",
    "                    inputs_codes, labels = inputs_codes.to(device), labels_codes.to(device)\n",
    "                    inputs_proteomics = inputs_proteomics.to(device)\n",
    "                    outputs = model(inputs_codes, inputs_proteomics, lengths_codes, interpretability=True)[1][1]\n",
    "                all_outputs.append(outputs.squeeze().cpu().numpy())\n",
    "                model_numbers.append(model_number)\n",
    "                epochs.append(epoch_number)\n",
    "                PT.append('NPT')\n",
    "            except FileNotFoundError:\n",
    "                pass\n",
    "        "
   ]
  },
  {
   "cell_type": "code",
   "execution_count": null,
   "id": "a4b82756",
   "metadata": {},
   "outputs": [],
   "source": [
    "epochs = np.array(epochs)"
   ]
  },
  {
   "cell_type": "code",
   "execution_count": null,
   "id": "fa6b7c56",
   "metadata": {},
   "outputs": [],
   "source": [
    "# Create custom lines for the legend\n",
    "line1 = Line2D([0], [0], color='none', marker='o', markersize=10, markerfacecolor='darkred', label='PT')\n",
    "line2 = Line2D([0], [0], color='none', marker='x', markersize=10, markerfacecolor='darkblue', label='NPT')\n",
    "\n",
    "# Create a t-SNE instance and fit_transform the data\n",
    "tsne = TSNE(n_components=2, random_state=42, init='pca', learning_rate='auto')\n",
    "embedding = tsne.fit_transform(np.array(all_outputs))\n",
    "\n",
    "# Create a markers array based on PT array\n",
    "marker_map = {'PT': 'o', 'NPT': 'x'}\n",
    "markers = [marker_map[pt] for pt in PT]\n",
    "\n",
    "# Don't normalize the epochs\n",
    "colors = epochs\n",
    "\n",
    "# Create colormaps that goes from light red to dark red for PT, light blue to dark blue for NPT\n",
    "cmap_pt = LinearSegmentedColormap.from_list(\"mycmap_pt\", [\"lightcoral\", \"darkred\"])\n",
    "cmap_npt = LinearSegmentedColormap.from_list(\"mycmap_npt\", [\"lightblue\", \"darkblue\"])\n",
    "\n",
    "# Plot the results with different markers and colors\n",
    "for marker_type, marker in marker_map.items():\n",
    "    mask = np.array(markers) == marker\n",
    "    cmap = cmap_pt if marker_type == 'PT' else cmap_npt\n",
    "    sc = plt.scatter(embedding[mask, 0], embedding[mask, 1], marker=marker, c=colors[mask], cmap=cmap, alpha = 0.7)\n",
    "\n",
    "plt.gca().set_aspect('equal', 'datalim')\n",
    "plt.gca().set_xticks([])\n",
    "plt.gca().set_yticks([])\n",
    "plt.title('Protein parameter space', fontsize=14)\n",
    "plt.legend(handles=[line1, line2])  # add the custom legend\n",
    "plt.savefig('./protein_params.png', dpi=1000)\n"
   ]
  },
  {
   "cell_type": "code",
   "execution_count": null,
   "id": "ba43fa64",
   "metadata": {},
   "outputs": [],
   "source": [
    "# Perform t-SNE dimensionality reduction\n",
    "tsne = TSNE(n_components=2, random_state=42, init='pca', learning_rate='auto')\n",
    "embedding = tsne.fit_transform(np.array(all_outputs))\n",
    "\n",
    "# Create colormaps that go from light red to dark red for PT, and light blue to dark blue for NPT\n",
    "cmap_pt = LinearSegmentedColormap.from_list(\"mycmap_pt\", [\"lightcoral\", \"darkred\"])\n",
    "cmap_npt = LinearSegmentedColormap.from_list(\"mycmap_npt\", [\"lightblue\", \"darkblue\"])\n",
    "\n",
    "fig, axs = plt.subplots(5, 5, figsize=(20, 20))\n",
    "\n",
    "# Calculate the global x and y limits\n",
    "xlim = (embedding[:,0].min()-1, embedding[:,0].max()+1)\n",
    "ylim = (embedding[:,1].min()-1, embedding[:,1].max()+1)\n",
    "\n",
    "for model_number in range(25):\n",
    "    ax = axs[model_number // 5, model_number % 5]\n",
    "\n",
    "    for model_type in ['PT', 'NPT']:\n",
    "        # Get mask for the current trajectory\n",
    "        mask = (np.array(model_numbers) == model_number) & (np.array(PT) == model_type)\n",
    "\n",
    "        # Get the points and corresponding epochs for the current trajectory\n",
    "        trajectory_points = embedding[mask]\n",
    "        trajectory_epochs = np.array(epochs)[mask]\n",
    "\n",
    "        # Sort the points and epochs\n",
    "        sort_indices = np.argsort(trajectory_epochs)\n",
    "        sorted_points = trajectory_points[sort_indices]\n",
    "\n",
    "        # Select the colormap based on model_type\n",
    "        cmap = cmap_pt if model_type == 'PT' else cmap_npt\n",
    "\n",
    "        # Plot the points with color indicating epoch and marker indicating PT/NPT\n",
    "        ax.scatter(sorted_points[:, 0], sorted_points[:, 1], \n",
    "                   c=trajectory_epochs[sort_indices], \n",
    "                   cmap=cmap, \n",
    "                   marker=marker_map[model_type], \n",
    "                   alpha=0.6)\n",
    "\n",
    "        # Plot lines connecting the points of the same model type\n",
    "        ax.plot(sorted_points[:, 0], sorted_points[:, 1], \n",
    "                color='lightgrey' if model_type == 'PT' else 'black', \n",
    "                linestyle='--')\n",
    "\n",
    "    ax.set_aspect('auto')\n",
    "    ax.set_xlim(xlim)\n",
    "    ax.set_ylim(ylim)\n",
    "\n",
    "    # Turn off tick labels\n",
    "    ax.set_xticklabels([])\n",
    "    ax.set_yticklabels([])\n",
    "    ax.set_xticks([])\n",
    "    ax.set_yticks([])\n",
    "\n",
    "plt.tight_layout()\n",
    "plt.savefig('./protein_paths_ool.png',dpi=1000)\n"
   ]
  },
  {
   "cell_type": "markdown",
   "id": "46054d61",
   "metadata": {},
   "source": [
    "## Again, with the joint predictions"
   ]
  },
  {
   "cell_type": "code",
   "execution_count": null,
   "id": "eeeca848",
   "metadata": {},
   "outputs": [],
   "source": [
    "#return final_pred, (out_ehr, pred_proteomics, pred_ehr, out_combined, final_pred, self.final_combine.weight)\n",
    "device = torch.device('cuda:0' if torch.cuda.is_available() else 'cpu')\n",
    "model = joint_model(RNN_data_codes.shape[2], best_hidden_dim, [best_hidden_dim], best_num_layers, 1,\n",
    "                    OOL_proteomics.shape[1]-2, [], [], best_dropout).to(device)\n",
    "\n",
    "model.eval()\n",
    "\n",
    "criterion = nn.MSELoss()\n",
    "\n",
    "proteomics = OOL_proteomics.merge(patient_indices[['sample_ID','array_index']], how='left', left_on='sample_ID', right_on='sample_ID').drop(['sample_ID','DOS'],axis=1).sort_values('array_index').drop('array_index',axis=1).values\n",
    "\n",
    "scaler = StandardScaler()\n",
    "proteomics = scaler.fit_transform(proteomics)\n",
    "\n",
    "EHR_codes = [torch.tensor(data).float() for data in RNN_data_codes]  \n",
    "EHR_codes = [torch.nan_to_num(x) for x in EHR_codes]\n",
    "proteomics = torch.tensor(proteomics).float()\n",
    "proteomics = torch.nan_to_num(proteomics)\n",
    "outcomes = torch.tensor(RNN_data_outcomes).float()\n",
    "\n",
    "\n",
    "data_set = DataBuilder(proteomics, outcomes, scaler)\n",
    "loader_proteomics = DataLoader(dataset=data_set,batch_size=100000, worker_init_fn=worker_init_fn)\n",
    "loader_codes = create_dataloaders(EHR_codes, outcomes, RNN_data_lengths, 100000)\n",
    "            \n",
    "    \n",
    "model_paths = [f'./models/predictive_models/both_OOL_PT_FT_woHCE_wobs_fixed_{i}_epoch{j}.pth' for i in range(25) for j in range(200)]\n",
    "model_number = 0\n",
    "\n",
    "all_outputs = []\n",
    "model_numbers = []\n",
    "epochs = []\n",
    "PT = []\n",
    "\n",
    "for i in tqdm(model_paths):\n",
    "    result = re.search('both_OOL_PT_FT_woHCE_wobs_fixed_(\\d+)_epoch(\\d+).pth', i)\n",
    "    model_number = int(result.group(1))\n",
    "    epoch_number = int(result.group(2))\n",
    "\n",
    "    with torch.no_grad():\n",
    "        try:\n",
    "            model_state_dict = torch.load(i)\n",
    "            model.load_state_dict(model_state_dict)\n",
    "            for (inputs_codes, labels_codes, lengths_codes), (inputs_proteomics, labels_proteomics) in (zip(loader_codes, loader_proteomics)):\n",
    "                inputs_codes, labels = inputs_codes.to(device), labels_codes.to(device)\n",
    "                inputs_proteomics = inputs_proteomics.to(device)\n",
    "                outputs = model(inputs_codes, inputs_proteomics, lengths_codes, interpretability=True)[1][3]\n",
    "            all_outputs.append(outputs.squeeze().cpu().numpy())\n",
    "            model_numbers.append(model_number)\n",
    "            epochs.append(epoch_number)\n",
    "            PT.append('PT')\n",
    "        except FileNotFoundError:\n",
    "            pass\n",
    "model = joint_model(RNN_data_codes.shape[2], best_hidden_dim_OOL, [best_hidden_dim_OOL], best_num_layers_OOL, 1,\n",
    "                    OOL_proteomics.shape[1]-2, [], [], best_dropout_OOL).to(device)\n",
    "\n",
    "model.eval()\n",
    "model_paths = [f'./models/predictive_models/both_OOL_only_woHCE_wobs_fixed_{i}_epoch{j}.pth' for i in range(25) for j in range(200)]\n",
    "model_number = 0\n",
    "\n",
    "for i in tqdm(model_paths):\n",
    "    result = re.search('both_OOL_only_woHCE_wobs_fixed_(\\d+)_epoch(\\d+).pth', i)\n",
    "    model_number = int(result.group(1))\n",
    "    epoch_number = int(result.group(2))\n",
    "    if True:\n",
    "        with torch.no_grad():\n",
    "            try:\n",
    "                model_state_dict = torch.load(i)\n",
    "                model.load_state_dict(model_state_dict)\n",
    "                for (inputs_codes, labels_codes, lengths_codes), (inputs_proteomics, labels_proteomics) in (zip(loader_codes, loader_proteomics)):\n",
    "                    inputs_codes, labels = inputs_codes.to(device), labels_codes.to(device)\n",
    "                    inputs_proteomics = inputs_proteomics.to(device)\n",
    "                    outputs = model(inputs_codes, inputs_proteomics, lengths_codes, interpretability=True)[1][3]\n",
    "                all_outputs.append(outputs.squeeze().cpu().numpy())\n",
    "                model_numbers.append(model_number)\n",
    "                epochs.append(epoch_number)\n",
    "                PT.append('NPT')\n",
    "            except FileNotFoundError:\n",
    "                pass\n",
    "        "
   ]
  },
  {
   "cell_type": "code",
   "execution_count": null,
   "id": "f76cd18c",
   "metadata": {},
   "outputs": [],
   "source": [
    "epochs = np.array(epochs)"
   ]
  },
  {
   "cell_type": "code",
   "execution_count": null,
   "id": "cc00bb06",
   "metadata": {},
   "outputs": [],
   "source": [
    "# Create custom lines for the legend\n",
    "line1 = Line2D([0], [0], color='none', marker='o', markersize=10, markerfacecolor='black', label='PT')\n",
    "line2 = Line2D([0], [0], color='none', marker='x', markersize=10, markerfacecolor='black', label='NPT')\n",
    "\n",
    "# Create a t-SNE instance and fit_transform the data\n",
    "tsne = TSNE(n_components=2, random_state=42, init='pca', learning_rate='auto')\n",
    "embedding = tsne.fit_transform(np.array(all_outputs))\n",
    "\n",
    "# Create a markers array based on PT array\n",
    "marker_map = {'PT': 'o', 'NPT': 'x'}\n",
    "markers = [marker_map[pt] for pt in PT]\n",
    "\n",
    "# Don't normalize the epochs\n",
    "colors = epochs\n",
    "\n",
    "# Create colormaps that goes from light red to dark red for PT, light blue to dark blue for NPT\n",
    "cmap_pt = LinearSegmentedColormap.from_list(\"mycmap_pt\", [\"lightcoral\", \"darkred\"])\n",
    "cmap_npt = LinearSegmentedColormap.from_list(\"mycmap_npt\", [\"lightblue\", \"darkblue\"])\n",
    "\n",
    "# Plot the results with different markers and colors\n",
    "for marker_type, marker in marker_map.items():\n",
    "    mask = np.array(markers) == marker\n",
    "    cmap = cmap_pt if marker_type == 'PT' else cmap_npt\n",
    "    sc = plt.scatter(embedding[mask, 0], embedding[mask, 1], marker=marker, c=colors[mask], cmap=cmap, alpha = 0.7)\n",
    "\n",
    "plt.gca().set_aspect('equal', 'datalim')\n",
    "plt.gca().set_xticks([])\n",
    "plt.gca().set_yticks([])\n",
    "plt.title('Joint EHR-protein parameter space', fontsize=16)\n",
    "plt.legend(handles=[line1, line2])  # add the custom legend\n",
    "plt.savefig('./joint_params.png',dpi=1000)\n"
   ]
  },
  {
   "cell_type": "code",
   "execution_count": null,
   "id": "7b353700",
   "metadata": {},
   "outputs": [],
   "source": [
    "# Perform t-SNE dimensionality reduction\n",
    "tsne = TSNE(n_components=2, random_state=42, init='pca', learning_rate='auto')\n",
    "embedding = tsne.fit_transform(np.array(all_outputs))\n",
    "\n",
    "# Create colormaps that go from light red to dark red for PT, and light blue to dark blue for NPT\n",
    "cmap_pt = LinearSegmentedColormap.from_list(\"mycmap_pt\", [\"lightcoral\", \"darkred\"])\n",
    "cmap_npt = LinearSegmentedColormap.from_list(\"mycmap_npt\", [\"lightblue\", \"darkblue\"])\n",
    "\n",
    "fig, axs = plt.subplots(5, 5, figsize=(20, 20))\n",
    "\n",
    "# Calculate the global x and y limits\n",
    "xlim = (embedding[:,0].min()-1, embedding[:,0].max()+1)\n",
    "ylim = (embedding[:,1].min()-1, embedding[:,1].max()+1)\n",
    "\n",
    "for model_number in range(25):\n",
    "    ax = axs[model_number // 5, model_number % 5]\n",
    "\n",
    "    for model_type in ['PT', 'NPT']:\n",
    "        # Get mask for the current trajectory\n",
    "        mask = (np.array(model_numbers) == model_number) & (np.array(PT) == model_type)\n",
    "\n",
    "        # Get the points and corresponding epochs for the current trajectory\n",
    "        trajectory_points = embedding[mask]\n",
    "        trajectory_epochs = np.array(epochs)[mask]\n",
    "\n",
    "        # Sort the points and epochs\n",
    "        sort_indices = np.argsort(trajectory_epochs)\n",
    "        sorted_points = trajectory_points[sort_indices]\n",
    "\n",
    "        # Select the colormap based on model_type\n",
    "        cmap = cmap_pt if model_type == 'PT' else cmap_npt\n",
    "\n",
    "        # Plot the points with color indicating epoch and marker indicating PT/NPT\n",
    "        ax.scatter(sorted_points[:, 0], sorted_points[:, 1], \n",
    "                   c=trajectory_epochs[sort_indices], \n",
    "                   cmap=cmap, \n",
    "                   marker=marker_map[model_type], \n",
    "                   alpha=0.6)\n",
    "\n",
    "        # Plot lines connecting the points of the same model type\n",
    "        ax.plot(sorted_points[:, 0], sorted_points[:, 1], \n",
    "                color='lightgrey' if model_type == 'PT' else 'black', \n",
    "                linestyle='--')\n",
    "\n",
    "    ax.set_aspect('auto')\n",
    "    ax.set_xlim(xlim)\n",
    "    ax.set_ylim(ylim)\n",
    "\n",
    "    # Turn off tick labels\n",
    "    ax.set_xticklabels([])\n",
    "    ax.set_yticklabels([])\n",
    "    ax.set_xticks([])\n",
    "    ax.set_yticks([])\n",
    "\n",
    "plt.tight_layout()\n",
    "plt.savefig('./joint_paths_ool.png',dpi=1000)\n"
   ]
  },
  {
   "cell_type": "markdown",
   "id": "916d7b88",
   "metadata": {},
   "source": [
    "## Lastly, EHR predictions (not latent space like above)"
   ]
  },
  {
   "cell_type": "code",
   "execution_count": null,
   "id": "c3b86277",
   "metadata": {},
   "outputs": [],
   "source": [
    "#return final_pred, (out_ehr, pred_proteomics, pred_ehr, out_combined, final_pred, self.final_combine.weight)\n",
    "device = torch.device('cuda:0' if torch.cuda.is_available() else 'cpu')\n",
    "model = joint_model(RNN_data_codes.shape[2], best_hidden_dim, [best_hidden_dim], best_num_layers, 1,\n",
    "                    OOL_proteomics.shape[1]-2, [], [], best_dropout).to(device)\n",
    "\n",
    "model.eval()\n",
    "\n",
    "criterion = nn.MSELoss()\n",
    "\n",
    "proteomics = OOL_proteomics.merge(patient_indices[['sample_ID','array_index']], how='left', left_on='sample_ID', right_on='sample_ID').drop(['sample_ID','DOS'],axis=1).sort_values('array_index').drop('array_index',axis=1).values\n",
    "\n",
    "scaler = StandardScaler()\n",
    "proteomics = scaler.fit_transform(proteomics)\n",
    "\n",
    "EHR_codes = [torch.tensor(data).float() for data in RNN_data_codes]  \n",
    "EHR_codes = [torch.nan_to_num(x) for x in EHR_codes]\n",
    "proteomics = torch.tensor(proteomics).float()\n",
    "proteomics = torch.nan_to_num(proteomics)\n",
    "outcomes = torch.tensor(RNN_data_outcomes).float()\n",
    "\n",
    "\n",
    "data_set = DataBuilder(proteomics, outcomes, scaler)\n",
    "loader_proteomics = DataLoader(dataset=data_set,batch_size=100000, worker_init_fn=worker_init_fn)\n",
    "loader_codes = create_dataloaders(EHR_codes, outcomes, RNN_data_lengths, 100000)\n",
    "            \n",
    "model_paths = [f'./models/predictive_models/both_OOL_PT_FT_woHCE_wobs_fixed_{i}_epoch{j}.pth' for i in range(25) for j in range(200)]\n",
    "model_number = 0\n",
    "\n",
    "all_outputs = []\n",
    "model_numbers = []\n",
    "epochs = []\n",
    "PT = []\n",
    "\n",
    "for i in tqdm(model_paths):\n",
    "    result = re.search('both_OOL_PT_FT_woHCE_wobs_fixed_(\\d+)_epoch(\\d+).pth', i)\n",
    "    model_number = int(result.group(1))\n",
    "    epoch_number = int(result.group(2))\n",
    "\n",
    "    with torch.no_grad():\n",
    "        try:\n",
    "            model_state_dict = torch.load(i)\n",
    "            model.load_state_dict(model_state_dict)\n",
    "            for (inputs_codes, labels_codes, lengths_codes), (inputs_proteomics, labels_proteomics) in (zip(loader_codes, loader_proteomics)):\n",
    "                inputs_codes, labels = inputs_codes.to(device), labels_codes.to(device)\n",
    "                inputs_proteomics = inputs_proteomics.to(device)\n",
    "                outputs = model(inputs_codes, inputs_proteomics, lengths_codes, interpretability=True)[1][2]\n",
    "            all_outputs.append(outputs.squeeze().cpu().numpy())\n",
    "            model_numbers.append(model_number)\n",
    "            epochs.append(epoch_number)\n",
    "            PT.append('PT')\n",
    "        except FileNotFoundError:\n",
    "            pass\n",
    "model = joint_model(RNN_data_codes.shape[2], best_hidden_dim_OOL, [best_hidden_dim_OOL], best_num_layers_OOL, 1,\n",
    "                    OOL_proteomics.shape[1]-2, [], [], best_dropout_OOL).to(device)\n",
    "\n",
    "model.eval() \n",
    "model_paths = [f'./models/predictive_models/both_OOL_only_woHCE_wobs_fixed_{i}_epoch{j}.pth' for i in range(25) for j in range(200)]\n",
    "model_number = 0\n",
    "\n",
    "for i in tqdm(model_paths):\n",
    "    result = re.search('both_OOL_only_woHCE_wobs_fixed_(\\d+)_epoch(\\d+).pth', i)\n",
    "    model_number = int(result.group(1))\n",
    "    epoch_number = int(result.group(2))\n",
    "    if True:\n",
    "        with torch.no_grad():\n",
    "            try:\n",
    "                model_state_dict = torch.load(i)\n",
    "                model.load_state_dict(model_state_dict)\n",
    "                for (inputs_codes, labels_codes, lengths_codes), (inputs_proteomics, labels_proteomics) in (zip(loader_codes, loader_proteomics)):\n",
    "                    inputs_codes, labels = inputs_codes.to(device), labels_codes.to(device)\n",
    "                    inputs_proteomics = inputs_proteomics.to(device)\n",
    "                    outputs = model(inputs_codes, inputs_proteomics, lengths_codes, interpretability=True)[1][2]\n",
    "                all_outputs.append(outputs.squeeze().cpu().numpy())\n",
    "                model_numbers.append(model_number)\n",
    "                epochs.append(epoch_number)\n",
    "                PT.append('NPT')\n",
    "            except FileNotFoundError:\n",
    "                pass\n",
    "        "
   ]
  },
  {
   "cell_type": "code",
   "execution_count": null,
   "id": "19b83d53",
   "metadata": {},
   "outputs": [],
   "source": [
    "epochs = np.array(epochs)\n",
    "# Create custom lines for the legend\n",
    "line1 = Line2D([0], [0], color='none', marker='o', markersize=10, markerfacecolor='black', label='PT')\n",
    "line2 = Line2D([0], [0], color='none', marker='x', markersize=10, markerfacecolor='black', label='NPT')\n",
    "\n",
    "# Create a t-SNE instance and fit_transform the data\n",
    "tsne = TSNE(n_components=2, random_state=42, init='pca', learning_rate='auto')\n",
    "embedding = tsne.fit_transform(np.array(all_outputs))\n",
    "\n",
    "# Create a markers array based on PT array\n",
    "marker_map = {'PT': 'o', 'NPT': 'x'}\n",
    "markers = [marker_map[pt] for pt in PT]\n",
    "\n",
    "# Don't normalize the epochs\n",
    "colors = epochs\n",
    "\n",
    "# Create colormaps that goes from light red to dark red for PT, light blue to dark blue for NPT\n",
    "cmap_pt = LinearSegmentedColormap.from_list(\"mycmap_pt\", [\"lightcoral\", \"darkred\"])\n",
    "cmap_npt = LinearSegmentedColormap.from_list(\"mycmap_npt\", [\"lightblue\", \"darkblue\"])\n",
    "\n",
    "# Plot the results with different markers and colors\n",
    "for marker_type, marker in marker_map.items():\n",
    "    mask = np.array(markers) == marker\n",
    "    cmap = cmap_pt if marker_type == 'PT' else cmap_npt\n",
    "    sc = plt.scatter(embedding[mask, 0], embedding[mask, 1], marker=marker, c=colors[mask], cmap=cmap, alpha = 0.7)\n",
    "\n",
    "plt.gca().set_aspect('equal', 'datalim')\n",
    "plt.gca().set_xticks([])\n",
    "plt.gca().set_yticks([])\n",
    "plt.title('EHR parameter space', fontsize=14)\n",
    "plt.legend(handles=[line1, line2])  # add the custom legend\n",
    "plt.savefig('./EHR_param_space.png',dpi=1000)\n"
   ]
  },
  {
   "cell_type": "code",
   "execution_count": null,
   "id": "863c7bd0",
   "metadata": {},
   "outputs": [],
   "source": [
    "# Perform t-SNE dimensionality reduction\n",
    "tsne = TSNE(n_components=2, random_state=42, init='pca', learning_rate='auto')\n",
    "embedding = tsne.fit_transform(np.array(all_outputs))\n",
    "\n",
    "# Create colormaps that go from light red to dark red for PT, and light blue to dark blue for NPT\n",
    "cmap_pt = LinearSegmentedColormap.from_list(\"mycmap_pt\", [\"lightcoral\", \"darkred\"])\n",
    "cmap_npt = LinearSegmentedColormap.from_list(\"mycmap_npt\", [\"lightblue\", \"darkblue\"])\n",
    "\n",
    "fig, axs = plt.subplots(5, 5, figsize=(20, 20))\n",
    "\n",
    "# Calculate the global x and y limits\n",
    "xlim = (embedding[:,0].min()-1, embedding[:,0].max()+1)\n",
    "ylim = (embedding[:,1].min()-1, embedding[:,1].max()+1)\n",
    "\n",
    "for model_number in range(25):\n",
    "    ax = axs[model_number // 5, model_number % 5]\n",
    "\n",
    "    for model_type in ['PT', 'NPT']:\n",
    "        # Get mask for the current trajectory\n",
    "        mask = (np.array(model_numbers) == model_number) & (np.array(PT) == model_type)\n",
    "\n",
    "        # Get the points and corresponding epochs for the current trajectory\n",
    "        trajectory_points = embedding[mask]\n",
    "        trajectory_epochs = np.array(epochs)[mask]\n",
    "\n",
    "        # Sort the points and epochs\n",
    "        sort_indices = np.argsort(trajectory_epochs)\n",
    "        sorted_points = trajectory_points[sort_indices]\n",
    "\n",
    "        # Select the colormap based on model_type\n",
    "        cmap = cmap_pt if model_type == 'PT' else cmap_npt\n",
    "\n",
    "        # Plot the points with color indicating epoch and marker indicating PT/NPT\n",
    "        ax.scatter(sorted_points[:, 0], sorted_points[:, 1], \n",
    "                   c=trajectory_epochs[sort_indices], \n",
    "                   cmap=cmap, \n",
    "                   marker=marker_map[model_type], \n",
    "                   alpha=0.6)\n",
    "\n",
    "        # Plot lines connecting the points of the same model type\n",
    "        ax.plot(sorted_points[:, 0], sorted_points[:, 1], \n",
    "                color='lightgrey' if model_type == 'PT' else 'black', \n",
    "                linestyle='--')\n",
    "\n",
    "    ax.set_aspect('auto')\n",
    "    ax.set_xlim(xlim)\n",
    "    ax.set_ylim(ylim)\n",
    "\n",
    "    # Turn off tick labels\n",
    "    ax.set_xticklabels([])\n",
    "    ax.set_yticklabels([])\n",
    "    ax.set_xticks([])\n",
    "    ax.set_yticks([])\n",
    "\n",
    "plt.tight_layout()\n",
    "plt.savefig('./EHR_paths_ool.png',dpi=1000)\n"
   ]
  },
  {
   "cell_type": "code",
   "execution_count": null,
   "id": "84dae772",
   "metadata": {},
   "outputs": [],
   "source": []
  }
 ],
 "metadata": {
  "kernelspec": {
   "display_name": "Python 3 (ipykernel)",
   "language": "python",
   "name": "python3"
  },
  "language_info": {
   "codemirror_mode": {
    "name": "ipython",
    "version": 3
   },
   "file_extension": ".py",
   "mimetype": "text/x-python",
   "name": "python",
   "nbconvert_exporter": "python",
   "pygments_lexer": "ipython3",
   "version": "3.10.6"
  }
 },
 "nbformat": 4,
 "nbformat_minor": 5
}
